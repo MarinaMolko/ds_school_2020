{
  "nbformat": 4,
  "nbformat_minor": 0,
  "metadata": {
    "colab": {
      "name": "Homework 5 Strokatov.ipynb",
      "provenance": [],
      "collapsed_sections": [],
      "authorship_tag": "ABX9TyPckS3NgxLy+j1a6kAQ57Jp",
      "include_colab_link": true
    },
    "kernelspec": {
      "name": "python3",
      "display_name": "Python 3"
    }
  },
  "cells": [
    {
      "cell_type": "markdown",
      "metadata": {
        "id": "view-in-github",
        "colab_type": "text"
      },
      "source": [
        "<a href=\"https://colab.research.google.com/github/DavidDaimond/ds_school_2020/blob/master/task%205/Homework_5_Strokatov.ipynb\" target=\"_parent\"><img src=\"https://colab.research.google.com/assets/colab-badge.svg\" alt=\"Open In Colab\"/></a>"
      ]
    },
    {
      "cell_type": "code",
      "metadata": {
        "id": "t8MJuc9K6rAU",
        "colab_type": "code",
        "outputId": "0401b07d-4cbf-4d74-f337-59d19f93f90f",
        "colab": {
          "base_uri": "https://localhost:8080/",
          "height": 34
        }
      },
      "source": [
        "import numpy as np\n",
        "import matplotlib.pyplot as plt\n",
        "\n",
        "from keras.datasets import imdb\n",
        "from keras import preprocessing\n",
        "import tensorflow_datasets as tfds"
      ],
      "execution_count": 0,
      "outputs": [
        {
          "output_type": "stream",
          "text": [
            "Using TensorFlow backend.\n"
          ],
          "name": "stderr"
        }
      ]
    },
    {
      "cell_type": "code",
      "metadata": {
        "id": "lh-mpoOadqT-",
        "colab_type": "code",
        "colab": {}
      },
      "source": [
        "#Yea, we import 2 datasets - one for sklearn and one for tensorflow/keras models\n",
        "\n",
        "ds, info = tfds.load('imdb_reviews', with_info=True,\n",
        "                          as_supervised=True)\n",
        "train_ex, test_ex = ds['train'], ds['test']\n",
        "\n",
        "max_features = 10000\n",
        "maxlen = 25"
      ],
      "execution_count": 0,
      "outputs": []
    },
    {
      "cell_type": "code",
      "metadata": {
        "id": "P_ZY_hxEdlfy",
        "colab_type": "code",
        "colab": {}
      },
      "source": [
        "train_ex = [x for x in train_ex.as_numpy_iterator()]\n",
        "test_ex = [x for x in test_ex.as_numpy_iterator()] #Transform data to a numpy arrays"
      ],
      "execution_count": 0,
      "outputs": []
    },
    {
      "cell_type": "code",
      "metadata": {
        "id": "tJ-UJJTvFDzK",
        "colab_type": "code",
        "outputId": "776b7721-cfb3-4ab1-9a4a-f384895bae3d",
        "colab": {
          "base_uri": "https://localhost:8080/",
          "height": 207
        }
      },
      "source": [
        "train_ex[:5]"
      ],
      "execution_count": 0,
      "outputs": [
        {
          "output_type": "execute_result",
          "data": {
            "text/plain": [
              "[(b\"This was an absolutely terrible movie. Don't be lured in by Christopher Walken or Michael Ironside. Both are great actors, but this must simply be their worst role in history. Even their great acting could not redeem this movie's ridiculous storyline. This movie is an early nineties US propaganda piece. The most pathetic scenes were those when the Columbian rebels were making their cases for revolutions. Maria Conchita Alonso appeared phony, and her pseudo-love affair with Walken was nothing but a pathetic emotional plug in a movie that was devoid of any real meaning. I am disappointed that there are movies like this, ruining actor's like Christopher Walken's good name. I could barely sit through it.\",\n",
              "  0),\n",
              " (b'I have been known to fall asleep during films, but this is usually due to a combination of things including, really tired, being warm and comfortable on the sette and having just eaten a lot. However on this occasion I fell asleep because the film was rubbish. The plot development was constant. Constantly slow and boring. Things seemed to happen, but with no explanation of what was causing them or why. I admit, I may have missed part of the film, but i watched the majority of it and everything just seemed to happen of its own accord without any real concern for anything else. I cant recommend this film at all.',\n",
              "  0),\n",
              " (b'Mann photographs the Alberta Rocky Mountains in a superb fashion, and Jimmy Stewart and Walter Brennan give enjoyable performances as they always seem to do. <br /><br />But come on Hollywood - a Mountie telling the people of Dawson City, Yukon to elect themselves a marshal (yes a marshal!) and to enforce the law themselves, then gunfighters battling it out on the streets for control of the town? <br /><br />Nothing even remotely resembling that happened on the Canadian side of the border during the Klondike gold rush. Mr. Mann and company appear to have mistaken Dawson City for Deadwood, the Canadian North for the American Wild West.<br /><br />Canadian viewers be prepared for a Reefer Madness type of enjoyable howl with this ludicrous plot, or, to shake your head in disgust.',\n",
              "  0),\n",
              " (b'This is the kind of film for a snowy Sunday afternoon when the rest of the world can go ahead with its own business as you descend into a big arm-chair and mellow for a couple of hours. Wonderful performances from Cher and Nicolas Cage (as always) gently row the plot along. There are no rapids to cross, no dangerous waters, just a warm and witty paddle through New York life at its best. A family film in every sense and one that deserves the praise it received.',\n",
              "  1),\n",
              " (b'As others have mentioned, all the women that go nude in this film are mostly absolutely gorgeous. The plot very ably shows the hypocrisy of the female libido. When men are around they want to be pursued, but when no \"men\" are around, they become the pursuers of a 14 year old boy. And the boy becomes a man really fast (we should all be so lucky at this age!). He then gets up the courage to pursue his true love.',\n",
              "  1)]"
            ]
          },
          "metadata": {
            "tags": []
          },
          "execution_count": 4
        }
      ]
    },
    {
      "cell_type": "code",
      "metadata": {
        "id": "V5wo5_1jFJDU",
        "colab_type": "code",
        "outputId": "63dc4aa3-68a6-4122-f999-278373efb043",
        "colab": {
          "base_uri": "https://localhost:8080/",
          "height": 105
        }
      },
      "source": [
        "#divide it to the\n",
        "x_train, y_train = np.array([x[0] for x in train_ex]), np.array([y[1] for y in train_ex])\n",
        "x_test, y_test = np.array([x[0] for x in test_ex]), np.array([y[1] for y in test_ex])\n",
        "\n",
        "#look at the random \n",
        "x_train[42], y_train[42], x_test[42], y_test[42]"
      ],
      "execution_count": 0,
      "outputs": [
        {
          "output_type": "execute_result",
          "data": {
            "text/plain": [
              "(b'One of the weaker Carry On adventures sees Sid James as the head of a crime gang stealing contraceptive pills. The fourth of the series to be hospital-based, it\\'s possibly the least of the genre. There\\'s a curiously flat feel throughout, with all seemingly squandered on below-par material. This is far from the late-70s nadir, but Williams, James, Bresslaw, Maynard et al. are all class performers yet not given the backing of a script equal to their ability.<br /><br />Most of the gags are onrunning, rather than episodic as Carry Ons usually are. So that instead of the traditional hit and miss ratio, if you don\\'t find the joke funny in the first place you\\'re stuck with it for most of the film. These continuous plot strands include Williams \\xc2\\x96 for no good reason \\xc2\\x96 worrying that he\\'s changing sex, and Kenneth Cope in drag. Like the stagy physical pratt falls, the whole thing feels more contrived than in other movies, and lacking in cast interest. Continuing this theme, Matron lacks the customary pun and innuendo format, largely opting for characterisation and consequence to provide the humour. In fact, the somewhat puerile series of laboured misunderstandings and forced circumstance reminds one more of Terry and June ... so it\\'s appropriate that Terry Scott is present, mugging futilely throughout.<br /><br />Some dialogue exchanges have a bit of the old magic, such as this between Scott and Cope: \"What about a little drink?\" \"Oh, no, no, I never touch it.\" \"Oh. Cigarette then?\" \"No, I never touch them.\" \"That leaves only one thing to offer you.\" \"I never touch that either.\" That said, while a funny man in his own right (livening up the duller episodes of Randall and Hopkirk (Deceased) no end), you do feel that Cope isn\\'t quite tapped in to the self-parodying Carry On idealology and that Bernard Bresslaw dressed as a nurse would be far funnier. This does actually happen, in part, though only for the last fifteen minutes.<br /><br />Williams attempting to seduce Hattie Jacques while Charles Hawtrey is hiding in a cupboard is pure drawer room farce, but lacks the irony to carry it off. That said, Williams\\'s description of premarital relations is priceless: \"You don\\'t just go into the shop and buy enough for the whole room, you tear yourself off a little strip and try it first!\" \"That may be so,\" counters Jacques, \"but you\\'re not going to stick me up against a wall.\" Williams really comes to life in his scenes with Hattie, and you can never get bored of hearing a tin whistle whenever someone accidentally flashes their knickers.<br /><br />Carry On Matron is not a bad film by any means, just a crushingly bog-standard one.',\n",
              " 0,\n",
              " b\"I saw House Party 1-3 and I loved them but this one wasn't funny at all.First it can't be a House Party movie without Kid n'Play right? This one sucks and it was more like a black version of Ferris Bueller's Day Off than a House Party movie.Second who the heck is John-John?These new character's can't even compare to the ones from the other three movies.Now i know why they put it straight to video.It has horrible music, weak plot, untalented actors,and no hilarious jokes at all.My advice,watch this movie at night only if you can't get to sleep.They should have ended the series after House Party 3 since Kid'n'Play separated after that one.I hate this one am glad my local video store doesn't have this film and never want to buy it or want to see it on Comedy Central either.Just because Chris Strokes has talent managing an up-and-coming R&B group doesn't mean he has talent directing and producing films am I right or what? Finally, the female characters were all dressed up like cheap two-dollar hookers throughout most of the flick.IMX separated a year after this flick got released probably due to the failure of this film and are all but forgotten nowadays. In simplier terms this movie just plain old sucks!!!!\",\n",
              " 0)"
            ]
          },
          "metadata": {
            "tags": []
          },
          "execution_count": 5
        }
      ]
    },
    {
      "cell_type": "code",
      "metadata": {
        "id": "CeB3FU29F2Vk",
        "colab_type": "code",
        "outputId": "63a4f11d-d5cb-4c50-9e26-b631336c79d4",
        "colab": {
          "base_uri": "https://localhost:8080/",
          "height": 34
        }
      },
      "source": [
        "y_train.dtype"
      ],
      "execution_count": 0,
      "outputs": [
        {
          "output_type": "execute_result",
          "data": {
            "text/plain": [
              "dtype('int64')"
            ]
          },
          "metadata": {
            "tags": []
          },
          "execution_count": 6
        }
      ]
    },
    {
      "cell_type": "code",
      "metadata": {
        "id": "yM__QH2kG-qo",
        "colab_type": "code",
        "outputId": "bdb5168a-d8e4-47e4-ebde-2bfbb4d9940b",
        "colab": {
          "base_uri": "https://localhost:8080/",
          "height": 34
        }
      },
      "source": [
        "y_test"
      ],
      "execution_count": 0,
      "outputs": [
        {
          "output_type": "execute_result",
          "data": {
            "text/plain": [
              "array([1, 1, 0, ..., 0, 1, 1])"
            ]
          },
          "metadata": {
            "tags": []
          },
          "execution_count": 7
        }
      ]
    },
    {
      "cell_type": "markdown",
      "metadata": {
        "id": "tE89nk9PbC7j",
        "colab_type": "text"
      },
      "source": [
        "## **Data analysis**"
      ]
    },
    {
      "cell_type": "code",
      "metadata": {
        "id": "_UHJLCBFXNXS",
        "colab_type": "code",
        "outputId": "3a8ed708-0c35-4a57-a7b8-e0df108859e9",
        "colab": {
          "base_uri": "https://localhost:8080/",
          "height": 34
        }
      },
      "source": [
        "#As we can see - train dataset is half-positive (or half-negative)\n",
        "print(len(y_train),\n",
        "sum(y_train),\n",
        "len(y_train)-sum(y_train))"
      ],
      "execution_count": 0,
      "outputs": [
        {
          "output_type": "stream",
          "text": [
            "25000 12500 12500\n"
          ],
          "name": "stdout"
        }
      ]
    },
    {
      "cell_type": "code",
      "metadata": {
        "id": "-fJRMzsA6SeP",
        "colab_type": "code",
        "outputId": "63127303-1ce7-43ce-9e31-ff59189969b5",
        "colab": {
          "base_uri": "https://localhost:8080/",
          "height": 34
        }
      },
      "source": [
        "#And also for test dataset! Extraordinary!\n",
        "print(len(y_test),\n",
        "sum(y_test),\n",
        "len(y_test)-sum(y_test))"
      ],
      "execution_count": 0,
      "outputs": [
        {
          "output_type": "stream",
          "text": [
            "25000 12500 12500\n"
          ],
          "name": "stdout"
        }
      ]
    },
    {
      "cell_type": "code",
      "metadata": {
        "id": "4S4O7xN0P9Pp",
        "colab_type": "code",
        "outputId": "ea5ee8b3-924f-4634-b33a-dca507ce5c0f",
        "colab": {
          "base_uri": "https://localhost:8080/",
          "height": 122
        }
      },
      "source": [
        "#let's look to our reviews\n",
        "print(x_train.dtype,\n",
        "      x_train[:5])"
      ],
      "execution_count": 0,
      "outputs": [
        {
          "output_type": "stream",
          "text": [
            "|S13704 [b\"This was an absolutely terrible movie. Don't be lured in by Christopher Walken or Michael Ironside. Both are great actors, but this must simply be their worst role in history. Even their great acting could not redeem this movie's ridiculous storyline. This movie is an early nineties US propaganda piece. The most pathetic scenes were those when the Columbian rebels were making their cases for revolutions. Maria Conchita Alonso appeared phony, and her pseudo-love affair with Walken was nothing but a pathetic emotional plug in a movie that was devoid of any real meaning. I am disappointed that there are movies like this, ruining actor's like Christopher Walken's good name. I could barely sit through it.\"\n",
            " b'I have been known to fall asleep during films, but this is usually due to a combination of things including, really tired, being warm and comfortable on the sette and having just eaten a lot. However on this occasion I fell asleep because the film was rubbish. The plot development was constant. Constantly slow and boring. Things seemed to happen, but with no explanation of what was causing them or why. I admit, I may have missed part of the film, but i watched the majority of it and everything just seemed to happen of its own accord without any real concern for anything else. I cant recommend this film at all.'\n",
            " b'Mann photographs the Alberta Rocky Mountains in a superb fashion, and Jimmy Stewart and Walter Brennan give enjoyable performances as they always seem to do. <br /><br />But come on Hollywood - a Mountie telling the people of Dawson City, Yukon to elect themselves a marshal (yes a marshal!) and to enforce the law themselves, then gunfighters battling it out on the streets for control of the town? <br /><br />Nothing even remotely resembling that happened on the Canadian side of the border during the Klondike gold rush. Mr. Mann and company appear to have mistaken Dawson City for Deadwood, the Canadian North for the American Wild West.<br /><br />Canadian viewers be prepared for a Reefer Madness type of enjoyable howl with this ludicrous plot, or, to shake your head in disgust.'\n",
            " b'This is the kind of film for a snowy Sunday afternoon when the rest of the world can go ahead with its own business as you descend into a big arm-chair and mellow for a couple of hours. Wonderful performances from Cher and Nicolas Cage (as always) gently row the plot along. There are no rapids to cross, no dangerous waters, just a warm and witty paddle through New York life at its best. A family film in every sense and one that deserves the praise it received.'\n",
            " b'As others have mentioned, all the women that go nude in this film are mostly absolutely gorgeous. The plot very ably shows the hypocrisy of the female libido. When men are around they want to be pursued, but when no \"men\" are around, they become the pursuers of a 14 year old boy. And the boy becomes a man really fast (we should all be so lucky at this age!). He then gets up the courage to pursue his true love.']\n"
          ],
          "name": "stdout"
        }
      ]
    },
    {
      "cell_type": "markdown",
      "metadata": {
        "id": "TCkOHKCdbRin",
        "colab_type": "text"
      },
      "source": [
        "# **Tfidf and logreg tests**"
      ]
    },
    {
      "cell_type": "code",
      "metadata": {
        "id": "P3HMk0qBW5fv",
        "colab_type": "code",
        "colab": {}
      },
      "source": [
        "from sklearn.feature_extraction.text import TfidfVectorizer\n",
        "from sklearn.linear_model import LogisticRegression\n",
        "from sklearn.linear_model import LogisticRegressionCV"
      ],
      "execution_count": 0,
      "outputs": []
    },
    {
      "cell_type": "code",
      "metadata": {
        "id": "WggUEcpSDeYn",
        "colab_type": "code",
        "outputId": "4398212f-7429-4957-c07a-d382c8fa3118",
        "colab": {
          "base_uri": "https://localhost:8080/",
          "height": 51
        }
      },
      "source": [
        "%%time\n",
        "tfidf = TfidfVectorizer()\n",
        "tfidf.fit_transform(x_train)\n",
        "\n",
        "tx_train = tfidf.transform(x_train)\n",
        "tx_test = tfidf.transform(x_test)\n",
        "tx_test[42]"
      ],
      "execution_count": 0,
      "outputs": [
        {
          "output_type": "stream",
          "text": [
            "CPU times: user 13.6 s, sys: 92.9 ms, total: 13.6 s\n",
            "Wall time: 13.7 s\n"
          ],
          "name": "stdout"
        }
      ]
    },
    {
      "cell_type": "code",
      "metadata": {
        "id": "K_5RDuPFYhdz",
        "colab_type": "code",
        "outputId": "f4670003-9182-4c04-da14-92c87c77ea1b",
        "colab": {
          "base_uri": "https://localhost:8080/",
          "height": 102
        }
      },
      "source": [
        "logreg = LogisticRegression(random_state=42)\n",
        "\n",
        "logreg.fit(tx_train, y_train)"
      ],
      "execution_count": 0,
      "outputs": [
        {
          "output_type": "execute_result",
          "data": {
            "text/plain": [
              "LogisticRegression(C=1.0, class_weight=None, dual=False, fit_intercept=True,\n",
              "                   intercept_scaling=1, l1_ratio=None, max_iter=100,\n",
              "                   multi_class='auto', n_jobs=None, penalty='l2',\n",
              "                   random_state=42, solver='lbfgs', tol=0.0001, verbose=0,\n",
              "                   warm_start=False)"
            ]
          },
          "metadata": {
            "tags": []
          },
          "execution_count": 13
        }
      ]
    },
    {
      "cell_type": "code",
      "metadata": {
        "id": "hNWVVmWNaop2",
        "colab_type": "code",
        "outputId": "5f2d08f4-0354-4849-f510-d7c7b27ae41a",
        "colab": {
          "base_uri": "https://localhost:8080/",
          "height": 34
        }
      },
      "source": [
        "#mean accuracy of logistic regression\n",
        "\n",
        "logreg.score(tx_test, y_test)"
      ],
      "execution_count": 0,
      "outputs": [
        {
          "output_type": "execute_result",
          "data": {
            "text/plain": [
              "0.88316"
            ]
          },
          "metadata": {
            "tags": []
          },
          "execution_count": 14
        }
      ]
    },
    {
      "cell_type": "markdown",
      "metadata": {
        "id": "sXX5djv0bZYK",
        "colab_type": "text"
      },
      "source": [
        "# **Tokenizer and dense tests**"
      ]
    },
    {
      "cell_type": "code",
      "metadata": {
        "id": "Wsp6txSBbusS",
        "colab_type": "code",
        "colab": {}
      },
      "source": [
        "from tensorflow.keras.preprocessing.text import Tokenizer\n",
        "from tensorflow.keras import Sequential\n",
        "from tensorflow.keras.layers import Dense, Dropout\n",
        "from tensorflow.keras.losses import BinaryCrossentropy\n",
        "from tensorflow.keras.optimizers import Adam"
      ],
      "execution_count": 0,
      "outputs": []
    },
    {
      "cell_type": "code",
      "metadata": {
        "id": "vgfOdgMSG5pW",
        "colab_type": "code",
        "colab": {}
      },
      "source": [
        "tokenizer = Tokenizer(10000)\n",
        "tokenizer.fit_on_texts([str(x) for x in x_train])"
      ],
      "execution_count": 0,
      "outputs": []
    },
    {
      "cell_type": "code",
      "metadata": {
        "id": "g79aH8zzKFqO",
        "colab_type": "code",
        "colab": {}
      },
      "source": [
        "tokenizer.get_config()"
      ],
      "execution_count": 0,
      "outputs": []
    },
    {
      "cell_type": "code",
      "metadata": {
        "id": "pQsKvUchSSdB",
        "colab_type": "code",
        "outputId": "342031e5-51da-4f95-bb76-f2808aef760f",
        "colab": {
          "base_uri": "https://localhost:8080/",
          "height": 136
        }
      },
      "source": [
        "tokx_train = tokenizer.texts_to_matrix([str(x) for x in x_train])\n",
        "tokx_test = tokenizer.texts_to_matrix([str(x) for x in x_test])\n",
        "\n",
        "tokx_train"
      ],
      "execution_count": 0,
      "outputs": [
        {
          "output_type": "execute_result",
          "data": {
            "text/plain": [
              "array([[0., 1., 1., ..., 0., 0., 0.],\n",
              "       [0., 1., 1., ..., 0., 0., 0.],\n",
              "       [0., 1., 1., ..., 0., 0., 0.],\n",
              "       ...,\n",
              "       [0., 1., 1., ..., 0., 0., 0.],\n",
              "       [0., 1., 1., ..., 0., 0., 0.],\n",
              "       [0., 1., 1., ..., 0., 0., 0.]])"
            ]
          },
          "metadata": {
            "tags": []
          },
          "execution_count": 27
        }
      ]
    },
    {
      "cell_type": "code",
      "metadata": {
        "id": "ZpuugeI9T-8h",
        "colab_type": "code",
        "outputId": "f74ccc66-67ce-4b19-e912-be7de2043551",
        "colab": {
          "base_uri": "https://localhost:8080/",
          "height": 34
        }
      },
      "source": [
        "tokx_train.shape"
      ],
      "execution_count": 0,
      "outputs": [
        {
          "output_type": "execute_result",
          "data": {
            "text/plain": [
              "(25000, 10000)"
            ]
          },
          "metadata": {
            "tags": []
          },
          "execution_count": 30
        }
      ]
    },
    {
      "cell_type": "code",
      "metadata": {
        "id": "C3iY_OUKMeIy",
        "colab_type": "code",
        "colab": {}
      },
      "source": [
        "#build a network, as output activation function we put sigmoid\n",
        "model1 = Sequential()\n",
        "\n",
        "model1.add(Dense(2048, input_shape=(10000,), activation='relu'))\n",
        "model1.add(Dropout(0.5))\n",
        "model1.add(Dense(256, activation='relu'))\n",
        "model1.add(Dropout(0.5))\n",
        "model1.add(Dense(1, activation='sigmoid'))"
      ],
      "execution_count": 0,
      "outputs": []
    },
    {
      "cell_type": "code",
      "metadata": {
        "id": "HgQcmlwmVse3",
        "colab_type": "code",
        "outputId": "e7433409-2192-4bc4-c0be-5d5bc5a94d1f",
        "colab": {
          "base_uri": "https://localhost:8080/",
          "height": 323
        }
      },
      "source": [
        "model1.summary()"
      ],
      "execution_count": 0,
      "outputs": [
        {
          "output_type": "stream",
          "text": [
            "Model: \"sequential_5\"\n",
            "_________________________________________________________________\n",
            "Layer (type)                 Output Shape              Param #   \n",
            "=================================================================\n",
            "dense_5 (Dense)              (None, 2048)              20482048  \n",
            "_________________________________________________________________\n",
            "dropout_2 (Dropout)          (None, 2048)              0         \n",
            "_________________________________________________________________\n",
            "dense_6 (Dense)              (None, 256)               524544    \n",
            "_________________________________________________________________\n",
            "dropout_3 (Dropout)          (None, 256)               0         \n",
            "_________________________________________________________________\n",
            "dense_7 (Dense)              (None, 1)                 257       \n",
            "=================================================================\n",
            "Total params: 21,006,849\n",
            "Trainable params: 21,006,849\n",
            "Non-trainable params: 0\n",
            "_________________________________________________________________\n"
          ],
          "name": "stdout"
        }
      ]
    },
    {
      "cell_type": "code",
      "metadata": {
        "id": "ickbmBLGWQgE",
        "colab_type": "code",
        "colab": {}
      },
      "source": [
        "model1.compile(loss=BinaryCrossentropy(),\n",
        "             optimizer=Adam(1e-3),\n",
        "             metrics=['accuracy'])"
      ],
      "execution_count": 0,
      "outputs": []
    },
    {
      "cell_type": "code",
      "metadata": {
        "id": "n7_zN7hJXrAN",
        "colab_type": "code",
        "outputId": "56859d47-bc22-4022-d117-d07d91dae9a7",
        "colab": {
          "base_uri": "https://localhost:8080/",
          "height": 187
        }
      },
      "source": [
        "%%time\n",
        "history1 = model1.fit(tokx_train, y_train, epochs=4, batch_size=1000)"
      ],
      "execution_count": 0,
      "outputs": [
        {
          "output_type": "stream",
          "text": [
            "Epoch 1/4\n",
            "25/25 [==============================] - 35s 1s/step - loss: 0.4388 - accuracy: 0.7836\n",
            "Epoch 2/4\n",
            "25/25 [==============================] - 36s 1s/step - loss: 0.1917 - accuracy: 0.9296\n",
            "Epoch 3/4\n",
            "25/25 [==============================] - 34s 1s/step - loss: 0.1017 - accuracy: 0.9658\n",
            "Epoch 4/4\n",
            "25/25 [==============================] - 34s 1s/step - loss: 0.0398 - accuracy: 0.9896\n",
            "CPU times: user 4min 41s, sys: 1.02 s, total: 4min 42s\n",
            "Wall time: 2min 26s\n"
          ],
          "name": "stdout"
        }
      ]
    },
    {
      "cell_type": "code",
      "metadata": {
        "id": "krzip_vZZrNk",
        "colab_type": "code",
        "colab": {}
      },
      "source": [
        "predict1 = model1.predict(tokx_test)"
      ],
      "execution_count": 0,
      "outputs": []
    },
    {
      "cell_type": "code",
      "metadata": {
        "id": "_cydC_TlbNsO",
        "colab_type": "code",
        "outputId": "e843daf6-d671-4a5e-c39a-ba4053864d05",
        "colab": {
          "base_uri": "https://localhost:8080/",
          "height": 34
        }
      },
      "source": [
        "#Now count the accuracy...\n",
        "(predict1.round().ravel() == y_test).mean()"
      ],
      "execution_count": 0,
      "outputs": [
        {
          "output_type": "execute_result",
          "data": {
            "text/plain": [
              "0.87384"
            ]
          },
          "metadata": {
            "tags": []
          },
          "execution_count": 62
        }
      ]
    },
    {
      "cell_type": "code",
      "metadata": {
        "id": "x-GwuhuAcpQn",
        "colab_type": "code",
        "colab": {}
      },
      "source": [
        "#Making a dense network have a little profit, because we have accuracy less than logreg....\n",
        "#RNN, I choose you!"
      ],
      "execution_count": 0,
      "outputs": []
    },
    {
      "cell_type": "markdown",
      "metadata": {
        "id": "lav4-l1XbvKm",
        "colab_type": "text"
      },
      "source": [
        "# **Embedding and RNN learning**"
      ]
    },
    {
      "cell_type": "code",
      "metadata": {
        "id": "AAwU6-KfcjfN",
        "colab_type": "code",
        "colab": {}
      },
      "source": [
        "from tensorflow.keras.layers import Embedding, SimpleRNN\n",
        "from tensorflow.keras.preprocessing.sequence import pad_sequences"
      ],
      "execution_count": 0,
      "outputs": []
    },
    {
      "cell_type": "code",
      "metadata": {
        "id": "kw0N_AOclsAd",
        "colab_type": "code",
        "colab": {}
      },
      "source": [
        "#but first time we need to rework data for RNN by padding\n",
        "seqx_train = pad_sequences(tokenizer.texts_to_sequences([str(x) for x in x_train]))\n",
        "seqx_test = pad_sequences(tokenizer.texts_to_sequences([str(x) for x in x_test]))"
      ],
      "execution_count": 0,
      "outputs": []
    },
    {
      "cell_type": "code",
      "metadata": {
        "id": "2n8Sawu5fWAw",
        "colab_type": "code",
        "outputId": "8b46e261-c635-4f0e-fa1e-81fff70cd7c1",
        "colab": {
          "base_uri": "https://localhost:8080/",
          "height": 255
        }
      },
      "source": [
        "model2 = Sequential()\n",
        "\n",
        "model2.add(Embedding(10000, 5))\n",
        "model2.add(SimpleRNN(10))\n",
        "model2.add(Dense(1, activation='sigmoid'))\n",
        "\n",
        "model2.summary()"
      ],
      "execution_count": 0,
      "outputs": [
        {
          "output_type": "stream",
          "text": [
            "Model: \"sequential_12\"\n",
            "_________________________________________________________________\n",
            "Layer (type)                 Output Shape              Param #   \n",
            "=================================================================\n",
            "embedding_6 (Embedding)      (None, None, 5)           50000     \n",
            "_________________________________________________________________\n",
            "simple_rnn_7 (SimpleRNN)     (None, 10)                160       \n",
            "_________________________________________________________________\n",
            "dense_13 (Dense)             (None, 1)                 11        \n",
            "=================================================================\n",
            "Total params: 50,171\n",
            "Trainable params: 50,171\n",
            "Non-trainable params: 0\n",
            "_________________________________________________________________\n"
          ],
          "name": "stdout"
        }
      ]
    },
    {
      "cell_type": "code",
      "metadata": {
        "id": "-02RCQqwrKXN",
        "colab_type": "code",
        "colab": {}
      },
      "source": [
        "model2.compile(loss=BinaryCrossentropy(),\n",
        "               optimizer=Adam(1e-3),\n",
        "               metrics=['accuracy'])"
      ],
      "execution_count": 0,
      "outputs": []
    },
    {
      "cell_type": "code",
      "metadata": {
        "id": "z8iazuoPlGO4",
        "colab_type": "code",
        "outputId": "53508ca9-0947-4d44-c68b-4ddf3e0f20ca",
        "colab": {
          "base_uri": "https://localhost:8080/",
          "height": 391
        }
      },
      "source": [
        "%%time\n",
        "history2 = model2.fit(seqx_train, y_train, epochs=10, batch_size=100)"
      ],
      "execution_count": 0,
      "outputs": [
        {
          "output_type": "stream",
          "text": [
            "Epoch 1/10\n",
            "250/250 [==============================] - 209s 836ms/step - loss: 0.6187 - accuracy: 0.6724\n",
            "Epoch 2/10\n",
            "250/250 [==============================] - 213s 852ms/step - loss: 0.4601 - accuracy: 0.8003\n",
            "Epoch 3/10\n",
            "250/250 [==============================] - 216s 865ms/step - loss: 0.3799 - accuracy: 0.8464\n",
            "Epoch 4/10\n",
            "250/250 [==============================] - 214s 857ms/step - loss: 0.3299 - accuracy: 0.8713\n",
            "Epoch 5/10\n",
            "250/250 [==============================] - 213s 852ms/step - loss: 0.2757 - accuracy: 0.8968\n",
            "Epoch 6/10\n",
            "250/250 [==============================] - 211s 844ms/step - loss: 0.2319 - accuracy: 0.9188\n",
            "Epoch 7/10\n",
            "250/250 [==============================] - 213s 853ms/step - loss: 0.1970 - accuracy: 0.9330\n",
            "Epoch 8/10\n",
            "250/250 [==============================] - 214s 857ms/step - loss: 0.1771 - accuracy: 0.9422\n",
            "Epoch 9/10\n",
            "250/250 [==============================] - 212s 846ms/step - loss: 0.1576 - accuracy: 0.9502\n",
            "Epoch 10/10\n",
            "250/250 [==============================] - 215s 859ms/step - loss: 0.1881 - accuracy: 0.9313\n",
            "CPU times: user 57min 59s, sys: 1min 29s, total: 59min 28s\n",
            "Wall time: 35min 39s\n"
          ],
          "name": "stdout"
        }
      ]
    },
    {
      "cell_type": "markdown",
      "metadata": {
        "id": "rXpXyNuhb4u6",
        "colab_type": "text"
      },
      "source": [
        "## Tests"
      ]
    },
    {
      "cell_type": "code",
      "metadata": {
        "id": "Mch8LBmvcLl3",
        "colab_type": "code",
        "colab": {}
      },
      "source": [
        ""
      ],
      "execution_count": 0,
      "outputs": []
    },
    {
      "cell_type": "markdown",
      "metadata": {
        "id": "q87k4VGXcLAC",
        "colab_type": "text"
      },
      "source": [
        "# **Graphics, metrics and comparing**"
      ]
    },
    {
      "cell_type": "code",
      "metadata": {
        "id": "grN_JvCMcQK4",
        "colab_type": "code",
        "colab": {}
      },
      "source": [
        ""
      ],
      "execution_count": 0,
      "outputs": []
    }
  ]
}