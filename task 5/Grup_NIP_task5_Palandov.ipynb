{
  "nbformat": 4,
  "nbformat_minor": 0,
  "metadata": {
    "colab": {
      "name": "Grup_NIP.ipynb",
      "provenance": [],
      "collapsed_sections": []
    },
    "kernelspec": {
      "name": "python3",
      "display_name": "Python 3"
    }
  },
  "cells": [
    {
      "cell_type": "code",
      "metadata": {
        "id": "ew0_19ABI3ku",
        "colab_type": "code",
        "outputId": "a3c63f83-c77b-44f1-b051-b76f05ee6e4b",
        "colab": {
          "base_uri": "https://localhost:8080/",
          "height": 119
        }
      },
      "source": [
        "import numpy as np\n",
        "import pandas as pd\n",
        "import keras as ks\n",
        "import tensorflow_datasets as tfds\n",
        "\n",
        "!pip install pymorphy2\n",
        "!pip install pymssql\n",
        "\n",
        "import pymorphy2\n",
        "import re\n",
        "import pymssql\n"
      ],
      "execution_count": 1,
      "outputs": [
        {
          "output_type": "stream",
          "text": [
            "Using TensorFlow backend.\n"
          ],
          "name": "stderr"
        },
        {
          "output_type": "stream",
          "text": [
            "Requirement already satisfied: pymorphy2 in /usr/local/lib/python3.6/dist-packages (0.8)\n",
            "Requirement already satisfied: docopt>=0.6 in /usr/local/lib/python3.6/dist-packages (from pymorphy2) (0.6.2)\n",
            "Requirement already satisfied: pymorphy2-dicts<3.0,>=2.4 in /usr/local/lib/python3.6/dist-packages (from pymorphy2) (2.4.393442.3710985)\n",
            "Requirement already satisfied: dawg-python>=0.7 in /usr/local/lib/python3.6/dist-packages (from pymorphy2) (0.7.2)\n",
            "Requirement already satisfied: pymssql in /usr/local/lib/python3.6/dist-packages (2.1.4)\n"
          ],
          "name": "stdout"
        }
      ]
    },
    {
      "cell_type": "code",
      "metadata": {
        "id": "Ges4adEbVVfv",
        "colab_type": "code",
        "outputId": "1ce9eb78-e786-4ff9-9c21-66f5e13af199",
        "colab": {
          "base_uri": "https://localhost:8080/",
          "height": 34
        }
      },
      "source": [
        "\n",
        "\n",
        "ds = tfds.load('imdb_reviews', split='train', as_supervised=True)\n",
        "ds_test = tfds.load('imdb_reviews', split='test', as_supervised=True)\n",
        "ds = tfds.as_numpy(ds)\n",
        "ds_test = tfds.as_numpy(ds_test)\n",
        "ds"
      ],
      "execution_count": 2,
      "outputs": [
        {
          "output_type": "execute_result",
          "data": {
            "text/plain": [
              "<generator object _eager_dataset_iterator at 0x7f2ab0b05f68>"
            ]
          },
          "metadata": {
            "tags": []
          },
          "execution_count": 2
        }
      ]
    },
    {
      "cell_type": "code",
      "metadata": {
        "id": "4mQuwEEFZ1Ua",
        "colab_type": "code",
        "outputId": "8d34b442-35fc-43b8-af23-372d9f27a915",
        "colab": {
          "base_uri": "https://localhost:8080/",
          "height": 657
        }
      },
      "source": [
        "df = pd.DataFrame(ds)\n",
        "df_test = pd.DataFrame(ds_test)\n",
        "df = df.rename(columns={0: \"text\", 1: \"labels\"})\n",
        "df_test = df_test.rename(columns={0: \"text\", 1: \"labels\"})\n",
        "print(df)\n",
        "df_test"
      ],
      "execution_count": 3,
      "outputs": [
        {
          "output_type": "stream",
          "text": [
            "                                                    text  labels\n",
            "0      b\"This was an absolutely terrible movie. Don't...       0\n",
            "1      b'I have been known to fall asleep during film...       0\n",
            "2      b'Mann photographs the Alberta Rocky Mountains...       0\n",
            "3      b'This is the kind of film for a snowy Sunday ...       1\n",
            "4      b'As others have mentioned, all the women that...       1\n",
            "...                                                  ...     ...\n",
            "24995  b'I have a severe problem with this show, seve...       0\n",
            "24996  b'The year is 1964. Ernesto \"Che\" Guevara, hav...       1\n",
            "24997  b'Okay. So I just got back. Before I start my ...       0\n",
            "24998  b'When I saw this trailer on TV I was surprise...       0\n",
            "24999  b'First of all, Riget is wonderful. Good comed...       1\n",
            "\n",
            "[25000 rows x 2 columns]\n"
          ],
          "name": "stdout"
        },
        {
          "output_type": "execute_result",
          "data": {
            "text/html": [
              "<div>\n",
              "<style scoped>\n",
              "    .dataframe tbody tr th:only-of-type {\n",
              "        vertical-align: middle;\n",
              "    }\n",
              "\n",
              "    .dataframe tbody tr th {\n",
              "        vertical-align: top;\n",
              "    }\n",
              "\n",
              "    .dataframe thead th {\n",
              "        text-align: right;\n",
              "    }\n",
              "</style>\n",
              "<table border=\"1\" class=\"dataframe\">\n",
              "  <thead>\n",
              "    <tr style=\"text-align: right;\">\n",
              "      <th></th>\n",
              "      <th>text</th>\n",
              "      <th>labels</th>\n",
              "    </tr>\n",
              "  </thead>\n",
              "  <tbody>\n",
              "    <tr>\n",
              "      <th>0</th>\n",
              "      <td>b\"There are films that make careers. For Georg...</td>\n",
              "      <td>1</td>\n",
              "    </tr>\n",
              "    <tr>\n",
              "      <th>1</th>\n",
              "      <td>b\"A blackly comic tale of a down-trodden pries...</td>\n",
              "      <td>1</td>\n",
              "    </tr>\n",
              "    <tr>\n",
              "      <th>2</th>\n",
              "      <td>b'Scary Movie 1-4, Epic Movie, Date Movie, Mee...</td>\n",
              "      <td>0</td>\n",
              "    </tr>\n",
              "    <tr>\n",
              "      <th>3</th>\n",
              "      <td>b'Poor Shirley MacLaine tries hard to lend som...</td>\n",
              "      <td>0</td>\n",
              "    </tr>\n",
              "    <tr>\n",
              "      <th>4</th>\n",
              "      <td>b'As a former Erasmus student I enjoyed this f...</td>\n",
              "      <td>1</td>\n",
              "    </tr>\n",
              "    <tr>\n",
              "      <th>...</th>\n",
              "      <td>...</td>\n",
              "      <td>...</td>\n",
              "    </tr>\n",
              "    <tr>\n",
              "      <th>24995</th>\n",
              "      <td>b\"Feeling Minnesota is not really a road movie...</td>\n",
              "      <td>0</td>\n",
              "    </tr>\n",
              "    <tr>\n",
              "      <th>24996</th>\n",
              "      <td>b'This is, without doubt, one of my favourite ...</td>\n",
              "      <td>1</td>\n",
              "    </tr>\n",
              "    <tr>\n",
              "      <th>24997</th>\n",
              "      <td>b\"Most predicable movie I've ever seen...extre...</td>\n",
              "      <td>0</td>\n",
              "    </tr>\n",
              "    <tr>\n",
              "      <th>24998</th>\n",
              "      <td>b\"It's exactly what I expected from it. Relaxi...</td>\n",
              "      <td>1</td>\n",
              "    </tr>\n",
              "    <tr>\n",
              "      <th>24999</th>\n",
              "      <td>b\"They just don't make cartoons like they used...</td>\n",
              "      <td>1</td>\n",
              "    </tr>\n",
              "  </tbody>\n",
              "</table>\n",
              "<p>25000 rows × 2 columns</p>\n",
              "</div>"
            ],
            "text/plain": [
              "                                                    text  labels\n",
              "0      b\"There are films that make careers. For Georg...       1\n",
              "1      b\"A blackly comic tale of a down-trodden pries...       1\n",
              "2      b'Scary Movie 1-4, Epic Movie, Date Movie, Mee...       0\n",
              "3      b'Poor Shirley MacLaine tries hard to lend som...       0\n",
              "4      b'As a former Erasmus student I enjoyed this f...       1\n",
              "...                                                  ...     ...\n",
              "24995  b\"Feeling Minnesota is not really a road movie...       0\n",
              "24996  b'This is, without doubt, one of my favourite ...       1\n",
              "24997  b\"Most predicable movie I've ever seen...extre...       0\n",
              "24998  b\"It's exactly what I expected from it. Relaxi...       1\n",
              "24999  b\"They just don't make cartoons like they used...       1\n",
              "\n",
              "[25000 rows x 2 columns]"
            ]
          },
          "metadata": {
            "tags": []
          },
          "execution_count": 3
        }
      ]
    },
    {
      "cell_type": "code",
      "metadata": {
        "id": "lJpcKYo3Sd--",
        "colab_type": "code",
        "colab": {}
      },
      "source": [
        ""
      ],
      "execution_count": 0,
      "outputs": []
    },
    {
      "cell_type": "code",
      "metadata": {
        "id": "rQngozViK9o0",
        "colab_type": "code",
        "colab": {}
      },
      "source": [
        "\n",
        "# preprocessing text\n",
        "def clean_and_decode_text(text):\n",
        "    text = text.decode(\"utf-8\")\n",
        "    text = text.replace(\"\\\\\", \" \").replace(u\"╚\", \" \").replace(u\"╩\", \" \")\n",
        "    text = text.lower()\n",
        "    text = re.sub('\\-\\s\\r\\n\\s{1,}|\\-\\s\\r\\n|\\r\\n', '', text) #deleting newlines and line-breaks\n",
        "    text = re.sub('[.,:;_%©?*,!@#$%^&()\\d]|[+=]|[[]|[]]|[/]|\"|\\s{2,}|-', ' ', text) #deleting symbols  \n",
        "    \n",
        "    return text\n",
        "\n",
        "df[\"clean_text\"] = df.apply(lambda x: clean_and_decode_text(x[u'text']), axis=1)\n",
        "df_test[\"clean_text\"] = df_test.apply(lambda x: clean_and_decode_text(x[u'text']), axis=1)\n",
        "textDF = df[\"clean_text\"]\n",
        "textDF_test = df_test[\"clean_text\"]\n"
      ],
      "execution_count": 0,
      "outputs": []
    },
    {
      "cell_type": "code",
      "metadata": {
        "id": "iFlwSC1_NgC6",
        "colab_type": "code",
        "colab": {}
      },
      "source": [
        "#  tfidf + logreg\n",
        "\n",
        "from sklearn.feature_extraction.text import TfidfVectorizer\n",
        "from sklearn.linear_model import LogisticRegression\n",
        "from sklearn.model_selection import GridSearchCV\n",
        "from sklearn.metrics import accuracy_score, precision_score, recall_score\n",
        "tfidf = TfidfVectorizer()"
      ],
      "execution_count": 0,
      "outputs": []
    },
    {
      "cell_type": "code",
      "metadata": {
        "id": "MhEo1KcxyjCl",
        "colab_type": "code",
        "colab": {
          "base_uri": "https://localhost:8080/",
          "height": 68
        },
        "outputId": "4f589ede-cd60-4419-b401-a490ba7fd808"
      },
      "source": [
        "%%time\n",
        "out = tfidf.fit_transform(df[\"clean_text\"])\n",
        "print(out.shape) # all string on all world"
      ],
      "execution_count": 6,
      "outputs": [
        {
          "output_type": "stream",
          "text": [
            "(25000, 73498)\n",
            "CPU times: user 3.87 s, sys: 82.6 ms, total: 3.95 s\n",
            "Wall time: 3.95 s\n"
          ],
          "name": "stdout"
        }
      ]
    },
    {
      "cell_type": "code",
      "metadata": {
        "id": "jycVxnHv71ja",
        "colab_type": "code",
        "colab": {}
      },
      "source": [
        "sort_idx = np.ravel(out.sum(axis=0).argsort(axis=1))[::-1]"
      ],
      "execution_count": 0,
      "outputs": []
    },
    {
      "cell_type": "code",
      "metadata": {
        "id": "XqFCr_4M8AQJ",
        "colab_type": "code",
        "colab": {
          "base_uri": "https://localhost:8080/",
          "height": 34
        },
        "outputId": "cf741633-cffd-48e7-ff98-6db72726d326"
      },
      "source": [
        "np.array(tfidf.get_feature_names())[sort_idx][:5]"
      ],
      "execution_count": 8,
      "outputs": [
        {
          "output_type": "execute_result",
          "data": {
            "text/plain": [
              "array(['the', 'and', 'br', 'of', 'to'], dtype='<U51')"
            ]
          },
          "metadata": {
            "tags": []
          },
          "execution_count": 8
        }
      ]
    },
    {
      "cell_type": "code",
      "metadata": {
        "id": "tlPdEeMZ8I2Y",
        "colab_type": "code",
        "colab": {}
      },
      "source": [
        "x_train = tfidf.transform(df[\"clean_text\"])\n",
        "x_test = tfidf.transform(df_test[\"clean_text\"])"
      ],
      "execution_count": 0,
      "outputs": []
    },
    {
      "cell_type": "code",
      "metadata": {
        "id": "6bthRp9Q8RQ1",
        "colab_type": "code",
        "colab": {}
      },
      "source": [
        "precision_pos, recall_pos = {}, {} # Positive precision and reccall\n",
        "precision_neg, recall_neg = {}, {} # Negative precision and reccall\n",
        "accuracy = {} # i like accuracy\n",
        "\n",
        "def add_stat(model_name: str, pred):\n",
        "    \n",
        "    prec_pos = precision_score(Y_test, pred, average='binary', pos_label=1)\n",
        "    rec_pos = recall_score(Y_test, pred, average='binary', pos_label=1)\n",
        "\n",
        "    print(f'Precison for positive is {prec_pos}\\nRecall for positive is {rec_pos}')\n",
        "\n",
        "    precision_pos[model_name] = prec_pos\n",
        "    recall_pos[model_name] = rec_pos\n",
        "\n",
        "    prec_neg = precision_score(Y_test, pred, average='binary', pos_label=0)\n",
        "    rec_neg = recall_score(Y_test, pred, average='binary', pos_label=0)\n",
        "\n",
        "    print(f'Precison for negative is {prec_neg}\\nRecall for negative is {rec_neg}')\n",
        "        \n",
        "    precision_neg[model_name] = prec_neg\n",
        "    recall_neg[model_name] = rec_neg\n",
        "\n",
        "    print(f'Accuracy is {accuracy_score(pred, Y_test)}')\n",
        "    accuracy[model_name] = accuracy_score(pred, Y_test)"
      ],
      "execution_count": 0,
      "outputs": []
    },
    {
      "cell_type": "code",
      "metadata": {
        "id": "hAxr_hlK8xW-",
        "colab_type": "code",
        "colab": {}
      },
      "source": [
        "Y= (df[\"labels\"])\n",
        "Y_test = df_test[\"labels\"]\n",
        "y_test = ks.utils.to_categorical(df_test[\"labels\"])\n",
        "model1 = LogisticRegression(random_state=42,\n",
        "                           n_jobs=-1,\n",
        "                           C=8.25).fit(x_train, Y)"
      ],
      "execution_count": 0,
      "outputs": []
    },
    {
      "cell_type": "code",
      "metadata": {
        "id": "_3ZimKmEGu04",
        "colab_type": "code",
        "colab": {
          "base_uri": "https://localhost:8080/",
          "height": 102
        },
        "outputId": "67a0ad00-14d9-4d1a-b9db-5b984f6f5faf"
      },
      "source": [
        "add_stat('Logreg orig', model1.predict(x_test))"
      ],
      "execution_count": 12,
      "outputs": [
        {
          "output_type": "stream",
          "text": [
            "Precison for positive is 0.8889341258855142\n",
            "Recall for positive is 0.87336\n",
            "Precison for negative is 0.8755405299158739\n",
            "Recall for negative is 0.89088\n",
            "Accuracy is 0.88212\n"
          ],
          "name": "stdout"
        }
      ]
    },
    {
      "cell_type": "code",
      "metadata": {
        "id": "KJwThBZMtJOc",
        "colab_type": "code",
        "outputId": "e898d980-7df0-41eb-a803-60b6b88930ef",
        "colab": {
          "base_uri": "https://localhost:8080/",
          "height": 34
        }
      },
      "source": [
        "# Tokenizer + Dense\n",
        "\n",
        "from keras.preprocessing.text import Tokenizer\n",
        "\n",
        "all_texts_f = df[\"clean_text\"].append(df_test[\"clean_text\"])\n",
        "\n",
        "\n",
        "max_words = 0\n",
        "for desc in all_texts_f:\n",
        "    words = len(desc.split())\n",
        "    if words > max_words:\n",
        "        max_words = words\n",
        "print('Максимальная длина описания: {} слов'.format(max_words))\n"
      ],
      "execution_count": 13,
      "outputs": [
        {
          "output_type": "stream",
          "text": [
            "Максимальная длина описания: 2475 слов\n"
          ],
          "name": "stdout"
        }
      ]
    },
    {
      "cell_type": "code",
      "metadata": {
        "id": "Hgr8cqwFdjzh",
        "colab_type": "code",
        "outputId": "4bfae340-e667-4c76-adce-14291e45d46c",
        "colab": {
          "base_uri": "https://localhost:8080/",
          "height": 34
        }
      },
      "source": [
        "\n",
        "maxSequenceLength = 2476\n",
        "\n",
        "# создаем единый словарь (слово -> число) для преобразования\n",
        "num_words=2**13\n",
        "tokenizer = Tokenizer(num_words=num_words)\n",
        "print(\"_____\")\n",
        "tokenizer.fit_on_texts(textDF.tolist())\n",
        "\n",
        "\n",
        "# Преобразуем все описания в числовые последовательности, заменяя слова на числа по словарю.\n",
        "textSequences = tokenizer.texts_to_sequences(textDF.tolist())\n",
        "textSequences_test = tokenizer.texts_to_sequences(textDF_test.tolist())\n",
        "\n"
      ],
      "execution_count": 14,
      "outputs": [
        {
          "output_type": "stream",
          "text": [
            "_____\n"
          ],
          "name": "stdout"
        }
      ]
    },
    {
      "cell_type": "code",
      "metadata": {
        "id": "ek4694Bfx03k",
        "colab_type": "code",
        "colab": {}
      },
      "source": [
        "X_train = textSequences\n",
        "X_test = textSequences_test"
      ],
      "execution_count": 0,
      "outputs": []
    },
    {
      "cell_type": "code",
      "metadata": {
        "id": "9IQhY-AFty8G",
        "colab_type": "code",
        "outputId": "8e73fb38-d659-44aa-ea7e-f1bc5d57c1b1",
        "colab": {
          "base_uri": "https://localhost:8080/",
          "height": 34
        }
      },
      "source": [
        "total_words = len(tokenizer.word_index)\n",
        "print('В словаре {} слов'.format(total_words))"
      ],
      "execution_count": 16,
      "outputs": [
        {
          "output_type": "stream",
          "text": [
            "В словаре 86802 слов\n"
          ],
          "name": "stdout"
        }
      ]
    },
    {
      "cell_type": "code",
      "metadata": {
        "id": "Rcvf_6Rpumdn",
        "colab_type": "code",
        "outputId": "648f544c-bb75-40e9-a3cb-d317047b5e94",
        "colab": {
          "base_uri": "https://localhost:8080/",
          "height": 68
        }
      },
      "source": [
        "\n",
        "print(u'Преобразуем описания заявок в векторы чисел...')\n",
        "\n",
        "X_train = tokenizer.sequences_to_matrix(X_train, mode='binary')\n",
        "X_test = tokenizer.sequences_to_matrix(X_test, mode='binary')\n",
        "print('Размерность X_train:', X_train.shape)\n",
        "print('Размерность X_test:', X_test.shape)\n"
      ],
      "execution_count": 17,
      "outputs": [
        {
          "output_type": "stream",
          "text": [
            "Преобразуем описания заявок в векторы чисел...\n",
            "Размерность X_train: (25000, 8192)\n",
            "Размерность X_test: (25000, 8192)\n"
          ],
          "name": "stdout"
        }
      ]
    },
    {
      "cell_type": "code",
      "metadata": {
        "id": "mCbyaAUFsWCF",
        "colab_type": "code",
        "colab": {}
      },
      "source": [
        ""
      ],
      "execution_count": 0,
      "outputs": []
    },
    {
      "cell_type": "code",
      "metadata": {
        "id": "R59H409QsWXA",
        "colab_type": "code",
        "colab": {}
      },
      "source": [
        ""
      ],
      "execution_count": 0,
      "outputs": []
    },
    {
      "cell_type": "code",
      "metadata": {
        "id": "OvjFoNAevoK2",
        "colab_type": "code",
        "outputId": "be2b5112-27f1-452a-8c3f-25c529513999",
        "colab": {
          "base_uri": "https://localhost:8080/",
          "height": 459
        }
      },
      "source": [
        "from keras.models import Sequential\n",
        "from keras.layers import Dense\n",
        "from keras.layers import Activation\n",
        "from keras.layers import Dropout\n",
        "\n",
        "epochs = 5\n",
        "\n",
        "print(u'Собираем модель...')\n",
        "model = Sequential()\n",
        "model.add(Dense(512, input_shape=(num_words,)))\n",
        "model.add(Activation('relu'))\n",
        "model.add(Dropout(0.7))\n",
        "model.add(Dense(512))\n",
        "model.add(Activation('relu'))\n",
        "model.add(Dropout(0.7))\n",
        "model.add(Dense(2))\n",
        "model.add(Activation('softmax'))\n",
        "\n",
        "model.compile(loss=ks.losses.binary_crossentropy,\n",
        "              optimizer='adam',\n",
        "              metrics=['accuracy'])\n",
        "\n",
        "print(model.summary())"
      ],
      "execution_count": 18,
      "outputs": [
        {
          "output_type": "stream",
          "text": [
            "Собираем модель...\n",
            "Model: \"sequential_1\"\n",
            "_________________________________________________________________\n",
            "Layer (type)                 Output Shape              Param #   \n",
            "=================================================================\n",
            "dense_1 (Dense)              (None, 512)               4194816   \n",
            "_________________________________________________________________\n",
            "activation_1 (Activation)    (None, 512)               0         \n",
            "_________________________________________________________________\n",
            "dropout_1 (Dropout)          (None, 512)               0         \n",
            "_________________________________________________________________\n",
            "dense_2 (Dense)              (None, 512)               262656    \n",
            "_________________________________________________________________\n",
            "activation_2 (Activation)    (None, 512)               0         \n",
            "_________________________________________________________________\n",
            "dropout_2 (Dropout)          (None, 512)               0         \n",
            "_________________________________________________________________\n",
            "dense_3 (Dense)              (None, 2)                 1026      \n",
            "_________________________________________________________________\n",
            "activation_3 (Activation)    (None, 2)                 0         \n",
            "=================================================================\n",
            "Total params: 4,458,498\n",
            "Trainable params: 4,458,498\n",
            "Non-trainable params: 0\n",
            "_________________________________________________________________\n",
            "None\n"
          ],
          "name": "stdout"
        }
      ]
    },
    {
      "cell_type": "code",
      "metadata": {
        "id": "dl1kfe93v-6-",
        "colab_type": "code",
        "outputId": "cb3a2467-674f-4aeb-9cdf-48bd96797f98",
        "colab": {
          "base_uri": "https://localhost:8080/",
          "height": 204
        }
      },
      "source": [
        "y_train = ks.utils.to_categorical(df[\"labels\"])\n",
        "y_test = ks.utils.to_categorical(df_test[\"labels\"])\n",
        "\n",
        "history = model.fit(X_train, y_train,\n",
        "                    batch_size=128,\n",
        "                    epochs=epochs,\n",
        "                    verbose=1, validation_data=(X_test, y_test))"
      ],
      "execution_count": 19,
      "outputs": [
        {
          "output_type": "stream",
          "text": [
            "Train on 25000 samples, validate on 25000 samples\n",
            "Epoch 1/5\n",
            "25000/25000 [==============================] - 24s 941us/step - loss: 0.4048 - accuracy: 0.8139 - val_loss: 0.2922 - val_accuracy: 0.8783\n",
            "Epoch 2/5\n",
            "25000/25000 [==============================] - 23s 931us/step - loss: 0.2387 - accuracy: 0.9068 - val_loss: 0.2830 - val_accuracy: 0.8840\n",
            "Epoch 3/5\n",
            "25000/25000 [==============================] - 23s 930us/step - loss: 0.1802 - accuracy: 0.9323 - val_loss: 0.3078 - val_accuracy: 0.8767\n",
            "Epoch 4/5\n",
            "25000/25000 [==============================] - 23s 931us/step - loss: 0.1333 - accuracy: 0.9516 - val_loss: 0.3351 - val_accuracy: 0.8791\n",
            "Epoch 5/5\n",
            "25000/25000 [==============================] - 23s 926us/step - loss: 0.1007 - accuracy: 0.9638 - val_loss: 0.3644 - val_accuracy: 0.8751\n"
          ],
          "name": "stdout"
        }
      ]
    },
    {
      "cell_type": "code",
      "metadata": {
        "id": "nofmzrmRxTXz",
        "colab_type": "code",
        "outputId": "14b05ee6-9a35-44b7-cade-89a041c177ca",
        "colab": {
          "base_uri": "https://localhost:8080/",
          "height": 85
        }
      },
      "source": [
        "\n",
        "score = model.evaluate(X_test, y_test,\n",
        "                       batch_size=32, verbose=1)\n",
        "print()\n",
        "print(u'Оценка теста: {}'.format(score[0]))\n",
        "print(u'Оценка точности модели: {}'.format(score[1]))"
      ],
      "execution_count": 20,
      "outputs": [
        {
          "output_type": "stream",
          "text": [
            "25000/25000 [==============================] - 9s 344us/step\n",
            "\n",
            "Оценка теста: 0.36437490231513975\n",
            "Оценка точности модели: 0.8750799894332886\n"
          ],
          "name": "stdout"
        }
      ]
    },
    {
      "cell_type": "code",
      "metadata": {
        "id": "We1Sc6cvyEAt",
        "colab_type": "code",
        "outputId": "a7ef9ac5-4fa6-43ba-f3fa-69a47ffc4052",
        "colab": {
          "base_uri": "https://localhost:8080/",
          "height": 590
        }
      },
      "source": [
        "import matplotlib.pyplot as plt\n",
        "\n",
        "# График точности модели\n",
        "print(history.history.keys())\n",
        "plt.plot(history.history['accuracy'])\n",
        "plt.plot(history.history['val_accuracy'])\n",
        "plt.title('model accuracy')\n",
        "plt.ylabel('accuracy')\n",
        "plt.xlabel('epoch')\n",
        "plt.legend(['train', 'test'], loc='upper left')\n",
        "plt.show()\n",
        "# График оценки loss\n",
        "plt.plot(history.history['loss'])\n",
        "plt.plot(history.history['val_loss'])\n",
        "plt.title('model loss')\n",
        "plt.ylabel('loss')\n",
        "plt.xlabel('epoch')\n",
        "plt.legend(['train', 'test'], loc='upper left')\n",
        "plt.show()"
      ],
      "execution_count": 21,
      "outputs": [
        {
          "output_type": "stream",
          "text": [
            "dict_keys(['val_loss', 'val_accuracy', 'loss', 'accuracy'])\n"
          ],
          "name": "stdout"
        },
        {
          "output_type": "display_data",
          "data": {
            "image/png": "[encoded data removed]",
            "text/plain": [
              "<Figure size 432x288 with 1 Axes>"
            ]
          },
          "metadata": {
            "tags": [],
            "needs_background": "light"
          }
        },
        {
          "output_type": "display_data",
          "data": {
            "image/png": "[encoded data removed]",
            "text/plain": [
              "<Figure size 432x288 with 1 Axes>"
            ]
          },
          "metadata": {
            "tags": [],
            "needs_background": "light"
          }
        }
      ]
    },
    {
      "cell_type": "code",
      "metadata": {
        "id": "MTA8iLD9M7kB",
        "colab_type": "code",
        "colab": {
          "base_uri": "https://localhost:8080/",
          "height": 207
        },
        "outputId": "eb4d374f-de75-4acf-a672-ba427da07398"
      },
      "source": [
        "from keras.preprocessing.sequence import pad_sequences\n",
        "from keras.layers import Embedding, GRU, LSTM\n",
        "x_train = pad_sequences(tokenizer.texts_to_sequences(textDF))\n",
        "x_test =  pad_sequences(tokenizer.texts_to_sequences(textDF_test))\n",
        "\n",
        "textDF.tolist()[:10]"
      ],
      "execution_count": 22,
      "outputs": [
        {
          "output_type": "execute_result",
          "data": {
            "text/plain": [
              "[\"this was an absolutely terrible movie  don't be lured in by christopher walken or michael ironside  both are great actors  but this must simply be their worst role in history  even their great acting could not redeem this movie's ridiculous storyline  this movie is an early nineties us propaganda piece  the most pathetic scenes were those when the columbian rebels were making their cases for revolutions  maria conchita alonso appeared phony  and her pseudo love affair with walken was nothing but a pathetic emotional plug in a movie that was devoid of any real meaning  i am disappointed that there are movies like this  ruining actor's like christopher walken's good name  i could barely sit through it \",\n",
              " 'i have been known to fall asleep during films  but this is usually due to a combination of things including  really tired  being warm and comfortable on the sette and having just eaten a lot  however on this occasion i fell asleep because the film was rubbish  the plot development was constant  constantly slow and boring  things seemed to happen  but with no explanation of what was causing them or why  i admit  i may have missed part of the film  but i watched the majority of it and everything just seemed to happen of its own accord without any real concern for anything else  i cant recommend this film at all ',\n",
              " 'mann photographs the alberta rocky mountains in a superb fashion  and jimmy stewart and walter brennan give enjoyable performances as they always seem to do  <br  ><br  >but come on hollywood   a mountie telling the people of dawson city  yukon to elect themselves a marshal  yes a marshal   and to enforce the law themselves  then gunfighters battling it out on the streets for control of the town  <br  ><br  >nothing even remotely resembling that happened on the canadian side of the border during the klondike gold rush  mr  mann and company appear to have mistaken dawson city for deadwood  the canadian north for the american wild west <br  ><br  >canadian viewers be prepared for a reefer madness type of enjoyable howl with this ludicrous plot  or  to shake your head in disgust ',\n",
              " 'this is the kind of film for a snowy sunday afternoon when the rest of the world can go ahead with its own business as you descend into a big arm chair and mellow for a couple of hours  wonderful performances from cher and nicolas cage  as always  gently row the plot along  there are no rapids to cross  no dangerous waters  just a warm and witty paddle through new york life at its best  a family film in every sense and one that deserves the praise it received ',\n",
              " 'as others have mentioned  all the women that go nude in this film are mostly absolutely gorgeous  the plot very ably shows the hypocrisy of the female libido  when men are around they want to be pursued  but when no  men  are around  they become the pursuers of a    year old boy  and the boy becomes a man really fast  we should all be so lucky at this age    he then gets up the courage to pursue his true love ',\n",
              " \"this is a film which should be seen by anybody interested in  effected by  or suffering from an eating disorder  it is an amazingly accurate and sensitive portrayal of bulimia in a teenage girl  its causes and its symptoms  the girl is played by one of the most brilliant young actresses working in cinema today  alison lohman  who was later so spectacular in 'where the truth lies'  i would recommend that this film be shown in all schools  as you will never see a better on this subject  alison lohman is absolutely outstanding  and one marvels at her ability to convey the anguish of a girl suffering from this compulsive disorder  if barometers tell us the air pressure  alison lohman tells us the emotional pressure with the same degree of accuracy  her emotional range is so precise  each scene could be measured microscopically for its gradations of trauma  on a scale of rising hysteria and desperation which reaches unbearable intensity  mare winningham is the perfect choice to play her mother  and does so with immense sympathy and a range of emotions just as finely tuned as lohman's  together  they make a pair of sensitive emotional oscillators vibrating in resonance with one another  this film is really an astonishing achievement  and director katt shea should be proud of it  the only reason for not seeing it is if you are not interested in people  but even if you like nature films best  this is after all animal behaviour at the sharp edge  bulimia is an extreme version of how a tormented soul can destroy her own body in a frenzy of despair  and if we don't sympathise with people suffering from the depths of despair  then we are dead inside \",\n",
              " \"okay  you have <br  ><br  >penelope keith as miss herringbone tweed  b b e   backbone of england   she's killed off in the first scene   that's right  folks  this show has no backbone <br  ><br  >peter o'toole as ol' colonel cricket from the first war and now the emblazered lord of the manor <br  ><br  >joanna lumley as the ensweatered lady of the manor     years younger than the colonel and    years past her own prime but still glamourous  brit spelling  not mine  enough to have a toy boy on the side  it's alright  they have col  cricket's full knowledge and consent  they guy even comes 'round for christmas   still  she's considerate of the colonel enough to have said toy boy her own age  what a gal  <br  ><br  >david mccallum as said toy boy  equally as pointlessly glamourous as his squeeze  pilcher couldn't come up with any cover for him within the story  so she gave him a hush hush job at the circus <br  ><br  >and finally <br  ><br  >susan hampshire as miss polonia teacups  venerable headmistress of the venerable girls' boarding school  serving tea in her office with a dash of deep  poignant advice for life in the outside world just before graduation  her best bit of advice   i've only been to nancherrow  the local stately home of england  once  i thought it was very beautiful but  somehow  not part of the real world   well  we can't say they didn't warn us <br  ><br  >ah  susan   time was  your character would have been running the whole show  they don't write 'em like that any more  our loss  not yours <br  ><br  >so   with a cast and setting like this  you have the re makings of  brideshead revisited   right <br  ><br  >wrong  they took these   dimensional supporting roles because they paid so well  after all  acting is one of the oldest temp jobs there is  you name another  <br  ><br  >first warning sign  lots and lots of backlighting  they get around it by shooting outdoors    hey  it's just the sunlight  <br  ><br  >second warning sign  leading lady cries a lot  when not crying  her eyes are moist  that's the law of romance novels  leading lady is  dewy eyed  <br  ><br  >henceforth  leading lady shall be known as l l <br  ><br  >third warning sign  l l  actually has stars in her eyes when she's in love  still  i'll give emily mortimer an award just for having to act with that spotlight in her eyes  i wonder   did they use contacts  <br  ><br  >and lastly  fourth warning sign  no on screen female character is  mrs   she's either  miss  or  lady  <br  ><br  >when all was said and done  i still couldn't tell you who was pursuing whom and why  i couldn't even tell you what was said and done <br  ><br  >to sum up  they all live through world war ii without anything happening to them at all <br  ><br  >ok  at the end  l l  finds she's lost her parents to the japanese prison camps and baby sis comes home catatonic  meanwhile  there's always a  meanwhile    some young guy l l  had a crush on  when  i don't know  comes home from some wartime tough spot and is found living on the street by lady of the manor  must be some street if she's going to find him there   both war casualties are whisked away to recover at nancherrow  somebody has to be  whisked away  somewhere in these romance stories  <br  ><br  >great drama \",\n",
              " \"the film is based on a genuine     s novel <br  ><br  >journalist colin mcinnes wrote a set of three  london novels    absolute beginners    city of spades  and  mr love and justice   i have read all three  the first two are excellent  the last  perhaps an experiment that did not come off  but mcinnes's work is highly acclaimed  and rightly so  this musical is the novelist's ultimate nightmare   to see the fruits of one's mind being turned into a glitzy  badly acted  soporific one dimensional apology of a film that says it captures the spirit of     s london  and does nothing of the sort <br  ><br  >thank goodness colin mcinnes wasn't alive to witness it \",\n",
              " \"i really love the sexy action and sci fi films of the sixties and its because of the actress's that appeared in them  they found the sexiest women to be in these films and it didn't matter if they could act  remember  candy     the reason i was disappointed by this film was because it wasn't nostalgic enough  the story here has a european sci fi film called  dragonfly  being made and the director is fired  so the producers decide to let a young aspiring filmmaker  jeremy davies  to complete the picture  they're is one real beautiful woman in the film who plays dragonfly but she's barely in it  film is written and directed by roman coppola who uses some of his fathers exploits from his early days and puts it into the script  i wish the film could have been an homage to those early films  they could have lots of cameos by actors who appeared in them  there is one actor in this film who was popular from the sixties and its john phillip law  barbarella   gerard depardieu  giancarlo giannini and dean stockwell appear as well  i guess i'm going to have to continue waiting for a director to make a good homage to the films of the sixties  if any are reading this   make it as sexy as you can   i'll be waiting \",\n",
              " \"sure  this one isn't really a blockbuster  nor does it target such a position   dieter  is the first name of a quite popular german musician  who is either loved or hated for his kind of acting and thats exactly what this movie is about  it is based on the autobiography  dieter bohlen  wrote a few years ago but isn't meant to be accurate on that  the movie is filled with some sexual offensive content  at least for american standard  which is either amusing  not for the other  actors  of course  or dumb   it depends on your individual kind of humor or on you being a  bohlen  fan or not  technically speaking there isn't much to criticize  speaking of me i find this movie to be an ok movie \"]"
            ]
          },
          "metadata": {
            "tags": []
          },
          "execution_count": 22
        }
      ]
    },
    {
      "cell_type": "code",
      "metadata": {
        "id": "k_yLy5TMV_Qo",
        "colab_type": "code",
        "colab": {}
      },
      "source": [
        "gru = Sequential()\n",
        "gru.add(Embedding(2**13, 3))  # 2**13 is tokenizer num words \n",
        "gru.add(GRU(3))\n",
        "gru.add(ks.layers.Dense(2, activation='sigmoid'))\n"
      ],
      "execution_count": 0,
      "outputs": []
    },
    {
      "cell_type": "code",
      "metadata": {
        "id": "4RJP0gYUWCV7",
        "colab_type": "code",
        "colab": {
          "base_uri": "https://localhost:8080/",
          "height": 255
        },
        "outputId": "8d813f21-589f-40d4-d8a5-88f10ef2df94"
      },
      "source": [
        "gru.compile(loss=ks.losses.BinaryCrossentropy(),\n",
        "             optimizer=ks.optimizers.Adam(1e-3),\n",
        "             metrics=['accuracy'])\n",
        "gru.summary()"
      ],
      "execution_count": 24,
      "outputs": [
        {
          "output_type": "stream",
          "text": [
            "Model: \"sequential_2\"\n",
            "_________________________________________________________________\n",
            "Layer (type)                 Output Shape              Param #   \n",
            "=================================================================\n",
            "embedding_1 (Embedding)      (None, None, 3)           24576     \n",
            "_________________________________________________________________\n",
            "gru_1 (GRU)                  (None, 3)                 63        \n",
            "_________________________________________________________________\n",
            "dense_4 (Dense)              (None, 2)                 8         \n",
            "=================================================================\n",
            "Total params: 24,647\n",
            "Trainable params: 24,647\n",
            "Non-trainable params: 0\n",
            "_________________________________________________________________\n"
          ],
          "name": "stdout"
        }
      ]
    },
    {
      "cell_type": "code",
      "metadata": {
        "id": "Mrw-MbfuWFXu",
        "colab_type": "code",
        "colab": {
          "base_uri": "https://localhost:8080/",
          "height": 683
        },
        "outputId": "b0f274a8-fb17-425d-ab53-5fb812c02dc8"
      },
      "source": [
        "\n",
        "print(x_train)\n",
        "print(x_train.shape)\n",
        "print(x_test.shape)\n",
        "print(y_train.shape)\n",
        "print(y_test.shape)\n",
        "\n",
        "history = gru.fit(x_train, y_train, epochs=12, \n",
        "                  batch_size=100, validation_data=(x_test, y_test)) \n"
      ],
      "execution_count": 25,
      "outputs": [
        {
          "output_type": "stream",
          "text": [
            "[[   0    0    0 ...  859  140    9]\n",
            " [   0    0    0 ...   19   30   29]\n",
            " [   0    0    0 ...  415    8 6001]\n",
            " ...\n",
            " [   0    0    0 ...   15   11   28]\n",
            " [   0    0    0 ...   77 1277   22]\n",
            " [   0    0    0 ...   31 1649  701]]\n",
            "(25000, 2099)\n",
            "(25000, 2169)\n",
            "(25000, 2)\n",
            "(25000, 2)\n"
          ],
          "name": "stdout"
        },
        {
          "output_type": "stream",
          "text": [
            "/usr/local/lib/python3.6/dist-packages/tensorflow/python/framework/indexed_slices.py:434: UserWarning: Converting sparse IndexedSlices to a dense Tensor of unknown shape. This may consume a large amount of memory.\n",
            "  \"Converting sparse IndexedSlices to a dense Tensor of unknown shape. \"\n"
          ],
          "name": "stderr"
        },
        {
          "output_type": "stream",
          "text": [
            "Train on 25000 samples, validate on 25000 samples\n",
            "Epoch 1/12\n",
            "25000/25000 [==============================] - 320s 13ms/step - loss: 0.6818 - accuracy: 0.5998 - val_loss: 0.6390 - val_accuracy: 0.6812\n",
            "Epoch 2/12\n",
            "25000/25000 [==============================] - 321s 13ms/step - loss: 0.4671 - accuracy: 0.7984 - val_loss: 0.4213 - val_accuracy: 0.8244\n",
            "Epoch 3/12\n",
            "25000/25000 [==============================] - 320s 13ms/step - loss: 0.3608 - accuracy: 0.8593 - val_loss: 0.3941 - val_accuracy: 0.8351\n",
            "Epoch 4/12\n",
            "25000/25000 [==============================] - 316s 13ms/step - loss: 0.3507 - accuracy: 0.8635 - val_loss: 0.3923 - val_accuracy: 0.8352\n",
            "Epoch 5/12\n",
            "25000/25000 [==============================] - 317s 13ms/step - loss: 0.3067 - accuracy: 0.8837 - val_loss: 0.4034 - val_accuracy: 0.8322\n",
            "Epoch 6/12\n",
            "25000/25000 [==============================] - 315s 13ms/step - loss: 0.2882 - accuracy: 0.8919 - val_loss: 0.3829 - val_accuracy: 0.8421\n",
            "Epoch 7/12\n",
            "25000/25000 [==============================] - 317s 13ms/step - loss: 0.2714 - accuracy: 0.9005 - val_loss: 0.4053 - val_accuracy: 0.8298\n",
            "Epoch 8/12\n",
            "25000/25000 [==============================] - 317s 13ms/step - loss: 0.2524 - accuracy: 0.9105 - val_loss: 0.3895 - val_accuracy: 0.8431\n",
            "Epoch 9/12\n",
            "25000/25000 [==============================] - 321s 13ms/step - loss: 0.2463 - accuracy: 0.9121 - val_loss: 0.4051 - val_accuracy: 0.8378\n",
            "Epoch 10/12\n",
            "25000/25000 [==============================] - 317s 13ms/step - loss: 0.2318 - accuracy: 0.9182 - val_loss: 0.4162 - val_accuracy: 0.8320\n",
            "Epoch 11/12\n",
            "25000/25000 [==============================] - 322s 13ms/step - loss: 0.2230 - accuracy: 0.9221 - val_loss: 0.4068 - val_accuracy: 0.8383\n",
            "Epoch 12/12\n",
            "25000/25000 [==============================] - 318s 13ms/step - loss: 0.2102 - accuracy: 0.9295 - val_loss: 0.4305 - val_accuracy: 0.8320\n"
          ],
          "name": "stdout"
        }
      ]
    }
  ]
}
