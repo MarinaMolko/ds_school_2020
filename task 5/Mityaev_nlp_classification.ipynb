{
  "nbformat": 4,
  "nbformat_minor": 0,
  "metadata": {
    "accelerator": "GPU",
    "colab": {
      "name": "Mityaev_nlp_classification.ipynb",
      "provenance": [],
      "collapsed_sections": []
    },
    "kernelspec": {
      "display_name": "Python 3",
      "language": "python",
      "name": "python3"
    },
    "language_info": {
      "codemirror_mode": {
        "name": "ipython",
        "version": 3
      },
      "file_extension": ".py",
      "mimetype": "text/x-python",
      "name": "python",
      "nbconvert_exporter": "python",
      "pygments_lexer": "ipython3",
      "version": "3.7.4"
    }
  },
  "cells": [
    {
      "cell_type": "code",
      "metadata": {
        "colab_type": "code",
        "id": "nNtFc05SSHDA",
        "colab": {}
      },
      "source": [
        "import string\n",
        "import numpy as np\n",
        "import matplotlib.pyplot as plt\n",
        "import spacy\n",
        "import nltk\n",
        "from nltk.stem import WordNetLemmatizer, PorterStemmer\n",
        "import gensim\n",
        "from sklearn.linear_model import LogisticRegression\n",
        "from sklearn.metrics import accuracy_score, precision_score, recall_score\n",
        "from sklearn.feature_extraction.text import TfidfVectorizer\n",
        "from sklearn.preprocessing import StandardScaler, OneHotEncoder\n",
        "import tensorflow as tf\n",
        "from tensorflow.keras.preprocessing import text \n",
        "from tensorflow.keras.preprocessing.sequence import pad_sequences\n",
        "from tensorflow.keras.layers import (Embedding,\n",
        "    LSTM, LSTMCell, Dense, Flatten, Dropout)\n",
        "from tensorflow.keras.activations import sigmoid, tanh, relu, softmax\n",
        "from tensorflow.keras.optimizers import SGD, Adam\n",
        "from tensorflow.keras.models import Model, Sequential\n",
        "from tensorflow.keras.losses import BinaryCrossentropy\n",
        "from tensorflow.keras.metrics import BinaryAccuracy, Recall, Precision\n",
        "from tensorflow.keras.regularizers import l2\n",
        "from tensorflow.keras.utils import to_categorical\n",
        "import tensorflow_datasets as tfds\n",
        "\n",
        "%matplotlib inline"
      ],
      "execution_count": 0,
      "outputs": []
    },
    {
      "cell_type": "code",
      "metadata": {
        "colab_type": "code",
        "id": "rDLHO4SLS6Ze",
        "colab": {}
      },
      "source": [
        "imdb, info = tfds.load('imdb_reviews', with_info=True)\n",
        "train, test = imdb['train'], imdb['test']"
      ],
      "execution_count": 0,
      "outputs": []
    },
    {
      "cell_type": "code",
      "metadata": {
        "colab_type": "code",
        "id": "St78ROeMTlgp",
        "colab": {}
      },
      "source": [
        "train_text = train.map(lambda x: x['text'])\n",
        "test_text = test.map(lambda x: x['text'])\n",
        "\n",
        "train_labels = train.map(lambda x: x['label'])\n",
        "test_labels = test.map(lambda x: x['label'])"
      ],
      "execution_count": 0,
      "outputs": []
    },
    {
      "cell_type": "code",
      "metadata": {
        "colab_type": "code",
        "id": "9AZG9lVZT-Vg",
        "colab": {
          "base_uri": "https://localhost:8080/",
          "height": 315
        },
        "outputId": "e0172581-9dfb-4395-8344-4207e6d2fd65"
      },
      "source": [
        "%%time\n",
        "trainlabs_np = np.array(list(map(lambda x: x.numpy(), train_labels)))\n",
        "testlabs_np = np.array(list(map(lambda x: x.numpy(), test_labels)))\n",
        "\n",
        "fig, ax = plt.subplots(1, 2, figsize=(15, 4))\n",
        "ax[0].hist(trainlabs_np, orientation='horizontal')\n",
        "ax[0].set_title('Train labels distribution')\n",
        "ax[0].grid()\n",
        "ax[1].hist(testlabs_np, orientation='horizontal')\n",
        "ax[1].set_title('Test labels distribution')\n",
        "ax[1].grid()"
      ],
      "execution_count": 5,
      "outputs": [
        {
          "output_type": "stream",
          "text": [
            "CPU times: user 17.9 s, sys: 5.95 s, total: 23.9 s\n",
            "Wall time: 15.7 s\n"
          ],
          "name": "stdout"
        },
        {
          "output_type": "display_data",
          "data": {
            "image/png": "[encoded data removed]",
            "text/plain": [
              "<Figure size 1080x288 with 2 Axes>"
            ]
          },
          "metadata": {
            "tags": [],
            "needs_background": "light"
          }
        }
      ]
    },
    {
      "cell_type": "code",
      "metadata": {
        "colab_type": "code",
        "id": "lJEVEbkcT-p6",
        "colab": {
          "base_uri": "https://localhost:8080/",
          "height": 34
        },
        "outputId": "befc3ecb-0959-4495-b417-8785ca7fb6d5"
      },
      "source": [
        "def get_numexamples(data: tfds.core.DatasetInfo, key: str) -> int:\n",
        "    return data.splits[key].num_examples\n",
        "\n",
        "lengths = [get_numexamples(info, key)\n",
        "           for key in ['train', 'test']] \n",
        "\n",
        "print(f'Train, test lengths: {lengths}')"
      ],
      "execution_count": 6,
      "outputs": [
        {
          "output_type": "stream",
          "text": [
            "Train, test lengths: [25000, 25000]\n"
          ],
          "name": "stdout"
        }
      ]
    },
    {
      "cell_type": "code",
      "metadata": {
        "colab_type": "code",
        "id": "T0yAXygjT-3X",
        "colab": {
          "base_uri": "https://localhost:8080/",
          "height": 68
        },
        "outputId": "35320283-25c9-4228-c069-955aaccd3c96"
      },
      "source": [
        "nltk.download('stopwords')\n",
        "\n",
        "stopwords = nltk.corpus.stopwords.words('english')\n",
        "punc_signs = string.punctuation\n",
        "punc_signs"
      ],
      "execution_count": 7,
      "outputs": [
        {
          "output_type": "stream",
          "text": [
            "[nltk_data] Downloading package stopwords to /root/nltk_data...\n",
            "[nltk_data]   Package stopwords is already up-to-date!\n"
          ],
          "name": "stdout"
        },
        {
          "output_type": "execute_result",
          "data": {
            "text/plain": [
              "'!\"#$%&\\'()*+,-./:;<=>?@[\\\\]^_`{|}~'"
            ]
          },
          "metadata": {
            "tags": []
          },
          "execution_count": 7
        }
      ]
    },
    {
      "cell_type": "code",
      "metadata": {
        "colab_type": "code",
        "id": "wDWjAry8T_CP",
        "colab": {
          "base_uri": "https://localhost:8080/",
          "height": 51
        },
        "outputId": "e1312936-bf79-4967-8268-5a3e35906a02"
      },
      "source": [
        "nltk.download('punkt')\n",
        "\n",
        "# Extract lower byte string from tensor in certain encoding\n",
        "def bytes_to_raw(data: tf.Tensor) -> str:\n",
        "    return data.numpy().decode('utf8').lower()"
      ],
      "execution_count": 8,
      "outputs": [
        {
          "output_type": "stream",
          "text": [
            "[nltk_data] Downloading package punkt to /root/nltk_data...\n",
            "[nltk_data]   Package punkt is already up-to-date!\n"
          ],
          "name": "stdout"
        }
      ]
    },
    {
      "cell_type": "code",
      "metadata": {
        "colab_type": "code",
        "id": "0ptz5joOT_TP",
        "colab": {
          "base_uri": "https://localhost:8080/",
          "height": 51
        },
        "outputId": "7185cf91-dd06-45c0-9f6d-011962e2c000"
      },
      "source": [
        "%%time\n",
        "train_text = list(map(bytes_to_raw, train_text))\n",
        "test_text = list(map(bytes_to_raw, test_text))"
      ],
      "execution_count": 9,
      "outputs": [
        {
          "output_type": "stream",
          "text": [
            "CPU times: user 18 s, sys: 5.82 s, total: 23.8 s\n",
            "Wall time: 14.5 s\n"
          ],
          "name": "stdout"
        }
      ]
    },
    {
      "cell_type": "code",
      "metadata": {
        "colab_type": "code",
        "id": "3XWhJPkf1fg4",
        "colab": {
          "base_uri": "https://localhost:8080/",
          "height": 68
        },
        "outputId": "b2b9f862-96d1-4aaf-8b8b-29dd62d5f395"
      },
      "source": [
        "%%time\n",
        "import re\n",
        "import itertools\n",
        "\n",
        "# Find separate numeric values in corpus\n",
        "train_nums = [re.findall(r'\\d+', text) for text in train_text]\n",
        "train_nums = set(itertools.chain(*train_nums))\n",
        "test_nums = [re.findall(r'\\d+', text) for text in test_text]\n",
        "test_nums = set(itertools.chain(*test_nums))\n",
        "nums = train_nums | test_nums\n",
        "\n",
        "print(f'Count of numerics: {len(nums)}')"
      ],
      "execution_count": 10,
      "outputs": [
        {
          "output_type": "stream",
          "text": [
            "Count of numerics: 863\n",
            "CPU times: user 1.46 s, sys: 0 ns, total: 1.46 s\n",
            "Wall time: 1.46 s\n"
          ],
          "name": "stdout"
        }
      ]
    },
    {
      "cell_type": "code",
      "metadata": {
        "colab_type": "code",
        "id": "vmWgTJiOT_aq",
        "colab": {
          "base_uri": "https://localhost:8080/",
          "height": 51
        },
        "outputId": "340e2554-d9e0-435e-f565-057a161e3357"
      },
      "source": [
        "%%time\n",
        "## Break text into tokens - separate words and signs\n",
        "train_tokenized = [nltk.word_tokenize(text) for text in train_text]\n",
        "test_tokenized = [nltk.word_tokenize(text) for text in test_text]"
      ],
      "execution_count": 11,
      "outputs": [
        {
          "output_type": "stream",
          "text": [
            "CPU times: user 1min 33s, sys: 373 ms, total: 1min 33s\n",
            "Wall time: 1min 33s\n"
          ],
          "name": "stdout"
        }
      ]
    },
    {
      "cell_type": "code",
      "metadata": {
        "colab_type": "code",
        "id": "fzJra986T_qK",
        "colab": {
          "base_uri": "https://localhost:8080/",
          "height": 51
        },
        "outputId": "db613f24-52be-4400-d3b9-b1bfebbd3de5"
      },
      "source": [
        "%%time\n",
        "extra_stop = [\"''\", \"...\", \"``\", \"--\", \"'s\", \"br\"]\n",
        "all_stops = stopwords + extra_stop\n",
        "\n",
        "# Clean text from stops and numbers\n",
        "train_tokens = list([\n",
        "    word for word in words\n",
        "    if (word not in punc_signs) and (word not in all_stops)\n",
        "    and (word not in nums)\n",
        "] for words in train_tokenized)\n",
        "\n",
        "test_tokens = list([\n",
        "    word for word in words\n",
        "    if (word not in punc_signs) and (word not in all_stops)\n",
        "    and (word not in nums)\n",
        "] for words in test_tokenized)"
      ],
      "execution_count": 12,
      "outputs": [
        {
          "output_type": "stream",
          "text": [
            "CPU times: user 19.3 s, sys: 15.3 ms, total: 19.3 s\n",
            "Wall time: 19.3 s\n"
          ],
          "name": "stdout"
        }
      ]
    },
    {
      "cell_type": "code",
      "metadata": {
        "colab_type": "code",
        "id": "TvwJNM3MbwD7",
        "colab": {}
      },
      "source": [
        "# I choosed not to use spacy lemmatization 'cause of it's very low speed"
      ],
      "execution_count": 0,
      "outputs": []
    },
    {
      "cell_type": "code",
      "metadata": {
        "colab_type": "code",
        "id": "bBHYjD5tT_5n",
        "colab": {
          "base_uri": "https://localhost:8080/",
          "height": 85
        },
        "outputId": "492c3b85-5196-432c-b48c-051a4f8f40a7"
      },
      "source": [
        "%%time\n",
        "nltk.download('wordnet')\n",
        "\n",
        "# Tokens lemmatization\n",
        "lemmatizer = WordNetLemmatizer()\n",
        "\n",
        "train_tokens = list([\n",
        "    lemmatizer.lemmatize(word, pos='v') for word in words\n",
        "] for words in train_tokens)\n",
        "\n",
        "test_tokens = list([\n",
        "    lemmatizer.lemmatize(word, pos='v') for word in words\n",
        "] for words in test_tokens)"
      ],
      "execution_count": 14,
      "outputs": [
        {
          "output_type": "stream",
          "text": [
            "[nltk_data] Downloading package wordnet to /root/nltk_data...\n",
            "[nltk_data]   Package wordnet is already up-to-date!\n",
            "CPU times: user 27.6 s, sys: 145 ms, total: 27.7 s\n",
            "Wall time: 28 s\n"
          ],
          "name": "stdout"
        }
      ]
    },
    {
      "cell_type": "code",
      "metadata": {
        "colab_type": "code",
        "id": "akfUG9uHUARr",
        "colab": {
          "base_uri": "https://localhost:8080/",
          "height": 102
        },
        "outputId": "9cbcde4c-4c5d-4937-a2a4-d5c75e29ad84"
      },
      "source": [
        "%%time\n",
        "flatten_train = list(itertools.chain(*train_tokens))\n",
        "print(f'Count of tokens in train corpus: {len(flatten_train)}')\n",
        "flatten_test = list(itertools.chain(*test_tokens))\n",
        "print(f'Count of tokens in test corpus: {len(flatten_test)}')\n",
        "\n",
        "vocab_size = len(set(flatten_train) | set(flatten_test))\n",
        "print(f'Vocabulary size: {vocab_size}')"
      ],
      "execution_count": 15,
      "outputs": [
        {
          "output_type": "stream",
          "text": [
            "Count of tokens in train corpus: 3029167\n",
            "Count of tokens in test corpus: 2960123\n",
            "Vocabulary size: 154879\n",
            "CPU times: user 720 ms, sys: 39.9 ms, total: 760 ms\n",
            "Wall time: 760 ms\n"
          ],
          "name": "stdout"
        }
      ]
    },
    {
      "cell_type": "code",
      "metadata": {
        "colab_type": "code",
        "id": "3z8TmoSZeoTs",
        "colab": {}
      },
      "source": [
        "# 1 TfIdf + LogReg протестить\n",
        "# 2 Tokenizer + Dense network протестить\n",
        "# 3 Обучить небольшой эмбеддинг и рнн на керасе и протестить\n",
        "# 5 Построить графики обучения\n",
        "# 6 Посчитать для всех моделей точность, precision, recall\n",
        "# 7 Сравнить модели, сделать выводы"
      ],
      "execution_count": 0,
      "outputs": []
    },
    {
      "cell_type": "markdown",
      "metadata": {
        "colab_type": "text",
        "id": "KgPjdCweexyd"
      },
      "source": [
        "#### 1) TfIdf + LogReg\n"
      ]
    },
    {
      "cell_type": "code",
      "metadata": {
        "colab_type": "code",
        "id": "UaO7wbfLe3RP",
        "colab": {
          "base_uri": "https://localhost:8080/",
          "height": 34
        },
        "outputId": "b1ecc45a-73d0-4279-f184-9c1c3a57decc"
      },
      "source": [
        "# Define vectorizer with 1/20 count of important words\n",
        "features_count = vocab_size // 20\n",
        "tfidf_vector = TfidfVectorizer(max_features=features_count)\n",
        "print('Count of word features: {}'.format(features_count))"
      ],
      "execution_count": 17,
      "outputs": [
        {
          "output_type": "stream",
          "text": [
            "Count of word features: 7743\n"
          ],
          "name": "stdout"
        }
      ]
    },
    {
      "cell_type": "code",
      "metadata": {
        "colab_type": "code",
        "id": "rQU85XIxoOQg",
        "colab": {}
      },
      "source": [
        "# Build texts with initial content\n",
        "# (without order, stopwords, lemmatized and lowered)\n",
        "train_strs = [' '.join(words) for words in train_tokens]\n",
        "test_strs = [' '.join(words) for words in test_tokens]"
      ],
      "execution_count": 0,
      "outputs": []
    },
    {
      "cell_type": "code",
      "metadata": {
        "colab_type": "code",
        "id": "OdnFtG8Mqr5s",
        "colab": {}
      },
      "source": [
        "# Use tfidf-vect to get tf-idf text representation\n",
        "train_vectors = tfidf_vector.fit_transform(train_strs)\n",
        "test_vectors = tfidf_vector.transform(test_strs)"
      ],
      "execution_count": 0,
      "outputs": []
    },
    {
      "cell_type": "code",
      "metadata": {
        "colab_type": "code",
        "id": "C8K9LwzWtPsY",
        "colab": {
          "base_uri": "https://localhost:8080/",
          "height": 51
        },
        "outputId": "2d1e52ad-b126-4424-cec3-64b6573c941c"
      },
      "source": [
        "%%time\n",
        "from sklearn.model_selection import train_test_split\n",
        "\n",
        "log_reg = LogisticRegression(random_state=1, n_jobs=2)\n",
        "\n",
        "# Train-val split\n",
        "x_train, x_val, y_train, y_val = train_test_split(\n",
        "    train_vectors, trainlabs_np, train_size=0.8, \n",
        "    random_state=0, shuffle=True\n",
        ")\n",
        "\n",
        "log_reg = log_reg.fit(x_train, y_train)"
      ],
      "execution_count": 20,
      "outputs": [
        {
          "output_type": "stream",
          "text": [
            "CPU times: user 47.3 ms, sys: 115 ms, total: 163 ms\n",
            "Wall time: 1.39 s\n"
          ],
          "name": "stdout"
        }
      ]
    },
    {
      "cell_type": "code",
      "metadata": {
        "colab_type": "code",
        "id": "f9e2RYl-mbaU",
        "colab": {}
      },
      "source": [
        "def get_classification_metrics(labels, predicted, set_type: str):\n",
        "    acc = accuracy_score(labels, predicted)\n",
        "    prec = precision_score(labels, predicted)\n",
        "    rec = recall_score(labels, predicted)\n",
        "\n",
        "    print(f'{set_type} accuracy: {acc:.4f}\\n'\n",
        "          f'precision: {prec:.4f}\\n'\n",
        "          f'recall {rec:.4f}')"
      ],
      "execution_count": 0,
      "outputs": []
    },
    {
      "cell_type": "code",
      "metadata": {
        "colab_type": "code",
        "id": "N9aSR9ZvlBtf",
        "colab": {
          "base_uri": "https://localhost:8080/",
          "height": 68
        },
        "outputId": "f95fb6dc-33f3-4c19-fa70-ba7fa1a30d84"
      },
      "source": [
        "y_train_pred = log_reg.predict(x_train)\n",
        "get_classification_metrics(y_train, y_train_pred, 'Train')"
      ],
      "execution_count": 22,
      "outputs": [
        {
          "output_type": "stream",
          "text": [
            "Train accuracy: 0.9241\n",
            "precision: 0.9151\n",
            "recall 0.9353\n"
          ],
          "name": "stdout"
        }
      ]
    },
    {
      "cell_type": "code",
      "metadata": {
        "colab_type": "code",
        "id": "Itc2jC9pVExo",
        "colab": {
          "base_uri": "https://localhost:8080/",
          "height": 68
        },
        "outputId": "83d75150-f518-483f-df03-02d7a8b0baea"
      },
      "source": [
        "y_val_pred = log_reg.predict(x_val)\n",
        "get_classification_metrics(y_val, y_val_pred, 'Validation')"
      ],
      "execution_count": 23,
      "outputs": [
        {
          "output_type": "stream",
          "text": [
            "Validation accuracy: 0.8806\n",
            "precision: 0.8652\n",
            "recall 0.8991\n"
          ],
          "name": "stdout"
        }
      ]
    },
    {
      "cell_type": "code",
      "metadata": {
        "colab_type": "code",
        "id": "P-rLfII7jpHc",
        "colab": {
          "base_uri": "https://localhost:8080/",
          "height": 68
        },
        "outputId": "dfe0d1b7-e478-4c5f-d980-af4c69ed4b70"
      },
      "source": [
        "y_test_pred = log_reg.predict(test_vectors)\n",
        "get_classification_metrics(testlabs_np, y_test_pred, 'Test')"
      ],
      "execution_count": 24,
      "outputs": [
        {
          "output_type": "stream",
          "text": [
            "Test accuracy: 0.8783\n",
            "precision: 0.8766\n",
            "recall 0.8805\n"
          ],
          "name": "stdout"
        }
      ]
    },
    {
      "cell_type": "markdown",
      "metadata": {
        "colab_type": "text",
        "id": "Kdm81RM5lLe_"
      },
      "source": [
        "#### Tokenizer + Dense network"
      ]
    },
    {
      "cell_type": "code",
      "metadata": {
        "colab_type": "code",
        "id": "WE68daQ5pIVe",
        "colab": {}
      },
      "source": [
        "# Define tokenizer with count of important words\n",
        "# equals to 1/10 part of full vocabulary\n",
        "tokenizer = text.Tokenizer(num_words=features_count)"
      ],
      "execution_count": 0,
      "outputs": []
    },
    {
      "cell_type": "code",
      "metadata": {
        "colab_type": "code",
        "id": "TQrsB7bMx3jI",
        "colab": {}
      },
      "source": [
        "tokenizer.fit_on_texts(train_strs)\n",
        "dictionary = tokenizer.word_index\n",
        "\n",
        "def text_to_indices(text_):\n",
        "    return [dictionary[word] for word in text.text_to_word_sequence(text_)]"
      ],
      "execution_count": 0,
      "outputs": []
    },
    {
      "cell_type": "code",
      "metadata": {
        "colab_type": "code",
        "id": "OxMZCkFGPQ2M",
        "colab": {}
      },
      "source": [
        "train_indices = [text_to_indices(text) for text in train_strs]\n",
        "train_indices = np.asarray(train_indices)\n",
        "\n",
        "x_train = tokenizer.sequences_to_matrix(train_indices, mode='binary')"
      ],
      "execution_count": 0,
      "outputs": []
    },
    {
      "cell_type": "code",
      "metadata": {
        "id": "j55hc1wmSBVq",
        "colab_type": "code",
        "colab": {}
      },
      "source": [
        "y_train = to_categorical(trainlabs_np, 2)\n",
        "y_test = to_categorical(testlabs_np, 2)"
      ],
      "execution_count": 0,
      "outputs": []
    },
    {
      "cell_type": "code",
      "metadata": {
        "colab_type": "code",
        "id": "r12PuIz17z4V",
        "colab": {}
      },
      "source": [
        "class ReviewClassifierNN(Model):\n",
        "    def __init__(self):\n",
        "        super(ReviewClassifierNN, self).__init__()\n",
        "        self.fc1 = Dense(64, input_shape=(features_count,),\n",
        "                         activation=relu)\n",
        "        self.drop1 = Dropout(0.5)\n",
        "        self.fc2 = Dense(256, activation=sigmoid)\n",
        "        self.drop2 = Dropout(0.5)\n",
        "        self.fc3 = Dense(64, activation=sigmoid)\n",
        "        self.drop3 = Dropout(0.5)\n",
        "        self.fc4 = Dense(2, activation=sigmoid)\n",
        "\n",
        "    def call(self, x):\n",
        "        x = self.fc1(x)\n",
        "        x = self.drop1(x)\n",
        "        x = self.fc2(x)\n",
        "        x = self.drop2(x)\n",
        "        x = self.fc3(x)\n",
        "        x = self.drop3(x)\n",
        "        x = self.fc4(x)\n",
        "        return x"
      ],
      "execution_count": 0,
      "outputs": []
    },
    {
      "cell_type": "code",
      "metadata": {
        "colab_type": "code",
        "id": "QC3-fjjv_Hbu",
        "colab": {}
      },
      "source": [
        "model = ReviewClassifierNN()\n",
        "\n",
        "optim = Adam(0.002)\n",
        "bce = BinaryCrossentropy(from_logits=True)\n",
        "model.compile(loss=bce, optimizer=optim,\n",
        "              metrics=[BinaryAccuracy()])"
      ],
      "execution_count": 0,
      "outputs": []
    },
    {
      "cell_type": "code",
      "metadata": {
        "colab_type": "code",
        "id": "-NnJ1-PSBw9U",
        "colab": {
          "base_uri": "https://localhost:8080/",
          "height": 343
        },
        "outputId": "c287f4ed-544c-4929-a0bc-43c4a19286e9"
      },
      "source": [
        "batch_size_ = 512\n",
        "epochs_ = 3\n",
        "val_split = 0.2\n",
        "\n",
        "history = model.fit(x_train, y_train,\n",
        "                    batch_size=batch_size_, epochs=epochs_,\n",
        "                    validation_split=val_split, shuffle=True)"
      ],
      "execution_count": 31,
      "outputs": [
        {
          "output_type": "stream",
          "text": [
            "Epoch 1/3\n",
            "WARNING:tensorflow:Layer review_classifier_nn is casting an input tensor from dtype float64 to the layer's dtype of float32, which is new behavior in TensorFlow 2.  The layer has dtype float32 because it's dtype defaults to floatx.\n",
            "\n",
            "If you intended to run this layer in float32, you can safely ignore this warning. If in doubt, this warning is likely only an issue if you are porting a TensorFlow 1.X model to TensorFlow 2.\n",
            "\n",
            "To change all layers to have dtype float64 by default, call `tf.keras.backend.set_floatx('float64')`. To change just this layer, pass dtype='float64' to the layer constructor. If you are the author of this layer, you can disable autocasting by passing autocast=False to the base Layer constructor.\n",
            "\n"
          ],
          "name": "stdout"
        },
        {
          "output_type": "stream",
          "text": [
            "WARNING:tensorflow:Layer review_classifier_nn is casting an input tensor from dtype float64 to the layer's dtype of float32, which is new behavior in TensorFlow 2.  The layer has dtype float32 because it's dtype defaults to floatx.\n",
            "\n",
            "If you intended to run this layer in float32, you can safely ignore this warning. If in doubt, this warning is likely only an issue if you are porting a TensorFlow 1.X model to TensorFlow 2.\n",
            "\n",
            "To change all layers to have dtype float64 by default, call `tf.keras.backend.set_floatx('float64')`. To change just this layer, pass dtype='float64' to the layer constructor. If you are the author of this layer, you can disable autocasting by passing autocast=False to the base Layer constructor.\n",
            "\n"
          ],
          "name": "stderr"
        },
        {
          "output_type": "stream",
          "text": [
            "40/40 [==============================] - 1s 33ms/step - loss: 0.6972 - binary_accuracy: 0.4995 - val_loss: 0.6831 - val_binary_accuracy: 0.5000\n",
            "Epoch 2/3\n",
            "40/40 [==============================] - 1s 23ms/step - loss: 0.6179 - binary_accuracy: 0.7226 - val_loss: 0.5657 - val_binary_accuracy: 0.8821\n",
            "Epoch 3/3\n",
            "40/40 [==============================] - 1s 23ms/step - loss: 0.5552 - binary_accuracy: 0.9049 - val_loss: 0.5620 - val_binary_accuracy: 0.8800\n"
          ],
          "name": "stdout"
        }
      ]
    },
    {
      "cell_type": "code",
      "metadata": {
        "pycharm": {
          "name": "#%%\n"
        },
        "id": "pCSv0r1ZSBWZ",
        "colab_type": "code",
        "colab": {
          "base_uri": "https://localhost:8080/",
          "height": 279
        },
        "outputId": "1ae6dbe7-6f39-44f5-a085-a0a9f1f80544"
      },
      "source": [
        "plt.figure(figsize=(6, 4))\n",
        "plt.plot(history.history['binary_accuracy'])\n",
        "plt.plot(history.history['val_binary_accuracy'])\n",
        "plt.xlabel('Epochs')\n",
        "plt.ylabel('Accuracy')\n",
        "plt.legend(['accuracy', 'val accuracy'])\n",
        "plt.grid()"
      ],
      "execution_count": 32,
      "outputs": [
        {
          "output_type": "display_data",
          "data": {
            "image/png": "[encoded data removed]",
            "text/plain": [
              "<Figure size 432x288 with 1 Axes>"
            ]
          },
          "metadata": {
            "tags": [],
            "needs_background": "light"
          }
        }
      ]
    },
    {
      "cell_type": "code",
      "metadata": {
        "colab_type": "code",
        "id": "d3Xvu45PM0c8",
        "colab": {}
      },
      "source": [
        "# Transform test texts into indices according to fitted dictionary\n",
        "# absent words in dictionary are ignored\n",
        "def input_to_indices(text_):\n",
        "    return [dictionary[word] for word in text.text_to_word_sequence(text_)\n",
        "            if word in dictionary]"
      ],
      "execution_count": 0,
      "outputs": []
    },
    {
      "cell_type": "code",
      "metadata": {
        "colab_type": "code",
        "id": "pZHNMqJ-PF5E",
        "colab": {}
      },
      "source": [
        "test_indices = [input_to_indices(text) for text in test_strs]\n",
        "test_indices = np.asarray(test_indices)\n",
        "\n",
        "x_test = tokenizer.sequences_to_matrix(test_indices, mode='binary')"
      ],
      "execution_count": 0,
      "outputs": []
    },
    {
      "cell_type": "code",
      "metadata": {
        "id": "EEl_mqDNSBWv",
        "colab_type": "code",
        "colab": {}
      },
      "source": [
        "y_pred = model.predict(x_test)"
      ],
      "execution_count": 0,
      "outputs": []
    },
    {
      "cell_type": "code",
      "metadata": {
        "id": "qcrqwpT-SBW_",
        "colab_type": "code",
        "colab": {}
      },
      "source": [
        "# Convert from probabilities to most probable lable\n",
        "y_pred = list(map(np.argmax, y_pred))"
      ],
      "execution_count": 0,
      "outputs": []
    },
    {
      "cell_type": "code",
      "metadata": {
        "id": "mW4Ej4O6SBXK",
        "colab_type": "code",
        "colab": {
          "base_uri": "https://localhost:8080/",
          "height": 34
        },
        "outputId": "9db771ee-e4d6-4b7d-b95b-34ba646fbb87"
      },
      "source": [
        "test_loss, test_acc = model.evaluate(x_test, y_test)\n",
        "test_acc = accuracy_score(testlabs_np, y_pred)\n",
        "test_prec = precision_score(testlabs_np, y_pred)\n",
        "test_rec = recall_score(testlabs_np, y_pred)"
      ],
      "execution_count": 37,
      "outputs": [
        {
          "output_type": "stream",
          "text": [
            "782/782 [==============================] - 3s 3ms/step - loss: 0.5636 - binary_accuracy: 0.8774\n"
          ],
          "name": "stdout"
        }
      ]
    },
    {
      "cell_type": "code",
      "metadata": {
        "id": "PBy5GT3WSBXV",
        "colab_type": "code",
        "colab": {
          "base_uri": "https://localhost:8080/",
          "height": 85
        },
        "outputId": "ef429328-0686-4ae6-a799-468a6001d133"
      },
      "source": [
        "print(f'Test loss {test_loss:.4f}')\n",
        "print(f'Test accuracy: {test_acc:.4f}\\n'\n",
        "      f'precision: {test_prec:.4f}\\n'\n",
        "      f'recall {test_rec:.4f}')"
      ],
      "execution_count": 38,
      "outputs": [
        {
          "output_type": "stream",
          "text": [
            "Test loss 0.5636\n",
            "Test accuracy: 0.8784\n",
            "precision: 0.8583\n",
            "recall 0.9066\n"
          ],
          "name": "stdout"
        }
      ]
    },
    {
      "cell_type": "markdown",
      "metadata": {
        "id": "v1QcYJCeSBXn",
        "colab_type": "text"
      },
      "source": [
        "#### Embedding + LSTM network"
      ]
    },
    {
      "cell_type": "code",
      "metadata": {
        "pycharm": {
          "name": "#%%\n"
        },
        "id": "DWVRenI6SBXp",
        "colab_type": "code",
        "colab": {}
      },
      "source": [
        "class LSTMClassifierNN(Model):\n",
        "    def __init__(self):\n",
        "        super(LSTMClassifierNN, self).__init__()\n",
        "        self.embed = Embedding(2**8, 3)\n",
        "        self.lstm = LSTM(3)\n",
        "        self.fc = Dense(2, activation=sigmoid)\n",
        "\n",
        "    def call(self, x):\n",
        "        x = self.embed(x)\n",
        "        x = self.lstm(x)\n",
        "        x = self.fc(x)\n",
        "        return x"
      ],
      "execution_count": 0,
      "outputs": []
    },
    {
      "cell_type": "code",
      "metadata": {
        "pycharm": {
          "name": "#%%\n"
        },
        "id": "492_GGrySBXv",
        "colab_type": "code",
        "colab": {}
      },
      "source": [
        "lstm = LSTMClassifierNN()\n",
        "\n",
        "lstm.compile(loss=bce, optimizer=optim,\n",
        "             metrics=['accuracy'])"
      ],
      "execution_count": 0,
      "outputs": []
    },
    {
      "cell_type": "code",
      "metadata": {
        "pycharm": {
          "name": "#%%\n"
        },
        "id": "FVqJYS-4SBYA",
        "colab_type": "code",
        "colab": {
          "base_uri": "https://localhost:8080/",
          "height": 411
        },
        "outputId": "f681f91c-9e3e-44ce-cf8f-074eea528edc"
      },
      "source": [
        "batch_size_ = 512\n",
        "epochs_ = 5\n",
        "val_split = 0.1\n",
        "\n",
        "history = lstm.fit(x_train, y_train,\n",
        "                   batch_size=batch_size_, epochs=epochs_,\n",
        "                   validation_split=val_split, shuffle=True)"
      ],
      "execution_count": 41,
      "outputs": [
        {
          "output_type": "stream",
          "text": [
            "Epoch 1/5\n",
            "WARNING:tensorflow:Layer lstm_classifier_nn is casting an input tensor from dtype float64 to the layer's dtype of float32, which is new behavior in TensorFlow 2.  The layer has dtype float32 because it's dtype defaults to floatx.\n",
            "\n",
            "If you intended to run this layer in float32, you can safely ignore this warning. If in doubt, this warning is likely only an issue if you are porting a TensorFlow 1.X model to TensorFlow 2.\n",
            "\n",
            "To change all layers to have dtype float64 by default, call `tf.keras.backend.set_floatx('float64')`. To change just this layer, pass dtype='float64' to the layer constructor. If you are the author of this layer, you can disable autocasting by passing autocast=False to the base Layer constructor.\n",
            "\n"
          ],
          "name": "stdout"
        },
        {
          "output_type": "stream",
          "text": [
            "WARNING:tensorflow:Layer lstm_classifier_nn is casting an input tensor from dtype float64 to the layer's dtype of float32, which is new behavior in TensorFlow 2.  The layer has dtype float32 because it's dtype defaults to floatx.\n",
            "\n",
            "If you intended to run this layer in float32, you can safely ignore this warning. If in doubt, this warning is likely only an issue if you are porting a TensorFlow 1.X model to TensorFlow 2.\n",
            "\n",
            "To change all layers to have dtype float64 by default, call `tf.keras.backend.set_floatx('float64')`. To change just this layer, pass dtype='float64' to the layer constructor. If you are the author of this layer, you can disable autocasting by passing autocast=False to the base Layer constructor.\n",
            "\n"
          ],
          "name": "stderr"
        },
        {
          "output_type": "stream",
          "text": [
            "44/44 [==============================] - 29s 667ms/step - loss: 0.7180 - accuracy: 0.4997 - val_loss: 0.7085 - val_accuracy: 0.5024\n",
            "Epoch 2/5\n",
            "44/44 [==============================] - 29s 650ms/step - loss: 0.7034 - accuracy: 0.4997 - val_loss: 0.6995 - val_accuracy: 0.5024\n",
            "Epoch 3/5\n",
            "44/44 [==============================] - 29s 652ms/step - loss: 0.6978 - accuracy: 0.4997 - val_loss: 0.6963 - val_accuracy: 0.5024\n",
            "Epoch 4/5\n",
            "44/44 [==============================] - 29s 654ms/step - loss: 0.6957 - accuracy: 0.4997 - val_loss: 0.6951 - val_accuracy: 0.5024\n",
            "Epoch 5/5\n",
            "44/44 [==============================] - 29s 649ms/step - loss: 0.6949 - accuracy: 0.4997 - val_loss: 0.6945 - val_accuracy: 0.5024\n"
          ],
          "name": "stdout"
        }
      ]
    },
    {
      "cell_type": "code",
      "metadata": {
        "pycharm": {
          "name": "#%%\n"
        },
        "id": "4NyVXpmVSBYO",
        "colab_type": "code",
        "colab": {
          "base_uri": "https://localhost:8080/",
          "height": 281
        },
        "outputId": "fcf96572-f54d-4ea1-ae08-8041e823ac96"
      },
      "source": [
        "plt.figure(figsize=(6, 4))\n",
        "plt.plot(history.history['accuracy'])\n",
        "plt.plot(history.history['val_accuracy'])\n",
        "plt.xlabel('Epochs')\n",
        "plt.ylabel('Accuracy')\n",
        "plt.legend(['accuracy', 'val accuracy'])\n",
        "plt.grid()"
      ],
      "execution_count": 43,
      "outputs": [
        {
          "output_type": "display_data",
          "data": {
            "image/png": "[encoded data removed]",
            "text/plain": [
              "<Figure size 432x288 with 1 Axes>"
            ]
          },
          "metadata": {
            "tags": [],
            "needs_background": "light"
          }
        }
      ]
    },
    {
      "cell_type": "code",
      "metadata": {
        "pycharm": {
          "name": "#%%\n"
        },
        "id": "PfotvMquSBYc",
        "colab_type": "code",
        "colab": {}
      },
      "source": [
        "y_pred = lstm.predict(x_test)"
      ],
      "execution_count": 0,
      "outputs": []
    },
    {
      "cell_type": "code",
      "metadata": {
        "pycharm": {
          "name": "#%%\n"
        },
        "id": "MeOjuNt4SBYq",
        "colab_type": "code",
        "colab": {}
      },
      "source": [
        "y_pred = list(map(np.argmax, y_pred))"
      ],
      "execution_count": 0,
      "outputs": []
    },
    {
      "cell_type": "code",
      "metadata": {
        "pycharm": {
          "name": "#%%\n"
        },
        "id": "FI4eZhZfSBY8",
        "colab_type": "code",
        "colab": {
          "base_uri": "https://localhost:8080/",
          "height": 51
        },
        "outputId": "723b1e8c-562e-46ea-c832-7ae6fd6376c9"
      },
      "source": [
        "test_loss, test_acc = lstm.evaluate(x_test, y_test)\n",
        "test_acc = accuracy_score(testlabs_np, y_pred)\n",
        "test_prec = precision_score(testlabs_np, y_pred)\n",
        "test_rec = recall_score(testlabs_np, y_pred)\n",
        "\n",
        "print(f'Test loss {test_loss}')"
      ],
      "execution_count": 52,
      "outputs": [
        {
          "output_type": "stream",
          "text": [
            "782/782 [==============================] - 216s 277ms/step - loss: 0.6946 - accuracy: 0.5000\n",
            "Test loss 0.6945719718933105\n"
          ],
          "name": "stdout"
        }
      ]
    },
    {
      "cell_type": "code",
      "metadata": {
        "pycharm": {
          "name": "#%%\n"
        },
        "id": "LEjm_nKNSBZM",
        "colab_type": "code",
        "colab": {
          "base_uri": "https://localhost:8080/",
          "height": 68
        },
        "outputId": "342408b2-4ab3-4670-e47c-e2c73efefa2d"
      },
      "source": [
        "print(f'Test accuracy: {test_acc:.4f}\\n'\n",
        "      f'precision: {test_prec:.4f}\\n'\n",
        "      f'recall {test_rec:.4f}')"
      ],
      "execution_count": 49,
      "outputs": [
        {
          "output_type": "stream",
          "text": [
            "Test accuracy: 0.5000\n",
            "precision: 0.5000\n",
            "recall 1.0000\n"
          ],
          "name": "stdout"
        }
      ]
    },
    {
      "cell_type": "markdown",
      "metadata": {
        "id": "g2Mp0So2SBZV",
        "colab_type": "text"
      },
      "source": [
        "#### Conclusions\n"
      ]
    },
    {
      "cell_type": "markdown",
      "metadata": {
        "id": "EVKu5S0Rg-p4",
        "colab_type": "text"
      },
      "source": [
        "For plain text classification tasks such imdb reviews ML model usage is enough\n",
        "to achieve great predictive strength.\n",
        "Above example of logistic regression demonstrated high-valued metrics on all datasets: about of 87, 88 and 92 % respectively on test, val and train.\n",
        "\n",
        "Metrics for dense network model after tokenization are near to LogReg results, but this model requires more training data with more time as expected.\n",
        "\n",
        "LSTM presented very bad results during training as during prediction.\n",
        "In addition this model consumed much more time to be fitted.\n",
        "It was very strange to me."
      ]
    }
  ]
}