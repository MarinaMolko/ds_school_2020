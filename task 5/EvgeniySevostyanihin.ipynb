{
  "nbformat": 4,
  "nbformat_minor": 0,
  "metadata": {
    "accelerator": "GPU",
    "colab": {
      "name": "EvgeniySevostyanihin.ipynb",
      "provenance": [],
      "collapsed_sections": []
    },
    "kernelspec": {
      "display_name": "PyCharm (Emotion-Recognition)",
      "language": "python",
      "name": "pycharm-86459515"
    },
    "language_info": {
      "codemirror_mode": {
        "name": "ipython",
        "version": 3
      },
      "file_extension": ".py",
      "mimetype": "text/x-python",
      "name": "python",
      "nbconvert_exporter": "python",
      "pygments_lexer": "ipython3",
      "version": "3.8.2"
    },
    "widgets": {
      "application/vnd.jupyter.widget-state+json": {
        "439dc09d19fd4312b9fbec9c1abef4e6": {
          "model_module": "@jupyter-widgets/controls",
          "model_name": "HBoxModel",
          "state": {
            "_view_name": "HBoxView",
            "_dom_classes": [],
            "_model_name": "HBoxModel",
            "_view_module": "@jupyter-widgets/controls",
            "_model_module_version": "1.5.0",
            "_view_count": null,
            "_view_module_version": "1.5.0",
            "box_style": "",
            "layout": "IPY_MODEL_e4f5fb3c7f3747a5b28f6a49cd72a9b2",
            "_model_module": "@jupyter-widgets/controls",
            "children": [
              "IPY_MODEL_8d1960578cd74c4f87711ae1ac5ff516",
              "IPY_MODEL_81ef66aa20584814ac63b9cf47e4152c"
            ]
          }
        },
        "e4f5fb3c7f3747a5b28f6a49cd72a9b2": {
          "model_module": "@jupyter-widgets/base",
          "model_name": "LayoutModel",
          "state": {
            "_view_name": "LayoutView",
            "grid_template_rows": null,
            "right": null,
            "justify_content": null,
            "_view_module": "@jupyter-widgets/base",
            "overflow": null,
            "_model_module_version": "1.2.0",
            "_view_count": null,
            "flex_flow": null,
            "width": null,
            "min_width": null,
            "border": null,
            "align_items": null,
            "bottom": null,
            "_model_module": "@jupyter-widgets/base",
            "top": null,
            "grid_column": null,
            "overflow_y": null,
            "overflow_x": null,
            "grid_auto_flow": null,
            "grid_area": null,
            "grid_template_columns": null,
            "flex": null,
            "_model_name": "LayoutModel",
            "justify_items": null,
            "grid_row": null,
            "max_height": null,
            "align_content": null,
            "visibility": null,
            "align_self": null,
            "height": null,
            "min_height": null,
            "padding": null,
            "grid_auto_rows": null,
            "grid_gap": null,
            "max_width": null,
            "order": null,
            "_view_module_version": "1.2.0",
            "grid_template_areas": null,
            "object_position": null,
            "object_fit": null,
            "grid_auto_columns": null,
            "margin": null,
            "display": null,
            "left": null
          }
        },
        "8d1960578cd74c4f87711ae1ac5ff516": {
          "model_module": "@jupyter-widgets/controls",
          "model_name": "FloatProgressModel",
          "state": {
            "_view_name": "ProgressView",
            "style": "IPY_MODEL_2239e66156d443a18870189643061ac1",
            "_dom_classes": [],
            "description": "Dl Completed...: 100%",
            "_model_name": "FloatProgressModel",
            "bar_style": "success",
            "max": 1,
            "_view_module": "@jupyter-widgets/controls",
            "_model_module_version": "1.5.0",
            "value": 1,
            "_view_count": null,
            "_view_module_version": "1.5.0",
            "orientation": "horizontal",
            "min": 0,
            "description_tooltip": null,
            "_model_module": "@jupyter-widgets/controls",
            "layout": "IPY_MODEL_160d1341f6874fb2bc89fb15c601b455"
          }
        },
        "81ef66aa20584814ac63b9cf47e4152c": {
          "model_module": "@jupyter-widgets/controls",
          "model_name": "HTMLModel",
          "state": {
            "_view_name": "HTMLView",
            "style": "IPY_MODEL_1953da7b39e84689a762962d6baa5d31",
            "_dom_classes": [],
            "description": "",
            "_model_name": "HTMLModel",
            "placeholder": "​",
            "_view_module": "@jupyter-widgets/controls",
            "_model_module_version": "1.5.0",
            "value": " 1/1 [00:01&lt;00:00,  1.64s/ url]",
            "_view_count": null,
            "_view_module_version": "1.5.0",
            "description_tooltip": null,
            "_model_module": "@jupyter-widgets/controls",
            "layout": "IPY_MODEL_570ccaa7aa05465cac19758f58d6c796"
          }
        },
        "2239e66156d443a18870189643061ac1": {
          "model_module": "@jupyter-widgets/controls",
          "model_name": "ProgressStyleModel",
          "state": {
            "_view_name": "StyleView",
            "_model_name": "ProgressStyleModel",
            "description_width": "initial",
            "_view_module": "@jupyter-widgets/base",
            "_model_module_version": "1.5.0",
            "_view_count": null,
            "_view_module_version": "1.2.0",
            "bar_color": null,
            "_model_module": "@jupyter-widgets/controls"
          }
        },
        "160d1341f6874fb2bc89fb15c601b455": {
          "model_module": "@jupyter-widgets/base",
          "model_name": "LayoutModel",
          "state": {
            "_view_name": "LayoutView",
            "grid_template_rows": null,
            "right": null,
            "justify_content": null,
            "_view_module": "@jupyter-widgets/base",
            "overflow": null,
            "_model_module_version": "1.2.0",
            "_view_count": null,
            "flex_flow": null,
            "width": null,
            "min_width": null,
            "border": null,
            "align_items": null,
            "bottom": null,
            "_model_module": "@jupyter-widgets/base",
            "top": null,
            "grid_column": null,
            "overflow_y": null,
            "overflow_x": null,
            "grid_auto_flow": null,
            "grid_area": null,
            "grid_template_columns": null,
            "flex": null,
            "_model_name": "LayoutModel",
            "justify_items": null,
            "grid_row": null,
            "max_height": null,
            "align_content": null,
            "visibility": null,
            "align_self": null,
            "height": null,
            "min_height": null,
            "padding": null,
            "grid_auto_rows": null,
            "grid_gap": null,
            "max_width": null,
            "order": null,
            "_view_module_version": "1.2.0",
            "grid_template_areas": null,
            "object_position": null,
            "object_fit": null,
            "grid_auto_columns": null,
            "margin": null,
            "display": null,
            "left": null
          }
        },
        "1953da7b39e84689a762962d6baa5d31": {
          "model_module": "@jupyter-widgets/controls",
          "model_name": "DescriptionStyleModel",
          "state": {
            "_view_name": "StyleView",
            "_model_name": "DescriptionStyleModel",
            "description_width": "",
            "_view_module": "@jupyter-widgets/base",
            "_model_module_version": "1.5.0",
            "_view_count": null,
            "_view_module_version": "1.2.0",
            "_model_module": "@jupyter-widgets/controls"
          }
        },
        "570ccaa7aa05465cac19758f58d6c796": {
          "model_module": "@jupyter-widgets/base",
          "model_name": "LayoutModel",
          "state": {
            "_view_name": "LayoutView",
            "grid_template_rows": null,
            "right": null,
            "justify_content": null,
            "_view_module": "@jupyter-widgets/base",
            "overflow": null,
            "_model_module_version": "1.2.0",
            "_view_count": null,
            "flex_flow": null,
            "width": null,
            "min_width": null,
            "border": null,
            "align_items": null,
            "bottom": null,
            "_model_module": "@jupyter-widgets/base",
            "top": null,
            "grid_column": null,
            "overflow_y": null,
            "overflow_x": null,
            "grid_auto_flow": null,
            "grid_area": null,
            "grid_template_columns": null,
            "flex": null,
            "_model_name": "LayoutModel",
            "justify_items": null,
            "grid_row": null,
            "max_height": null,
            "align_content": null,
            "visibility": null,
            "align_self": null,
            "height": null,
            "min_height": null,
            "padding": null,
            "grid_auto_rows": null,
            "grid_gap": null,
            "max_width": null,
            "order": null,
            "_view_module_version": "1.2.0",
            "grid_template_areas": null,
            "object_position": null,
            "object_fit": null,
            "grid_auto_columns": null,
            "margin": null,
            "display": null,
            "left": null
          }
        },
        "f94159f7b8b64799b030626ad02f843e": {
          "model_module": "@jupyter-widgets/controls",
          "model_name": "HBoxModel",
          "state": {
            "_view_name": "HBoxView",
            "_dom_classes": [],
            "_model_name": "HBoxModel",
            "_view_module": "@jupyter-widgets/controls",
            "_model_module_version": "1.5.0",
            "_view_count": null,
            "_view_module_version": "1.5.0",
            "box_style": "",
            "layout": "IPY_MODEL_815699096e9d471bbdace2b202f1e973",
            "_model_module": "@jupyter-widgets/controls",
            "children": [
              "IPY_MODEL_3c64cbe6855a428eb9e995783a06906f",
              "IPY_MODEL_af691f95a5d54c1f9ea095e8344c8d7e"
            ]
          }
        },
        "815699096e9d471bbdace2b202f1e973": {
          "model_module": "@jupyter-widgets/base",
          "model_name": "LayoutModel",
          "state": {
            "_view_name": "LayoutView",
            "grid_template_rows": null,
            "right": null,
            "justify_content": null,
            "_view_module": "@jupyter-widgets/base",
            "overflow": null,
            "_model_module_version": "1.2.0",
            "_view_count": null,
            "flex_flow": null,
            "width": null,
            "min_width": null,
            "border": null,
            "align_items": null,
            "bottom": null,
            "_model_module": "@jupyter-widgets/base",
            "top": null,
            "grid_column": null,
            "overflow_y": null,
            "overflow_x": null,
            "grid_auto_flow": null,
            "grid_area": null,
            "grid_template_columns": null,
            "flex": null,
            "_model_name": "LayoutModel",
            "justify_items": null,
            "grid_row": null,
            "max_height": null,
            "align_content": null,
            "visibility": null,
            "align_self": null,
            "height": null,
            "min_height": null,
            "padding": null,
            "grid_auto_rows": null,
            "grid_gap": null,
            "max_width": null,
            "order": null,
            "_view_module_version": "1.2.0",
            "grid_template_areas": null,
            "object_position": null,
            "object_fit": null,
            "grid_auto_columns": null,
            "margin": null,
            "display": null,
            "left": null
          }
        },
        "3c64cbe6855a428eb9e995783a06906f": {
          "model_module": "@jupyter-widgets/controls",
          "model_name": "FloatProgressModel",
          "state": {
            "_view_name": "ProgressView",
            "style": "IPY_MODEL_3fb7d215f492453f9a9dea37aa29bf97",
            "_dom_classes": [],
            "description": "Dl Size...: 100%",
            "_model_name": "FloatProgressModel",
            "bar_style": "success",
            "max": 1,
            "_view_module": "@jupyter-widgets/controls",
            "_model_module_version": "1.5.0",
            "value": 1,
            "_view_count": null,
            "_view_module_version": "1.5.0",
            "orientation": "horizontal",
            "min": 0,
            "description_tooltip": null,
            "_model_module": "@jupyter-widgets/controls",
            "layout": "IPY_MODEL_13cb3c83cc114c26a05945dd7322dfdb"
          }
        },
        "af691f95a5d54c1f9ea095e8344c8d7e": {
          "model_module": "@jupyter-widgets/controls",
          "model_name": "HTMLModel",
          "state": {
            "_view_name": "HTMLView",
            "style": "IPY_MODEL_05d73c168ffd46a99a6f892d903b8f1e",
            "_dom_classes": [],
            "description": "",
            "_model_name": "HTMLModel",
            "placeholder": "​",
            "_view_module": "@jupyter-widgets/controls",
            "_model_module_version": "1.5.0",
            "value": " 80/80 [00:01&lt;00:00, 49.77 MiB/s]",
            "_view_count": null,
            "_view_module_version": "1.5.0",
            "description_tooltip": null,
            "_model_module": "@jupyter-widgets/controls",
            "layout": "IPY_MODEL_c12d39d7227444a2ab527c651a337e4f"
          }
        },
        "3fb7d215f492453f9a9dea37aa29bf97": {
          "model_module": "@jupyter-widgets/controls",
          "model_name": "ProgressStyleModel",
          "state": {
            "_view_name": "StyleView",
            "_model_name": "ProgressStyleModel",
            "description_width": "initial",
            "_view_module": "@jupyter-widgets/base",
            "_model_module_version": "1.5.0",
            "_view_count": null,
            "_view_module_version": "1.2.0",
            "bar_color": null,
            "_model_module": "@jupyter-widgets/controls"
          }
        },
        "13cb3c83cc114c26a05945dd7322dfdb": {
          "model_module": "@jupyter-widgets/base",
          "model_name": "LayoutModel",
          "state": {
            "_view_name": "LayoutView",
            "grid_template_rows": null,
            "right": null,
            "justify_content": null,
            "_view_module": "@jupyter-widgets/base",
            "overflow": null,
            "_model_module_version": "1.2.0",
            "_view_count": null,
            "flex_flow": null,
            "width": null,
            "min_width": null,
            "border": null,
            "align_items": null,
            "bottom": null,
            "_model_module": "@jupyter-widgets/base",
            "top": null,
            "grid_column": null,
            "overflow_y": null,
            "overflow_x": null,
            "grid_auto_flow": null,
            "grid_area": null,
            "grid_template_columns": null,
            "flex": null,
            "_model_name": "LayoutModel",
            "justify_items": null,
            "grid_row": null,
            "max_height": null,
            "align_content": null,
            "visibility": null,
            "align_self": null,
            "height": null,
            "min_height": null,
            "padding": null,
            "grid_auto_rows": null,
            "grid_gap": null,
            "max_width": null,
            "order": null,
            "_view_module_version": "1.2.0",
            "grid_template_areas": null,
            "object_position": null,
            "object_fit": null,
            "grid_auto_columns": null,
            "margin": null,
            "display": null,
            "left": null
          }
        },
        "05d73c168ffd46a99a6f892d903b8f1e": {
          "model_module": "@jupyter-widgets/controls",
          "model_name": "DescriptionStyleModel",
          "state": {
            "_view_name": "StyleView",
            "_model_name": "DescriptionStyleModel",
            "description_width": "",
            "_view_module": "@jupyter-widgets/base",
            "_model_module_version": "1.5.0",
            "_view_count": null,
            "_view_module_version": "1.2.0",
            "_model_module": "@jupyter-widgets/controls"
          }
        },
        "c12d39d7227444a2ab527c651a337e4f": {
          "model_module": "@jupyter-widgets/base",
          "model_name": "LayoutModel",
          "state": {
            "_view_name": "LayoutView",
            "grid_template_rows": null,
            "right": null,
            "justify_content": null,
            "_view_module": "@jupyter-widgets/base",
            "overflow": null,
            "_model_module_version": "1.2.0",
            "_view_count": null,
            "flex_flow": null,
            "width": null,
            "min_width": null,
            "border": null,
            "align_items": null,
            "bottom": null,
            "_model_module": "@jupyter-widgets/base",
            "top": null,
            "grid_column": null,
            "overflow_y": null,
            "overflow_x": null,
            "grid_auto_flow": null,
            "grid_area": null,
            "grid_template_columns": null,
            "flex": null,
            "_model_name": "LayoutModel",
            "justify_items": null,
            "grid_row": null,
            "max_height": null,
            "align_content": null,
            "visibility": null,
            "align_self": null,
            "height": null,
            "min_height": null,
            "padding": null,
            "grid_auto_rows": null,
            "grid_gap": null,
            "max_width": null,
            "order": null,
            "_view_module_version": "1.2.0",
            "grid_template_areas": null,
            "object_position": null,
            "object_fit": null,
            "grid_auto_columns": null,
            "margin": null,
            "display": null,
            "left": null
          }
        },
        "2b212485cec84748830dd9bdff36f73d": {
          "model_module": "@jupyter-widgets/controls",
          "model_name": "HBoxModel",
          "state": {
            "_view_name": "HBoxView",
            "_dom_classes": [],
            "_model_name": "HBoxModel",
            "_view_module": "@jupyter-widgets/controls",
            "_model_module_version": "1.5.0",
            "_view_count": null,
            "_view_module_version": "1.5.0",
            "box_style": "",
            "layout": "IPY_MODEL_4f993dfe79ae4753ae034afe8b23bd37",
            "_model_module": "@jupyter-widgets/controls",
            "children": [
              "IPY_MODEL_6a8142251a4341bca39da67341001509",
              "IPY_MODEL_eb05c1f825784b7693ec3de6f2841fc6"
            ]
          }
        },
        "4f993dfe79ae4753ae034afe8b23bd37": {
          "model_module": "@jupyter-widgets/base",
          "model_name": "LayoutModel",
          "state": {
            "_view_name": "LayoutView",
            "grid_template_rows": null,
            "right": null,
            "justify_content": null,
            "_view_module": "@jupyter-widgets/base",
            "overflow": null,
            "_model_module_version": "1.2.0",
            "_view_count": null,
            "flex_flow": null,
            "width": null,
            "min_width": null,
            "border": null,
            "align_items": null,
            "bottom": null,
            "_model_module": "@jupyter-widgets/base",
            "top": null,
            "grid_column": null,
            "overflow_y": null,
            "overflow_x": null,
            "grid_auto_flow": null,
            "grid_area": null,
            "grid_template_columns": null,
            "flex": null,
            "_model_name": "LayoutModel",
            "justify_items": null,
            "grid_row": null,
            "max_height": null,
            "align_content": null,
            "visibility": null,
            "align_self": null,
            "height": null,
            "min_height": null,
            "padding": null,
            "grid_auto_rows": null,
            "grid_gap": null,
            "max_width": null,
            "order": null,
            "_view_module_version": "1.2.0",
            "grid_template_areas": null,
            "object_position": null,
            "object_fit": null,
            "grid_auto_columns": null,
            "margin": null,
            "display": null,
            "left": null
          }
        },
        "6a8142251a4341bca39da67341001509": {
          "model_module": "@jupyter-widgets/controls",
          "model_name": "FloatProgressModel",
          "state": {
            "_view_name": "ProgressView",
            "style": "IPY_MODEL_7d9f4ed30c0348379fa3e551b94e378c",
            "_dom_classes": [],
            "description": "",
            "_model_name": "FloatProgressModel",
            "bar_style": "info",
            "max": 1,
            "_view_module": "@jupyter-widgets/controls",
            "_model_module_version": "1.5.0",
            "value": 1,
            "_view_count": null,
            "_view_module_version": "1.5.0",
            "orientation": "horizontal",
            "min": 0,
            "description_tooltip": null,
            "_model_module": "@jupyter-widgets/controls",
            "layout": "IPY_MODEL_746c81fd7bea49e8afa34eab7ebf4982"
          }
        },
        "eb05c1f825784b7693ec3de6f2841fc6": {
          "model_module": "@jupyter-widgets/controls",
          "model_name": "HTMLModel",
          "state": {
            "_view_name": "HTMLView",
            "style": "IPY_MODEL_a1b5e321fdbd4df9953c43a105ccf61b",
            "_dom_classes": [],
            "description": "",
            "_model_name": "HTMLModel",
            "placeholder": "​",
            "_view_module": "@jupyter-widgets/controls",
            "_model_module_version": "1.5.0",
            "value": " 25000/0 [00:13&lt;00:00, 3352.82 examples/s]",
            "_view_count": null,
            "_view_module_version": "1.5.0",
            "description_tooltip": null,
            "_model_module": "@jupyter-widgets/controls",
            "layout": "IPY_MODEL_c7c17cb383c54029a8deb064e33addc9"
          }
        },
        "7d9f4ed30c0348379fa3e551b94e378c": {
          "model_module": "@jupyter-widgets/controls",
          "model_name": "ProgressStyleModel",
          "state": {
            "_view_name": "StyleView",
            "_model_name": "ProgressStyleModel",
            "description_width": "initial",
            "_view_module": "@jupyter-widgets/base",
            "_model_module_version": "1.5.0",
            "_view_count": null,
            "_view_module_version": "1.2.0",
            "bar_color": null,
            "_model_module": "@jupyter-widgets/controls"
          }
        },
        "746c81fd7bea49e8afa34eab7ebf4982": {
          "model_module": "@jupyter-widgets/base",
          "model_name": "LayoutModel",
          "state": {
            "_view_name": "LayoutView",
            "grid_template_rows": null,
            "right": null,
            "justify_content": null,
            "_view_module": "@jupyter-widgets/base",
            "overflow": null,
            "_model_module_version": "1.2.0",
            "_view_count": null,
            "flex_flow": null,
            "width": null,
            "min_width": null,
            "border": null,
            "align_items": null,
            "bottom": null,
            "_model_module": "@jupyter-widgets/base",
            "top": null,
            "grid_column": null,
            "overflow_y": null,
            "overflow_x": null,
            "grid_auto_flow": null,
            "grid_area": null,
            "grid_template_columns": null,
            "flex": null,
            "_model_name": "LayoutModel",
            "justify_items": null,
            "grid_row": null,
            "max_height": null,
            "align_content": null,
            "visibility": null,
            "align_self": null,
            "height": null,
            "min_height": null,
            "padding": null,
            "grid_auto_rows": null,
            "grid_gap": null,
            "max_width": null,
            "order": null,
            "_view_module_version": "1.2.0",
            "grid_template_areas": null,
            "object_position": null,
            "object_fit": null,
            "grid_auto_columns": null,
            "margin": null,
            "display": null,
            "left": null
          }
        },
        "a1b5e321fdbd4df9953c43a105ccf61b": {
          "model_module": "@jupyter-widgets/controls",
          "model_name": "DescriptionStyleModel",
          "state": {
            "_view_name": "StyleView",
            "_model_name": "DescriptionStyleModel",
            "description_width": "",
            "_view_module": "@jupyter-widgets/base",
            "_model_module_version": "1.5.0",
            "_view_count": null,
            "_view_module_version": "1.2.0",
            "_model_module": "@jupyter-widgets/controls"
          }
        },
        "c7c17cb383c54029a8deb064e33addc9": {
          "model_module": "@jupyter-widgets/base",
          "model_name": "LayoutModel",
          "state": {
            "_view_name": "LayoutView",
            "grid_template_rows": null,
            "right": null,
            "justify_content": null,
            "_view_module": "@jupyter-widgets/base",
            "overflow": null,
            "_model_module_version": "1.2.0",
            "_view_count": null,
            "flex_flow": null,
            "width": null,
            "min_width": null,
            "border": null,
            "align_items": null,
            "bottom": null,
            "_model_module": "@jupyter-widgets/base",
            "top": null,
            "grid_column": null,
            "overflow_y": null,
            "overflow_x": null,
            "grid_auto_flow": null,
            "grid_area": null,
            "grid_template_columns": null,
            "flex": null,
            "_model_name": "LayoutModel",
            "justify_items": null,
            "grid_row": null,
            "max_height": null,
            "align_content": null,
            "visibility": null,
            "align_self": null,
            "height": null,
            "min_height": null,
            "padding": null,
            "grid_auto_rows": null,
            "grid_gap": null,
            "max_width": null,
            "order": null,
            "_view_module_version": "1.2.0",
            "grid_template_areas": null,
            "object_position": null,
            "object_fit": null,
            "grid_auto_columns": null,
            "margin": null,
            "display": null,
            "left": null
          }
        },
        "faf744feaf114b5ab2f0ee2d88319554": {
          "model_module": "@jupyter-widgets/controls",
          "model_name": "HBoxModel",
          "state": {
            "_view_name": "HBoxView",
            "_dom_classes": [],
            "_model_name": "HBoxModel",
            "_view_module": "@jupyter-widgets/controls",
            "_model_module_version": "1.5.0",
            "_view_count": null,
            "_view_module_version": "1.5.0",
            "box_style": "",
            "layout": "IPY_MODEL_8460b2da6d9045ba9f31d96ed7a3fb7e",
            "_model_module": "@jupyter-widgets/controls",
            "children": [
              "IPY_MODEL_e0002d1245ea48bfb73ef0f2d1ef8b28",
              "IPY_MODEL_2a57ce793a6c47d891dbd05413de96c8"
            ]
          }
        },
        "8460b2da6d9045ba9f31d96ed7a3fb7e": {
          "model_module": "@jupyter-widgets/base",
          "model_name": "LayoutModel",
          "state": {
            "_view_name": "LayoutView",
            "grid_template_rows": null,
            "right": null,
            "justify_content": null,
            "_view_module": "@jupyter-widgets/base",
            "overflow": null,
            "_model_module_version": "1.2.0",
            "_view_count": null,
            "flex_flow": null,
            "width": null,
            "min_width": null,
            "border": null,
            "align_items": null,
            "bottom": null,
            "_model_module": "@jupyter-widgets/base",
            "top": null,
            "grid_column": null,
            "overflow_y": null,
            "overflow_x": null,
            "grid_auto_flow": null,
            "grid_area": null,
            "grid_template_columns": null,
            "flex": null,
            "_model_name": "LayoutModel",
            "justify_items": null,
            "grid_row": null,
            "max_height": null,
            "align_content": null,
            "visibility": null,
            "align_self": null,
            "height": null,
            "min_height": null,
            "padding": null,
            "grid_auto_rows": null,
            "grid_gap": null,
            "max_width": null,
            "order": null,
            "_view_module_version": "1.2.0",
            "grid_template_areas": null,
            "object_position": null,
            "object_fit": null,
            "grid_auto_columns": null,
            "margin": null,
            "display": null,
            "left": null
          }
        },
        "e0002d1245ea48bfb73ef0f2d1ef8b28": {
          "model_module": "@jupyter-widgets/controls",
          "model_name": "FloatProgressModel",
          "state": {
            "_view_name": "ProgressView",
            "style": "IPY_MODEL_fe74672971fe455b94a83cdfdafbd0d5",
            "_dom_classes": [],
            "description": " 61%",
            "_model_name": "FloatProgressModel",
            "bar_style": "danger",
            "max": 25000,
            "_view_module": "@jupyter-widgets/controls",
            "_model_module_version": "1.5.0",
            "value": 15157,
            "_view_count": null,
            "_view_module_version": "1.5.0",
            "orientation": "horizontal",
            "min": 0,
            "description_tooltip": null,
            "_model_module": "@jupyter-widgets/controls",
            "layout": "IPY_MODEL_b4e0e082eff94e109439d2dc3cc31733"
          }
        },
        "2a57ce793a6c47d891dbd05413de96c8": {
          "model_module": "@jupyter-widgets/controls",
          "model_name": "HTMLModel",
          "state": {
            "_view_name": "HTMLView",
            "style": "IPY_MODEL_cb0d5b30e22445ada32c961224f179c9",
            "_dom_classes": [],
            "description": "",
            "_model_name": "HTMLModel",
            "placeholder": "​",
            "_view_module": "@jupyter-widgets/controls",
            "_model_module_version": "1.5.0",
            "value": " 15157/25000 [00:00&lt;00:00, 151566.17 examples/s]",
            "_view_count": null,
            "_view_module_version": "1.5.0",
            "description_tooltip": null,
            "_model_module": "@jupyter-widgets/controls",
            "layout": "IPY_MODEL_ffb260271c1b4254a50907cd3739c2c1"
          }
        },
        "fe74672971fe455b94a83cdfdafbd0d5": {
          "model_module": "@jupyter-widgets/controls",
          "model_name": "ProgressStyleModel",
          "state": {
            "_view_name": "StyleView",
            "_model_name": "ProgressStyleModel",
            "description_width": "initial",
            "_view_module": "@jupyter-widgets/base",
            "_model_module_version": "1.5.0",
            "_view_count": null,
            "_view_module_version": "1.2.0",
            "bar_color": null,
            "_model_module": "@jupyter-widgets/controls"
          }
        },
        "b4e0e082eff94e109439d2dc3cc31733": {
          "model_module": "@jupyter-widgets/base",
          "model_name": "LayoutModel",
          "state": {
            "_view_name": "LayoutView",
            "grid_template_rows": null,
            "right": null,
            "justify_content": null,
            "_view_module": "@jupyter-widgets/base",
            "overflow": null,
            "_model_module_version": "1.2.0",
            "_view_count": null,
            "flex_flow": null,
            "width": null,
            "min_width": null,
            "border": null,
            "align_items": null,
            "bottom": null,
            "_model_module": "@jupyter-widgets/base",
            "top": null,
            "grid_column": null,
            "overflow_y": null,
            "overflow_x": null,
            "grid_auto_flow": null,
            "grid_area": null,
            "grid_template_columns": null,
            "flex": null,
            "_model_name": "LayoutModel",
            "justify_items": null,
            "grid_row": null,
            "max_height": null,
            "align_content": null,
            "visibility": null,
            "align_self": null,
            "height": null,
            "min_height": null,
            "padding": null,
            "grid_auto_rows": null,
            "grid_gap": null,
            "max_width": null,
            "order": null,
            "_view_module_version": "1.2.0",
            "grid_template_areas": null,
            "object_position": null,
            "object_fit": null,
            "grid_auto_columns": null,
            "margin": null,
            "display": null,
            "left": null
          }
        },
        "cb0d5b30e22445ada32c961224f179c9": {
          "model_module": "@jupyter-widgets/controls",
          "model_name": "DescriptionStyleModel",
          "state": {
            "_view_name": "StyleView",
            "_model_name": "DescriptionStyleModel",
            "description_width": "",
            "_view_module": "@jupyter-widgets/base",
            "_model_module_version": "1.5.0",
            "_view_count": null,
            "_view_module_version": "1.2.0",
            "_model_module": "@jupyter-widgets/controls"
          }
        },
        "ffb260271c1b4254a50907cd3739c2c1": {
          "model_module": "@jupyter-widgets/base",
          "model_name": "LayoutModel",
          "state": {
            "_view_name": "LayoutView",
            "grid_template_rows": null,
            "right": null,
            "justify_content": null,
            "_view_module": "@jupyter-widgets/base",
            "overflow": null,
            "_model_module_version": "1.2.0",
            "_view_count": null,
            "flex_flow": null,
            "width": null,
            "min_width": null,
            "border": null,
            "align_items": null,
            "bottom": null,
            "_model_module": "@jupyter-widgets/base",
            "top": null,
            "grid_column": null,
            "overflow_y": null,
            "overflow_x": null,
            "grid_auto_flow": null,
            "grid_area": null,
            "grid_template_columns": null,
            "flex": null,
            "_model_name": "LayoutModel",
            "justify_items": null,
            "grid_row": null,
            "max_height": null,
            "align_content": null,
            "visibility": null,
            "align_self": null,
            "height": null,
            "min_height": null,
            "padding": null,
            "grid_auto_rows": null,
            "grid_gap": null,
            "max_width": null,
            "order": null,
            "_view_module_version": "1.2.0",
            "grid_template_areas": null,
            "object_position": null,
            "object_fit": null,
            "grid_auto_columns": null,
            "margin": null,
            "display": null,
            "left": null
          }
        },
        "944b798756f747c1896c9f1ac0cca049": {
          "model_module": "@jupyter-widgets/controls",
          "model_name": "HBoxModel",
          "state": {
            "_view_name": "HBoxView",
            "_dom_classes": [],
            "_model_name": "HBoxModel",
            "_view_module": "@jupyter-widgets/controls",
            "_model_module_version": "1.5.0",
            "_view_count": null,
            "_view_module_version": "1.5.0",
            "box_style": "",
            "layout": "IPY_MODEL_b2a3ea97b92c4708a2a8aecfb5117426",
            "_model_module": "@jupyter-widgets/controls",
            "children": [
              "IPY_MODEL_eb9b98a38f4241559eb0ee641511480b",
              "IPY_MODEL_fb6c4663dabe4519af68889d739cb3f4"
            ]
          }
        },
        "b2a3ea97b92c4708a2a8aecfb5117426": {
          "model_module": "@jupyter-widgets/base",
          "model_name": "LayoutModel",
          "state": {
            "_view_name": "LayoutView",
            "grid_template_rows": null,
            "right": null,
            "justify_content": null,
            "_view_module": "@jupyter-widgets/base",
            "overflow": null,
            "_model_module_version": "1.2.0",
            "_view_count": null,
            "flex_flow": null,
            "width": null,
            "min_width": null,
            "border": null,
            "align_items": null,
            "bottom": null,
            "_model_module": "@jupyter-widgets/base",
            "top": null,
            "grid_column": null,
            "overflow_y": null,
            "overflow_x": null,
            "grid_auto_flow": null,
            "grid_area": null,
            "grid_template_columns": null,
            "flex": null,
            "_model_name": "LayoutModel",
            "justify_items": null,
            "grid_row": null,
            "max_height": null,
            "align_content": null,
            "visibility": null,
            "align_self": null,
            "height": null,
            "min_height": null,
            "padding": null,
            "grid_auto_rows": null,
            "grid_gap": null,
            "max_width": null,
            "order": null,
            "_view_module_version": "1.2.0",
            "grid_template_areas": null,
            "object_position": null,
            "object_fit": null,
            "grid_auto_columns": null,
            "margin": null,
            "display": null,
            "left": null
          }
        },
        "eb9b98a38f4241559eb0ee641511480b": {
          "model_module": "@jupyter-widgets/controls",
          "model_name": "FloatProgressModel",
          "state": {
            "_view_name": "ProgressView",
            "style": "IPY_MODEL_b378b6e78ab1458ebde17b57829141df",
            "_dom_classes": [],
            "description": "",
            "_model_name": "FloatProgressModel",
            "bar_style": "info",
            "max": 1,
            "_view_module": "@jupyter-widgets/controls",
            "_model_module_version": "1.5.0",
            "value": 1,
            "_view_count": null,
            "_view_module_version": "1.5.0",
            "orientation": "horizontal",
            "min": 0,
            "description_tooltip": null,
            "_model_module": "@jupyter-widgets/controls",
            "layout": "IPY_MODEL_1360080fbb7d4180ac0cac05370d2f57"
          }
        },
        "fb6c4663dabe4519af68889d739cb3f4": {
          "model_module": "@jupyter-widgets/controls",
          "model_name": "HTMLModel",
          "state": {
            "_view_name": "HTMLView",
            "style": "IPY_MODEL_1c74f7ff536b47f19962015affc54973",
            "_dom_classes": [],
            "description": "",
            "_model_name": "HTMLModel",
            "placeholder": "​",
            "_view_module": "@jupyter-widgets/controls",
            "_model_module_version": "1.5.0",
            "value": " 25000/0 [00:12&lt;00:00, 3327.04 examples/s]",
            "_view_count": null,
            "_view_module_version": "1.5.0",
            "description_tooltip": null,
            "_model_module": "@jupyter-widgets/controls",
            "layout": "IPY_MODEL_9214f69be455490894d3dac20433470b"
          }
        },
        "b378b6e78ab1458ebde17b57829141df": {
          "model_module": "@jupyter-widgets/controls",
          "model_name": "ProgressStyleModel",
          "state": {
            "_view_name": "StyleView",
            "_model_name": "ProgressStyleModel",
            "description_width": "initial",
            "_view_module": "@jupyter-widgets/base",
            "_model_module_version": "1.5.0",
            "_view_count": null,
            "_view_module_version": "1.2.0",
            "bar_color": null,
            "_model_module": "@jupyter-widgets/controls"
          }
        },
        "1360080fbb7d4180ac0cac05370d2f57": {
          "model_module": "@jupyter-widgets/base",
          "model_name": "LayoutModel",
          "state": {
            "_view_name": "LayoutView",
            "grid_template_rows": null,
            "right": null,
            "justify_content": null,
            "_view_module": "@jupyter-widgets/base",
            "overflow": null,
            "_model_module_version": "1.2.0",
            "_view_count": null,
            "flex_flow": null,
            "width": null,
            "min_width": null,
            "border": null,
            "align_items": null,
            "bottom": null,
            "_model_module": "@jupyter-widgets/base",
            "top": null,
            "grid_column": null,
            "overflow_y": null,
            "overflow_x": null,
            "grid_auto_flow": null,
            "grid_area": null,
            "grid_template_columns": null,
            "flex": null,
            "_model_name": "LayoutModel",
            "justify_items": null,
            "grid_row": null,
            "max_height": null,
            "align_content": null,
            "visibility": null,
            "align_self": null,
            "height": null,
            "min_height": null,
            "padding": null,
            "grid_auto_rows": null,
            "grid_gap": null,
            "max_width": null,
            "order": null,
            "_view_module_version": "1.2.0",
            "grid_template_areas": null,
            "object_position": null,
            "object_fit": null,
            "grid_auto_columns": null,
            "margin": null,
            "display": null,
            "left": null
          }
        },
        "1c74f7ff536b47f19962015affc54973": {
          "model_module": "@jupyter-widgets/controls",
          "model_name": "DescriptionStyleModel",
          "state": {
            "_view_name": "StyleView",
            "_model_name": "DescriptionStyleModel",
            "description_width": "",
            "_view_module": "@jupyter-widgets/base",
            "_model_module_version": "1.5.0",
            "_view_count": null,
            "_view_module_version": "1.2.0",
            "_model_module": "@jupyter-widgets/controls"
          }
        },
        "9214f69be455490894d3dac20433470b": {
          "model_module": "@jupyter-widgets/base",
          "model_name": "LayoutModel",
          "state": {
            "_view_name": "LayoutView",
            "grid_template_rows": null,
            "right": null,
            "justify_content": null,
            "_view_module": "@jupyter-widgets/base",
            "overflow": null,
            "_model_module_version": "1.2.0",
            "_view_count": null,
            "flex_flow": null,
            "width": null,
            "min_width": null,
            "border": null,
            "align_items": null,
            "bottom": null,
            "_model_module": "@jupyter-widgets/base",
            "top": null,
            "grid_column": null,
            "overflow_y": null,
            "overflow_x": null,
            "grid_auto_flow": null,
            "grid_area": null,
            "grid_template_columns": null,
            "flex": null,
            "_model_name": "LayoutModel",
            "justify_items": null,
            "grid_row": null,
            "max_height": null,
            "align_content": null,
            "visibility": null,
            "align_self": null,
            "height": null,
            "min_height": null,
            "padding": null,
            "grid_auto_rows": null,
            "grid_gap": null,
            "max_width": null,
            "order": null,
            "_view_module_version": "1.2.0",
            "grid_template_areas": null,
            "object_position": null,
            "object_fit": null,
            "grid_auto_columns": null,
            "margin": null,
            "display": null,
            "left": null
          }
        },
        "af7683ef6d3d4ffab19d4d01629913cf": {
          "model_module": "@jupyter-widgets/controls",
          "model_name": "HBoxModel",
          "state": {
            "_view_name": "HBoxView",
            "_dom_classes": [],
            "_model_name": "HBoxModel",
            "_view_module": "@jupyter-widgets/controls",
            "_model_module_version": "1.5.0",
            "_view_count": null,
            "_view_module_version": "1.5.0",
            "box_style": "",
            "layout": "IPY_MODEL_1ded34b521404c8b9c99018261a36293",
            "_model_module": "@jupyter-widgets/controls",
            "children": [
              "IPY_MODEL_76df33573d1a41d2a1296d75e43f7ecc",
              "IPY_MODEL_0802d6846cb24eb7b4a8e610fd04feb2"
            ]
          }
        },
        "1ded34b521404c8b9c99018261a36293": {
          "model_module": "@jupyter-widgets/base",
          "model_name": "LayoutModel",
          "state": {
            "_view_name": "LayoutView",
            "grid_template_rows": null,
            "right": null,
            "justify_content": null,
            "_view_module": "@jupyter-widgets/base",
            "overflow": null,
            "_model_module_version": "1.2.0",
            "_view_count": null,
            "flex_flow": null,
            "width": null,
            "min_width": null,
            "border": null,
            "align_items": null,
            "bottom": null,
            "_model_module": "@jupyter-widgets/base",
            "top": null,
            "grid_column": null,
            "overflow_y": null,
            "overflow_x": null,
            "grid_auto_flow": null,
            "grid_area": null,
            "grid_template_columns": null,
            "flex": null,
            "_model_name": "LayoutModel",
            "justify_items": null,
            "grid_row": null,
            "max_height": null,
            "align_content": null,
            "visibility": null,
            "align_self": null,
            "height": null,
            "min_height": null,
            "padding": null,
            "grid_auto_rows": null,
            "grid_gap": null,
            "max_width": null,
            "order": null,
            "_view_module_version": "1.2.0",
            "grid_template_areas": null,
            "object_position": null,
            "object_fit": null,
            "grid_auto_columns": null,
            "margin": null,
            "display": null,
            "left": null
          }
        },
        "76df33573d1a41d2a1296d75e43f7ecc": {
          "model_module": "@jupyter-widgets/controls",
          "model_name": "FloatProgressModel",
          "state": {
            "_view_name": "ProgressView",
            "style": "IPY_MODEL_cdd9996fac2d43f0b952889d0739bc12",
            "_dom_classes": [],
            "description": " 65%",
            "_model_name": "FloatProgressModel",
            "bar_style": "danger",
            "max": 25000,
            "_view_module": "@jupyter-widgets/controls",
            "_model_module_version": "1.5.0",
            "value": 16229,
            "_view_count": null,
            "_view_module_version": "1.5.0",
            "orientation": "horizontal",
            "min": 0,
            "description_tooltip": null,
            "_model_module": "@jupyter-widgets/controls",
            "layout": "IPY_MODEL_101bd311fccd4972af0259c8ecb4307a"
          }
        },
        "0802d6846cb24eb7b4a8e610fd04feb2": {
          "model_module": "@jupyter-widgets/controls",
          "model_name": "HTMLModel",
          "state": {
            "_view_name": "HTMLView",
            "style": "IPY_MODEL_bea3c59d30df4e8eaaf8491832abe245",
            "_dom_classes": [],
            "description": "",
            "_model_name": "HTMLModel",
            "placeholder": "​",
            "_view_module": "@jupyter-widgets/controls",
            "_model_module_version": "1.5.0",
            "value": " 16229/25000 [00:00&lt;00:00, 162288.61 examples/s]",
            "_view_count": null,
            "_view_module_version": "1.5.0",
            "description_tooltip": null,
            "_model_module": "@jupyter-widgets/controls",
            "layout": "IPY_MODEL_edb457250ed84239b5abb886d7fc83ac"
          }
        },
        "cdd9996fac2d43f0b952889d0739bc12": {
          "model_module": "@jupyter-widgets/controls",
          "model_name": "ProgressStyleModel",
          "state": {
            "_view_name": "StyleView",
            "_model_name": "ProgressStyleModel",
            "description_width": "initial",
            "_view_module": "@jupyter-widgets/base",
            "_model_module_version": "1.5.0",
            "_view_count": null,
            "_view_module_version": "1.2.0",
            "bar_color": null,
            "_model_module": "@jupyter-widgets/controls"
          }
        },
        "101bd311fccd4972af0259c8ecb4307a": {
          "model_module": "@jupyter-widgets/base",
          "model_name": "LayoutModel",
          "state": {
            "_view_name": "LayoutView",
            "grid_template_rows": null,
            "right": null,
            "justify_content": null,
            "_view_module": "@jupyter-widgets/base",
            "overflow": null,
            "_model_module_version": "1.2.0",
            "_view_count": null,
            "flex_flow": null,
            "width": null,
            "min_width": null,
            "border": null,
            "align_items": null,
            "bottom": null,
            "_model_module": "@jupyter-widgets/base",
            "top": null,
            "grid_column": null,
            "overflow_y": null,
            "overflow_x": null,
            "grid_auto_flow": null,
            "grid_area": null,
            "grid_template_columns": null,
            "flex": null,
            "_model_name": "LayoutModel",
            "justify_items": null,
            "grid_row": null,
            "max_height": null,
            "align_content": null,
            "visibility": null,
            "align_self": null,
            "height": null,
            "min_height": null,
            "padding": null,
            "grid_auto_rows": null,
            "grid_gap": null,
            "max_width": null,
            "order": null,
            "_view_module_version": "1.2.0",
            "grid_template_areas": null,
            "object_position": null,
            "object_fit": null,
            "grid_auto_columns": null,
            "margin": null,
            "display": null,
            "left": null
          }
        },
        "bea3c59d30df4e8eaaf8491832abe245": {
          "model_module": "@jupyter-widgets/controls",
          "model_name": "DescriptionStyleModel",
          "state": {
            "_view_name": "StyleView",
            "_model_name": "DescriptionStyleModel",
            "description_width": "",
            "_view_module": "@jupyter-widgets/base",
            "_model_module_version": "1.5.0",
            "_view_count": null,
            "_view_module_version": "1.2.0",
            "_model_module": "@jupyter-widgets/controls"
          }
        },
        "edb457250ed84239b5abb886d7fc83ac": {
          "model_module": "@jupyter-widgets/base",
          "model_name": "LayoutModel",
          "state": {
            "_view_name": "LayoutView",
            "grid_template_rows": null,
            "right": null,
            "justify_content": null,
            "_view_module": "@jupyter-widgets/base",
            "overflow": null,
            "_model_module_version": "1.2.0",
            "_view_count": null,
            "flex_flow": null,
            "width": null,
            "min_width": null,
            "border": null,
            "align_items": null,
            "bottom": null,
            "_model_module": "@jupyter-widgets/base",
            "top": null,
            "grid_column": null,
            "overflow_y": null,
            "overflow_x": null,
            "grid_auto_flow": null,
            "grid_area": null,
            "grid_template_columns": null,
            "flex": null,
            "_model_name": "LayoutModel",
            "justify_items": null,
            "grid_row": null,
            "max_height": null,
            "align_content": null,
            "visibility": null,
            "align_self": null,
            "height": null,
            "min_height": null,
            "padding": null,
            "grid_auto_rows": null,
            "grid_gap": null,
            "max_width": null,
            "order": null,
            "_view_module_version": "1.2.0",
            "grid_template_areas": null,
            "object_position": null,
            "object_fit": null,
            "grid_auto_columns": null,
            "margin": null,
            "display": null,
            "left": null
          }
        },
        "302145b916a641c5a9a34161a270ffa5": {
          "model_module": "@jupyter-widgets/controls",
          "model_name": "HBoxModel",
          "state": {
            "_view_name": "HBoxView",
            "_dom_classes": [],
            "_model_name": "HBoxModel",
            "_view_module": "@jupyter-widgets/controls",
            "_model_module_version": "1.5.0",
            "_view_count": null,
            "_view_module_version": "1.5.0",
            "box_style": "",
            "layout": "IPY_MODEL_e651e4c33512459bbbac15e8124e782e",
            "_model_module": "@jupyter-widgets/controls",
            "children": [
              "IPY_MODEL_9ff641c6309841939a9b109c972de43c",
              "IPY_MODEL_2cc6858c6dd94b2aac37bca214344b12"
            ]
          }
        },
        "e651e4c33512459bbbac15e8124e782e": {
          "model_module": "@jupyter-widgets/base",
          "model_name": "LayoutModel",
          "state": {
            "_view_name": "LayoutView",
            "grid_template_rows": null,
            "right": null,
            "justify_content": null,
            "_view_module": "@jupyter-widgets/base",
            "overflow": null,
            "_model_module_version": "1.2.0",
            "_view_count": null,
            "flex_flow": null,
            "width": null,
            "min_width": null,
            "border": null,
            "align_items": null,
            "bottom": null,
            "_model_module": "@jupyter-widgets/base",
            "top": null,
            "grid_column": null,
            "overflow_y": null,
            "overflow_x": null,
            "grid_auto_flow": null,
            "grid_area": null,
            "grid_template_columns": null,
            "flex": null,
            "_model_name": "LayoutModel",
            "justify_items": null,
            "grid_row": null,
            "max_height": null,
            "align_content": null,
            "visibility": null,
            "align_self": null,
            "height": null,
            "min_height": null,
            "padding": null,
            "grid_auto_rows": null,
            "grid_gap": null,
            "max_width": null,
            "order": null,
            "_view_module_version": "1.2.0",
            "grid_template_areas": null,
            "object_position": null,
            "object_fit": null,
            "grid_auto_columns": null,
            "margin": null,
            "display": null,
            "left": null
          }
        },
        "9ff641c6309841939a9b109c972de43c": {
          "model_module": "@jupyter-widgets/controls",
          "model_name": "FloatProgressModel",
          "state": {
            "_view_name": "ProgressView",
            "style": "IPY_MODEL_09608dc9fe2143da8b2de9fd55a00162",
            "_dom_classes": [],
            "description": "",
            "_model_name": "FloatProgressModel",
            "bar_style": "info",
            "max": 1,
            "_view_module": "@jupyter-widgets/controls",
            "_model_module_version": "1.5.0",
            "value": 1,
            "_view_count": null,
            "_view_module_version": "1.5.0",
            "orientation": "horizontal",
            "min": 0,
            "description_tooltip": null,
            "_model_module": "@jupyter-widgets/controls",
            "layout": "IPY_MODEL_c1f1e72d7eff4ac8a63d8200ed4ff3a2"
          }
        },
        "2cc6858c6dd94b2aac37bca214344b12": {
          "model_module": "@jupyter-widgets/controls",
          "model_name": "HTMLModel",
          "state": {
            "_view_name": "HTMLView",
            "style": "IPY_MODEL_ad7b57b049f1452e85303dd1d7104c1f",
            "_dom_classes": [],
            "description": "",
            "_model_name": "HTMLModel",
            "placeholder": "​",
            "_view_module": "@jupyter-widgets/controls",
            "_model_module_version": "1.5.0",
            "value": " 50000/0 [00:18&lt;00:00, 3337.88 examples/s]",
            "_view_count": null,
            "_view_module_version": "1.5.0",
            "description_tooltip": null,
            "_model_module": "@jupyter-widgets/controls",
            "layout": "IPY_MODEL_fd09ed89267e445b906aa28cfca986ba"
          }
        },
        "09608dc9fe2143da8b2de9fd55a00162": {
          "model_module": "@jupyter-widgets/controls",
          "model_name": "ProgressStyleModel",
          "state": {
            "_view_name": "StyleView",
            "_model_name": "ProgressStyleModel",
            "description_width": "initial",
            "_view_module": "@jupyter-widgets/base",
            "_model_module_version": "1.5.0",
            "_view_count": null,
            "_view_module_version": "1.2.0",
            "bar_color": null,
            "_model_module": "@jupyter-widgets/controls"
          }
        },
        "c1f1e72d7eff4ac8a63d8200ed4ff3a2": {
          "model_module": "@jupyter-widgets/base",
          "model_name": "LayoutModel",
          "state": {
            "_view_name": "LayoutView",
            "grid_template_rows": null,
            "right": null,
            "justify_content": null,
            "_view_module": "@jupyter-widgets/base",
            "overflow": null,
            "_model_module_version": "1.2.0",
            "_view_count": null,
            "flex_flow": null,
            "width": null,
            "min_width": null,
            "border": null,
            "align_items": null,
            "bottom": null,
            "_model_module": "@jupyter-widgets/base",
            "top": null,
            "grid_column": null,
            "overflow_y": null,
            "overflow_x": null,
            "grid_auto_flow": null,
            "grid_area": null,
            "grid_template_columns": null,
            "flex": null,
            "_model_name": "LayoutModel",
            "justify_items": null,
            "grid_row": null,
            "max_height": null,
            "align_content": null,
            "visibility": null,
            "align_self": null,
            "height": null,
            "min_height": null,
            "padding": null,
            "grid_auto_rows": null,
            "grid_gap": null,
            "max_width": null,
            "order": null,
            "_view_module_version": "1.2.0",
            "grid_template_areas": null,
            "object_position": null,
            "object_fit": null,
            "grid_auto_columns": null,
            "margin": null,
            "display": null,
            "left": null
          }
        },
        "ad7b57b049f1452e85303dd1d7104c1f": {
          "model_module": "@jupyter-widgets/controls",
          "model_name": "DescriptionStyleModel",
          "state": {
            "_view_name": "StyleView",
            "_model_name": "DescriptionStyleModel",
            "description_width": "",
            "_view_module": "@jupyter-widgets/base",
            "_model_module_version": "1.5.0",
            "_view_count": null,
            "_view_module_version": "1.2.0",
            "_model_module": "@jupyter-widgets/controls"
          }
        },
        "fd09ed89267e445b906aa28cfca986ba": {
          "model_module": "@jupyter-widgets/base",
          "model_name": "LayoutModel",
          "state": {
            "_view_name": "LayoutView",
            "grid_template_rows": null,
            "right": null,
            "justify_content": null,
            "_view_module": "@jupyter-widgets/base",
            "overflow": null,
            "_model_module_version": "1.2.0",
            "_view_count": null,
            "flex_flow": null,
            "width": null,
            "min_width": null,
            "border": null,
            "align_items": null,
            "bottom": null,
            "_model_module": "@jupyter-widgets/base",
            "top": null,
            "grid_column": null,
            "overflow_y": null,
            "overflow_x": null,
            "grid_auto_flow": null,
            "grid_area": null,
            "grid_template_columns": null,
            "flex": null,
            "_model_name": "LayoutModel",
            "justify_items": null,
            "grid_row": null,
            "max_height": null,
            "align_content": null,
            "visibility": null,
            "align_self": null,
            "height": null,
            "min_height": null,
            "padding": null,
            "grid_auto_rows": null,
            "grid_gap": null,
            "max_width": null,
            "order": null,
            "_view_module_version": "1.2.0",
            "grid_template_areas": null,
            "object_position": null,
            "object_fit": null,
            "grid_auto_columns": null,
            "margin": null,
            "display": null,
            "left": null
          }
        },
        "7e5ec9d8b4c04931b874e3374d74dcb9": {
          "model_module": "@jupyter-widgets/controls",
          "model_name": "HBoxModel",
          "state": {
            "_view_name": "HBoxView",
            "_dom_classes": [],
            "_model_name": "HBoxModel",
            "_view_module": "@jupyter-widgets/controls",
            "_model_module_version": "1.5.0",
            "_view_count": null,
            "_view_module_version": "1.5.0",
            "box_style": "",
            "layout": "IPY_MODEL_3630155a196c44528ef300661f2e1f6d",
            "_model_module": "@jupyter-widgets/controls",
            "children": [
              "IPY_MODEL_e67899a432714a78b110682dc72e0123",
              "IPY_MODEL_3965558fe82c4b119d4d06ff9408aff5"
            ]
          }
        },
        "3630155a196c44528ef300661f2e1f6d": {
          "model_module": "@jupyter-widgets/base",
          "model_name": "LayoutModel",
          "state": {
            "_view_name": "LayoutView",
            "grid_template_rows": null,
            "right": null,
            "justify_content": null,
            "_view_module": "@jupyter-widgets/base",
            "overflow": null,
            "_model_module_version": "1.2.0",
            "_view_count": null,
            "flex_flow": null,
            "width": null,
            "min_width": null,
            "border": null,
            "align_items": null,
            "bottom": null,
            "_model_module": "@jupyter-widgets/base",
            "top": null,
            "grid_column": null,
            "overflow_y": null,
            "overflow_x": null,
            "grid_auto_flow": null,
            "grid_area": null,
            "grid_template_columns": null,
            "flex": null,
            "_model_name": "LayoutModel",
            "justify_items": null,
            "grid_row": null,
            "max_height": null,
            "align_content": null,
            "visibility": null,
            "align_self": null,
            "height": null,
            "min_height": null,
            "padding": null,
            "grid_auto_rows": null,
            "grid_gap": null,
            "max_width": null,
            "order": null,
            "_view_module_version": "1.2.0",
            "grid_template_areas": null,
            "object_position": null,
            "object_fit": null,
            "grid_auto_columns": null,
            "margin": null,
            "display": null,
            "left": null
          }
        },
        "e67899a432714a78b110682dc72e0123": {
          "model_module": "@jupyter-widgets/controls",
          "model_name": "FloatProgressModel",
          "state": {
            "_view_name": "ProgressView",
            "style": "IPY_MODEL_29bb314842c742658a9576254371be83",
            "_dom_classes": [],
            "description": " 66%",
            "_model_name": "FloatProgressModel",
            "bar_style": "danger",
            "max": 50000,
            "_view_module": "@jupyter-widgets/controls",
            "_model_module_version": "1.5.0",
            "value": 33021,
            "_view_count": null,
            "_view_module_version": "1.5.0",
            "orientation": "horizontal",
            "min": 0,
            "description_tooltip": null,
            "_model_module": "@jupyter-widgets/controls",
            "layout": "IPY_MODEL_82936145305e4199a1d86ac8f57d4cad"
          }
        },
        "3965558fe82c4b119d4d06ff9408aff5": {
          "model_module": "@jupyter-widgets/controls",
          "model_name": "HTMLModel",
          "state": {
            "_view_name": "HTMLView",
            "style": "IPY_MODEL_e7fb6db6f1e640d7a2a04de3e1ca7d0e",
            "_dom_classes": [],
            "description": "",
            "_model_name": "HTMLModel",
            "placeholder": "​",
            "_view_module": "@jupyter-widgets/controls",
            "_model_module_version": "1.5.0",
            "value": " 33021/50000 [00:08&lt;00:00, 70411.60 examples/s]",
            "_view_count": null,
            "_view_module_version": "1.5.0",
            "description_tooltip": null,
            "_model_module": "@jupyter-widgets/controls",
            "layout": "IPY_MODEL_b854e1fce1c842b6ad135ee7e6fc8ff1"
          }
        },
        "29bb314842c742658a9576254371be83": {
          "model_module": "@jupyter-widgets/controls",
          "model_name": "ProgressStyleModel",
          "state": {
            "_view_name": "StyleView",
            "_model_name": "ProgressStyleModel",
            "description_width": "initial",
            "_view_module": "@jupyter-widgets/base",
            "_model_module_version": "1.5.0",
            "_view_count": null,
            "_view_module_version": "1.2.0",
            "bar_color": null,
            "_model_module": "@jupyter-widgets/controls"
          }
        },
        "82936145305e4199a1d86ac8f57d4cad": {
          "model_module": "@jupyter-widgets/base",
          "model_name": "LayoutModel",
          "state": {
            "_view_name": "LayoutView",
            "grid_template_rows": null,
            "right": null,
            "justify_content": null,
            "_view_module": "@jupyter-widgets/base",
            "overflow": null,
            "_model_module_version": "1.2.0",
            "_view_count": null,
            "flex_flow": null,
            "width": null,
            "min_width": null,
            "border": null,
            "align_items": null,
            "bottom": null,
            "_model_module": "@jupyter-widgets/base",
            "top": null,
            "grid_column": null,
            "overflow_y": null,
            "overflow_x": null,
            "grid_auto_flow": null,
            "grid_area": null,
            "grid_template_columns": null,
            "flex": null,
            "_model_name": "LayoutModel",
            "justify_items": null,
            "grid_row": null,
            "max_height": null,
            "align_content": null,
            "visibility": null,
            "align_self": null,
            "height": null,
            "min_height": null,
            "padding": null,
            "grid_auto_rows": null,
            "grid_gap": null,
            "max_width": null,
            "order": null,
            "_view_module_version": "1.2.0",
            "grid_template_areas": null,
            "object_position": null,
            "object_fit": null,
            "grid_auto_columns": null,
            "margin": null,
            "display": null,
            "left": null
          }
        },
        "e7fb6db6f1e640d7a2a04de3e1ca7d0e": {
          "model_module": "@jupyter-widgets/controls",
          "model_name": "DescriptionStyleModel",
          "state": {
            "_view_name": "StyleView",
            "_model_name": "DescriptionStyleModel",
            "description_width": "",
            "_view_module": "@jupyter-widgets/base",
            "_model_module_version": "1.5.0",
            "_view_count": null,
            "_view_module_version": "1.2.0",
            "_model_module": "@jupyter-widgets/controls"
          }
        },
        "b854e1fce1c842b6ad135ee7e6fc8ff1": {
          "model_module": "@jupyter-widgets/base",
          "model_name": "LayoutModel",
          "state": {
            "_view_name": "LayoutView",
            "grid_template_rows": null,
            "right": null,
            "justify_content": null,
            "_view_module": "@jupyter-widgets/base",
            "overflow": null,
            "_model_module_version": "1.2.0",
            "_view_count": null,
            "flex_flow": null,
            "width": null,
            "min_width": null,
            "border": null,
            "align_items": null,
            "bottom": null,
            "_model_module": "@jupyter-widgets/base",
            "top": null,
            "grid_column": null,
            "overflow_y": null,
            "overflow_x": null,
            "grid_auto_flow": null,
            "grid_area": null,
            "grid_template_columns": null,
            "flex": null,
            "_model_name": "LayoutModel",
            "justify_items": null,
            "grid_row": null,
            "max_height": null,
            "align_content": null,
            "visibility": null,
            "align_self": null,
            "height": null,
            "min_height": null,
            "padding": null,
            "grid_auto_rows": null,
            "grid_gap": null,
            "max_width": null,
            "order": null,
            "_view_module_version": "1.2.0",
            "grid_template_areas": null,
            "object_position": null,
            "object_fit": null,
            "grid_auto_columns": null,
            "margin": null,
            "display": null,
            "left": null
          }
        }
      }
    }
  },
  "cells": [
    {
      "cell_type": "code",
      "metadata": {
        "colab_type": "code",
        "id": "w65gT1rDRtIx",
        "colab": {}
      },
      "source": [
        "import tensorflow_datasets as tfds\n",
        "from tensorflow_datasets import features\n",
        "\n",
        "import tensorflow as tf\n",
        "\n",
        "import matplotlib.pyplot as plt\n",
        "import numpy as np\n",
        "import pandas as pd\n",
        "\n",
        "import nltk\n",
        "from nltk.stem.lancaster import LancasterStemmer\n",
        "from nltk.corpus import stopwords\n",
        "\n",
        "from string import punctuation \n",
        "import re\n",
        "\n",
        "from sklearn.feature_extraction.text import TfidfVectorizer\n",
        "from sklearn.linear_model import LogisticRegression\n",
        "from sklearn.model_selection import GridSearchCV\n",
        "from sklearn.metrics import accuracy_score, precision_score, recall_score\n",
        "\n",
        "from tensorflow.keras.preprocessing.text import Tokenizer\n",
        "from tensorflow.keras.preprocessing.sequence import pad_sequences\n",
        "from tensorflow.keras import Sequential\n",
        "from tensorflow.keras.layers import Dense, Dropout, Activation, Embedding, GRU, LSTM\n",
        "from tensorflow.keras.losses import BinaryCrossentropy\n",
        "from tensorflow.keras.optimizers import Adam\n",
        "from tensorflow.keras.utils import to_categorical"
      ],
      "execution_count": 0,
      "outputs": []
    },
    {
      "cell_type": "code",
      "metadata": {
        "colab_type": "code",
        "id": "d2MyFFyZSKhc",
        "outputId": "27c55ee1-49c9-4c1b-f05a-40c39a5aba37",
        "colab": {
          "base_uri": "https://localhost:8080/",
          "height": 350,
          "referenced_widgets": [
            "439dc09d19fd4312b9fbec9c1abef4e6",
            "e4f5fb3c7f3747a5b28f6a49cd72a9b2",
            "8d1960578cd74c4f87711ae1ac5ff516",
            "81ef66aa20584814ac63b9cf47e4152c",
            "2239e66156d443a18870189643061ac1",
            "160d1341f6874fb2bc89fb15c601b455",
            "1953da7b39e84689a762962d6baa5d31",
            "570ccaa7aa05465cac19758f58d6c796",
            "f94159f7b8b64799b030626ad02f843e",
            "815699096e9d471bbdace2b202f1e973",
            "3c64cbe6855a428eb9e995783a06906f",
            "af691f95a5d54c1f9ea095e8344c8d7e",
            "3fb7d215f492453f9a9dea37aa29bf97",
            "13cb3c83cc114c26a05945dd7322dfdb",
            "05d73c168ffd46a99a6f892d903b8f1e",
            "c12d39d7227444a2ab527c651a337e4f",
            "2b212485cec84748830dd9bdff36f73d",
            "4f993dfe79ae4753ae034afe8b23bd37",
            "6a8142251a4341bca39da67341001509",
            "eb05c1f825784b7693ec3de6f2841fc6",
            "7d9f4ed30c0348379fa3e551b94e378c",
            "746c81fd7bea49e8afa34eab7ebf4982",
            "a1b5e321fdbd4df9953c43a105ccf61b",
            "c7c17cb383c54029a8deb064e33addc9",
            "faf744feaf114b5ab2f0ee2d88319554",
            "8460b2da6d9045ba9f31d96ed7a3fb7e",
            "e0002d1245ea48bfb73ef0f2d1ef8b28",
            "2a57ce793a6c47d891dbd05413de96c8",
            "fe74672971fe455b94a83cdfdafbd0d5",
            "b4e0e082eff94e109439d2dc3cc31733",
            "cb0d5b30e22445ada32c961224f179c9",
            "ffb260271c1b4254a50907cd3739c2c1",
            "944b798756f747c1896c9f1ac0cca049",
            "b2a3ea97b92c4708a2a8aecfb5117426",
            "eb9b98a38f4241559eb0ee641511480b",
            "fb6c4663dabe4519af68889d739cb3f4",
            "b378b6e78ab1458ebde17b57829141df",
            "1360080fbb7d4180ac0cac05370d2f57",
            "1c74f7ff536b47f19962015affc54973",
            "9214f69be455490894d3dac20433470b",
            "af7683ef6d3d4ffab19d4d01629913cf",
            "1ded34b521404c8b9c99018261a36293",
            "76df33573d1a41d2a1296d75e43f7ecc",
            "0802d6846cb24eb7b4a8e610fd04feb2",
            "cdd9996fac2d43f0b952889d0739bc12",
            "101bd311fccd4972af0259c8ecb4307a",
            "bea3c59d30df4e8eaaf8491832abe245",
            "edb457250ed84239b5abb886d7fc83ac",
            "302145b916a641c5a9a34161a270ffa5",
            "e651e4c33512459bbbac15e8124e782e",
            "9ff641c6309841939a9b109c972de43c",
            "2cc6858c6dd94b2aac37bca214344b12",
            "09608dc9fe2143da8b2de9fd55a00162",
            "c1f1e72d7eff4ac8a63d8200ed4ff3a2",
            "ad7b57b049f1452e85303dd1d7104c1f",
            "fd09ed89267e445b906aa28cfca986ba",
            "7e5ec9d8b4c04931b874e3374d74dcb9",
            "3630155a196c44528ef300661f2e1f6d",
            "e67899a432714a78b110682dc72e0123",
            "3965558fe82c4b119d4d06ff9408aff5",
            "29bb314842c742658a9576254371be83",
            "82936145305e4199a1d86ac8f57d4cad",
            "e7fb6db6f1e640d7a2a04de3e1ca7d0e",
            "b854e1fce1c842b6ad135ee7e6fc8ff1"
          ]
        }
      },
      "source": [
        "data = tfds.load('imdb_reviews')"
      ],
      "execution_count": 2,
      "outputs": [
        {
          "output_type": "stream",
          "text": [
            "\u001b[1mDownloading and preparing dataset imdb_reviews/plain_text/1.0.0 (download: 80.23 MiB, generated: Unknown size, total: 80.23 MiB) to /root/tensorflow_datasets/imdb_reviews/plain_text/1.0.0...\u001b[0m\n"
          ],
          "name": "stdout"
        },
        {
          "output_type": "display_data",
          "data": {
            "application/vnd.jupyter.widget-view+json": {
              "model_id": "439dc09d19fd4312b9fbec9c1abef4e6",
              "version_minor": 0,
              "version_major": 2
            },
            "text/plain": [
              "HBox(children=(FloatProgress(value=1.0, bar_style='info', description='Dl Completed...', max=1.0, style=Progre…"
            ]
          },
          "metadata": {
            "tags": []
          }
        },
        {
          "output_type": "display_data",
          "data": {
            "application/vnd.jupyter.widget-view+json": {
              "model_id": "f94159f7b8b64799b030626ad02f843e",
              "version_minor": 0,
              "version_major": 2
            },
            "text/plain": [
              "HBox(children=(FloatProgress(value=1.0, bar_style='info', description='Dl Size...', max=1.0, style=ProgressSty…"
            ]
          },
          "metadata": {
            "tags": []
          }
        },
        {
          "output_type": "stream",
          "text": [
            "\n",
            "\n",
            "\n",
            "\n"
          ],
          "name": "stdout"
        },
        {
          "output_type": "display_data",
          "data": {
            "application/vnd.jupyter.widget-view+json": {
              "model_id": "2b212485cec84748830dd9bdff36f73d",
              "version_minor": 0,
              "version_major": 2
            },
            "text/plain": [
              "HBox(children=(FloatProgress(value=1.0, bar_style='info', max=1.0), HTML(value='')))"
            ]
          },
          "metadata": {
            "tags": []
          }
        },
        {
          "output_type": "stream",
          "text": [
            "\rShuffling and writing examples to /root/tensorflow_datasets/imdb_reviews/plain_text/1.0.0.incomplete4FDPUR/imdb_reviews-train.tfrecord\n"
          ],
          "name": "stdout"
        },
        {
          "output_type": "display_data",
          "data": {
            "application/vnd.jupyter.widget-view+json": {
              "model_id": "faf744feaf114b5ab2f0ee2d88319554",
              "version_minor": 0,
              "version_major": 2
            },
            "text/plain": [
              "HBox(children=(FloatProgress(value=0.0, max=25000.0), HTML(value='')))"
            ]
          },
          "metadata": {
            "tags": []
          }
        },
        {
          "output_type": "stream",
          "text": [
            "\r"
          ],
          "name": "stdout"
        },
        {
          "output_type": "display_data",
          "data": {
            "application/vnd.jupyter.widget-view+json": {
              "model_id": "944b798756f747c1896c9f1ac0cca049",
              "version_minor": 0,
              "version_major": 2
            },
            "text/plain": [
              "HBox(children=(FloatProgress(value=1.0, bar_style='info', max=1.0), HTML(value='')))"
            ]
          },
          "metadata": {
            "tags": []
          }
        },
        {
          "output_type": "stream",
          "text": [
            "\rShuffling and writing examples to /root/tensorflow_datasets/imdb_reviews/plain_text/1.0.0.incomplete4FDPUR/imdb_reviews-test.tfrecord\n"
          ],
          "name": "stdout"
        },
        {
          "output_type": "display_data",
          "data": {
            "application/vnd.jupyter.widget-view+json": {
              "model_id": "af7683ef6d3d4ffab19d4d01629913cf",
              "version_minor": 0,
              "version_major": 2
            },
            "text/plain": [
              "HBox(children=(FloatProgress(value=0.0, max=25000.0), HTML(value='')))"
            ]
          },
          "metadata": {
            "tags": []
          }
        },
        {
          "output_type": "stream",
          "text": [
            "\r"
          ],
          "name": "stdout"
        },
        {
          "output_type": "display_data",
          "data": {
            "application/vnd.jupyter.widget-view+json": {
              "model_id": "302145b916a641c5a9a34161a270ffa5",
              "version_minor": 0,
              "version_major": 2
            },
            "text/plain": [
              "HBox(children=(FloatProgress(value=1.0, bar_style='info', max=1.0), HTML(value='')))"
            ]
          },
          "metadata": {
            "tags": []
          }
        },
        {
          "output_type": "stream",
          "text": [
            "\rShuffling and writing examples to /root/tensorflow_datasets/imdb_reviews/plain_text/1.0.0.incomplete4FDPUR/imdb_reviews-unsupervised.tfrecord\n"
          ],
          "name": "stdout"
        },
        {
          "output_type": "display_data",
          "data": {
            "application/vnd.jupyter.widget-view+json": {
              "model_id": "7e5ec9d8b4c04931b874e3374d74dcb9",
              "version_minor": 0,
              "version_major": 2
            },
            "text/plain": [
              "HBox(children=(FloatProgress(value=0.0, max=50000.0), HTML(value='')))"
            ]
          },
          "metadata": {
            "tags": []
          }
        },
        {
          "output_type": "stream",
          "text": [
            "\u001b[1mDataset imdb_reviews downloaded and prepared to /root/tensorflow_datasets/imdb_reviews/plain_text/1.0.0. Subsequent calls will reuse this data.\u001b[0m\n"
          ],
          "name": "stdout"
        }
      ]
    },
    {
      "cell_type": "markdown",
      "metadata": {
        "colab_type": "text",
        "id": "eTFPNO-2_ARM"
      },
      "source": [
        "## Preprocessing"
      ]
    },
    {
      "cell_type": "code",
      "metadata": {
        "colab_type": "code",
        "id": "HmoEjHejqC0B",
        "outputId": "ea827d9a-b8d8-4251-dd3e-afa9a826d6af",
        "colab": {
          "base_uri": "https://localhost:8080/",
          "height": 102
        }
      },
      "source": [
        "nltk.download('wordnet')\n",
        "nltk.download('stopwords')"
      ],
      "execution_count": 3,
      "outputs": [
        {
          "output_type": "stream",
          "text": [
            "[nltk_data] Downloading package wordnet to /root/nltk_data...\n",
            "[nltk_data]   Unzipping corpora/wordnet.zip.\n",
            "[nltk_data] Downloading package stopwords to /root/nltk_data...\n",
            "[nltk_data]   Unzipping corpora/stopwords.zip.\n"
          ],
          "name": "stdout"
        },
        {
          "output_type": "execute_result",
          "data": {
            "text/plain": [
              "True"
            ]
          },
          "metadata": {
            "tags": []
          },
          "execution_count": 3
        }
      ]
    },
    {
      "cell_type": "code",
      "metadata": {
        "colab_type": "code",
        "id": "cweKvcHTpt7t",
        "outputId": "14ec3e25-e026-420b-bc76-de9b2e8a99e6",
        "colab": {
          "base_uri": "https://localhost:8080/",
          "height": 34
        }
      },
      "source": [
        "stem = LancasterStemmer() # aggressive than Porter algoritm\n",
        "stop = stopwords.words('english') # maybe stopwords not be useful\n",
        "stop[:5]"
      ],
      "execution_count": 4,
      "outputs": [
        {
          "output_type": "execute_result",
          "data": {
            "text/plain": [
              "['i', 'me', 'my', 'myself', 'we']"
            ]
          },
          "metadata": {
            "tags": []
          },
          "execution_count": 4
        }
      ]
    },
    {
      "cell_type": "markdown",
      "metadata": {
        "colab_type": "text",
        "id": "2XAxRn7z1aKo"
      },
      "source": [
        "tensorflow dataset to array"
      ]
    },
    {
      "cell_type": "code",
      "metadata": {
        "colab_type": "code",
        "id": "5aHUENj5v0Eo",
        "colab": {}
      },
      "source": [
        "X, Y = [], [] # original data\n",
        "X_stop = [] # text without stopwords\n",
        "X_stem = [] # steming text \n",
        "X_stop_stem = [] # steming and without stopwords"
      ],
      "execution_count": 0,
      "outputs": []
    },
    {
      "cell_type": "code",
      "metadata": {
        "colab_type": "code",
        "id": "IR9rSEPbF6ZN",
        "colab": {}
      },
      "source": [
        "html_teg = re.compile(r'<.*?>')"
      ],
      "execution_count": 0,
      "outputs": []
    },
    {
      "cell_type": "code",
      "metadata": {
        "colab_type": "code",
        "id": "DvDHZm1-6qUL",
        "outputId": "3831463f-a518-48bb-9b6d-d8e130da36a3",
        "pycharm": {
          "is_executing": true
        },
        "colab": {
          "base_uri": "https://localhost:8080/",
          "height": 51
        }
      },
      "source": [
        "%%time\n",
        "\n",
        "for g in data['train']: \n",
        "\n",
        "    text = g['text'].numpy().decode() # rewiew film in byte string\n",
        "\n",
        "    text = html_teg.sub('', text) # text have html\n",
        "\n",
        "    X.append(text)\n",
        "\n",
        "    text = ''.join(x for x in text if x not in punctuation) # clean text\n",
        "\n",
        "    text_stop = ' '.join(word for word in text.lower().split() if\n",
        "                         word not in stop)\n",
        "    X_stop.append(text_stop)\n",
        "\n",
        "    stem_text = ' '.join(stem.stem(word) for word in text.split())\n",
        "    X_stem.append(stem_text)\n",
        "\n",
        "    stem_stop_text = ' '.join(stem.stem(word) for word in text_stop.split())\n",
        "    X_stop_stem.append(stem_stop_text)\n",
        "\n",
        "    Y.append(g['label'].numpy())"
      ],
      "execution_count": 7,
      "outputs": [
        {
          "output_type": "stream",
          "text": [
            "CPU times: user 1min 56s, sys: 1.28 s, total: 1min 57s\n",
            "Wall time: 1min 54s\n"
          ],
          "name": "stdout"
        }
      ]
    },
    {
      "cell_type": "markdown",
      "metadata": {
        "colab_type": "text",
        "id": "dNkkbow93CFs"
      },
      "source": [
        "same for test data"
      ]
    },
    {
      "cell_type": "code",
      "metadata": {
        "colab_type": "code",
        "id": "cjC5IWjT22Dh",
        "pycharm": {
          "is_executing": true
        },
        "colab": {}
      },
      "source": [
        "X_test, Y_test = [], []\n",
        "X_stop_test = [] \n",
        "X_stop_stem_test = []"
      ],
      "execution_count": 0,
      "outputs": []
    },
    {
      "cell_type": "code",
      "metadata": {
        "colab_type": "code",
        "id": "2RabOAzi22GL",
        "outputId": "39edf9a7-e4f2-45bd-8648-4f6562e29b34",
        "pycharm": {
          "is_executing": true
        },
        "colab": {
          "base_uri": "https://localhost:8080/",
          "height": 51
        }
      },
      "source": [
        "%%time\n",
        "\n",
        "for g in data['test']: \n",
        "\n",
        "    text = g['text'].numpy().decode() # rewiew film in byte string\n",
        "\n",
        "    text = html_teg.sub('', text) # text have html\n",
        "\n",
        "    X_test.append(text)\n",
        "\n",
        "    text = ''.join(x for x in text if x not in punctuation) # clean text\n",
        "\n",
        "    text_stop = ' '.join(word for word in text.lower().split() if\n",
        "                         word not in stop)\n",
        "    X_stop_test.append(text_stop)\n",
        "\n",
        "    stem_stop_text = ' '.join(stem.stem(word) for word in text_stop.split())\n",
        "    X_stop_stem_test.append(stem_stop_text)\n",
        "\n",
        "    Y_test.append(g['label'].numpy())"
      ],
      "execution_count": 9,
      "outputs": [
        {
          "output_type": "stream",
          "text": [
            "CPU times: user 56.9 s, sys: 1.42 s, total: 58.4 s\n",
            "Wall time: 54.8 s\n"
          ],
          "name": "stdout"
        }
      ]
    },
    {
      "cell_type": "markdown",
      "metadata": {
        "colab_type": "text",
        "id": "VTNfIuCARfSP"
      },
      "source": [
        "## Data Analysis"
      ]
    },
    {
      "cell_type": "markdown",
      "metadata": {
        "colab_type": "text",
        "id": "RXIxDDsx5f34"
      },
      "source": [
        "more comfortably"
      ]
    },
    {
      "cell_type": "code",
      "metadata": {
        "colab_type": "code",
        "id": "zZDR1o2Q5Yzo",
        "pycharm": {
          "is_executing": true
        },
        "colab": {}
      },
      "source": [
        "X = np.array(X)\n",
        "X_stop = np.array(X_stop)\n",
        "X_stem = np.array(X_stem)\n",
        "X_stop_stem = np.array(X_stop_stem)\n",
        "Y = np.array(Y)\n",
        "\n",
        "X_test = np.array(X_test)\n",
        "X_stop_test = np.array(X_stop_test)\n",
        "X_stop_stem_test = np.array(X_stop_stem_test)\n",
        "Y_test = np.array(Y_test)"
      ],
      "execution_count": 0,
      "outputs": []
    },
    {
      "cell_type": "markdown",
      "metadata": {
        "colab_type": "text",
        "id": "29LOOg-MSv-A"
      },
      "source": [
        "### See on data"
      ]
    },
    {
      "cell_type": "markdown",
      "metadata": {
        "colab_type": "text",
        "id": "q8A1SJW3Rvks"
      },
      "source": [
        "Negative"
      ]
    },
    {
      "cell_type": "code",
      "metadata": {
        "colab_type": "code",
        "id": "hbqZd0-_83fP",
        "pycharm": {
          "is_executing": true
        },
        "colab": {
          "base_uri": "https://localhost:8080/",
          "height": 54
        },
        "outputId": "d2e1a611-88c6-4201-fc6b-1fb017731192"
      },
      "source": [
        "X[Y == 0][0] # i don't watch McBain"
      ],
      "execution_count": 11,
      "outputs": [
        {
          "output_type": "execute_result",
          "data": {
            "text/plain": [
              "\"This was an absolutely terrible movie. Don't be lured in by Christopher Walken or Michael Ironside. Both are great actors, but this must simply be their worst role in history. Even their great acting could not redeem this movie's ridiculous storyline. This movie is an early nineties US propaganda piece. The most pathetic scenes were those when the Columbian rebels were making their cases for revolutions. Maria Conchita Alonso appeared phony, and her pseudo-love affair with Walken was nothing but a pathetic emotional plug in a movie that was devoid of any real meaning. I am disappointed that there are movies like this, ruining actor's like Christopher Walken's good name. I could barely sit through it.\""
            ]
          },
          "metadata": {
            "tags": []
          },
          "execution_count": 11
        }
      ]
    },
    {
      "cell_type": "code",
      "metadata": {
        "colab_type": "code",
        "id": "P9DWniS821r2",
        "pycharm": {
          "is_executing": true
        },
        "colab": {
          "base_uri": "https://localhost:8080/",
          "height": 54
        },
        "outputId": "1feeaf1a-206a-470c-e661-836476033352"
      },
      "source": [
        "X_stem[Y == 0][0]"
      ],
      "execution_count": 12,
      "outputs": [
        {
          "output_type": "execute_result",
          "data": {
            "text/plain": [
              "'thi was an absolv terr movy dont be lur in by christopher walk or michael ironsid both ar gre act but thi must simply be their worst rol in hist ev their gre act could not redeem thi movy ridic storylin thi movy is an ear nin us propagand piec the most pathet scen wer thos when the columb rebel wer mak their cas for revolv mar conchit alonso appear phony and her pseudolov affair with walk was noth but a pathet emot plug in a movy that was devoid of any real mean i am disappoint that ther ar movy lik thi ruin act lik christopher walk good nam i could bar sit through it'"
            ]
          },
          "metadata": {
            "tags": []
          },
          "execution_count": 12
        }
      ]
    },
    {
      "cell_type": "markdown",
      "metadata": {
        "colab_type": "text",
        "id": "ltPsKui4R1-9"
      },
      "source": [
        "Positive"
      ]
    },
    {
      "cell_type": "code",
      "metadata": {
        "colab_type": "code",
        "id": "cj8zhmiv-2J9",
        "pycharm": {
          "is_executing": true
        },
        "colab": {
          "base_uri": "https://localhost:8080/",
          "height": 54
        },
        "outputId": "711aa7ab-1d70-4154-dafd-0c492db318a4"
      },
      "source": [
        "X[Y == 1][0] # maybe Moonstruck is well"
      ],
      "execution_count": 13,
      "outputs": [
        {
          "output_type": "execute_result",
          "data": {
            "text/plain": [
              "'This is the kind of film for a snowy Sunday afternoon when the rest of the world can go ahead with its own business as you descend into a big arm-chair and mellow for a couple of hours. Wonderful performances from Cher and Nicolas Cage (as always) gently row the plot along. There are no rapids to cross, no dangerous waters, just a warm and witty paddle through New York life at its best. A family film in every sense and one that deserves the praise it received.'"
            ]
          },
          "metadata": {
            "tags": []
          },
          "execution_count": 13
        }
      ]
    },
    {
      "cell_type": "code",
      "metadata": {
        "colab_type": "code",
        "id": "RjkXsmC_7ndj",
        "pycharm": {
          "is_executing": true
        },
        "colab": {
          "base_uri": "https://localhost:8080/",
          "height": 54
        },
        "outputId": "437c85dd-73ed-48fa-ca72-3c4820f0400e"
      },
      "source": [
        "X_stem[Y == 1][0]"
      ],
      "execution_count": 14,
      "outputs": [
        {
          "output_type": "execute_result",
          "data": {
            "text/plain": [
              "'thi is the kind of film for a snowy sunday afternoon when the rest of the world can go ahead with it own busy as you descend into a big armchair and mellow for a coupl of hour wond perform from cher and nicola cag as alway gent row the plot along ther ar no rapid to cross no dang wat just a warm and witty paddl through new york lif at it best a famy film in every sens and on that deserv the pra it receiv'"
            ]
          },
          "metadata": {
            "tags": []
          },
          "execution_count": 14
        }
      ]
    },
    {
      "cell_type": "markdown",
      "metadata": {
        "colab_type": "text",
        "id": "8TAeRnUeT8-n"
      },
      "source": [
        "### Visualization"
      ]
    },
    {
      "cell_type": "markdown",
      "metadata": {
        "colab_type": "text",
        "id": "xJhOwHDtW0h6"
      },
      "source": [
        "propotion with pie"
      ]
    },
    {
      "cell_type": "code",
      "metadata": {
        "colab_type": "code",
        "id": "0-GvoWQXSM_G",
        "pycharm": {
          "is_executing": true
        },
        "colab": {
          "base_uri": "https://localhost:8080/",
          "height": 248
        },
        "outputId": "51290748-1fad-439f-d112-6f6eb91a789c"
      },
      "source": [
        "_, ax = plt.subplots()\n",
        "\n",
        "ax.pie(\n",
        "    (len(Y[Y==1]), len(Y[Y==0])),\n",
        "    labels = ('Positive', 'Negative')\n",
        ")\n",
        "plt.show()"
      ],
      "execution_count": 15,
      "outputs": [
        {
          "output_type": "display_data",
          "data": {
            "image/png": "[encoded data removed]",
            "text/plain": [
              "<Figure size 432x288 with 1 Axes>"
            ]
          },
          "metadata": {
            "tags": []
          }
        }
      ]
    },
    {
      "cell_type": "code",
      "metadata": {
        "colab_type": "code",
        "id": "hedRsB4IVLt8",
        "pycharm": {
          "is_executing": true
        },
        "colab": {
          "base_uri": "https://localhost:8080/",
          "height": 34
        },
        "outputId": "de31b4d5-4b69-4990-af10-ba9ef02d6d23"
      },
      "source": [
        "len(Y[Y==1]) == len(Y[Y==0]) # equal"
      ],
      "execution_count": 16,
      "outputs": [
        {
          "output_type": "execute_result",
          "data": {
            "text/plain": [
              "True"
            ]
          },
          "metadata": {
            "tags": []
          },
          "execution_count": 16
        }
      ]
    },
    {
      "cell_type": "code",
      "metadata": {
        "colab_type": "code",
        "id": "7xqicPpgVOBf",
        "pycharm": {
          "is_executing": true
        },
        "colab": {
          "base_uri": "https://localhost:8080/",
          "height": 34
        },
        "outputId": "8e08f607-0a57-479c-cf53-764d98ad11cc"
      },
      "source": [
        "len(Y[Y == 1])"
      ],
      "execution_count": 17,
      "outputs": [
        {
          "output_type": "execute_result",
          "data": {
            "text/plain": [
              "12500"
            ]
          },
          "metadata": {
            "tags": []
          },
          "execution_count": 17
        }
      ]
    },
    {
      "cell_type": "markdown",
      "metadata": {
        "colab_type": "text",
        "id": "hAJO26bx0aGy"
      },
      "source": [
        "## TfidfVectorizer"
      ]
    },
    {
      "cell_type": "markdown",
      "metadata": {
        "colab_type": "text",
        "id": "n5YMiBo-1ES7"
      },
      "source": [
        "### Original data"
      ]
    },
    {
      "cell_type": "code",
      "metadata": {
        "colab_type": "code",
        "id": "lcMBnL37VkK-",
        "pycharm": {
          "is_executing": true
        },
        "colab": {}
      },
      "source": [
        "tfidf = TfidfVectorizer()"
      ],
      "execution_count": 0,
      "outputs": []
    },
    {
      "cell_type": "code",
      "metadata": {
        "colab_type": "code",
        "id": "2P3v8xvNZXdK",
        "pycharm": {
          "is_executing": true
        },
        "colab": {
          "base_uri": "https://localhost:8080/",
          "height": 68
        },
        "outputId": "3d3306a1-d464-4c1e-dde3-85c7604f692f"
      },
      "source": [
        "%%time\n",
        "out = tfidf.fit_transform(X)\n",
        "print(out.shape) # all string on all world"
      ],
      "execution_count": 19,
      "outputs": [
        {
          "output_type": "stream",
          "text": [
            "(25000, 75907)\n",
            "CPU times: user 4.41 s, sys: 10.6 ms, total: 4.42 s\n",
            "Wall time: 4.44 s\n"
          ],
          "name": "stdout"
        }
      ]
    },
    {
      "cell_type": "markdown",
      "metadata": {
        "colab_type": "text",
        "id": "CDS6CpS-0UmC"
      },
      "source": [
        "top 5 words in \"dirty data\""
      ]
    },
    {
      "cell_type": "code",
      "metadata": {
        "colab_type": "code",
        "id": "TvRxu1_9Ccio",
        "pycharm": {
          "is_executing": true
        },
        "colab": {}
      },
      "source": [
        "sort_idx = np.ravel(out.sum(axis=0).argsort(axis=1))[::-1]"
      ],
      "execution_count": 0,
      "outputs": []
    },
    {
      "cell_type": "code",
      "metadata": {
        "colab_type": "code",
        "id": "b0SSimKfCcle",
        "pycharm": {
          "is_executing": true
        },
        "colab": {
          "base_uri": "https://localhost:8080/",
          "height": 34
        },
        "outputId": "eed363a5-b533-4eb3-891e-e50cb0a08e99"
      },
      "source": [
        "np.array(tfidf.get_feature_names())[sort_idx][:5]"
      ],
      "execution_count": 21,
      "outputs": [
        {
          "output_type": "execute_result",
          "data": {
            "text/plain": [
              "array(['the', 'and', 'of', 'to', 'is'], dtype='<U74')"
            ]
          },
          "metadata": {
            "tags": []
          },
          "execution_count": 21
        }
      ]
    },
    {
      "cell_type": "markdown",
      "metadata": {
        "colab_type": "text",
        "id": "_EqrR12u4jWJ"
      },
      "source": [
        "for logreg"
      ]
    },
    {
      "cell_type": "code",
      "metadata": {
        "colab_type": "code",
        "id": "DfVturDazhIC",
        "pycharm": {
          "is_executing": true
        },
        "colab": {}
      },
      "source": [
        "x_train = tfidf.transform(X)\n",
        "x_test = tfidf.transform(X_test)"
      ],
      "execution_count": 0,
      "outputs": []
    },
    {
      "cell_type": "markdown",
      "metadata": {
        "colab_type": "text",
        "id": "bWUSQR7T1P2j"
      },
      "source": [
        "### Data without stop words"
      ]
    },
    {
      "cell_type": "code",
      "metadata": {
        "colab_type": "code",
        "id": "s0HkiXLeZe_F",
        "pycharm": {
          "is_executing": true
        },
        "colab": {
          "base_uri": "https://localhost:8080/",
          "height": 68
        },
        "outputId": "419cabe1-1102-4def-999c-8b197bf17313"
      },
      "source": [
        "%%time\n",
        "tfidf2 = TfidfVectorizer()\n",
        "out2 = tfidf2.fit_transform(X_stop)\n",
        "print(out2.shape) "
      ],
      "execution_count": 23,
      "outputs": [
        {
          "output_type": "stream",
          "text": [
            "(25000, 141849)\n",
            "CPU times: user 3.08 s, sys: 9.84 ms, total: 3.09 s\n",
            "Wall time: 3.09 s\n"
          ],
          "name": "stdout"
        }
      ]
    },
    {
      "cell_type": "code",
      "metadata": {
        "colab_type": "code",
        "id": "uTxSz1VxZnq1",
        "pycharm": {
          "is_executing": true
        },
        "colab": {}
      },
      "source": [
        "sort_idx2 = np.ravel(out2.sum(axis=0).argsort(axis=1))[::-1]"
      ],
      "execution_count": 0,
      "outputs": []
    },
    {
      "cell_type": "markdown",
      "metadata": {
        "colab_type": "text",
        "id": "01nK84uXKkJW"
      },
      "source": [
        "top 5 words"
      ]
    },
    {
      "cell_type": "code",
      "metadata": {
        "colab_type": "code",
        "id": "13gtOOYHCIVi",
        "pycharm": {
          "is_executing": true
        },
        "colab": {
          "base_uri": "https://localhost:8080/",
          "height": 34
        },
        "outputId": "6087a65b-f7fc-40f3-cd30-450e480ef751"
      },
      "source": [
        "np.array(tfidf2.get_feature_names())[sort_idx2][:5]"
      ],
      "execution_count": 25,
      "outputs": [
        {
          "output_type": "execute_result",
          "data": {
            "text/plain": [
              "array(['movie', 'film', 'one', 'like', 'good'], dtype='<U66')"
            ]
          },
          "metadata": {
            "tags": []
          },
          "execution_count": 25
        }
      ]
    },
    {
      "cell_type": "markdown",
      "metadata": {
        "colab_type": "text",
        "id": "0obOYIuq4ocZ"
      },
      "source": [
        "for logreg"
      ]
    },
    {
      "cell_type": "code",
      "metadata": {
        "colab_type": "code",
        "id": "ZHJkYmKw1dkV",
        "pycharm": {
          "is_executing": true
        },
        "colab": {}
      },
      "source": [
        "x2_train = tfidf2.transform(X_stop)\n",
        "x2_test = tfidf2.transform(X_stop_test)"
      ],
      "execution_count": 0,
      "outputs": []
    },
    {
      "cell_type": "markdown",
      "metadata": {
        "colab_type": "text",
        "id": "XYih0xGi1ncF"
      },
      "source": [
        "### Data without stop words, with steming"
      ]
    },
    {
      "cell_type": "code",
      "metadata": {
        "colab_type": "code",
        "id": "HkK90mHRFD54",
        "pycharm": {
          "is_executing": true
        },
        "colab": {
          "base_uri": "https://localhost:8080/",
          "height": 68
        },
        "outputId": "43330612-2306-48be-e9fc-acd51a078f9a"
      },
      "source": [
        "%%time\n",
        "tfidf3 = TfidfVectorizer()\n",
        "out3 = tfidf3.fit_transform(X_stop_stem)\n",
        "print(out3.shape) "
      ],
      "execution_count": 27,
      "outputs": [
        {
          "output_type": "stream",
          "text": [
            "(25000, 100204)\n",
            "CPU times: user 2.71 s, sys: 8.77 ms, total: 2.72 s\n",
            "Wall time: 2.72 s\n"
          ],
          "name": "stdout"
        }
      ]
    },
    {
      "cell_type": "code",
      "metadata": {
        "colab_type": "code",
        "id": "YiwPbI6Bx7W6",
        "pycharm": {
          "is_executing": true
        },
        "colab": {}
      },
      "source": [
        "sort_idx3 = np.ravel(out3.sum(axis=0).argsort(axis=1))[::-1]"
      ],
      "execution_count": 0,
      "outputs": []
    },
    {
      "cell_type": "markdown",
      "metadata": {
        "colab_type": "text",
        "id": "dQ6IxSaMKnOW"
      },
      "source": [
        "top 5 words in data without stop words, with steming"
      ]
    },
    {
      "cell_type": "code",
      "metadata": {
        "colab_type": "code",
        "id": "0YqBlE5Hx9_2",
        "pycharm": {
          "is_executing": true
        },
        "colab": {
          "base_uri": "https://localhost:8080/",
          "height": 34
        },
        "outputId": "ab2242a3-b872-46d5-8c4f-a66caf1bfc4d"
      },
      "source": [
        "np.array(tfidf3.get_feature_names())[sort_idx3][:5]"
      ],
      "execution_count": 29,
      "outputs": [
        {
          "output_type": "execute_result",
          "data": {
            "text/plain": [
              "array(['movy', 'film', 'on', 'act', 'lik'], dtype='<U64')"
            ]
          },
          "metadata": {
            "tags": []
          },
          "execution_count": 29
        }
      ]
    },
    {
      "cell_type": "markdown",
      "metadata": {
        "colab_type": "text",
        "id": "XEjsxomd4qSP"
      },
      "source": [
        "for logreg"
      ]
    },
    {
      "cell_type": "code",
      "metadata": {
        "colab_type": "code",
        "id": "e7mL2AR8yATz",
        "pycharm": {
          "is_executing": true
        },
        "colab": {}
      },
      "source": [
        "x3_train = tfidf3.transform(X_stop_stem)\n",
        "x3_test = tfidf3.transform(X_stop_stem_test)"
      ],
      "execution_count": 0,
      "outputs": []
    },
    {
      "cell_type": "markdown",
      "metadata": {
        "colab_type": "text",
        "id": "vrwxz4Xl2EnZ"
      },
      "source": [
        "## Logistic Regression"
      ]
    },
    {
      "cell_type": "code",
      "metadata": {
        "colab_type": "code",
        "id": "9NK6THRn9QyK",
        "pycharm": {
          "is_executing": true
        },
        "colab": {}
      },
      "source": [
        "precision_pos, recall_pos = {}, {} # Positive precision and reccall\n",
        "precision_neg, recall_neg = {}, {} # Negative precision and reccall\n",
        "accuracy = {} # i like accuracy"
      ],
      "execution_count": 0,
      "outputs": []
    },
    {
      "cell_type": "code",
      "metadata": {
        "colab_type": "code",
        "id": "2MDmUd6h91a5",
        "pycharm": {
          "is_executing": true
        },
        "colab": {}
      },
      "source": [
        "def add_stat(model_name: str, pred):\n",
        "    \n",
        "    prec_pos = precision_score(Y_test, pred, average='binary', pos_label=1)\n",
        "    rec_pos = recall_score(Y_test, pred, average='binary', pos_label=1)\n",
        "\n",
        "    print(f'Precison for positive is {prec_pos}\\nRecall for positive is {rec_pos}')\n",
        "\n",
        "    precision_pos[model_name] = prec_pos\n",
        "    recall_pos[model_name] = rec_pos\n",
        "\n",
        "    prec_neg = precision_score(Y_test, pred, average='binary', pos_label=0)\n",
        "    rec_neg = recall_score(Y_test, pred, average='binary', pos_label=0)\n",
        "\n",
        "    print(f'Precison for negative is {prec_neg}\\nRecall for negative is {rec_neg}')\n",
        "        \n",
        "    precision_neg[model_name] = prec_neg\n",
        "    recall_neg[model_name] = rec_neg\n",
        "\n",
        "    print(f'Accuracy is {accuracy_score(pred, Y_test)}')\n",
        "    accuracy[model_name] = accuracy_score(pred, Y_test)"
      ],
      "execution_count": 0,
      "outputs": []
    },
    {
      "cell_type": "markdown",
      "metadata": {
        "colab_type": "text",
        "id": "fHvIlVEg89xU"
      },
      "source": [
        "### Original data"
      ]
    },
    {
      "cell_type": "code",
      "metadata": {
        "colab_type": "code",
        "id": "yDo_aIJV2Afe",
        "pycharm": {
          "is_executing": true
        },
        "colab": {}
      },
      "source": [
        "# %%time\n",
        "# model1 = LogisticRegression(random_state=42, n_jobs=-1)\n",
        "\n",
        "# params = {\n",
        "#     'C': np.linspace(6, 9, 5)\n",
        "# }\n",
        "\n",
        "# grid_search = GridSearchCV(model1, params, \n",
        "#                            n_jobs=-1, cv=3,\n",
        "#                            return_train_score=True)\n",
        "\n",
        "# grid_search.fit(x_train, Y)"
      ],
      "execution_count": 0,
      "outputs": []
    },
    {
      "cell_type": "code",
      "metadata": {
        "colab_type": "code",
        "id": "tfb6TXfY5hEq",
        "pycharm": {
          "is_executing": true
        },
        "colab": {}
      },
      "source": [
        "# grid_search.best_params_, grid_search.best_score_"
      ],
      "execution_count": 0,
      "outputs": []
    },
    {
      "cell_type": "code",
      "metadata": {
        "colab_type": "code",
        "id": "3g4EdJlF5-Jw",
        "pycharm": {
          "is_executing": true
        },
        "colab": {
          "base_uri": "https://localhost:8080/",
          "height": 51
        },
        "outputId": "ba812c19-0144-4daf-8ad0-fbb563f151c1"
      },
      "source": [
        "%%time\n",
        "model1 = LogisticRegression(random_state=42,\n",
        "                           n_jobs=-1,\n",
        "                           C=8.25).fit(x_train, Y)"
      ],
      "execution_count": 35,
      "outputs": [
        {
          "output_type": "stream",
          "text": [
            "CPU times: user 34.9 ms, sys: 252 ms, total: 287 ms\n",
            "Wall time: 3.81 s\n"
          ],
          "name": "stdout"
        }
      ]
    },
    {
      "cell_type": "code",
      "metadata": {
        "colab_type": "code",
        "id": "5wQywWRJS6W8",
        "pycharm": {
          "is_executing": true
        },
        "colab": {
          "base_uri": "https://localhost:8080/",
          "height": 102
        },
        "outputId": "c7c7867e-c81c-4033-d63e-a521398982d3"
      },
      "source": [
        "add_stat('Logreg orig', model1.predict(x_test))"
      ],
      "execution_count": 36,
      "outputs": [
        {
          "output_type": "stream",
          "text": [
            "Precison for positive is 0.8887081028311097\n",
            "Recall for positive is 0.87392\n",
            "Precison for negative is 0.87598363235757\n",
            "Recall for negative is 0.89056\n",
            "Accuracy is 0.88224\n"
          ],
          "name": "stdout"
        }
      ]
    },
    {
      "cell_type": "markdown",
      "metadata": {
        "colab_type": "text",
        "id": "T45jNAquiNY4"
      },
      "source": [
        "### Data without stop words"
      ]
    },
    {
      "cell_type": "code",
      "metadata": {
        "colab_type": "code",
        "id": "w1ArCFdSiD1y",
        "pycharm": {
          "is_executing": true
        },
        "colab": {}
      },
      "source": [
        "# %%time\n",
        "# model2 = LogisticRegression(random_state=42, n_jobs=-1)\n",
        "\n",
        "# params2 = {\n",
        "#     'C': np.linspace(4, 6, 10)\n",
        "# }\n",
        "\n",
        "# grid_search2 = GridSearchCV(model2, params2, \n",
        "#                            n_jobs=-1, cv=3,\n",
        "#                            return_train_score=True)\n",
        "\n",
        "# grid_search2.fit(x2_train, Y)"
      ],
      "execution_count": 0,
      "outputs": []
    },
    {
      "cell_type": "code",
      "metadata": {
        "colab_type": "code",
        "id": "HgE9Kz_0Wn6R",
        "pycharm": {
          "is_executing": true
        },
        "colab": {}
      },
      "source": [
        "# grid_search2.best_params_, grid_search2.best_score_ "
      ],
      "execution_count": 0,
      "outputs": []
    },
    {
      "cell_type": "code",
      "metadata": {
        "colab_type": "code",
        "id": "no7HPbLVi00Z",
        "pycharm": {
          "is_executing": true
        },
        "colab": {
          "base_uri": "https://localhost:8080/",
          "height": 51
        },
        "outputId": "c33baaa1-e981-4f95-b81c-38ace05712de"
      },
      "source": [
        "%%time\n",
        "model2 = LogisticRegression(random_state=42,\n",
        "                           n_jobs=-1,\n",
        "                           C=4.5).fit(x2_train, Y)"
      ],
      "execution_count": 39,
      "outputs": [
        {
          "output_type": "stream",
          "text": [
            "CPU times: user 17.4 ms, sys: 17.9 ms, total: 35.3 ms\n",
            "Wall time: 3.59 s\n"
          ],
          "name": "stdout"
        }
      ]
    },
    {
      "cell_type": "code",
      "metadata": {
        "colab_type": "code",
        "id": "BgaLvrgvi66y",
        "pycharm": {
          "is_executing": true
        },
        "colab": {
          "base_uri": "https://localhost:8080/",
          "height": 102
        },
        "outputId": "5530506e-e62e-4e6f-fba1-120d6fb54aa9"
      },
      "source": [
        "add_stat('Logreg stop words', model2.predict(x2_test))"
      ],
      "execution_count": 40,
      "outputs": [
        {
          "output_type": "stream",
          "text": [
            "Precison for positive is 0.8866279069767442\n",
            "Recall for positive is 0.8784\n",
            "Precison for negative is 0.8795180722891566\n",
            "Recall for negative is 0.88768\n",
            "Accuracy is 0.88304\n"
          ],
          "name": "stdout"
        }
      ]
    },
    {
      "cell_type": "markdown",
      "metadata": {
        "colab_type": "text",
        "id": "hDRxKiugjGP5"
      },
      "source": [
        "### Data without stop words and steming "
      ]
    },
    {
      "cell_type": "code",
      "metadata": {
        "colab_type": "code",
        "id": "sjXekXUHi69V",
        "pycharm": {
          "is_executing": true
        },
        "colab": {}
      },
      "source": [
        "# %%time\n",
        "# model3 = LogisticRegression(random_state=42, n_jobs=-1)\n",
        "\n",
        "# params3 = {\n",
        "#     'C': np.linspace(2, 4, 10)\n",
        "# }\n",
        "\n",
        "# grid_search3 = GridSearchCV(model3, params3, \n",
        "#                            n_jobs=-1, cv=3,\n",
        "#                            return_train_score=True)\n",
        "\n",
        "# grid_search3.fit(x3_train, Y)"
      ],
      "execution_count": 0,
      "outputs": []
    },
    {
      "cell_type": "code",
      "metadata": {
        "colab_type": "code",
        "id": "bEXWO95KjwPd",
        "pycharm": {
          "is_executing": true
        },
        "colab": {}
      },
      "source": [
        "# grid_search3.best_params_, grid_search3.best_score_ "
      ],
      "execution_count": 0,
      "outputs": []
    },
    {
      "cell_type": "code",
      "metadata": {
        "colab_type": "code",
        "id": "tImqcdozi7Db",
        "pycharm": {
          "is_executing": true
        },
        "colab": {
          "base_uri": "https://localhost:8080/",
          "height": 51
        },
        "outputId": "8145ca82-57a7-402f-8d93-1b56a86b69b8"
      },
      "source": [
        "%%time\n",
        "model3 = LogisticRegression(random_state=42,\n",
        "                           n_jobs=-1,\n",
        "                           C=3.5).fit(x3_train, Y)"
      ],
      "execution_count": 43,
      "outputs": [
        {
          "output_type": "stream",
          "text": [
            "CPU times: user 17.6 ms, sys: 13 ms, total: 30.6 ms\n",
            "Wall time: 2.49 s\n"
          ],
          "name": "stdout"
        }
      ]
    },
    {
      "cell_type": "code",
      "metadata": {
        "colab_type": "code",
        "id": "Ez5yO2RnjyxZ",
        "pycharm": {
          "is_executing": true
        },
        "colab": {
          "base_uri": "https://localhost:8080/",
          "height": 102
        },
        "outputId": "ad373c31-9d1e-4abe-c28b-82a4650de129"
      },
      "source": [
        "add_stat('Logreg stop words and steming', model3.predict(x3_test))"
      ],
      "execution_count": 44,
      "outputs": [
        {
          "output_type": "stream",
          "text": [
            "Precison for positive is 0.8737206865984366\n",
            "Recall for positive is 0.86736\n",
            "Precison for negative is 0.868318640298626\n",
            "Recall for negative is 0.87464\n",
            "Accuracy is 0.871\n"
          ],
          "name": "stdout"
        }
      ]
    },
    {
      "cell_type": "markdown",
      "metadata": {
        "colab_type": "text",
        "id": "mvNcJd46Jiza"
      },
      "source": [
        "## Tokenizer + Dense"
      ]
    },
    {
      "cell_type": "code",
      "metadata": {
        "colab_type": "code",
        "id": "cU2VhXfOKEEc",
        "colab": {}
      },
      "source": [
        "tokenizer = Tokenizer(num_words=2**13)"
      ],
      "execution_count": 0,
      "outputs": []
    },
    {
      "cell_type": "code",
      "metadata": {
        "colab_type": "code",
        "id": "2StmBJaTL_oT",
        "colab": {
          "base_uri": "https://localhost:8080/",
          "height": 51
        },
        "outputId": "ba061645-79c7-4064-dfb3-93d8d1d3037c"
      },
      "source": [
        "%%time\n",
        "tokenizer.fit_on_texts(X_stop_stem)"
      ],
      "execution_count": 46,
      "outputs": [
        {
          "output_type": "stream",
          "text": [
            "CPU times: user 2.82 s, sys: 22.7 ms, total: 2.84 s\n",
            "Wall time: 2.85 s\n"
          ],
          "name": "stdout"
        }
      ]
    },
    {
      "cell_type": "code",
      "metadata": {
        "colab_type": "code",
        "id": "LSxvPDz6MY8n",
        "colab": {}
      },
      "source": [
        "x_train = tokenizer.texts_to_matrix(X_stop_stem, mode='binary')"
      ],
      "execution_count": 0,
      "outputs": []
    },
    {
      "cell_type": "code",
      "metadata": {
        "colab_type": "code",
        "id": "omc-VH6ONSnG",
        "colab": {
          "base_uri": "https://localhost:8080/",
          "height": 34
        },
        "outputId": "5cb553e4-4c49-4a0f-938b-f345a10667cf"
      },
      "source": [
        "x_train.shape"
      ],
      "execution_count": 48,
      "outputs": [
        {
          "output_type": "execute_result",
          "data": {
            "text/plain": [
              "(25000, 8192)"
            ]
          },
          "metadata": {
            "tags": []
          },
          "execution_count": 48
        }
      ]
    },
    {
      "cell_type": "code",
      "metadata": {
        "colab_type": "code",
        "id": "TGdMKCDpfrkz",
        "colab": {
          "base_uri": "https://localhost:8080/",
          "height": 34
        },
        "outputId": "1f1d53bd-9182-4c5e-c404-11bec285acd6"
      },
      "source": [
        "X_test = tokenizer.texts_to_matrix(X_stop_stem_test, mode='binary')\n",
        "X_test.shape"
      ],
      "execution_count": 49,
      "outputs": [
        {
          "output_type": "execute_result",
          "data": {
            "text/plain": [
              "(25000, 8192)"
            ]
          },
          "metadata": {
            "tags": []
          },
          "execution_count": 49
        }
      ]
    },
    {
      "cell_type": "markdown",
      "metadata": {
        "colab_type": "text",
        "id": "jHa_IQ2sfrk2"
      },
      "source": [
        "### Keras Dense Model"
      ]
    },
    {
      "cell_type": "code",
      "metadata": {
        "colab_type": "code",
        "id": "BzWm1kz2Njco",
        "colab": {}
      },
      "source": [
        "model = Sequential([\n",
        "    Dense(2048, input_shape=(2**13,), activation='relu'), # 2**13 is tokenizer num words \n",
        "    Dropout(0.5),\n",
        "    Dense(128, activation='relu'),\n",
        "    Dropout(0.5),\n",
        "    Dense(2, activation='sigmoid')\n",
        "])"
      ],
      "execution_count": 0,
      "outputs": []
    },
    {
      "cell_type": "code",
      "metadata": {
        "colab_type": "code",
        "id": "JCHIPO3XNbNF",
        "colab": {
          "base_uri": "https://localhost:8080/",
          "height": 323
        },
        "outputId": "23afe2b3-f761-4448-b169-2e4d4c33b400"
      },
      "source": [
        "model.compile(loss=BinaryCrossentropy(),\n",
        "             optimizer=Adam(1e-3),\n",
        "             metrics=['accuracy'])\n",
        "model.summary()"
      ],
      "execution_count": 51,
      "outputs": [
        {
          "output_type": "stream",
          "text": [
            "Model: \"sequential\"\n",
            "_________________________________________________________________\n",
            "Layer (type)                 Output Shape              Param #   \n",
            "=================================================================\n",
            "dense (Dense)                (None, 2048)              16779264  \n",
            "_________________________________________________________________\n",
            "dropout (Dropout)            (None, 2048)              0         \n",
            "_________________________________________________________________\n",
            "dense_1 (Dense)              (None, 128)               262272    \n",
            "_________________________________________________________________\n",
            "dropout_1 (Dropout)          (None, 128)               0         \n",
            "_________________________________________________________________\n",
            "dense_2 (Dense)              (None, 2)                 258       \n",
            "=================================================================\n",
            "Total params: 17,041,794\n",
            "Trainable params: 17,041,794\n",
            "Non-trainable params: 0\n",
            "_________________________________________________________________\n"
          ],
          "name": "stdout"
        }
      ]
    },
    {
      "cell_type": "markdown",
      "metadata": {
        "colab_type": "text",
        "id": "dLBXIrsYfrk7"
      },
      "source": [
        "### train model"
      ]
    },
    {
      "cell_type": "code",
      "metadata": {
        "colab_type": "code",
        "id": "LdV4kkHCfrk8",
        "colab": {}
      },
      "source": [
        "y_train = to_categorical(Y)\n",
        "y_test = to_categorical(Y_test)"
      ],
      "execution_count": 0,
      "outputs": []
    },
    {
      "cell_type": "code",
      "metadata": {
        "colab_type": "code",
        "id": "mwu3uGEcfrk9",
        "colab": {
          "base_uri": "https://localhost:8080/",
          "height": 187
        },
        "outputId": "43847d11-c31d-457f-d2c1-df8b7cf53fdc"
      },
      "source": [
        "%%time\n",
        "history = model.fit(x_train, y_train, epochs=4, batch_size=1000)"
      ],
      "execution_count": 53,
      "outputs": [
        {
          "output_type": "stream",
          "text": [
            "Epoch 1/4\n",
            "25/25 [==============================] - 1s 25ms/step - loss: 0.4294 - accuracy: 0.8105\n",
            "Epoch 2/4\n",
            "25/25 [==============================] - 1s 24ms/step - loss: 0.2169 - accuracy: 0.9191\n",
            "Epoch 3/4\n",
            "25/25 [==============================] - 1s 24ms/step - loss: 0.1271 - accuracy: 0.9571\n",
            "Epoch 4/4\n",
            "25/25 [==============================] - 1s 22ms/step - loss: 0.0575 - accuracy: 0.9843\n",
            "CPU times: user 3.92 s, sys: 640 ms, total: 4.56 s\n",
            "Wall time: 5.09 s\n"
          ],
          "name": "stdout"
        }
      ]
    },
    {
      "cell_type": "code",
      "metadata": {
        "colab_type": "code",
        "id": "WFxTNSCIfrk_",
        "colab": {
          "base_uri": "https://localhost:8080/",
          "height": 279
        },
        "outputId": "da36c428-1bc1-4275-ac8d-2550fe9423fe"
      },
      "source": [
        "plt.plot(history.history['accuracy'])\n",
        "plt.xlabel(\"Epochs\")\n",
        "plt.ylabel(\"Accuracy\")\n",
        "plt.show()"
      ],
      "execution_count": 54,
      "outputs": [
        {
          "output_type": "display_data",
          "data": {
            "image/png": "[encoded data removed]",
            "text/plain": [
              "<Figure size 432x288 with 1 Axes>"
            ]
          },
          "metadata": {
            "tags": [],
            "needs_background": "light"
          }
        }
      ]
    },
    {
      "cell_type": "markdown",
      "metadata": {
        "colab_type": "text",
        "id": "Co27i1XifrlA"
      },
      "source": [
        "### score"
      ]
    },
    {
      "cell_type": "code",
      "metadata": {
        "colab_type": "code",
        "id": "WSJePEUjfrlB",
        "colab": {
          "base_uri": "https://localhost:8080/",
          "height": 224
        },
        "outputId": "fef24e78-3dff-4792-d8d3-73855396c749"
      },
      "source": [
        "pred = model.predict_classes(X_test)\n",
        "add_stat('Dense', pred)"
      ],
      "execution_count": 55,
      "outputs": [
        {
          "output_type": "stream",
          "text": [
            "WARNING:tensorflow:From <ipython-input-55-e71f3044be83>:1: Sequential.predict_classes (from tensorflow.python.keras.engine.sequential) is deprecated and will be removed after 2021-01-01.\n",
            "Instructions for updating:\n",
            "Please use instead:* `np.argmax(model.predict(x), axis=-1)`,   if your model does multi-class classification   (e.g. if it uses a `softmax` last-layer activation).* `(model.predict(x) > 0.5).astype(\"int32\")`,   if your model does binary classification   (e.g. if it uses a `sigmoid` last-layer activation).\n"
          ],
          "name": "stdout"
        },
        {
          "output_type": "stream",
          "text": [
            "WARNING:tensorflow:From <ipython-input-55-e71f3044be83>:1: Sequential.predict_classes (from tensorflow.python.keras.engine.sequential) is deprecated and will be removed after 2021-01-01.\n",
            "Instructions for updating:\n",
            "Please use instead:* `np.argmax(model.predict(x), axis=-1)`,   if your model does multi-class classification   (e.g. if it uses a `softmax` last-layer activation).* `(model.predict(x) > 0.5).astype(\"int32\")`,   if your model does binary classification   (e.g. if it uses a `sigmoid` last-layer activation).\n"
          ],
          "name": "stderr"
        },
        {
          "output_type": "stream",
          "text": [
            "Precison for positive is 0.8507404822827014\n",
            "Recall for positive is 0.87776\n",
            "Precison for negative is 0.8737503098405354\n",
            "Recall for negative is 0.846\n",
            "Accuracy is 0.86188\n"
          ],
          "name": "stdout"
        }
      ]
    },
    {
      "cell_type": "markdown",
      "metadata": {
        "colab_type": "text",
        "id": "Rmc2XlFxfrlK"
      },
      "source": [
        "## Recurrent Neural Networks"
      ]
    },
    {
      "cell_type": "code",
      "metadata": {
        "id": "E_hawESgbtMN",
        "colab_type": "code",
        "colab": {}
      },
      "source": [
        "x_train = pad_sequences(tokenizer.texts_to_sequences(X_stop_stem))\n",
        "x_test =  pad_sequences(tokenizer.texts_to_sequences(X_stop_stem_test))"
      ],
      "execution_count": 0,
      "outputs": []
    },
    {
      "cell_type": "markdown",
      "metadata": {
        "colab_type": "text",
        "id": "rxmrcvuCfrlL"
      },
      "source": [
        "### GRU"
      ]
    },
    {
      "cell_type": "code",
      "metadata": {
        "colab_type": "code",
        "id": "GI9TAESqfrlL",
        "colab": {}
      },
      "source": [
        "gru = Sequential([\n",
        "    Embedding(2**13, 3), # 2**13 is tokenizer num words \n",
        "    GRU(3),\n",
        "    Dense(2, activation='sigmoid')\n",
        "])"
      ],
      "execution_count": 0,
      "outputs": []
    },
    {
      "cell_type": "code",
      "metadata": {
        "colab_type": "code",
        "id": "noeyiZKufrlM",
        "outputId": "e10ec4fc-6c04-4627-b8ac-7a4b69d895cb",
        "colab": {
          "base_uri": "https://localhost:8080/",
          "height": 255
        }
      },
      "source": [
        "gru.compile(loss=BinaryCrossentropy(),\n",
        "             optimizer=Adam(1e-3),\n",
        "             metrics=['accuracy'])\n",
        "gru.summary()"
      ],
      "execution_count": 90,
      "outputs": [
        {
          "output_type": "stream",
          "text": [
            "Model: \"sequential_8\"\n",
            "_________________________________________________________________\n",
            "Layer (type)                 Output Shape              Param #   \n",
            "=================================================================\n",
            "embedding_7 (Embedding)      (None, None, 3)           24576     \n",
            "_________________________________________________________________\n",
            "gru_7 (GRU)                  (None, 3)                 72        \n",
            "_________________________________________________________________\n",
            "dense_10 (Dense)             (None, 2)                 8         \n",
            "=================================================================\n",
            "Total params: 24,656\n",
            "Trainable params: 24,656\n",
            "Non-trainable params: 0\n",
            "_________________________________________________________________\n"
          ],
          "name": "stdout"
        }
      ]
    },
    {
      "cell_type": "markdown",
      "metadata": {
        "colab_type": "text",
        "id": "MO85d4QffrlO"
      },
      "source": [
        "train"
      ]
    },
    {
      "cell_type": "code",
      "metadata": {
        "colab_type": "code",
        "id": "_ZO4ZmaMfrlO",
        "outputId": "5479903f-c2c9-4685-dcf2-e31191e4455b",
        "colab": {
          "base_uri": "https://localhost:8080/",
          "height": 459
        }
      },
      "source": [
        "%%time\n",
        "history = gru.fit(x_train, y_train, epochs=12, \n",
        "                  batch_size=100, validation_data=(x_test, y_test)) \n",
        "# batch size 10 because embedding very big"
      ],
      "execution_count": 91,
      "outputs": [
        {
          "output_type": "stream",
          "text": [
            "Epoch 1/12\n",
            "250/250 [==============================] - 20s 82ms/step - loss: 0.6813 - accuracy: 0.6147 - val_loss: 0.6182 - val_accuracy: 0.6862\n",
            "Epoch 2/12\n",
            "250/250 [==============================] - 20s 82ms/step - loss: 0.4539 - accuracy: 0.8174 - val_loss: 0.4383 - val_accuracy: 0.8090\n",
            "Epoch 3/12\n",
            "250/250 [==============================] - 21s 82ms/step - loss: 0.3665 - accuracy: 0.8556 - val_loss: 0.3976 - val_accuracy: 0.8316\n",
            "Epoch 4/12\n",
            "250/250 [==============================] - 20s 82ms/step - loss: 0.3193 - accuracy: 0.8796 - val_loss: 0.3888 - val_accuracy: 0.8359\n",
            "Epoch 5/12\n",
            "250/250 [==============================] - 20s 82ms/step - loss: 0.2946 - accuracy: 0.8917 - val_loss: 0.3959 - val_accuracy: 0.8335\n",
            "Epoch 6/12\n",
            "250/250 [==============================] - 20s 81ms/step - loss: 0.2755 - accuracy: 0.8990 - val_loss: 0.3923 - val_accuracy: 0.8360\n",
            "Epoch 7/12\n",
            "250/250 [==============================] - 20s 81ms/step - loss: 0.2596 - accuracy: 0.9061 - val_loss: 0.4170 - val_accuracy: 0.8279\n",
            "Epoch 8/12\n",
            "250/250 [==============================] - 20s 82ms/step - loss: 0.2457 - accuracy: 0.9133 - val_loss: 0.4020 - val_accuracy: 0.8343\n",
            "Epoch 9/12\n",
            "250/250 [==============================] - 20s 82ms/step - loss: 0.2356 - accuracy: 0.9178 - val_loss: 0.4234 - val_accuracy: 0.8264\n",
            "Epoch 10/12\n",
            "250/250 [==============================] - 20s 82ms/step - loss: 0.2205 - accuracy: 0.9251 - val_loss: 0.4211 - val_accuracy: 0.8321\n",
            "Epoch 11/12\n",
            "250/250 [==============================] - 20s 82ms/step - loss: 0.2143 - accuracy: 0.9273 - val_loss: 0.4285 - val_accuracy: 0.8286\n",
            "Epoch 12/12\n",
            "250/250 [==============================] - 20s 82ms/step - loss: 0.2073 - accuracy: 0.9309 - val_loss: 0.4429 - val_accuracy: 0.8240\n",
            "CPU times: user 3min 29s, sys: 16.3 s, total: 3min 45s\n",
            "Wall time: 4min 7s\n"
          ],
          "name": "stdout"
        }
      ]
    },
    {
      "cell_type": "code",
      "metadata": {
        "colab_type": "code",
        "id": "Euq64o7cfrlR",
        "colab": {
          "base_uri": "https://localhost:8080/",
          "height": 279
        },
        "outputId": "19cdffdd-6a43-4f2d-e315-de9d4841024a"
      },
      "source": [
        "plt.plot(history.history['accuracy'])\n",
        "plt.plot(history.history['val_accuracy'])\n",
        "plt.xlabel(\"Epochs\")\n",
        "plt.ylabel(\"Accuracy\")\n",
        "plt.legend(['Accuracy','val Accuracy'])\n",
        "plt.show()"
      ],
      "execution_count": 92,
      "outputs": [
        {
          "output_type": "display_data",
          "data": {
            "image/png": "[encoded data removed]",
            "text/plain": [
              "<Figure size 432x288 with 1 Axes>"
            ]
          },
          "metadata": {
            "tags": [],
            "needs_background": "light"
          }
        }
      ]
    },
    {
      "cell_type": "markdown",
      "metadata": {
        "id": "ZWrlxgIPe2l5",
        "colab_type": "text"
      },
      "source": [
        "score"
      ]
    },
    {
      "cell_type": "code",
      "metadata": {
        "colab_type": "code",
        "id": "ekwC485GfrlW",
        "colab": {
          "base_uri": "https://localhost:8080/",
          "height": 102
        },
        "outputId": "682d4898-f14f-49f3-b6db-c804c02f48d7"
      },
      "source": [
        "pred = gru.predict_classes(x_test)\n",
        "add_stat('GRU', pred)"
      ],
      "execution_count": 93,
      "outputs": [
        {
          "output_type": "stream",
          "text": [
            "Precison for positive is 0.8398221178050008\n",
            "Recall for positive is 0.80072\n",
            "Precison for negative is 0.8095856902614279\n",
            "Recall for negative is 0.84728\n",
            "Accuracy is 0.824\n"
          ],
          "name": "stdout"
        }
      ]
    },
    {
      "cell_type": "markdown",
      "metadata": {
        "id": "0D4pUsCsfBp5",
        "colab_type": "text"
      },
      "source": [
        "### LSTM"
      ]
    },
    {
      "cell_type": "code",
      "metadata": {
        "colab_type": "code",
        "id": "2R9GqPPwfrlY",
        "colab": {}
      },
      "source": [
        "lstm = Sequential([\n",
        "     Embedding(2**13, 3), # 2**13 is tokenizer num words \n",
        "     LSTM(3),\n",
        "     Dense(2, activation='sigmoid')\n",
        "])"
      ],
      "execution_count": 0,
      "outputs": []
    },
    {
      "cell_type": "code",
      "metadata": {
        "colab_type": "code",
        "id": "-SirPuerfrla",
        "colab": {
          "base_uri": "https://localhost:8080/",
          "height": 255
        },
        "outputId": "23e9bcf2-8732-4e22-a6a2-1ed326dc11bb"
      },
      "source": [
        "lstm.compile(loss=BinaryCrossentropy(),\n",
        "             optimizer=Adam(1e-3),\n",
        "             metrics=['accuracy'])\n",
        "lstm.summary()"
      ],
      "execution_count": 95,
      "outputs": [
        {
          "output_type": "stream",
          "text": [
            "Model: \"sequential_9\"\n",
            "_________________________________________________________________\n",
            "Layer (type)                 Output Shape              Param #   \n",
            "=================================================================\n",
            "embedding_8 (Embedding)      (None, None, 3)           24576     \n",
            "_________________________________________________________________\n",
            "lstm (LSTM)                  (None, 3)                 84        \n",
            "_________________________________________________________________\n",
            "dense_11 (Dense)             (None, 2)                 8         \n",
            "=================================================================\n",
            "Total params: 24,668\n",
            "Trainable params: 24,668\n",
            "Non-trainable params: 0\n",
            "_________________________________________________________________\n"
          ],
          "name": "stdout"
        }
      ]
    },
    {
      "cell_type": "code",
      "metadata": {
        "colab_type": "code",
        "id": "fpyjrH73frle",
        "colab": {
          "base_uri": "https://localhost:8080/",
          "height": 391
        },
        "outputId": "6cd95953-e285-4a9b-a625-4875df693e9a"
      },
      "source": [
        "%%time\n",
        "history = lstm.fit(x_train, y_train, epochs=10, \n",
        "                  batch_size=100, validation_data=(x_test, y_test)) \n",
        "# batch size 100 because embedding very big"
      ],
      "execution_count": 97,
      "outputs": [
        {
          "output_type": "stream",
          "text": [
            "Epoch 1/10\n",
            "250/250 [==============================] - 15s 60ms/step - loss: 0.6489 - accuracy: 0.7098 - val_loss: 0.5435 - val_accuracy: 0.8455\n",
            "Epoch 2/10\n",
            "250/250 [==============================] - 15s 60ms/step - loss: 0.4670 - accuracy: 0.8751 - val_loss: 0.4360 - val_accuracy: 0.8628\n",
            "Epoch 3/10\n",
            "250/250 [==============================] - 15s 59ms/step - loss: 0.3615 - accuracy: 0.9050 - val_loss: 0.3859 - val_accuracy: 0.8639\n",
            "Epoch 4/10\n",
            "250/250 [==============================] - 15s 59ms/step - loss: 0.2944 - accuracy: 0.9211 - val_loss: 0.3702 - val_accuracy: 0.8624\n",
            "Epoch 5/10\n",
            "250/250 [==============================] - 15s 60ms/step - loss: 0.2498 - accuracy: 0.9312 - val_loss: 0.3761 - val_accuracy: 0.8570\n",
            "Epoch 6/10\n",
            "250/250 [==============================] - 15s 59ms/step - loss: 0.2190 - accuracy: 0.9409 - val_loss: 0.3665 - val_accuracy: 0.8573\n",
            "Epoch 7/10\n",
            "250/250 [==============================] - 15s 58ms/step - loss: 0.2147 - accuracy: 0.9360 - val_loss: 0.3698 - val_accuracy: 0.8578\n",
            "Epoch 8/10\n",
            "250/250 [==============================] - 14s 58ms/step - loss: 0.1824 - accuracy: 0.9508 - val_loss: 0.3810 - val_accuracy: 0.8548\n",
            "Epoch 9/10\n",
            "250/250 [==============================] - 14s 58ms/step - loss: 0.1683 - accuracy: 0.9548 - val_loss: 0.3920 - val_accuracy: 0.8535\n",
            "Epoch 10/10\n",
            "250/250 [==============================] - 14s 57ms/step - loss: 0.1563 - accuracy: 0.9587 - val_loss: 0.3999 - val_accuracy: 0.8524\n",
            "CPU times: user 2min 37s, sys: 3.44 s, total: 2min 40s\n",
            "Wall time: 2min 28s\n"
          ],
          "name": "stdout"
        }
      ]
    },
    {
      "cell_type": "code",
      "metadata": {
        "colab_type": "code",
        "id": "jbfhyBqgfrlf",
        "colab": {
          "base_uri": "https://localhost:8080/",
          "height": 279
        },
        "outputId": "d7d523f7-201e-4e2b-8ea5-56a2ce370aa5"
      },
      "source": [
        "plt.plot(history.history['accuracy'])\n",
        "plt.plot(history.history['val_accuracy'])\n",
        "plt.xlabel(\"Epochs\")\n",
        "plt.ylabel(\"Accuracy\")\n",
        "plt.legend(['Accuracy','val Accuracy'])\n",
        "plt.show()"
      ],
      "execution_count": 98,
      "outputs": [
        {
          "output_type": "display_data",
          "data": {
            "image/png": "[encoded data removed]",
            "text/plain": [
              "<Figure size 432x288 with 1 Axes>"
            ]
          },
          "metadata": {
            "tags": [],
            "needs_background": "light"
          }
        }
      ]
    },
    {
      "cell_type": "code",
      "metadata": {
        "id": "dkBgVCxIo2Qj",
        "colab_type": "code",
        "colab": {
          "base_uri": "https://localhost:8080/",
          "height": 102
        },
        "outputId": "2dcb1393-0bd0-4189-cfc0-68979ffb3210"
      },
      "source": [
        "pred = lstm.predict_classes(x_test)\n",
        "add_stat('LSTM', pred)"
      ],
      "execution_count": 99,
      "outputs": [
        {
          "output_type": "stream",
          "text": [
            "Precison for positive is 0.8642301967917976\n",
            "Recall for positive is 0.83616\n",
            "Precison for negative is 0.841314117464745\n",
            "Recall for negative is 0.86864\n",
            "Accuracy is 0.8524\n"
          ],
          "name": "stdout"
        }
      ]
    },
    {
      "cell_type": "markdown",
      "metadata": {
        "id": "4oAmgKkDocT-",
        "colab_type": "text"
      },
      "source": [
        "## Summary"
      ]
    },
    {
      "cell_type": "markdown",
      "metadata": {
        "id": "npeHavcIomyK",
        "colab_type": "text"
      },
      "source": [
        "result to pandas "
      ]
    },
    {
      "cell_type": "code",
      "metadata": {
        "colab_type": "code",
        "id": "YfJEnlCkjyzo",
        "pycharm": {
          "is_executing": true
        },
        "colab": {
          "base_uri": "https://localhost:8080/",
          "height": 235
        },
        "outputId": "dc8518c6-d198-4eb4-a1ca-15d3eee198cd"
      },
      "source": [
        "precision_pos = pd.Series(precision_pos)\n",
        "precision_neg = pd.Series(precision_neg)\n",
        "recall_pos = pd.Series(recall_pos)\n",
        "recall_neg = pd.Series(recall_neg)\n",
        "accuracy = pd.Series(accuracy)\n",
        "result = pd.DataFrame({'accuracy': accuracy, \n",
        "                     'precision positive': precision_pos,\n",
        "                     'precision negative': precision_neg,\n",
        "                     'recall positive': recall_pos,\n",
        "                     'recall negative': recall_neg})\n",
        "result"
      ],
      "execution_count": 100,
      "outputs": [
        {
          "output_type": "execute_result",
          "data": {
            "text/html": [
              "<div>\n",
              "<style scoped>\n",
              "    .dataframe tbody tr th:only-of-type {\n",
              "        vertical-align: middle;\n",
              "    }\n",
              "\n",
              "    .dataframe tbody tr th {\n",
              "        vertical-align: top;\n",
              "    }\n",
              "\n",
              "    .dataframe thead th {\n",
              "        text-align: right;\n",
              "    }\n",
              "</style>\n",
              "<table border=\"1\" class=\"dataframe\">\n",
              "  <thead>\n",
              "    <tr style=\"text-align: right;\">\n",
              "      <th></th>\n",
              "      <th>accuracy</th>\n",
              "      <th>precision positive</th>\n",
              "      <th>precision negative</th>\n",
              "      <th>recall positive</th>\n",
              "      <th>recall negative</th>\n",
              "    </tr>\n",
              "  </thead>\n",
              "  <tbody>\n",
              "    <tr>\n",
              "      <th>Logreg orig</th>\n",
              "      <td>0.88224</td>\n",
              "      <td>0.888708</td>\n",
              "      <td>0.875984</td>\n",
              "      <td>0.87392</td>\n",
              "      <td>0.89056</td>\n",
              "    </tr>\n",
              "    <tr>\n",
              "      <th>Logreg stop words</th>\n",
              "      <td>0.88304</td>\n",
              "      <td>0.886628</td>\n",
              "      <td>0.879518</td>\n",
              "      <td>0.87840</td>\n",
              "      <td>0.88768</td>\n",
              "    </tr>\n",
              "    <tr>\n",
              "      <th>Logreg stop words and steming</th>\n",
              "      <td>0.87100</td>\n",
              "      <td>0.873721</td>\n",
              "      <td>0.868319</td>\n",
              "      <td>0.86736</td>\n",
              "      <td>0.87464</td>\n",
              "    </tr>\n",
              "    <tr>\n",
              "      <th>Dense</th>\n",
              "      <td>0.86188</td>\n",
              "      <td>0.850740</td>\n",
              "      <td>0.873750</td>\n",
              "      <td>0.87776</td>\n",
              "      <td>0.84600</td>\n",
              "    </tr>\n",
              "    <tr>\n",
              "      <th>GRU</th>\n",
              "      <td>0.82400</td>\n",
              "      <td>0.839822</td>\n",
              "      <td>0.809586</td>\n",
              "      <td>0.80072</td>\n",
              "      <td>0.84728</td>\n",
              "    </tr>\n",
              "    <tr>\n",
              "      <th>LSTM</th>\n",
              "      <td>0.85240</td>\n",
              "      <td>0.864230</td>\n",
              "      <td>0.841314</td>\n",
              "      <td>0.83616</td>\n",
              "      <td>0.86864</td>\n",
              "    </tr>\n",
              "  </tbody>\n",
              "</table>\n",
              "</div>"
            ],
            "text/plain": [
              "                               accuracy  ...  recall negative\n",
              "Logreg orig                     0.88224  ...          0.89056\n",
              "Logreg stop words               0.88304  ...          0.88768\n",
              "Logreg stop words and steming   0.87100  ...          0.87464\n",
              "Dense                           0.86188  ...          0.84600\n",
              "GRU                             0.82400  ...          0.84728\n",
              "LSTM                            0.85240  ...          0.86864\n",
              "\n",
              "[6 rows x 5 columns]"
            ]
          },
          "metadata": {
            "tags": []
          },
          "execution_count": 100
        }
      ]
    },
    {
      "cell_type": "code",
      "metadata": {
        "colab_type": "code",
        "id": "TwsX1T2Ofrlg",
        "colab": {
          "base_uri": "https://localhost:8080/",
          "height": 235
        },
        "outputId": "62af8564-1b54-4bcc-9378-501b171b5cf2"
      },
      "source": [
        "result.sort_values(by=['precision positive'], ascending=False)"
      ],
      "execution_count": 101,
      "outputs": [
        {
          "output_type": "execute_result",
          "data": {
            "text/html": [
              "<div>\n",
              "<style scoped>\n",
              "    .dataframe tbody tr th:only-of-type {\n",
              "        vertical-align: middle;\n",
              "    }\n",
              "\n",
              "    .dataframe tbody tr th {\n",
              "        vertical-align: top;\n",
              "    }\n",
              "\n",
              "    .dataframe thead th {\n",
              "        text-align: right;\n",
              "    }\n",
              "</style>\n",
              "<table border=\"1\" class=\"dataframe\">\n",
              "  <thead>\n",
              "    <tr style=\"text-align: right;\">\n",
              "      <th></th>\n",
              "      <th>accuracy</th>\n",
              "      <th>precision positive</th>\n",
              "      <th>precision negative</th>\n",
              "      <th>recall positive</th>\n",
              "      <th>recall negative</th>\n",
              "    </tr>\n",
              "  </thead>\n",
              "  <tbody>\n",
              "    <tr>\n",
              "      <th>Logreg orig</th>\n",
              "      <td>0.88224</td>\n",
              "      <td>0.888708</td>\n",
              "      <td>0.875984</td>\n",
              "      <td>0.87392</td>\n",
              "      <td>0.89056</td>\n",
              "    </tr>\n",
              "    <tr>\n",
              "      <th>Logreg stop words</th>\n",
              "      <td>0.88304</td>\n",
              "      <td>0.886628</td>\n",
              "      <td>0.879518</td>\n",
              "      <td>0.87840</td>\n",
              "      <td>0.88768</td>\n",
              "    </tr>\n",
              "    <tr>\n",
              "      <th>Logreg stop words and steming</th>\n",
              "      <td>0.87100</td>\n",
              "      <td>0.873721</td>\n",
              "      <td>0.868319</td>\n",
              "      <td>0.86736</td>\n",
              "      <td>0.87464</td>\n",
              "    </tr>\n",
              "    <tr>\n",
              "      <th>LSTM</th>\n",
              "      <td>0.85240</td>\n",
              "      <td>0.864230</td>\n",
              "      <td>0.841314</td>\n",
              "      <td>0.83616</td>\n",
              "      <td>0.86864</td>\n",
              "    </tr>\n",
              "    <tr>\n",
              "      <th>Dense</th>\n",
              "      <td>0.86188</td>\n",
              "      <td>0.850740</td>\n",
              "      <td>0.873750</td>\n",
              "      <td>0.87776</td>\n",
              "      <td>0.84600</td>\n",
              "    </tr>\n",
              "    <tr>\n",
              "      <th>GRU</th>\n",
              "      <td>0.82400</td>\n",
              "      <td>0.839822</td>\n",
              "      <td>0.809586</td>\n",
              "      <td>0.80072</td>\n",
              "      <td>0.84728</td>\n",
              "    </tr>\n",
              "  </tbody>\n",
              "</table>\n",
              "</div>"
            ],
            "text/plain": [
              "                               accuracy  ...  recall negative\n",
              "Logreg orig                     0.88224  ...          0.89056\n",
              "Logreg stop words               0.88304  ...          0.88768\n",
              "Logreg stop words and steming   0.87100  ...          0.87464\n",
              "LSTM                            0.85240  ...          0.86864\n",
              "Dense                           0.86188  ...          0.84600\n",
              "GRU                             0.82400  ...          0.84728\n",
              "\n",
              "[6 rows x 5 columns]"
            ]
          },
          "metadata": {
            "tags": []
          },
          "execution_count": 101
        }
      ]
    },
    {
      "cell_type": "code",
      "metadata": {
        "colab_type": "code",
        "id": "oX-juACJfrli",
        "colab": {
          "base_uri": "https://localhost:8080/",
          "height": 235
        },
        "outputId": "2e0c4fd9-445a-4089-c447-5bf62fafda83"
      },
      "source": [
        "result.sort_values(by=['recall positive'], ascending=False)"
      ],
      "execution_count": 102,
      "outputs": [
        {
          "output_type": "execute_result",
          "data": {
            "text/html": [
              "<div>\n",
              "<style scoped>\n",
              "    .dataframe tbody tr th:only-of-type {\n",
              "        vertical-align: middle;\n",
              "    }\n",
              "\n",
              "    .dataframe tbody tr th {\n",
              "        vertical-align: top;\n",
              "    }\n",
              "\n",
              "    .dataframe thead th {\n",
              "        text-align: right;\n",
              "    }\n",
              "</style>\n",
              "<table border=\"1\" class=\"dataframe\">\n",
              "  <thead>\n",
              "    <tr style=\"text-align: right;\">\n",
              "      <th></th>\n",
              "      <th>accuracy</th>\n",
              "      <th>precision positive</th>\n",
              "      <th>precision negative</th>\n",
              "      <th>recall positive</th>\n",
              "      <th>recall negative</th>\n",
              "    </tr>\n",
              "  </thead>\n",
              "  <tbody>\n",
              "    <tr>\n",
              "      <th>Logreg stop words</th>\n",
              "      <td>0.88304</td>\n",
              "      <td>0.886628</td>\n",
              "      <td>0.879518</td>\n",
              "      <td>0.87840</td>\n",
              "      <td>0.88768</td>\n",
              "    </tr>\n",
              "    <tr>\n",
              "      <th>Dense</th>\n",
              "      <td>0.86188</td>\n",
              "      <td>0.850740</td>\n",
              "      <td>0.873750</td>\n",
              "      <td>0.87776</td>\n",
              "      <td>0.84600</td>\n",
              "    </tr>\n",
              "    <tr>\n",
              "      <th>Logreg orig</th>\n",
              "      <td>0.88224</td>\n",
              "      <td>0.888708</td>\n",
              "      <td>0.875984</td>\n",
              "      <td>0.87392</td>\n",
              "      <td>0.89056</td>\n",
              "    </tr>\n",
              "    <tr>\n",
              "      <th>Logreg stop words and steming</th>\n",
              "      <td>0.87100</td>\n",
              "      <td>0.873721</td>\n",
              "      <td>0.868319</td>\n",
              "      <td>0.86736</td>\n",
              "      <td>0.87464</td>\n",
              "    </tr>\n",
              "    <tr>\n",
              "      <th>LSTM</th>\n",
              "      <td>0.85240</td>\n",
              "      <td>0.864230</td>\n",
              "      <td>0.841314</td>\n",
              "      <td>0.83616</td>\n",
              "      <td>0.86864</td>\n",
              "    </tr>\n",
              "    <tr>\n",
              "      <th>GRU</th>\n",
              "      <td>0.82400</td>\n",
              "      <td>0.839822</td>\n",
              "      <td>0.809586</td>\n",
              "      <td>0.80072</td>\n",
              "      <td>0.84728</td>\n",
              "    </tr>\n",
              "  </tbody>\n",
              "</table>\n",
              "</div>"
            ],
            "text/plain": [
              "                               accuracy  ...  recall negative\n",
              "Logreg stop words               0.88304  ...          0.88768\n",
              "Dense                           0.86188  ...          0.84600\n",
              "Logreg orig                     0.88224  ...          0.89056\n",
              "Logreg stop words and steming   0.87100  ...          0.87464\n",
              "LSTM                            0.85240  ...          0.86864\n",
              "GRU                             0.82400  ...          0.84728\n",
              "\n",
              "[6 rows x 5 columns]"
            ]
          },
          "metadata": {
            "tags": []
          },
          "execution_count": 102
        }
      ]
    },
    {
      "cell_type": "markdown",
      "metadata": {
        "id": "0WYq2hufpjJX",
        "colab_type": "text"
      },
      "source": [
        "Summary:  \n",
        "**Logistic Regression** is a enough for imdb reviews.\n",
        "\n",
        "> + very easy training   \n",
        "> + work with \"dirty\" data\n",
        "\n",
        "**Dense NN** slightly worse than LogReg.  \n",
        "\n",
        "> + training faster then Embedding \n",
        "> - requires more resources than LogReg\n",
        "\n",
        "**LSTM and GRU** it's very hard model for imdb reviews.\n",
        "\n",
        "> - long training\n",
        "> - requires very much resources\n",
        "\n",
        "In this data stemming + remove stop words helped NN, but LogReg does not require it all"
      ]
    }
  ]
}