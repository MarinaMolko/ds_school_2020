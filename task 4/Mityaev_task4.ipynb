{
 "cells": [
  {
   "cell_type": "code",
   "execution_count": 36,
   "metadata": {},
   "outputs": [],
   "source": [
    "import os\n",
    "import numpy as np\n",
    "import pandas as pd\n",
    "from sklearn.model_selection import train_test_split\n",
    "from sklearn.preprocessing import (StandardScaler,\n",
    "    LabelEncoder, OneHotEncoder)\n",
    "\n",
    "data_dir = '../data'\n",
    "filename = 'AB_NYC_2019.csv'\n",
    "data_path = os.path.join(data_dir, filename)\n",
    "\n",
    "df = pd.read_csv(data_path)"
   ]
  },
  {
   "cell_type": "markdown",
   "metadata": {},
   "source": [
    "#### Data preparation"
   ]
  },
  {
   "cell_type": "code",
   "execution_count": 37,
   "metadata": {
    "pycharm": {
     "name": "#%%\n"
    }
   },
   "outputs": [],
   "source": [
    "df['last_review'] = pd.to_datetime(df['last_review'])"
   ]
  },
  {
   "cell_type": "code",
   "execution_count": 38,
   "metadata": {
    "pycharm": {
     "name": "#%%\n"
    }
   },
   "outputs": [],
   "source": [
    "no_hostname = df[df['host_name'].isnull()]\n",
    "df.drop(index=no_hostname.index, inplace=True)"
   ]
  },
  {
   "cell_type": "code",
   "execution_count": 39,
   "metadata": {
    "pycharm": {
     "name": "#%%\n"
    }
   },
   "outputs": [],
   "source": [
    "no_name = df[df['name'].isnull()]\n",
    "df.drop(index=no_name.index, inplace=True)"
   ]
  },
  {
   "cell_type": "code",
   "execution_count": 40,
   "metadata": {
    "pycharm": {
     "name": "#%%\n"
    }
   },
   "outputs": [],
   "source": [
    "no_info_cond = df['number_of_reviews'] == 0 & \\\n",
    "               df['last_review'].isnull() & \\\n",
    "               df['reviews_per_month'].isnull()\n",
    "no_info_sample = df[no_info_cond]\n",
    "\n",
    "df.drop(index=no_info_sample.index, inplace=True)\n",
    "\n",
    "df.index = range(len(df))"
   ]
  },
  {
   "cell_type": "code",
   "execution_count": 41,
   "metadata": {
    "pycharm": {
     "name": "#%%\n"
    }
   },
   "outputs": [],
   "source": [
    "def extract_date(data):\n",
    "    return data.dt.year, data.dt.month, data.dt.day\n",
    "\n",
    "year, month, day = extract_date(df['last_review'])\n",
    "\n",
    "df[['review_year', 'review_month',\n",
    "    'review_day']] = pd.DataFrame({'year': year,\n",
    "                        'month': month,\n",
    "                        'day': day})\n",
    "\n",
    "df.drop(columns='last_review', inplace=True)"
   ]
  },
  {
   "cell_type": "code",
   "execution_count": 42,
   "metadata": {
    "pycharm": {
     "name": "#%%\n"
    }
   },
   "outputs": [],
   "source": [
    "# FE\n",
    "df['year_available'] = df['availability_365'] == 365\n",
    "df['review_period'] = df['number_of_reviews'] / df['reviews_per_month']\n",
    "df['is_rare_type'] = df['room_type'] == 'Shared room'\n",
    "df['reviews_per_host'] = df['number_of_reviews'] / df['calculated_host_listings_count']\n",
    "df['min_available'] = df['minimum_nights'] * df['availability_365']"
   ]
  },
  {
   "cell_type": "code",
   "execution_count": 43,
   "metadata": {
    "pycharm": {
     "name": "#%%\n"
    }
   },
   "outputs": [],
   "source": [
    "target = df['price']\n",
    "df.drop(columns=['price'], inplace=True)\n",
    "\n",
    "target.replace(to_replace=0, value=target.mean(), inplace=True)\n",
    "target = np.log(target)"
   ]
  },
  {
   "cell_type": "code",
   "execution_count": 44,
   "metadata": {
    "pycharm": {
     "name": "#%%\n"
    }
   },
   "outputs": [
    {
     "name": "stdout",
     "output_type": "stream",
     "text": [
      "Wall time: 56.9 ms\n"
     ]
    }
   ],
   "source": [
    "%%time\n",
    "to_encode = ['room_type', 'neighbourhood_group']\n",
    "\n",
    "for col in to_encode:\n",
    "    le = LabelEncoder()\n",
    "    ohe = OneHotEncoder(categories='auto')\n",
    "    labeled = le.fit_transform(df[col])\n",
    "    labeled = labeled.reshape(len(labeled), 1)\n",
    "    encoded = ohe.fit_transform(labeled).toarray()\n",
    "    encoded_df = pd.DataFrame(\n",
    "        encoded, columns=['is_'+cat for cat in le.classes_]\n",
    "    )\n",
    "    df = df.join(encoded_df)\n",
    "\n",
    "df.drop(columns=to_encode, inplace=True)"
   ]
  },
  {
   "cell_type": "code",
   "execution_count": 45,
   "metadata": {
    "pycharm": {
     "name": "#%%\n"
    }
   },
   "outputs": [
    {
     "name": "stdout",
     "output_type": "stream",
     "text": [
      "Wall time: 54.9 ms\n"
     ]
    }
   ],
   "source": [
    "%%time\n",
    "# Useless unique identifier\n",
    "df.drop(columns='id', inplace=True)\n",
    "# Have to make specific FE for sentences\n",
    "df.drop(columns='name', inplace=True)\n",
    "\n",
    "to_label = ['host_name', 'neighbourhood',\n",
    "            'year_available', 'is_rare_type']\n",
    "\n",
    "for col in to_label:\n",
    "    le = LabelEncoder()\n",
    "    labeled = le.fit_transform(df[col])\n",
    "    df[col+'_label'] = labeled\n",
    "\n",
    "df.drop(columns=to_label, inplace=True)"
   ]
  },
  {
   "cell_type": "code",
   "execution_count": 46,
   "metadata": {},
   "outputs": [],
   "source": [
    "num_df = df.select_dtypes(include=np.number)\n",
    "\n",
    "scaler = StandardScaler()\n",
    "scaled = scaler.fit_transform(df[num_df.columns])\n",
    "df[num_df.columns] = pd.DataFrame(scaled)"
   ]
  },
  {
   "cell_type": "code",
   "execution_count": 47,
   "metadata": {},
   "outputs": [],
   "source": [
    "# Train-test split\n",
    "x, x_test, y, y_test = train_test_split(\n",
    "    df, target, test_size=0.2, random_state=0, shuffle=True\n",
    ")\n",
    "# Train-val split\n",
    "x_train, x_val, y_train, y_val = train_test_split(\n",
    "    x, y, train_size=0.8, random_state=0, shuffle=True\n",
    ")"
   ]
  },
  {
   "cell_type": "code",
   "execution_count": 48,
   "metadata": {
    "pycharm": {
     "name": "#%%\n"
    }
   },
   "outputs": [],
   "source": [
    "from tensorflow.keras.layers import Dense\n",
    "from tensorflow.keras.activations import relu, sigmoid\n",
    "from tensorflow.keras.metrics import mean_absolute_error\n",
    "from tensorflow.keras.losses import mean_squared_error\n",
    "from tensorflow.keras.optimizers import SGD\n",
    "from tensorflow.keras.models import Sequential\n",
    "\n",
    "optimizer = SGD(learning_rate=0.01)\n",
    "\n",
    "model = Sequential([\n",
    "    Dense(40, activation=relu, input_dim=df.shape[1]),\n",
    "    Dense(50, activation=relu),\n",
    "    Dense(50, activation=relu),\n",
    "    Dense(20, activation=relu),\n",
    "    Dense(1, activation=sigmoid)\n",
    "])"
   ]
  },
  {
   "cell_type": "code",
   "execution_count": 49,
   "metadata": {
    "pycharm": {
     "name": "#%%\n"
    }
   },
   "outputs": [],
   "source": [
    "model.compile(optimizer=optimizer, loss=mean_squared_error,\n",
    "              metrics=[mean_absolute_error])"
   ]
  },
  {
   "cell_type": "code",
   "execution_count": 50,
   "metadata": {
    "pycharm": {
     "name": "#%%\n"
    }
   },
   "outputs": [
    {
     "name": "stdout",
     "output_type": "stream",
     "text": [
      "Train on 24844 samples\n",
      "Epoch 1/25\n",
      "24844/24844 [==============================] - 0s 15us/sample - loss: 14.5031 - mean_absolute_error: 3.7483\n",
      "Epoch 2/25\n",
      "24844/24844 [==============================] - 0s 6us/sample - loss: 14.1463 - mean_absolute_error: 3.7020\n",
      "Epoch 3/25\n",
      "24844/24844 [==============================] - 0s 6us/sample - loss: 14.1385 - mean_absolute_error: 3.7010\n",
      "Epoch 4/25\n",
      "24844/24844 [==============================] - 0s 6us/sample - loss: 14.1359 - mean_absolute_error: 3.7006\n",
      "Epoch 5/25\n",
      "24844/24844 [==============================] - 0s 6us/sample - loss: 14.1347 - mean_absolute_error: 3.7005\n",
      "Epoch 6/25\n",
      "24844/24844 [==============================] - 0s 6us/sample - loss: 14.1340 - mean_absolute_error: 3.7004\n",
      "Epoch 7/25\n",
      "24844/24844 [==============================] - 0s 5us/sample - loss: 14.1336 - mean_absolute_error: 3.7003\n",
      "Epoch 8/25\n",
      "24844/24844 [==============================] - 0s 5us/sample - loss: 14.1333 - mean_absolute_error: 3.7003\n",
      "Epoch 9/25\n",
      "24844/24844 [==============================] - 0s 5us/sample - loss: 14.1331 - mean_absolute_error: 3.7003\n",
      "Epoch 10/25\n",
      "24844/24844 [==============================] - 0s 5us/sample - loss: 14.1329 - mean_absolute_error: 3.7002\n",
      "Epoch 11/25\n",
      "24844/24844 [==============================] - 0s 5us/sample - loss: 14.1328 - mean_absolute_error: 3.7002\n",
      "Epoch 12/25\n",
      "24844/24844 [==============================] - 0s 5us/sample - loss: 14.1326 - mean_absolute_error: 3.7002\n",
      "Epoch 13/25\n",
      "24844/24844 [==============================] - 0s 5us/sample - loss: 14.1326 - mean_absolute_error: 3.7002\n",
      "Epoch 14/25\n",
      "24844/24844 [==============================] - 0s 5us/sample - loss: 14.1325 - mean_absolute_error: 3.7002\n",
      "Epoch 15/25\n",
      "24844/24844 [==============================] - 0s 5us/sample - loss: 14.1324 - mean_absolute_error: 3.7002\n",
      "Epoch 16/25\n",
      "24844/24844 [==============================] - 0s 5us/sample - loss: 14.1324 - mean_absolute_error: 3.7002\n",
      "Epoch 17/25\n",
      "24844/24844 [==============================] - 0s 5us/sample - loss: 14.1323 - mean_absolute_error: 3.7002\n",
      "Epoch 18/25\n",
      "24844/24844 [==============================] - 0s 5us/sample - loss: 14.1323 - mean_absolute_error: 3.7002\n",
      "Epoch 19/25\n",
      "24844/24844 [==============================] - 0s 5us/sample - loss: 14.1323 - mean_absolute_error: 3.7002\n",
      "Epoch 20/25\n",
      "24844/24844 [==============================] - 0s 5us/sample - loss: 14.1322 - mean_absolute_error: 3.7002\n",
      "Epoch 21/25\n",
      "24844/24844 [==============================] - 0s 5us/sample - loss: 14.1322 - mean_absolute_error: 3.7001\n",
      "Epoch 22/25\n",
      "24844/24844 [==============================] - 0s 5us/sample - loss: 14.1322 - mean_absolute_error: 3.7001\n",
      "Epoch 23/25\n",
      "24844/24844 [==============================] - 0s 5us/sample - loss: 14.1322 - mean_absolute_error: 3.7001\n",
      "Epoch 24/25\n",
      "24844/24844 [==============================] - 0s 6us/sample - loss: 14.1321 - mean_absolute_error: 3.7001\n",
      "Epoch 25/25\n",
      "24844/24844 [==============================] - 0s 6us/sample - loss: 14.1321 - mean_absolute_error: 3.7001\n"
     ]
    }
   ],
   "source": [
    "batch_size = 256\n",
    "epochs = 25\n",
    "history = model.fit(x_train, y_train,\n",
    "                    batch_size=batch_size, epochs=epochs)"
   ]
  },
  {
   "cell_type": "code",
   "execution_count": 51,
   "metadata": {
    "pycharm": {
     "name": "#%%\n"
    }
   },
   "outputs": [
    {
     "name": "stdout",
     "output_type": "stream",
     "text": [
      "24844/24844 [==============================] - 0s 7us/sample - loss: 14.1321 - mean_absolute_error: 3.7001\n",
      "Train MSE: 14.1321\n",
      "Validation MSE: 14.0806\n",
      "Test MSE: 14.0700\n"
     ]
    }
   ],
   "source": [
    "train_mse, train_mae = model.evaluate(x_train, y_train,\n",
    "                                      batch_size=batch_size)\n",
    "\n",
    "y_pred_val = model.predict(x_val, batch_size=batch_size)\n",
    "y_pred = model.predict(x_test, batch_size=batch_size)\n",
    "\n",
    "val_mse = mean_squared_error(y_val, y_pred_val)\n",
    "test_mse = mean_squared_error(y_test, y_pred)\n",
    "\n",
    "print('Train MSE: {:.4f}\\nValidation MSE: {:.4f}\\nTest MSE: {:.4f}'.format(\n",
    "    train_mse, val_mse.numpy().mean(), test_mse.numpy().mean()\n",
    "))"
   ]
  },
  {
   "cell_type": "code",
   "execution_count": null,
   "metadata": {},
   "outputs": [],
   "source": []
  }
 ],
 "metadata": {
  "kernelspec": {
   "display_name": "Python 3",
   "language": "python",
   "name": "python3"
  },
  "language_info": {
   "codemirror_mode": {
    "name": "ipython",
    "version": 3
   },
   "file_extension": ".py",
   "mimetype": "text/x-python",
   "name": "python",
   "nbconvert_exporter": "python",
   "pygments_lexer": "ipython3",
   "version": "3.7.4"
  }
 },
 "nbformat": 4,
 "nbformat_minor": 1
}