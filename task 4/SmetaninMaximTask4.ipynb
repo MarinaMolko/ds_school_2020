{
  "nbformat": 4,
  "nbformat_minor": 0,
  "metadata": {
    "colab": {
      "name": "TASK4.ipynb",
      "provenance": []
    },
    "kernelspec": {
      "name": "python3",
      "display_name": "Python 3"
    }
  },
  "cells": [
    {
      "cell_type": "code",
      "metadata": {
        "id": "P8MUvIYJV_zz",
        "colab_type": "code",
        "colab": {}
      },
      "source": [
        "import pandas as pd #Download the necessary modules\n",
        "import keras\n",
        "import numpy as np\n",
        "import seaborn as sns\n",
        "import matplotlib.pyplot as plt"
      ],
      "execution_count": 0,
      "outputs": []
    },
    {
      "cell_type": "markdown",
      "metadata": {
        "id": "3VYtBLtU8j3z",
        "colab_type": "text"
      },
      "source": [
        "**I tried using the Keras framework on my dataset**"
      ]
    },
    {
      "cell_type": "code",
      "metadata": {
        "id": "-iEJ3-GFWySe",
        "colab_type": "code",
        "colab": {}
      },
      "source": [
        "df = pd.read_csv('winequality-red.csv') #read our dataset"
      ],
      "execution_count": 0,
      "outputs": []
    },
    {
      "cell_type": "code",
      "metadata": {
        "id": "Kco6QxRkZOk_",
        "colab_type": "code",
        "outputId": "1a5c6c50-fab2-4334-f0de-41aba516805a",
        "colab": {
          "base_uri": "https://localhost:8080/",
          "height": 258
        }
      },
      "source": [
        "df.head()"
      ],
      "execution_count": 555,
      "outputs": [
        {
          "output_type": "execute_result",
          "data": {
            "text/html": [
              "<div>\n",
              "<style scoped>\n",
              "    .dataframe tbody tr th:only-of-type {\n",
              "        vertical-align: middle;\n",
              "    }\n",
              "\n",
              "    .dataframe tbody tr th {\n",
              "        vertical-align: top;\n",
              "    }\n",
              "\n",
              "    .dataframe thead th {\n",
              "        text-align: right;\n",
              "    }\n",
              "</style>\n",
              "<table border=\"1\" class=\"dataframe\">\n",
              "  <thead>\n",
              "    <tr style=\"text-align: right;\">\n",
              "      <th></th>\n",
              "      <th>fixed acidity</th>\n",
              "      <th>volatile acidity</th>\n",
              "      <th>citric acid</th>\n",
              "      <th>residual sugar</th>\n",
              "      <th>chlorides</th>\n",
              "      <th>free sulfur dioxide</th>\n",
              "      <th>total sulfur dioxide</th>\n",
              "      <th>density</th>\n",
              "      <th>pH</th>\n",
              "      <th>sulphates</th>\n",
              "      <th>alcohol</th>\n",
              "      <th>quality</th>\n",
              "    </tr>\n",
              "  </thead>\n",
              "  <tbody>\n",
              "    <tr>\n",
              "      <th>0</th>\n",
              "      <td>7.4</td>\n",
              "      <td>0.70</td>\n",
              "      <td>0.00</td>\n",
              "      <td>1.9</td>\n",
              "      <td>0.076</td>\n",
              "      <td>11.0</td>\n",
              "      <td>34.0</td>\n",
              "      <td>0.9978</td>\n",
              "      <td>3.51</td>\n",
              "      <td>0.56</td>\n",
              "      <td>9.4</td>\n",
              "      <td>5</td>\n",
              "    </tr>\n",
              "    <tr>\n",
              "      <th>1</th>\n",
              "      <td>7.8</td>\n",
              "      <td>0.88</td>\n",
              "      <td>0.00</td>\n",
              "      <td>2.6</td>\n",
              "      <td>0.098</td>\n",
              "      <td>25.0</td>\n",
              "      <td>67.0</td>\n",
              "      <td>0.9968</td>\n",
              "      <td>3.20</td>\n",
              "      <td>0.68</td>\n",
              "      <td>9.8</td>\n",
              "      <td>5</td>\n",
              "    </tr>\n",
              "    <tr>\n",
              "      <th>2</th>\n",
              "      <td>7.8</td>\n",
              "      <td>0.76</td>\n",
              "      <td>0.04</td>\n",
              "      <td>2.3</td>\n",
              "      <td>0.092</td>\n",
              "      <td>15.0</td>\n",
              "      <td>54.0</td>\n",
              "      <td>0.9970</td>\n",
              "      <td>3.26</td>\n",
              "      <td>0.65</td>\n",
              "      <td>9.8</td>\n",
              "      <td>5</td>\n",
              "    </tr>\n",
              "    <tr>\n",
              "      <th>3</th>\n",
              "      <td>11.2</td>\n",
              "      <td>0.28</td>\n",
              "      <td>0.56</td>\n",
              "      <td>1.9</td>\n",
              "      <td>0.075</td>\n",
              "      <td>17.0</td>\n",
              "      <td>60.0</td>\n",
              "      <td>0.9980</td>\n",
              "      <td>3.16</td>\n",
              "      <td>0.58</td>\n",
              "      <td>9.8</td>\n",
              "      <td>6</td>\n",
              "    </tr>\n",
              "    <tr>\n",
              "      <th>4</th>\n",
              "      <td>7.4</td>\n",
              "      <td>0.70</td>\n",
              "      <td>0.00</td>\n",
              "      <td>1.9</td>\n",
              "      <td>0.076</td>\n",
              "      <td>11.0</td>\n",
              "      <td>34.0</td>\n",
              "      <td>0.9978</td>\n",
              "      <td>3.51</td>\n",
              "      <td>0.56</td>\n",
              "      <td>9.4</td>\n",
              "      <td>5</td>\n",
              "    </tr>\n",
              "  </tbody>\n",
              "</table>\n",
              "</div>"
            ],
            "text/plain": [
              "   fixed acidity  volatile acidity  citric acid  ...  sulphates  alcohol  quality\n",
              "0            7.4              0.70         0.00  ...       0.56      9.4        5\n",
              "1            7.8              0.88         0.00  ...       0.68      9.8        5\n",
              "2            7.8              0.76         0.04  ...       0.65      9.8        5\n",
              "3           11.2              0.28         0.56  ...       0.58      9.8        6\n",
              "4            7.4              0.70         0.00  ...       0.56      9.4        5\n",
              "\n",
              "[5 rows x 12 columns]"
            ]
          },
          "metadata": {
            "tags": []
          },
          "execution_count": 555
        }
      ]
    },
    {
      "cell_type": "code",
      "metadata": {
        "id": "jffk3pC3ZV-w",
        "colab_type": "code",
        "colab": {}
      },
      "source": [
        "#divide our dataset into predicts and result\n",
        "y = df['quality']\n",
        "x = df.drop(['quality'],axis = 1)\n"
      ],
      "execution_count": 0,
      "outputs": []
    },
    {
      "cell_type": "code",
      "metadata": {
        "id": "v-fvfLAMUNYY",
        "colab_type": "code",
        "colab": {}
      },
      "source": [
        ""
      ],
      "execution_count": 0,
      "outputs": []
    },
    {
      "cell_type": "code",
      "metadata": {
        "id": "mX-pzEh6ZhKm",
        "colab_type": "code",
        "colab": {}
      },
      "source": [
        "from sklearn.model_selection import train_test_split #split into training and test samples (we take 25%)"
      ],
      "execution_count": 0,
      "outputs": []
    },
    {
      "cell_type": "code",
      "metadata": {
        "id": "pMBOT-onZm_v",
        "colab_type": "code",
        "colab": {}
      },
      "source": [
        "X_train,X_test,y_train,y_test = train_test_split(x,y, test_size=0.25,random_state=5)\n"
      ],
      "execution_count": 0,
      "outputs": []
    },
    {
      "cell_type": "code",
      "metadata": {
        "id": "-X4AukZIdHBK",
        "colab_type": "code",
        "colab": {}
      },
      "source": [
        ""
      ],
      "execution_count": 0,
      "outputs": []
    },
    {
      "cell_type": "code",
      "metadata": {
        "id": "JIMBLB_oiDii",
        "colab_type": "code",
        "colab": {}
      },
      "source": [
        "#We normalize the data using the MinMax Scaller to transfer the values of the attributes to the range [0,1]\n",
        "from sklearn.preprocessing import MinMaxScaler\n",
        "scaler = MinMaxScaler()\n",
        "X_train_scaled = scaler.fit_transform(X_train)\n",
        "X_test_scaled = scaler.fit_transform(X_test)"
      ],
      "execution_count": 0,
      "outputs": []
    },
    {
      "cell_type": "code",
      "metadata": {
        "id": "a-yyVtv-jwUe",
        "colab_type": "code",
        "colab": {}
      },
      "source": [
        "#subtract 3 from each value of Y so that np_utils breaks it into 6 different columns\n",
        "y_train -=3\n",
        "y_test-= 3\n"
      ],
      "execution_count": 0,
      "outputs": []
    },
    {
      "cell_type": "code",
      "metadata": {
        "id": "KVPfbQzshKzO",
        "colab_type": "code",
        "colab": {}
      },
      "source": [
        ""
      ],
      "execution_count": 0,
      "outputs": []
    },
    {
      "cell_type": "code",
      "metadata": {
        "id": "ILJazkgAciFZ",
        "colab_type": "code",
        "outputId": "1f544923-cc54-4f0d-de5f-492b55ac5ec8",
        "colab": {
          "base_uri": "https://localhost:8080/",
          "height": 143
        }
      },
      "source": [
        "#We split U test and train into 6 different columns to divide them by binary. shown below\n",
        "from keras.utils import np_utils \n",
        "y_train_bin = np_utils.to_categorical(y_train)\n",
        "y_train_bin"
      ],
      "execution_count": 561,
      "outputs": [
        {
          "output_type": "execute_result",
          "data": {
            "text/plain": [
              "array([[0., 0., 0., 1., 0., 0.],\n",
              "       [0., 0., 0., 1., 0., 0.],\n",
              "       [0., 0., 0., 0., 1., 0.],\n",
              "       ...,\n",
              "       [0., 0., 0., 1., 0., 0.],\n",
              "       [0., 0., 0., 0., 1., 0.],\n",
              "       [0., 0., 0., 1., 0., 0.]], dtype=float32)"
            ]
          },
          "metadata": {
            "tags": []
          },
          "execution_count": 561
        }
      ]
    },
    {
      "cell_type": "code",
      "metadata": {
        "id": "prqRyQ5_Z8sd",
        "colab_type": "code",
        "outputId": "968668dd-e212-40cf-bf31-b8e740c6935e",
        "colab": {
          "base_uri": "https://localhost:8080/",
          "height": 143
        }
      },
      "source": [
        "y_test_bin = np_utils.to_categorical(y_test)\n",
        "y_test_bin"
      ],
      "execution_count": 562,
      "outputs": [
        {
          "output_type": "execute_result",
          "data": {
            "text/plain": [
              "array([[0., 0., 0., 1., 0., 0.],\n",
              "       [0., 1., 0., 0., 0., 0.],\n",
              "       [0., 0., 1., 0., 0., 0.],\n",
              "       ...,\n",
              "       [0., 0., 0., 1., 0., 0.],\n",
              "       [0., 0., 0., 1., 0., 0.],\n",
              "       [0., 0., 0., 0., 1., 0.]], dtype=float32)"
            ]
          },
          "metadata": {
            "tags": []
          },
          "execution_count": 562
        }
      ]
    },
    {
      "cell_type": "code",
      "metadata": {
        "id": "v--i81oFbOXc",
        "colab_type": "code",
        "colab": {}
      },
      "source": [
        ""
      ],
      "execution_count": 0,
      "outputs": []
    },
    {
      "cell_type": "code",
      "metadata": {
        "id": "ALt5CesxbPl4",
        "colab_type": "code",
        "colab": {}
      },
      "source": [
        "#Getting started with creating a model.\n",
        "#1) We use a sequential model\n",
        "#2) Add 2 layers using the ReLu activation function, as it has a range of values [0, inf) \n",
        "#when stacking layers, and therefore it suits us perfectly for our task.\n",
        "#We do not have negative values, which means we will not get a gradient equal to 0\n"
      ],
      "execution_count": 0,
      "outputs": []
    },
    {
      "cell_type": "code",
      "metadata": {
        "id": "NgSsmvyhbQGq",
        "colab_type": "code",
        "colab": {}
      },
      "source": [
        ""
      ],
      "execution_count": 0,
      "outputs": []
    },
    {
      "cell_type": "code",
      "metadata": {
        "id": "fgcy1MjsbQni",
        "colab_type": "code",
        "colab": {}
      },
      "source": [
        "model1 = keras.Sequential()\n",
        "model1.add(keras.layers.InputLayer([11]))\n",
        "model1.add(keras.layers.Dense(9,activation='sigmoid'))\n",
        "model1.add(keras.layers.Dense(10,activation='sigmoid'))\n",
        "model1.add(keras.layers.Dense(6,activation='sigmoid'))\n",
        "model1.compile(optimizer='adam',loss='categorical_crossentropy',metrics=['accuracy'])"
      ],
      "execution_count": 0,
      "outputs": []
    },
    {
      "cell_type": "code",
      "metadata": {
        "id": "HuPUHck53hrZ",
        "colab_type": "code",
        "outputId": "7543c5e0-053d-405e-bf8e-e9e69eddeeeb",
        "colab": {
          "base_uri": "https://localhost:8080/",
          "height": 422
        }
      },
      "source": [
        "from keras.utils import plot_model #See visually what our neural network looks like\n",
        "plot_model(model1, to_file='model.png', show_shapes=True)"
      ],
      "execution_count": 564,
      "outputs": [
        {
          "output_type": "execute_result",
          "data": {
            "image/png": "[encoded data removed]",
            "text/plain": [
              "<IPython.core.display.Image object>"
            ]
          },
          "metadata": {
            "tags": []
          },
          "execution_count": 564
        }
      ]
    },
    {
      "cell_type": "code",
      "metadata": {
        "id": "S3_5D-r4dRGC",
        "colab_type": "code",
        "outputId": "28b4fefe-b34c-4afa-e0c9-8b0d56c03ebb",
        "colab": {
          "base_uri": "https://localhost:8080/",
          "height": 1000
        }
      },
      "source": [
        "model1.fit(X_train_scaled,y_train_bin,epochs = 100, batch_size=30) #start the training process"
      ],
      "execution_count": 565,
      "outputs": [
        {
          "output_type": "stream",
          "text": [
            "Epoch 1/100\n",
            "1199/1199 [==============================] - 0s 111us/step - loss: 1.7055 - accuracy: 0.1034\n",
            "Epoch 2/100\n",
            "1199/1199 [==============================] - 0s 42us/step - loss: 1.5694 - accuracy: 0.4387\n",
            "Epoch 3/100\n",
            "1199/1199 [==============================] - 0s 51us/step - loss: 1.4572 - accuracy: 0.4078\n",
            "Epoch 4/100\n",
            "1199/1199 [==============================] - 0s 45us/step - loss: 1.3670 - accuracy: 0.4087\n",
            "Epoch 5/100\n",
            "1199/1199 [==============================] - 0s 51us/step - loss: 1.2989 - accuracy: 0.4087\n",
            "Epoch 6/100\n",
            "1199/1199 [==============================] - 0s 43us/step - loss: 1.2536 - accuracy: 0.4087\n",
            "Epoch 7/100\n",
            "1199/1199 [==============================] - 0s 40us/step - loss: 1.2247 - accuracy: 0.4087\n",
            "Epoch 8/100\n",
            "1199/1199 [==============================] - 0s 38us/step - loss: 1.2079 - accuracy: 0.4087\n",
            "Epoch 9/100\n",
            "1199/1199 [==============================] - 0s 39us/step - loss: 1.1980 - accuracy: 0.4087\n",
            "Epoch 10/100\n",
            "1199/1199 [==============================] - 0s 44us/step - loss: 1.1918 - accuracy: 0.4078\n",
            "Epoch 11/100\n",
            "1199/1199 [==============================] - 0s 38us/step - loss: 1.1882 - accuracy: 0.4187\n",
            "Epoch 12/100\n",
            "1199/1199 [==============================] - 0s 40us/step - loss: 1.1858 - accuracy: 0.4187\n",
            "Epoch 13/100\n",
            "1199/1199 [==============================] - 0s 42us/step - loss: 1.1845 - accuracy: 0.4204\n",
            "Epoch 14/100\n",
            "1199/1199 [==============================] - 0s 45us/step - loss: 1.1831 - accuracy: 0.4187\n",
            "Epoch 15/100\n",
            "1199/1199 [==============================] - 0s 42us/step - loss: 1.1825 - accuracy: 0.4187\n",
            "Epoch 16/100\n",
            "1199/1199 [==============================] - 0s 41us/step - loss: 1.1817 - accuracy: 0.4187\n",
            "Epoch 17/100\n",
            "1199/1199 [==============================] - 0s 40us/step - loss: 1.1816 - accuracy: 0.4187\n",
            "Epoch 18/100\n",
            "1199/1199 [==============================] - 0s 42us/step - loss: 1.1811 - accuracy: 0.4187\n",
            "Epoch 19/100\n",
            "1199/1199 [==============================] - 0s 44us/step - loss: 1.1808 - accuracy: 0.4187\n",
            "Epoch 20/100\n",
            "1199/1199 [==============================] - 0s 50us/step - loss: 1.1804 - accuracy: 0.4187\n",
            "Epoch 21/100\n",
            "1199/1199 [==============================] - 0s 42us/step - loss: 1.1805 - accuracy: 0.4187\n",
            "Epoch 22/100\n",
            "1199/1199 [==============================] - 0s 40us/step - loss: 1.1800 - accuracy: 0.4187\n",
            "Epoch 23/100\n",
            "1199/1199 [==============================] - 0s 40us/step - loss: 1.1802 - accuracy: 0.4187\n",
            "Epoch 24/100\n",
            "1199/1199 [==============================] - 0s 41us/step - loss: 1.1799 - accuracy: 0.4187\n",
            "Epoch 25/100\n",
            "1199/1199 [==============================] - 0s 39us/step - loss: 1.1799 - accuracy: 0.4187\n",
            "Epoch 26/100\n",
            "1199/1199 [==============================] - 0s 42us/step - loss: 1.1801 - accuracy: 0.4187\n",
            "Epoch 27/100\n",
            "1199/1199 [==============================] - 0s 40us/step - loss: 1.1796 - accuracy: 0.4187\n",
            "Epoch 28/100\n",
            "1199/1199 [==============================] - 0s 40us/step - loss: 1.1795 - accuracy: 0.4187\n",
            "Epoch 29/100\n",
            "1199/1199 [==============================] - 0s 42us/step - loss: 1.1791 - accuracy: 0.4187\n",
            "Epoch 30/100\n",
            "1199/1199 [==============================] - 0s 47us/step - loss: 1.1792 - accuracy: 0.4187\n",
            "Epoch 31/100\n",
            "1199/1199 [==============================] - 0s 41us/step - loss: 1.1790 - accuracy: 0.4187\n",
            "Epoch 32/100\n",
            "1199/1199 [==============================] - 0s 40us/step - loss: 1.1788 - accuracy: 0.4187\n",
            "Epoch 33/100\n",
            "1199/1199 [==============================] - 0s 43us/step - loss: 1.1785 - accuracy: 0.4187\n",
            "Epoch 34/100\n",
            "1199/1199 [==============================] - 0s 50us/step - loss: 1.1785 - accuracy: 0.4187\n",
            "Epoch 35/100\n",
            "1199/1199 [==============================] - 0s 53us/step - loss: 1.1783 - accuracy: 0.4187\n",
            "Epoch 36/100\n",
            "1199/1199 [==============================] - 0s 40us/step - loss: 1.1781 - accuracy: 0.4187\n",
            "Epoch 37/100\n",
            "1199/1199 [==============================] - 0s 39us/step - loss: 1.1781 - accuracy: 0.4187\n",
            "Epoch 38/100\n",
            "1199/1199 [==============================] - 0s 39us/step - loss: 1.1777 - accuracy: 0.4187\n",
            "Epoch 39/100\n",
            "1199/1199 [==============================] - 0s 40us/step - loss: 1.1774 - accuracy: 0.4187\n",
            "Epoch 40/100\n",
            "1199/1199 [==============================] - 0s 40us/step - loss: 1.1770 - accuracy: 0.4187\n",
            "Epoch 41/100\n",
            "1199/1199 [==============================] - 0s 44us/step - loss: 1.1770 - accuracy: 0.4187\n",
            "Epoch 42/100\n",
            "1199/1199 [==============================] - 0s 40us/step - loss: 1.1765 - accuracy: 0.4187\n",
            "Epoch 43/100\n",
            "1199/1199 [==============================] - 0s 41us/step - loss: 1.1762 - accuracy: 0.4187\n",
            "Epoch 44/100\n",
            "1199/1199 [==============================] - 0s 41us/step - loss: 1.1760 - accuracy: 0.4187\n",
            "Epoch 45/100\n",
            "1199/1199 [==============================] - 0s 39us/step - loss: 1.1755 - accuracy: 0.4187\n",
            "Epoch 46/100\n",
            "1199/1199 [==============================] - 0s 43us/step - loss: 1.1750 - accuracy: 0.4187\n",
            "Epoch 47/100\n",
            "1199/1199 [==============================] - 0s 40us/step - loss: 1.1748 - accuracy: 0.4237\n",
            "Epoch 48/100\n",
            "1199/1199 [==============================] - 0s 39us/step - loss: 1.1742 - accuracy: 0.4187\n",
            "Epoch 49/100\n",
            "1199/1199 [==============================] - 0s 42us/step - loss: 1.1735 - accuracy: 0.4204\n",
            "Epoch 50/100\n",
            "1199/1199 [==============================] - 0s 42us/step - loss: 1.1730 - accuracy: 0.4187\n",
            "Epoch 51/100\n",
            "1199/1199 [==============================] - 0s 44us/step - loss: 1.1724 - accuracy: 0.4204\n",
            "Epoch 52/100\n",
            "1199/1199 [==============================] - 0s 39us/step - loss: 1.1716 - accuracy: 0.4787\n",
            "Epoch 53/100\n",
            "1199/1199 [==============================] - 0s 43us/step - loss: 1.1711 - accuracy: 0.4320\n",
            "Epoch 54/100\n",
            "1199/1199 [==============================] - 0s 48us/step - loss: 1.1700 - accuracy: 0.5246\n",
            "Epoch 55/100\n",
            "1199/1199 [==============================] - 0s 41us/step - loss: 1.1691 - accuracy: 0.5238\n",
            "Epoch 56/100\n",
            "1199/1199 [==============================] - 0s 47us/step - loss: 1.1684 - accuracy: 0.5263\n",
            "Epoch 57/100\n",
            "1199/1199 [==============================] - 0s 45us/step - loss: 1.1669 - accuracy: 0.5146\n",
            "Epoch 58/100\n",
            "1199/1199 [==============================] - 0s 41us/step - loss: 1.1656 - accuracy: 0.5188\n",
            "Epoch 59/100\n",
            "1199/1199 [==============================] - 0s 50us/step - loss: 1.1643 - accuracy: 0.5296\n",
            "Epoch 60/100\n",
            "1199/1199 [==============================] - 0s 46us/step - loss: 1.1630 - accuracy: 0.5288\n",
            "Epoch 61/100\n",
            "1199/1199 [==============================] - 0s 43us/step - loss: 1.1613 - accuracy: 0.5405\n",
            "Epoch 62/100\n",
            "1199/1199 [==============================] - 0s 41us/step - loss: 1.1598 - accuracy: 0.5171\n",
            "Epoch 63/100\n",
            "1199/1199 [==============================] - 0s 41us/step - loss: 1.1576 - accuracy: 0.5129\n",
            "Epoch 64/100\n",
            "1199/1199 [==============================] - 0s 44us/step - loss: 1.1552 - accuracy: 0.5430\n",
            "Epoch 65/100\n",
            "1199/1199 [==============================] - 0s 48us/step - loss: 1.1532 - accuracy: 0.5288\n",
            "Epoch 66/100\n",
            "1199/1199 [==============================] - 0s 53us/step - loss: 1.1503 - accuracy: 0.5388\n",
            "Epoch 67/100\n",
            "1199/1199 [==============================] - 0s 51us/step - loss: 1.1471 - accuracy: 0.5471\n",
            "Epoch 68/100\n",
            "1199/1199 [==============================] - 0s 51us/step - loss: 1.1439 - accuracy: 0.5321\n",
            "Epoch 69/100\n",
            "1199/1199 [==============================] - 0s 41us/step - loss: 1.1403 - accuracy: 0.5379\n",
            "Epoch 70/100\n",
            "1199/1199 [==============================] - 0s 42us/step - loss: 1.1357 - accuracy: 0.5354\n",
            "Epoch 71/100\n",
            "1199/1199 [==============================] - 0s 43us/step - loss: 1.1315 - accuracy: 0.5321\n",
            "Epoch 72/100\n",
            "1199/1199 [==============================] - 0s 45us/step - loss: 1.1267 - accuracy: 0.5405\n",
            "Epoch 73/100\n",
            "1199/1199 [==============================] - 0s 38us/step - loss: 1.1202 - accuracy: 0.5379\n",
            "Epoch 74/100\n",
            "1199/1199 [==============================] - 0s 38us/step - loss: 1.1142 - accuracy: 0.5329\n",
            "Epoch 75/100\n",
            "1199/1199 [==============================] - 0s 39us/step - loss: 1.1081 - accuracy: 0.5338\n",
            "Epoch 76/100\n",
            "1199/1199 [==============================] - 0s 43us/step - loss: 1.1004 - accuracy: 0.5413\n",
            "Epoch 77/100\n",
            "1199/1199 [==============================] - 0s 40us/step - loss: 1.0935 - accuracy: 0.5446\n",
            "Epoch 78/100\n",
            "1199/1199 [==============================] - 0s 40us/step - loss: 1.0864 - accuracy: 0.5471\n",
            "Epoch 79/100\n",
            "1199/1199 [==============================] - 0s 41us/step - loss: 1.0788 - accuracy: 0.5446\n",
            "Epoch 80/100\n",
            "1199/1199 [==============================] - 0s 41us/step - loss: 1.0721 - accuracy: 0.5430\n",
            "Epoch 81/100\n",
            "1199/1199 [==============================] - 0s 43us/step - loss: 1.0648 - accuracy: 0.5505\n",
            "Epoch 82/100\n",
            "1199/1199 [==============================] - 0s 45us/step - loss: 1.0584 - accuracy: 0.5496\n",
            "Epoch 83/100\n",
            "1199/1199 [==============================] - 0s 40us/step - loss: 1.0529 - accuracy: 0.5496\n",
            "Epoch 84/100\n",
            "1199/1199 [==============================] - 0s 44us/step - loss: 1.0471 - accuracy: 0.5530\n",
            "Epoch 85/100\n",
            "1199/1199 [==============================] - 0s 49us/step - loss: 1.0416 - accuracy: 0.5580\n",
            "Epoch 86/100\n",
            "1199/1199 [==============================] - 0s 41us/step - loss: 1.0383 - accuracy: 0.5530\n",
            "Epoch 87/100\n",
            "1199/1199 [==============================] - 0s 42us/step - loss: 1.0331 - accuracy: 0.5521\n",
            "Epoch 88/100\n",
            "1199/1199 [==============================] - 0s 44us/step - loss: 1.0283 - accuracy: 0.5580\n",
            "Epoch 89/100\n",
            "1199/1199 [==============================] - 0s 41us/step - loss: 1.0248 - accuracy: 0.5571\n",
            "Epoch 90/100\n",
            "1199/1199 [==============================] - 0s 40us/step - loss: 1.0213 - accuracy: 0.5596\n",
            "Epoch 91/100\n",
            "1199/1199 [==============================] - 0s 41us/step - loss: 1.0188 - accuracy: 0.5613\n",
            "Epoch 92/100\n",
            "1199/1199 [==============================] - 0s 51us/step - loss: 1.0158 - accuracy: 0.5546\n",
            "Epoch 93/100\n",
            "1199/1199 [==============================] - 0s 42us/step - loss: 1.0139 - accuracy: 0.5571\n",
            "Epoch 94/100\n",
            "1199/1199 [==============================] - 0s 43us/step - loss: 1.0113 - accuracy: 0.5613\n",
            "Epoch 95/100\n",
            "1199/1199 [==============================] - 0s 39us/step - loss: 1.0091 - accuracy: 0.5613\n",
            "Epoch 96/100\n",
            "1199/1199 [==============================] - 0s 42us/step - loss: 1.0062 - accuracy: 0.5638\n",
            "Epoch 97/100\n",
            "1199/1199 [==============================] - 0s 42us/step - loss: 1.0045 - accuracy: 0.5646\n",
            "Epoch 98/100\n",
            "1199/1199 [==============================] - 0s 41us/step - loss: 1.0030 - accuracy: 0.5605\n",
            "Epoch 99/100\n",
            "1199/1199 [==============================] - 0s 47us/step - loss: 1.0012 - accuracy: 0.5605\n",
            "Epoch 100/100\n",
            "1199/1199 [==============================] - 0s 39us/step - loss: 0.9997 - accuracy: 0.5613\n"
          ],
          "name": "stdout"
        },
        {
          "output_type": "execute_result",
          "data": {
            "text/plain": [
              "<keras.callbacks.callbacks.History at 0x7f6af654a9e8>"
            ]
          },
          "metadata": {
            "tags": []
          },
          "execution_count": 565
        }
      ]
    },
    {
      "cell_type": "code",
      "metadata": {
        "id": "Cqsw54a3s77L",
        "colab_type": "code",
        "colab": {
          "base_uri": "https://localhost:8080/",
          "height": 35
        },
        "outputId": "ed3abd69-c8cc-4307-9fc8-31e05d0ba4dc"
      },
      "source": [
        "test_loss , test_acc = model1.evaluate(X_test_scaled,y_test_bin)"
      ],
      "execution_count": 566,
      "outputs": [
        {
          "output_type": "stream",
          "text": [
            "400/400 [==============================] - 0s 70us/step\n"
          ],
          "name": "stdout"
        }
      ]
    },
    {
      "cell_type": "code",
      "metadata": {
        "id": "F6y5eaVQfcxA",
        "colab_type": "code",
        "colab": {
          "base_uri": "https://localhost:8080/",
          "height": 35
        },
        "outputId": "16adb9ca-eb43-4829-f6cf-b560bc6c99b4"
      },
      "source": [
        "test_acc"
      ],
      "execution_count": 567,
      "outputs": [
        {
          "output_type": "execute_result",
          "data": {
            "text/plain": [
              "0.5625"
            ]
          },
          "metadata": {
            "tags": []
          },
          "execution_count": 567
        }
      ]
    },
    {
      "cell_type": "code",
      "metadata": {
        "id": "8iMPKuakhOvn",
        "colab_type": "code",
        "colab": {}
      },
      "source": [
        "##Accuracy is 56%"
      ],
      "execution_count": 0,
      "outputs": []
    },
    {
      "cell_type": "markdown",
      "metadata": {
        "id": "kN6srbZH80Mo",
        "colab_type": "text"
      },
      "source": [
        "**Keras on my dataframe**"
      ]
    },
    {
      "cell_type": "code",
      "metadata": {
        "id": "k71xF3S3xTfc",
        "colab_type": "code",
        "colab": {}
      },
      "source": [
        "#I generated my dataframe.\n",
        "#1 column - age of a person\n",
        "#2 column - gender\n",
        "#3 column - did they give him a loan"
      ],
      "execution_count": 0,
      "outputs": []
    },
    {
      "cell_type": "code",
      "metadata": {
        "id": "oLkMj991PIDu",
        "colab_type": "code",
        "colab": {}
      },
      "source": [
        "age = np.random.randint(18,90,size=(100,1))\n",
        "male = np.random.random((100,1))\n",
        "cred = np.random.random((100,1))\n",
        "male = np.around(male).astype(int)\n",
        "cred = np.around(cred).astype(int)\n"
      ],
      "execution_count": 0,
      "outputs": []
    },
    {
      "cell_type": "code",
      "metadata": {
        "id": "zw_dXdurQMgb",
        "colab_type": "code",
        "colab": {
          "base_uri": "https://localhost:8080/",
          "height": 419
        },
        "outputId": "a6719ace-4af9-414f-f0ae-4f4dda310ff0"
      },
      "source": [
        "df2_m = np.column_stack((age, male,cred))\n",
        "df2 = pd.DataFrame(df2_m)\n",
        "df2"
      ],
      "execution_count": 571,
      "outputs": [
        {
          "output_type": "execute_result",
          "data": {
            "text/html": [
              "<div>\n",
              "<style scoped>\n",
              "    .dataframe tbody tr th:only-of-type {\n",
              "        vertical-align: middle;\n",
              "    }\n",
              "\n",
              "    .dataframe tbody tr th {\n",
              "        vertical-align: top;\n",
              "    }\n",
              "\n",
              "    .dataframe thead th {\n",
              "        text-align: right;\n",
              "    }\n",
              "</style>\n",
              "<table border=\"1\" class=\"dataframe\">\n",
              "  <thead>\n",
              "    <tr style=\"text-align: right;\">\n",
              "      <th></th>\n",
              "      <th>0</th>\n",
              "      <th>1</th>\n",
              "      <th>2</th>\n",
              "    </tr>\n",
              "  </thead>\n",
              "  <tbody>\n",
              "    <tr>\n",
              "      <th>0</th>\n",
              "      <td>86</td>\n",
              "      <td>1</td>\n",
              "      <td>0</td>\n",
              "    </tr>\n",
              "    <tr>\n",
              "      <th>1</th>\n",
              "      <td>48</td>\n",
              "      <td>0</td>\n",
              "      <td>0</td>\n",
              "    </tr>\n",
              "    <tr>\n",
              "      <th>2</th>\n",
              "      <td>24</td>\n",
              "      <td>0</td>\n",
              "      <td>1</td>\n",
              "    </tr>\n",
              "    <tr>\n",
              "      <th>3</th>\n",
              "      <td>63</td>\n",
              "      <td>1</td>\n",
              "      <td>1</td>\n",
              "    </tr>\n",
              "    <tr>\n",
              "      <th>4</th>\n",
              "      <td>39</td>\n",
              "      <td>0</td>\n",
              "      <td>0</td>\n",
              "    </tr>\n",
              "    <tr>\n",
              "      <th>...</th>\n",
              "      <td>...</td>\n",
              "      <td>...</td>\n",
              "      <td>...</td>\n",
              "    </tr>\n",
              "    <tr>\n",
              "      <th>95</th>\n",
              "      <td>78</td>\n",
              "      <td>1</td>\n",
              "      <td>0</td>\n",
              "    </tr>\n",
              "    <tr>\n",
              "      <th>96</th>\n",
              "      <td>85</td>\n",
              "      <td>1</td>\n",
              "      <td>1</td>\n",
              "    </tr>\n",
              "    <tr>\n",
              "      <th>97</th>\n",
              "      <td>73</td>\n",
              "      <td>1</td>\n",
              "      <td>1</td>\n",
              "    </tr>\n",
              "    <tr>\n",
              "      <th>98</th>\n",
              "      <td>45</td>\n",
              "      <td>0</td>\n",
              "      <td>1</td>\n",
              "    </tr>\n",
              "    <tr>\n",
              "      <th>99</th>\n",
              "      <td>52</td>\n",
              "      <td>1</td>\n",
              "      <td>1</td>\n",
              "    </tr>\n",
              "  </tbody>\n",
              "</table>\n",
              "<p>100 rows × 3 columns</p>\n",
              "</div>"
            ],
            "text/plain": [
              "     0  1  2\n",
              "0   86  1  0\n",
              "1   48  0  0\n",
              "2   24  0  1\n",
              "3   63  1  1\n",
              "4   39  0  0\n",
              "..  .. .. ..\n",
              "95  78  1  0\n",
              "96  85  1  1\n",
              "97  73  1  1\n",
              "98  45  0  1\n",
              "99  52  1  1\n",
              "\n",
              "[100 rows x 3 columns]"
            ]
          },
          "metadata": {
            "tags": []
          },
          "execution_count": 571
        }
      ]
    },
    {
      "cell_type": "code",
      "metadata": {
        "id": "cHp9Ji0JP12q",
        "colab_type": "code",
        "colab": {
          "base_uri": "https://localhost:8080/",
          "height": 1000
        },
        "outputId": "fda94aa2-78e4-485b-9300-40813bbabb9c"
      },
      "source": [
        "#Normalize the column \"Age\" (MinMaxScaller)\n",
        "age_scaled = scaler.fit_transform(age)\n",
        "age_scaled"
      ],
      "execution_count": 572,
      "outputs": [
        {
          "output_type": "execute_result",
          "data": {
            "text/plain": [
              "array([[0.95774648],\n",
              "       [0.42253521],\n",
              "       [0.08450704],\n",
              "       [0.63380282],\n",
              "       [0.29577465],\n",
              "       [0.57746479],\n",
              "       [0.09859155],\n",
              "       [0.53521127],\n",
              "       [0.92957746],\n",
              "       [0.26760563],\n",
              "       [0.64788732],\n",
              "       [0.21126761],\n",
              "       [0.30985915],\n",
              "       [0.71830986],\n",
              "       [0.46478873],\n",
              "       [0.94366197],\n",
              "       [0.50704225],\n",
              "       [0.85915493],\n",
              "       [0.97183099],\n",
              "       [0.32394366],\n",
              "       [0.84507042],\n",
              "       [0.14084507],\n",
              "       [0.36619718],\n",
              "       [0.81690141],\n",
              "       [0.56338028],\n",
              "       [0.28169014],\n",
              "       [0.49295775],\n",
              "       [0.81690141],\n",
              "       [0.47887324],\n",
              "       [0.54929577],\n",
              "       [0.53521127],\n",
              "       [0.84507042],\n",
              "       [0.18309859],\n",
              "       [0.76056338],\n",
              "       [0.16901408],\n",
              "       [0.69014085],\n",
              "       [0.78873239],\n",
              "       [0.08450704],\n",
              "       [0.94366197],\n",
              "       [0.02816901],\n",
              "       [0.01408451],\n",
              "       [0.63380282],\n",
              "       [0.5915493 ],\n",
              "       [0.26760563],\n",
              "       [0.22535211],\n",
              "       [0.1971831 ],\n",
              "       [0.71830986],\n",
              "       [0.81690141],\n",
              "       [1.        ],\n",
              "       [0.84507042],\n",
              "       [0.08450704],\n",
              "       [0.28169014],\n",
              "       [0.23943662],\n",
              "       [0.81690141],\n",
              "       [0.1971831 ],\n",
              "       [0.49295775],\n",
              "       [0.01408451],\n",
              "       [0.95774648],\n",
              "       [0.74647887],\n",
              "       [0.95774648],\n",
              "       [0.07042254],\n",
              "       [0.28169014],\n",
              "       [0.61971831],\n",
              "       [0.49295775],\n",
              "       [0.70422535],\n",
              "       [0.05633803],\n",
              "       [0.30985915],\n",
              "       [0.46478873],\n",
              "       [0.09859155],\n",
              "       [0.07042254],\n",
              "       [0.36619718],\n",
              "       [0.        ],\n",
              "       [0.26760563],\n",
              "       [0.52112676],\n",
              "       [0.78873239],\n",
              "       [0.87323944],\n",
              "       [0.04225352],\n",
              "       [0.53521127],\n",
              "       [0.94366197],\n",
              "       [0.5915493 ],\n",
              "       [0.53521127],\n",
              "       [0.36619718],\n",
              "       [0.29577465],\n",
              "       [0.12676056],\n",
              "       [0.85915493],\n",
              "       [0.29577465],\n",
              "       [0.04225352],\n",
              "       [0.84507042],\n",
              "       [0.25352113],\n",
              "       [0.3943662 ],\n",
              "       [0.36619718],\n",
              "       [0.05633803],\n",
              "       [0.54929577],\n",
              "       [0.45070423],\n",
              "       [0.6056338 ],\n",
              "       [0.84507042],\n",
              "       [0.94366197],\n",
              "       [0.77464789],\n",
              "       [0.38028169],\n",
              "       [0.47887324]])"
            ]
          },
          "metadata": {
            "tags": []
          },
          "execution_count": 572
        }
      ]
    },
    {
      "cell_type": "code",
      "metadata": {
        "id": "vLc7byCJ6vjt",
        "colab_type": "code",
        "colab": {}
      },
      "source": [
        "x2 = np.column_stack((age_scaled, male)) #Merged attributes into one array"
      ],
      "execution_count": 0,
      "outputs": []
    },
    {
      "cell_type": "code",
      "metadata": {
        "id": "SyP4YarmQ0Fd",
        "colab_type": "code",
        "colab": {}
      },
      "source": [
        "y2 = cred"
      ],
      "execution_count": 0,
      "outputs": []
    },
    {
      "cell_type": "code",
      "metadata": {
        "id": "RPC837qOx3B5",
        "colab_type": "code",
        "colab": {}
      },
      "source": [
        "X_train2,X_test2,y_train2,y_test2 = train_test_split(x2,y2, test_size=0.2,random_state=5)"
      ],
      "execution_count": 0,
      "outputs": []
    },
    {
      "cell_type": "code",
      "metadata": {
        "id": "4B6NQ_vMx3AK",
        "colab_type": "code",
        "colab": {}
      },
      "source": [
        "#Create a model\n",
        "#Input layer - 2 neurons\n",
        "#Hidden layer - 3 neurons\n",
        "#Output layer - 1 neuron\n",
        "#We use the activation function sigmoid, because Perfectly suits our task.\n",
        "#We use binary cross-entropy for the loss function, since we have only 2 classes"
      ],
      "execution_count": 0,
      "outputs": []
    },
    {
      "cell_type": "code",
      "metadata": {
        "id": "4EdKvqWqkldm",
        "colab_type": "code",
        "colab": {}
      },
      "source": [
        "model2 = keras.Sequential()\n",
        "model2.add(keras.layers.InputLayer([2]))\n",
        "model2.add(keras.layers.Dense(3,activation='sigmoid'))\n",
        "model2.add(keras.layers.Dense(1,activation='sigmoid'))\n",
        "model2.compile(optimizer='adam',loss='binary_crossentropy',metrics=['accuracy'])"
      ],
      "execution_count": 0,
      "outputs": []
    },
    {
      "cell_type": "code",
      "metadata": {
        "id": "sgzpaUKm3lSh",
        "colab_type": "code",
        "outputId": "e6f0cabd-31cd-4759-939d-f4eeb1dae80d",
        "colab": {
          "base_uri": "https://localhost:8080/",
          "height": 312
        }
      },
      "source": [
        "#the following steps have been described above \n",
        "from keras.utils import plot_model\n",
        "plot_model(model2, to_file='model.png', show_shapes=True)"
      ],
      "execution_count": 578,
      "outputs": [
        {
          "output_type": "execute_result",
          "data": {
            "image/png": "[encoded data removed]",
            "text/plain": [
              "<IPython.core.display.Image object>"
            ]
          },
          "metadata": {
            "tags": []
          },
          "execution_count": 578
        }
      ]
    },
    {
      "cell_type": "code",
      "metadata": {
        "id": "4OPOAZBhlpKa",
        "colab_type": "code",
        "outputId": "0a762764-463d-406c-ee09-2675165b472b",
        "colab": {
          "base_uri": "https://localhost:8080/",
          "height": 1000
        }
      },
      "source": [
        "model2.fit(X_train2,y_train2,epochs=100)"
      ],
      "execution_count": 579,
      "outputs": [
        {
          "output_type": "stream",
          "text": [
            "Epoch 1/100\n",
            "80/80 [==============================] - 0s 1ms/step - loss: 0.6872 - accuracy: 0.5625\n",
            "Epoch 2/100\n",
            "80/80 [==============================] - 0s 73us/step - loss: 0.6869 - accuracy: 0.5625\n",
            "Epoch 3/100\n",
            "80/80 [==============================] - 0s 91us/step - loss: 0.6869 - accuracy: 0.5625\n",
            "Epoch 4/100\n",
            "80/80 [==============================] - 0s 72us/step - loss: 0.6867 - accuracy: 0.5625\n",
            "Epoch 5/100\n",
            "80/80 [==============================] - 0s 80us/step - loss: 0.6864 - accuracy: 0.5625\n",
            "Epoch 6/100\n",
            "80/80 [==============================] - 0s 103us/step - loss: 0.6864 - accuracy: 0.5625\n",
            "Epoch 7/100\n",
            "80/80 [==============================] - 0s 72us/step - loss: 0.6862 - accuracy: 0.5625\n",
            "Epoch 8/100\n",
            "80/80 [==============================] - 0s 79us/step - loss: 0.6863 - accuracy: 0.5625\n",
            "Epoch 9/100\n",
            "80/80 [==============================] - 0s 76us/step - loss: 0.6860 - accuracy: 0.5625\n",
            "Epoch 10/100\n",
            "80/80 [==============================] - 0s 88us/step - loss: 0.6860 - accuracy: 0.5625\n",
            "Epoch 11/100\n",
            "80/80 [==============================] - 0s 81us/step - loss: 0.6859 - accuracy: 0.5625\n",
            "Epoch 12/100\n",
            "80/80 [==============================] - 0s 81us/step - loss: 0.6858 - accuracy: 0.5625\n",
            "Epoch 13/100\n",
            "80/80 [==============================] - 0s 83us/step - loss: 0.6857 - accuracy: 0.5625\n",
            "Epoch 14/100\n",
            "80/80 [==============================] - 0s 81us/step - loss: 0.6855 - accuracy: 0.5625\n",
            "Epoch 15/100\n",
            "80/80 [==============================] - 0s 80us/step - loss: 0.6855 - accuracy: 0.5625\n",
            "Epoch 16/100\n",
            "80/80 [==============================] - 0s 84us/step - loss: 0.6853 - accuracy: 0.5625\n",
            "Epoch 17/100\n",
            "80/80 [==============================] - 0s 92us/step - loss: 0.6853 - accuracy: 0.5625\n",
            "Epoch 18/100\n",
            "80/80 [==============================] - 0s 92us/step - loss: 0.6851 - accuracy: 0.5625\n",
            "Epoch 19/100\n",
            "80/80 [==============================] - 0s 91us/step - loss: 0.6851 - accuracy: 0.5625\n",
            "Epoch 20/100\n",
            "80/80 [==============================] - 0s 91us/step - loss: 0.6850 - accuracy: 0.5625\n",
            "Epoch 21/100\n",
            "80/80 [==============================] - 0s 81us/step - loss: 0.6849 - accuracy: 0.5625\n",
            "Epoch 22/100\n",
            "80/80 [==============================] - 0s 71us/step - loss: 0.6848 - accuracy: 0.5625\n",
            "Epoch 23/100\n",
            "80/80 [==============================] - 0s 69us/step - loss: 0.6848 - accuracy: 0.5625\n",
            "Epoch 24/100\n",
            "80/80 [==============================] - 0s 75us/step - loss: 0.6847 - accuracy: 0.5625\n",
            "Epoch 25/100\n",
            "80/80 [==============================] - 0s 73us/step - loss: 0.6847 - accuracy: 0.5625\n",
            "Epoch 26/100\n",
            "80/80 [==============================] - 0s 75us/step - loss: 0.6846 - accuracy: 0.5625\n",
            "Epoch 27/100\n",
            "80/80 [==============================] - 0s 75us/step - loss: 0.6846 - accuracy: 0.5625\n",
            "Epoch 28/100\n",
            "80/80 [==============================] - 0s 68us/step - loss: 0.6845 - accuracy: 0.5625\n",
            "Epoch 29/100\n",
            "80/80 [==============================] - 0s 71us/step - loss: 0.6844 - accuracy: 0.5625\n",
            "Epoch 30/100\n",
            "80/80 [==============================] - 0s 70us/step - loss: 0.6843 - accuracy: 0.5625\n",
            "Epoch 31/100\n",
            "80/80 [==============================] - 0s 67us/step - loss: 0.6842 - accuracy: 0.5625\n",
            "Epoch 32/100\n",
            "80/80 [==============================] - 0s 70us/step - loss: 0.6842 - accuracy: 0.5625\n",
            "Epoch 33/100\n",
            "80/80 [==============================] - 0s 74us/step - loss: 0.6840 - accuracy: 0.5625\n",
            "Epoch 34/100\n",
            "80/80 [==============================] - 0s 72us/step - loss: 0.6840 - accuracy: 0.5625\n",
            "Epoch 35/100\n",
            "80/80 [==============================] - 0s 74us/step - loss: 0.6840 - accuracy: 0.5625\n",
            "Epoch 36/100\n",
            "80/80 [==============================] - 0s 70us/step - loss: 0.6841 - accuracy: 0.5625\n",
            "Epoch 37/100\n",
            "80/80 [==============================] - 0s 73us/step - loss: 0.6838 - accuracy: 0.5625\n",
            "Epoch 38/100\n",
            "80/80 [==============================] - 0s 69us/step - loss: 0.6838 - accuracy: 0.5625\n",
            "Epoch 39/100\n",
            "80/80 [==============================] - 0s 73us/step - loss: 0.6838 - accuracy: 0.5625\n",
            "Epoch 40/100\n",
            "80/80 [==============================] - 0s 69us/step - loss: 0.6837 - accuracy: 0.5625\n",
            "Epoch 41/100\n",
            "80/80 [==============================] - 0s 67us/step - loss: 0.6837 - accuracy: 0.5625\n",
            "Epoch 42/100\n",
            "80/80 [==============================] - 0s 73us/step - loss: 0.6837 - accuracy: 0.5625\n",
            "Epoch 43/100\n",
            "80/80 [==============================] - 0s 74us/step - loss: 0.6836 - accuracy: 0.5625\n",
            "Epoch 44/100\n",
            "80/80 [==============================] - 0s 69us/step - loss: 0.6836 - accuracy: 0.5625\n",
            "Epoch 45/100\n",
            "80/80 [==============================] - 0s 66us/step - loss: 0.6836 - accuracy: 0.5625\n",
            "Epoch 46/100\n",
            "80/80 [==============================] - 0s 67us/step - loss: 0.6836 - accuracy: 0.5625\n",
            "Epoch 47/100\n",
            "80/80 [==============================] - 0s 65us/step - loss: 0.6835 - accuracy: 0.5625\n",
            "Epoch 48/100\n",
            "80/80 [==============================] - 0s 66us/step - loss: 0.6835 - accuracy: 0.5625\n",
            "Epoch 49/100\n",
            "80/80 [==============================] - 0s 72us/step - loss: 0.6835 - accuracy: 0.5625\n",
            "Epoch 50/100\n",
            "80/80 [==============================] - 0s 78us/step - loss: 0.6835 - accuracy: 0.5625\n",
            "Epoch 51/100\n",
            "80/80 [==============================] - 0s 76us/step - loss: 0.6835 - accuracy: 0.5625\n",
            "Epoch 52/100\n",
            "80/80 [==============================] - 0s 76us/step - loss: 0.6835 - accuracy: 0.5625\n",
            "Epoch 53/100\n",
            "80/80 [==============================] - 0s 73us/step - loss: 0.6835 - accuracy: 0.5625\n",
            "Epoch 54/100\n",
            "80/80 [==============================] - 0s 68us/step - loss: 0.6834 - accuracy: 0.5625\n",
            "Epoch 55/100\n",
            "80/80 [==============================] - 0s 66us/step - loss: 0.6834 - accuracy: 0.5625\n",
            "Epoch 56/100\n",
            "80/80 [==============================] - 0s 78us/step - loss: 0.6834 - accuracy: 0.5625\n",
            "Epoch 57/100\n",
            "80/80 [==============================] - 0s 76us/step - loss: 0.6834 - accuracy: 0.5625\n",
            "Epoch 58/100\n",
            "80/80 [==============================] - 0s 71us/step - loss: 0.6834 - accuracy: 0.5625\n",
            "Epoch 59/100\n",
            "80/80 [==============================] - 0s 71us/step - loss: 0.6834 - accuracy: 0.5625\n",
            "Epoch 60/100\n",
            "80/80 [==============================] - 0s 70us/step - loss: 0.6834 - accuracy: 0.5625\n",
            "Epoch 61/100\n",
            "80/80 [==============================] - 0s 70us/step - loss: 0.6834 - accuracy: 0.5625\n",
            "Epoch 62/100\n",
            "80/80 [==============================] - 0s 69us/step - loss: 0.6834 - accuracy: 0.5625\n",
            "Epoch 63/100\n",
            "80/80 [==============================] - 0s 71us/step - loss: 0.6833 - accuracy: 0.5625\n",
            "Epoch 64/100\n",
            "80/80 [==============================] - 0s 71us/step - loss: 0.6833 - accuracy: 0.5625\n",
            "Epoch 65/100\n",
            "80/80 [==============================] - 0s 74us/step - loss: 0.6833 - accuracy: 0.5625\n",
            "Epoch 66/100\n",
            "80/80 [==============================] - 0s 72us/step - loss: 0.6833 - accuracy: 0.5625\n",
            "Epoch 67/100\n",
            "80/80 [==============================] - 0s 86us/step - loss: 0.6833 - accuracy: 0.5625\n",
            "Epoch 68/100\n",
            "80/80 [==============================] - 0s 86us/step - loss: 0.6833 - accuracy: 0.5625\n",
            "Epoch 69/100\n",
            "80/80 [==============================] - 0s 76us/step - loss: 0.6833 - accuracy: 0.5625\n",
            "Epoch 70/100\n",
            "80/80 [==============================] - 0s 81us/step - loss: 0.6833 - accuracy: 0.5625\n",
            "Epoch 71/100\n",
            "80/80 [==============================] - 0s 93us/step - loss: 0.6833 - accuracy: 0.5625\n",
            "Epoch 72/100\n",
            "80/80 [==============================] - 0s 97us/step - loss: 0.6833 - accuracy: 0.5625\n",
            "Epoch 73/100\n",
            "80/80 [==============================] - 0s 98us/step - loss: 0.6833 - accuracy: 0.5625\n",
            "Epoch 74/100\n",
            "80/80 [==============================] - 0s 90us/step - loss: 0.6833 - accuracy: 0.5625\n",
            "Epoch 75/100\n",
            "80/80 [==============================] - 0s 91us/step - loss: 0.6833 - accuracy: 0.5625\n",
            "Epoch 76/100\n",
            "80/80 [==============================] - 0s 86us/step - loss: 0.6833 - accuracy: 0.5625\n",
            "Epoch 77/100\n",
            "80/80 [==============================] - 0s 84us/step - loss: 0.6833 - accuracy: 0.5625\n",
            "Epoch 78/100\n",
            "80/80 [==============================] - 0s 77us/step - loss: 0.6833 - accuracy: 0.5625\n",
            "Epoch 79/100\n",
            "80/80 [==============================] - 0s 74us/step - loss: 0.6833 - accuracy: 0.5625\n",
            "Epoch 80/100\n",
            "80/80 [==============================] - 0s 71us/step - loss: 0.6833 - accuracy: 0.5625\n",
            "Epoch 81/100\n",
            "80/80 [==============================] - 0s 104us/step - loss: 0.6833 - accuracy: 0.5625\n",
            "Epoch 82/100\n",
            "80/80 [==============================] - 0s 111us/step - loss: 0.6832 - accuracy: 0.5625\n",
            "Epoch 83/100\n",
            "80/80 [==============================] - 0s 183us/step - loss: 0.6833 - accuracy: 0.5625\n",
            "Epoch 84/100\n",
            "80/80 [==============================] - 0s 107us/step - loss: 0.6832 - accuracy: 0.5625\n",
            "Epoch 85/100\n",
            "80/80 [==============================] - 0s 99us/step - loss: 0.6833 - accuracy: 0.5625\n",
            "Epoch 86/100\n",
            "80/80 [==============================] - 0s 120us/step - loss: 0.6833 - accuracy: 0.5625\n",
            "Epoch 87/100\n",
            "80/80 [==============================] - 0s 107us/step - loss: 0.6832 - accuracy: 0.5625\n",
            "Epoch 88/100\n",
            "80/80 [==============================] - 0s 95us/step - loss: 0.6833 - accuracy: 0.5625\n",
            "Epoch 89/100\n",
            "80/80 [==============================] - 0s 92us/step - loss: 0.6832 - accuracy: 0.5625\n",
            "Epoch 90/100\n",
            "80/80 [==============================] - 0s 99us/step - loss: 0.6832 - accuracy: 0.5625\n",
            "Epoch 91/100\n",
            "80/80 [==============================] - 0s 128us/step - loss: 0.6832 - accuracy: 0.5625\n",
            "Epoch 92/100\n",
            "80/80 [==============================] - 0s 109us/step - loss: 0.6832 - accuracy: 0.5625\n",
            "Epoch 93/100\n",
            "80/80 [==============================] - 0s 151us/step - loss: 0.6832 - accuracy: 0.5625\n",
            "Epoch 94/100\n",
            "80/80 [==============================] - 0s 161us/step - loss: 0.6832 - accuracy: 0.5625\n",
            "Epoch 95/100\n",
            "80/80 [==============================] - 0s 152us/step - loss: 0.6833 - accuracy: 0.5625\n",
            "Epoch 96/100\n",
            "80/80 [==============================] - 0s 153us/step - loss: 0.6832 - accuracy: 0.5625\n",
            "Epoch 97/100\n",
            "80/80 [==============================] - 0s 134us/step - loss: 0.6832 - accuracy: 0.5625\n",
            "Epoch 98/100\n",
            "80/80 [==============================] - 0s 203us/step - loss: 0.6832 - accuracy: 0.5625\n",
            "Epoch 99/100\n",
            "80/80 [==============================] - 0s 134us/step - loss: 0.6832 - accuracy: 0.5625\n",
            "Epoch 100/100\n",
            "80/80 [==============================] - 0s 185us/step - loss: 0.6832 - accuracy: 0.5625\n"
          ],
          "name": "stdout"
        },
        {
          "output_type": "execute_result",
          "data": {
            "text/plain": [
              "<keras.callbacks.callbacks.History at 0x7f6af6546c88>"
            ]
          },
          "metadata": {
            "tags": []
          },
          "execution_count": 579
        }
      ]
    },
    {
      "cell_type": "code",
      "metadata": {
        "id": "Kf-e4kMvm3jm",
        "colab_type": "code",
        "colab": {
          "base_uri": "https://localhost:8080/",
          "height": 35
        },
        "outputId": "75a722ef-13b6-4c70-e78b-27245e258c9e"
      },
      "source": [
        "test_loss2 , test_acc2 = model2.evaluate(X_test2,y_test2)"
      ],
      "execution_count": 580,
      "outputs": [
        {
          "output_type": "stream",
          "text": [
            "\r20/20 [==============================] - 0s 728us/step\n"
          ],
          "name": "stdout"
        }
      ]
    },
    {
      "cell_type": "code",
      "metadata": {
        "id": "9xJ5nEfamqU9",
        "colab_type": "code",
        "outputId": "07a27f42-d866-4164-e16d-cfc7c7325e50",
        "colab": {
          "base_uri": "https://localhost:8080/",
          "height": 35
        }
      },
      "source": [
        "test_acc2"
      ],
      "execution_count": 581,
      "outputs": [
        {
          "output_type": "execute_result",
          "data": {
            "text/plain": [
              "0.6499999761581421"
            ]
          },
          "metadata": {
            "tags": []
          },
          "execution_count": 581
        }
      ]
    },
    {
      "cell_type": "code",
      "metadata": {
        "id": "dZAESSzB6KrI",
        "colab_type": "code",
        "colab": {}
      },
      "source": [
        "#After checking the models on the test sample received an accuracy of 64%"
      ],
      "execution_count": 0,
      "outputs": []
    },
    {
      "cell_type": "markdown",
      "metadata": {
        "id": "ZUtidJp_8-mT",
        "colab_type": "text"
      },
      "source": [
        "**my Neural Network from task 3**"
      ]
    },
    {
      "cell_type": "code",
      "metadata": {
        "id": "iFnRWQDBCtCZ",
        "colab_type": "code",
        "colab": {}
      },
      "source": [
        "#We use the model from task 3 to verify the same data."
      ],
      "execution_count": 0,
      "outputs": []
    },
    {
      "cell_type": "code",
      "metadata": {
        "id": "_2KysmH79GR0",
        "colab_type": "code",
        "colab": {}
      },
      "source": [
        "from sklearn.metrics import mean_squared_error"
      ],
      "execution_count": 0,
      "outputs": []
    },
    {
      "cell_type": "code",
      "metadata": {
        "id": "yuD9RcWp9Kcd",
        "colab_type": "code",
        "colab": {}
      },
      "source": [
        "def Net(X_train, y_train,X_test,epochs):\n",
        "      #create a sigmoid activation function, add its derivative as well\n",
        "    def sigmoid(x,delt=False): \n",
        "        if delt==True: \n",
        "            return x*(1-x)\n",
        "        return 1/(1+np.exp(-x))\n",
        "    \n",
        "    np.random.seed(1) \n",
        "    \n",
        "    # 1 layer - input (2 neurons)\n",
        "    #2 layer - hidden (3 neurons)\n",
        "    #3 layer - output (1 neuron)\n",
        "    syn0= 2*np.random.random((2,3))-1 # matrix of weights for 1 and 2 layers\n",
        "    syn1 = 2*np.random.random((3,1))-1 # matrix of weights for 2 and 3 layers\n",
        "    \n",
        "    \n",
        "    for j in range(epochs): # training cycle where range(epochs = 10000)\n",
        "        l0 = X_train # input data\n",
        "        # forward propagation\n",
        "        l1 = sigmoid(np.dot(l0,syn0)) \n",
        "        # multiply the syn0 weight matrix by the input data from 1 layer. \n",
        "        #From this product we take the sigmoid function\n",
        "                                  \n",
        "        l2 = sigmoid(np.dot(l1,syn1)) #Similarly, we do for layers 2 and 3 (from hidden to the output layer)\n",
        "        l2_error =l2_error =np.multiply(y_train,np.log(l2))-np.multiply((1-y_train),np.log(1-l2)) #let's check how much the network made a mistake (binary crossentropy)\n",
        "        #back propagation\n",
        "        l2_delta = l2_error*sigmoid(l2,True)# we multiply the error by the derivative activation function, thereby moving to the minimum of the function \n",
        "                                        ##(at the minimum of the function, the error is minimal)\n",
        "        l1_error = l2_delta.dot(syn1.T)*sigmoid(l1,True)# the sum of the products of all the input weights and the delta of the neuron \n",
        "                                                    #is multiplied by the derivative of the activation function from the input value\n",
        "           #\n",
        "        l1_delta = l1_error*sigmoid(l1,True)# similar to l2_delta\n",
        "            # count the MCE and derive it\n",
        "        \n",
        "#We update weights. We multiply the delta (gradient) by the learning speed (E = 1) and by the value of l.\n",
        "#Multiply the old weight by the moment (alpha = 1).\n",
        "#Add these two pieces\n",
        "        syn1+=l1.T.dot(l2_delta) # multiply the delta_l2 by l1 (they are connected) + old weight\n",
        "        syn0+=l0.T.dot(l1_delta) # multiply the delta_l1 by l0 (they are connected) + old weight\n",
        "        \n",
        "    #testing the model whith new data\n",
        "    l0 = X_test\n",
        "    l1 = sigmoid(np.dot(l0,syn0)) \n",
        "    l2 = sigmoid (np.dot(l1,syn1))\n",
        "\n",
        "    return l2 "
      ],
      "execution_count": 0,
      "outputs": []
    },
    {
      "cell_type": "code",
      "metadata": {
        "id": "EYAs1pUG9N5g",
        "colab_type": "code",
        "outputId": "cfe081fe-da35-4fb1-d51f-3174b00ea867",
        "colab": {
          "base_uri": "https://localhost:8080/",
          "height": 377
        }
      },
      "source": [
        "l2 = Net(X_train2, y_train2,X_test2,100)\n",
        "l2"
      ],
      "execution_count": 585,
      "outputs": [
        {
          "output_type": "execute_result",
          "data": {
            "text/plain": [
              "array([[1.13904960e-05],\n",
              "       [5.21608157e-05],\n",
              "       [4.59829916e-06],\n",
              "       [2.28681788e-05],\n",
              "       [1.04587348e-05],\n",
              "       [9.79311790e-06],\n",
              "       [1.47354676e-05],\n",
              "       [9.17878362e-06],\n",
              "       [3.53641775e-06],\n",
              "       [1.32636429e-05],\n",
              "       [4.12667864e-06],\n",
              "       [6.93192629e-05],\n",
              "       [9.93030785e-06],\n",
              "       [8.50293659e-05],\n",
              "       [2.11458666e-05],\n",
              "       [1.62861562e-05],\n",
              "       [1.70060959e-05],\n",
              "       [2.98931733e-06],\n",
              "       [3.63868180e-05],\n",
              "       [7.22066417e-05]])"
            ]
          },
          "metadata": {
            "tags": []
          },
          "execution_count": 585
        }
      ]
    },
    {
      "cell_type": "code",
      "metadata": {
        "id": "-GKDSzMW9Vjj",
        "colab_type": "code",
        "outputId": "7167ebd2-7310-40bb-88bb-4bcaf70fe16a",
        "colab": {
          "base_uri": "https://localhost:8080/",
          "height": 35
        }
      },
      "source": [
        "from sklearn.metrics import accuracy_score\n",
        "acc_my_model = accuracy_score(np.around(l2),y_test2)\n",
        "acc_my_model"
      ],
      "execution_count": 587,
      "outputs": [
        {
          "output_type": "execute_result",
          "data": {
            "text/plain": [
              "0.35"
            ]
          },
          "metadata": {
            "tags": []
          },
          "execution_count": 587
        }
      ]
    },
    {
      "cell_type": "code",
      "metadata": {
        "id": "J_2SLMhdC7w_",
        "colab_type": "code",
        "colab": {}
      },
      "source": [
        "#The accuracy of this model was 35%."
      ],
      "execution_count": 0,
      "outputs": []
    },
    {
      "cell_type": "code",
      "metadata": {
        "id": "1vAzmC3vfstV",
        "colab_type": "code",
        "colab": {
          "base_uri": "https://localhost:8080/",
          "height": 35
        },
        "outputId": "677b2875-62eb-4f7b-cee0-38bd410a7b8b"
      },
      "source": [
        "test_acc*100 # Keras, wine dataset"
      ],
      "execution_count": 592,
      "outputs": [
        {
          "output_type": "execute_result",
          "data": {
            "text/plain": [
              "56.25"
            ]
          },
          "metadata": {
            "tags": []
          },
          "execution_count": 592
        }
      ]
    },
    {
      "cell_type": "code",
      "metadata": {
        "id": "dTHmH4ssfs6i",
        "colab_type": "code",
        "colab": {
          "base_uri": "https://localhost:8080/",
          "height": 35
        },
        "outputId": "0c8eae39-7579-4d85-a0b3-d8cfa319d394"
      },
      "source": [
        " #Keras         myNeuralNetwork       ----- my generated dataset\n",
        " test_acc2*100, acc_my_model*100"
      ],
      "execution_count": 591,
      "outputs": [
        {
          "output_type": "execute_result",
          "data": {
            "text/plain": [
              "(64.99999761581421, 35.0)"
            ]
          },
          "metadata": {
            "tags": []
          },
          "execution_count": 591
        }
      ]
    },
    {
      "cell_type": "markdown",
      "metadata": {
        "id": "Dod9aDgWC8qv",
        "colab_type": "text"
      },
      "source": [
        "**Results**"
      ]
    },
    {
      "cell_type": "markdown",
      "metadata": {
        "id": "iYHcfbd7DFSs",
        "colab_type": "text"
      },
      "source": [
        "1) Created a model for the dataset, got an accuracy of 56% "
      ]
    },
    {
      "cell_type": "markdown",
      "metadata": {
        "id": "9SLramwwDZIq",
        "colab_type": "text"
      },
      "source": [
        "2)We created the model using the Keras framework and using only the numpy.\n",
        "\n",
        "As you can see, the accuracy is almost two times different.\n",
        "I think it depends on the generation of weights in Keras.\n",
        "According to my observations, when running the same Keras model several times (about 10), I received different accuracy values.\n",
        "You can write a cycle and repeat the model hundreds of times, then we will get different accuracy values and we can already select the best ones.\n"
      ]
    },
    {
      "cell_type": "code",
      "metadata": {
        "id": "NU8lTbRlDDpW",
        "colab_type": "code",
        "colab": {}
      },
      "source": [
        ""
      ],
      "execution_count": 0,
      "outputs": []
    }
  ]
}