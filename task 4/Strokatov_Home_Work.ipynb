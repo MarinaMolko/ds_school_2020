{
  "nbformat": 4,
  "nbformat_minor": 0,
  "metadata": {
    "colab": {
      "name": "Strokatov Home Work",
      "provenance": [],
      "collapsed_sections": [],
      "authorship_tag": "ABX9TyPHp03e9hWYgxuDQztY2wB9",
      "include_colab_link": true
    },
    "kernelspec": {
      "name": "python3",
      "display_name": "Python 3"
    },
    "widgets": {
      "application/vnd.jupyter.widget-state+json": {
        "432b2c75e8ac45d885c467636b6d414f": {
          "model_module": "@jupyter-widgets/controls",
          "model_name": "HBoxModel",
          "state": {
            "_view_name": "HBoxView",
            "_dom_classes": [],
            "_model_name": "HBoxModel",
            "_view_module": "@jupyter-widgets/controls",
            "_model_module_version": "1.5.0",
            "_view_count": null,
            "_view_module_version": "1.5.0",
            "box_style": "",
            "layout": "IPY_MODEL_003bb165d4c44141a667eda9e505c79f",
            "_model_module": "@jupyter-widgets/controls",
            "children": [
              "IPY_MODEL_f7e228f97bd14c0da3f2bfcf7e8e390a",
              "IPY_MODEL_a32b74868b0f45c78a38b49268d9ad18"
            ]
          }
        },
        "003bb165d4c44141a667eda9e505c79f": {
          "model_module": "@jupyter-widgets/base",
          "model_name": "LayoutModel",
          "state": {
            "_view_name": "LayoutView",
            "grid_template_rows": null,
            "right": null,
            "justify_content": null,
            "_view_module": "@jupyter-widgets/base",
            "overflow": null,
            "_model_module_version": "1.2.0",
            "_view_count": null,
            "flex_flow": null,
            "width": null,
            "min_width": null,
            "border": null,
            "align_items": null,
            "bottom": null,
            "_model_module": "@jupyter-widgets/base",
            "top": null,
            "grid_column": null,
            "overflow_y": null,
            "overflow_x": null,
            "grid_auto_flow": null,
            "grid_area": null,
            "grid_template_columns": null,
            "flex": null,
            "_model_name": "LayoutModel",
            "justify_items": null,
            "grid_row": null,
            "max_height": null,
            "align_content": null,
            "visibility": null,
            "align_self": null,
            "height": null,
            "min_height": null,
            "padding": null,
            "grid_auto_rows": null,
            "grid_gap": null,
            "max_width": null,
            "order": null,
            "_view_module_version": "1.2.0",
            "grid_template_areas": null,
            "object_position": null,
            "object_fit": null,
            "grid_auto_columns": null,
            "margin": null,
            "display": null,
            "left": null
          }
        },
        "f7e228f97bd14c0da3f2bfcf7e8e390a": {
          "model_module": "@jupyter-widgets/controls",
          "model_name": "FloatProgressModel",
          "state": {
            "_view_name": "ProgressView",
            "style": "IPY_MODEL_12b95128265d4ab79dc5a06b1661d22b",
            "_dom_classes": [],
            "description": "100%",
            "_model_name": "FloatProgressModel",
            "bar_style": "success",
            "max": 100,
            "_view_module": "@jupyter-widgets/controls",
            "_model_module_version": "1.5.0",
            "value": 100,
            "_view_count": null,
            "_view_module_version": "1.5.0",
            "orientation": "horizontal",
            "min": 0,
            "description_tooltip": null,
            "_model_module": "@jupyter-widgets/controls",
            "layout": "IPY_MODEL_f64eb6f9def7444db5eeec3924a433e8"
          }
        },
        "a32b74868b0f45c78a38b49268d9ad18": {
          "model_module": "@jupyter-widgets/controls",
          "model_name": "HTMLModel",
          "state": {
            "_view_name": "HTMLView",
            "style": "IPY_MODEL_e1504d6b2600434ab411006e34f5ab1b",
            "_dom_classes": [],
            "description": "",
            "_model_name": "HTMLModel",
            "placeholder": "​",
            "_view_module": "@jupyter-widgets/controls",
            "_model_module_version": "1.5.0",
            "value": " 100/100 [00:18&lt;00:00,  5.32epoch/s, val_loss=0.687, val_accuracy=0.559, loss=0.688, accuracy=0.553]",
            "_view_count": null,
            "_view_module_version": "1.5.0",
            "description_tooltip": null,
            "_model_module": "@jupyter-widgets/controls",
            "layout": "IPY_MODEL_7dce13b78c5248bb8a5e530211d1bb20"
          }
        },
        "12b95128265d4ab79dc5a06b1661d22b": {
          "model_module": "@jupyter-widgets/controls",
          "model_name": "ProgressStyleModel",
          "state": {
            "_view_name": "StyleView",
            "_model_name": "ProgressStyleModel",
            "description_width": "initial",
            "_view_module": "@jupyter-widgets/base",
            "_model_module_version": "1.5.0",
            "_view_count": null,
            "_view_module_version": "1.2.0",
            "bar_color": null,
            "_model_module": "@jupyter-widgets/controls"
          }
        },
        "f64eb6f9def7444db5eeec3924a433e8": {
          "model_module": "@jupyter-widgets/base",
          "model_name": "LayoutModel",
          "state": {
            "_view_name": "LayoutView",
            "grid_template_rows": null,
            "right": null,
            "justify_content": null,
            "_view_module": "@jupyter-widgets/base",
            "overflow": null,
            "_model_module_version": "1.2.0",
            "_view_count": null,
            "flex_flow": null,
            "width": null,
            "min_width": null,
            "border": null,
            "align_items": null,
            "bottom": null,
            "_model_module": "@jupyter-widgets/base",
            "top": null,
            "grid_column": null,
            "overflow_y": null,
            "overflow_x": null,
            "grid_auto_flow": null,
            "grid_area": null,
            "grid_template_columns": null,
            "flex": null,
            "_model_name": "LayoutModel",
            "justify_items": null,
            "grid_row": null,
            "max_height": null,
            "align_content": null,
            "visibility": null,
            "align_self": null,
            "height": null,
            "min_height": null,
            "padding": null,
            "grid_auto_rows": null,
            "grid_gap": null,
            "max_width": null,
            "order": null,
            "_view_module_version": "1.2.0",
            "grid_template_areas": null,
            "object_position": null,
            "object_fit": null,
            "grid_auto_columns": null,
            "margin": null,
            "display": null,
            "left": null
          }
        },
        "e1504d6b2600434ab411006e34f5ab1b": {
          "model_module": "@jupyter-widgets/controls",
          "model_name": "DescriptionStyleModel",
          "state": {
            "_view_name": "StyleView",
            "_model_name": "DescriptionStyleModel",
            "description_width": "",
            "_view_module": "@jupyter-widgets/base",
            "_model_module_version": "1.5.0",
            "_view_count": null,
            "_view_module_version": "1.2.0",
            "_model_module": "@jupyter-widgets/controls"
          }
        },
        "7dce13b78c5248bb8a5e530211d1bb20": {
          "model_module": "@jupyter-widgets/base",
          "model_name": "LayoutModel",
          "state": {
            "_view_name": "LayoutView",
            "grid_template_rows": null,
            "right": null,
            "justify_content": null,
            "_view_module": "@jupyter-widgets/base",
            "overflow": null,
            "_model_module_version": "1.2.0",
            "_view_count": null,
            "flex_flow": null,
            "width": null,
            "min_width": null,
            "border": null,
            "align_items": null,
            "bottom": null,
            "_model_module": "@jupyter-widgets/base",
            "top": null,
            "grid_column": null,
            "overflow_y": null,
            "overflow_x": null,
            "grid_auto_flow": null,
            "grid_area": null,
            "grid_template_columns": null,
            "flex": null,
            "_model_name": "LayoutModel",
            "justify_items": null,
            "grid_row": null,
            "max_height": null,
            "align_content": null,
            "visibility": null,
            "align_self": null,
            "height": null,
            "min_height": null,
            "padding": null,
            "grid_auto_rows": null,
            "grid_gap": null,
            "max_width": null,
            "order": null,
            "_view_module_version": "1.2.0",
            "grid_template_areas": null,
            "object_position": null,
            "object_fit": null,
            "grid_auto_columns": null,
            "margin": null,
            "display": null,
            "left": null
          }
        },
        "d7ee60d4a0374773b603ab20ae09efd3": {
          "model_module": "@jupyter-widgets/controls",
          "model_name": "HBoxModel",
          "state": {
            "_view_name": "HBoxView",
            "_dom_classes": [],
            "_model_name": "HBoxModel",
            "_view_module": "@jupyter-widgets/controls",
            "_model_module_version": "1.5.0",
            "_view_count": null,
            "_view_module_version": "1.5.0",
            "box_style": "",
            "layout": "IPY_MODEL_536de5b85c8c4eee964c68f8ec742478",
            "_model_module": "@jupyter-widgets/controls",
            "children": [
              "IPY_MODEL_c3e3626e2b834ab99d5bff0389a76535",
              "IPY_MODEL_d00216ab12c04c6bb6eec23a31b74b34"
            ]
          }
        },
        "536de5b85c8c4eee964c68f8ec742478": {
          "model_module": "@jupyter-widgets/base",
          "model_name": "LayoutModel",
          "state": {
            "_view_name": "LayoutView",
            "grid_template_rows": null,
            "right": null,
            "justify_content": null,
            "_view_module": "@jupyter-widgets/base",
            "overflow": null,
            "_model_module_version": "1.2.0",
            "_view_count": null,
            "flex_flow": null,
            "width": null,
            "min_width": null,
            "border": null,
            "align_items": null,
            "bottom": null,
            "_model_module": "@jupyter-widgets/base",
            "top": null,
            "grid_column": null,
            "overflow_y": null,
            "overflow_x": null,
            "grid_auto_flow": null,
            "grid_area": null,
            "grid_template_columns": null,
            "flex": null,
            "_model_name": "LayoutModel",
            "justify_items": null,
            "grid_row": null,
            "max_height": null,
            "align_content": null,
            "visibility": null,
            "align_self": null,
            "height": null,
            "min_height": null,
            "padding": null,
            "grid_auto_rows": null,
            "grid_gap": null,
            "max_width": null,
            "order": null,
            "_view_module_version": "1.2.0",
            "grid_template_areas": null,
            "object_position": null,
            "object_fit": null,
            "grid_auto_columns": null,
            "margin": null,
            "display": null,
            "left": null
          }
        },
        "c3e3626e2b834ab99d5bff0389a76535": {
          "model_module": "@jupyter-widgets/controls",
          "model_name": "FloatProgressModel",
          "state": {
            "_view_name": "ProgressView",
            "style": "IPY_MODEL_0b1db5e384124520a90620ca2d1aa2f1",
            "_dom_classes": [],
            "description": "100%",
            "_model_name": "FloatProgressModel",
            "bar_style": "info",
            "max": 1987,
            "_view_module": "@jupyter-widgets/controls",
            "_model_module_version": "1.5.0",
            "value": 1987,
            "_view_count": null,
            "_view_module_version": "1.5.0",
            "orientation": "horizontal",
            "min": 0,
            "description_tooltip": null,
            "_model_module": "@jupyter-widgets/controls",
            "layout": "IPY_MODEL_21f20a2e75a14a9984da746f43936527"
          }
        },
        "d00216ab12c04c6bb6eec23a31b74b34": {
          "model_module": "@jupyter-widgets/controls",
          "model_name": "HTMLModel",
          "state": {
            "_view_name": "HTMLView",
            "style": "IPY_MODEL_d52198a4368545da8ead1845659d94d9",
            "_dom_classes": [],
            "description": "",
            "_model_name": "HTMLModel",
            "placeholder": "​",
            "_view_module": "@jupyter-widgets/controls",
            "_model_module_version": "1.5.0",
            "value": " 124.1875/124.1875 [00:00&lt;00:00, 889.29batch/s, loss=0.801, accuracy=0.553]",
            "_view_count": null,
            "_view_module_version": "1.5.0",
            "description_tooltip": null,
            "_model_module": "@jupyter-widgets/controls",
            "layout": "IPY_MODEL_ca544a98a70445258d3ec2439631d8cd"
          }
        },
        "0b1db5e384124520a90620ca2d1aa2f1": {
          "model_module": "@jupyter-widgets/controls",
          "model_name": "ProgressStyleModel",
          "state": {
            "_view_name": "StyleView",
            "_model_name": "ProgressStyleModel",
            "description_width": "initial",
            "_view_module": "@jupyter-widgets/base",
            "_model_module_version": "1.5.0",
            "_view_count": null,
            "_view_module_version": "1.2.0",
            "bar_color": null,
            "_model_module": "@jupyter-widgets/controls"
          }
        },
        "21f20a2e75a14a9984da746f43936527": {
          "model_module": "@jupyter-widgets/base",
          "model_name": "LayoutModel",
          "state": {
            "_view_name": "LayoutView",
            "grid_template_rows": null,
            "right": null,
            "justify_content": null,
            "_view_module": "@jupyter-widgets/base",
            "overflow": null,
            "_model_module_version": "1.2.0",
            "_view_count": null,
            "flex_flow": null,
            "width": null,
            "min_width": null,
            "border": null,
            "align_items": null,
            "bottom": null,
            "_model_module": "@jupyter-widgets/base",
            "top": null,
            "grid_column": null,
            "overflow_y": null,
            "overflow_x": null,
            "grid_auto_flow": null,
            "grid_area": null,
            "grid_template_columns": null,
            "flex": null,
            "_model_name": "LayoutModel",
            "justify_items": null,
            "grid_row": null,
            "max_height": null,
            "align_content": null,
            "visibility": null,
            "align_self": null,
            "height": null,
            "min_height": null,
            "padding": null,
            "grid_auto_rows": null,
            "grid_gap": null,
            "max_width": null,
            "order": null,
            "_view_module_version": "1.2.0",
            "grid_template_areas": null,
            "object_position": null,
            "object_fit": null,
            "grid_auto_columns": null,
            "margin": null,
            "display": null,
            "left": null
          }
        },
        "d52198a4368545da8ead1845659d94d9": {
          "model_module": "@jupyter-widgets/controls",
          "model_name": "DescriptionStyleModel",
          "state": {
            "_view_name": "StyleView",
            "_model_name": "DescriptionStyleModel",
            "description_width": "",
            "_view_module": "@jupyter-widgets/base",
            "_model_module_version": "1.5.0",
            "_view_count": null,
            "_view_module_version": "1.2.0",
            "_model_module": "@jupyter-widgets/controls"
          }
        },
        "ca544a98a70445258d3ec2439631d8cd": {
          "model_module": "@jupyter-widgets/base",
          "model_name": "LayoutModel",
          "state": {
            "_view_name": "LayoutView",
            "grid_template_rows": null,
            "right": null,
            "justify_content": null,
            "_view_module": "@jupyter-widgets/base",
            "overflow": null,
            "_model_module_version": "1.2.0",
            "_view_count": null,
            "flex_flow": null,
            "width": null,
            "min_width": null,
            "border": null,
            "align_items": null,
            "bottom": null,
            "_model_module": "@jupyter-widgets/base",
            "top": null,
            "grid_column": null,
            "overflow_y": null,
            "overflow_x": null,
            "grid_auto_flow": null,
            "grid_area": null,
            "grid_template_columns": null,
            "flex": null,
            "_model_name": "LayoutModel",
            "justify_items": null,
            "grid_row": null,
            "max_height": null,
            "align_content": null,
            "visibility": null,
            "align_self": null,
            "height": null,
            "min_height": null,
            "padding": null,
            "grid_auto_rows": null,
            "grid_gap": null,
            "max_width": null,
            "order": null,
            "_view_module_version": "1.2.0",
            "grid_template_areas": null,
            "object_position": null,
            "object_fit": null,
            "grid_auto_columns": null,
            "margin": null,
            "display": null,
            "left": null
          }
        }
      }
    }
  },
  "cells": [
    {
      "cell_type": "markdown",
      "metadata": {
        "id": "view-in-github",
        "colab_type": "text"
      },
      "source": [
        "<a href=\"https://colab.research.google.com/github/DavidDaimond/ds_school_2020/blob/master/task%204/Strokatov_Home_Work.ipynb\" target=\"_parent\"><img src=\"https://colab.research.google.com/assets/colab-badge.svg\" alt=\"Open In Colab\"/></a>"
      ]
    },
    {
      "cell_type": "code",
      "metadata": {
        "id": "4K46YsT5TF23",
        "colab_type": "code",
        "colab": {
          "base_uri": "https://localhost:8080/",
          "height": 71
        },
        "outputId": "0acc1432-5f4e-462d-f45d-a61186798139"
      },
      "source": [
        "%matplotlib inline\n",
        "import seaborn as sns\n",
        "import matplotlib.pyplot as plt\n",
        "\n",
        "import pandas as pd\n",
        "import numpy as np\n",
        "\n",
        "\n",
        "from sklearn.model_selection import train_test_split\n",
        "import matplotlib.pyplot as plt\n",
        "from sklearn.metrics import classification_report\n",
        "from sklearn.preprocessing import MinMaxScaler"
      ],
      "execution_count": 1,
      "outputs": [
        {
          "output_type": "stream",
          "text": [
            "/usr/local/lib/python3.6/dist-packages/statsmodels/tools/_testing.py:19: FutureWarning: pandas.util.testing is deprecated. Use the functions in the public API at pandas.testing instead.\n",
            "  import pandas.util.testing as tm\n"
          ],
          "name": "stderr"
        }
      ]
    },
    {
      "cell_type": "markdown",
      "metadata": {
        "id": "HFqFCuK4_qTo",
        "colab_type": "text"
      },
      "source": [
        "# **Data preparations**"
      ]
    },
    {
      "cell_type": "code",
      "metadata": {
        "id": "5BDCC83f-y73",
        "colab_type": "code",
        "outputId": "4ca1e9c3-87a1-4dc6-8272-9d20d0ea2202",
        "colab": {
          "base_uri": "https://localhost:8080/",
          "height": 187
        }
      },
      "source": [
        "dfm = pd.read_csv('./tmdb_5000_movies.csv')\n",
        "\n",
        "\n",
        "dfm['release_date'] = pd.to_datetime(dfm['release_date'])\n",
        "dfm['year'] = pd.DatetimeIndex(dfm['release_date']).year\n",
        "dfm['month'] = pd.DatetimeIndex(dfm['release_date']).month\n",
        "dfm['weekday'] = dfm['release_date'].dt.dayofweek\n",
        "\n",
        "\n",
        "dfm.original_language[dfm.original_language != 'en'] = 0\n",
        "dfm.original_language[dfm.original_language != 0] = 1"
      ],
      "execution_count": 2,
      "outputs": [
        {
          "output_type": "stream",
          "text": [
            "/usr/local/lib/python3.6/dist-packages/ipykernel_launcher.py:10: SettingWithCopyWarning: \n",
            "A value is trying to be set on a copy of a slice from a DataFrame\n",
            "\n",
            "See the caveats in the documentation: https://pandas.pydata.org/pandas-docs/stable/user_guide/indexing.html#returning-a-view-versus-a-copy\n",
            "  # Remove the CWD from sys.path while we load stuff.\n",
            "/usr/local/lib/python3.6/dist-packages/ipykernel_launcher.py:11: SettingWithCopyWarning: \n",
            "A value is trying to be set on a copy of a slice from a DataFrame\n",
            "\n",
            "See the caveats in the documentation: https://pandas.pydata.org/pandas-docs/stable/user_guide/indexing.html#returning-a-view-versus-a-copy\n",
            "  # This is added back by InteractiveShellApp.init_path()\n"
          ],
          "name": "stderr"
        }
      ]
    },
    {
      "cell_type": "code",
      "metadata": {
        "id": "1F9nrkX_CXu_",
        "colab_type": "code",
        "colab": {}
      },
      "source": [
        "import json\n",
        "\n",
        "#Translate data to acceptable format by converting a JSON columns\n",
        "prime_genre = pd.json_normalize(dfm.genres.apply(json.loads).apply(lambda x: x[0] if (x != []) else {'id': 0, 'name': 'None'}))\n",
        "secondary_genre = pd.json_normalize(dfm.genres.apply(json.loads).apply(lambda x: x[1] if (len(x) > 1) else {'id': 0, 'name': 'None'}))\n",
        "\n",
        "#genres\n",
        "dfm['prime_genre_name'] = prime_genre['name']\n",
        "dfm['secondary_genre_name'] = secondary_genre['name']\n",
        "\n",
        "#production country\n",
        "dfm['production_country_id'] = pd.json_normalize(dfm.production_countries.apply(json.loads).apply(lambda x: x[0] if (x != []) else {'iso_3166_1': 'None', 'name': 'Unknown'}))['iso_3166_1']\n",
        "\n",
        "#production companies\n",
        "dfm['production_company_name'] = pd.json_normalize(dfm.production_companies.apply(json.loads).apply(lambda x: x[0] if (x != []) else {'id': 'None', 'name': 'NaN'}))['name']"
      ],
      "execution_count": 0,
      "outputs": []
    },
    {
      "cell_type": "code",
      "metadata": {
        "id": "AHwvhLygC0ek",
        "colab_type": "code",
        "outputId": "ecfca45f-f4da-409b-b746-078e7261b1c7",
        "colab": {
          "base_uri": "https://localhost:8080/",
          "height": 102
        }
      },
      "source": [
        "#New company column\n",
        "dfm['company_portfolio'] = dfm.groupby('production_company_name')['production_company_name'].transform('count')\n",
        "dfm.production_company_name[dfm.company_portfolio < 2] = 'Noname company'\n",
        "\n",
        "dfm['profitable'] = (dfm.revenue / dfm.budget) > 2.5\n",
        "dfm['foreign'] = (dfm.production_country_id) != 'US'"
      ],
      "execution_count": 4,
      "outputs": [
        {
          "output_type": "stream",
          "text": [
            "/usr/local/lib/python3.6/dist-packages/ipykernel_launcher.py:2: SettingWithCopyWarning: \n",
            "A value is trying to be set on a copy of a slice from a DataFrame\n",
            "\n",
            "See the caveats in the documentation: https://pandas.pydata.org/pandas-docs/stable/user_guide/indexing.html#returning-a-view-versus-a-copy\n",
            "  \n"
          ],
          "name": "stderr"
        }
      ]
    },
    {
      "cell_type": "code",
      "metadata": {
        "id": "sQmNvmIrFUBD",
        "colab_type": "code",
        "outputId": "2bf0d9ac-6072-42f7-f742-c16a380fc943",
        "colab": {
          "base_uri": "https://localhost:8080/",
          "height": 34
        }
      },
      "source": [
        "dfm = dfm.drop(dfm[(dfm.runtime == 0) | (dfm.revenue == 0) | (dfm.budget == 0) | (dfm.production_company_name == 'NaN')].index, axis=0)\n",
        "dfm.shape"
      ],
      "execution_count": 5,
      "outputs": [
        {
          "output_type": "execute_result",
          "data": {
            "text/plain": [
              "(3188, 30)"
            ]
          },
          "metadata": {
            "tags": []
          },
          "execution_count": 5
        }
      ]
    },
    {
      "cell_type": "code",
      "metadata": {
        "id": "WQPK61NfWzNx",
        "colab_type": "code",
        "colab": {}
      },
      "source": [
        "dfm = dfm.drop(['genres', 'homepage', 'id', 'keywords', 'original_title', 'overview',\n",
        "                'production_companies', 'production_countries', 'spoken_languages', 'tagline',\n",
        "                'title', 'status', 'vote_count', 'popularity'], axis=1)"
      ],
      "execution_count": 0,
      "outputs": []
    },
    {
      "cell_type": "code",
      "metadata": {
        "id": "oAHLBy_KX3_s",
        "colab_type": "code",
        "colab": {}
      },
      "source": [
        "a = pd.DataFrame.from_dict({'genres': dfm['prime_genre_name']})\n",
        "b = pd.DataFrame.from_dict({'genres': dfm['secondary_genre_name']})\n",
        "genres = pd.get_dummies(a) + pd.get_dummies(b)\n",
        "\"\"\"pd.get_dummies(dfm[['prime_genre_name', 'secondary_genre_name', \n",
        "                    'production_company_name', \n",
        "                    'production_country_id']]).sample(3)\"\"\"\n",
        "genres = genres.drop(['genres_Foreign', 'genres_None'], axis=1)\n",
        "cat_genres = genres.columns\n",
        "dfm = pd.concat([dfm, genres], axis=1).drop(['prime_genre_name',\t'secondary_genre_name'], axis=1)"
      ],
      "execution_count": 0,
      "outputs": []
    },
    {
      "cell_type": "code",
      "metadata": {
        "id": "IBEyedQFcX6-",
        "colab_type": "code",
        "outputId": "49080e2f-504f-4b71-a0db-215317fcde80",
        "colab": {
          "base_uri": "https://localhost:8080/",
          "height": 34
        }
      },
      "source": [
        "dfm = dfm[dfm.year > 1986]\n",
        "dfm = dfm[np.log(dfm.revenue) > 7.5]\n",
        "dfm.revenue = np.log(dfm.revenue)\n",
        "dfm.budget = np.log(dfm.budget)\n",
        "print(dfm.shape)"
      ],
      "execution_count": 8,
      "outputs": [
        {
          "output_type": "stream",
          "text": [
            "(2839, 32)\n"
          ],
          "name": "stdout"
        }
      ]
    },
    {
      "cell_type": "markdown",
      "metadata": {
        "id": "qZ9CojY6yYdz",
        "colab_type": "text"
      },
      "source": [
        "## Targets and categories"
      ]
    },
    {
      "cell_type": "code",
      "metadata": {
        "id": "5306xBCSleeq",
        "colab_type": "code",
        "colab": {}
      },
      "source": [
        "cat_date = ['year', 'month', 'weekday']\n",
        "cat_lang = ['original_language', 'foreign']\n",
        "nums = ['budget', 'runtime', 'vote_average', 'company_portfolio']\n",
        "targets = ['revenue', 'profitable']"
      ],
      "execution_count": 0,
      "outputs": []
    },
    {
      "cell_type": "code",
      "metadata": {
        "id": "Iu68FW1V_E35",
        "colab_type": "code",
        "colab": {}
      },
      "source": [
        "X_data = dfm[cat_date + cat_lang + nums]"
      ],
      "execution_count": 0,
      "outputs": []
    },
    {
      "cell_type": "code",
      "metadata": {
        "id": "t5TNtFK0Iuqs",
        "colab_type": "code",
        "outputId": "0e8e2e36-2896-44d8-80d9-ec95a57edbf3",
        "colab": {
          "base_uri": "https://localhost:8080/",
          "height": 142
        }
      },
      "source": [
        "X_data.sample(3)"
      ],
      "execution_count": 11,
      "outputs": [
        {
          "output_type": "execute_result",
          "data": {
            "text/html": [
              "<div>\n",
              "<style scoped>\n",
              "    .dataframe tbody tr th:only-of-type {\n",
              "        vertical-align: middle;\n",
              "    }\n",
              "\n",
              "    .dataframe tbody tr th {\n",
              "        vertical-align: top;\n",
              "    }\n",
              "\n",
              "    .dataframe thead th {\n",
              "        text-align: right;\n",
              "    }\n",
              "</style>\n",
              "<table border=\"1\" class=\"dataframe\">\n",
              "  <thead>\n",
              "    <tr style=\"text-align: right;\">\n",
              "      <th></th>\n",
              "      <th>year</th>\n",
              "      <th>month</th>\n",
              "      <th>weekday</th>\n",
              "      <th>original_language</th>\n",
              "      <th>foreign</th>\n",
              "      <th>budget</th>\n",
              "      <th>runtime</th>\n",
              "      <th>vote_average</th>\n",
              "      <th>company_portfolio</th>\n",
              "    </tr>\n",
              "  </thead>\n",
              "  <tbody>\n",
              "    <tr>\n",
              "      <th>1177</th>\n",
              "      <td>2005.0</td>\n",
              "      <td>4.0</td>\n",
              "      <td>4.0</td>\n",
              "      <td>1</td>\n",
              "      <td>False</td>\n",
              "      <td>17.504390</td>\n",
              "      <td>124.0</td>\n",
              "      <td>7.2</td>\n",
              "      <td>28</td>\n",
              "    </tr>\n",
              "    <tr>\n",
              "      <th>2034</th>\n",
              "      <td>2013.0</td>\n",
              "      <td>10.0</td>\n",
              "      <td>3.0</td>\n",
              "      <td>1</td>\n",
              "      <td>False</td>\n",
              "      <td>17.073607</td>\n",
              "      <td>105.0</td>\n",
              "      <td>6.2</td>\n",
              "      <td>64</td>\n",
              "    </tr>\n",
              "    <tr>\n",
              "      <th>353</th>\n",
              "      <td>2008.0</td>\n",
              "      <td>8.0</td>\n",
              "      <td>5.0</td>\n",
              "      <td>1</td>\n",
              "      <td>False</td>\n",
              "      <td>18.337299</td>\n",
              "      <td>107.0</td>\n",
              "      <td>6.5</td>\n",
              "      <td>64</td>\n",
              "    </tr>\n",
              "  </tbody>\n",
              "</table>\n",
              "</div>"
            ],
            "text/plain": [
              "        year  month  weekday  ... runtime  vote_average  company_portfolio\n",
              "1177  2005.0    4.0      4.0  ...   124.0           7.2                 28\n",
              "2034  2013.0   10.0      3.0  ...   105.0           6.2                 64\n",
              "353   2008.0    8.0      5.0  ...   107.0           6.5                 64\n",
              "\n",
              "[3 rows x 9 columns]"
            ]
          },
          "metadata": {
            "tags": []
          },
          "execution_count": 11
        }
      ]
    },
    {
      "cell_type": "markdown",
      "metadata": {
        "id": "CqIV_-2iyH6p",
        "colab_type": "text"
      },
      "source": [
        "## Train-Test"
      ]
    },
    {
      "cell_type": "code",
      "metadata": {
        "id": "UbSyN_sWy3hP",
        "colab_type": "code",
        "outputId": "a8fed860-6fb7-4d81-beff-abe86586c69c",
        "colab": {
          "base_uri": "https://localhost:8080/",
          "height": 623
        }
      },
      "source": [
        "X_norm = X_data[nums].values\n",
        "\n",
        "mms = MinMaxScaler()\n",
        "X_data[nums] = mms.fit_transform(X_norm)\n",
        "\n",
        "y_data = dfm['profitable']\n",
        "X_data"
      ],
      "execution_count": 12,
      "outputs": [
        {
          "output_type": "stream",
          "text": [
            "/usr/local/lib/python3.6/dist-packages/ipykernel_launcher.py:4: SettingWithCopyWarning: \n",
            "A value is trying to be set on a copy of a slice from a DataFrame.\n",
            "Try using .loc[row_indexer,col_indexer] = value instead\n",
            "\n",
            "See the caveats in the documentation: https://pandas.pydata.org/pandas-docs/stable/user_guide/indexing.html#returning-a-view-versus-a-copy\n",
            "  after removing the cwd from sys.path.\n",
            "/usr/local/lib/python3.6/dist-packages/pandas/core/indexing.py:966: SettingWithCopyWarning: \n",
            "A value is trying to be set on a copy of a slice from a DataFrame.\n",
            "Try using .loc[row_indexer,col_indexer] = value instead\n",
            "\n",
            "See the caveats in the documentation: https://pandas.pydata.org/pandas-docs/stable/user_guide/indexing.html#returning-a-view-versus-a-copy\n",
            "  self.obj[item] = s\n"
          ],
          "name": "stderr"
        },
        {
          "output_type": "execute_result",
          "data": {
            "text/html": [
              "<div>\n",
              "<style scoped>\n",
              "    .dataframe tbody tr th:only-of-type {\n",
              "        vertical-align: middle;\n",
              "    }\n",
              "\n",
              "    .dataframe tbody tr th {\n",
              "        vertical-align: top;\n",
              "    }\n",
              "\n",
              "    .dataframe thead th {\n",
              "        text-align: right;\n",
              "    }\n",
              "</style>\n",
              "<table border=\"1\" class=\"dataframe\">\n",
              "  <thead>\n",
              "    <tr style=\"text-align: right;\">\n",
              "      <th></th>\n",
              "      <th>year</th>\n",
              "      <th>month</th>\n",
              "      <th>weekday</th>\n",
              "      <th>original_language</th>\n",
              "      <th>foreign</th>\n",
              "      <th>budget</th>\n",
              "      <th>runtime</th>\n",
              "      <th>vote_average</th>\n",
              "      <th>company_portfolio</th>\n",
              "    </tr>\n",
              "  </thead>\n",
              "  <tbody>\n",
              "    <tr>\n",
              "      <th>0</th>\n",
              "      <td>2009.0</td>\n",
              "      <td>12.0</td>\n",
              "      <td>3.0</td>\n",
              "      <td>1</td>\n",
              "      <td>False</td>\n",
              "      <td>0.972950</td>\n",
              "      <td>0.407407</td>\n",
              "      <td>0.847059</td>\n",
              "      <td>0.075000</td>\n",
              "    </tr>\n",
              "    <tr>\n",
              "      <th>1</th>\n",
              "      <td>2007.0</td>\n",
              "      <td>5.0</td>\n",
              "      <td>5.0</td>\n",
              "      <td>1</td>\n",
              "      <td>False</td>\n",
              "      <td>0.986456</td>\n",
              "      <td>0.430976</td>\n",
              "      <td>0.811765</td>\n",
              "      <td>0.403571</td>\n",
              "    </tr>\n",
              "    <tr>\n",
              "      <th>2</th>\n",
              "      <td>2015.0</td>\n",
              "      <td>10.0</td>\n",
              "      <td>0.0</td>\n",
              "      <td>1</td>\n",
              "      <td>True</td>\n",
              "      <td>0.974852</td>\n",
              "      <td>0.360269</td>\n",
              "      <td>0.741176</td>\n",
              "      <td>0.710714</td>\n",
              "    </tr>\n",
              "    <tr>\n",
              "      <th>3</th>\n",
              "      <td>2012.0</td>\n",
              "      <td>7.0</td>\n",
              "      <td>0.0</td>\n",
              "      <td>1</td>\n",
              "      <td>False</td>\n",
              "      <td>0.976009</td>\n",
              "      <td>0.417508</td>\n",
              "      <td>0.894118</td>\n",
              "      <td>0.053571</td>\n",
              "    </tr>\n",
              "    <tr>\n",
              "      <th>4</th>\n",
              "      <td>2012.0</td>\n",
              "      <td>3.0</td>\n",
              "      <td>2.0</td>\n",
              "      <td>1</td>\n",
              "      <td>False</td>\n",
              "      <td>0.978257</td>\n",
              "      <td>0.306397</td>\n",
              "      <td>0.717647</td>\n",
              "      <td>0.403571</td>\n",
              "    </tr>\n",
              "    <tr>\n",
              "      <th>...</th>\n",
              "      <td>...</td>\n",
              "      <td>...</td>\n",
              "      <td>...</td>\n",
              "      <td>...</td>\n",
              "      <td>...</td>\n",
              "      <td>...</td>\n",
              "      <td>...</td>\n",
              "      <td>...</td>\n",
              "      <td>...</td>\n",
              "    </tr>\n",
              "    <tr>\n",
              "      <th>4758</th>\n",
              "      <td>2014.0</td>\n",
              "      <td>3.0</td>\n",
              "      <td>5.0</td>\n",
              "      <td>1</td>\n",
              "      <td>False</td>\n",
              "      <td>0.739079</td>\n",
              "      <td>0.181818</td>\n",
              "      <td>0.682353</td>\n",
              "      <td>0.003571</td>\n",
              "    </tr>\n",
              "    <tr>\n",
              "      <th>4773</th>\n",
              "      <td>1994.0</td>\n",
              "      <td>9.0</td>\n",
              "      <td>1.0</td>\n",
              "      <td>1</td>\n",
              "      <td>False</td>\n",
              "      <td>0.452699</td>\n",
              "      <td>0.171717</td>\n",
              "      <td>0.870588</td>\n",
              "      <td>0.307143</td>\n",
              "    </tr>\n",
              "    <tr>\n",
              "      <th>4792</th>\n",
              "      <td>1997.0</td>\n",
              "      <td>11.0</td>\n",
              "      <td>3.0</td>\n",
              "      <td>0</td>\n",
              "      <td>True</td>\n",
              "      <td>0.435505</td>\n",
              "      <td>0.235690</td>\n",
              "      <td>0.870588</td>\n",
              "      <td>0.000000</td>\n",
              "    </tr>\n",
              "    <tr>\n",
              "      <th>4796</th>\n",
              "      <td>2004.0</td>\n",
              "      <td>10.0</td>\n",
              "      <td>4.0</td>\n",
              "      <td>1</td>\n",
              "      <td>False</td>\n",
              "      <td>0.375353</td>\n",
              "      <td>0.121212</td>\n",
              "      <td>0.811765</td>\n",
              "      <td>0.010714</td>\n",
              "    </tr>\n",
              "    <tr>\n",
              "      <th>4798</th>\n",
              "      <td>1992.0</td>\n",
              "      <td>9.0</td>\n",
              "      <td>4.0</td>\n",
              "      <td>0</td>\n",
              "      <td>True</td>\n",
              "      <td>0.572895</td>\n",
              "      <td>0.134680</td>\n",
              "      <td>0.776471</td>\n",
              "      <td>0.710714</td>\n",
              "    </tr>\n",
              "  </tbody>\n",
              "</table>\n",
              "<p>2839 rows × 9 columns</p>\n",
              "</div>"
            ],
            "text/plain": [
              "        year  month  weekday  ...   runtime  vote_average  company_portfolio\n",
              "0     2009.0   12.0      3.0  ...  0.407407      0.847059           0.075000\n",
              "1     2007.0    5.0      5.0  ...  0.430976      0.811765           0.403571\n",
              "2     2015.0   10.0      0.0  ...  0.360269      0.741176           0.710714\n",
              "3     2012.0    7.0      0.0  ...  0.417508      0.894118           0.053571\n",
              "4     2012.0    3.0      2.0  ...  0.306397      0.717647           0.403571\n",
              "...      ...    ...      ...  ...       ...           ...                ...\n",
              "4758  2014.0    3.0      5.0  ...  0.181818      0.682353           0.003571\n",
              "4773  1994.0    9.0      1.0  ...  0.171717      0.870588           0.307143\n",
              "4792  1997.0   11.0      3.0  ...  0.235690      0.870588           0.000000\n",
              "4796  2004.0   10.0      4.0  ...  0.121212      0.811765           0.010714\n",
              "4798  1992.0    9.0      4.0  ...  0.134680      0.776471           0.710714\n",
              "\n",
              "[2839 rows x 9 columns]"
            ]
          },
          "metadata": {
            "tags": []
          },
          "execution_count": 12
        }
      ]
    },
    {
      "cell_type": "code",
      "metadata": {
        "id": "DnxIQoV1AAtN",
        "colab_type": "code",
        "outputId": "2b9a92b2-5bde-4292-f702-0d76deeba3fc",
        "colab": {
          "base_uri": "https://localhost:8080/",
          "height": 34
        }
      },
      "source": [
        "r_state = 42\n",
        "X_train, X_test, y_train, y_test = train_test_split(X_data, y_data.astype(float), \n",
        "                                                    test_size=0.3,\n",
        "                                                    random_state=r_state)\n",
        "print(X_train.shape, X_test.shape, y_train.shape, y_test.shape)"
      ],
      "execution_count": 32,
      "outputs": [
        {
          "output_type": "stream",
          "text": [
            "(1987, 9) (852, 9) (1987,) (852,)\n"
          ],
          "name": "stdout"
        }
      ]
    },
    {
      "cell_type": "code",
      "metadata": {
        "id": "dDj5ulbBSwrK",
        "colab_type": "code",
        "colab": {
          "base_uri": "https://localhost:8080/",
          "height": 419
        },
        "outputId": "7b849d1e-71a4-434d-d1f6-8e1aae438f11"
      },
      "source": [
        "X_train"
      ],
      "execution_count": 14,
      "outputs": [
        {
          "output_type": "execute_result",
          "data": {
            "text/html": [
              "<div>\n",
              "<style scoped>\n",
              "    .dataframe tbody tr th:only-of-type {\n",
              "        vertical-align: middle;\n",
              "    }\n",
              "\n",
              "    .dataframe tbody tr th {\n",
              "        vertical-align: top;\n",
              "    }\n",
              "\n",
              "    .dataframe thead th {\n",
              "        text-align: right;\n",
              "    }\n",
              "</style>\n",
              "<table border=\"1\" class=\"dataframe\">\n",
              "  <thead>\n",
              "    <tr style=\"text-align: right;\">\n",
              "      <th></th>\n",
              "      <th>year</th>\n",
              "      <th>month</th>\n",
              "      <th>weekday</th>\n",
              "      <th>original_language</th>\n",
              "      <th>foreign</th>\n",
              "      <th>budget</th>\n",
              "      <th>runtime</th>\n",
              "      <th>vote_average</th>\n",
              "      <th>company_portfolio</th>\n",
              "    </tr>\n",
              "  </thead>\n",
              "  <tbody>\n",
              "    <tr>\n",
              "      <th>1118</th>\n",
              "      <td>2011.0</td>\n",
              "      <td>1.0</td>\n",
              "      <td>3.0</td>\n",
              "      <td>1</td>\n",
              "      <td>False</td>\n",
              "      <td>0.871009</td>\n",
              "      <td>0.175084</td>\n",
              "      <td>0.741176</td>\n",
              "      <td>0.007143</td>\n",
              "    </tr>\n",
              "    <tr>\n",
              "      <th>4703</th>\n",
              "      <td>2002.0</td>\n",
              "      <td>11.0</td>\n",
              "      <td>4.0</td>\n",
              "      <td>1</td>\n",
              "      <td>False</td>\n",
              "      <td>0.550951</td>\n",
              "      <td>0.124579</td>\n",
              "      <td>0.647059</td>\n",
              "      <td>0.003571</td>\n",
              "    </tr>\n",
              "    <tr>\n",
              "      <th>1578</th>\n",
              "      <td>2004.0</td>\n",
              "      <td>4.0</td>\n",
              "      <td>1.0</td>\n",
              "      <td>1</td>\n",
              "      <td>False</td>\n",
              "      <td>0.866542</td>\n",
              "      <td>0.191919</td>\n",
              "      <td>0.741176</td>\n",
              "      <td>0.710714</td>\n",
              "    </tr>\n",
              "    <tr>\n",
              "      <th>3918</th>\n",
              "      <td>2013.0</td>\n",
              "      <td>4.0</td>\n",
              "      <td>4.0</td>\n",
              "      <td>1</td>\n",
              "      <td>True</td>\n",
              "      <td>0.722596</td>\n",
              "      <td>0.225589</td>\n",
              "      <td>0.870588</td>\n",
              "      <td>0.075000</td>\n",
              "    </tr>\n",
              "    <tr>\n",
              "      <th>3733</th>\n",
              "      <td>2004.0</td>\n",
              "      <td>6.0</td>\n",
              "      <td>6.0</td>\n",
              "      <td>0</td>\n",
              "      <td>True</td>\n",
              "      <td>0.741875</td>\n",
              "      <td>0.245791</td>\n",
              "      <td>0.741176</td>\n",
              "      <td>0.010714</td>\n",
              "    </tr>\n",
              "    <tr>\n",
              "      <th>...</th>\n",
              "      <td>...</td>\n",
              "      <td>...</td>\n",
              "      <td>...</td>\n",
              "      <td>...</td>\n",
              "      <td>...</td>\n",
              "      <td>...</td>\n",
              "      <td>...</td>\n",
              "      <td>...</td>\n",
              "      <td>...</td>\n",
              "    </tr>\n",
              "    <tr>\n",
              "      <th>1905</th>\n",
              "      <td>2010.0</td>\n",
              "      <td>10.0</td>\n",
              "      <td>4.0</td>\n",
              "      <td>1</td>\n",
              "      <td>False</td>\n",
              "      <td>0.844080</td>\n",
              "      <td>0.222222</td>\n",
              "      <td>0.611765</td>\n",
              "      <td>0.032143</td>\n",
              "    </tr>\n",
              "    <tr>\n",
              "      <th>1193</th>\n",
              "      <td>2002.0</td>\n",
              "      <td>1.0</td>\n",
              "      <td>2.0</td>\n",
              "      <td>1</td>\n",
              "      <td>False</td>\n",
              "      <td>0.863358</td>\n",
              "      <td>0.303030</td>\n",
              "      <td>0.858824</td>\n",
              "      <td>0.057143</td>\n",
              "    </tr>\n",
              "    <tr>\n",
              "      <th>1237</th>\n",
              "      <td>1999.0</td>\n",
              "      <td>4.0</td>\n",
              "      <td>4.0</td>\n",
              "      <td>1</td>\n",
              "      <td>False</td>\n",
              "      <td>0.907026</td>\n",
              "      <td>0.164983</td>\n",
              "      <td>0.588235</td>\n",
              "      <td>1.000000</td>\n",
              "    </tr>\n",
              "    <tr>\n",
              "      <th>1449</th>\n",
              "      <td>2003.0</td>\n",
              "      <td>9.0</td>\n",
              "      <td>4.0</td>\n",
              "      <td>1</td>\n",
              "      <td>True</td>\n",
              "      <td>0.863358</td>\n",
              "      <td>0.205387</td>\n",
              "      <td>0.564706</td>\n",
              "      <td>0.628571</td>\n",
              "    </tr>\n",
              "    <tr>\n",
              "      <th>920</th>\n",
              "      <td>1995.0</td>\n",
              "      <td>6.0</td>\n",
              "      <td>4.0</td>\n",
              "      <td>1</td>\n",
              "      <td>False</td>\n",
              "      <td>0.883794</td>\n",
              "      <td>0.228956</td>\n",
              "      <td>0.588235</td>\n",
              "      <td>1.000000</td>\n",
              "    </tr>\n",
              "  </tbody>\n",
              "</table>\n",
              "<p>1987 rows × 9 columns</p>\n",
              "</div>"
            ],
            "text/plain": [
              "        year  month  weekday  ...   runtime  vote_average  company_portfolio\n",
              "1118  2011.0    1.0      3.0  ...  0.175084      0.741176           0.007143\n",
              "4703  2002.0   11.0      4.0  ...  0.124579      0.647059           0.003571\n",
              "1578  2004.0    4.0      1.0  ...  0.191919      0.741176           0.710714\n",
              "3918  2013.0    4.0      4.0  ...  0.225589      0.870588           0.075000\n",
              "3733  2004.0    6.0      6.0  ...  0.245791      0.741176           0.010714\n",
              "...      ...    ...      ...  ...       ...           ...                ...\n",
              "1905  2010.0   10.0      4.0  ...  0.222222      0.611765           0.032143\n",
              "1193  2002.0    1.0      2.0  ...  0.303030      0.858824           0.057143\n",
              "1237  1999.0    4.0      4.0  ...  0.164983      0.588235           1.000000\n",
              "1449  2003.0    9.0      4.0  ...  0.205387      0.564706           0.628571\n",
              "920   1995.0    6.0      4.0  ...  0.228956      0.588235           1.000000\n",
              "\n",
              "[1987 rows x 9 columns]"
            ]
          },
          "metadata": {
            "tags": []
          },
          "execution_count": 14
        }
      ]
    },
    {
      "cell_type": "code",
      "metadata": {
        "id": "f-5jTv6CcCiX",
        "colab_type": "code",
        "colab": {
          "base_uri": "https://localhost:8080/",
          "height": 85
        },
        "outputId": "317c5a2f-1a39-46df-bd89-1197945373c7"
      },
      "source": [
        "y_test.sample(3)"
      ],
      "execution_count": 23,
      "outputs": [
        {
          "output_type": "execute_result",
          "data": {
            "text/plain": [
              "30      True\n",
              "29      True\n",
              "358    False\n",
              "Name: profitable, dtype: bool"
            ]
          },
          "metadata": {
            "tags": []
          },
          "execution_count": 23
        }
      ]
    },
    {
      "cell_type": "markdown",
      "metadata": {
        "id": "Y0vSmM29rEhO",
        "colab_type": "text"
      },
      "source": [
        "# **Neural Network (Perceptron)**"
      ]
    },
    {
      "cell_type": "code",
      "metadata": {
        "id": "_tKLP7oeq-cK",
        "colab_type": "code",
        "colab": {
          "base_uri": "https://localhost:8080/",
          "height": 34
        },
        "outputId": "d0502ce9-977e-46c8-82c7-0066246a4dee"
      },
      "source": [
        "!pip install --upgrade tqdm\n",
        "\n",
        "np.random.seed(42)\n",
        "from keras.models import Sequential\n",
        "from keras.layers import Dense, Activation, Dropout\n",
        "from tqdm.keras import TqdmCallback"
      ],
      "execution_count": 33,
      "outputs": [
        {
          "output_type": "stream",
          "text": [
            "Requirement already up-to-date: tqdm in /usr/local/lib/python3.6/dist-packages (4.46.0)\n"
          ],
          "name": "stdout"
        }
      ]
    },
    {
      "cell_type": "code",
      "metadata": {
        "id": "h4fJM5RFtOoQ",
        "colab_type": "code",
        "colab": {}
      },
      "source": [
        "model = Sequential()\n",
        "model.add(Dense(10, activation='sigmoid', input_shape=(9,)))\n",
        "model.add(Dense(5, activation='sigmoid'))\n",
        "model.add(Dense(1, activation='sigmoid'))"
      ],
      "execution_count": 0,
      "outputs": []
    },
    {
      "cell_type": "code",
      "metadata": {
        "id": "stFfRPIGtPOx",
        "colab_type": "code",
        "outputId": "11459672-b67f-4da4-fbe6-da1b7c463e94",
        "colab": {
          "base_uri": "https://localhost:8080/",
          "height": 255
        }
      },
      "source": [
        "model.summary()"
      ],
      "execution_count": 35,
      "outputs": [
        {
          "output_type": "stream",
          "text": [
            "Model: \"sequential_4\"\n",
            "_________________________________________________________________\n",
            "Layer (type)                 Output Shape              Param #   \n",
            "=================================================================\n",
            "dense_10 (Dense)             (None, 10)                100       \n",
            "_________________________________________________________________\n",
            "dense_11 (Dense)             (None, 5)                 55        \n",
            "_________________________________________________________________\n",
            "dense_12 (Dense)             (None, 1)                 6         \n",
            "=================================================================\n",
            "Total params: 161\n",
            "Trainable params: 161\n",
            "Non-trainable params: 0\n",
            "_________________________________________________________________\n"
          ],
          "name": "stdout"
        }
      ]
    },
    {
      "cell_type": "code",
      "metadata": {
        "id": "TZW-Mu7mHMeP",
        "colab_type": "code",
        "colab": {}
      },
      "source": [
        "model.compile(optimizer='sgd',\n",
        "              loss='binary_crossentropy',\n",
        "              metrics=['accuracy'])"
      ],
      "execution_count": 0,
      "outputs": []
    },
    {
      "cell_type": "code",
      "metadata": {
        "id": "3HsHRloqY9QK",
        "colab_type": "code",
        "outputId": "82661396-2d82-4a83-dd82-119a76e3d473",
        "colab": {
          "base_uri": "https://localhost:8080/",
          "height": 66,
          "referenced_widgets": [
            "432b2c75e8ac45d885c467636b6d414f",
            "003bb165d4c44141a667eda9e505c79f",
            "f7e228f97bd14c0da3f2bfcf7e8e390a",
            "a32b74868b0f45c78a38b49268d9ad18",
            "12b95128265d4ab79dc5a06b1661d22b",
            "f64eb6f9def7444db5eeec3924a433e8",
            "e1504d6b2600434ab411006e34f5ab1b",
            "7dce13b78c5248bb8a5e530211d1bb20",
            "d7ee60d4a0374773b603ab20ae09efd3",
            "536de5b85c8c4eee964c68f8ec742478",
            "c3e3626e2b834ab99d5bff0389a76535",
            "d00216ab12c04c6bb6eec23a31b74b34",
            "0b1db5e384124520a90620ca2d1aa2f1",
            "21f20a2e75a14a9984da746f43936527",
            "d52198a4368545da8ead1845659d94d9",
            "ca544a98a70445258d3ec2439631d8cd"
          ]
        }
      },
      "source": [
        "history = model.fit(X_train, y_train, batch_size=16, epochs=100, validation_data=(X_test, y_test), verbose=0, callbacks=[TqdmCallback()])"
      ],
      "execution_count": 37,
      "outputs": [
        {
          "output_type": "display_data",
          "data": {
            "application/vnd.jupyter.widget-view+json": {
              "model_id": "432b2c75e8ac45d885c467636b6d414f",
              "version_minor": 0,
              "version_major": 2
            },
            "text/plain": [
              "HBox(children=(FloatProgress(value=1.0, bar_style='info', max=1.0), HTML(value='')))"
            ]
          },
          "metadata": {
            "tags": []
          }
        },
        {
          "output_type": "display_data",
          "data": {
            "application/vnd.jupyter.widget-view+json": {
              "model_id": "d7ee60d4a0374773b603ab20ae09efd3",
              "version_minor": 0,
              "version_major": 2
            },
            "text/plain": [
              "HBox(children=(FloatProgress(value=1.0, bar_style='info', max=1.0), HTML(value='')))"
            ]
          },
          "metadata": {
            "tags": []
          }
        },
        {
          "output_type": "stream",
          "text": [
            "\n"
          ],
          "name": "stdout"
        }
      ]
    },
    {
      "cell_type": "code",
      "metadata": {
        "id": "Z7IuZ92rZWOJ",
        "colab_type": "code",
        "colab": {}
      },
      "source": [
        "history.history"
      ],
      "execution_count": 0,
      "outputs": []
    },
    {
      "cell_type": "code",
      "metadata": {
        "id": "bybMc-Y7Zr3v",
        "colab_type": "code",
        "colab": {
          "base_uri": "https://localhost:8080/",
          "height": 350
        },
        "outputId": "3bc95315-091e-4211-e8df-1f2034580cbf"
      },
      "source": [
        "plt.figure(figsize=(15,5))\n",
        "plt.plot(history.history['accuracy'], label='Train')\n",
        "plt.plot(history.history['val_accuracy'], label='Test')\n",
        "plt.title('Max test accuracy : %.4f epoch: %s' % (np.max((history.history['accuracy'])), np.argmax(history.history['val_accuracy'])))\n",
        "plt.ylabel('Accuracy value')\n",
        "plt.xlabel('No. epoch')\n",
        "plt.legend(loc=\"upper left\")\n",
        "plt.show()"
      ],
      "execution_count": 40,
      "outputs": [
        {
          "output_type": "display_data",
          "data": {
            "image/png": "[encoded data removed]",
            "text/plain": [
              "<Figure size 1080x360 with 1 Axes>"
            ]
          },
          "metadata": {
            "tags": [],
            "needs_background": "light"
          }
        }
      ]
    }
  ]
}