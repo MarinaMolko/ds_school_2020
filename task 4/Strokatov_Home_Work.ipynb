{
  "nbformat": 4,
  "nbformat_minor": 0,
  "metadata": {
    "colab": {
      "name": "Strokatov Home Work",
      "provenance": [],
      "collapsed_sections": [],
      "toc_visible": true,
      "authorship_tag": "ABX9TyNRJANu+gtnr+BT2YBKdZFh",
      "include_colab_link": true
    },
    "kernelspec": {
      "name": "python3",
      "display_name": "Python 3"
    },
    "widgets": {
      "application/vnd.jupyter.widget-state+json": {
        "349ea335557140c19454e9884f2382f0": {
          "model_module": "@jupyter-widgets/controls",
          "model_name": "HBoxModel",
          "state": {
            "_view_name": "HBoxView",
            "_dom_classes": [],
            "_model_name": "HBoxModel",
            "_view_module": "@jupyter-widgets/controls",
            "_model_module_version": "1.5.0",
            "_view_count": null,
            "_view_module_version": "1.5.0",
            "box_style": "",
            "layout": "IPY_MODEL_a7a3072a2b0648568e3db7b3cac89bf8",
            "_model_module": "@jupyter-widgets/controls",
            "children": [
              "IPY_MODEL_111e6b46bd4849e487cc69c386775c8d",
              "IPY_MODEL_4e7bcfc3ae104ad69d7c26f4d4a3d49b"
            ]
          }
        },
        "a7a3072a2b0648568e3db7b3cac89bf8": {
          "model_module": "@jupyter-widgets/base",
          "model_name": "LayoutModel",
          "state": {
            "_view_name": "LayoutView",
            "grid_template_rows": null,
            "right": null,
            "justify_content": null,
            "_view_module": "@jupyter-widgets/base",
            "overflow": null,
            "_model_module_version": "1.2.0",
            "_view_count": null,
            "flex_flow": null,
            "width": null,
            "min_width": null,
            "border": null,
            "align_items": null,
            "bottom": null,
            "_model_module": "@jupyter-widgets/base",
            "top": null,
            "grid_column": null,
            "overflow_y": null,
            "overflow_x": null,
            "grid_auto_flow": null,
            "grid_area": null,
            "grid_template_columns": null,
            "flex": null,
            "_model_name": "LayoutModel",
            "justify_items": null,
            "grid_row": null,
            "max_height": null,
            "align_content": null,
            "visibility": null,
            "align_self": null,
            "height": null,
            "min_height": null,
            "padding": null,
            "grid_auto_rows": null,
            "grid_gap": null,
            "max_width": null,
            "order": null,
            "_view_module_version": "1.2.0",
            "grid_template_areas": null,
            "object_position": null,
            "object_fit": null,
            "grid_auto_columns": null,
            "margin": null,
            "display": null,
            "left": null
          }
        },
        "111e6b46bd4849e487cc69c386775c8d": {
          "model_module": "@jupyter-widgets/controls",
          "model_name": "FloatProgressModel",
          "state": {
            "_view_name": "ProgressView",
            "style": "IPY_MODEL_0579c3e4e569479da49f7fc5962aa557",
            "_dom_classes": [],
            "description": "100%",
            "_model_name": "FloatProgressModel",
            "bar_style": "success",
            "max": 100,
            "_view_module": "@jupyter-widgets/controls",
            "_model_module_version": "1.5.0",
            "value": 100,
            "_view_count": null,
            "_view_module_version": "1.5.0",
            "orientation": "horizontal",
            "min": 0,
            "description_tooltip": null,
            "_model_module": "@jupyter-widgets/controls",
            "layout": "IPY_MODEL_51c72340ca294cdc9553306ee9e196ab"
          }
        },
        "4e7bcfc3ae104ad69d7c26f4d4a3d49b": {
          "model_module": "@jupyter-widgets/controls",
          "model_name": "HTMLModel",
          "state": {
            "_view_name": "HTMLView",
            "style": "IPY_MODEL_45038744f0d442cda76ddccce11cd192",
            "_dom_classes": [],
            "description": "",
            "_model_name": "HTMLModel",
            "placeholder": "​",
            "_view_module": "@jupyter-widgets/controls",
            "_model_module_version": "1.5.0",
            "value": " 100/100 [00:19&lt;00:00,  5.02epoch/s, val_loss=0.686, val_accuracy=0.559, loss=0.688, accuracy=0.553]",
            "_view_count": null,
            "_view_module_version": "1.5.0",
            "description_tooltip": null,
            "_model_module": "@jupyter-widgets/controls",
            "layout": "IPY_MODEL_b8a5d028389d4d80a1e44f54a07b4bd0"
          }
        },
        "0579c3e4e569479da49f7fc5962aa557": {
          "model_module": "@jupyter-widgets/controls",
          "model_name": "ProgressStyleModel",
          "state": {
            "_view_name": "StyleView",
            "_model_name": "ProgressStyleModel",
            "description_width": "initial",
            "_view_module": "@jupyter-widgets/base",
            "_model_module_version": "1.5.0",
            "_view_count": null,
            "_view_module_version": "1.2.0",
            "bar_color": null,
            "_model_module": "@jupyter-widgets/controls"
          }
        },
        "51c72340ca294cdc9553306ee9e196ab": {
          "model_module": "@jupyter-widgets/base",
          "model_name": "LayoutModel",
          "state": {
            "_view_name": "LayoutView",
            "grid_template_rows": null,
            "right": null,
            "justify_content": null,
            "_view_module": "@jupyter-widgets/base",
            "overflow": null,
            "_model_module_version": "1.2.0",
            "_view_count": null,
            "flex_flow": null,
            "width": null,
            "min_width": null,
            "border": null,
            "align_items": null,
            "bottom": null,
            "_model_module": "@jupyter-widgets/base",
            "top": null,
            "grid_column": null,
            "overflow_y": null,
            "overflow_x": null,
            "grid_auto_flow": null,
            "grid_area": null,
            "grid_template_columns": null,
            "flex": null,
            "_model_name": "LayoutModel",
            "justify_items": null,
            "grid_row": null,
            "max_height": null,
            "align_content": null,
            "visibility": null,
            "align_self": null,
            "height": null,
            "min_height": null,
            "padding": null,
            "grid_auto_rows": null,
            "grid_gap": null,
            "max_width": null,
            "order": null,
            "_view_module_version": "1.2.0",
            "grid_template_areas": null,
            "object_position": null,
            "object_fit": null,
            "grid_auto_columns": null,
            "margin": null,
            "display": null,
            "left": null
          }
        },
        "45038744f0d442cda76ddccce11cd192": {
          "model_module": "@jupyter-widgets/controls",
          "model_name": "DescriptionStyleModel",
          "state": {
            "_view_name": "StyleView",
            "_model_name": "DescriptionStyleModel",
            "description_width": "",
            "_view_module": "@jupyter-widgets/base",
            "_model_module_version": "1.5.0",
            "_view_count": null,
            "_view_module_version": "1.2.0",
            "_model_module": "@jupyter-widgets/controls"
          }
        },
        "b8a5d028389d4d80a1e44f54a07b4bd0": {
          "model_module": "@jupyter-widgets/base",
          "model_name": "LayoutModel",
          "state": {
            "_view_name": "LayoutView",
            "grid_template_rows": null,
            "right": null,
            "justify_content": null,
            "_view_module": "@jupyter-widgets/base",
            "overflow": null,
            "_model_module_version": "1.2.0",
            "_view_count": null,
            "flex_flow": null,
            "width": null,
            "min_width": null,
            "border": null,
            "align_items": null,
            "bottom": null,
            "_model_module": "@jupyter-widgets/base",
            "top": null,
            "grid_column": null,
            "overflow_y": null,
            "overflow_x": null,
            "grid_auto_flow": null,
            "grid_area": null,
            "grid_template_columns": null,
            "flex": null,
            "_model_name": "LayoutModel",
            "justify_items": null,
            "grid_row": null,
            "max_height": null,
            "align_content": null,
            "visibility": null,
            "align_self": null,
            "height": null,
            "min_height": null,
            "padding": null,
            "grid_auto_rows": null,
            "grid_gap": null,
            "max_width": null,
            "order": null,
            "_view_module_version": "1.2.0",
            "grid_template_areas": null,
            "object_position": null,
            "object_fit": null,
            "grid_auto_columns": null,
            "margin": null,
            "display": null,
            "left": null
          }
        },
        "5b5fd98b7e5a4d39be73a0636a61b7d6": {
          "model_module": "@jupyter-widgets/controls",
          "model_name": "HBoxModel",
          "state": {
            "_view_name": "HBoxView",
            "_dom_classes": [],
            "_model_name": "HBoxModel",
            "_view_module": "@jupyter-widgets/controls",
            "_model_module_version": "1.5.0",
            "_view_count": null,
            "_view_module_version": "1.5.0",
            "box_style": "",
            "layout": "IPY_MODEL_d5f079482fc94be3823469386a6990ff",
            "_model_module": "@jupyter-widgets/controls",
            "children": [
              "IPY_MODEL_fe98cbfab8404e2090852545a1267cc2",
              "IPY_MODEL_55c6b149ffec4603a52369cb3a3ab9a5"
            ]
          }
        },
        "d5f079482fc94be3823469386a6990ff": {
          "model_module": "@jupyter-widgets/base",
          "model_name": "LayoutModel",
          "state": {
            "_view_name": "LayoutView",
            "grid_template_rows": null,
            "right": null,
            "justify_content": null,
            "_view_module": "@jupyter-widgets/base",
            "overflow": null,
            "_model_module_version": "1.2.0",
            "_view_count": null,
            "flex_flow": null,
            "width": null,
            "min_width": null,
            "border": null,
            "align_items": null,
            "bottom": null,
            "_model_module": "@jupyter-widgets/base",
            "top": null,
            "grid_column": null,
            "overflow_y": null,
            "overflow_x": null,
            "grid_auto_flow": null,
            "grid_area": null,
            "grid_template_columns": null,
            "flex": null,
            "_model_name": "LayoutModel",
            "justify_items": null,
            "grid_row": null,
            "max_height": null,
            "align_content": null,
            "visibility": null,
            "align_self": null,
            "height": null,
            "min_height": null,
            "padding": null,
            "grid_auto_rows": null,
            "grid_gap": null,
            "max_width": null,
            "order": null,
            "_view_module_version": "1.2.0",
            "grid_template_areas": null,
            "object_position": null,
            "object_fit": null,
            "grid_auto_columns": null,
            "margin": null,
            "display": null,
            "left": null
          }
        },
        "fe98cbfab8404e2090852545a1267cc2": {
          "model_module": "@jupyter-widgets/controls",
          "model_name": "FloatProgressModel",
          "state": {
            "_view_name": "ProgressView",
            "style": "IPY_MODEL_455f0451911b4a0eaeaabaa5dbef2bfa",
            "_dom_classes": [],
            "description": "100%",
            "_model_name": "FloatProgressModel",
            "bar_style": "info",
            "max": 1987,
            "_view_module": "@jupyter-widgets/controls",
            "_model_module_version": "1.5.0",
            "value": 1987,
            "_view_count": null,
            "_view_module_version": "1.5.0",
            "orientation": "horizontal",
            "min": 0,
            "description_tooltip": null,
            "_model_module": "@jupyter-widgets/controls",
            "layout": "IPY_MODEL_3d82b12ec8934ad29abaac8335a0ba0e"
          }
        },
        "55c6b149ffec4603a52369cb3a3ab9a5": {
          "model_module": "@jupyter-widgets/controls",
          "model_name": "HTMLModel",
          "state": {
            "_view_name": "HTMLView",
            "style": "IPY_MODEL_f44976f927754d27aea6a0f04708da08",
            "_dom_classes": [],
            "description": "",
            "_model_name": "HTMLModel",
            "placeholder": "​",
            "_view_module": "@jupyter-widgets/controls",
            "_model_module_version": "1.5.0",
            "value": " 124.1875/124.1875 [00:00&lt;00:00, 842.03batch/s, loss=0.665, accuracy=0.553]",
            "_view_count": null,
            "_view_module_version": "1.5.0",
            "description_tooltip": null,
            "_model_module": "@jupyter-widgets/controls",
            "layout": "IPY_MODEL_60e593dde8844cca9e713b7a13ea276d"
          }
        },
        "455f0451911b4a0eaeaabaa5dbef2bfa": {
          "model_module": "@jupyter-widgets/controls",
          "model_name": "ProgressStyleModel",
          "state": {
            "_view_name": "StyleView",
            "_model_name": "ProgressStyleModel",
            "description_width": "initial",
            "_view_module": "@jupyter-widgets/base",
            "_model_module_version": "1.5.0",
            "_view_count": null,
            "_view_module_version": "1.2.0",
            "bar_color": null,
            "_model_module": "@jupyter-widgets/controls"
          }
        },
        "3d82b12ec8934ad29abaac8335a0ba0e": {
          "model_module": "@jupyter-widgets/base",
          "model_name": "LayoutModel",
          "state": {
            "_view_name": "LayoutView",
            "grid_template_rows": null,
            "right": null,
            "justify_content": null,
            "_view_module": "@jupyter-widgets/base",
            "overflow": null,
            "_model_module_version": "1.2.0",
            "_view_count": null,
            "flex_flow": null,
            "width": null,
            "min_width": null,
            "border": null,
            "align_items": null,
            "bottom": null,
            "_model_module": "@jupyter-widgets/base",
            "top": null,
            "grid_column": null,
            "overflow_y": null,
            "overflow_x": null,
            "grid_auto_flow": null,
            "grid_area": null,
            "grid_template_columns": null,
            "flex": null,
            "_model_name": "LayoutModel",
            "justify_items": null,
            "grid_row": null,
            "max_height": null,
            "align_content": null,
            "visibility": null,
            "align_self": null,
            "height": null,
            "min_height": null,
            "padding": null,
            "grid_auto_rows": null,
            "grid_gap": null,
            "max_width": null,
            "order": null,
            "_view_module_version": "1.2.0",
            "grid_template_areas": null,
            "object_position": null,
            "object_fit": null,
            "grid_auto_columns": null,
            "margin": null,
            "display": null,
            "left": null
          }
        },
        "f44976f927754d27aea6a0f04708da08": {
          "model_module": "@jupyter-widgets/controls",
          "model_name": "DescriptionStyleModel",
          "state": {
            "_view_name": "StyleView",
            "_model_name": "DescriptionStyleModel",
            "description_width": "",
            "_view_module": "@jupyter-widgets/base",
            "_model_module_version": "1.5.0",
            "_view_count": null,
            "_view_module_version": "1.2.0",
            "_model_module": "@jupyter-widgets/controls"
          }
        },
        "60e593dde8844cca9e713b7a13ea276d": {
          "model_module": "@jupyter-widgets/base",
          "model_name": "LayoutModel",
          "state": {
            "_view_name": "LayoutView",
            "grid_template_rows": null,
            "right": null,
            "justify_content": null,
            "_view_module": "@jupyter-widgets/base",
            "overflow": null,
            "_model_module_version": "1.2.0",
            "_view_count": null,
            "flex_flow": null,
            "width": null,
            "min_width": null,
            "border": null,
            "align_items": null,
            "bottom": null,
            "_model_module": "@jupyter-widgets/base",
            "top": null,
            "grid_column": null,
            "overflow_y": null,
            "overflow_x": null,
            "grid_auto_flow": null,
            "grid_area": null,
            "grid_template_columns": null,
            "flex": null,
            "_model_name": "LayoutModel",
            "justify_items": null,
            "grid_row": null,
            "max_height": null,
            "align_content": null,
            "visibility": null,
            "align_self": null,
            "height": null,
            "min_height": null,
            "padding": null,
            "grid_auto_rows": null,
            "grid_gap": null,
            "max_width": null,
            "order": null,
            "_view_module_version": "1.2.0",
            "grid_template_areas": null,
            "object_position": null,
            "object_fit": null,
            "grid_auto_columns": null,
            "margin": null,
            "display": null,
            "left": null
          }
        }
      }
    }
  },
  "cells": [
    {
      "cell_type": "markdown",
      "metadata": {
        "id": "view-in-github",
        "colab_type": "text"
      },
      "source": [
        "<a href=\"https://colab.research.google.com/github/DavidDaimond/ds_school_2020/blob/master/task%204/Strokatov_Home_Work.ipynb\" target=\"_parent\"><img src=\"https://colab.research.google.com/assets/colab-badge.svg\" alt=\"Open In Colab\"/></a>"
      ]
    },
    {
      "cell_type": "code",
      "metadata": {
        "id": "4K46YsT5TF23",
        "colab_type": "code",
        "colab": {}
      },
      "source": [
        "%matplotlib inline\n",
        "import seaborn as sns\n",
        "import matplotlib.pyplot as plt\n",
        "\n",
        "import pandas as pd\n",
        "import numpy as np\n",
        "\n",
        "\n",
        "from sklearn.model_selection import train_test_split\n",
        "import matplotlib.pyplot as plt\n",
        "from sklearn.metrics import classification_report\n",
        "from sklearn.preprocessing import MinMaxScaler"
      ],
      "execution_count": 0,
      "outputs": []
    },
    {
      "cell_type": "markdown",
      "metadata": {
        "id": "HFqFCuK4_qTo",
        "colab_type": "text"
      },
      "source": [
        "# **Data preparations**"
      ]
    },
    {
      "cell_type": "code",
      "metadata": {
        "id": "5BDCC83f-y73",
        "colab_type": "code",
        "outputId": "4b02ed6e-e866-4d66-8d11-25ee25dd9563",
        "colab": {
          "base_uri": "https://localhost:8080/",
          "height": 207
        }
      },
      "source": [
        "dfm = pd.read_csv('./tmdb_5000_movies.csv')\n",
        "\n",
        "\n",
        "dfm['release_date'] = pd.to_datetime(dfm['release_date'])\n",
        "dfm['year'] = pd.DatetimeIndex(dfm['release_date']).year\n",
        "dfm['month'] = pd.DatetimeIndex(dfm['release_date']).month\n",
        "dfm['weekday'] = dfm['release_date'].dt.dayofweek\n",
        "\n",
        "\n",
        "dfm.original_language[dfm.original_language != 'en'] = 0\n",
        "dfm.original_language[dfm.original_language != 0] = 1"
      ],
      "execution_count": 35,
      "outputs": [
        {
          "output_type": "stream",
          "text": [
            "/usr/local/lib/python3.6/dist-packages/ipykernel_launcher.py:10: SettingWithCopyWarning: \n",
            "A value is trying to be set on a copy of a slice from a DataFrame\n",
            "\n",
            "See the caveats in the documentation: https://pandas.pydata.org/pandas-docs/stable/user_guide/indexing.html#returning-a-view-versus-a-copy\n",
            "  # Remove the CWD from sys.path while we load stuff.\n",
            "/usr/local/lib/python3.6/dist-packages/ipykernel_launcher.py:11: SettingWithCopyWarning: \n",
            "A value is trying to be set on a copy of a slice from a DataFrame\n",
            "\n",
            "See the caveats in the documentation: https://pandas.pydata.org/pandas-docs/stable/user_guide/indexing.html#returning-a-view-versus-a-copy\n",
            "  # This is added back by InteractiveShellApp.init_path()\n"
          ],
          "name": "stderr"
        }
      ]
    },
    {
      "cell_type": "code",
      "metadata": {
        "id": "1F9nrkX_CXu_",
        "colab_type": "code",
        "colab": {}
      },
      "source": [
        "import json\n",
        "\n",
        "#Translate data to acceptable format by converting a JSON columns\n",
        "prime_genre = pd.json_normalize(dfm.genres.apply(json.loads).apply(lambda x: x[0] if (x != []) else {'id': 0, 'name': 'None'}))\n",
        "secondary_genre = pd.json_normalize(dfm.genres.apply(json.loads).apply(lambda x: x[1] if (len(x) > 1) else {'id': 0, 'name': 'None'}))\n",
        "\n",
        "#genres\n",
        "dfm['prime_genre_name'] = prime_genre['name']\n",
        "dfm['secondary_genre_name'] = secondary_genre['name']\n",
        "\n",
        "#production country\n",
        "dfm['production_country_id'] = pd.json_normalize(dfm.production_countries.apply(json.loads).apply(lambda x: x[0] if (x != []) else {'iso_3166_1': 'None', 'name': 'Unknown'}))['iso_3166_1']\n",
        "\n",
        "#production companies\n",
        "dfm['production_company_name'] = pd.json_normalize(dfm.production_companies.apply(json.loads).apply(lambda x: x[0] if (x != []) else {'id': 'None', 'name': 'NaN'}))['name']"
      ],
      "execution_count": 0,
      "outputs": []
    },
    {
      "cell_type": "code",
      "metadata": {
        "id": "AHwvhLygC0ek",
        "colab_type": "code",
        "outputId": "aecfb0cc-4205-4333-f6e2-43bde43f516f",
        "colab": {
          "base_uri": "https://localhost:8080/",
          "height": 122
        }
      },
      "source": [
        "#New company and genre columns\n",
        "dfm['company_portfolio'] = dfm.groupby('production_company_name')['production_company_name'].transform('count')\n",
        "dfm.production_company_name[dfm.company_portfolio < 2] = 'Noname company'\n",
        "dfm['genre_popularity'] = dfm.groupby('prime_genre_name')['prime_genre_name'].transform('count') + dfm.groupby('secondary_genre_name')['secondary_genre_name'].transform('count')\n",
        "\n",
        "\n",
        "dfm['profitable'] = (dfm.revenue / dfm.budget) > 2.5\n",
        "dfm['foreign'] = (dfm.production_country_id) != 'US'"
      ],
      "execution_count": 37,
      "outputs": [
        {
          "output_type": "stream",
          "text": [
            "/usr/local/lib/python3.6/dist-packages/ipykernel_launcher.py:3: SettingWithCopyWarning: \n",
            "A value is trying to be set on a copy of a slice from a DataFrame\n",
            "\n",
            "See the caveats in the documentation: https://pandas.pydata.org/pandas-docs/stable/user_guide/indexing.html#returning-a-view-versus-a-copy\n",
            "  This is separate from the ipykernel package so we can avoid doing imports until\n"
          ],
          "name": "stderr"
        }
      ]
    },
    {
      "cell_type": "code",
      "metadata": {
        "id": "mBG21IBS5F5v",
        "colab_type": "code",
        "outputId": "64aac55c-1760-464f-bb08-57840ed9ab75",
        "colab": {
          "base_uri": "https://localhost:8080/",
          "height": 282
        }
      },
      "source": [
        "dfm.genre_popularity.hist()"
      ],
      "execution_count": 38,
      "outputs": [
        {
          "output_type": "execute_result",
          "data": {
            "text/plain": [
              "<matplotlib.axes._subplots.AxesSubplot at 0x7feda024e518>"
            ]
          },
          "metadata": {
            "tags": []
          },
          "execution_count": 38
        },
        {
          "output_type": "display_data",
          "data": {
            "image/png": "[encoded data removed]",
            "text/plain": [
              "<Figure size 432x288 with 1 Axes>"
            ]
          },
          "metadata": {
            "tags": [],
            "needs_background": "light"
          }
        }
      ]
    },
    {
      "cell_type": "code",
      "metadata": {
        "id": "sQmNvmIrFUBD",
        "colab_type": "code",
        "outputId": "361bef85-01f5-4656-a381-093f52d213ed",
        "colab": {
          "base_uri": "https://localhost:8080/",
          "height": 34
        }
      },
      "source": [
        "#Drop NaN and non-representative data\n",
        "\n",
        "dfm = dfm.drop(dfm[(dfm.runtime == 0) | (dfm.revenue == 0) | (dfm.budget == 0) | (dfm.production_company_name == 'NaN')].index, axis=0)\n",
        "dfm.shape"
      ],
      "execution_count": 39,
      "outputs": [
        {
          "output_type": "execute_result",
          "data": {
            "text/plain": [
              "(3188, 31)"
            ]
          },
          "metadata": {
            "tags": []
          },
          "execution_count": 39
        }
      ]
    },
    {
      "cell_type": "code",
      "metadata": {
        "id": "WQPK61NfWzNx",
        "colab_type": "code",
        "colab": {}
      },
      "source": [
        "dfm = dfm.drop(['genres', 'homepage', 'id', 'keywords', 'original_title', 'overview',\n",
        "                'production_companies', 'production_countries', 'spoken_languages', 'tagline',\n",
        "                'title', 'status', 'vote_count', 'popularity'], axis=1)"
      ],
      "execution_count": 0,
      "outputs": []
    },
    {
      "cell_type": "code",
      "metadata": {
        "id": "oAHLBy_KX3_s",
        "colab_type": "code",
        "colab": {}
      },
      "source": [
        "#A little one-hot-encoding for something\n",
        "a = pd.DataFrame.from_dict({'genres': dfm['prime_genre_name']})\n",
        "b = pd.DataFrame.from_dict({'genres': dfm['secondary_genre_name']})\n",
        "genres = pd.get_dummies(a) + pd.get_dummies(b)\n",
        "\"\"\"pd.get_dummies(dfm[['prime_genre_name', 'secondary_genre_name', \n",
        "                    'production_company_name', \n",
        "                    'production_country_id']]).sample(3)\"\"\"\n",
        "genres = genres.drop(['genres_Foreign', 'genres_None'], axis=1)\n",
        "cat_genres = genres.columns\n",
        "dfm = pd.concat([dfm, genres], axis=1).drop(['prime_genre_name', 'secondary_genre_name'], axis=1)"
      ],
      "execution_count": 0,
      "outputs": []
    },
    {
      "cell_type": "code",
      "metadata": {
        "id": "IBEyedQFcX6-",
        "colab_type": "code",
        "outputId": "b1a4a740-ba41-412d-b7ed-ba5c191b5e44",
        "colab": {
          "base_uri": "https://localhost:8080/",
          "height": 34
        }
      },
      "source": [
        "#Drop old films non-applicable data\n",
        "\n",
        "dfm = dfm[dfm.year > 1986]\n",
        "dfm = dfm[np.log(dfm.revenue) > 7.5]\n",
        "dfm.revenue = np.log(dfm.revenue)\n",
        "dfm.budget = np.log(dfm.budget)\n",
        "print(dfm.shape)"
      ],
      "execution_count": 42,
      "outputs": [
        {
          "output_type": "stream",
          "text": [
            "(2839, 33)\n"
          ],
          "name": "stdout"
        }
      ]
    },
    {
      "cell_type": "markdown",
      "metadata": {
        "id": "qZ9CojY6yYdz",
        "colab_type": "text"
      },
      "source": [
        "## Targets and categories"
      ]
    },
    {
      "cell_type": "code",
      "metadata": {
        "id": "5306xBCSleeq",
        "colab_type": "code",
        "colab": {}
      },
      "source": [
        "cat_date = ['year', 'month', 'weekday']\n",
        "cat_lang = ['original_language', 'foreign']\n",
        "nums = ['budget', 'runtime', 'vote_average', 'company_portfolio', 'genre_popularity']\n",
        "targets = ['revenue', 'profitable']"
      ],
      "execution_count": 0,
      "outputs": []
    },
    {
      "cell_type": "code",
      "metadata": {
        "id": "Iu68FW1V_E35",
        "colab_type": "code",
        "colab": {}
      },
      "source": [
        "X_data = dfm[cat_date + cat_lang + nums]"
      ],
      "execution_count": 0,
      "outputs": []
    },
    {
      "cell_type": "code",
      "metadata": {
        "id": "t5TNtFK0Iuqs",
        "colab_type": "code",
        "outputId": "3599ea1d-6e06-4e5e-bdfe-5d0f42ce6181",
        "colab": {
          "base_uri": "https://localhost:8080/",
          "height": 162
        }
      },
      "source": [
        "X_data.sample(3)"
      ],
      "execution_count": 45,
      "outputs": [
        {
          "output_type": "execute_result",
          "data": {
            "text/html": [
              "<div>\n",
              "<style scoped>\n",
              "    .dataframe tbody tr th:only-of-type {\n",
              "        vertical-align: middle;\n",
              "    }\n",
              "\n",
              "    .dataframe tbody tr th {\n",
              "        vertical-align: top;\n",
              "    }\n",
              "\n",
              "    .dataframe thead th {\n",
              "        text-align: right;\n",
              "    }\n",
              "</style>\n",
              "<table border=\"1\" class=\"dataframe\">\n",
              "  <thead>\n",
              "    <tr style=\"text-align: right;\">\n",
              "      <th></th>\n",
              "      <th>year</th>\n",
              "      <th>month</th>\n",
              "      <th>weekday</th>\n",
              "      <th>original_language</th>\n",
              "      <th>foreign</th>\n",
              "      <th>budget</th>\n",
              "      <th>runtime</th>\n",
              "      <th>vote_average</th>\n",
              "      <th>company_portfolio</th>\n",
              "      <th>genre_popularity</th>\n",
              "    </tr>\n",
              "  </thead>\n",
              "  <tbody>\n",
              "    <tr>\n",
              "      <th>2798</th>\n",
              "      <td>2008.0</td>\n",
              "      <td>5.0</td>\n",
              "      <td>2.0</td>\n",
              "      <td>1</td>\n",
              "      <td>True</td>\n",
              "      <td>16.341239</td>\n",
              "      <td>94.0</td>\n",
              "      <td>7.7</td>\n",
              "      <td>87</td>\n",
              "      <td>812</td>\n",
              "    </tr>\n",
              "    <tr>\n",
              "      <th>3722</th>\n",
              "      <td>2016.0</td>\n",
              "      <td>1.0</td>\n",
              "      <td>4.0</td>\n",
              "      <td>0</td>\n",
              "      <td>True</td>\n",
              "      <td>15.319588</td>\n",
              "      <td>126.0</td>\n",
              "      <td>7.3</td>\n",
              "      <td>1</td>\n",
              "      <td>477</td>\n",
              "    </tr>\n",
              "    <tr>\n",
              "      <th>4738</th>\n",
              "      <td>1998.0</td>\n",
              "      <td>7.0</td>\n",
              "      <td>4.0</td>\n",
              "      <td>1</td>\n",
              "      <td>False</td>\n",
              "      <td>11.002100</td>\n",
              "      <td>84.0</td>\n",
              "      <td>7.1</td>\n",
              "      <td>1</td>\n",
              "      <td>829</td>\n",
              "    </tr>\n",
              "  </tbody>\n",
              "</table>\n",
              "</div>"
            ],
            "text/plain": [
              "        year  month  weekday  ... vote_average  company_portfolio  genre_popularity\n",
              "2798  2008.0    5.0      2.0  ...          7.7                 87               812\n",
              "3722  2016.0    1.0      4.0  ...          7.3                  1               477\n",
              "4738  1998.0    7.0      4.0  ...          7.1                  1               829\n",
              "\n",
              "[3 rows x 10 columns]"
            ]
          },
          "metadata": {
            "tags": []
          },
          "execution_count": 45
        }
      ]
    },
    {
      "cell_type": "markdown",
      "metadata": {
        "id": "CqIV_-2iyH6p",
        "colab_type": "text"
      },
      "source": [
        "## Train-Test"
      ]
    },
    {
      "cell_type": "code",
      "metadata": {
        "id": "UbSyN_sWy3hP",
        "colab_type": "code",
        "outputId": "4ecffced-fb11-492e-afc5-5b9d28e5543c",
        "colab": {
          "base_uri": "https://localhost:8080/",
          "height": 643
        }
      },
      "source": [
        "X_norm = X_data[nums].values\n",
        "\n",
        "mms = MinMaxScaler()\n",
        "X_data[nums] = mms.fit_transform(X_norm)\n",
        "\n",
        "y_data = dfm['profitable']\n",
        "X_data"
      ],
      "execution_count": 46,
      "outputs": [
        {
          "output_type": "stream",
          "text": [
            "/usr/local/lib/python3.6/dist-packages/ipykernel_launcher.py:4: SettingWithCopyWarning: \n",
            "A value is trying to be set on a copy of a slice from a DataFrame.\n",
            "Try using .loc[row_indexer,col_indexer] = value instead\n",
            "\n",
            "See the caveats in the documentation: https://pandas.pydata.org/pandas-docs/stable/user_guide/indexing.html#returning-a-view-versus-a-copy\n",
            "  after removing the cwd from sys.path.\n",
            "/usr/local/lib/python3.6/dist-packages/pandas/core/indexing.py:966: SettingWithCopyWarning: \n",
            "A value is trying to be set on a copy of a slice from a DataFrame.\n",
            "Try using .loc[row_indexer,col_indexer] = value instead\n",
            "\n",
            "See the caveats in the documentation: https://pandas.pydata.org/pandas-docs/stable/user_guide/indexing.html#returning-a-view-versus-a-copy\n",
            "  self.obj[item] = s\n"
          ],
          "name": "stderr"
        },
        {
          "output_type": "execute_result",
          "data": {
            "text/html": [
              "<div>\n",
              "<style scoped>\n",
              "    .dataframe tbody tr th:only-of-type {\n",
              "        vertical-align: middle;\n",
              "    }\n",
              "\n",
              "    .dataframe tbody tr th {\n",
              "        vertical-align: top;\n",
              "    }\n",
              "\n",
              "    .dataframe thead th {\n",
              "        text-align: right;\n",
              "    }\n",
              "</style>\n",
              "<table border=\"1\" class=\"dataframe\">\n",
              "  <thead>\n",
              "    <tr style=\"text-align: right;\">\n",
              "      <th></th>\n",
              "      <th>year</th>\n",
              "      <th>month</th>\n",
              "      <th>weekday</th>\n",
              "      <th>original_language</th>\n",
              "      <th>foreign</th>\n",
              "      <th>budget</th>\n",
              "      <th>runtime</th>\n",
              "      <th>vote_average</th>\n",
              "      <th>company_portfolio</th>\n",
              "      <th>genre_popularity</th>\n",
              "    </tr>\n",
              "  </thead>\n",
              "  <tbody>\n",
              "    <tr>\n",
              "      <th>0</th>\n",
              "      <td>2009.0</td>\n",
              "      <td>12.0</td>\n",
              "      <td>3.0</td>\n",
              "      <td>1</td>\n",
              "      <td>False</td>\n",
              "      <td>0.972950</td>\n",
              "      <td>0.407407</td>\n",
              "      <td>0.847059</td>\n",
              "      <td>0.075000</td>\n",
              "      <td>0.494797</td>\n",
              "    </tr>\n",
              "    <tr>\n",
              "      <th>1</th>\n",
              "      <td>2007.0</td>\n",
              "      <td>5.0</td>\n",
              "      <td>5.0</td>\n",
              "      <td>1</td>\n",
              "      <td>False</td>\n",
              "      <td>0.986456</td>\n",
              "      <td>0.430976</td>\n",
              "      <td>0.811765</td>\n",
              "      <td>0.403571</td>\n",
              "      <td>0.216178</td>\n",
              "    </tr>\n",
              "    <tr>\n",
              "      <th>2</th>\n",
              "      <td>2015.0</td>\n",
              "      <td>10.0</td>\n",
              "      <td>0.0</td>\n",
              "      <td>1</td>\n",
              "      <td>True</td>\n",
              "      <td>0.974852</td>\n",
              "      <td>0.360269</td>\n",
              "      <td>0.741176</td>\n",
              "      <td>0.710714</td>\n",
              "      <td>0.494797</td>\n",
              "    </tr>\n",
              "    <tr>\n",
              "      <th>3</th>\n",
              "      <td>2012.0</td>\n",
              "      <td>7.0</td>\n",
              "      <td>0.0</td>\n",
              "      <td>1</td>\n",
              "      <td>False</td>\n",
              "      <td>0.976009</td>\n",
              "      <td>0.417508</td>\n",
              "      <td>0.894118</td>\n",
              "      <td>0.053571</td>\n",
              "      <td>0.464049</td>\n",
              "    </tr>\n",
              "    <tr>\n",
              "      <th>4</th>\n",
              "      <td>2012.0</td>\n",
              "      <td>3.0</td>\n",
              "      <td>2.0</td>\n",
              "      <td>1</td>\n",
              "      <td>False</td>\n",
              "      <td>0.978257</td>\n",
              "      <td>0.306397</td>\n",
              "      <td>0.717647</td>\n",
              "      <td>0.403571</td>\n",
              "      <td>0.494797</td>\n",
              "    </tr>\n",
              "    <tr>\n",
              "      <th>...</th>\n",
              "      <td>...</td>\n",
              "      <td>...</td>\n",
              "      <td>...</td>\n",
              "      <td>...</td>\n",
              "      <td>...</td>\n",
              "      <td>...</td>\n",
              "      <td>...</td>\n",
              "      <td>...</td>\n",
              "      <td>...</td>\n",
              "      <td>...</td>\n",
              "    </tr>\n",
              "    <tr>\n",
              "      <th>4758</th>\n",
              "      <td>2014.0</td>\n",
              "      <td>3.0</td>\n",
              "      <td>5.0</td>\n",
              "      <td>1</td>\n",
              "      <td>False</td>\n",
              "      <td>0.739079</td>\n",
              "      <td>0.181818</td>\n",
              "      <td>0.682353</td>\n",
              "      <td>0.003571</td>\n",
              "      <td>0.141438</td>\n",
              "    </tr>\n",
              "    <tr>\n",
              "      <th>4773</th>\n",
              "      <td>1994.0</td>\n",
              "      <td>9.0</td>\n",
              "      <td>1.0</td>\n",
              "      <td>1</td>\n",
              "      <td>False</td>\n",
              "      <td>0.452699</td>\n",
              "      <td>0.171717</td>\n",
              "      <td>0.870588</td>\n",
              "      <td>0.307143</td>\n",
              "      <td>0.921949</td>\n",
              "    </tr>\n",
              "    <tr>\n",
              "      <th>4792</th>\n",
              "      <td>1997.0</td>\n",
              "      <td>11.0</td>\n",
              "      <td>3.0</td>\n",
              "      <td>0</td>\n",
              "      <td>True</td>\n",
              "      <td>0.435505</td>\n",
              "      <td>0.235690</td>\n",
              "      <td>0.870588</td>\n",
              "      <td>0.000000</td>\n",
              "      <td>0.148534</td>\n",
              "    </tr>\n",
              "    <tr>\n",
              "      <th>4796</th>\n",
              "      <td>2004.0</td>\n",
              "      <td>10.0</td>\n",
              "      <td>4.0</td>\n",
              "      <td>1</td>\n",
              "      <td>False</td>\n",
              "      <td>0.375353</td>\n",
              "      <td>0.121212</td>\n",
              "      <td>0.811765</td>\n",
              "      <td>0.010714</td>\n",
              "      <td>0.408231</td>\n",
              "    </tr>\n",
              "    <tr>\n",
              "      <th>4798</th>\n",
              "      <td>1992.0</td>\n",
              "      <td>9.0</td>\n",
              "      <td>4.0</td>\n",
              "      <td>0</td>\n",
              "      <td>True</td>\n",
              "      <td>0.572895</td>\n",
              "      <td>0.134680</td>\n",
              "      <td>0.776471</td>\n",
              "      <td>0.710714</td>\n",
              "      <td>0.464049</td>\n",
              "    </tr>\n",
              "  </tbody>\n",
              "</table>\n",
              "<p>2839 rows × 10 columns</p>\n",
              "</div>"
            ],
            "text/plain": [
              "        year  month  weekday  ... vote_average  company_portfolio  genre_popularity\n",
              "0     2009.0   12.0      3.0  ...     0.847059           0.075000          0.494797\n",
              "1     2007.0    5.0      5.0  ...     0.811765           0.403571          0.216178\n",
              "2     2015.0   10.0      0.0  ...     0.741176           0.710714          0.494797\n",
              "3     2012.0    7.0      0.0  ...     0.894118           0.053571          0.464049\n",
              "4     2012.0    3.0      2.0  ...     0.717647           0.403571          0.494797\n",
              "...      ...    ...      ...  ...          ...                ...               ...\n",
              "4758  2014.0    3.0      5.0  ...     0.682353           0.003571          0.141438\n",
              "4773  1994.0    9.0      1.0  ...     0.870588           0.307143          0.921949\n",
              "4792  1997.0   11.0      3.0  ...     0.870588           0.000000          0.148534\n",
              "4796  2004.0   10.0      4.0  ...     0.811765           0.010714          0.408231\n",
              "4798  1992.0    9.0      4.0  ...     0.776471           0.710714          0.464049\n",
              "\n",
              "[2839 rows x 10 columns]"
            ]
          },
          "metadata": {
            "tags": []
          },
          "execution_count": 46
        }
      ]
    },
    {
      "cell_type": "code",
      "metadata": {
        "id": "DnxIQoV1AAtN",
        "colab_type": "code",
        "outputId": "1dfa7a2d-5613-410c-9b0a-dfe7b5198e67",
        "colab": {
          "base_uri": "https://localhost:8080/",
          "height": 34
        }
      },
      "source": [
        "r_state = 42\n",
        "X_train, X_test, y_train, y_test = train_test_split(X_data, y_data.astype(float), \n",
        "                                                    test_size=0.3,\n",
        "                                                    random_state=r_state)\n",
        "print(X_train.shape, X_test.shape, y_train.shape, y_test.shape)"
      ],
      "execution_count": 47,
      "outputs": [
        {
          "output_type": "stream",
          "text": [
            "(1987, 10) (852, 10) (1987,) (852,)\n"
          ],
          "name": "stdout"
        }
      ]
    },
    {
      "cell_type": "code",
      "metadata": {
        "id": "dDj5ulbBSwrK",
        "colab_type": "code",
        "outputId": "c224005f-e59f-46bc-9bbd-8863f719f247",
        "colab": {
          "base_uri": "https://localhost:8080/",
          "height": 439
        }
      },
      "source": [
        "X_train"
      ],
      "execution_count": 48,
      "outputs": [
        {
          "output_type": "execute_result",
          "data": {
            "text/html": [
              "<div>\n",
              "<style scoped>\n",
              "    .dataframe tbody tr th:only-of-type {\n",
              "        vertical-align: middle;\n",
              "    }\n",
              "\n",
              "    .dataframe tbody tr th {\n",
              "        vertical-align: top;\n",
              "    }\n",
              "\n",
              "    .dataframe thead th {\n",
              "        text-align: right;\n",
              "    }\n",
              "</style>\n",
              "<table border=\"1\" class=\"dataframe\">\n",
              "  <thead>\n",
              "    <tr style=\"text-align: right;\">\n",
              "      <th></th>\n",
              "      <th>year</th>\n",
              "      <th>month</th>\n",
              "      <th>weekday</th>\n",
              "      <th>original_language</th>\n",
              "      <th>foreign</th>\n",
              "      <th>budget</th>\n",
              "      <th>runtime</th>\n",
              "      <th>vote_average</th>\n",
              "      <th>company_portfolio</th>\n",
              "      <th>genre_popularity</th>\n",
              "    </tr>\n",
              "  </thead>\n",
              "  <tbody>\n",
              "    <tr>\n",
              "      <th>1118</th>\n",
              "      <td>2011.0</td>\n",
              "      <td>1.0</td>\n",
              "      <td>3.0</td>\n",
              "      <td>1</td>\n",
              "      <td>False</td>\n",
              "      <td>0.871009</td>\n",
              "      <td>0.175084</td>\n",
              "      <td>0.741176</td>\n",
              "      <td>0.007143</td>\n",
              "      <td>0.529801</td>\n",
              "    </tr>\n",
              "    <tr>\n",
              "      <th>4703</th>\n",
              "      <td>2002.0</td>\n",
              "      <td>11.0</td>\n",
              "      <td>4.0</td>\n",
              "      <td>1</td>\n",
              "      <td>False</td>\n",
              "      <td>0.550951</td>\n",
              "      <td>0.124579</td>\n",
              "      <td>0.647059</td>\n",
              "      <td>0.003571</td>\n",
              "      <td>0.855724</td>\n",
              "    </tr>\n",
              "    <tr>\n",
              "      <th>1578</th>\n",
              "      <td>2004.0</td>\n",
              "      <td>4.0</td>\n",
              "      <td>1.0</td>\n",
              "      <td>1</td>\n",
              "      <td>False</td>\n",
              "      <td>0.866542</td>\n",
              "      <td>0.191919</td>\n",
              "      <td>0.741176</td>\n",
              "      <td>0.710714</td>\n",
              "      <td>0.548723</td>\n",
              "    </tr>\n",
              "    <tr>\n",
              "      <th>3918</th>\n",
              "      <td>2013.0</td>\n",
              "      <td>4.0</td>\n",
              "      <td>4.0</td>\n",
              "      <td>1</td>\n",
              "      <td>True</td>\n",
              "      <td>0.722596</td>\n",
              "      <td>0.225589</td>\n",
              "      <td>0.870588</td>\n",
              "      <td>0.075000</td>\n",
              "      <td>0.412961</td>\n",
              "    </tr>\n",
              "    <tr>\n",
              "      <th>3733</th>\n",
              "      <td>2004.0</td>\n",
              "      <td>6.0</td>\n",
              "      <td>6.0</td>\n",
              "      <td>0</td>\n",
              "      <td>True</td>\n",
              "      <td>0.741875</td>\n",
              "      <td>0.245791</td>\n",
              "      <td>0.741176</td>\n",
              "      <td>0.010714</td>\n",
              "      <td>0.179281</td>\n",
              "    </tr>\n",
              "    <tr>\n",
              "      <th>...</th>\n",
              "      <td>...</td>\n",
              "      <td>...</td>\n",
              "      <td>...</td>\n",
              "      <td>...</td>\n",
              "      <td>...</td>\n",
              "      <td>...</td>\n",
              "      <td>...</td>\n",
              "      <td>...</td>\n",
              "      <td>...</td>\n",
              "      <td>...</td>\n",
              "    </tr>\n",
              "    <tr>\n",
              "      <th>1905</th>\n",
              "      <td>2010.0</td>\n",
              "      <td>10.0</td>\n",
              "      <td>4.0</td>\n",
              "      <td>1</td>\n",
              "      <td>False</td>\n",
              "      <td>0.844080</td>\n",
              "      <td>0.222222</td>\n",
              "      <td>0.611765</td>\n",
              "      <td>0.032143</td>\n",
              "      <td>0.627247</td>\n",
              "    </tr>\n",
              "    <tr>\n",
              "      <th>1193</th>\n",
              "      <td>2002.0</td>\n",
              "      <td>1.0</td>\n",
              "      <td>2.0</td>\n",
              "      <td>1</td>\n",
              "      <td>False</td>\n",
              "      <td>0.863358</td>\n",
              "      <td>0.303030</td>\n",
              "      <td>0.858824</td>\n",
              "      <td>0.057143</td>\n",
              "      <td>0.494797</td>\n",
              "    </tr>\n",
              "    <tr>\n",
              "      <th>1237</th>\n",
              "      <td>1999.0</td>\n",
              "      <td>4.0</td>\n",
              "      <td>4.0</td>\n",
              "      <td>1</td>\n",
              "      <td>False</td>\n",
              "      <td>0.907026</td>\n",
              "      <td>0.164983</td>\n",
              "      <td>0.588235</td>\n",
              "      <td>1.000000</td>\n",
              "      <td>0.921949</td>\n",
              "    </tr>\n",
              "    <tr>\n",
              "      <th>1449</th>\n",
              "      <td>2003.0</td>\n",
              "      <td>9.0</td>\n",
              "      <td>4.0</td>\n",
              "      <td>1</td>\n",
              "      <td>True</td>\n",
              "      <td>0.863358</td>\n",
              "      <td>0.205387</td>\n",
              "      <td>0.564706</td>\n",
              "      <td>0.628571</td>\n",
              "      <td>0.626774</td>\n",
              "    </tr>\n",
              "    <tr>\n",
              "      <th>920</th>\n",
              "      <td>1995.0</td>\n",
              "      <td>6.0</td>\n",
              "      <td>4.0</td>\n",
              "      <td>1</td>\n",
              "      <td>False</td>\n",
              "      <td>0.883794</td>\n",
              "      <td>0.228956</td>\n",
              "      <td>0.588235</td>\n",
              "      <td>1.000000</td>\n",
              "      <td>0.494797</td>\n",
              "    </tr>\n",
              "  </tbody>\n",
              "</table>\n",
              "<p>1987 rows × 10 columns</p>\n",
              "</div>"
            ],
            "text/plain": [
              "        year  month  weekday  ... vote_average  company_portfolio  genre_popularity\n",
              "1118  2011.0    1.0      3.0  ...     0.741176           0.007143          0.529801\n",
              "4703  2002.0   11.0      4.0  ...     0.647059           0.003571          0.855724\n",
              "1578  2004.0    4.0      1.0  ...     0.741176           0.710714          0.548723\n",
              "3918  2013.0    4.0      4.0  ...     0.870588           0.075000          0.412961\n",
              "3733  2004.0    6.0      6.0  ...     0.741176           0.010714          0.179281\n",
              "...      ...    ...      ...  ...          ...                ...               ...\n",
              "1905  2010.0   10.0      4.0  ...     0.611765           0.032143          0.627247\n",
              "1193  2002.0    1.0      2.0  ...     0.858824           0.057143          0.494797\n",
              "1237  1999.0    4.0      4.0  ...     0.588235           1.000000          0.921949\n",
              "1449  2003.0    9.0      4.0  ...     0.564706           0.628571          0.626774\n",
              "920   1995.0    6.0      4.0  ...     0.588235           1.000000          0.494797\n",
              "\n",
              "[1987 rows x 10 columns]"
            ]
          },
          "metadata": {
            "tags": []
          },
          "execution_count": 48
        }
      ]
    },
    {
      "cell_type": "code",
      "metadata": {
        "id": "f-5jTv6CcCiX",
        "colab_type": "code",
        "outputId": "693e197d-a5de-4ac3-d99f-e18a82ed32bc",
        "colab": {
          "base_uri": "https://localhost:8080/",
          "height": 85
        }
      },
      "source": [
        "y_test.sample(3)"
      ],
      "execution_count": 49,
      "outputs": [
        {
          "output_type": "execute_result",
          "data": {
            "text/plain": [
              "1405    1.0\n",
              "1684    1.0\n",
              "874     1.0\n",
              "Name: profitable, dtype: float64"
            ]
          },
          "metadata": {
            "tags": []
          },
          "execution_count": 49
        }
      ]
    },
    {
      "cell_type": "markdown",
      "metadata": {
        "id": "Y0vSmM29rEhO",
        "colab_type": "text"
      },
      "source": [
        "# **Neural Network (Perceptron)**"
      ]
    },
    {
      "cell_type": "code",
      "metadata": {
        "id": "_tKLP7oeq-cK",
        "colab_type": "code",
        "outputId": "b0dda671-361c-480a-d8ad-a6abb1606496",
        "colab": {
          "base_uri": "https://localhost:8080/",
          "height": 34
        }
      },
      "source": [
        "!pip install --upgrade tqdm\n",
        "\n",
        "np.random.seed(42)\n",
        "from keras.models import Sequential\n",
        "from keras.layers import Dense, Activation, Dropout\n",
        "from tqdm.keras import TqdmCallback"
      ],
      "execution_count": 50,
      "outputs": [
        {
          "output_type": "stream",
          "text": [
            "Requirement already up-to-date: tqdm in /usr/local/lib/python3.6/dist-packages (4.46.0)\n"
          ],
          "name": "stdout"
        }
      ]
    },
    {
      "cell_type": "code",
      "metadata": {
        "id": "h4fJM5RFtOoQ",
        "colab_type": "code",
        "colab": {}
      },
      "source": [
        "nn = Sequential()\n",
        "nn.add(Dense(64, activation='relu', input_shape=(10,)))\n",
        "nn.add(Dense(32, activation='relu'))\n",
        "nn.add(Dense(32, activation='sigmoid'))\n",
        "nn.add(Dense(1, activation='sigmoid'))"
      ],
      "execution_count": 0,
      "outputs": []
    },
    {
      "cell_type": "code",
      "metadata": {
        "id": "stFfRPIGtPOx",
        "colab_type": "code",
        "outputId": "0f480ca8-cb65-4d0f-8d41-14ecfe4f9e57",
        "colab": {
          "base_uri": "https://localhost:8080/",
          "height": 289
        }
      },
      "source": [
        "nn.summary()"
      ],
      "execution_count": 61,
      "outputs": [
        {
          "output_type": "stream",
          "text": [
            "Model: \"sequential_4\"\n",
            "_________________________________________________________________\n",
            "Layer (type)                 Output Shape              Param #   \n",
            "=================================================================\n",
            "dense_11 (Dense)             (None, 64)                704       \n",
            "_________________________________________________________________\n",
            "dense_12 (Dense)             (None, 32)                2080      \n",
            "_________________________________________________________________\n",
            "dense_13 (Dense)             (None, 32)                1056      \n",
            "_________________________________________________________________\n",
            "dense_14 (Dense)             (None, 1)                 33        \n",
            "=================================================================\n",
            "Total params: 3,873\n",
            "Trainable params: 3,873\n",
            "Non-trainable params: 0\n",
            "_________________________________________________________________\n"
          ],
          "name": "stdout"
        }
      ]
    },
    {
      "cell_type": "code",
      "metadata": {
        "id": "TZW-Mu7mHMeP",
        "colab_type": "code",
        "colab": {}
      },
      "source": [
        "nn.compile(optimizer='sgd',\n",
        "              loss='binary_crossentropy',\n",
        "              metrics=['accuracy'])"
      ],
      "execution_count": 0,
      "outputs": []
    },
    {
      "cell_type": "code",
      "metadata": {
        "id": "3HsHRloqY9QK",
        "colab_type": "code",
        "outputId": "d474868f-6a04-4203-8cf3-7f2a160369e2",
        "colab": {
          "base_uri": "https://localhost:8080/",
          "height": 66,
          "referenced_widgets": [
            "349ea335557140c19454e9884f2382f0",
            "a7a3072a2b0648568e3db7b3cac89bf8",
            "111e6b46bd4849e487cc69c386775c8d",
            "4e7bcfc3ae104ad69d7c26f4d4a3d49b",
            "0579c3e4e569479da49f7fc5962aa557",
            "51c72340ca294cdc9553306ee9e196ab",
            "45038744f0d442cda76ddccce11cd192",
            "b8a5d028389d4d80a1e44f54a07b4bd0",
            "5b5fd98b7e5a4d39be73a0636a61b7d6",
            "d5f079482fc94be3823469386a6990ff",
            "fe98cbfab8404e2090852545a1267cc2",
            "55c6b149ffec4603a52369cb3a3ab9a5",
            "455f0451911b4a0eaeaabaa5dbef2bfa",
            "3d82b12ec8934ad29abaac8335a0ba0e",
            "f44976f927754d27aea6a0f04708da08",
            "60e593dde8844cca9e713b7a13ea276d"
          ]
        }
      },
      "source": [
        "history = nn.fit(X_train, y_train, batch_size=16, epochs=100, validation_data=(X_test, y_test), verbose=0, callbacks=[TqdmCallback()])"
      ],
      "execution_count": 63,
      "outputs": [
        {
          "output_type": "display_data",
          "data": {
            "application/vnd.jupyter.widget-view+json": {
              "model_id": "349ea335557140c19454e9884f2382f0",
              "version_minor": 0,
              "version_major": 2
            },
            "text/plain": [
              "HBox(children=(FloatProgress(value=1.0, bar_style='info', max=1.0), HTML(value='')))"
            ]
          },
          "metadata": {
            "tags": []
          }
        },
        {
          "output_type": "display_data",
          "data": {
            "application/vnd.jupyter.widget-view+json": {
              "model_id": "5b5fd98b7e5a4d39be73a0636a61b7d6",
              "version_minor": 0,
              "version_major": 2
            },
            "text/plain": [
              "HBox(children=(FloatProgress(value=1.0, bar_style='info', max=1.0), HTML(value='')))"
            ]
          },
          "metadata": {
            "tags": []
          }
        },
        {
          "output_type": "stream",
          "text": [
            "\n"
          ],
          "name": "stdout"
        }
      ]
    },
    {
      "cell_type": "code",
      "metadata": {
        "id": "bybMc-Y7Zr3v",
        "colab_type": "code",
        "outputId": "efcca3cd-d100-4f4b-ee2d-6373e8bac327",
        "colab": {
          "base_uri": "https://localhost:8080/",
          "height": 350
        }
      },
      "source": [
        "plt.figure(figsize=(15,5))\n",
        "plt.plot(history.history['loss'], label='Train')\n",
        "plt.plot(history.history['val_loss'], label='Test')\n",
        "plt.title(f'Min test loss : %.4f epoch: %s' % (np.min((history.history['loss'])), np.argmin(history.history['val_loss'])))\n",
        "plt.ylabel('Accuracy value')\n",
        "plt.xlabel('No. epoch')\n",
        "plt.legend(loc=\"upper left\")\n",
        "plt.show()"
      ],
      "execution_count": 65,
      "outputs": [
        {
          "output_type": "display_data",
          "data": {
            "image/png": "[encoded data removed]",
            "text/plain": [
              "<Figure size 1080x360 with 1 Axes>"
            ]
          },
          "metadata": {
            "tags": [],
            "needs_background": "light"
          }
        }
      ]
    },
    {
      "cell_type": "code",
      "metadata": {
        "id": "5S0LCR4Lp2n_",
        "colab_type": "code",
        "colab": {
          "base_uri": "https://localhost:8080/",
          "height": 34
        },
        "outputId": "fe3404d2-f689-443f-faca-c8ae1f98491b"
      },
      "source": [
        "print('Accuracy of Keras model: 0.5530951, Accuracy of hand-made model: 0.441314')"
      ],
      "execution_count": 72,
      "outputs": [
        {
          "output_type": "stream",
          "text": [
            "Accuracy of Keras model: 0.5530951, Accuracy of hand-made model: 0.441314\n"
          ],
          "name": "stdout"
        }
      ]
    }
  ]
}