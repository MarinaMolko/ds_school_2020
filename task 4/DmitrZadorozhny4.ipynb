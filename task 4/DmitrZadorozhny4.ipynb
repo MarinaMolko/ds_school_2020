{
 "cells": [
  {
   "cell_type": "code",
   "execution_count": 274,
   "metadata": {},
   "outputs": [],
   "source": [
    "import numpy as np\n",
    "import pandas as pd\n",
    "from scipy.special import expit\n",
    "from imblearn.over_sampling import SMOTE"
   ]
  },
  {
   "cell_type": "code",
   "execution_count": 275,
   "metadata": {},
   "outputs": [],
   "source": [
    "# I relied on this book: Tariq Rashid, Make your own neural network\n",
    "# https://github.com/makeyourownneuralnetwork/makeyourownneuralnetwork/blob/master/part2_neural_network.ipynb"
   ]
  },
  {
   "cell_type": "code",
   "execution_count": 276,
   "metadata": {},
   "outputs": [],
   "source": [
    "data=pd.read_csv('Roonyx/winequality-red.csv')"
   ]
  },
  {
   "cell_type": "code",
   "execution_count": 277,
   "metadata": {
    "scrolled": true
   },
   "outputs": [
    {
     "data": {
      "text/html": [
       "<div>\n",
       "<style scoped>\n",
       "    .dataframe tbody tr th:only-of-type {\n",
       "        vertical-align: middle;\n",
       "    }\n",
       "\n",
       "    .dataframe tbody tr th {\n",
       "        vertical-align: top;\n",
       "    }\n",
       "\n",
       "    .dataframe thead th {\n",
       "        text-align: right;\n",
       "    }\n",
       "</style>\n",
       "<table border=\"1\" class=\"dataframe\">\n",
       "  <thead>\n",
       "    <tr style=\"text-align: right;\">\n",
       "      <th></th>\n",
       "      <th>fixed acidity</th>\n",
       "      <th>volatile acidity</th>\n",
       "      <th>citric acid</th>\n",
       "      <th>residual sugar</th>\n",
       "      <th>chlorides</th>\n",
       "      <th>free sulfur dioxide</th>\n",
       "      <th>total sulfur dioxide</th>\n",
       "      <th>density</th>\n",
       "      <th>pH</th>\n",
       "      <th>sulphates</th>\n",
       "      <th>alcohol</th>\n",
       "      <th>quality</th>\n",
       "    </tr>\n",
       "  </thead>\n",
       "  <tbody>\n",
       "    <tr>\n",
       "      <td>0</td>\n",
       "      <td>7.4</td>\n",
       "      <td>0.70</td>\n",
       "      <td>0.0</td>\n",
       "      <td>1.9</td>\n",
       "      <td>0.076</td>\n",
       "      <td>11.0</td>\n",
       "      <td>34.0</td>\n",
       "      <td>0.9978</td>\n",
       "      <td>3.51</td>\n",
       "      <td>0.56</td>\n",
       "      <td>9.4</td>\n",
       "      <td>5</td>\n",
       "    </tr>\n",
       "    <tr>\n",
       "      <td>1</td>\n",
       "      <td>7.8</td>\n",
       "      <td>0.88</td>\n",
       "      <td>0.0</td>\n",
       "      <td>2.6</td>\n",
       "      <td>0.098</td>\n",
       "      <td>25.0</td>\n",
       "      <td>67.0</td>\n",
       "      <td>0.9968</td>\n",
       "      <td>3.20</td>\n",
       "      <td>0.68</td>\n",
       "      <td>9.8</td>\n",
       "      <td>5</td>\n",
       "    </tr>\n",
       "  </tbody>\n",
       "</table>\n",
       "</div>"
      ],
      "text/plain": [
       "   fixed acidity  volatile acidity  citric acid  residual sugar  chlorides  \\\n",
       "0            7.4              0.70          0.0             1.9      0.076   \n",
       "1            7.8              0.88          0.0             2.6      0.098   \n",
       "\n",
       "   free sulfur dioxide  total sulfur dioxide  density    pH  sulphates  \\\n",
       "0                 11.0                  34.0   0.9978  3.51       0.56   \n",
       "1                 25.0                  67.0   0.9968  3.20       0.68   \n",
       "\n",
       "   alcohol  quality  \n",
       "0      9.4        5  \n",
       "1      9.8        5  "
      ]
     },
     "execution_count": 277,
     "metadata": {},
     "output_type": "execute_result"
    }
   ],
   "source": [
    "data.head(2)"
   ]
  },
  {
   "cell_type": "code",
   "execution_count": 278,
   "metadata": {},
   "outputs": [],
   "source": [
    "X=data.iloc[:,0:11].values\n",
    "Y=data.loc[:,'quality'].values "
   ]
  },
  {
   "cell_type": "code",
   "execution_count": 279,
   "metadata": {},
   "outputs": [],
   "source": [
    "sm=SMOTE(random_state=3)"
   ]
  },
  {
   "cell_type": "code",
   "execution_count": 280,
   "metadata": {},
   "outputs": [],
   "source": [
    "X, Y = sm.fit_sample(X, Y)"
   ]
  },
  {
   "cell_type": "code",
   "execution_count": 281,
   "metadata": {},
   "outputs": [],
   "source": [
    "from sklearn.model_selection import train_test_split\n",
    "X_train, X_test, Y_train, Y_test = train_test_split(\n",
    "    X, Y, test_size=0.2, random_state=42)"
   ]
  },
  {
   "cell_type": "code",
   "execution_count": 282,
   "metadata": {},
   "outputs": [],
   "source": [
    "Y_train=Y_train-3 \n",
    "Y_test=Y_test-3\n",
    "#it means: \n",
    "#0 output node->quality 3\n",
    "#1 node->quality 4 e.t.c"
   ]
  },
  {
   "cell_type": "code",
   "execution_count": 283,
   "metadata": {},
   "outputs": [
    {
     "data": {
      "text/plain": [
       "array([[0.82935484, 0.38341772, 0.51211338, ..., 0.77923077, 0.41217639,\n",
       "        0.67428571],\n",
       "       [0.50032258, 0.35177215, 0.15505498, ..., 0.87923077, 0.360468  ,\n",
       "        0.68142857],\n",
       "       [0.71039109, 0.26038366, 0.53442953, ..., 0.84759267, 0.45621635,\n",
       "        0.8489415 ],\n",
       "       ...,\n",
       "       [0.46275443, 0.54882084, 0.05890253, ..., 0.88970894, 0.32176383,\n",
       "        0.73489704],\n",
       "       [0.43694142, 0.38804568, 0.01072895, ..., 0.93317983, 0.36471202,\n",
       "        0.8290954 ],\n",
       "       [0.48741935, 0.34544304, 0.30010995, ..., 0.81769231, 0.33748649,\n",
       "        0.68142857]])"
      ]
     },
     "execution_count": 283,
     "metadata": {},
     "output_type": "execute_result"
    }
   ],
   "source": [
    "for i in range(11):\n",
    "    X_test[:,i]/=np.max(X_test[:,i])\n",
    "    X_test[:,i]+=0.01\n",
    "X_test #normalize for sigmoid [0.01,1.0]"
   ]
  },
  {
   "cell_type": "code",
   "execution_count": 284,
   "metadata": {
    "scrolled": true
   },
   "outputs": [
    {
     "data": {
      "text/plain": [
       "array([[0.4856124 , 0.98171562, 0.01377629, ..., 0.88093452, 0.21453155,\n",
       "        0.73799543],\n",
       "       [0.4372072 , 0.30834879, 0.16407562, ..., 0.85803441, 0.26240808,\n",
       "        0.7510726 ],\n",
       "       [0.52617619, 0.38969862, 0.24247952, ..., 0.80265829, 0.54564036,\n",
       "        0.62463081],\n",
       "       ...,\n",
       "       [0.46283019, 0.40460421, 0.07      , ..., 0.88531172, 0.28      ,\n",
       "        0.64758389],\n",
       "       [0.6120111 , 0.2814778 , 0.46345555, ..., 0.80055942, 0.34910029,\n",
       "        0.80503474],\n",
       "       [0.66425622, 0.24444192, 0.50314811, ..., 0.78388834, 0.42383748,\n",
       "        0.71635516]])"
      ]
     },
     "execution_count": 284,
     "metadata": {},
     "output_type": "execute_result"
    }
   ],
   "source": [
    "for i in range(11):\n",
    "    X_train[:,i]/=np.max(X_train[:,i])\n",
    "    X_train[:,i]+=0.01\n",
    "X_train #normalize for sigmoid [0.01,1.0]"
   ]
  },
  {
   "cell_type": "code",
   "execution_count": 285,
   "metadata": {},
   "outputs": [],
   "source": [
    "# X_train,X_test,Y_train,Y_test"
   ]
  },
  {
   "cell_type": "code",
   "execution_count": 286,
   "metadata": {},
   "outputs": [
    {
     "data": {
      "text/html": [
       "<div>\n",
       "<style scoped>\n",
       "    .dataframe tbody tr th:only-of-type {\n",
       "        vertical-align: middle;\n",
       "    }\n",
       "\n",
       "    .dataframe tbody tr th {\n",
       "        vertical-align: top;\n",
       "    }\n",
       "\n",
       "    .dataframe thead th {\n",
       "        text-align: right;\n",
       "    }\n",
       "</style>\n",
       "<table border=\"1\" class=\"dataframe\">\n",
       "  <thead>\n",
       "    <tr style=\"text-align: right;\">\n",
       "      <th></th>\n",
       "      <th>0</th>\n",
       "      <th>1</th>\n",
       "      <th>2</th>\n",
       "      <th>3</th>\n",
       "      <th>4</th>\n",
       "      <th>5</th>\n",
       "      <th>6</th>\n",
       "      <th>7</th>\n",
       "      <th>8</th>\n",
       "      <th>9</th>\n",
       "      <th>10</th>\n",
       "      <th>quality</th>\n",
       "    </tr>\n",
       "  </thead>\n",
       "  <tbody>\n",
       "    <tr>\n",
       "      <td>0</td>\n",
       "      <td>0.485612</td>\n",
       "      <td>0.981716</td>\n",
       "      <td>0.013776</td>\n",
       "      <td>0.163025</td>\n",
       "      <td>0.227424</td>\n",
       "      <td>0.077347</td>\n",
       "      <td>0.042449</td>\n",
       "      <td>1.001353</td>\n",
       "      <td>0.880935</td>\n",
       "      <td>0.214532</td>\n",
       "      <td>0.737995</td>\n",
       "      <td>0</td>\n",
       "    </tr>\n",
       "    <tr>\n",
       "      <td>1</td>\n",
       "      <td>0.437207</td>\n",
       "      <td>0.308349</td>\n",
       "      <td>0.164076</td>\n",
       "      <td>0.133935</td>\n",
       "      <td>0.157603</td>\n",
       "      <td>0.065556</td>\n",
       "      <td>0.035460</td>\n",
       "      <td>1.000728</td>\n",
       "      <td>0.858034</td>\n",
       "      <td>0.262408</td>\n",
       "      <td>0.751073</td>\n",
       "      <td>1</td>\n",
       "    </tr>\n",
       "    <tr>\n",
       "      <td>2</td>\n",
       "      <td>0.526176</td>\n",
       "      <td>0.389699</td>\n",
       "      <td>0.242480</td>\n",
       "      <td>0.115006</td>\n",
       "      <td>0.139604</td>\n",
       "      <td>0.376945</td>\n",
       "      <td>0.407716</td>\n",
       "      <td>1.003534</td>\n",
       "      <td>0.802658</td>\n",
       "      <td>0.545640</td>\n",
       "      <td>0.624631</td>\n",
       "      <td>1</td>\n",
       "    </tr>\n",
       "    <tr>\n",
       "      <td>3</td>\n",
       "      <td>0.514063</td>\n",
       "      <td>0.637239</td>\n",
       "      <td>0.037135</td>\n",
       "      <td>0.264645</td>\n",
       "      <td>0.146701</td>\n",
       "      <td>0.083424</td>\n",
       "      <td>0.050531</td>\n",
       "      <td>1.005048</td>\n",
       "      <td>0.873086</td>\n",
       "      <td>0.258567</td>\n",
       "      <td>0.735486</td>\n",
       "      <td>0</td>\n",
       "    </tr>\n",
       "  </tbody>\n",
       "</table>\n",
       "</div>"
      ],
      "text/plain": [
       "          0         1         2         3         4         5         6  \\\n",
       "0  0.485612  0.981716  0.013776  0.163025  0.227424  0.077347  0.042449   \n",
       "1  0.437207  0.308349  0.164076  0.133935  0.157603  0.065556  0.035460   \n",
       "2  0.526176  0.389699  0.242480  0.115006  0.139604  0.376945  0.407716   \n",
       "3  0.514063  0.637239  0.037135  0.264645  0.146701  0.083424  0.050531   \n",
       "\n",
       "          7         8         9        10  quality  \n",
       "0  1.001353  0.880935  0.214532  0.737995        0  \n",
       "1  1.000728  0.858034  0.262408  0.751073        1  \n",
       "2  1.003534  0.802658  0.545640  0.624631        1  \n",
       "3  1.005048  0.873086  0.258567  0.735486        0  "
      ]
     },
     "execution_count": 286,
     "metadata": {},
     "output_type": "execute_result"
    }
   ],
   "source": [
    "framex=pd.DataFrame(X_train) #new train set\n",
    "framex['quality']=Y_train\n",
    "framex.head(4)"
   ]
  },
  {
   "cell_type": "code",
   "execution_count": 287,
   "metadata": {},
   "outputs": [],
   "source": [
    "framex=framex.sample(frac=1)#mix it"
   ]
  },
  {
   "cell_type": "code",
   "execution_count": 288,
   "metadata": {},
   "outputs": [
    {
     "data": {
      "text/html": [
       "<div>\n",
       "<style scoped>\n",
       "    .dataframe tbody tr th:only-of-type {\n",
       "        vertical-align: middle;\n",
       "    }\n",
       "\n",
       "    .dataframe tbody tr th {\n",
       "        vertical-align: top;\n",
       "    }\n",
       "\n",
       "    .dataframe thead th {\n",
       "        text-align: right;\n",
       "    }\n",
       "</style>\n",
       "<table border=\"1\" class=\"dataframe\">\n",
       "  <thead>\n",
       "    <tr style=\"text-align: right;\">\n",
       "      <th></th>\n",
       "      <th>0</th>\n",
       "      <th>1</th>\n",
       "      <th>2</th>\n",
       "      <th>3</th>\n",
       "      <th>4</th>\n",
       "      <th>5</th>\n",
       "      <th>6</th>\n",
       "      <th>7</th>\n",
       "      <th>8</th>\n",
       "      <th>9</th>\n",
       "      <th>10</th>\n",
       "      <th>quality</th>\n",
       "    </tr>\n",
       "  </thead>\n",
       "  <tbody>\n",
       "    <tr>\n",
       "      <td>3251</td>\n",
       "      <td>0.599491</td>\n",
       "      <td>0.230939</td>\n",
       "      <td>0.474581</td>\n",
       "      <td>0.153438</td>\n",
       "      <td>0.122917</td>\n",
       "      <td>0.148889</td>\n",
       "      <td>0.094762</td>\n",
       "      <td>1.001959</td>\n",
       "      <td>0.818656</td>\n",
       "      <td>0.426317</td>\n",
       "      <td>0.808556</td>\n",
       "      <td>4</td>\n",
       "    </tr>\n",
       "    <tr>\n",
       "      <td>750</td>\n",
       "      <td>0.614360</td>\n",
       "      <td>0.496491</td>\n",
       "      <td>0.323038</td>\n",
       "      <td>0.177063</td>\n",
       "      <td>0.265850</td>\n",
       "      <td>0.084674</td>\n",
       "      <td>0.058849</td>\n",
       "      <td>1.005546</td>\n",
       "      <td>0.828076</td>\n",
       "      <td>0.298644</td>\n",
       "      <td>0.639459</td>\n",
       "      <td>0</td>\n",
       "    </tr>\n",
       "    <tr>\n",
       "      <td>1573</td>\n",
       "      <td>0.575980</td>\n",
       "      <td>0.272077</td>\n",
       "      <td>0.496544</td>\n",
       "      <td>0.129927</td>\n",
       "      <td>0.126891</td>\n",
       "      <td>0.108390</td>\n",
       "      <td>0.065654</td>\n",
       "      <td>1.000773</td>\n",
       "      <td>0.810289</td>\n",
       "      <td>0.356261</td>\n",
       "      <td>0.852313</td>\n",
       "      <td>5</td>\n",
       "    </tr>\n",
       "    <tr>\n",
       "      <td>1946</td>\n",
       "      <td>0.758428</td>\n",
       "      <td>0.379146</td>\n",
       "      <td>0.670000</td>\n",
       "      <td>0.171290</td>\n",
       "      <td>0.127840</td>\n",
       "      <td>0.093333</td>\n",
       "      <td>0.138028</td>\n",
       "      <td>1.005527</td>\n",
       "      <td>0.770599</td>\n",
       "      <td>0.290000</td>\n",
       "      <td>0.681141</td>\n",
       "      <td>2</td>\n",
       "    </tr>\n",
       "  </tbody>\n",
       "</table>\n",
       "</div>"
      ],
      "text/plain": [
       "             0         1         2         3         4         5         6  \\\n",
       "3251  0.599491  0.230939  0.474581  0.153438  0.122917  0.148889  0.094762   \n",
       "750   0.614360  0.496491  0.323038  0.177063  0.265850  0.084674  0.058849   \n",
       "1573  0.575980  0.272077  0.496544  0.129927  0.126891  0.108390  0.065654   \n",
       "1946  0.758428  0.379146  0.670000  0.171290  0.127840  0.093333  0.138028   \n",
       "\n",
       "             7         8         9        10  quality  \n",
       "3251  1.001959  0.818656  0.426317  0.808556        4  \n",
       "750   1.005546  0.828076  0.298644  0.639459        0  \n",
       "1573  1.000773  0.810289  0.356261  0.852313        5  \n",
       "1946  1.005527  0.770599  0.290000  0.681141        2  "
      ]
     },
     "execution_count": 288,
     "metadata": {},
     "output_type": "execute_result"
    }
   ],
   "source": [
    "framex.head(4)"
   ]
  },
  {
   "cell_type": "code",
   "execution_count": 289,
   "metadata": {},
   "outputs": [
    {
     "data": {
      "text/html": [
       "<div>\n",
       "<style scoped>\n",
       "    .dataframe tbody tr th:only-of-type {\n",
       "        vertical-align: middle;\n",
       "    }\n",
       "\n",
       "    .dataframe tbody tr th {\n",
       "        vertical-align: top;\n",
       "    }\n",
       "\n",
       "    .dataframe thead th {\n",
       "        text-align: right;\n",
       "    }\n",
       "</style>\n",
       "<table border=\"1\" class=\"dataframe\">\n",
       "  <thead>\n",
       "    <tr style=\"text-align: right;\">\n",
       "      <th></th>\n",
       "      <th>0</th>\n",
       "      <th>1</th>\n",
       "      <th>2</th>\n",
       "      <th>3</th>\n",
       "      <th>4</th>\n",
       "      <th>5</th>\n",
       "      <th>6</th>\n",
       "      <th>7</th>\n",
       "      <th>8</th>\n",
       "      <th>9</th>\n",
       "      <th>10</th>\n",
       "      <th>quality</th>\n",
       "    </tr>\n",
       "  </thead>\n",
       "  <tbody>\n",
       "    <tr>\n",
       "      <td>0</td>\n",
       "      <td>0.599491</td>\n",
       "      <td>0.230939</td>\n",
       "      <td>0.474581</td>\n",
       "      <td>0.153438</td>\n",
       "      <td>0.122917</td>\n",
       "      <td>0.148889</td>\n",
       "      <td>0.094762</td>\n",
       "      <td>1.001959</td>\n",
       "      <td>0.818656</td>\n",
       "      <td>0.426317</td>\n",
       "      <td>0.808556</td>\n",
       "      <td>4</td>\n",
       "    </tr>\n",
       "    <tr>\n",
       "      <td>1</td>\n",
       "      <td>0.614360</td>\n",
       "      <td>0.496491</td>\n",
       "      <td>0.323038</td>\n",
       "      <td>0.177063</td>\n",
       "      <td>0.265850</td>\n",
       "      <td>0.084674</td>\n",
       "      <td>0.058849</td>\n",
       "      <td>1.005546</td>\n",
       "      <td>0.828076</td>\n",
       "      <td>0.298644</td>\n",
       "      <td>0.639459</td>\n",
       "      <td>0</td>\n",
       "    </tr>\n",
       "  </tbody>\n",
       "</table>\n",
       "</div>"
      ],
      "text/plain": [
       "          0         1         2         3         4         5         6  \\\n",
       "0  0.599491  0.230939  0.474581  0.153438  0.122917  0.148889  0.094762   \n",
       "1  0.614360  0.496491  0.323038  0.177063  0.265850  0.084674  0.058849   \n",
       "\n",
       "          7         8         9        10  quality  \n",
       "0  1.001959  0.818656  0.426317  0.808556        4  \n",
       "1  1.005546  0.828076  0.298644  0.639459        0  "
      ]
     },
     "execution_count": 289,
     "metadata": {},
     "output_type": "execute_result"
    }
   ],
   "source": [
    "framex=framex.reset_index(drop=True)#return indexes\n",
    "framex.head(2)"
   ]
  },
  {
   "cell_type": "code",
   "execution_count": 290,
   "metadata": {},
   "outputs": [],
   "source": [
    "X_new=framex.iloc[:,0:11].values\n",
    "Y_new=framex.loc[:,'quality'].values #final train sets"
   ]
  },
  {
   "cell_type": "code",
   "execution_count": 291,
   "metadata": {},
   "outputs": [],
   "source": [
    "#X_new,Y_new"
   ]
  },
  {
   "cell_type": "code",
   "execution_count": 292,
   "metadata": {},
   "outputs": [],
   "source": [
    "class NeuralNetwork:\n",
    "    \n",
    "    def __init__(self,input_nodes,hidden_nodes,output_nodes,learning_rate):\n",
    "        self.input=input_nodes\n",
    "        self.hidden=hidden_nodes\n",
    "        self.output=output_nodes\n",
    "        self.lr=learning_rate\n",
    "        self.wih=np.random.normal(0.0,self.input**-0.5,(self.hidden,self.input)) #w_input_hidden1 \n",
    "        \n",
    "        \n",
    "        self.whh=np.random.normal(0.0,self.hidden**-0.5,(self.hidden,self.hidden)) #w_hidden1_hidden2\n",
    "        \n",
    "        self.who=np.random.normal(0.0,self.hidden**-0.5,(self.output,self.hidden)) #w_hidden2_output\n",
    "       \n",
    "    \n",
    "        pass\n",
    "        \n",
    "    \n",
    "    def train(self,X,Y):\n",
    "        x=np.reshape(X,(11,1)) #1 object, 11 features\n",
    "        y=np.reshape(Y,(6,1)) # 6 nodes for 6 classes\n",
    "        hidden_inputs=np.dot(self.wih,x) # w_input_hidden1 * inputs\n",
    "        hidden_outputs=expit(hidden_inputs) #sigmoid\n",
    "        \n",
    "        hidden_inputs2=np.dot(self.whh,hidden_outputs) #w_hidden1_hidden2 * hidden1_out\n",
    "        hidden_outputs2=expit(hidden_inputs2)\n",
    "        \n",
    "        final_inputs=np.dot(self.who,hidden_outputs2)#w_hidden2_output * hidden2_out\n",
    "        final_outputs=expit(final_inputs)\n",
    "        \n",
    "        output_errors=y-final_outputs #errors [6,1]\n",
    "        \n",
    "        \n",
    "        hidden_errors2=np.dot(self.who.T,output_errors)# errors in hiiden2 nodes\n",
    "        \n",
    "        self.who+=2*self.lr*np.dot((output_errors*final_outputs * (1.0-final_outputs)),hidden_outputs2.T)\n",
    "        #it`s derivative: 2*(error)*Ok(1-Ok)*Oj.T and lr -> learning rate\n",
    "        \n",
    "        self.whh+=2*self.lr*np.dot((hidden_errors2 * hidden_outputs2 * (1.0-hidden_outputs2)),hidden_outputs.T)\n",
    "        \n",
    "        hidden_errors=np.dot(self.whh.T,hidden_errors2)# errors in hidden1 nodes\n",
    "        \n",
    "        self.wih+=2*self.lr*np.dot((hidden_errors2 * hidden_outputs * (1.0-hidden_outputs)),x.T)\n",
    "        \n",
    "        pass\n",
    "    \n",
    "    \n",
    "    def predict(self,X):\n",
    "        x=np.reshape(X,(11,1))\n",
    "        hidden_inputs=np.dot(self.wih,x)\n",
    "        hidden_outputs=expit(hidden_inputs)\n",
    "        \n",
    "        hidden_inputs2=np.dot(self.whh,hidden_outputs)\n",
    "        hidden_outputs2=expit(hidden_inputs2)\n",
    "        \n",
    "        final_inputs=np.dot(self.who,hidden_outputs2)\n",
    "        final_outputs=expit(final_inputs)    \n",
    "        return final_outputs\n",
    "    \n",
    "            \n",
    "    \n",
    "        \n",
    "    "
   ]
  },
  {
   "cell_type": "code",
   "execution_count": 293,
   "metadata": {},
   "outputs": [],
   "source": [
    "D8=NeuralNetwork(11,10,6,0.15)#11 input nodes, 3 hidden nodes in each one(6), 6 output nodes"
   ]
  },
  {
   "cell_type": "code",
   "execution_count": 300,
   "metadata": {},
   "outputs": [
    {
     "name": "stdout",
     "output_type": "stream",
     "text": [
      "Wall time: 1.2 s\n"
     ]
    }
   ],
   "source": [
    "%%time\n",
    "#train\n",
    "for e in range(5):#epochs\n",
    "    i=0\n",
    "    for one_object in X_new:#for every object \n",
    "        targets=np.zeros(6)+0.01 #target value of this object\n",
    "        targets[Y_new[i]]=0.99 #for example target is 3 -> [0.99, 0.01, 0.01, 0.01, 0.01, 0.01]\n",
    "        D8.train(one_object,targets)\n",
    "        i+=1 #new target for new object"
   ]
  },
  {
   "cell_type": "code",
   "execution_count": 301,
   "metadata": {},
   "outputs": [
    {
     "name": "stdout",
     "output_type": "stream",
     "text": [
      "Accuracy= 0.5651774785801713\n"
     ]
    }
   ],
   "source": [
    "#predictions on the train set\n",
    "i=0\n",
    "score=[]\n",
    "for test in X_new:\n",
    "    targets=np.zeros(6)+0.01\n",
    "    targets[Y_new[i]]=0.99\n",
    "    correct_answer=Y_new[i]+3\n",
    "    \n",
    "    pred=D8.predict(test)\n",
    "    label =np.argmax(pred)+3\n",
    "    \n",
    "    if (label==correct_answer): #if prediction is true append 1, else eappend 0\n",
    "        score.append(1)\n",
    "    else:\n",
    "        score.append(0)\n",
    "    i+=1\n",
    "score=np.array(score)   \n",
    "print('Accuracy=',score.sum()/score.size)\n",
    "    "
   ]
  },
  {
   "cell_type": "code",
   "execution_count": 302,
   "metadata": {},
   "outputs": [
    {
     "name": "stdout",
     "output_type": "stream",
     "text": [
      "Accuracy= 0.5513447432762836\n"
     ]
    }
   ],
   "source": [
    "#predictions on the test set\n",
    "i=0\n",
    "score=[]\n",
    "for test in X_test:\n",
    "    targets=np.zeros(6)+0.01\n",
    "    targets[Y_test[i]]=0.99\n",
    "    correct_answer=Y_test[i]+3\n",
    "    \n",
    "    pred=D8.predict(test)\n",
    "    label =np.argmax(pred)+3\n",
    "    \n",
    "    if (label==correct_answer): #if prediction is true append 1, else eappend 0\n",
    "        score.append(1)\n",
    "    else:\n",
    "        score.append(0)\n",
    "    i+=1\n",
    "score=np.array(score)   \n",
    "print('Accuracy=',score.sum()/score.size)"
   ]
  },
  {
   "cell_type": "markdown",
   "metadata": {},
   "source": [
    "## Keras"
   ]
  },
  {
   "cell_type": "code",
   "execution_count": 210,
   "metadata": {},
   "outputs": [],
   "source": [
    "import keras\n",
    "from keras.utils import np_utils\n",
    "Y_new = np_utils.to_categorical(Y_new,6)\n",
    "Y_test = np_utils.to_categorical(Y_test,6)"
   ]
  },
  {
   "cell_type": "code",
   "execution_count": 211,
   "metadata": {},
   "outputs": [],
   "source": [
    "from keras import models\n",
    "from keras import layers\n",
    "from keras import regularizers"
   ]
  },
  {
   "cell_type": "code",
   "execution_count": 271,
   "metadata": {},
   "outputs": [],
   "source": [
    "network = models.Sequential()\n",
    "network.add(layers.InputLayer([11])) #11 input nodes\n",
    "network.add(layers.Dense(10, activation='sigmoid')) #hidden nodes\n",
    "network.add(layers.Dense(10, activation='sigmoid')) #hidden nodes\n",
    "network.add(layers.Dense(6, activation='softmax')) #output nodes"
   ]
  },
  {
   "cell_type": "code",
   "execution_count": 272,
   "metadata": {},
   "outputs": [],
   "source": [
    "from keras import optimizers\n",
    "sgd = optimizers.SGD(lr=0.15, decay=1e-6, momentum=0.9, nesterov=True)\n",
    "network.compile(optimizer=sgd, loss='categorical_crossentropy',\n",
    "                metrics=['accuracy'])"
   ]
  },
  {
   "cell_type": "code",
   "execution_count": 273,
   "metadata": {},
   "outputs": [
    {
     "name": "stdout",
     "output_type": "stream",
     "text": [
      "Epoch 1/25\n",
      "3268/3268 [==============================] - 1s 181us/step - loss: 1.8225 - accuracy: 0.1631\n",
      "Epoch 2/25\n",
      "3268/3268 [==============================] - 0s 116us/step - loss: 1.4896 - accuracy: 0.3228\n",
      "Epoch 3/25\n",
      "3268/3268 [==============================] - 0s 113us/step - loss: 1.2574 - accuracy: 0.4113\n",
      "Epoch 4/25\n",
      "3268/3268 [==============================] - 0s 113us/step - loss: 1.2060 - accuracy: 0.4510\n",
      "Epoch 5/25\n",
      "3268/3268 [==============================] - 0s 114us/step - loss: 1.1797 - accuracy: 0.4584\n",
      "Epoch 6/25\n",
      "3268/3268 [==============================] - 0s 115us/step - loss: 1.1576 - accuracy: 0.4841\n",
      "Epoch 7/25\n",
      "3268/3268 [==============================] - 0s 114us/step - loss: 1.1381 - accuracy: 0.5003\n",
      "Epoch 8/25\n",
      "3268/3268 [==============================] - 0s 115us/step - loss: 1.1203 - accuracy: 0.5046\n",
      "Epoch 9/25\n",
      "3268/3268 [==============================] - 0s 113us/step - loss: 1.1101 - accuracy: 0.5144\n",
      "Epoch 10/25\n",
      "3268/3268 [==============================] - 0s 113us/step - loss: 1.1034 - accuracy: 0.5190\n",
      "Epoch 11/25\n",
      "3268/3268 [==============================] - 0s 115us/step - loss: 1.0931 - accuracy: 0.5132\n",
      "Epoch 12/25\n",
      "3268/3268 [==============================] - 0s 114us/step - loss: 1.0772 - accuracy: 0.5248\n",
      "Epoch 13/25\n",
      "3268/3268 [==============================] - 0s 114us/step - loss: 1.0652 - accuracy: 0.5321\n",
      "Epoch 14/25\n",
      "3268/3268 [==============================] - 0s 116us/step - loss: 1.0453 - accuracy: 0.5511\n",
      "Epoch 15/25\n",
      "3268/3268 [==============================] - 0s 113us/step - loss: 1.0250 - accuracy: 0.5569\n",
      "Epoch 16/25\n",
      "3268/3268 [==============================] - 0s 114us/step - loss: 1.0200 - accuracy: 0.5581\n",
      "Epoch 17/25\n",
      "3268/3268 [==============================] - 0s 113us/step - loss: 1.0297 - accuracy: 0.5563\n",
      "Epoch 18/25\n",
      "3268/3268 [==============================] - 0s 116us/step - loss: 1.0017 - accuracy: 0.5664\n",
      "Epoch 19/25\n",
      "3268/3268 [==============================] - 0s 113us/step - loss: 0.9988 - accuracy: 0.5744\n",
      "Epoch 20/25\n",
      "3268/3268 [==============================] - 0s 121us/step - loss: 0.9923 - accuracy: 0.5698\n",
      "Epoch 21/25\n",
      "3268/3268 [==============================] - 0s 114us/step - loss: 0.9764 - accuracy: 0.5780\n",
      "Epoch 22/25\n",
      "3268/3268 [==============================] - 0s 115us/step - loss: 0.9633 - accuracy: 0.5866\n",
      "Epoch 23/25\n",
      "3268/3268 [==============================] - 0s 114us/step - loss: 0.9609 - accuracy: 0.5909\n",
      "Epoch 24/25\n",
      "3268/3268 [==============================] - 0s 114us/step - loss: 0.9630 - accuracy: 0.5952\n",
      "Epoch 25/25\n",
      "3268/3268 [==============================] - 0s 110us/step - loss: 0.9465 - accuracy: 0.6007\n",
      "Wall time: 9.98 s\n"
     ]
    },
    {
     "data": {
      "text/plain": [
       "<keras.callbacks.callbacks.History at 0x2691ab7b4c8>"
      ]
     },
     "execution_count": 273,
     "metadata": {},
     "output_type": "execute_result"
    }
   ],
   "source": [
    "%%time\n",
    "network.fit(X_new, Y_new, epochs=25, batch_size=10)"
   ]
  },
  {
   "cell_type": "code",
   "execution_count": 263,
   "metadata": {},
   "outputs": [
    {
     "name": "stdout",
     "output_type": "stream",
     "text": [
      "818/818 [==============================] - 0s 98us/step\n"
     ]
    }
   ],
   "source": [
    "test_loss, test_acc = network.evaluate(X_test, Y_test)"
   ]
  },
  {
   "cell_type": "code",
   "execution_count": 264,
   "metadata": {},
   "outputs": [
    {
     "data": {
      "text/plain": [
       "0.57334965467453"
      ]
     },
     "execution_count": 264,
     "metadata": {},
     "output_type": "execute_result"
    }
   ],
   "source": [
    "test_acc"
   ]
  },
  {
   "cell_type": "markdown",
   "metadata": {},
   "source": [
    "## Conclusion"
   ]
  },
  {
   "cell_type": "markdown",
   "metadata": {},
   "source": [
    "1) NN on Pyton + Numpy:  \n",
    "*You can go deeper in nn and fix it indise*  \n",
    "*train time 6s for this dataset (25 epochs)*  \n",
    "*test accuracy=0.55*  \n",
    "*helps you to understand what is going on inside*  \n",
    "*but it takes more time to make it than keras nn* \n",
    "\n",
    "2) Keras NN  \n",
    "*train time 10s for 25 epochs, batch=10*  \n",
    "*test accuracy = 0.573, higher than numpy_nn*  \n",
    "*it takes a little time to do this nn with using keras*\n",
    "\n",
    "\n",
    "\n"
   ]
  },
  {
   "cell_type": "code",
   "execution_count": null,
   "metadata": {},
   "outputs": [],
   "source": []
  }
 ],
 "metadata": {
  "kernelspec": {
   "display_name": "Python 3",
   "language": "python",
   "name": "python3"
  },
  "language_info": {
   "codemirror_mode": {
    "name": "ipython",
    "version": 3
   },
   "file_extension": ".py",
   "mimetype": "text/x-python",
   "name": "python",
   "nbconvert_exporter": "python",
   "pygments_lexer": "ipython3",
   "version": "3.7.4"
  }
 },
 "nbformat": 4,
 "nbformat_minor": 2
}
