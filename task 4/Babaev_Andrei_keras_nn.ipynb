{
  "nbformat": 4,
  "nbformat_minor": 0,
  "metadata": {
    "colab": {
      "name": "Babaev_Andrei_keras_nn.ipynb",
      "provenance": [],
      "collapsed_sections": [
        "jcAveq16P5i7"
      ],
      "mount_file_id": "1gSdzCpfIrC2Mu2-HK8td_9qSJ-y7ENUb",
      "authorship_tag": "ABX9TyNDpk8Y9NDJOw8mOyh+d7ll",
      "include_colab_link": true
    },
    "kernelspec": {
      "name": "python3",
      "display_name": "Python 3"
    },
    "widgets": {
      "application/vnd.jupyter.widget-state+json": {
        "7039d53e6d484fd7bfc5c7ddfe7c3ff3": {
          "model_module": "@jupyter-widgets/controls",
          "model_name": "HBoxModel",
          "state": {
            "_view_name": "HBoxView",
            "_dom_classes": [],
            "_model_name": "HBoxModel",
            "_view_module": "@jupyter-widgets/controls",
            "_model_module_version": "1.5.0",
            "_view_count": null,
            "_view_module_version": "1.5.0",
            "box_style": "",
            "layout": "IPY_MODEL_f9072f36a06445e8b0b3056c15a7b1ec",
            "_model_module": "@jupyter-widgets/controls",
            "children": [
              "IPY_MODEL_e8261eeac8944d6a8768e46e2cdc7af7",
              "IPY_MODEL_8d93ed60cd414235ad3058ea42fbc665"
            ]
          }
        },
        "f9072f36a06445e8b0b3056c15a7b1ec": {
          "model_module": "@jupyter-widgets/base",
          "model_name": "LayoutModel",
          "state": {
            "_view_name": "LayoutView",
            "grid_template_rows": null,
            "right": null,
            "justify_content": null,
            "_view_module": "@jupyter-widgets/base",
            "overflow": null,
            "_model_module_version": "1.2.0",
            "_view_count": null,
            "flex_flow": null,
            "width": null,
            "min_width": null,
            "border": null,
            "align_items": null,
            "bottom": null,
            "_model_module": "@jupyter-widgets/base",
            "top": null,
            "grid_column": null,
            "overflow_y": null,
            "overflow_x": null,
            "grid_auto_flow": null,
            "grid_area": null,
            "grid_template_columns": null,
            "flex": null,
            "_model_name": "LayoutModel",
            "justify_items": null,
            "grid_row": null,
            "max_height": null,
            "align_content": null,
            "visibility": null,
            "align_self": null,
            "height": null,
            "min_height": null,
            "padding": null,
            "grid_auto_rows": null,
            "grid_gap": null,
            "max_width": null,
            "order": null,
            "_view_module_version": "1.2.0",
            "grid_template_areas": null,
            "object_position": null,
            "object_fit": null,
            "grid_auto_columns": null,
            "margin": null,
            "display": null,
            "left": null
          }
        },
        "e8261eeac8944d6a8768e46e2cdc7af7": {
          "model_module": "@jupyter-widgets/controls",
          "model_name": "FloatProgressModel",
          "state": {
            "_view_name": "ProgressView",
            "style": "IPY_MODEL_e1bb0665078744969bd323299f1dfb69",
            "_dom_classes": [],
            "description": "100%",
            "_model_name": "FloatProgressModel",
            "bar_style": "success",
            "max": 150,
            "_view_module": "@jupyter-widgets/controls",
            "_model_module_version": "1.5.0",
            "value": 150,
            "_view_count": null,
            "_view_module_version": "1.5.0",
            "orientation": "horizontal",
            "min": 0,
            "description_tooltip": null,
            "_model_module": "@jupyter-widgets/controls",
            "layout": "IPY_MODEL_e93607c771164e2f9674a52b03a07da8"
          }
        },
        "8d93ed60cd414235ad3058ea42fbc665": {
          "model_module": "@jupyter-widgets/controls",
          "model_name": "HTMLModel",
          "state": {
            "_view_name": "HTMLView",
            "style": "IPY_MODEL_ec458a7658ba4ae497e94404a7d967c1",
            "_dom_classes": [],
            "description": "",
            "_model_name": "HTMLModel",
            "placeholder": "​",
            "_view_module": "@jupyter-widgets/controls",
            "_model_module_version": "1.5.0",
            "value": " 150/150 [00:52&lt;00:00,  2.86epoch/s, val_loss=0.915, val_accuracy=0.641, loss=0.684, accuracy=0.696]",
            "_view_count": null,
            "_view_module_version": "1.5.0",
            "description_tooltip": null,
            "_model_module": "@jupyter-widgets/controls",
            "layout": "IPY_MODEL_d5ebe5e71fbb42eea7ab56a8c179009f"
          }
        },
        "e1bb0665078744969bd323299f1dfb69": {
          "model_module": "@jupyter-widgets/controls",
          "model_name": "ProgressStyleModel",
          "state": {
            "_view_name": "StyleView",
            "_model_name": "ProgressStyleModel",
            "description_width": "initial",
            "_view_module": "@jupyter-widgets/base",
            "_model_module_version": "1.5.0",
            "_view_count": null,
            "_view_module_version": "1.2.0",
            "bar_color": null,
            "_model_module": "@jupyter-widgets/controls"
          }
        },
        "e93607c771164e2f9674a52b03a07da8": {
          "model_module": "@jupyter-widgets/base",
          "model_name": "LayoutModel",
          "state": {
            "_view_name": "LayoutView",
            "grid_template_rows": null,
            "right": null,
            "justify_content": null,
            "_view_module": "@jupyter-widgets/base",
            "overflow": null,
            "_model_module_version": "1.2.0",
            "_view_count": null,
            "flex_flow": null,
            "width": null,
            "min_width": null,
            "border": null,
            "align_items": null,
            "bottom": null,
            "_model_module": "@jupyter-widgets/base",
            "top": null,
            "grid_column": null,
            "overflow_y": null,
            "overflow_x": null,
            "grid_auto_flow": null,
            "grid_area": null,
            "grid_template_columns": null,
            "flex": null,
            "_model_name": "LayoutModel",
            "justify_items": null,
            "grid_row": null,
            "max_height": null,
            "align_content": null,
            "visibility": null,
            "align_self": null,
            "height": null,
            "min_height": null,
            "padding": null,
            "grid_auto_rows": null,
            "grid_gap": null,
            "max_width": null,
            "order": null,
            "_view_module_version": "1.2.0",
            "grid_template_areas": null,
            "object_position": null,
            "object_fit": null,
            "grid_auto_columns": null,
            "margin": null,
            "display": null,
            "left": null
          }
        },
        "ec458a7658ba4ae497e94404a7d967c1": {
          "model_module": "@jupyter-widgets/controls",
          "model_name": "DescriptionStyleModel",
          "state": {
            "_view_name": "StyleView",
            "_model_name": "DescriptionStyleModel",
            "description_width": "",
            "_view_module": "@jupyter-widgets/base",
            "_model_module_version": "1.5.0",
            "_view_count": null,
            "_view_module_version": "1.2.0",
            "_model_module": "@jupyter-widgets/controls"
          }
        },
        "d5ebe5e71fbb42eea7ab56a8c179009f": {
          "model_module": "@jupyter-widgets/base",
          "model_name": "LayoutModel",
          "state": {
            "_view_name": "LayoutView",
            "grid_template_rows": null,
            "right": null,
            "justify_content": null,
            "_view_module": "@jupyter-widgets/base",
            "overflow": null,
            "_model_module_version": "1.2.0",
            "_view_count": null,
            "flex_flow": null,
            "width": null,
            "min_width": null,
            "border": null,
            "align_items": null,
            "bottom": null,
            "_model_module": "@jupyter-widgets/base",
            "top": null,
            "grid_column": null,
            "overflow_y": null,
            "overflow_x": null,
            "grid_auto_flow": null,
            "grid_area": null,
            "grid_template_columns": null,
            "flex": null,
            "_model_name": "LayoutModel",
            "justify_items": null,
            "grid_row": null,
            "max_height": null,
            "align_content": null,
            "visibility": null,
            "align_self": null,
            "height": null,
            "min_height": null,
            "padding": null,
            "grid_auto_rows": null,
            "grid_gap": null,
            "max_width": null,
            "order": null,
            "_view_module_version": "1.2.0",
            "grid_template_areas": null,
            "object_position": null,
            "object_fit": null,
            "grid_auto_columns": null,
            "margin": null,
            "display": null,
            "left": null
          }
        },
        "76fd6296523a4d988c90916465c1178a": {
          "model_module": "@jupyter-widgets/controls",
          "model_name": "HBoxModel",
          "state": {
            "_view_name": "HBoxView",
            "_dom_classes": [],
            "_model_name": "HBoxModel",
            "_view_module": "@jupyter-widgets/controls",
            "_model_module_version": "1.5.0",
            "_view_count": null,
            "_view_module_version": "1.5.0",
            "box_style": "",
            "layout": "IPY_MODEL_91e47cfdd37446548676e2c852f3a2be",
            "_model_module": "@jupyter-widgets/controls",
            "children": [
              "IPY_MODEL_e71961c82a5b4664af344a025c96a560",
              "IPY_MODEL_047c10715b4249a5a63f4fdcd193b7b2"
            ]
          }
        },
        "91e47cfdd37446548676e2c852f3a2be": {
          "model_module": "@jupyter-widgets/base",
          "model_name": "LayoutModel",
          "state": {
            "_view_name": "LayoutView",
            "grid_template_rows": null,
            "right": null,
            "justify_content": null,
            "_view_module": "@jupyter-widgets/base",
            "overflow": null,
            "_model_module_version": "1.2.0",
            "_view_count": null,
            "flex_flow": null,
            "width": null,
            "min_width": null,
            "border": null,
            "align_items": null,
            "bottom": null,
            "_model_module": "@jupyter-widgets/base",
            "top": null,
            "grid_column": null,
            "overflow_y": null,
            "overflow_x": null,
            "grid_auto_flow": null,
            "grid_area": null,
            "grid_template_columns": null,
            "flex": null,
            "_model_name": "LayoutModel",
            "justify_items": null,
            "grid_row": null,
            "max_height": null,
            "align_content": null,
            "visibility": null,
            "align_self": null,
            "height": null,
            "min_height": null,
            "padding": null,
            "grid_auto_rows": null,
            "grid_gap": null,
            "max_width": null,
            "order": null,
            "_view_module_version": "1.2.0",
            "grid_template_areas": null,
            "object_position": null,
            "object_fit": null,
            "grid_auto_columns": null,
            "margin": null,
            "display": null,
            "left": null
          }
        },
        "e71961c82a5b4664af344a025c96a560": {
          "model_module": "@jupyter-widgets/controls",
          "model_name": "FloatProgressModel",
          "state": {
            "_view_name": "ProgressView",
            "style": "IPY_MODEL_0403cbc80d2744de804aebb408c7da62",
            "_dom_classes": [],
            "description": "100%",
            "_model_name": "FloatProgressModel",
            "bar_style": "success",
            "max": 150,
            "_view_module": "@jupyter-widgets/controls",
            "_model_module_version": "1.5.0",
            "value": 150,
            "_view_count": null,
            "_view_module_version": "1.5.0",
            "orientation": "horizontal",
            "min": 0,
            "description_tooltip": null,
            "_model_module": "@jupyter-widgets/controls",
            "layout": "IPY_MODEL_f3bca83a7da34c2ca8edabe7aebb462d"
          }
        },
        "047c10715b4249a5a63f4fdcd193b7b2": {
          "model_module": "@jupyter-widgets/controls",
          "model_name": "HTMLModel",
          "state": {
            "_view_name": "HTMLView",
            "style": "IPY_MODEL_02c1130b1e4f4b44aed6769d36f48d75",
            "_dom_classes": [],
            "description": "",
            "_model_name": "HTMLModel",
            "placeholder": "​",
            "_view_module": "@jupyter-widgets/controls",
            "_model_module_version": "1.5.0",
            "value": " 150/150 [00:58&lt;00:00,  2.58epoch/s, val_loss=0.82, val_accuracy=0.65, loss=0.796, accuracy=0.645]",
            "_view_count": null,
            "_view_module_version": "1.5.0",
            "description_tooltip": null,
            "_model_module": "@jupyter-widgets/controls",
            "layout": "IPY_MODEL_b9a523c19dad4a2396c93318f5ca785a"
          }
        },
        "0403cbc80d2744de804aebb408c7da62": {
          "model_module": "@jupyter-widgets/controls",
          "model_name": "ProgressStyleModel",
          "state": {
            "_view_name": "StyleView",
            "_model_name": "ProgressStyleModel",
            "description_width": "initial",
            "_view_module": "@jupyter-widgets/base",
            "_model_module_version": "1.5.0",
            "_view_count": null,
            "_view_module_version": "1.2.0",
            "bar_color": null,
            "_model_module": "@jupyter-widgets/controls"
          }
        },
        "f3bca83a7da34c2ca8edabe7aebb462d": {
          "model_module": "@jupyter-widgets/base",
          "model_name": "LayoutModel",
          "state": {
            "_view_name": "LayoutView",
            "grid_template_rows": null,
            "right": null,
            "justify_content": null,
            "_view_module": "@jupyter-widgets/base",
            "overflow": null,
            "_model_module_version": "1.2.0",
            "_view_count": null,
            "flex_flow": null,
            "width": null,
            "min_width": null,
            "border": null,
            "align_items": null,
            "bottom": null,
            "_model_module": "@jupyter-widgets/base",
            "top": null,
            "grid_column": null,
            "overflow_y": null,
            "overflow_x": null,
            "grid_auto_flow": null,
            "grid_area": null,
            "grid_template_columns": null,
            "flex": null,
            "_model_name": "LayoutModel",
            "justify_items": null,
            "grid_row": null,
            "max_height": null,
            "align_content": null,
            "visibility": null,
            "align_self": null,
            "height": null,
            "min_height": null,
            "padding": null,
            "grid_auto_rows": null,
            "grid_gap": null,
            "max_width": null,
            "order": null,
            "_view_module_version": "1.2.0",
            "grid_template_areas": null,
            "object_position": null,
            "object_fit": null,
            "grid_auto_columns": null,
            "margin": null,
            "display": null,
            "left": null
          }
        },
        "02c1130b1e4f4b44aed6769d36f48d75": {
          "model_module": "@jupyter-widgets/controls",
          "model_name": "DescriptionStyleModel",
          "state": {
            "_view_name": "StyleView",
            "_model_name": "DescriptionStyleModel",
            "description_width": "",
            "_view_module": "@jupyter-widgets/base",
            "_model_module_version": "1.5.0",
            "_view_count": null,
            "_view_module_version": "1.2.0",
            "_model_module": "@jupyter-widgets/controls"
          }
        },
        "b9a523c19dad4a2396c93318f5ca785a": {
          "model_module": "@jupyter-widgets/base",
          "model_name": "LayoutModel",
          "state": {
            "_view_name": "LayoutView",
            "grid_template_rows": null,
            "right": null,
            "justify_content": null,
            "_view_module": "@jupyter-widgets/base",
            "overflow": null,
            "_model_module_version": "1.2.0",
            "_view_count": null,
            "flex_flow": null,
            "width": null,
            "min_width": null,
            "border": null,
            "align_items": null,
            "bottom": null,
            "_model_module": "@jupyter-widgets/base",
            "top": null,
            "grid_column": null,
            "overflow_y": null,
            "overflow_x": null,
            "grid_auto_flow": null,
            "grid_area": null,
            "grid_template_columns": null,
            "flex": null,
            "_model_name": "LayoutModel",
            "justify_items": null,
            "grid_row": null,
            "max_height": null,
            "align_content": null,
            "visibility": null,
            "align_self": null,
            "height": null,
            "min_height": null,
            "padding": null,
            "grid_auto_rows": null,
            "grid_gap": null,
            "max_width": null,
            "order": null,
            "_view_module_version": "1.2.0",
            "grid_template_areas": null,
            "object_position": null,
            "object_fit": null,
            "grid_auto_columns": null,
            "margin": null,
            "display": null,
            "left": null
          }
        }
      }
    }
  },
  "cells": [
    {
      "cell_type": "markdown",
      "metadata": {
        "id": "view-in-github",
        "colab_type": "text"
      },
      "source": [
        "<a href=\"https://colab.research.google.com/github/andBabaev/ds_school_2020/blob/master/task%204/Babaev_Andrei_keras_nn.ipynb\" target=\"_parent\"><img src=\"https://colab.research.google.com/assets/colab-badge.svg\" alt=\"Open In Colab\"/></a>"
      ]
    },
    {
      "cell_type": "markdown",
      "metadata": {
        "id": "s9TUdQMvRc0J",
        "colab_type": "text"
      },
      "source": [
        "[![Open In Colab](https://colab.research.google.com/assets/colab-badge.svg)](https://colab.research.google.com/drive/1gSdzCpfIrC2Mu2-HK8td_9qSJ-y7ENUbb)\n"
      ]
    },
    {
      "cell_type": "code",
      "metadata": {
        "id": "NKHu5Q576DJe",
        "colab_type": "code",
        "outputId": "8ddabc50-dd68-4e2c-aa38-92a261325b4e",
        "colab": {
          "base_uri": "https://localhost:8080/",
          "height": 510
        }
      },
      "source": [
        "!pip install cpi\n",
        "!pip install --upgrade tqdm"
      ],
      "execution_count": 1,
      "outputs": [
        {
          "output_type": "stream",
          "text": [
            "Collecting cpi\n",
            "\u001b[?25l  Downloading https://files.pythonhosted.org/packages/98/d1/7c28784de685aa00bf33a4080025acbe17a464bcbc14483f14a50d550551/cpi-0.1.16-py2.py3-none-any.whl (25.5MB)\n",
            "\u001b[K     |████████████████████████████████| 25.5MB 168kB/s \n",
            "\u001b[?25hRequirement already satisfied: requests>=2.20.0 in /usr/local/lib/python3.6/dist-packages (from cpi) (2.23.0)\n",
            "Requirement already satisfied: click>=6.7 in /usr/local/lib/python3.6/dist-packages (from cpi) (7.1.2)\n",
            "Requirement already satisfied: pandas>=0.23.1 in /usr/local/lib/python3.6/dist-packages (from cpi) (1.0.3)\n",
            "Requirement already satisfied: python-dateutil>=2.7.3 in /usr/local/lib/python3.6/dist-packages (from cpi) (2.8.1)\n",
            "Requirement already satisfied: idna<3,>=2.5 in /usr/local/lib/python3.6/dist-packages (from requests>=2.20.0->cpi) (2.9)\n",
            "Requirement already satisfied: certifi>=2017.4.17 in /usr/local/lib/python3.6/dist-packages (from requests>=2.20.0->cpi) (2020.4.5.1)\n",
            "Requirement already satisfied: urllib3!=1.25.0,!=1.25.1,<1.26,>=1.21.1 in /usr/local/lib/python3.6/dist-packages (from requests>=2.20.0->cpi) (1.24.3)\n",
            "Requirement already satisfied: chardet<4,>=3.0.2 in /usr/local/lib/python3.6/dist-packages (from requests>=2.20.0->cpi) (3.0.4)\n",
            "Requirement already satisfied: numpy>=1.13.3 in /usr/local/lib/python3.6/dist-packages (from pandas>=0.23.1->cpi) (1.18.3)\n",
            "Requirement already satisfied: pytz>=2017.2 in /usr/local/lib/python3.6/dist-packages (from pandas>=0.23.1->cpi) (2018.9)\n",
            "Requirement already satisfied: six>=1.5 in /usr/local/lib/python3.6/dist-packages (from python-dateutil>=2.7.3->cpi) (1.12.0)\n",
            "Installing collected packages: cpi\n",
            "Successfully installed cpi-0.1.16\n",
            "Collecting tqdm\n",
            "\u001b[?25l  Downloading https://files.pythonhosted.org/packages/c9/40/058b12e8ba10e35f89c9b1fdfc2d4c7f8c05947df2d5eb3c7b258019fda0/tqdm-4.46.0-py2.py3-none-any.whl (63kB)\n",
            "\u001b[K     |████████████████████████████████| 71kB 2.1MB/s \n",
            "\u001b[?25hInstalling collected packages: tqdm\n",
            "  Found existing installation: tqdm 4.38.0\n",
            "    Uninstalling tqdm-4.38.0:\n",
            "      Successfully uninstalled tqdm-4.38.0\n",
            "Successfully installed tqdm-4.46.0\n"
          ],
          "name": "stdout"
        },
        {
          "output_type": "display_data",
          "data": {
            "application/vnd.colab-display-data+json": {
              "pip_warning": {
                "packages": [
                  "tqdm"
                ]
              }
            }
          },
          "metadata": {
            "tags": []
          }
        }
      ]
    },
    {
      "cell_type": "code",
      "metadata": {
        "id": "2GmoJSt16JJ6",
        "colab_type": "code",
        "colab": {}
      },
      "source": [
        "import warnings\n",
        "warnings.simplefilter('ignore')\n",
        "\n",
        "import json\n",
        "import cpi\n",
        "\n",
        "import numpy as np\n",
        "import pandas as pd\n",
        "\n",
        "from sklearn.model_selection import train_test_split\n",
        "import matplotlib.pyplot as plt\n",
        "from sklearn.metrics import classification_report\n",
        "from sklearn.preprocessing import StandardScaler, MinMaxScaler\n",
        "\n",
        "from keras.models import Sequential\n",
        "from keras.layers import Dense, Activation, Dropout\n",
        "from tqdm.keras import TqdmCallback\n",
        "from keras.initializers import glorot_uniform \n",
        "from tensorflow.random import set_seed\n",
        "from keras import optimizers\n",
        "from keras.constraints import maxnorm"
      ],
      "execution_count": 0,
      "outputs": []
    },
    {
      "cell_type": "markdown",
      "metadata": {
        "id": "jcAveq16P5i7",
        "colab_type": "text"
      },
      "source": [
        "# TMDB"
      ]
    },
    {
      "cell_type": "code",
      "metadata": {
        "id": "u7ZUPfAujgd7",
        "colab_type": "code",
        "colab": {}
      },
      "source": [
        "data = pd.read_csv('drive/My Drive/tmdb_5000_movies.csv')"
      ],
      "execution_count": 0,
      "outputs": []
    },
    {
      "cell_type": "code",
      "metadata": {
        "id": "6sFBilZ88Nt6",
        "colab_type": "code",
        "outputId": "793acbdd-4c6d-4d63-9a89-a597e28b47da",
        "colab": {
          "base_uri": "https://localhost:8080/",
          "height": 0
        }
      },
      "source": [
        "data = data.drop(['tagline', 'overview', 'homepage', 'original_title', 'id', 'status'], axis=1)\n",
        "print(data.shape)\n",
        "data = data[(data['runtime']!=0.0) &\n",
        "            (data['revenue']!=0.0)]"
      ],
      "execution_count": 4,
      "outputs": [
        {
          "output_type": "stream",
          "text": [
            "(4803, 14)\n"
          ],
          "name": "stdout"
        }
      ]
    },
    {
      "cell_type": "code",
      "metadata": {
        "id": "IcL7ZPLkTj_Z",
        "colab_type": "code",
        "outputId": "808078de-e2e5-4f13-9c53-ff25904b7425",
        "colab": {
          "base_uri": "https://localhost:8080/",
          "height": 0
        }
      },
      "source": [
        "data.info()"
      ],
      "execution_count": 5,
      "outputs": [
        {
          "output_type": "stream",
          "text": [
            "<class 'pandas.core.frame.DataFrame'>\n",
            "Int64Index: 3375 entries, 0 to 4798\n",
            "Data columns (total 14 columns):\n",
            " #   Column                Non-Null Count  Dtype  \n",
            "---  ------                --------------  -----  \n",
            " 0   budget                3375 non-null   int64  \n",
            " 1   genres                3375 non-null   object \n",
            " 2   keywords              3375 non-null   object \n",
            " 3   original_language     3375 non-null   object \n",
            " 4   popularity            3375 non-null   float64\n",
            " 5   production_companies  3375 non-null   object \n",
            " 6   production_countries  3375 non-null   object \n",
            " 7   release_date          3375 non-null   object \n",
            " 8   revenue               3375 non-null   int64  \n",
            " 9   runtime               3375 non-null   float64\n",
            " 10  spoken_languages      3375 non-null   object \n",
            " 11  title                 3375 non-null   object \n",
            " 12  vote_average          3375 non-null   float64\n",
            " 13  vote_count            3375 non-null   int64  \n",
            "dtypes: float64(3), int64(3), object(8)\n",
            "memory usage: 395.5+ KB\n"
          ],
          "name": "stdout"
        }
      ]
    },
    {
      "cell_type": "markdown",
      "metadata": {
        "id": "uZZMEnsI7Zz2",
        "colab_type": "text"
      },
      "source": [
        "## Data preparation"
      ]
    },
    {
      "cell_type": "code",
      "metadata": {
        "id": "kl9Oa6Q4E3Jl",
        "colab_type": "code",
        "colab": {}
      },
      "source": [
        "data['release_date'] = pd.to_datetime(data['release_date'])\n",
        "data.sort_values('release_date', inplace=True)\n",
        "data['release_month'] = data['release_date'].dt.month\n",
        "data['release_dayofweek'] = data['release_date'].dt.dayofweek\n",
        "data['release_year'] = data['release_date'].dt.year\n",
        "\n",
        "data['decade'] = data['release_year'].apply(lambda x: str(x)[:-1])\n",
        "\n",
        "def fix_inflation(row):\n",
        "    row['revenue_fix'] = cpi.inflate(row['revenue'], row['release_date'])\n",
        "    row['budget_fix'] = cpi.inflate(row['budget'], row['release_date'])\n",
        "\n",
        "    return row\n",
        "\n",
        "data = data.apply(fix_inflation,axis=1)\n",
        "\n",
        "def get_dict_value(row, feature, target_key='name'):\n",
        "    list_ = json.loads(row[feature])\n",
        "    row[feature+'_1'] = list_[0][target_key] if list_ else None\n",
        "\n",
        "    return row\n",
        "    \n",
        "data = data.apply(get_dict_value, args=('genres',), axis=1)\n",
        "data = data.apply(get_dict_value, args=('production_companies',), axis=1)\n",
        "data = data.apply(get_dict_value, args=('production_countries',), axis=1)\n",
        "\n",
        "clearned_data = data.copy()\n",
        "clearned_data.drop(['genres', 'keywords', 'production_companies', \n",
        "                    'production_countries', 'spoken_languages', \n",
        "                    'release_date', 'popularity', 'vote_count', \n",
        "                    'revenue', 'budget', 'title', 'vote_average'], axis=1, inplace=True\n",
        "                   )\n",
        "\n",
        "clearned_data['genres_1'].fillna('na', inplace=True)\n",
        "clearned_data['production_companies_1'].fillna('na', inplace=True)\n",
        "clearned_data['production_countries_1'].fillna('na', inplace=True)\n",
        "\n",
        "for feature, threshold in zip (['genres_1', 'production_companies_1', 'production_countries_1', 'original_language'], [20, 6, 2000, 3000]):\n",
        "    count_data = clearned_data[feature].value_counts()\n",
        "    values_for_replacing = count_data[count_data < threshold].index\n",
        "    clearned_data[feature] = clearned_data[feature].apply(lambda x: 'Others' if x in values_for_replacing else x)\n",
        "\n",
        "numerical_col = ['budget_fix',\t'runtime']\n",
        "for feature in numerical_col:\n",
        "    clearned_data[feature+'_log'] = np.log(clearned_data[feature]+1)"
      ],
      "execution_count": 0,
      "outputs": []
    },
    {
      "cell_type": "markdown",
      "metadata": {
        "id": "HwMjtWna8R5W",
        "colab_type": "text"
      },
      "source": [
        "## New target variable"
      ]
    },
    {
      "cell_type": "code",
      "metadata": {
        "id": "SpLULqZY7WPW",
        "colab_type": "code",
        "outputId": "1344023a-6a8d-4316-8d3f-240a0a6c6775",
        "colab": {
          "base_uri": "https://localhost:8080/",
          "height": 0
        }
      },
      "source": [
        "qu1 = clearned_data['revenue_fix'].quantile(0.33)\n",
        "qu2 = clearned_data['revenue_fix'].quantile(0.66)\n",
        "print(qu1, qu2)\n",
        "def get_classes(row):\n",
        "    class_ = None\n",
        "    if row['revenue_fix'] < qu1:\n",
        "        row['revenue_class'] = 0\n",
        "    elif qu1 <= row['revenue_fix'] < qu2:\n",
        "        row['revenue_class'] = 1\n",
        "    elif row['revenue_fix'] >= qu2:\n",
        "        row['revenue_class'] = 2\n",
        "    return row\n",
        "\n",
        "clearned_data = clearned_data.apply(get_classes, axis=1)\n",
        "clearned_data['revenue_class'].value_counts(normalize=True)"
      ],
      "execution_count": 7,
      "outputs": [
        {
          "output_type": "stream",
          "text": [
            "39146044.70122607 141064203.59021637\n"
          ],
          "name": "stdout"
        },
        {
          "output_type": "execute_result",
          "data": {
            "text/plain": [
              "2    0.340148\n",
              "0    0.330074\n",
              "1    0.329778\n",
              "Name: revenue_class, dtype: float64"
            ]
          },
          "metadata": {
            "tags": []
          },
          "execution_count": 7
        }
      ]
    },
    {
      "cell_type": "markdown",
      "metadata": {
        "id": "UHZn0uMv8WUh",
        "colab_type": "text"
      },
      "source": [
        "# Train-test-split"
      ]
    },
    {
      "cell_type": "code",
      "metadata": {
        "id": "-47hM6QtK13v",
        "colab_type": "code",
        "colab": {}
      },
      "source": [
        "X_cat_oh = pd.get_dummies(clearned_data[['genres_1', \n",
        "                                        'production_companies_1', \n",
        "                                        'production_countries_1', \n",
        "                                         'release_dayofweek',\n",
        "                                         'release_month',\n",
        "                                         'decade',\n",
        "                                         ]])\n",
        "X_numeric = clearned_data[['budget_fix_log', 'runtime_log']]\n",
        "\n",
        "y = clearned_data['revenue_class']\n",
        "n_classes = np.unique(y).shape[0]\n",
        "y_cat = pd.get_dummies(y).values"
      ],
      "execution_count": 0,
      "outputs": []
    },
    {
      "cell_type": "markdown",
      "metadata": {
        "id": "FyPon_0FWqFZ",
        "colab_type": "text"
      },
      "source": [
        "shuffle=False because I want to train models to predict revenue_class for modern movies"
      ]
    },
    {
      "cell_type": "code",
      "metadata": {
        "id": "OoogZPFjPQPK",
        "colab_type": "code",
        "outputId": "e2d4baf6-5252-4fa0-fd12-d9ccff51a0eb",
        "colab": {
          "base_uri": "https://localhost:8080/",
          "height": 68
        }
      },
      "source": [
        "r_state = 42\n",
        "X_cat_oh_train, X_cat_oh_test, y_train, y_test = train_test_split(X_cat_oh, y_cat, \n",
        "                                                                  test_size=0.2, \n",
        "                                                                  shuffle=False, \n",
        "                                                                  #stratify=y,\n",
        "                                                                  random_state=r_state,\n",
        "                                                                  )\n",
        "\n",
        "X_numeric_train, X_numeric_test = train_test_split(X_numeric,\n",
        "                                                    test_size=0.2, \n",
        "                                                    shuffle=False,\n",
        "                                                    #stratify=y,\n",
        "                                                    random_state=r_state,\n",
        "                                                   )\n",
        "\n",
        "scaler = StandardScaler()\n",
        "X_numeric_train_scaled = scaler.fit_transform(X_numeric_train)\n",
        "X_numeric_test_scaled = scaler.transform(X_numeric_test)\n",
        "\n",
        "X_train = np.hstack([X_numeric_train_scaled, X_cat_oh_train, ])\n",
        "X_test = np.hstack([X_numeric_test_scaled, X_cat_oh_test, ])\n",
        "\n",
        "print('\\nTrain data', X_train.shape, '\\nTest data', X_test.shape)"
      ],
      "execution_count": 9,
      "outputs": [
        {
          "output_type": "stream",
          "text": [
            "\n",
            "Train data (2700, 108) \n",
            "Test data (675, 108)\n"
          ],
          "name": "stdout"
        }
      ]
    },
    {
      "cell_type": "markdown",
      "metadata": {
        "id": "kpP04XBCfoxE",
        "colab_type": "text"
      },
      "source": [
        "# Neural network"
      ]
    },
    {
      "cell_type": "code",
      "metadata": {
        "id": "DDqXyGYrulWO",
        "colab_type": "code",
        "colab": {}
      },
      "source": [
        "seed = 42\n",
        "np.random.seed(seed)\n",
        "set_seed(seed)"
      ],
      "execution_count": 0,
      "outputs": []
    },
    {
      "cell_type": "code",
      "metadata": {
        "id": "BgrbGnv-WcUJ",
        "colab_type": "code",
        "colab": {}
      },
      "source": [
        "model = Sequential([\n",
        "    Dense(120, kernel_initializer=glorot_uniform(seed=seed), input_shape=(X_train.shape[1],)),\n",
        "    Activation('sigmoid'),\n",
        "    Dense(60, kernel_initializer=glorot_uniform(seed=seed)),\n",
        "    Activation('sigmoid'),\n",
        "    Dense(n_classes, kernel_initializer=glorot_uniform(seed=seed)),\n",
        "    Activation('softmax'),\n",
        "])"
      ],
      "execution_count": 0,
      "outputs": []
    },
    {
      "cell_type": "code",
      "metadata": {
        "id": "hfnyxwxjW9UN",
        "colab_type": "code",
        "colab": {}
      },
      "source": [
        "model.compile(optimizer='rmsprop',\n",
        "              loss='categorical_crossentropy',\n",
        "              metrics=['accuracy'])"
      ],
      "execution_count": 0,
      "outputs": []
    },
    {
      "cell_type": "code",
      "metadata": {
        "id": "f3ViqaiuXZ6l",
        "colab_type": "code",
        "outputId": "ff93b909-9ce6-4c35-edd0-21240f10c440",
        "colab": {
          "base_uri": "https://localhost:8080/",
          "height": 66,
          "referenced_widgets": [
            "7039d53e6d484fd7bfc5c7ddfe7c3ff3",
            "f9072f36a06445e8b0b3056c15a7b1ec",
            "e8261eeac8944d6a8768e46e2cdc7af7",
            "8d93ed60cd414235ad3058ea42fbc665",
            "e1bb0665078744969bd323299f1dfb69",
            "e93607c771164e2f9674a52b03a07da8",
            "ec458a7658ba4ae497e94404a7d967c1",
            "d5ebe5e71fbb42eea7ab56a8c179009f"
          ]
        }
      },
      "source": [
        "history = model.fit(X_train, y_train, validation_data=(X_test, y_test), epochs=150, batch_size=10, verbose=0, callbacks=[TqdmCallback(verbose=0)],)"
      ],
      "execution_count": 455,
      "outputs": [
        {
          "output_type": "display_data",
          "data": {
            "application/vnd.jupyter.widget-view+json": {
              "model_id": "7039d53e6d484fd7bfc5c7ddfe7c3ff3",
              "version_minor": 0,
              "version_major": 2
            },
            "text/plain": [
              "HBox(children=(FloatProgress(value=1.0, bar_style='info', max=1.0), HTML(value='')))"
            ]
          },
          "metadata": {
            "tags": []
          }
        },
        {
          "output_type": "stream",
          "text": [
            "\n"
          ],
          "name": "stdout"
        }
      ]
    },
    {
      "cell_type": "code",
      "metadata": {
        "colab_type": "code",
        "outputId": "a29ae601-7d5f-4553-afb4-0981c415c45e",
        "id": "lnFK0hYBljQU",
        "colab": {
          "base_uri": "https://localhost:8080/",
          "height": 350
        }
      },
      "source": [
        "plt.figure(figsize=(15,5))\n",
        "plt.plot(history.history['loss'], label='Train')\n",
        "plt.plot(history.history['val_loss'], label='Test')\n",
        "plt.title('Min test cross entropy loss : %.4f epoch: %s' % (np.min((history.history['val_loss'])), np.argmin(history.history['val_loss'])))\n",
        "plt.ylabel('Cross-entropy value')\n",
        "plt.xlabel('No. epoch')\n",
        "plt.legend(loc=\"upper left\")\n",
        "plt.show()"
      ],
      "execution_count": 456,
      "outputs": [
        {
          "output_type": "display_data",
          "data": {
            "image/png": "[encoded data removed]",
            "text/plain": [
              "<Figure size 1080x360 with 1 Axes>"
            ]
          },
          "metadata": {
            "tags": [],
            "needs_background": "light"
          }
        }
      ]
    },
    {
      "cell_type": "code",
      "metadata": {
        "colab_type": "code",
        "outputId": "201aa367-1ac7-4d69-8347-f41b47d755e4",
        "id": "A3CQyqddljQi",
        "colab": {
          "base_uri": "https://localhost:8080/",
          "height": 350
        }
      },
      "source": [
        "plt.figure(figsize=(15,5))\n",
        "plt.plot(history.history['accuracy'], label='Train')\n",
        "plt.plot(history.history['val_accuracy'], label='Test')\n",
        "plt.title('Max test accuracy: %.4f epoch: %s' % (np.max((history.history['val_accuracy'])), np.argmax(history.history['val_accuracy'])))\n",
        "plt.ylabel('Accuracy value')\n",
        "plt.xlabel('No. epoch')\n",
        "plt.legend(loc=\"upper left\")\n",
        "plt.show()"
      ],
      "execution_count": 457,
      "outputs": [
        {
          "output_type": "display_data",
          "data": {
            "image/png": "[encoded data removed]",
            "text/plain": [
              "<Figure size 1080x360 with 1 Axes>"
            ]
          },
          "metadata": {
            "tags": [],
            "needs_background": "light"
          }
        }
      ]
    },
    {
      "cell_type": "markdown",
      "metadata": {
        "id": "yrYBLrCZfrx6",
        "colab_type": "text"
      },
      "source": [
        "## Dropout"
      ]
    },
    {
      "cell_type": "code",
      "metadata": {
        "colab_type": "code",
        "id": "nqL6Ndpa7L0_",
        "colab": {}
      },
      "source": [
        "seed = 42\n",
        "np.random.seed(seed)\n",
        "set_seed(seed)"
      ],
      "execution_count": 0,
      "outputs": []
    },
    {
      "cell_type": "code",
      "metadata": {
        "colab_type": "code",
        "id": "ZxlxlH4B7L1G",
        "colab": {}
      },
      "source": [
        "model = Sequential([\n",
        "    Dense(120, kernel_initializer=glorot_uniform(seed=seed), \n",
        "          input_shape=(X_train.shape[1],)),\n",
        "    Dropout(0.4),\n",
        "    Activation('sigmoid'),\n",
        "    Dense(60, kernel_initializer=glorot_uniform(seed=seed)), \n",
        "    Dropout(0.3),\n",
        "    Activation('sigmoid'),\n",
        "    Dense(n_classes, kernel_initializer=glorot_uniform(seed=seed)),\n",
        "    Activation('softmax'),\n",
        "])"
      ],
      "execution_count": 0,
      "outputs": []
    },
    {
      "cell_type": "code",
      "metadata": {
        "colab_type": "code",
        "id": "OCX-vUktfgoZ",
        "colab": {}
      },
      "source": [
        "model.compile(optimizer='rmsprop',\n",
        "              loss='categorical_crossentropy',\n",
        "              metrics=['accuracy'])"
      ],
      "execution_count": 0,
      "outputs": []
    },
    {
      "cell_type": "code",
      "metadata": {
        "colab_type": "code",
        "outputId": "e98e9f73-032b-49e4-a783-7b28502fd4d0",
        "id": "eEZjhTRKfgod",
        "colab": {
          "base_uri": "https://localhost:8080/",
          "height": 66,
          "referenced_widgets": [
            "76fd6296523a4d988c90916465c1178a",
            "91e47cfdd37446548676e2c852f3a2be",
            "e71961c82a5b4664af344a025c96a560",
            "047c10715b4249a5a63f4fdcd193b7b2",
            "0403cbc80d2744de804aebb408c7da62",
            "f3bca83a7da34c2ca8edabe7aebb462d",
            "02c1130b1e4f4b44aed6769d36f48d75",
            "b9a523c19dad4a2396c93318f5ca785a"
          ]
        }
      },
      "source": [
        "history = model.fit(X_train, y_train, validation_data=(X_test, y_test), epochs=150, batch_size=10, verbose=0, callbacks=[TqdmCallback(verbose=0)],)"
      ],
      "execution_count": 473,
      "outputs": [
        {
          "output_type": "display_data",
          "data": {
            "application/vnd.jupyter.widget-view+json": {
              "model_id": "76fd6296523a4d988c90916465c1178a",
              "version_minor": 0,
              "version_major": 2
            },
            "text/plain": [
              "HBox(children=(FloatProgress(value=1.0, bar_style='info', max=1.0), HTML(value='')))"
            ]
          },
          "metadata": {
            "tags": []
          }
        },
        {
          "output_type": "stream",
          "text": [
            "\n"
          ],
          "name": "stdout"
        }
      ]
    },
    {
      "cell_type": "code",
      "metadata": {
        "colab_type": "code",
        "outputId": "20d383fd-ec2a-47d2-823d-4134ea82ddac",
        "id": "D5u4_giDfgoi",
        "colab": {
          "base_uri": "https://localhost:8080/",
          "height": 350
        }
      },
      "source": [
        "plt.figure(figsize=(15,5))\n",
        "plt.plot(history.history['loss'], label='Train')\n",
        "plt.plot(history.history['val_loss'], label='Test')\n",
        "plt.title('Min test cross entropy loss : %.4f epoch: %s' % (np.min((history.history['val_loss'])), np.argmin(history.history['val_loss'])))\n",
        "plt.ylabel('Cross-entropy value')\n",
        "plt.xlabel('No. epoch')\n",
        "plt.legend(loc=\"upper left\")\n",
        "plt.show()"
      ],
      "execution_count": 474,
      "outputs": [
        {
          "output_type": "display_data",
          "data": {
            "image/png": "[encoded data removed]",
            "text/plain": [
              "<Figure size 1080x360 with 1 Axes>"
            ]
          },
          "metadata": {
            "tags": [],
            "needs_background": "light"
          }
        }
      ]
    },
    {
      "cell_type": "code",
      "metadata": {
        "colab_type": "code",
        "outputId": "da61ce35-4411-4a5a-d791-ee4a42c8f29a",
        "id": "d_ILLv62fgom",
        "colab": {
          "base_uri": "https://localhost:8080/",
          "height": 350
        }
      },
      "source": [
        "plt.figure(figsize=(15,5))\n",
        "plt.plot(history.history['accuracy'], label='Train')\n",
        "plt.plot(history.history['val_accuracy'], label='Test')\n",
        "plt.title('Max test accuracy: %.4f epoch: %s' % (np.max((history.history['val_accuracy'])), np.argmax(history.history['val_accuracy'])))\n",
        "plt.ylabel('Accuracy value')\n",
        "plt.xlabel('No. epoch')\n",
        "plt.legend(loc=\"upper left\")\n",
        "plt.show()"
      ],
      "execution_count": 475,
      "outputs": [
        {
          "output_type": "display_data",
          "data": {
            "image/png": "[encoded data removed]",
            "text/plain": [
              "<Figure size 1080x360 with 1 Axes>"
            ]
          },
          "metadata": {
            "tags": [],
            "needs_background": "light"
          }
        }
      ]
    },
    {
      "cell_type": "markdown",
      "metadata": {
        "id": "GxYzhBB9yX3I",
        "colab_type": "text"
      },
      "source": [
        "## Testing of the model"
      ]
    },
    {
      "cell_type": "code",
      "metadata": {
        "id": "kPkNeCgbw_FX",
        "colab_type": "code",
        "colab": {
          "base_uri": "https://localhost:8080/",
          "height": 187
        },
        "outputId": "8668f49f-a20c-4d42-8fc3-55e204542cb2"
      },
      "source": [
        "print(classification_report(y_test.argmax(axis=1), model.predict_classes(X_test)))"
      ],
      "execution_count": 476,
      "outputs": [
        {
          "output_type": "stream",
          "text": [
            "              precision    recall  f1-score   support\n",
            "\n",
            "           0       0.64      0.80      0.71       220\n",
            "           1       0.54      0.42      0.47       224\n",
            "           2       0.75      0.73      0.74       231\n",
            "\n",
            "    accuracy                           0.65       675\n",
            "   macro avg       0.64      0.65      0.64       675\n",
            "weighted avg       0.64      0.65      0.64       675\n",
            "\n"
          ],
          "name": "stdout"
        }
      ]
    },
    {
      "cell_type": "markdown",
      "metadata": {
        "id": "4V3LqwmPydRU",
        "colab_type": "text"
      },
      "source": [
        "# Conclusions"
      ]
    },
    {
      "cell_type": "markdown",
      "metadata": {
        "id": "1hsWJTe3yitI",
        "colab_type": "text"
      },
      "source": [
        "Keras implementation of neural network has higher accuracy score than my implementation:\n",
        "\n",
        "*   Keras nn - the best accuracy = 66.52%; learning is much faster\n",
        "*   My NN from task 3 - the best accuracy = 65.48% \n",
        "\n",
        "In addition, it should be noted that the dropout allowed to reduce overfitting and slightly increased accuracy.\n",
        "\n",
        "**Note.** I fixed my NN and got accuracy=66.96%. I fixed dropout and added biases\n",
        "\n"
      ]
    }
  ]
}