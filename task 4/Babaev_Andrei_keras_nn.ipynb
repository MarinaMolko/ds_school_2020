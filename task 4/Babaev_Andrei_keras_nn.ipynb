{
  "nbformat": 4,
  "nbformat_minor": 0,
  "metadata": {
    "colab": {
      "name": "Babaev_Andrei_keras_nn.ipynb",
      "provenance": [],
      "collapsed_sections": [
        "jcAveq16P5i7"
      ],
      "toc_visible": true
    },
    "kernelspec": {
      "name": "python3",
      "display_name": "Python 3"
    },
    "widgets": {
      "application/vnd.jupyter.widget-state+json": {
        "74fb83fe8960429b83f5e372f337247e": {
          "model_module": "@jupyter-widgets/controls",
          "model_name": "HBoxModel",
          "state": {
            "_view_name": "HBoxView",
            "_dom_classes": [],
            "_model_name": "HBoxModel",
            "_view_module": "@jupyter-widgets/controls",
            "_model_module_version": "1.5.0",
            "_view_count": null,
            "_view_module_version": "1.5.0",
            "box_style": "",
            "layout": "IPY_MODEL_204fd4c996a84e50be2ac2ded12c7969",
            "_model_module": "@jupyter-widgets/controls",
            "children": [
              "IPY_MODEL_4305ea64ea02447aa6da31613c4c6a96",
              "IPY_MODEL_a7aa433b7d7d4acbae9e6c22d8e5c4de"
            ]
          }
        },
        "204fd4c996a84e50be2ac2ded12c7969": {
          "model_module": "@jupyter-widgets/base",
          "model_name": "LayoutModel",
          "state": {
            "_view_name": "LayoutView",
            "grid_template_rows": null,
            "right": null,
            "justify_content": null,
            "_view_module": "@jupyter-widgets/base",
            "overflow": null,
            "_model_module_version": "1.2.0",
            "_view_count": null,
            "flex_flow": null,
            "width": null,
            "min_width": null,
            "border": null,
            "align_items": null,
            "bottom": null,
            "_model_module": "@jupyter-widgets/base",
            "top": null,
            "grid_column": null,
            "overflow_y": null,
            "overflow_x": null,
            "grid_auto_flow": null,
            "grid_area": null,
            "grid_template_columns": null,
            "flex": null,
            "_model_name": "LayoutModel",
            "justify_items": null,
            "grid_row": null,
            "max_height": null,
            "align_content": null,
            "visibility": null,
            "align_self": null,
            "height": null,
            "min_height": null,
            "padding": null,
            "grid_auto_rows": null,
            "grid_gap": null,
            "max_width": null,
            "order": null,
            "_view_module_version": "1.2.0",
            "grid_template_areas": null,
            "object_position": null,
            "object_fit": null,
            "grid_auto_columns": null,
            "margin": null,
            "display": null,
            "left": null
          }
        },
        "4305ea64ea02447aa6da31613c4c6a96": {
          "model_module": "@jupyter-widgets/controls",
          "model_name": "FloatProgressModel",
          "state": {
            "_view_name": "ProgressView",
            "style": "IPY_MODEL_f462bbdc850d404cbb823fa08c991144",
            "_dom_classes": [],
            "description": "100%",
            "_model_name": "FloatProgressModel",
            "bar_style": "success",
            "max": 150,
            "_view_module": "@jupyter-widgets/controls",
            "_model_module_version": "1.5.0",
            "value": 150,
            "_view_count": null,
            "_view_module_version": "1.5.0",
            "orientation": "horizontal",
            "min": 0,
            "description_tooltip": null,
            "_model_module": "@jupyter-widgets/controls",
            "layout": "IPY_MODEL_c7171cfc85a149b38d81d5339eb5a924"
          }
        },
        "a7aa433b7d7d4acbae9e6c22d8e5c4de": {
          "model_module": "@jupyter-widgets/controls",
          "model_name": "HTMLModel",
          "state": {
            "_view_name": "HTMLView",
            "style": "IPY_MODEL_a34c2a56eec646169f7309416fd938e4",
            "_dom_classes": [],
            "description": "",
            "_model_name": "HTMLModel",
            "placeholder": "​",
            "_view_module": "@jupyter-widgets/controls",
            "_model_module_version": "1.5.0",
            "value": " 150/150 [00:52&lt;00:00,  2.87epoch/s, val_loss=0.915, val_accuracy=0.641, loss=0.684, accuracy=0.696]",
            "_view_count": null,
            "_view_module_version": "1.5.0",
            "description_tooltip": null,
            "_model_module": "@jupyter-widgets/controls",
            "layout": "IPY_MODEL_2c56e07cf2514f378225f5e47e8f2531"
          }
        },
        "f462bbdc850d404cbb823fa08c991144": {
          "model_module": "@jupyter-widgets/controls",
          "model_name": "ProgressStyleModel",
          "state": {
            "_view_name": "StyleView",
            "_model_name": "ProgressStyleModel",
            "description_width": "initial",
            "_view_module": "@jupyter-widgets/base",
            "_model_module_version": "1.5.0",
            "_view_count": null,
            "_view_module_version": "1.2.0",
            "bar_color": null,
            "_model_module": "@jupyter-widgets/controls"
          }
        },
        "c7171cfc85a149b38d81d5339eb5a924": {
          "model_module": "@jupyter-widgets/base",
          "model_name": "LayoutModel",
          "state": {
            "_view_name": "LayoutView",
            "grid_template_rows": null,
            "right": null,
            "justify_content": null,
            "_view_module": "@jupyter-widgets/base",
            "overflow": null,
            "_model_module_version": "1.2.0",
            "_view_count": null,
            "flex_flow": null,
            "width": null,
            "min_width": null,
            "border": null,
            "align_items": null,
            "bottom": null,
            "_model_module": "@jupyter-widgets/base",
            "top": null,
            "grid_column": null,
            "overflow_y": null,
            "overflow_x": null,
            "grid_auto_flow": null,
            "grid_area": null,
            "grid_template_columns": null,
            "flex": null,
            "_model_name": "LayoutModel",
            "justify_items": null,
            "grid_row": null,
            "max_height": null,
            "align_content": null,
            "visibility": null,
            "align_self": null,
            "height": null,
            "min_height": null,
            "padding": null,
            "grid_auto_rows": null,
            "grid_gap": null,
            "max_width": null,
            "order": null,
            "_view_module_version": "1.2.0",
            "grid_template_areas": null,
            "object_position": null,
            "object_fit": null,
            "grid_auto_columns": null,
            "margin": null,
            "display": null,
            "left": null
          }
        },
        "a34c2a56eec646169f7309416fd938e4": {
          "model_module": "@jupyter-widgets/controls",
          "model_name": "DescriptionStyleModel",
          "state": {
            "_view_name": "StyleView",
            "_model_name": "DescriptionStyleModel",
            "description_width": "",
            "_view_module": "@jupyter-widgets/base",
            "_model_module_version": "1.5.0",
            "_view_count": null,
            "_view_module_version": "1.2.0",
            "_model_module": "@jupyter-widgets/controls"
          }
        },
        "2c56e07cf2514f378225f5e47e8f2531": {
          "model_module": "@jupyter-widgets/base",
          "model_name": "LayoutModel",
          "state": {
            "_view_name": "LayoutView",
            "grid_template_rows": null,
            "right": null,
            "justify_content": null,
            "_view_module": "@jupyter-widgets/base",
            "overflow": null,
            "_model_module_version": "1.2.0",
            "_view_count": null,
            "flex_flow": null,
            "width": null,
            "min_width": null,
            "border": null,
            "align_items": null,
            "bottom": null,
            "_model_module": "@jupyter-widgets/base",
            "top": null,
            "grid_column": null,
            "overflow_y": null,
            "overflow_x": null,
            "grid_auto_flow": null,
            "grid_area": null,
            "grid_template_columns": null,
            "flex": null,
            "_model_name": "LayoutModel",
            "justify_items": null,
            "grid_row": null,
            "max_height": null,
            "align_content": null,
            "visibility": null,
            "align_self": null,
            "height": null,
            "min_height": null,
            "padding": null,
            "grid_auto_rows": null,
            "grid_gap": null,
            "max_width": null,
            "order": null,
            "_view_module_version": "1.2.0",
            "grid_template_areas": null,
            "object_position": null,
            "object_fit": null,
            "grid_auto_columns": null,
            "margin": null,
            "display": null,
            "left": null
          }
        },
        "cef9faa6b58644cc96be7d1441701299": {
          "model_module": "@jupyter-widgets/controls",
          "model_name": "HBoxModel",
          "state": {
            "_view_name": "HBoxView",
            "_dom_classes": [],
            "_model_name": "HBoxModel",
            "_view_module": "@jupyter-widgets/controls",
            "_model_module_version": "1.5.0",
            "_view_count": null,
            "_view_module_version": "1.5.0",
            "box_style": "",
            "layout": "IPY_MODEL_8792d58898fc4a4f9b7835e8d98ee1ae",
            "_model_module": "@jupyter-widgets/controls",
            "children": [
              "IPY_MODEL_f05202b4ce8b485986b9b6b4ae075a66",
              "IPY_MODEL_729d0645f30b4392b20b54cf68e7492b"
            ]
          }
        },
        "8792d58898fc4a4f9b7835e8d98ee1ae": {
          "model_module": "@jupyter-widgets/base",
          "model_name": "LayoutModel",
          "state": {
            "_view_name": "LayoutView",
            "grid_template_rows": null,
            "right": null,
            "justify_content": null,
            "_view_module": "@jupyter-widgets/base",
            "overflow": null,
            "_model_module_version": "1.2.0",
            "_view_count": null,
            "flex_flow": null,
            "width": null,
            "min_width": null,
            "border": null,
            "align_items": null,
            "bottom": null,
            "_model_module": "@jupyter-widgets/base",
            "top": null,
            "grid_column": null,
            "overflow_y": null,
            "overflow_x": null,
            "grid_auto_flow": null,
            "grid_area": null,
            "grid_template_columns": null,
            "flex": null,
            "_model_name": "LayoutModel",
            "justify_items": null,
            "grid_row": null,
            "max_height": null,
            "align_content": null,
            "visibility": null,
            "align_self": null,
            "height": null,
            "min_height": null,
            "padding": null,
            "grid_auto_rows": null,
            "grid_gap": null,
            "max_width": null,
            "order": null,
            "_view_module_version": "1.2.0",
            "grid_template_areas": null,
            "object_position": null,
            "object_fit": null,
            "grid_auto_columns": null,
            "margin": null,
            "display": null,
            "left": null
          }
        },
        "f05202b4ce8b485986b9b6b4ae075a66": {
          "model_module": "@jupyter-widgets/controls",
          "model_name": "FloatProgressModel",
          "state": {
            "_view_name": "ProgressView",
            "style": "IPY_MODEL_19ee1508cbfd45319f887cbbde5ad4e9",
            "_dom_classes": [],
            "description": "100%",
            "_model_name": "FloatProgressModel",
            "bar_style": "success",
            "max": 150,
            "_view_module": "@jupyter-widgets/controls",
            "_model_module_version": "1.5.0",
            "value": 150,
            "_view_count": null,
            "_view_module_version": "1.5.0",
            "orientation": "horizontal",
            "min": 0,
            "description_tooltip": null,
            "_model_module": "@jupyter-widgets/controls",
            "layout": "IPY_MODEL_ab7a6477dbee4e05a8cbd50c6267ed0f"
          }
        },
        "729d0645f30b4392b20b54cf68e7492b": {
          "model_module": "@jupyter-widgets/controls",
          "model_name": "HTMLModel",
          "state": {
            "_view_name": "HTMLView",
            "style": "IPY_MODEL_ad1f3b6fb4c7489585446f150753829b",
            "_dom_classes": [],
            "description": "",
            "_model_name": "HTMLModel",
            "placeholder": "​",
            "_view_module": "@jupyter-widgets/controls",
            "_model_module_version": "1.5.0",
            "value": " 150/150 [01:00&lt;00:00,  2.49epoch/s, val_loss=0.766, val_accuracy=0.647, loss=0.805, accuracy=0.634]",
            "_view_count": null,
            "_view_module_version": "1.5.0",
            "description_tooltip": null,
            "_model_module": "@jupyter-widgets/controls",
            "layout": "IPY_MODEL_a1f3296bac044c14ac23cea2c304f56e"
          }
        },
        "19ee1508cbfd45319f887cbbde5ad4e9": {
          "model_module": "@jupyter-widgets/controls",
          "model_name": "ProgressStyleModel",
          "state": {
            "_view_name": "StyleView",
            "_model_name": "ProgressStyleModel",
            "description_width": "initial",
            "_view_module": "@jupyter-widgets/base",
            "_model_module_version": "1.5.0",
            "_view_count": null,
            "_view_module_version": "1.2.0",
            "bar_color": null,
            "_model_module": "@jupyter-widgets/controls"
          }
        },
        "ab7a6477dbee4e05a8cbd50c6267ed0f": {
          "model_module": "@jupyter-widgets/base",
          "model_name": "LayoutModel",
          "state": {
            "_view_name": "LayoutView",
            "grid_template_rows": null,
            "right": null,
            "justify_content": null,
            "_view_module": "@jupyter-widgets/base",
            "overflow": null,
            "_model_module_version": "1.2.0",
            "_view_count": null,
            "flex_flow": null,
            "width": null,
            "min_width": null,
            "border": null,
            "align_items": null,
            "bottom": null,
            "_model_module": "@jupyter-widgets/base",
            "top": null,
            "grid_column": null,
            "overflow_y": null,
            "overflow_x": null,
            "grid_auto_flow": null,
            "grid_area": null,
            "grid_template_columns": null,
            "flex": null,
            "_model_name": "LayoutModel",
            "justify_items": null,
            "grid_row": null,
            "max_height": null,
            "align_content": null,
            "visibility": null,
            "align_self": null,
            "height": null,
            "min_height": null,
            "padding": null,
            "grid_auto_rows": null,
            "grid_gap": null,
            "max_width": null,
            "order": null,
            "_view_module_version": "1.2.0",
            "grid_template_areas": null,
            "object_position": null,
            "object_fit": null,
            "grid_auto_columns": null,
            "margin": null,
            "display": null,
            "left": null
          }
        },
        "ad1f3b6fb4c7489585446f150753829b": {
          "model_module": "@jupyter-widgets/controls",
          "model_name": "DescriptionStyleModel",
          "state": {
            "_view_name": "StyleView",
            "_model_name": "DescriptionStyleModel",
            "description_width": "",
            "_view_module": "@jupyter-widgets/base",
            "_model_module_version": "1.5.0",
            "_view_count": null,
            "_view_module_version": "1.2.0",
            "_model_module": "@jupyter-widgets/controls"
          }
        },
        "a1f3296bac044c14ac23cea2c304f56e": {
          "model_module": "@jupyter-widgets/base",
          "model_name": "LayoutModel",
          "state": {
            "_view_name": "LayoutView",
            "grid_template_rows": null,
            "right": null,
            "justify_content": null,
            "_view_module": "@jupyter-widgets/base",
            "overflow": null,
            "_model_module_version": "1.2.0",
            "_view_count": null,
            "flex_flow": null,
            "width": null,
            "min_width": null,
            "border": null,
            "align_items": null,
            "bottom": null,
            "_model_module": "@jupyter-widgets/base",
            "top": null,
            "grid_column": null,
            "overflow_y": null,
            "overflow_x": null,
            "grid_auto_flow": null,
            "grid_area": null,
            "grid_template_columns": null,
            "flex": null,
            "_model_name": "LayoutModel",
            "justify_items": null,
            "grid_row": null,
            "max_height": null,
            "align_content": null,
            "visibility": null,
            "align_self": null,
            "height": null,
            "min_height": null,
            "padding": null,
            "grid_auto_rows": null,
            "grid_gap": null,
            "max_width": null,
            "order": null,
            "_view_module_version": "1.2.0",
            "grid_template_areas": null,
            "object_position": null,
            "object_fit": null,
            "grid_auto_columns": null,
            "margin": null,
            "display": null,
            "left": null
          }
        },
        "0c3036ebec7e4f0fb0241f5f50d63a02": {
          "model_module": "@jupyter-widgets/controls",
          "model_name": "HBoxModel",
          "state": {
            "_view_name": "HBoxView",
            "_dom_classes": [],
            "_model_name": "HBoxModel",
            "_view_module": "@jupyter-widgets/controls",
            "_model_module_version": "1.5.0",
            "_view_count": null,
            "_view_module_version": "1.5.0",
            "box_style": "",
            "layout": "IPY_MODEL_cf8e3c3210f84701ad8f5d088780c4e0",
            "_model_module": "@jupyter-widgets/controls",
            "children": [
              "IPY_MODEL_f788aae6c6df4b149463a2c8f571abab",
              "IPY_MODEL_0950e41598e44c34b6ab5629970f3f9d"
            ]
          }
        },
        "cf8e3c3210f84701ad8f5d088780c4e0": {
          "model_module": "@jupyter-widgets/base",
          "model_name": "LayoutModel",
          "state": {
            "_view_name": "LayoutView",
            "grid_template_rows": null,
            "right": null,
            "justify_content": null,
            "_view_module": "@jupyter-widgets/base",
            "overflow": null,
            "_model_module_version": "1.2.0",
            "_view_count": null,
            "flex_flow": null,
            "width": null,
            "min_width": null,
            "border": null,
            "align_items": null,
            "bottom": null,
            "_model_module": "@jupyter-widgets/base",
            "top": null,
            "grid_column": null,
            "overflow_y": null,
            "overflow_x": null,
            "grid_auto_flow": null,
            "grid_area": null,
            "grid_template_columns": null,
            "flex": null,
            "_model_name": "LayoutModel",
            "justify_items": null,
            "grid_row": null,
            "max_height": null,
            "align_content": null,
            "visibility": null,
            "align_self": null,
            "height": null,
            "min_height": null,
            "padding": null,
            "grid_auto_rows": null,
            "grid_gap": null,
            "max_width": null,
            "order": null,
            "_view_module_version": "1.2.0",
            "grid_template_areas": null,
            "object_position": null,
            "object_fit": null,
            "grid_auto_columns": null,
            "margin": null,
            "display": null,
            "left": null
          }
        },
        "f788aae6c6df4b149463a2c8f571abab": {
          "model_module": "@jupyter-widgets/controls",
          "model_name": "FloatProgressModel",
          "state": {
            "_view_name": "ProgressView",
            "style": "IPY_MODEL_e5470ee6a0064bee801ec790e03f8f41",
            "_dom_classes": [],
            "description": "100%",
            "_model_name": "FloatProgressModel",
            "bar_style": "success",
            "max": 40,
            "_view_module": "@jupyter-widgets/controls",
            "_model_module_version": "1.5.0",
            "value": 40,
            "_view_count": null,
            "_view_module_version": "1.5.0",
            "orientation": "horizontal",
            "min": 0,
            "description_tooltip": null,
            "_model_module": "@jupyter-widgets/controls",
            "layout": "IPY_MODEL_ef51bb0e86bd43559e65a5b9d6082172"
          }
        },
        "0950e41598e44c34b6ab5629970f3f9d": {
          "model_module": "@jupyter-widgets/controls",
          "model_name": "HTMLModel",
          "state": {
            "_view_name": "HTMLView",
            "style": "IPY_MODEL_79cc5db8a9db476dab3f0d154c132094",
            "_dom_classes": [],
            "description": "",
            "_model_name": "HTMLModel",
            "placeholder": "​",
            "_view_module": "@jupyter-widgets/controls",
            "_model_module_version": "1.5.0",
            "value": " 40/40 [00:16&lt;00:00,  2.45epoch/s, val_loss=0.763, val_accuracy=0.647, loss=0.797, accuracy=0.629]",
            "_view_count": null,
            "_view_module_version": "1.5.0",
            "description_tooltip": null,
            "_model_module": "@jupyter-widgets/controls",
            "layout": "IPY_MODEL_198b62e612614e03bb75a08165e66afd"
          }
        },
        "e5470ee6a0064bee801ec790e03f8f41": {
          "model_module": "@jupyter-widgets/controls",
          "model_name": "ProgressStyleModel",
          "state": {
            "_view_name": "StyleView",
            "_model_name": "ProgressStyleModel",
            "description_width": "initial",
            "_view_module": "@jupyter-widgets/base",
            "_model_module_version": "1.5.0",
            "_view_count": null,
            "_view_module_version": "1.2.0",
            "bar_color": null,
            "_model_module": "@jupyter-widgets/controls"
          }
        },
        "ef51bb0e86bd43559e65a5b9d6082172": {
          "model_module": "@jupyter-widgets/base",
          "model_name": "LayoutModel",
          "state": {
            "_view_name": "LayoutView",
            "grid_template_rows": null,
            "right": null,
            "justify_content": null,
            "_view_module": "@jupyter-widgets/base",
            "overflow": null,
            "_model_module_version": "1.2.0",
            "_view_count": null,
            "flex_flow": null,
            "width": null,
            "min_width": null,
            "border": null,
            "align_items": null,
            "bottom": null,
            "_model_module": "@jupyter-widgets/base",
            "top": null,
            "grid_column": null,
            "overflow_y": null,
            "overflow_x": null,
            "grid_auto_flow": null,
            "grid_area": null,
            "grid_template_columns": null,
            "flex": null,
            "_model_name": "LayoutModel",
            "justify_items": null,
            "grid_row": null,
            "max_height": null,
            "align_content": null,
            "visibility": null,
            "align_self": null,
            "height": null,
            "min_height": null,
            "padding": null,
            "grid_auto_rows": null,
            "grid_gap": null,
            "max_width": null,
            "order": null,
            "_view_module_version": "1.2.0",
            "grid_template_areas": null,
            "object_position": null,
            "object_fit": null,
            "grid_auto_columns": null,
            "margin": null,
            "display": null,
            "left": null
          }
        },
        "79cc5db8a9db476dab3f0d154c132094": {
          "model_module": "@jupyter-widgets/controls",
          "model_name": "DescriptionStyleModel",
          "state": {
            "_view_name": "StyleView",
            "_model_name": "DescriptionStyleModel",
            "description_width": "",
            "_view_module": "@jupyter-widgets/base",
            "_model_module_version": "1.5.0",
            "_view_count": null,
            "_view_module_version": "1.2.0",
            "_model_module": "@jupyter-widgets/controls"
          }
        },
        "198b62e612614e03bb75a08165e66afd": {
          "model_module": "@jupyter-widgets/base",
          "model_name": "LayoutModel",
          "state": {
            "_view_name": "LayoutView",
            "grid_template_rows": null,
            "right": null,
            "justify_content": null,
            "_view_module": "@jupyter-widgets/base",
            "overflow": null,
            "_model_module_version": "1.2.0",
            "_view_count": null,
            "flex_flow": null,
            "width": null,
            "min_width": null,
            "border": null,
            "align_items": null,
            "bottom": null,
            "_model_module": "@jupyter-widgets/base",
            "top": null,
            "grid_column": null,
            "overflow_y": null,
            "overflow_x": null,
            "grid_auto_flow": null,
            "grid_area": null,
            "grid_template_columns": null,
            "flex": null,
            "_model_name": "LayoutModel",
            "justify_items": null,
            "grid_row": null,
            "max_height": null,
            "align_content": null,
            "visibility": null,
            "align_self": null,
            "height": null,
            "min_height": null,
            "padding": null,
            "grid_auto_rows": null,
            "grid_gap": null,
            "max_width": null,
            "order": null,
            "_view_module_version": "1.2.0",
            "grid_template_areas": null,
            "object_position": null,
            "object_fit": null,
            "grid_auto_columns": null,
            "margin": null,
            "display": null,
            "left": null
          }
        }
      }
    }
  },
  "cells": [
    {
      "cell_type": "code",
      "metadata": {
        "id": "NKHu5Q576DJe",
        "colab_type": "code",
        "outputId": "8ddabc50-dd68-4e2c-aa38-92a261325b4e",
        "colab": {
          "base_uri": "https://localhost:8080/",
          "height": 510
        }
      },
      "source": [
        "!pip install cpi\n",
        "!pip install --upgrade tqdm"
      ],
      "execution_count": 1,
      "outputs": [
        {
          "output_type": "stream",
          "text": [
            "Collecting cpi\n",
            "\u001b[?25l  Downloading https://files.pythonhosted.org/packages/98/d1/7c28784de685aa00bf33a4080025acbe17a464bcbc14483f14a50d550551/cpi-0.1.16-py2.py3-none-any.whl (25.5MB)\n",
            "\u001b[K     |████████████████████████████████| 25.5MB 168kB/s \n",
            "\u001b[?25hRequirement already satisfied: requests>=2.20.0 in /usr/local/lib/python3.6/dist-packages (from cpi) (2.23.0)\n",
            "Requirement already satisfied: click>=6.7 in /usr/local/lib/python3.6/dist-packages (from cpi) (7.1.2)\n",
            "Requirement already satisfied: pandas>=0.23.1 in /usr/local/lib/python3.6/dist-packages (from cpi) (1.0.3)\n",
            "Requirement already satisfied: python-dateutil>=2.7.3 in /usr/local/lib/python3.6/dist-packages (from cpi) (2.8.1)\n",
            "Requirement already satisfied: idna<3,>=2.5 in /usr/local/lib/python3.6/dist-packages (from requests>=2.20.0->cpi) (2.9)\n",
            "Requirement already satisfied: certifi>=2017.4.17 in /usr/local/lib/python3.6/dist-packages (from requests>=2.20.0->cpi) (2020.4.5.1)\n",
            "Requirement already satisfied: urllib3!=1.25.0,!=1.25.1,<1.26,>=1.21.1 in /usr/local/lib/python3.6/dist-packages (from requests>=2.20.0->cpi) (1.24.3)\n",
            "Requirement already satisfied: chardet<4,>=3.0.2 in /usr/local/lib/python3.6/dist-packages (from requests>=2.20.0->cpi) (3.0.4)\n",
            "Requirement already satisfied: numpy>=1.13.3 in /usr/local/lib/python3.6/dist-packages (from pandas>=0.23.1->cpi) (1.18.3)\n",
            "Requirement already satisfied: pytz>=2017.2 in /usr/local/lib/python3.6/dist-packages (from pandas>=0.23.1->cpi) (2018.9)\n",
            "Requirement already satisfied: six>=1.5 in /usr/local/lib/python3.6/dist-packages (from python-dateutil>=2.7.3->cpi) (1.12.0)\n",
            "Installing collected packages: cpi\n",
            "Successfully installed cpi-0.1.16\n",
            "Collecting tqdm\n",
            "\u001b[?25l  Downloading https://files.pythonhosted.org/packages/c9/40/058b12e8ba10e35f89c9b1fdfc2d4c7f8c05947df2d5eb3c7b258019fda0/tqdm-4.46.0-py2.py3-none-any.whl (63kB)\n",
            "\u001b[K     |████████████████████████████████| 71kB 2.1MB/s \n",
            "\u001b[?25hInstalling collected packages: tqdm\n",
            "  Found existing installation: tqdm 4.38.0\n",
            "    Uninstalling tqdm-4.38.0:\n",
            "      Successfully uninstalled tqdm-4.38.0\n",
            "Successfully installed tqdm-4.46.0\n"
          ],
          "name": "stdout"
        },
        {
          "output_type": "display_data",
          "data": {
            "application/vnd.colab-display-data+json": {
              "pip_warning": {
                "packages": [
                  "tqdm"
                ]
              }
            }
          },
          "metadata": {
            "tags": []
          }
        }
      ]
    },
    {
      "cell_type": "code",
      "metadata": {
        "id": "2GmoJSt16JJ6",
        "colab_type": "code",
        "colab": {}
      },
      "source": [
        "import warnings\n",
        "warnings.simplefilter('ignore')\n",
        "\n",
        "import json\n",
        "import cpi\n",
        "\n",
        "import numpy as np\n",
        "import pandas as pd\n",
        "\n",
        "from sklearn.model_selection import train_test_split\n",
        "import matplotlib.pyplot as plt\n",
        "from sklearn.metrics import classification_report\n",
        "from sklearn.preprocessing import StandardScaler, MinMaxScaler\n",
        "\n",
        "from keras.models import Sequential\n",
        "from keras.layers import Dense, Activation, Dropout\n",
        "from tqdm.keras import TqdmCallback\n",
        "from keras.initializers import glorot_uniform \n",
        "from tensorflow.random import set_seed\n",
        "from keras import optimizers\n",
        "from keras.constraints import maxnorm"
      ],
      "execution_count": 0,
      "outputs": []
    },
    {
      "cell_type": "markdown",
      "metadata": {
        "id": "jcAveq16P5i7",
        "colab_type": "text"
      },
      "source": [
        "# TMDB"
      ]
    },
    {
      "cell_type": "code",
      "metadata": {
        "id": "u7ZUPfAujgd7",
        "colab_type": "code",
        "colab": {}
      },
      "source": [
        "data = pd.read_csv('drive/My Drive/tmdb_5000_movies.csv')"
      ],
      "execution_count": 0,
      "outputs": []
    },
    {
      "cell_type": "code",
      "metadata": {
        "id": "6sFBilZ88Nt6",
        "colab_type": "code",
        "outputId": "793acbdd-4c6d-4d63-9a89-a597e28b47da",
        "colab": {
          "base_uri": "https://localhost:8080/",
          "height": 0
        }
      },
      "source": [
        "data = data.drop(['tagline', 'overview', 'homepage', 'original_title', 'id', 'status'], axis=1)\n",
        "print(data.shape)\n",
        "data = data[(data['runtime']!=0.0) &\n",
        "            (data['revenue']!=0.0)]"
      ],
      "execution_count": 4,
      "outputs": [
        {
          "output_type": "stream",
          "text": [
            "(4803, 14)\n"
          ],
          "name": "stdout"
        }
      ]
    },
    {
      "cell_type": "code",
      "metadata": {
        "id": "IcL7ZPLkTj_Z",
        "colab_type": "code",
        "outputId": "808078de-e2e5-4f13-9c53-ff25904b7425",
        "colab": {
          "base_uri": "https://localhost:8080/",
          "height": 0
        }
      },
      "source": [
        "data.info()"
      ],
      "execution_count": 5,
      "outputs": [
        {
          "output_type": "stream",
          "text": [
            "<class 'pandas.core.frame.DataFrame'>\n",
            "Int64Index: 3375 entries, 0 to 4798\n",
            "Data columns (total 14 columns):\n",
            " #   Column                Non-Null Count  Dtype  \n",
            "---  ------                --------------  -----  \n",
            " 0   budget                3375 non-null   int64  \n",
            " 1   genres                3375 non-null   object \n",
            " 2   keywords              3375 non-null   object \n",
            " 3   original_language     3375 non-null   object \n",
            " 4   popularity            3375 non-null   float64\n",
            " 5   production_companies  3375 non-null   object \n",
            " 6   production_countries  3375 non-null   object \n",
            " 7   release_date          3375 non-null   object \n",
            " 8   revenue               3375 non-null   int64  \n",
            " 9   runtime               3375 non-null   float64\n",
            " 10  spoken_languages      3375 non-null   object \n",
            " 11  title                 3375 non-null   object \n",
            " 12  vote_average          3375 non-null   float64\n",
            " 13  vote_count            3375 non-null   int64  \n",
            "dtypes: float64(3), int64(3), object(8)\n",
            "memory usage: 395.5+ KB\n"
          ],
          "name": "stdout"
        }
      ]
    },
    {
      "cell_type": "markdown",
      "metadata": {
        "id": "uZZMEnsI7Zz2",
        "colab_type": "text"
      },
      "source": [
        "## Data preparation"
      ]
    },
    {
      "cell_type": "code",
      "metadata": {
        "id": "kl9Oa6Q4E3Jl",
        "colab_type": "code",
        "colab": {}
      },
      "source": [
        "data['release_date'] = pd.to_datetime(data['release_date'])\n",
        "data.sort_values('release_date', inplace=True)\n",
        "data['release_month'] = data['release_date'].dt.month\n",
        "data['release_dayofweek'] = data['release_date'].dt.dayofweek\n",
        "data['release_year'] = data['release_date'].dt.year\n",
        "\n",
        "data['decade'] = data['release_year'].apply(lambda x: str(x)[:-1])\n",
        "\n",
        "def fix_inflation(row):\n",
        "    row['revenue_fix'] = cpi.inflate(row['revenue'], row['release_date'])\n",
        "    row['budget_fix'] = cpi.inflate(row['budget'], row['release_date'])\n",
        "\n",
        "    return row\n",
        "\n",
        "data = data.apply(fix_inflation,axis=1)\n",
        "\n",
        "def get_dict_value(row, feature, target_key='name'):\n",
        "    list_ = json.loads(row[feature])\n",
        "    row[feature+'_1'] = list_[0][target_key] if list_ else None\n",
        "\n",
        "    return row\n",
        "    \n",
        "data = data.apply(get_dict_value, args=('genres',), axis=1)\n",
        "data = data.apply(get_dict_value, args=('production_companies',), axis=1)\n",
        "data = data.apply(get_dict_value, args=('production_countries',), axis=1)\n",
        "\n",
        "clearned_data = data.copy()\n",
        "clearned_data.drop(['genres', 'keywords', 'production_companies', \n",
        "                    'production_countries', 'spoken_languages', \n",
        "                    'release_date', 'popularity', 'vote_count', \n",
        "                    'revenue', 'budget', 'title', 'vote_average'], axis=1, inplace=True\n",
        "                   )\n",
        "\n",
        "clearned_data['genres_1'].fillna('na', inplace=True)\n",
        "clearned_data['production_companies_1'].fillna('na', inplace=True)\n",
        "clearned_data['production_countries_1'].fillna('na', inplace=True)\n",
        "\n",
        "for feature, threshold in zip (['genres_1', 'production_companies_1', 'production_countries_1', 'original_language'], [20, 6, 2000, 3000]):\n",
        "    count_data = clearned_data[feature].value_counts()\n",
        "    values_for_replacing = count_data[count_data < threshold].index\n",
        "    clearned_data[feature] = clearned_data[feature].apply(lambda x: 'Others' if x in values_for_replacing else x)\n",
        "\n",
        "numerical_col = ['budget_fix',\t'runtime']\n",
        "for feature in numerical_col:\n",
        "    clearned_data[feature+'_log'] = np.log(clearned_data[feature]+1)"
      ],
      "execution_count": 0,
      "outputs": []
    },
    {
      "cell_type": "markdown",
      "metadata": {
        "id": "HwMjtWna8R5W",
        "colab_type": "text"
      },
      "source": [
        "## New target variable"
      ]
    },
    {
      "cell_type": "code",
      "metadata": {
        "id": "SpLULqZY7WPW",
        "colab_type": "code",
        "outputId": "1344023a-6a8d-4316-8d3f-240a0a6c6775",
        "colab": {
          "base_uri": "https://localhost:8080/",
          "height": 0
        }
      },
      "source": [
        "qu1 = clearned_data['revenue_fix'].quantile(0.33)\n",
        "qu2 = clearned_data['revenue_fix'].quantile(0.66)\n",
        "print(qu1, qu2)\n",
        "def get_classes(row):\n",
        "    class_ = None\n",
        "    if row['revenue_fix'] < qu1:\n",
        "        row['revenue_class'] = 0\n",
        "    elif qu1 <= row['revenue_fix'] < qu2:\n",
        "        row['revenue_class'] = 1\n",
        "    elif row['revenue_fix'] >= qu2:\n",
        "        row['revenue_class'] = 2\n",
        "    return row\n",
        "\n",
        "clearned_data = clearned_data.apply(get_classes, axis=1)\n",
        "clearned_data['revenue_class'].value_counts(normalize=True)"
      ],
      "execution_count": 7,
      "outputs": [
        {
          "output_type": "stream",
          "text": [
            "39146044.70122607 141064203.59021637\n"
          ],
          "name": "stdout"
        },
        {
          "output_type": "execute_result",
          "data": {
            "text/plain": [
              "2    0.340148\n",
              "0    0.330074\n",
              "1    0.329778\n",
              "Name: revenue_class, dtype: float64"
            ]
          },
          "metadata": {
            "tags": []
          },
          "execution_count": 7
        }
      ]
    },
    {
      "cell_type": "markdown",
      "metadata": {
        "id": "UHZn0uMv8WUh",
        "colab_type": "text"
      },
      "source": [
        "# Train-test-split"
      ]
    },
    {
      "cell_type": "code",
      "metadata": {
        "id": "-47hM6QtK13v",
        "colab_type": "code",
        "colab": {}
      },
      "source": [
        "X_cat_oh = pd.get_dummies(clearned_data[['genres_1', \n",
        "                                        'production_companies_1', \n",
        "                                        'production_countries_1', \n",
        "                                         'release_dayofweek',\n",
        "                                         'release_month',\n",
        "                                         'decade',\n",
        "                                         ]])\n",
        "X_numeric = clearned_data[['budget_fix_log', 'runtime_log']]\n",
        "\n",
        "y = clearned_data['revenue_class']\n",
        "n_classes = np.unique(y).shape[0]\n",
        "y_cat = pd.get_dummies(y).values"
      ],
      "execution_count": 0,
      "outputs": []
    },
    {
      "cell_type": "markdown",
      "metadata": {
        "id": "FyPon_0FWqFZ",
        "colab_type": "text"
      },
      "source": [
        "shuffle=False because I want to train models to predict revenue_class for modern movies"
      ]
    },
    {
      "cell_type": "code",
      "metadata": {
        "id": "OoogZPFjPQPK",
        "colab_type": "code",
        "outputId": "e2d4baf6-5252-4fa0-fd12-d9ccff51a0eb",
        "colab": {
          "base_uri": "https://localhost:8080/",
          "height": 68
        }
      },
      "source": [
        "r_state = 42\n",
        "X_cat_oh_train, X_cat_oh_test, y_train, y_test = train_test_split(X_cat_oh, y_cat, \n",
        "                                                                  test_size=0.2, \n",
        "                                                                  shuffle=False, \n",
        "                                                                  #stratify=y,\n",
        "                                                                  random_state=r_state,\n",
        "                                                                  )\n",
        "\n",
        "X_numeric_train, X_numeric_test = train_test_split(X_numeric,\n",
        "                                                    test_size=0.2, \n",
        "                                                    shuffle=False,\n",
        "                                                    #stratify=y,\n",
        "                                                    random_state=r_state,\n",
        "                                                   )\n",
        "\n",
        "scaler = StandardScaler()\n",
        "X_numeric_train_scaled = scaler.fit_transform(X_numeric_train)\n",
        "X_numeric_test_scaled = scaler.transform(X_numeric_test)\n",
        "\n",
        "X_train = np.hstack([X_numeric_train_scaled, X_cat_oh_train, ])\n",
        "X_test = np.hstack([X_numeric_test_scaled, X_cat_oh_test, ])\n",
        "\n",
        "print('\\nTrain data', X_train.shape, '\\nTest data', X_test.shape)"
      ],
      "execution_count": 9,
      "outputs": [
        {
          "output_type": "stream",
          "text": [
            "\n",
            "Train data (2700, 108) \n",
            "Test data (675, 108)\n"
          ],
          "name": "stdout"
        }
      ]
    },
    {
      "cell_type": "markdown",
      "metadata": {
        "id": "kpP04XBCfoxE",
        "colab_type": "text"
      },
      "source": [
        "# Neural network"
      ]
    },
    {
      "cell_type": "code",
      "metadata": {
        "id": "DDqXyGYrulWO",
        "colab_type": "code",
        "colab": {}
      },
      "source": [
        "seed = 42\n",
        "np.random.seed(seed)\n",
        "set_seed(seed)"
      ],
      "execution_count": 0,
      "outputs": []
    },
    {
      "cell_type": "code",
      "metadata": {
        "id": "BgrbGnv-WcUJ",
        "colab_type": "code",
        "colab": {}
      },
      "source": [
        "model = Sequential([\n",
        "    Dense(120, kernel_initializer=glorot_uniform(seed=seed), input_shape=(X_train.shape[1],)),\n",
        "    Activation('sigmoid'),\n",
        "    Dense(60, kernel_initializer=glorot_uniform(seed=seed)),\n",
        "    Activation('sigmoid'),\n",
        "    Dense(n_classes, kernel_initializer=glorot_uniform(seed=seed)),\n",
        "    Activation('softmax'),\n",
        "])"
      ],
      "execution_count": 0,
      "outputs": []
    },
    {
      "cell_type": "code",
      "metadata": {
        "id": "hfnyxwxjW9UN",
        "colab_type": "code",
        "colab": {}
      },
      "source": [
        "model.compile(optimizer='rmsprop',\n",
        "              loss='categorical_crossentropy',\n",
        "              metrics=['accuracy'])"
      ],
      "execution_count": 0,
      "outputs": []
    },
    {
      "cell_type": "code",
      "metadata": {
        "id": "f3ViqaiuXZ6l",
        "colab_type": "code",
        "outputId": "79e4782b-1b3b-4d26-b5e6-44afd9fd8abc",
        "colab": {
          "base_uri": "https://localhost:8080/",
          "height": 66,
          "referenced_widgets": [
            "74fb83fe8960429b83f5e372f337247e",
            "204fd4c996a84e50be2ac2ded12c7969",
            "4305ea64ea02447aa6da31613c4c6a96",
            "a7aa433b7d7d4acbae9e6c22d8e5c4de",
            "f462bbdc850d404cbb823fa08c991144",
            "c7171cfc85a149b38d81d5339eb5a924",
            "a34c2a56eec646169f7309416fd938e4",
            "2c56e07cf2514f378225f5e47e8f2531"
          ]
        }
      },
      "source": [
        "history = model.fit(X_train, y_train, validation_data=(X_test, y_test), epochs=150, batch_size=10, verbose=0, callbacks=[TqdmCallback(verbose=0)],)"
      ],
      "execution_count": 285,
      "outputs": [
        {
          "output_type": "display_data",
          "data": {
            "application/vnd.jupyter.widget-view+json": {
              "model_id": "74fb83fe8960429b83f5e372f337247e",
              "version_minor": 0,
              "version_major": 2
            },
            "text/plain": [
              "HBox(children=(FloatProgress(value=1.0, bar_style='info', max=1.0), HTML(value='')))"
            ]
          },
          "metadata": {
            "tags": []
          }
        },
        {
          "output_type": "stream",
          "text": [
            "\n"
          ],
          "name": "stdout"
        }
      ]
    },
    {
      "cell_type": "code",
      "metadata": {
        "colab_type": "code",
        "outputId": "31576884-cd77-4de8-bd56-9c607459c423",
        "id": "lnFK0hYBljQU",
        "colab": {
          "base_uri": "https://localhost:8080/",
          "height": 350
        }
      },
      "source": [
        "plt.figure(figsize=(15,5))\n",
        "plt.plot(history.history['loss'], label='Train')\n",
        "plt.plot(history.history['val_loss'], label='Test')\n",
        "plt.title('Min test cross entropy loss : %.4f epoch: %s' % (np.min((history.history['val_loss'])), np.argmin(history.history['val_loss'])))\n",
        "plt.ylabel('Cross-entropy value')\n",
        "plt.xlabel('No. epoch')\n",
        "plt.legend(loc=\"upper left\")\n",
        "plt.show()"
      ],
      "execution_count": 286,
      "outputs": [
        {
          "output_type": "display_data",
          "data": {
            "image/png": "[encoded data removed]",
            "text/plain": [
              "<Figure size 1080x360 with 1 Axes>"
            ]
          },
          "metadata": {
            "tags": [],
            "needs_background": "light"
          }
        }
      ]
    },
    {
      "cell_type": "code",
      "metadata": {
        "colab_type": "code",
        "outputId": "80ec8a45-540b-418e-d173-34865fc1ad6b",
        "id": "A3CQyqddljQi",
        "colab": {
          "base_uri": "https://localhost:8080/",
          "height": 350
        }
      },
      "source": [
        "plt.figure(figsize=(15,5))\n",
        "plt.plot(history.history['accuracy'], label='Train')\n",
        "plt.plot(history.history['val_accuracy'], label='Test')\n",
        "plt.title('Max test accuracy: %.4f epoch: %s' % (np.max((history.history['val_accuracy'])), np.argmax(history.history['val_accuracy'])))\n",
        "plt.ylabel('Accuracy value')\n",
        "plt.xlabel('No. epoch')\n",
        "plt.legend(loc=\"upper left\")\n",
        "plt.show()"
      ],
      "execution_count": 287,
      "outputs": [
        {
          "output_type": "display_data",
          "data": {
            "image/png": "[encoded data removed]",
            "text/plain": [
              "<Figure size 1080x360 with 1 Axes>"
            ]
          },
          "metadata": {
            "tags": [],
            "needs_background": "light"
          }
        }
      ]
    },
    {
      "cell_type": "markdown",
      "metadata": {
        "id": "yrYBLrCZfrx6",
        "colab_type": "text"
      },
      "source": [
        "## Dropout"
      ]
    },
    {
      "cell_type": "code",
      "metadata": {
        "colab_type": "code",
        "id": "nqL6Ndpa7L0_",
        "colab": {}
      },
      "source": [
        "seed = 42\n",
        "np.random.seed(seed)\n",
        "set_seed(seed)"
      ],
      "execution_count": 0,
      "outputs": []
    },
    {
      "cell_type": "code",
      "metadata": {
        "colab_type": "code",
        "id": "ZxlxlH4B7L1G",
        "colab": {}
      },
      "source": [
        "model = Sequential([\n",
        "    Dense(120, kernel_initializer=glorot_uniform(seed=seed), \n",
        "          kernel_constraint=maxnorm(3),\n",
        "          input_shape=(X_train.shape[1],)),\n",
        "    Dropout(0.1),\n",
        "    Activation('sigmoid'),\n",
        "    Dense(60, kernel_initializer=glorot_uniform(seed=seed), \n",
        "          kernel_constraint=maxnorm(3)),\n",
        "    Dropout(0.1),\n",
        "    Activation('sigmoid'),\n",
        "    Dense(n_classes, kernel_initializer=glorot_uniform(seed=seed),\n",
        "          kernel_constraint=maxnorm(3),),\n",
        "    Activation('softmax'),\n",
        "])"
      ],
      "execution_count": 0,
      "outputs": []
    },
    {
      "cell_type": "code",
      "metadata": {
        "colab_type": "code",
        "id": "OCX-vUktfgoZ",
        "colab": {}
      },
      "source": [
        "model.compile(optimizer='rmsprop',\n",
        "              loss='categorical_crossentropy',\n",
        "              metrics=['accuracy'])"
      ],
      "execution_count": 0,
      "outputs": []
    },
    {
      "cell_type": "code",
      "metadata": {
        "colab_type": "code",
        "outputId": "0594db6f-fcae-47c3-c5e4-206e49ebc05d",
        "id": "eEZjhTRKfgod",
        "colab": {
          "base_uri": "https://localhost:8080/",
          "height": 66,
          "referenced_widgets": [
            "cef9faa6b58644cc96be7d1441701299",
            "8792d58898fc4a4f9b7835e8d98ee1ae",
            "f05202b4ce8b485986b9b6b4ae075a66",
            "729d0645f30b4392b20b54cf68e7492b",
            "19ee1508cbfd45319f887cbbde5ad4e9",
            "ab7a6477dbee4e05a8cbd50c6267ed0f",
            "ad1f3b6fb4c7489585446f150753829b",
            "a1f3296bac044c14ac23cea2c304f56e"
          ]
        }
      },
      "source": [
        "history = model.fit(X_train, y_train, validation_data=(X_test, y_test), epochs=150, batch_size=10, verbose=0, callbacks=[TqdmCallback(verbose=0)],)"
      ],
      "execution_count": 349,
      "outputs": [
        {
          "output_type": "display_data",
          "data": {
            "application/vnd.jupyter.widget-view+json": {
              "model_id": "cef9faa6b58644cc96be7d1441701299",
              "version_minor": 0,
              "version_major": 2
            },
            "text/plain": [
              "HBox(children=(FloatProgress(value=1.0, bar_style='info', max=1.0), HTML(value='')))"
            ]
          },
          "metadata": {
            "tags": []
          }
        },
        {
          "output_type": "stream",
          "text": [
            "\n"
          ],
          "name": "stdout"
        }
      ]
    },
    {
      "cell_type": "code",
      "metadata": {
        "colab_type": "code",
        "outputId": "1e1d7ef7-4a17-47f6-c53b-b8a954dcdb9d",
        "id": "D5u4_giDfgoi",
        "colab": {
          "base_uri": "https://localhost:8080/",
          "height": 350
        }
      },
      "source": [
        "plt.figure(figsize=(15,5))\n",
        "plt.plot(history.history['loss'], label='Train')\n",
        "plt.plot(history.history['val_loss'], label='Test')\n",
        "plt.title('Min test cross entropy loss : %.4f epoch: %s' % (np.min((history.history['val_loss'])), np.argmin(history.history['val_loss'])))\n",
        "plt.ylabel('Cross-entropy value')\n",
        "plt.xlabel('No. epoch')\n",
        "plt.legend(loc=\"upper left\")\n",
        "plt.show()"
      ],
      "execution_count": 350,
      "outputs": [
        {
          "output_type": "display_data",
          "data": {
            "image/png": "[encoded data removed]",
            "text/plain": [
              "<Figure size 1080x360 with 1 Axes>"
            ]
          },
          "metadata": {
            "tags": [],
            "needs_background": "light"
          }
        }
      ]
    },
    {
      "cell_type": "code",
      "metadata": {
        "colab_type": "code",
        "outputId": "ff31b22a-8d73-4135-9b3e-886e609c09a5",
        "id": "d_ILLv62fgom",
        "colab": {
          "base_uri": "https://localhost:8080/",
          "height": 350
        }
      },
      "source": [
        "plt.figure(figsize=(15,5))\n",
        "plt.plot(history.history['accuracy'], label='Train')\n",
        "plt.plot(history.history['val_accuracy'], label='Test')\n",
        "plt.title('Max test accuracy: %.4f epoch: %s' % (np.max((history.history['val_accuracy'])), np.argmax(history.history['val_accuracy'])))\n",
        "plt.ylabel('Accuracy value')\n",
        "plt.xlabel('No. epoch')\n",
        "plt.legend(loc=\"upper left\")\n",
        "plt.show()"
      ],
      "execution_count": 351,
      "outputs": [
        {
          "output_type": "display_data",
          "data": {
            "image/png": "[encoded data removed]",
            "text/plain": [
              "<Figure size 1080x360 with 1 Axes>"
            ]
          },
          "metadata": {
            "tags": [],
            "needs_background": "light"
          }
        }
      ]
    },
    {
      "cell_type": "markdown",
      "metadata": {
        "id": "GxYzhBB9yX3I",
        "colab_type": "text"
      },
      "source": [
        "## Testing of the model"
      ]
    },
    {
      "cell_type": "code",
      "metadata": {
        "colab_type": "code",
        "id": "C1-aHRNvyhrJ",
        "colab": {}
      },
      "source": [
        "model.compile(optimizer='rmsprop',\n",
        "              loss='categorical_crossentropy',\n",
        "              metrics=['accuracy'])"
      ],
      "execution_count": 0,
      "outputs": []
    },
    {
      "cell_type": "code",
      "metadata": {
        "colab_type": "code",
        "outputId": "701dbbd6-2814-4374-ad83-cd248f8796ab",
        "id": "dq9YqEuvyhrQ",
        "colab": {
          "base_uri": "https://localhost:8080/",
          "height": 66,
          "referenced_widgets": [
            "0c3036ebec7e4f0fb0241f5f50d63a02",
            "cf8e3c3210f84701ad8f5d088780c4e0",
            "f788aae6c6df4b149463a2c8f571abab",
            "0950e41598e44c34b6ab5629970f3f9d",
            "e5470ee6a0064bee801ec790e03f8f41",
            "ef51bb0e86bd43559e65a5b9d6082172",
            "79cc5db8a9db476dab3f0d154c132094",
            "198b62e612614e03bb75a08165e66afd"
          ]
        }
      },
      "source": [
        "history = model.fit(X_train, y_train, validation_data=(X_test, y_test), epochs=40, batch_size=10, verbose=0, callbacks=[TqdmCallback(verbose=0)])"
      ],
      "execution_count": 338,
      "outputs": [
        {
          "output_type": "display_data",
          "data": {
            "application/vnd.jupyter.widget-view+json": {
              "model_id": "0c3036ebec7e4f0fb0241f5f50d63a02",
              "version_minor": 0,
              "version_major": 2
            },
            "text/plain": [
              "HBox(children=(FloatProgress(value=1.0, bar_style='info', max=1.0), HTML(value='')))"
            ]
          },
          "metadata": {
            "tags": []
          }
        },
        {
          "output_type": "stream",
          "text": [
            "\n"
          ],
          "name": "stdout"
        }
      ]
    },
    {
      "cell_type": "code",
      "metadata": {
        "id": "kPkNeCgbw_FX",
        "colab_type": "code",
        "colab": {
          "base_uri": "https://localhost:8080/",
          "height": 187
        },
        "outputId": "bc349983-3bbe-4b50-dbc1-9f26551b4b42"
      },
      "source": [
        "print(classification_report(y_test.argmax(axis=1), model.predict_classes(X_test)))"
      ],
      "execution_count": 339,
      "outputs": [
        {
          "output_type": "stream",
          "text": [
            "              precision    recall  f1-score   support\n",
            "\n",
            "           0       0.64      0.79      0.71       220\n",
            "           1       0.52      0.48      0.50       224\n",
            "           2       0.80      0.67      0.73       231\n",
            "\n",
            "    accuracy                           0.65       675\n",
            "   macro avg       0.65      0.65      0.65       675\n",
            "weighted avg       0.65      0.65      0.65       675\n",
            "\n"
          ],
          "name": "stdout"
        }
      ]
    },
    {
      "cell_type": "markdown",
      "metadata": {
        "id": "4V3LqwmPydRU",
        "colab_type": "text"
      },
      "source": [
        "# Conclusions"
      ]
    },
    {
      "cell_type": "markdown",
      "metadata": {
        "id": "1hsWJTe3yitI",
        "colab_type": "text"
      },
      "source": [
        "Keras implementation of neural network has higher accuracy score than my implementation:\n",
        "\n",
        "*   Keras nn - the best accuracy = 66.22%\n",
        "*   My nn - the best accuracy = 65.48%\n",
        "\n",
        "In addition, it should be noted that the dropout allowed to reduce overfitting.\n"
      ]
    }
  ]
}