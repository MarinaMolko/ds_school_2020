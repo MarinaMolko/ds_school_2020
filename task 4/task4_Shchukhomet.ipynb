{
  "nbformat": 4,
  "nbformat_minor": 0,
  "metadata": {
    "colab": {
      "name": "Untitled1.ipynb",
      "provenance": [],
      "collapsed_sections": []
    },
    "kernelspec": {
      "name": "python3",
      "display_name": "Python 3"
    }
  },
  "cells": [
    {
      "cell_type": "code",
      "metadata": {
        "id": "RerCPo21KTCZ",
        "colab_type": "code",
        "colab": {}
      },
      "source": [
        "import numpy as np"
      ],
      "execution_count": 0,
      "outputs": []
    },
    {
      "cell_type": "code",
      "metadata": {
        "id": "4ma43rUkMrEs",
        "colab_type": "code",
        "outputId": "d22599cd-b76f-49c1-eb44-667c7cb6de91",
        "colab": {
          "base_uri": "https://localhost:8080/",
          "height": 1000
        }
      },
      "source": [
        "train_X = np.random.sample((100, 2))\n",
        "print(train_X)\n",
        "train_X.shape"
      ],
      "execution_count": 0,
      "outputs": [
        {
          "output_type": "stream",
          "text": [
            "[[0.71369021 0.11750406]\n",
            " [0.84639598 0.56488098]\n",
            " [0.46000194 0.43069852]\n",
            " [0.80624257 0.3310152 ]\n",
            " [0.33096063 0.47357903]\n",
            " [0.4846123  0.13685741]\n",
            " [0.03291521 0.24959589]\n",
            " [0.34700664 0.05592316]\n",
            " [0.26705011 0.17853629]\n",
            " [0.80208493 0.3572843 ]\n",
            " [0.26289047 0.03780418]\n",
            " [0.55877873 0.86017207]\n",
            " [0.83065614 0.8244651 ]\n",
            " [0.9128948  0.85039725]\n",
            " [0.0203422  0.96374584]\n",
            " [0.05032388 0.92406431]\n",
            " [0.75239689 0.28100734]\n",
            " [0.51090548 0.7392636 ]\n",
            " [0.91820344 0.76728089]\n",
            " [0.2890771  0.62202004]\n",
            " [0.50265991 0.57112161]\n",
            " [0.40056638 0.09667771]\n",
            " [0.09793379 0.28826164]\n",
            " [0.09612412 0.90708612]\n",
            " [0.29462199 0.47555539]\n",
            " [0.24579036 0.72716701]\n",
            " [0.21419094 0.55235249]\n",
            " [0.51466607 0.2787798 ]\n",
            " [0.54494473 0.16936932]\n",
            " [0.2779276  0.05836004]\n",
            " [0.11896161 0.09986178]\n",
            " [0.75582699 0.6134548 ]\n",
            " [0.51813741 0.59830897]\n",
            " [0.44269883 0.18747119]\n",
            " [0.34097362 0.88793655]\n",
            " [0.26007532 0.45663888]\n",
            " [0.19554689 0.44337987]\n",
            " [0.4445793  0.53922302]\n",
            " [0.74700586 0.21560175]\n",
            " [0.57176503 0.25442831]\n",
            " [0.37305508 0.38145194]\n",
            " [0.10129512 0.38485404]\n",
            " [0.17670787 0.3084996 ]\n",
            " [0.22543937 0.33748622]\n",
            " [0.17122063 0.6925226 ]\n",
            " [0.66919221 0.60982438]\n",
            " [0.43240635 0.56802807]\n",
            " [0.04574907 0.45395568]\n",
            " [0.05325054 0.35625719]\n",
            " [0.08699399 0.21265585]\n",
            " [0.30359547 0.14276057]\n",
            " [0.91464121 0.14250361]\n",
            " [0.09174524 0.11123824]\n",
            " [0.89895135 0.11450826]\n",
            " [0.77258522 0.67200294]\n",
            " [0.96405825 0.94738943]\n",
            " [0.968034   0.02245784]\n",
            " [0.19740043 0.2220423 ]\n",
            " [0.74851963 0.70266209]\n",
            " [0.19463632 0.55341609]\n",
            " [0.59189959 0.08149458]\n",
            " [0.49549507 0.51445153]\n",
            " [0.42483332 0.90046481]\n",
            " [0.85694577 0.19628161]\n",
            " [0.04753462 0.74941744]\n",
            " [0.64133461 0.91691974]\n",
            " [0.74138702 0.20120115]\n",
            " [0.06058194 0.64700852]\n",
            " [0.51301048 0.16411771]\n",
            " [0.1601766  0.75291093]\n",
            " [0.10358597 0.7230602 ]\n",
            " [0.1736237  0.04805511]\n",
            " [0.62471522 0.38767745]\n",
            " [0.64454408 0.47713208]\n",
            " [0.52988237 0.24109613]\n",
            " [0.84194083 0.12767351]\n",
            " [0.40489647 0.10723249]\n",
            " [0.96356156 0.64805648]\n",
            " [0.99441274 0.22107445]\n",
            " [0.59023285 0.72538801]\n",
            " [0.87036406 0.18212838]\n",
            " [0.40375588 0.8052541 ]\n",
            " [0.33732855 0.49286139]\n",
            " [0.88511162 0.25732517]\n",
            " [0.0432098  0.72614266]\n",
            " [0.27456253 0.5696348 ]\n",
            " [0.11444734 0.92449682]\n",
            " [0.28533185 0.38513446]\n",
            " [0.79600679 0.33501731]\n",
            " [0.83519954 0.95716539]\n",
            " [0.49453114 0.95846674]\n",
            " [0.95089618 0.3708824 ]\n",
            " [0.16350366 0.40075658]\n",
            " [0.72485968 0.41404827]\n",
            " [0.89733867 0.88552037]\n",
            " [0.99236594 0.55621387]\n",
            " [0.91933863 0.7077369 ]\n",
            " [0.9417013  0.53098173]\n",
            " [0.12197327 0.75083284]\n",
            " [0.67136959 0.16522205]]\n"
          ],
          "name": "stdout"
        },
        {
          "output_type": "execute_result",
          "data": {
            "text/plain": [
              "(100, 2)"
            ]
          },
          "metadata": {
            "tags": []
          },
          "execution_count": 84
        }
      ]
    },
    {
      "cell_type": "code",
      "metadata": {
        "id": "y6Ib8vUcNO7i",
        "colab_type": "code",
        "colab": {}
      },
      "source": [
        "train_Y = np.zeros((100))"
      ],
      "execution_count": 0,
      "outputs": []
    },
    {
      "cell_type": "code",
      "metadata": {
        "id": "ZTMO-ospPD4P",
        "colab_type": "code",
        "outputId": "5c403d27-9737-4f23-f0bc-2d997ac03a64",
        "colab": {
          "base_uri": "https://localhost:8080/",
          "height": 119
        }
      },
      "source": [
        "train_Y[10:100:10] = 1\n",
        "print(train_Y)\n",
        "train_Y = train_Y.reshape(100, 1)\n",
        "train_Y.shape"
      ],
      "execution_count": 0,
      "outputs": [
        {
          "output_type": "stream",
          "text": [
            "[[0. 0. 0. 0. 0. 0. 0. 0. 0. 0. 1. 0. 0. 0. 0. 0. 0. 0. 0. 0. 1. 0. 0. 0.\n",
            "  0. 0. 0. 0. 0. 0. 1. 0. 0. 0. 0. 0. 0. 0. 0. 0. 1. 0. 0. 0. 0. 0. 0. 0.\n",
            "  0. 0. 1. 0. 0. 0. 0. 0. 0. 0. 0. 0. 1. 0. 0. 0. 0. 0. 0. 0. 0. 0. 1. 0.\n",
            "  0. 0. 0. 0. 0. 0. 0. 0. 1. 0. 0. 0. 0. 0. 0. 0. 0. 0. 1. 0. 0. 0. 0. 0.\n",
            "  0. 0. 0. 0.]]\n"
          ],
          "name": "stdout"
        },
        {
          "output_type": "execute_result",
          "data": {
            "text/plain": [
              "(100, 1)"
            ]
          },
          "metadata": {
            "tags": []
          },
          "execution_count": 76
        }
      ]
    },
    {
      "cell_type": "code",
      "metadata": {
        "id": "HOIZHwp6Pyu2",
        "colab_type": "code",
        "outputId": "a111bd7c-9c66-48a8-f64f-5673674f09cd",
        "colab": {
          "base_uri": "https://localhost:8080/",
          "height": 187
        }
      },
      "source": [
        "test_X = np.random.sample((10, 2))\n",
        "print(test_X)"
      ],
      "execution_count": 0,
      "outputs": [
        {
          "output_type": "stream",
          "text": [
            "[[0.66205227 0.63532349]\n",
            " [0.8960098  0.46052255]\n",
            " [0.99297525 0.67474582]\n",
            " [0.22549546 0.11475911]\n",
            " [0.61441555 0.8339905 ]\n",
            " [0.74750703 0.81750086]\n",
            " [0.34232935 0.95441812]\n",
            " [0.8367912  0.70819838]\n",
            " [0.86222918 0.61061261]\n",
            " [0.29499325 0.916305  ]]\n"
          ],
          "name": "stdout"
        }
      ]
    },
    {
      "cell_type": "code",
      "metadata": {
        "id": "71PxcW5MQAV2",
        "colab_type": "code",
        "outputId": "be0c88d7-aefb-46ef-b6f3-2d8feecd8500",
        "colab": {
          "base_uri": "https://localhost:8080/",
          "height": 34
        }
      },
      "source": [
        "test_Y = np.zeros((10))\n",
        "test_Y[0:10:5] = 1\n",
        "print(test_Y)\n",
        "test_Y = test_Y.reshape(10, 1)"
      ],
      "execution_count": 0,
      "outputs": [
        {
          "output_type": "stream",
          "text": [
            "[1. 0. 0. 0. 0. 1. 0. 0. 0. 0.]\n"
          ],
          "name": "stdout"
        }
      ]
    },
    {
      "cell_type": "code",
      "metadata": {
        "id": "-1RvOFPfQXRk",
        "colab_type": "code",
        "colab": {}
      },
      "source": [
        "import keras\n",
        "from keras import models\n",
        "from keras import layers"
      ],
      "execution_count": 0,
      "outputs": []
    },
    {
      "cell_type": "code",
      "metadata": {
        "id": "jbS3gDepQdQ9",
        "colab_type": "code",
        "outputId": "9774b2e1-92b7-4312-8671-91173a32c71c",
        "colab": {
          "base_uri": "https://localhost:8080/",
          "height": 34
        }
      },
      "source": [
        "test_X.shape"
      ],
      "execution_count": 0,
      "outputs": [
        {
          "output_type": "execute_result",
          "data": {
            "text/plain": [
              "(10, 2)"
            ]
          },
          "metadata": {
            "tags": []
          },
          "execution_count": 99
        }
      ]
    },
    {
      "cell_type": "code",
      "metadata": {
        "id": "-5EARssGQ5lk",
        "colab_type": "code",
        "outputId": "799f8a33-4020-4421-9870-04f1ba252646",
        "colab": {
          "base_uri": "https://localhost:8080/",
          "height": 34
        }
      },
      "source": [
        "test_Y.shape"
      ],
      "execution_count": 0,
      "outputs": [
        {
          "output_type": "execute_result",
          "data": {
            "text/plain": [
              "(10, 1)"
            ]
          },
          "metadata": {
            "tags": []
          },
          "execution_count": 98
        }
      ]
    },
    {
      "cell_type": "code",
      "metadata": {
        "id": "xp_wlE6mRAMx",
        "colab_type": "code",
        "colab": {}
      },
      "source": [
        "model = keras.Sequential([\n",
        "    keras.layers.Dense(3, activation='relu'),\n",
        "    keras.layers.Dense(1, activation='sigmoid')\n",
        "])"
      ],
      "execution_count": 0,
      "outputs": []
    },
    {
      "cell_type": "code",
      "metadata": {
        "id": "5zY9LbE5SM6K",
        "colab_type": "code",
        "colab": {}
      },
      "source": [
        "model.compile(optimizer='rmsprop', loss='binary_crossentropy', metrics=['accuracy'])"
      ],
      "execution_count": 0,
      "outputs": []
    },
    {
      "cell_type": "code",
      "metadata": {
        "id": "fesdmXBtdOWb",
        "colab_type": "code",
        "outputId": "80a1afdb-815b-40e4-b247-496fb42b4c5d",
        "colab": {
          "base_uri": "https://localhost:8080/",
          "height": 1000
        }
      },
      "source": [
        "model.fit(train_X, train_Y, epochs=100, batch_size=32)"
      ],
      "execution_count": 0,
      "outputs": [
        {
          "output_type": "stream",
          "text": [
            "Epoch 1/100\n",
            "100/100 [==============================] - 0s 3ms/step - loss: 0.7466 - accuracy: 0.2700\n",
            "Epoch 2/100\n",
            "100/100 [==============================] - 0s 92us/step - loss: 0.7386 - accuracy: 0.2800\n",
            "Epoch 3/100\n",
            "100/100 [==============================] - 0s 88us/step - loss: 0.7331 - accuracy: 0.3200\n",
            "Epoch 4/100\n",
            "100/100 [==============================] - 0s 88us/step - loss: 0.7284 - accuracy: 0.3100\n",
            "Epoch 5/100\n",
            "100/100 [==============================] - 0s 81us/step - loss: 0.7241 - accuracy: 0.3400\n",
            "Epoch 6/100\n",
            "100/100 [==============================] - 0s 83us/step - loss: 0.7201 - accuracy: 0.3400\n",
            "Epoch 7/100\n",
            "100/100 [==============================] - 0s 69us/step - loss: 0.7162 - accuracy: 0.3400\n",
            "Epoch 8/100\n",
            "100/100 [==============================] - 0s 80us/step - loss: 0.7125 - accuracy: 0.3500\n",
            "Epoch 9/100\n",
            "100/100 [==============================] - 0s 81us/step - loss: 0.7091 - accuracy: 0.3700\n",
            "Epoch 10/100\n",
            "100/100 [==============================] - 0s 82us/step - loss: 0.7055 - accuracy: 0.3900\n",
            "Epoch 11/100\n",
            "100/100 [==============================] - 0s 69us/step - loss: 0.7023 - accuracy: 0.4000\n",
            "Epoch 12/100\n",
            "100/100 [==============================] - 0s 81us/step - loss: 0.6986 - accuracy: 0.4000\n",
            "Epoch 13/100\n",
            "100/100 [==============================] - 0s 68us/step - loss: 0.6957 - accuracy: 0.4100\n",
            "Epoch 14/100\n",
            "100/100 [==============================] - 0s 72us/step - loss: 0.6919 - accuracy: 0.4200\n",
            "Epoch 15/100\n",
            "100/100 [==============================] - 0s 98us/step - loss: 0.6885 - accuracy: 0.4700\n",
            "Epoch 16/100\n",
            "100/100 [==============================] - 0s 76us/step - loss: 0.6847 - accuracy: 0.4800\n",
            "Epoch 17/100\n",
            "100/100 [==============================] - 0s 78us/step - loss: 0.6813 - accuracy: 0.4800\n",
            "Epoch 18/100\n",
            "100/100 [==============================] - 0s 70us/step - loss: 0.6780 - accuracy: 0.5000\n",
            "Epoch 19/100\n",
            "100/100 [==============================] - 0s 78us/step - loss: 0.6744 - accuracy: 0.5500\n",
            "Epoch 20/100\n",
            "100/100 [==============================] - 0s 96us/step - loss: 0.6714 - accuracy: 0.5900\n",
            "Epoch 21/100\n",
            "100/100 [==============================] - 0s 86us/step - loss: 0.6679 - accuracy: 0.6200\n",
            "Epoch 22/100\n",
            "100/100 [==============================] - 0s 67us/step - loss: 0.6645 - accuracy: 0.6500\n",
            "Epoch 23/100\n",
            "100/100 [==============================] - 0s 69us/step - loss: 0.6612 - accuracy: 0.6500\n",
            "Epoch 24/100\n",
            "100/100 [==============================] - 0s 89us/step - loss: 0.6578 - accuracy: 0.6700\n",
            "Epoch 25/100\n",
            "100/100 [==============================] - 0s 95us/step - loss: 0.6548 - accuracy: 0.7200\n",
            "Epoch 26/100\n",
            "100/100 [==============================] - 0s 86us/step - loss: 0.6513 - accuracy: 0.7400\n",
            "Epoch 27/100\n",
            "100/100 [==============================] - 0s 87us/step - loss: 0.6481 - accuracy: 0.7600\n",
            "Epoch 28/100\n",
            "100/100 [==============================] - 0s 75us/step - loss: 0.6448 - accuracy: 0.7600\n",
            "Epoch 29/100\n",
            "100/100 [==============================] - 0s 83us/step - loss: 0.6418 - accuracy: 0.7600\n",
            "Epoch 30/100\n",
            "100/100 [==============================] - 0s 83us/step - loss: 0.6385 - accuracy: 0.7700\n",
            "Epoch 31/100\n",
            "100/100 [==============================] - 0s 85us/step - loss: 0.6353 - accuracy: 0.8000\n",
            "Epoch 32/100\n",
            "100/100 [==============================] - 0s 89us/step - loss: 0.6319 - accuracy: 0.8300\n",
            "Epoch 33/100\n",
            "100/100 [==============================] - 0s 80us/step - loss: 0.6287 - accuracy: 0.8300\n",
            "Epoch 34/100\n",
            "100/100 [==============================] - 0s 77us/step - loss: 0.6259 - accuracy: 0.8400\n",
            "Epoch 35/100\n",
            "100/100 [==============================] - 0s 94us/step - loss: 0.6227 - accuracy: 0.8400\n",
            "Epoch 36/100\n",
            "100/100 [==============================] - 0s 76us/step - loss: 0.6195 - accuracy: 0.8700\n",
            "Epoch 37/100\n",
            "100/100 [==============================] - 0s 99us/step - loss: 0.6171 - accuracy: 0.8700\n",
            "Epoch 38/100\n",
            "100/100 [==============================] - 0s 74us/step - loss: 0.6143 - accuracy: 0.8700\n",
            "Epoch 39/100\n",
            "100/100 [==============================] - 0s 87us/step - loss: 0.6110 - accuracy: 0.8700\n",
            "Epoch 40/100\n",
            "100/100 [==============================] - 0s 87us/step - loss: 0.6086 - accuracy: 0.8700\n",
            "Epoch 41/100\n",
            "100/100 [==============================] - 0s 83us/step - loss: 0.6052 - accuracy: 0.8900\n",
            "Epoch 42/100\n",
            "100/100 [==============================] - 0s 107us/step - loss: 0.6021 - accuracy: 0.9000\n",
            "Epoch 43/100\n",
            "100/100 [==============================] - 0s 124us/step - loss: 0.5987 - accuracy: 0.9000\n",
            "Epoch 44/100\n",
            "100/100 [==============================] - 0s 105us/step - loss: 0.5954 - accuracy: 0.9100\n",
            "Epoch 45/100\n",
            "100/100 [==============================] - 0s 172us/step - loss: 0.5927 - accuracy: 0.9100\n",
            "Epoch 46/100\n",
            "100/100 [==============================] - 0s 119us/step - loss: 0.5894 - accuracy: 0.9100\n",
            "Epoch 47/100\n",
            "100/100 [==============================] - 0s 84us/step - loss: 0.5867 - accuracy: 0.9100\n",
            "Epoch 48/100\n",
            "100/100 [==============================] - 0s 91us/step - loss: 0.5831 - accuracy: 0.9100\n",
            "Epoch 49/100\n",
            "100/100 [==============================] - 0s 101us/step - loss: 0.5799 - accuracy: 0.9100\n",
            "Epoch 50/100\n",
            "100/100 [==============================] - 0s 121us/step - loss: 0.5774 - accuracy: 0.9100\n",
            "Epoch 51/100\n",
            "100/100 [==============================] - 0s 88us/step - loss: 0.5741 - accuracy: 0.9100\n",
            "Epoch 52/100\n",
            "100/100 [==============================] - 0s 97us/step - loss: 0.5717 - accuracy: 0.9100\n",
            "Epoch 53/100\n",
            "100/100 [==============================] - 0s 184us/step - loss: 0.5683 - accuracy: 0.9100\n",
            "Epoch 54/100\n",
            "100/100 [==============================] - 0s 88us/step - loss: 0.5659 - accuracy: 0.9100\n",
            "Epoch 55/100\n",
            "100/100 [==============================] - 0s 72us/step - loss: 0.5624 - accuracy: 0.9100\n",
            "Epoch 56/100\n",
            "100/100 [==============================] - 0s 67us/step - loss: 0.5590 - accuracy: 0.9100\n",
            "Epoch 57/100\n",
            "100/100 [==============================] - 0s 81us/step - loss: 0.5557 - accuracy: 0.9100\n",
            "Epoch 58/100\n",
            "100/100 [==============================] - 0s 141us/step - loss: 0.5536 - accuracy: 0.9100\n",
            "Epoch 59/100\n",
            "100/100 [==============================] - 0s 77us/step - loss: 0.5504 - accuracy: 0.9100\n",
            "Epoch 60/100\n",
            "100/100 [==============================] - 0s 102us/step - loss: 0.5472 - accuracy: 0.9100\n",
            "Epoch 61/100\n",
            "100/100 [==============================] - 0s 85us/step - loss: 0.5440 - accuracy: 0.9100\n",
            "Epoch 62/100\n",
            "100/100 [==============================] - 0s 83us/step - loss: 0.5416 - accuracy: 0.9100\n",
            "Epoch 63/100\n",
            "100/100 [==============================] - 0s 81us/step - loss: 0.5391 - accuracy: 0.9100\n",
            "Epoch 64/100\n",
            "100/100 [==============================] - 0s 74us/step - loss: 0.5358 - accuracy: 0.9100\n",
            "Epoch 65/100\n",
            "100/100 [==============================] - 0s 78us/step - loss: 0.5326 - accuracy: 0.9100\n",
            "Epoch 66/100\n",
            "100/100 [==============================] - 0s 75us/step - loss: 0.5294 - accuracy: 0.9100\n",
            "Epoch 67/100\n",
            "100/100 [==============================] - 0s 85us/step - loss: 0.5267 - accuracy: 0.9100\n",
            "Epoch 68/100\n",
            "100/100 [==============================] - 0s 74us/step - loss: 0.5242 - accuracy: 0.9100\n",
            "Epoch 69/100\n",
            "100/100 [==============================] - 0s 93us/step - loss: 0.5209 - accuracy: 0.9100\n",
            "Epoch 70/100\n",
            "100/100 [==============================] - 0s 99us/step - loss: 0.5176 - accuracy: 0.9100\n",
            "Epoch 71/100\n",
            "100/100 [==============================] - 0s 104us/step - loss: 0.5148 - accuracy: 0.9100\n",
            "Epoch 72/100\n",
            "100/100 [==============================] - 0s 96us/step - loss: 0.5115 - accuracy: 0.9100\n",
            "Epoch 73/100\n",
            "100/100 [==============================] - 0s 96us/step - loss: 0.5095 - accuracy: 0.9100\n",
            "Epoch 74/100\n",
            "100/100 [==============================] - 0s 80us/step - loss: 0.5064 - accuracy: 0.9100\n",
            "Epoch 75/100\n",
            "100/100 [==============================] - 0s 74us/step - loss: 0.5033 - accuracy: 0.9100\n",
            "Epoch 76/100\n",
            "100/100 [==============================] - 0s 76us/step - loss: 0.5006 - accuracy: 0.9100\n",
            "Epoch 77/100\n",
            "100/100 [==============================] - 0s 78us/step - loss: 0.4978 - accuracy: 0.9100\n",
            "Epoch 78/100\n",
            "100/100 [==============================] - 0s 75us/step - loss: 0.4949 - accuracy: 0.9100\n",
            "Epoch 79/100\n",
            "100/100 [==============================] - 0s 104us/step - loss: 0.4917 - accuracy: 0.9100\n",
            "Epoch 80/100\n",
            "100/100 [==============================] - 0s 81us/step - loss: 0.4887 - accuracy: 0.9100\n",
            "Epoch 81/100\n",
            "100/100 [==============================] - 0s 95us/step - loss: 0.4856 - accuracy: 0.9100\n",
            "Epoch 82/100\n",
            "100/100 [==============================] - 0s 96us/step - loss: 0.4827 - accuracy: 0.9100\n",
            "Epoch 83/100\n",
            "100/100 [==============================] - 0s 80us/step - loss: 0.4810 - accuracy: 0.9100\n",
            "Epoch 84/100\n",
            "100/100 [==============================] - 0s 106us/step - loss: 0.4780 - accuracy: 0.9100\n",
            "Epoch 85/100\n",
            "100/100 [==============================] - 0s 84us/step - loss: 0.4752 - accuracy: 0.9100\n",
            "Epoch 86/100\n",
            "100/100 [==============================] - 0s 109us/step - loss: 0.4724 - accuracy: 0.9100\n",
            "Epoch 87/100\n",
            "100/100 [==============================] - 0s 90us/step - loss: 0.4699 - accuracy: 0.9100\n",
            "Epoch 88/100\n",
            "100/100 [==============================] - 0s 78us/step - loss: 0.4669 - accuracy: 0.9100\n",
            "Epoch 89/100\n",
            "100/100 [==============================] - 0s 93us/step - loss: 0.4639 - accuracy: 0.9100\n",
            "Epoch 90/100\n",
            "100/100 [==============================] - 0s 98us/step - loss: 0.4610 - accuracy: 0.9100\n",
            "Epoch 91/100\n",
            "100/100 [==============================] - 0s 91us/step - loss: 0.4587 - accuracy: 0.9100\n",
            "Epoch 92/100\n",
            "100/100 [==============================] - 0s 84us/step - loss: 0.4557 - accuracy: 0.9100\n",
            "Epoch 93/100\n",
            "100/100 [==============================] - 0s 72us/step - loss: 0.4528 - accuracy: 0.9100\n",
            "Epoch 94/100\n",
            "100/100 [==============================] - 0s 68us/step - loss: 0.4500 - accuracy: 0.9100\n",
            "Epoch 95/100\n",
            "100/100 [==============================] - 0s 86us/step - loss: 0.4473 - accuracy: 0.9100\n",
            "Epoch 96/100\n",
            "100/100 [==============================] - 0s 89us/step - loss: 0.4445 - accuracy: 0.9100\n",
            "Epoch 97/100\n",
            "100/100 [==============================] - 0s 87us/step - loss: 0.4427 - accuracy: 0.9100\n",
            "Epoch 98/100\n",
            "100/100 [==============================] - 0s 72us/step - loss: 0.4404 - accuracy: 0.9100\n",
            "Epoch 99/100\n",
            "100/100 [==============================] - 0s 72us/step - loss: 0.4376 - accuracy: 0.9100\n",
            "Epoch 100/100\n",
            "100/100 [==============================] - 0s 171us/step - loss: 0.4350 - accuracy: 0.9100\n"
          ],
          "name": "stdout"
        },
        {
          "output_type": "execute_result",
          "data": {
            "text/plain": [
              "<keras.callbacks.callbacks.History at 0x7f3c1caab3c8>"
            ]
          },
          "metadata": {
            "tags": []
          },
          "execution_count": 96
        }
      ]
    },
    {
      "cell_type": "code",
      "metadata": {
        "id": "loQYjgQw2kfy",
        "colab_type": "code",
        "outputId": "1416ecaa-3f3e-4150-8234-57fd9faab794",
        "colab": {
          "base_uri": "https://localhost:8080/",
          "height": 34
        }
      },
      "source": [
        "test_loss, test_acc = model.evaluate(test_X, test_Y)"
      ],
      "execution_count": 0,
      "outputs": [
        {
          "output_type": "stream",
          "text": [
            "\r10/10 [==============================] - 0s 327us/step\n"
          ],
          "name": "stdout"
        }
      ]
    },
    {
      "cell_type": "code",
      "metadata": {
        "id": "PQKmIm8G4Cnj",
        "colab_type": "code",
        "outputId": "9fc8ddb2-a040-4d98-db99-81ca0f9a5006",
        "colab": {
          "base_uri": "https://localhost:8080/",
          "height": 34
        }
      },
      "source": [
        "print('test_acc:', test_acc)"
      ],
      "execution_count": 0,
      "outputs": [
        {
          "output_type": "stream",
          "text": [
            "test_acc: 0.800000011920929\n"
          ],
          "name": "stdout"
        }
      ]
    }
  ]
}