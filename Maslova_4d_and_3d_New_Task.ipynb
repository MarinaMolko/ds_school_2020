{
  "nbformat": 4,
  "nbformat_minor": 0,
  "metadata": {
    "colab": {
      "name": "Untitled4.ipynb",
      "provenance": [],
      "collapsed_sections": [],
      "authorship_tag": "ABX9TyNwTyOBE8G6A2cIQQtVPULo",
      "include_colab_link": true
    },
    "kernelspec": {
      "name": "python3",
      "display_name": "Python 3"
    }
  },
  "cells": [
    {
      "cell_type": "markdown",
      "metadata": {
        "id": "view-in-github",
        "colab_type": "text"
      },
      "source": [
        "<a href=\"https://colab.research.google.com/github/maslovalyudmila/ds_school_2020/blob/master/Maslova_4d_and_3d_New_Task.ipynb\" target=\"_parent\"><img src=\"https://colab.research.google.com/assets/colab-badge.svg\" alt=\"Open In Colab\"/></a>"
      ]
    },
    {
      "cell_type": "code",
      "metadata": {
        "id": "r2GOCTIY7I7j",
        "colab_type": "code",
        "colab": {}
      },
      "source": [
        "# import libraries\n",
        "\n",
        "import numpy as np\n",
        "import pandas as pd\n",
        "pd.options.mode.chained_assignment = None  # default='warn'"
      ],
      "execution_count": 0,
      "outputs": []
    },
    {
      "cell_type": "markdown",
      "metadata": {
        "id": "q53WziftnQAD",
        "colab_type": "text"
      },
      "source": [
        "**Preprocessing the data**"
      ]
    },
    {
      "cell_type": "code",
      "metadata": {
        "id": "vT3TsRBJ9_1p",
        "colab_type": "code",
        "colab": {}
      },
      "source": [
        "# import our data\n",
        "\n",
        "df = pd.read_csv('/content/houses_to_rent_v2.csv')"
      ],
      "execution_count": 0,
      "outputs": []
    },
    {
      "cell_type": "code",
      "metadata": {
        "id": "6trR8JzmCZOo",
        "colab_type": "code",
        "colab": {}
      },
      "source": [
        "# create a binary column with target variable 'best demand'\n",
        "\n",
        "df['best demand'] = df['total (R$)']\n",
        "df_1 = df['best demand']\n",
        "df_1.loc[df_1 <= 3580] = 1\n",
        "df_1.loc[df_1 > 3580] = 0"
      ],
      "execution_count": 0,
      "outputs": []
    },
    {
      "cell_type": "code",
      "metadata": {
        "id": "_HUDgisQDZ2_",
        "colab_type": "code",
        "colab": {}
      },
      "source": [
        "# make categorical features as quantitive\n",
        "\n",
        "from sklearn.preprocessing import LabelEncoder\n",
        "\n",
        "df['animal'] = df['animal'].factorize()[0]\n",
        "df['furniture'] = df['furniture'].factorize()[0]\n",
        "\n",
        "labelencoder = LabelEncoder()\n",
        "df.city = labelencoder.fit_transform(df.city)\n",
        "df.floor = labelencoder.fit_transform(df.floor)"
      ],
      "execution_count": 0,
      "outputs": []
    },
    {
      "cell_type": "code",
      "metadata": {
        "id": "PddhaaCyM6yy",
        "colab_type": "code",
        "colab": {}
      },
      "source": [
        "# delete hierarchy\n",
        "\n",
        "from sklearn.preprocessing import OneHotEncoder\n",
        "from sklearn.compose import ColumnTransformer\n",
        "\n",
        "transformer = ColumnTransformer(transformers=[('city', OneHotEncoder(), [0,4])])\n",
        "transformer = ColumnTransformer(transformers=[('floor', OneHotEncoder(), [0,34])])"
      ],
      "execution_count": 0,
      "outputs": []
    },
    {
      "cell_type": "code",
      "metadata": {
        "id": "-VSEsjNJ-2V0",
        "colab_type": "code",
        "outputId": "7ebd4c4d-3e0f-462b-d036-9c0c8bf3dc69",
        "colab": {
          "base_uri": "https://localhost:8080/",
          "height": 221
        }
      },
      "source": [
        "# read first 5 rows of data\n",
        "\n",
        "df.head()"
      ],
      "execution_count": 19,
      "outputs": [
        {
          "output_type": "execute_result",
          "data": {
            "text/html": [
              "<div>\n",
              "<style scoped>\n",
              "    .dataframe tbody tr th:only-of-type {\n",
              "        vertical-align: middle;\n",
              "    }\n",
              "\n",
              "    .dataframe tbody tr th {\n",
              "        vertical-align: top;\n",
              "    }\n",
              "\n",
              "    .dataframe thead th {\n",
              "        text-align: right;\n",
              "    }\n",
              "</style>\n",
              "<table border=\"1\" class=\"dataframe\">\n",
              "  <thead>\n",
              "    <tr style=\"text-align: right;\">\n",
              "      <th></th>\n",
              "      <th>city</th>\n",
              "      <th>area</th>\n",
              "      <th>rooms</th>\n",
              "      <th>bathroom</th>\n",
              "      <th>parking spaces</th>\n",
              "      <th>floor</th>\n",
              "      <th>animal</th>\n",
              "      <th>furniture</th>\n",
              "      <th>hoa (R$)</th>\n",
              "      <th>rent amount (R$)</th>\n",
              "      <th>property tax (R$)</th>\n",
              "      <th>fire insurance (R$)</th>\n",
              "      <th>total (R$)</th>\n",
              "      <th>best demand</th>\n",
              "    </tr>\n",
              "  </thead>\n",
              "  <tbody>\n",
              "    <tr>\n",
              "      <th>0</th>\n",
              "      <td>4</td>\n",
              "      <td>70</td>\n",
              "      <td>2</td>\n",
              "      <td>1</td>\n",
              "      <td>1</td>\n",
              "      <td>32</td>\n",
              "      <td>0</td>\n",
              "      <td>0</td>\n",
              "      <td>2065</td>\n",
              "      <td>3300</td>\n",
              "      <td>211</td>\n",
              "      <td>42</td>\n",
              "      <td>5618</td>\n",
              "      <td>0</td>\n",
              "    </tr>\n",
              "    <tr>\n",
              "      <th>1</th>\n",
              "      <td>4</td>\n",
              "      <td>320</td>\n",
              "      <td>4</td>\n",
              "      <td>4</td>\n",
              "      <td>0</td>\n",
              "      <td>13</td>\n",
              "      <td>0</td>\n",
              "      <td>1</td>\n",
              "      <td>1200</td>\n",
              "      <td>4960</td>\n",
              "      <td>1750</td>\n",
              "      <td>63</td>\n",
              "      <td>7973</td>\n",
              "      <td>0</td>\n",
              "    </tr>\n",
              "    <tr>\n",
              "      <th>2</th>\n",
              "      <td>2</td>\n",
              "      <td>80</td>\n",
              "      <td>1</td>\n",
              "      <td>1</td>\n",
              "      <td>1</td>\n",
              "      <td>31</td>\n",
              "      <td>0</td>\n",
              "      <td>1</td>\n",
              "      <td>1000</td>\n",
              "      <td>2800</td>\n",
              "      <td>0</td>\n",
              "      <td>41</td>\n",
              "      <td>3841</td>\n",
              "      <td>0</td>\n",
              "    </tr>\n",
              "    <tr>\n",
              "      <th>3</th>\n",
              "      <td>2</td>\n",
              "      <td>51</td>\n",
              "      <td>2</td>\n",
              "      <td>1</td>\n",
              "      <td>0</td>\n",
              "      <td>12</td>\n",
              "      <td>0</td>\n",
              "      <td>1</td>\n",
              "      <td>270</td>\n",
              "      <td>1112</td>\n",
              "      <td>22</td>\n",
              "      <td>17</td>\n",
              "      <td>1421</td>\n",
              "      <td>1</td>\n",
              "    </tr>\n",
              "    <tr>\n",
              "      <th>4</th>\n",
              "      <td>4</td>\n",
              "      <td>25</td>\n",
              "      <td>1</td>\n",
              "      <td>1</td>\n",
              "      <td>0</td>\n",
              "      <td>1</td>\n",
              "      <td>1</td>\n",
              "      <td>1</td>\n",
              "      <td>0</td>\n",
              "      <td>800</td>\n",
              "      <td>25</td>\n",
              "      <td>11</td>\n",
              "      <td>836</td>\n",
              "      <td>1</td>\n",
              "    </tr>\n",
              "  </tbody>\n",
              "</table>\n",
              "</div>"
            ],
            "text/plain": [
              "   city  area  rooms  ...  fire insurance (R$)  total (R$)  best demand\n",
              "0     4    70      2  ...                   42        5618            0\n",
              "1     4   320      4  ...                   63        7973            0\n",
              "2     2    80      1  ...                   41        3841            0\n",
              "3     2    51      2  ...                   17        1421            1\n",
              "4     4    25      1  ...                   11         836            1\n",
              "\n",
              "[5 rows x 14 columns]"
            ]
          },
          "metadata": {
            "tags": []
          },
          "execution_count": 19
        }
      ]
    },
    {
      "cell_type": "code",
      "metadata": {
        "id": "Gh7-_e5OgA2Z",
        "colab_type": "code",
        "colab": {}
      },
      "source": [
        "dataset = df.drop(['total (R$)'], axis=1).values"
      ],
      "execution_count": 0,
      "outputs": []
    },
    {
      "cell_type": "code",
      "metadata": {
        "id": "QuJhxbV7gDti",
        "colab_type": "code",
        "outputId": "b8ce1a08-2ba6-4600-9245-4e118193f81f",
        "colab": {
          "base_uri": "https://localhost:8080/",
          "height": 136
        }
      },
      "source": [
        "dataset"
      ],
      "execution_count": 21,
      "outputs": [
        {
          "output_type": "execute_result",
          "data": {
            "text/plain": [
              "array([[   4,   70,    2, ...,  211,   42,    0],\n",
              "       [   4,  320,    4, ..., 1750,   63,    0],\n",
              "       [   2,   80,    1, ...,    0,   41,    0],\n",
              "       ...,\n",
              "       [   3,   70,    3, ...,  332,   78,    0],\n",
              "       [   3,  120,    2, ...,  279,  155,    0],\n",
              "       [   4,   80,    2, ...,  165,   22,    1]])"
            ]
          },
          "metadata": {
            "tags": []
          },
          "execution_count": 21
        }
      ]
    },
    {
      "cell_type": "code",
      "metadata": {
        "id": "KyYOiBk9hG3I",
        "colab_type": "code",
        "colab": {}
      },
      "source": [
        "X = dataset[:, 0:12]\n",
        "Y = dataset[:, 12]"
      ],
      "execution_count": 0,
      "outputs": []
    },
    {
      "cell_type": "code",
      "metadata": {
        "id": "VmlLDhxMlSws",
        "colab_type": "code",
        "colab": {}
      },
      "source": [
        "from sklearn.preprocessing import StandardScaler\n",
        "\n",
        "standard_scaler = StandardScaler()\n",
        "X_scale = standard_scaler.fit_transform(X)"
      ],
      "execution_count": 0,
      "outputs": []
    },
    {
      "cell_type": "code",
      "metadata": {
        "id": "37Q_NGA2l-Rd",
        "colab_type": "code",
        "outputId": "30b261cf-dbee-4ddb-a17e-89666bf39922",
        "colab": {
          "base_uri": "https://localhost:8080/",
          "height": 238
        }
      },
      "source": [
        "X_scale"
      ],
      "execution_count": 28,
      "outputs": [
        {
          "output_type": "execute_result",
          "data": {
            "text/plain": [
              "array([[ 0.75256677, -0.14752165, -0.432099  , ..., -0.17493534,\n",
              "        -0.05010297, -0.23658936],\n",
              "       [ 0.75256677,  0.31803478,  1.27553453, ...,  0.31209868,\n",
              "         0.44512065,  0.20305577],\n",
              "       [-0.64949698, -0.12889939, -1.28591577, ..., -0.32163234,\n",
              "        -0.11799913, -0.25752484],\n",
              "       ...,\n",
              "       [ 0.05153489, -0.14752165,  0.42171777, ...,  0.61722843,\n",
              "        -0.01116726,  0.51708801],\n",
              "       [ 0.05153489, -0.05441036, -0.432099  , ...,  2.37759236,\n",
              "        -0.02822175,  2.12912015],\n",
              "       [ 0.75256677, -0.12889939, -0.432099  , ..., -0.73238392,\n",
              "        -0.06490498, -0.655299  ]])"
            ]
          },
          "metadata": {
            "tags": []
          },
          "execution_count": 28
        }
      ]
    },
    {
      "cell_type": "code",
      "metadata": {
        "id": "O8i4e4J6mQFA",
        "colab_type": "code",
        "colab": {}
      },
      "source": [
        "from sklearn.model_selection import train_test_split\n",
        "\n",
        "X_train, X_val_and_test, Y_train, Y_val_and_test = train_test_split(X_scale, Y, test_size=0.3)"
      ],
      "execution_count": 0,
      "outputs": []
    },
    {
      "cell_type": "code",
      "metadata": {
        "id": "47fu-JHJm4cE",
        "colab_type": "code",
        "colab": {}
      },
      "source": [
        "X_val, X_test, Y_val, Y_test = train_test_split(X_val_and_test, Y_val_and_test, test_size=0.5)"
      ],
      "execution_count": 0,
      "outputs": []
    },
    {
      "cell_type": "markdown",
      "metadata": {
        "id": "i9CXJUr5nrjY",
        "colab_type": "text"
      },
      "source": [
        "**Building and training Neutral Network**\n",
        "\n",
        "Set up the architecture:\n",
        "- input layer: 12 neurons\n",
        "- hidden layer 1: 32 neurons, relu activation\n",
        "- hidden layer 2: 32 neurons, relu activation\n",
        "- output layer: 1 neuron, sigmoid activation"
      ]
    },
    {
      "cell_type": "code",
      "metadata": {
        "id": "Nz9g_WBw-Cd2",
        "colab_type": "code",
        "colab": {}
      },
      "source": [
        "from keras.models import Sequential\n",
        "from keras.layers import Dense\n",
        "\n",
        "model = Sequential([ Dense(32, activation='relu', input_shape=(12,)), Dense(32, activation='relu'), Dense(1, activation='sigmoid'),])"
      ],
      "execution_count": 0,
      "outputs": []
    },
    {
      "cell_type": "code",
      "metadata": {
        "id": "sdGM9Ai2FO54",
        "colab_type": "code",
        "colab": {}
      },
      "source": [
        "model.compile(optimizer='sgd', loss='binary_crossentropy', metrics=['accuracy'])"
      ],
      "execution_count": 0,
      "outputs": []
    },
    {
      "cell_type": "code",
      "metadata": {
        "id": "8iobdPAjF2Wp",
        "colab_type": "code",
        "outputId": "7f06d832-3ca6-4b60-b3ac-90bc49efc713",
        "colab": {
          "base_uri": "https://localhost:8080/",
          "height": 1000
        }
      },
      "source": [
        "hist = model.fit(X_train, Y_train, batch_size=32, epochs=100, validation_data=(X_val, Y_val))"
      ],
      "execution_count": 0,
      "outputs": [
        {
          "output_type": "stream",
          "text": [
            "Train on 7484 samples, validate on 1604 samples\n",
            "Epoch 1/100\n",
            "7484/7484 [==============================] - 0s 39us/step - loss: 0.0316 - accuracy: 0.9897 - val_loss: 0.0403 - val_accuracy: 0.9838\n",
            "Epoch 2/100\n",
            "7484/7484 [==============================] - 0s 40us/step - loss: 0.0310 - accuracy: 0.9885 - val_loss: 0.0432 - val_accuracy: 0.9794\n",
            "Epoch 3/100\n",
            "7484/7484 [==============================] - 0s 44us/step - loss: 0.0310 - accuracy: 0.9889 - val_loss: 0.0383 - val_accuracy: 0.9850\n",
            "Epoch 4/100\n",
            "7484/7484 [==============================] - 0s 39us/step - loss: 0.0308 - accuracy: 0.9901 - val_loss: 0.0380 - val_accuracy: 0.9850\n",
            "Epoch 5/100\n",
            "7484/7484 [==============================] - 0s 37us/step - loss: 0.0308 - accuracy: 0.9888 - val_loss: 0.0420 - val_accuracy: 0.9844\n",
            "Epoch 6/100\n",
            "7484/7484 [==============================] - 0s 39us/step - loss: 0.0310 - accuracy: 0.9874 - val_loss: 0.0376 - val_accuracy: 0.9838\n",
            "Epoch 7/100\n",
            "7484/7484 [==============================] - 0s 40us/step - loss: 0.0300 - accuracy: 0.9894 - val_loss: 0.0375 - val_accuracy: 0.9825\n",
            "Epoch 8/100\n",
            "7484/7484 [==============================] - 0s 38us/step - loss: 0.0304 - accuracy: 0.9894 - val_loss: 0.0375 - val_accuracy: 0.9844\n",
            "Epoch 9/100\n",
            "7484/7484 [==============================] - 0s 38us/step - loss: 0.0300 - accuracy: 0.9890 - val_loss: 0.0389 - val_accuracy: 0.9825\n",
            "Epoch 10/100\n",
            "7484/7484 [==============================] - 0s 37us/step - loss: 0.0299 - accuracy: 0.9885 - val_loss: 0.0372 - val_accuracy: 0.9875\n",
            "Epoch 11/100\n",
            "7484/7484 [==============================] - 0s 38us/step - loss: 0.0297 - accuracy: 0.9896 - val_loss: 0.0363 - val_accuracy: 0.9882\n",
            "Epoch 12/100\n",
            "7484/7484 [==============================] - 0s 38us/step - loss: 0.0301 - accuracy: 0.9886 - val_loss: 0.0386 - val_accuracy: 0.9850\n",
            "Epoch 13/100\n",
            "7484/7484 [==============================] - 0s 38us/step - loss: 0.0294 - accuracy: 0.9898 - val_loss: 0.0366 - val_accuracy: 0.9875\n",
            "Epoch 14/100\n",
            "7484/7484 [==============================] - 0s 38us/step - loss: 0.0292 - accuracy: 0.9882 - val_loss: 0.0366 - val_accuracy: 0.9863\n",
            "Epoch 15/100\n",
            "7484/7484 [==============================] - 0s 38us/step - loss: 0.0294 - accuracy: 0.9901 - val_loss: 0.0405 - val_accuracy: 0.9825\n",
            "Epoch 16/100\n",
            "7484/7484 [==============================] - 0s 37us/step - loss: 0.0284 - accuracy: 0.9896 - val_loss: 0.0359 - val_accuracy: 0.9844\n",
            "Epoch 17/100\n",
            "7484/7484 [==============================] - 0s 38us/step - loss: 0.0283 - accuracy: 0.9896 - val_loss: 0.0362 - val_accuracy: 0.9857\n",
            "Epoch 18/100\n",
            "7484/7484 [==============================] - 0s 43us/step - loss: 0.0291 - accuracy: 0.9886 - val_loss: 0.0362 - val_accuracy: 0.9869\n",
            "Epoch 19/100\n",
            "7484/7484 [==============================] - 0s 45us/step - loss: 0.0285 - accuracy: 0.9890 - val_loss: 0.0361 - val_accuracy: 0.9850\n",
            "Epoch 20/100\n",
            "7484/7484 [==============================] - 0s 43us/step - loss: 0.0283 - accuracy: 0.9898 - val_loss: 0.0361 - val_accuracy: 0.9857\n",
            "Epoch 21/100\n",
            "7484/7484 [==============================] - 0s 38us/step - loss: 0.0286 - accuracy: 0.9898 - val_loss: 0.0374 - val_accuracy: 0.9825\n",
            "Epoch 22/100\n",
            "7484/7484 [==============================] - 0s 37us/step - loss: 0.0283 - accuracy: 0.9894 - val_loss: 0.0369 - val_accuracy: 0.9838\n",
            "Epoch 23/100\n",
            "7484/7484 [==============================] - 0s 37us/step - loss: 0.0276 - accuracy: 0.9900 - val_loss: 0.0401 - val_accuracy: 0.9788\n",
            "Epoch 24/100\n",
            "7484/7484 [==============================] - 0s 37us/step - loss: 0.0277 - accuracy: 0.9892 - val_loss: 0.0382 - val_accuracy: 0.9832\n",
            "Epoch 25/100\n",
            "7484/7484 [==============================] - 0s 37us/step - loss: 0.0276 - accuracy: 0.9906 - val_loss: 0.0351 - val_accuracy: 0.9869\n",
            "Epoch 26/100\n",
            "7484/7484 [==============================] - 0s 37us/step - loss: 0.0273 - accuracy: 0.9905 - val_loss: 0.0414 - val_accuracy: 0.9825\n",
            "Epoch 27/100\n",
            "7484/7484 [==============================] - 0s 38us/step - loss: 0.0275 - accuracy: 0.9898 - val_loss: 0.0348 - val_accuracy: 0.9875\n",
            "Epoch 28/100\n",
            "7484/7484 [==============================] - 0s 41us/step - loss: 0.0268 - accuracy: 0.9904 - val_loss: 0.0370 - val_accuracy: 0.9863\n",
            "Epoch 29/100\n",
            "7484/7484 [==============================] - 0s 37us/step - loss: 0.0268 - accuracy: 0.9909 - val_loss: 0.0356 - val_accuracy: 0.9844\n",
            "Epoch 30/100\n",
            "7484/7484 [==============================] - 0s 38us/step - loss: 0.0261 - accuracy: 0.9910 - val_loss: 0.0361 - val_accuracy: 0.9857\n",
            "Epoch 31/100\n",
            "7484/7484 [==============================] - 0s 39us/step - loss: 0.0269 - accuracy: 0.9901 - val_loss: 0.0354 - val_accuracy: 0.9869\n",
            "Epoch 32/100\n",
            "7484/7484 [==============================] - 0s 37us/step - loss: 0.0272 - accuracy: 0.9905 - val_loss: 0.0362 - val_accuracy: 0.9850\n",
            "Epoch 33/100\n",
            "7484/7484 [==============================] - 0s 37us/step - loss: 0.0260 - accuracy: 0.9908 - val_loss: 0.0351 - val_accuracy: 0.9850\n",
            "Epoch 34/100\n",
            "7484/7484 [==============================] - 0s 38us/step - loss: 0.0260 - accuracy: 0.9912 - val_loss: 0.0353 - val_accuracy: 0.9844\n",
            "Epoch 35/100\n",
            "7484/7484 [==============================] - 0s 39us/step - loss: 0.0258 - accuracy: 0.9909 - val_loss: 0.0344 - val_accuracy: 0.9869\n",
            "Epoch 36/100\n",
            "7484/7484 [==============================] - 0s 37us/step - loss: 0.0262 - accuracy: 0.9909 - val_loss: 0.0343 - val_accuracy: 0.9888\n",
            "Epoch 37/100\n",
            "7484/7484 [==============================] - 0s 37us/step - loss: 0.0262 - accuracy: 0.9910 - val_loss: 0.0347 - val_accuracy: 0.9869\n",
            "Epoch 38/100\n",
            "7484/7484 [==============================] - 0s 40us/step - loss: 0.0258 - accuracy: 0.9901 - val_loss: 0.0346 - val_accuracy: 0.9850\n",
            "Epoch 39/100\n",
            "7484/7484 [==============================] - 0s 38us/step - loss: 0.0260 - accuracy: 0.9908 - val_loss: 0.0348 - val_accuracy: 0.9838\n",
            "Epoch 40/100\n",
            "7484/7484 [==============================] - 0s 40us/step - loss: 0.0254 - accuracy: 0.9909 - val_loss: 0.0381 - val_accuracy: 0.9825\n",
            "Epoch 41/100\n",
            "7484/7484 [==============================] - 0s 42us/step - loss: 0.0257 - accuracy: 0.9906 - val_loss: 0.0350 - val_accuracy: 0.9850\n",
            "Epoch 42/100\n",
            "7484/7484 [==============================] - 0s 40us/step - loss: 0.0252 - accuracy: 0.9921 - val_loss: 0.0323 - val_accuracy: 0.9888\n",
            "Epoch 43/100\n",
            "7484/7484 [==============================] - 0s 43us/step - loss: 0.0255 - accuracy: 0.9916 - val_loss: 0.0362 - val_accuracy: 0.9832\n",
            "Epoch 44/100\n",
            "7484/7484 [==============================] - 0s 44us/step - loss: 0.0249 - accuracy: 0.9916 - val_loss: 0.0342 - val_accuracy: 0.9869\n",
            "Epoch 45/100\n",
            "7484/7484 [==============================] - 0s 37us/step - loss: 0.0253 - accuracy: 0.9902 - val_loss: 0.0341 - val_accuracy: 0.9863\n",
            "Epoch 46/100\n",
            "7484/7484 [==============================] - 0s 37us/step - loss: 0.0244 - accuracy: 0.9920 - val_loss: 0.0329 - val_accuracy: 0.9888\n",
            "Epoch 47/100\n",
            "7484/7484 [==============================] - 0s 38us/step - loss: 0.0245 - accuracy: 0.9906 - val_loss: 0.0337 - val_accuracy: 0.9863\n",
            "Epoch 48/100\n",
            "7484/7484 [==============================] - 0s 38us/step - loss: 0.0248 - accuracy: 0.9906 - val_loss: 0.0328 - val_accuracy: 0.9857\n",
            "Epoch 49/100\n",
            "7484/7484 [==============================] - 0s 38us/step - loss: 0.0242 - accuracy: 0.9929 - val_loss: 0.0327 - val_accuracy: 0.9869\n",
            "Epoch 50/100\n",
            "7484/7484 [==============================] - 0s 37us/step - loss: 0.0244 - accuracy: 0.9914 - val_loss: 0.0374 - val_accuracy: 0.9844\n",
            "Epoch 51/100\n",
            "7484/7484 [==============================] - 0s 39us/step - loss: 0.0241 - accuracy: 0.9920 - val_loss: 0.0330 - val_accuracy: 0.9844\n",
            "Epoch 52/100\n",
            "7484/7484 [==============================] - 0s 38us/step - loss: 0.0241 - accuracy: 0.9920 - val_loss: 0.0347 - val_accuracy: 0.9850\n",
            "Epoch 53/100\n",
            "7484/7484 [==============================] - 0s 38us/step - loss: 0.0232 - accuracy: 0.9931 - val_loss: 0.0323 - val_accuracy: 0.9875\n",
            "Epoch 54/100\n",
            "7484/7484 [==============================] - 0s 38us/step - loss: 0.0235 - accuracy: 0.9913 - val_loss: 0.0337 - val_accuracy: 0.9894\n",
            "Epoch 55/100\n",
            "7484/7484 [==============================] - 0s 38us/step - loss: 0.0244 - accuracy: 0.9916 - val_loss: 0.0338 - val_accuracy: 0.9863\n",
            "Epoch 56/100\n",
            "7484/7484 [==============================] - 0s 37us/step - loss: 0.0233 - accuracy: 0.9932 - val_loss: 0.0330 - val_accuracy: 0.9850\n",
            "Epoch 57/100\n",
            "7484/7484 [==============================] - 0s 38us/step - loss: 0.0234 - accuracy: 0.9914 - val_loss: 0.0385 - val_accuracy: 0.9813\n",
            "Epoch 58/100\n",
            "7484/7484 [==============================] - 0s 37us/step - loss: 0.0239 - accuracy: 0.9925 - val_loss: 0.0332 - val_accuracy: 0.9869\n",
            "Epoch 59/100\n",
            "7484/7484 [==============================] - 0s 38us/step - loss: 0.0236 - accuracy: 0.9921 - val_loss: 0.0359 - val_accuracy: 0.9850\n",
            "Epoch 60/100\n",
            "7484/7484 [==============================] - 0s 37us/step - loss: 0.0240 - accuracy: 0.9923 - val_loss: 0.0319 - val_accuracy: 0.9888\n",
            "Epoch 61/100\n",
            "7484/7484 [==============================] - 0s 37us/step - loss: 0.0231 - accuracy: 0.9921 - val_loss: 0.0330 - val_accuracy: 0.9850\n",
            "Epoch 62/100\n",
            "7484/7484 [==============================] - 0s 40us/step - loss: 0.0234 - accuracy: 0.9921 - val_loss: 0.0308 - val_accuracy: 0.9900\n",
            "Epoch 63/100\n",
            "7484/7484 [==============================] - 0s 41us/step - loss: 0.0231 - accuracy: 0.9924 - val_loss: 0.0360 - val_accuracy: 0.9838\n",
            "Epoch 64/100\n",
            "7484/7484 [==============================] - 0s 40us/step - loss: 0.0231 - accuracy: 0.9918 - val_loss: 0.0328 - val_accuracy: 0.9838\n",
            "Epoch 65/100\n",
            "7484/7484 [==============================] - 0s 39us/step - loss: 0.0228 - accuracy: 0.9924 - val_loss: 0.0328 - val_accuracy: 0.9863\n",
            "Epoch 66/100\n",
            "7484/7484 [==============================] - 0s 40us/step - loss: 0.0227 - accuracy: 0.9921 - val_loss: 0.0324 - val_accuracy: 0.9869\n",
            "Epoch 67/100\n",
            "7484/7484 [==============================] - 0s 44us/step - loss: 0.0225 - accuracy: 0.9925 - val_loss: 0.0318 - val_accuracy: 0.9888\n",
            "Epoch 68/100\n",
            "7484/7484 [==============================] - 0s 43us/step - loss: 0.0225 - accuracy: 0.9923 - val_loss: 0.0347 - val_accuracy: 0.9825\n",
            "Epoch 69/100\n",
            "7484/7484 [==============================] - 0s 41us/step - loss: 0.0221 - accuracy: 0.9925 - val_loss: 0.0312 - val_accuracy: 0.9875\n",
            "Epoch 70/100\n",
            "7484/7484 [==============================] - 0s 37us/step - loss: 0.0221 - accuracy: 0.9924 - val_loss: 0.0326 - val_accuracy: 0.9875\n",
            "Epoch 71/100\n",
            "7484/7484 [==============================] - 0s 37us/step - loss: 0.0225 - accuracy: 0.9928 - val_loss: 0.0303 - val_accuracy: 0.9882\n",
            "Epoch 72/100\n",
            "7484/7484 [==============================] - 0s 40us/step - loss: 0.0218 - accuracy: 0.9918 - val_loss: 0.0338 - val_accuracy: 0.9832\n",
            "Epoch 73/100\n",
            "7484/7484 [==============================] - 0s 38us/step - loss: 0.0220 - accuracy: 0.9924 - val_loss: 0.0319 - val_accuracy: 0.9869\n",
            "Epoch 74/100\n",
            "7484/7484 [==============================] - 0s 37us/step - loss: 0.0220 - accuracy: 0.9933 - val_loss: 0.0306 - val_accuracy: 0.9875\n",
            "Epoch 75/100\n",
            "7484/7484 [==============================] - 0s 37us/step - loss: 0.0204 - accuracy: 0.9945 - val_loss: 0.0372 - val_accuracy: 0.9863\n",
            "Epoch 76/100\n",
            "7484/7484 [==============================] - 0s 37us/step - loss: 0.0220 - accuracy: 0.9918 - val_loss: 0.0302 - val_accuracy: 0.9888\n",
            "Epoch 77/100\n",
            "7484/7484 [==============================] - 0s 39us/step - loss: 0.0217 - accuracy: 0.9924 - val_loss: 0.0298 - val_accuracy: 0.9919\n",
            "Epoch 78/100\n",
            "7484/7484 [==============================] - 0s 38us/step - loss: 0.0209 - accuracy: 0.9935 - val_loss: 0.0328 - val_accuracy: 0.9863\n",
            "Epoch 79/100\n",
            "7484/7484 [==============================] - 0s 40us/step - loss: 0.0211 - accuracy: 0.9927 - val_loss: 0.0315 - val_accuracy: 0.9882\n",
            "Epoch 80/100\n",
            "7484/7484 [==============================] - 0s 37us/step - loss: 0.0214 - accuracy: 0.9927 - val_loss: 0.0310 - val_accuracy: 0.9888\n",
            "Epoch 81/100\n",
            "7484/7484 [==============================] - 0s 37us/step - loss: 0.0207 - accuracy: 0.9936 - val_loss: 0.0324 - val_accuracy: 0.9863\n",
            "Epoch 82/100\n",
            "7484/7484 [==============================] - 0s 37us/step - loss: 0.0212 - accuracy: 0.9932 - val_loss: 0.0317 - val_accuracy: 0.9888\n",
            "Epoch 83/100\n",
            "7484/7484 [==============================] - 0s 37us/step - loss: 0.0206 - accuracy: 0.9937 - val_loss: 0.0296 - val_accuracy: 0.9900\n",
            "Epoch 84/100\n",
            "7484/7484 [==============================] - 0s 39us/step - loss: 0.0206 - accuracy: 0.9931 - val_loss: 0.0324 - val_accuracy: 0.9882\n",
            "Epoch 85/100\n",
            "7484/7484 [==============================] - 0s 37us/step - loss: 0.0205 - accuracy: 0.9937 - val_loss: 0.0322 - val_accuracy: 0.9850\n",
            "Epoch 86/100\n",
            "7484/7484 [==============================] - 0s 39us/step - loss: 0.0208 - accuracy: 0.9933 - val_loss: 0.0290 - val_accuracy: 0.9913\n",
            "Epoch 87/100\n",
            "7484/7484 [==============================] - 0s 43us/step - loss: 0.0207 - accuracy: 0.9932 - val_loss: 0.0325 - val_accuracy: 0.9869\n",
            "Epoch 88/100\n",
            "7484/7484 [==============================] - 0s 43us/step - loss: 0.0206 - accuracy: 0.9925 - val_loss: 0.0326 - val_accuracy: 0.9869\n",
            "Epoch 89/100\n",
            "7484/7484 [==============================] - 0s 43us/step - loss: 0.0206 - accuracy: 0.9931 - val_loss: 0.0309 - val_accuracy: 0.9894\n",
            "Epoch 90/100\n",
            "7484/7484 [==============================] - 0s 38us/step - loss: 0.0204 - accuracy: 0.9933 - val_loss: 0.0305 - val_accuracy: 0.9888\n",
            "Epoch 91/100\n",
            "7484/7484 [==============================] - 0s 38us/step - loss: 0.0195 - accuracy: 0.9940 - val_loss: 0.0298 - val_accuracy: 0.9894\n",
            "Epoch 92/100\n",
            "7484/7484 [==============================] - 0s 37us/step - loss: 0.0206 - accuracy: 0.9935 - val_loss: 0.0301 - val_accuracy: 0.9900\n",
            "Epoch 93/100\n",
            "7484/7484 [==============================] - 0s 38us/step - loss: 0.0198 - accuracy: 0.9932 - val_loss: 0.0336 - val_accuracy: 0.9863\n",
            "Epoch 94/100\n",
            "7484/7484 [==============================] - 0s 37us/step - loss: 0.0198 - accuracy: 0.9931 - val_loss: 0.0304 - val_accuracy: 0.9894\n",
            "Epoch 95/100\n",
            "7484/7484 [==============================] - 0s 40us/step - loss: 0.0192 - accuracy: 0.9933 - val_loss: 0.0301 - val_accuracy: 0.9882\n",
            "Epoch 96/100\n",
            "7484/7484 [==============================] - 0s 42us/step - loss: 0.0200 - accuracy: 0.9941 - val_loss: 0.0331 - val_accuracy: 0.9875\n",
            "Epoch 97/100\n",
            "7484/7484 [==============================] - 0s 41us/step - loss: 0.0199 - accuracy: 0.9935 - val_loss: 0.0297 - val_accuracy: 0.9888\n",
            "Epoch 98/100\n",
            "7484/7484 [==============================] - 0s 37us/step - loss: 0.0198 - accuracy: 0.9935 - val_loss: 0.0304 - val_accuracy: 0.9869\n",
            "Epoch 99/100\n",
            "7484/7484 [==============================] - 0s 40us/step - loss: 0.0195 - accuracy: 0.9947 - val_loss: 0.0300 - val_accuracy: 0.9888\n",
            "Epoch 100/100\n",
            "7484/7484 [==============================] - 0s 40us/step - loss: 0.0195 - accuracy: 0.9936 - val_loss: 0.0341 - val_accuracy: 0.9850\n"
          ],
          "name": "stdout"
        }
      ]
    },
    {
      "cell_type": "code",
      "metadata": {
        "id": "5nw4UAl6HI2p",
        "colab_type": "code",
        "outputId": "fcb7fe99-97e5-464a-8770-c8f2777926c7",
        "colab": {
          "base_uri": "https://localhost:8080/",
          "height": 51
        }
      },
      "source": [
        "model.evaluate(X_test, Y_test)[1]"
      ],
      "execution_count": 0,
      "outputs": [
        {
          "output_type": "stream",
          "text": [
            "1604/1604 [==============================] - 0s 25us/step\n"
          ],
          "name": "stdout"
        },
        {
          "output_type": "execute_result",
          "data": {
            "text/plain": [
              "0.9831671118736267"
            ]
          },
          "metadata": {
            "tags": []
          },
          "execution_count": 75
        }
      ]
    },
    {
      "cell_type": "code",
      "metadata": {
        "id": "mPkmfHf0I_aV",
        "colab_type": "code",
        "outputId": "44d85f9d-4c2b-45a5-92c5-45af5de67d3d",
        "colab": {
          "base_uri": "https://localhost:8080/",
          "height": 295
        }
      },
      "source": [
        "import matplotlib.pyplot as plt\n",
        "\n",
        "plt.plot(hist.history['loss'])\n",
        "plt.plot(hist.history['val_loss'])\n",
        "plt.title(['Model loss'])\n",
        "plt.ylabel('Loss')\n",
        "plt.xlabel('Epoch')\n",
        "plt.legend(['Train', 'Val'], loc='upper right')\n",
        "plt.show()"
      ],
      "execution_count": 0,
      "outputs": [
        {
          "output_type": "display_data",
          "data": {
            "image/png": "[encoded data removed]",
            "text/plain": [
              "<Figure size 432x288 with 1 Axes>"
            ]
          },
          "metadata": {
            "tags": [],
            "needs_background": "light"
          }
        }
      ]
    },
    {
      "cell_type": "code",
      "metadata": {
        "id": "7Ul2diJTL4KH",
        "colab_type": "code",
        "outputId": "38f0b385-7423-40a4-965b-60dcc6d48bb7",
        "colab": {
          "base_uri": "https://localhost:8080/",
          "height": 295
        }
      },
      "source": [
        "plt.plot(hist.history['accuracy'])\n",
        "plt.plot(hist.history['val_accuracy'])\n",
        "plt.title('Model accuracy')\n",
        "plt.ylabel('Accuracy')\n",
        "plt.xlabel('Epoch')\n",
        "plt.legend(['Train', 'Val'], loc='lower right')\n",
        "plt.show()"
      ],
      "execution_count": 0,
      "outputs": [
        {
          "output_type": "display_data",
          "data": {
            "image/png": "[encoded data removed]",
            "text/plain": [
              "<Figure size 432x288 with 1 Axes>"
            ]
          },
          "metadata": {
            "tags": [],
            "needs_background": "light"
          }
        }
      ]
    },
    {
      "cell_type": "code",
      "metadata": {
        "id": "0sdD3oSGRwO5",
        "colab_type": "code",
        "colab": {}
      },
      "source": [
        "# adding regularization\n",
        "\n",
        "model_2 = Sequential([ Dense(1000, activation='relu', input_shape=(12,)), \n",
        "                      Dense(1000, activation='relu'), \n",
        "                      Dense(1000, activation='relu'), \n",
        "                      Dense(1000, activation='relu'), \n",
        "                      Dense(1, activation='sigmoid'),])"
      ],
      "execution_count": 0,
      "outputs": []
    },
    {
      "cell_type": "code",
      "metadata": {
        "id": "D8SGFsZySN5-",
        "colab_type": "code",
        "colab": {}
      },
      "source": [
        "model_2.compile(optimizer='adam', loss='binary_crossentropy', metrics=['accuracy'])"
      ],
      "execution_count": 0,
      "outputs": []
    },
    {
      "cell_type": "code",
      "metadata": {
        "id": "ZKMgSX8YSWfE",
        "colab_type": "code",
        "outputId": "bee48c1b-d1a3-450e-af6f-0dda5b7b3e7f",
        "colab": {
          "base_uri": "https://localhost:8080/",
          "height": 1000
        }
      },
      "source": [
        "hist_2 = model_2.fit(X_train, Y_train, batch_size=32, epochs=100, validation_data=(X_val, Y_val))"
      ],
      "execution_count": 0,
      "outputs": [
        {
          "output_type": "stream",
          "text": [
            "Train on 7484 samples, validate on 1604 samples\n",
            "Epoch 1/100\n",
            "7484/7484 [==============================] - 11s 1ms/step - loss: 0.1578 - accuracy: 0.9332 - val_loss: 0.1226 - val_accuracy: 0.9507\n",
            "Epoch 2/100\n",
            "7484/7484 [==============================] - 11s 1ms/step - loss: 0.0902 - accuracy: 0.9611 - val_loss: 0.0583 - val_accuracy: 0.9751\n",
            "Epoch 3/100\n",
            "7484/7484 [==============================] - 11s 1ms/step - loss: 0.0674 - accuracy: 0.9718 - val_loss: 0.0602 - val_accuracy: 0.9713\n",
            "Epoch 4/100\n",
            "7484/7484 [==============================] - 11s 1ms/step - loss: 0.0520 - accuracy: 0.9770 - val_loss: 0.0474 - val_accuracy: 0.9794\n",
            "Epoch 5/100\n",
            "7484/7484 [==============================] - 11s 1ms/step - loss: 0.0500 - accuracy: 0.9800 - val_loss: 0.0412 - val_accuracy: 0.9813\n",
            "Epoch 6/100\n",
            "7484/7484 [==============================] - 11s 1ms/step - loss: 0.0412 - accuracy: 0.9845 - val_loss: 0.0464 - val_accuracy: 0.9844\n",
            "Epoch 7/100\n",
            "7484/7484 [==============================] - 11s 1ms/step - loss: 0.0435 - accuracy: 0.9822 - val_loss: 0.0473 - val_accuracy: 0.9776\n",
            "Epoch 8/100\n",
            "7484/7484 [==============================] - 10s 1ms/step - loss: 0.0382 - accuracy: 0.9829 - val_loss: 0.0492 - val_accuracy: 0.9807\n",
            "Epoch 9/100\n",
            "7484/7484 [==============================] - 11s 1ms/step - loss: 0.0383 - accuracy: 0.9833 - val_loss: 0.0431 - val_accuracy: 0.9807\n",
            "Epoch 10/100\n",
            "7484/7484 [==============================] - 11s 1ms/step - loss: 0.0350 - accuracy: 0.9861 - val_loss: 0.0355 - val_accuracy: 0.9838\n",
            "Epoch 11/100\n",
            "7484/7484 [==============================] - 11s 1ms/step - loss: 0.0330 - accuracy: 0.9862 - val_loss: 0.0508 - val_accuracy: 0.9769\n",
            "Epoch 12/100\n",
            "7484/7484 [==============================] - 11s 1ms/step - loss: 0.0263 - accuracy: 0.9880 - val_loss: 0.0459 - val_accuracy: 0.9844\n",
            "Epoch 13/100\n",
            "7484/7484 [==============================] - 11s 1ms/step - loss: 0.0307 - accuracy: 0.9894 - val_loss: 0.0330 - val_accuracy: 0.9832\n",
            "Epoch 14/100\n",
            "7484/7484 [==============================] - 10s 1ms/step - loss: 0.0298 - accuracy: 0.9894 - val_loss: 0.0808 - val_accuracy: 0.9732\n",
            "Epoch 15/100\n",
            "7484/7484 [==============================] - 10s 1ms/step - loss: 0.0255 - accuracy: 0.9894 - val_loss: 0.0341 - val_accuracy: 0.9894\n",
            "Epoch 16/100\n",
            "7484/7484 [==============================] - 11s 1ms/step - loss: 0.0276 - accuracy: 0.9884 - val_loss: 0.0289 - val_accuracy: 0.9888\n",
            "Epoch 17/100\n",
            "7484/7484 [==============================] - 10s 1ms/step - loss: 0.0204 - accuracy: 0.9923 - val_loss: 0.0297 - val_accuracy: 0.9875\n",
            "Epoch 18/100\n",
            "7484/7484 [==============================] - 10s 1ms/step - loss: 0.0303 - accuracy: 0.9882 - val_loss: 0.0235 - val_accuracy: 0.9931\n",
            "Epoch 19/100\n",
            "7484/7484 [==============================] - 10s 1ms/step - loss: 0.0198 - accuracy: 0.9929 - val_loss: 0.0275 - val_accuracy: 0.9894\n",
            "Epoch 20/100\n",
            "7484/7484 [==============================] - 10s 1ms/step - loss: 0.0214 - accuracy: 0.9914 - val_loss: 0.0393 - val_accuracy: 0.9813\n",
            "Epoch 21/100\n",
            "7484/7484 [==============================] - 11s 1ms/step - loss: 0.0193 - accuracy: 0.9924 - val_loss: 0.0293 - val_accuracy: 0.9906\n",
            "Epoch 22/100\n",
            "7484/7484 [==============================] - 10s 1ms/step - loss: 0.0242 - accuracy: 0.9900 - val_loss: 0.0340 - val_accuracy: 0.9844\n",
            "Epoch 23/100\n",
            "7484/7484 [==============================] - 10s 1ms/step - loss: 0.0204 - accuracy: 0.9920 - val_loss: 0.0522 - val_accuracy: 0.9863\n",
            "Epoch 24/100\n",
            "7484/7484 [==============================] - 10s 1ms/step - loss: 0.0195 - accuracy: 0.9923 - val_loss: 0.0284 - val_accuracy: 0.9900\n",
            "Epoch 25/100\n",
            "7484/7484 [==============================] - 10s 1ms/step - loss: 0.0198 - accuracy: 0.9931 - val_loss: 0.0491 - val_accuracy: 0.9757\n",
            "Epoch 26/100\n",
            "7484/7484 [==============================] - 10s 1ms/step - loss: 0.0177 - accuracy: 0.9933 - val_loss: 0.0271 - val_accuracy: 0.9906\n",
            "Epoch 27/100\n",
            "7484/7484 [==============================] - 10s 1ms/step - loss: 0.0180 - accuracy: 0.9925 - val_loss: 0.0465 - val_accuracy: 0.9869\n",
            "Epoch 28/100\n",
            "7484/7484 [==============================] - 11s 1ms/step - loss: 0.0174 - accuracy: 0.9925 - val_loss: 0.0375 - val_accuracy: 0.9782\n",
            "Epoch 29/100\n",
            "7484/7484 [==============================] - 11s 1ms/step - loss: 0.0258 - accuracy: 0.9905 - val_loss: 0.0364 - val_accuracy: 0.9894\n",
            "Epoch 30/100\n",
            "7484/7484 [==============================] - 10s 1ms/step - loss: 0.0308 - accuracy: 0.9902 - val_loss: 0.0297 - val_accuracy: 0.9888\n",
            "Epoch 31/100\n",
            "7484/7484 [==============================] - 10s 1ms/step - loss: 0.0201 - accuracy: 0.9917 - val_loss: 0.0342 - val_accuracy: 0.9863\n",
            "Epoch 32/100\n",
            "7484/7484 [==============================] - 10s 1ms/step - loss: 0.0169 - accuracy: 0.9929 - val_loss: 0.0257 - val_accuracy: 0.9888\n",
            "Epoch 33/100\n",
            "7484/7484 [==============================] - 10s 1ms/step - loss: 0.0189 - accuracy: 0.9932 - val_loss: 0.0231 - val_accuracy: 0.9888\n",
            "Epoch 34/100\n",
            "7484/7484 [==============================] - 10s 1ms/step - loss: 0.0148 - accuracy: 0.9944 - val_loss: 0.0158 - val_accuracy: 0.9938\n",
            "Epoch 35/100\n",
            "7484/7484 [==============================] - 10s 1ms/step - loss: 0.0136 - accuracy: 0.9949 - val_loss: 0.0567 - val_accuracy: 0.9850\n",
            "Epoch 36/100\n",
            "7484/7484 [==============================] - 10s 1ms/step - loss: 0.0162 - accuracy: 0.9935 - val_loss: 0.0415 - val_accuracy: 0.9869\n",
            "Epoch 37/100\n",
            "7484/7484 [==============================] - 10s 1ms/step - loss: 0.0146 - accuracy: 0.9943 - val_loss: 0.0223 - val_accuracy: 0.9919\n",
            "Epoch 38/100\n",
            "7484/7484 [==============================] - 10s 1ms/step - loss: 0.0146 - accuracy: 0.9951 - val_loss: 0.0297 - val_accuracy: 0.9906\n",
            "Epoch 39/100\n",
            "7484/7484 [==============================] - 10s 1ms/step - loss: 0.0200 - accuracy: 0.9912 - val_loss: 0.0462 - val_accuracy: 0.9857\n",
            "Epoch 40/100\n",
            "7484/7484 [==============================] - 10s 1ms/step - loss: 0.0160 - accuracy: 0.9947 - val_loss: 0.0638 - val_accuracy: 0.9825\n",
            "Epoch 41/100\n",
            "7484/7484 [==============================] - 11s 1ms/step - loss: 0.0186 - accuracy: 0.9932 - val_loss: 0.0255 - val_accuracy: 0.9919\n",
            "Epoch 42/100\n",
            "7484/7484 [==============================] - 11s 1ms/step - loss: 0.0172 - accuracy: 0.9923 - val_loss: 0.0493 - val_accuracy: 0.9825\n",
            "Epoch 43/100\n",
            "7484/7484 [==============================] - 11s 1ms/step - loss: 0.0148 - accuracy: 0.9941 - val_loss: 0.0416 - val_accuracy: 0.9844\n",
            "Epoch 44/100\n",
            "7484/7484 [==============================] - 15s 2ms/step - loss: 0.0174 - accuracy: 0.9935 - val_loss: 0.0328 - val_accuracy: 0.9875\n",
            "Epoch 45/100\n",
            "7484/7484 [==============================] - 12s 2ms/step - loss: 0.0189 - accuracy: 0.9937 - val_loss: 0.0366 - val_accuracy: 0.9863\n",
            "Epoch 46/100\n",
            "7484/7484 [==============================] - 10s 1ms/step - loss: 0.0162 - accuracy: 0.9933 - val_loss: 0.0408 - val_accuracy: 0.9825\n",
            "Epoch 47/100\n",
            "7484/7484 [==============================] - 10s 1ms/step - loss: 0.0110 - accuracy: 0.9955 - val_loss: 0.0864 - val_accuracy: 0.9857\n",
            "Epoch 48/100\n",
            "7484/7484 [==============================] - 11s 1ms/step - loss: 0.0172 - accuracy: 0.9951 - val_loss: 0.0357 - val_accuracy: 0.9906\n",
            "Epoch 49/100\n",
            "7484/7484 [==============================] - 10s 1ms/step - loss: 0.0173 - accuracy: 0.9933 - val_loss: 0.0507 - val_accuracy: 0.9875\n",
            "Epoch 50/100\n",
            "7484/7484 [==============================] - 11s 1ms/step - loss: 0.0281 - accuracy: 0.9918 - val_loss: 0.0238 - val_accuracy: 0.9906\n",
            "Epoch 51/100\n",
            "7484/7484 [==============================] - 10s 1ms/step - loss: 0.0181 - accuracy: 0.9949 - val_loss: 0.0297 - val_accuracy: 0.9850\n",
            "Epoch 52/100\n",
            "7484/7484 [==============================] - 11s 1ms/step - loss: 0.0136 - accuracy: 0.9948 - val_loss: 0.0243 - val_accuracy: 0.9919\n",
            "Epoch 53/100\n",
            "7484/7484 [==============================] - 10s 1ms/step - loss: 0.0148 - accuracy: 0.9929 - val_loss: 0.0159 - val_accuracy: 0.9938\n",
            "Epoch 54/100\n",
            "7484/7484 [==============================] - 10s 1ms/step - loss: 0.0136 - accuracy: 0.9960 - val_loss: 0.0280 - val_accuracy: 0.9913\n",
            "Epoch 55/100\n",
            "7484/7484 [==============================] - 10s 1ms/step - loss: 0.0136 - accuracy: 0.9944 - val_loss: 0.0217 - val_accuracy: 0.9925\n",
            "Epoch 56/100\n",
            "7484/7484 [==============================] - 10s 1ms/step - loss: 0.0107 - accuracy: 0.9957 - val_loss: 0.0295 - val_accuracy: 0.9919\n",
            "Epoch 57/100\n",
            "7484/7484 [==============================] - 11s 1ms/step - loss: 0.0162 - accuracy: 0.9939 - val_loss: 0.0354 - val_accuracy: 0.9857\n",
            "Epoch 58/100\n",
            "7484/7484 [==============================] - 10s 1ms/step - loss: 0.0102 - accuracy: 0.9961 - val_loss: 0.0341 - val_accuracy: 0.9888\n",
            "Epoch 59/100\n",
            "7484/7484 [==============================] - 10s 1ms/step - loss: 0.0131 - accuracy: 0.9947 - val_loss: 0.0309 - val_accuracy: 0.9863\n",
            "Epoch 60/100\n",
            "7484/7484 [==============================] - 10s 1ms/step - loss: 0.0122 - accuracy: 0.9956 - val_loss: 0.0504 - val_accuracy: 0.9850\n",
            "Epoch 61/100\n",
            "7484/7484 [==============================] - 10s 1ms/step - loss: 0.0125 - accuracy: 0.9953 - val_loss: 0.0474 - val_accuracy: 0.9875\n",
            "Epoch 62/100\n",
            "7484/7484 [==============================] - 11s 1ms/step - loss: 0.0126 - accuracy: 0.9945 - val_loss: 0.0209 - val_accuracy: 0.9944\n",
            "Epoch 63/100\n",
            "7484/7484 [==============================] - 10s 1ms/step - loss: 0.0099 - accuracy: 0.9969 - val_loss: 0.0451 - val_accuracy: 0.9857\n",
            "Epoch 64/100\n",
            "7484/7484 [==============================] - 10s 1ms/step - loss: 0.0106 - accuracy: 0.9959 - val_loss: 0.0366 - val_accuracy: 0.9875\n",
            "Epoch 65/100\n",
            "7484/7484 [==============================] - 11s 1ms/step - loss: 0.0127 - accuracy: 0.9955 - val_loss: 0.0334 - val_accuracy: 0.9888\n",
            "Epoch 66/100\n",
            "7484/7484 [==============================] - 11s 1ms/step - loss: 0.0123 - accuracy: 0.9955 - val_loss: 0.0424 - val_accuracy: 0.9869\n",
            "Epoch 67/100\n",
            "7484/7484 [==============================] - 10s 1ms/step - loss: 0.0126 - accuracy: 0.9957 - val_loss: 0.0332 - val_accuracy: 0.9882\n",
            "Epoch 68/100\n",
            "7484/7484 [==============================] - 10s 1ms/step - loss: 0.0104 - accuracy: 0.9964 - val_loss: 0.0314 - val_accuracy: 0.9913\n",
            "Epoch 69/100\n",
            "7484/7484 [==============================] - 10s 1ms/step - loss: 0.0111 - accuracy: 0.9964 - val_loss: 0.0295 - val_accuracy: 0.9882\n",
            "Epoch 70/100\n",
            "7484/7484 [==============================] - 11s 1ms/step - loss: 0.0134 - accuracy: 0.9943 - val_loss: 0.0227 - val_accuracy: 0.9931\n",
            "Epoch 71/100\n",
            "7484/7484 [==============================] - 11s 1ms/step - loss: 0.0104 - accuracy: 0.9957 - val_loss: 0.0361 - val_accuracy: 0.9900\n",
            "Epoch 72/100\n",
            "7484/7484 [==============================] - 10s 1ms/step - loss: 0.0081 - accuracy: 0.9967 - val_loss: 0.0350 - val_accuracy: 0.9894\n",
            "Epoch 73/100\n",
            "7484/7484 [==============================] - 10s 1ms/step - loss: 0.0104 - accuracy: 0.9956 - val_loss: 0.0283 - val_accuracy: 0.9919\n",
            "Epoch 74/100\n",
            "7484/7484 [==============================] - 11s 1ms/step - loss: 0.0106 - accuracy: 0.9956 - val_loss: 0.0483 - val_accuracy: 0.9900\n",
            "Epoch 75/100\n",
            "7484/7484 [==============================] - 10s 1ms/step - loss: 0.0092 - accuracy: 0.9968 - val_loss: 0.0471 - val_accuracy: 0.9894\n",
            "Epoch 76/100\n",
            "7484/7484 [==============================] - 10s 1ms/step - loss: 0.0116 - accuracy: 0.9955 - val_loss: 0.0514 - val_accuracy: 0.9807\n",
            "Epoch 77/100\n",
            "7484/7484 [==============================] - 10s 1ms/step - loss: 0.0074 - accuracy: 0.9975 - val_loss: 0.0353 - val_accuracy: 0.9900\n",
            "Epoch 78/100\n",
            "7484/7484 [==============================] - 11s 1ms/step - loss: 0.0070 - accuracy: 0.9971 - val_loss: 0.0545 - val_accuracy: 0.9844\n",
            "Epoch 79/100\n",
            "7484/7484 [==============================] - 10s 1ms/step - loss: 0.0124 - accuracy: 0.9953 - val_loss: 0.0283 - val_accuracy: 0.9913\n",
            "Epoch 80/100\n",
            "7484/7484 [==============================] - 11s 1ms/step - loss: 0.0108 - accuracy: 0.9961 - val_loss: 0.0206 - val_accuracy: 0.9938\n",
            "Epoch 81/100\n",
            "7484/7484 [==============================] - 11s 1ms/step - loss: 0.0080 - accuracy: 0.9972 - val_loss: 0.0340 - val_accuracy: 0.9931\n",
            "Epoch 82/100\n",
            "7484/7484 [==============================] - 10s 1ms/step - loss: 0.0103 - accuracy: 0.9961 - val_loss: 0.0338 - val_accuracy: 0.9906\n",
            "Epoch 83/100\n",
            "7484/7484 [==============================] - 11s 1ms/step - loss: 0.0105 - accuracy: 0.9971 - val_loss: 0.0282 - val_accuracy: 0.9900\n",
            "Epoch 84/100\n",
            "7484/7484 [==============================] - 10s 1ms/step - loss: 0.0093 - accuracy: 0.9963 - val_loss: 0.0431 - val_accuracy: 0.9882\n",
            "Epoch 85/100\n",
            "7484/7484 [==============================] - 10s 1ms/step - loss: 0.0093 - accuracy: 0.9976 - val_loss: 0.0415 - val_accuracy: 0.9894\n",
            "Epoch 86/100\n",
            "7484/7484 [==============================] - 10s 1ms/step - loss: 0.0115 - accuracy: 0.9959 - val_loss: 0.0328 - val_accuracy: 0.9906\n",
            "Epoch 87/100\n",
            "7484/7484 [==============================] - 10s 1ms/step - loss: 0.0130 - accuracy: 0.9960 - val_loss: 0.0382 - val_accuracy: 0.9882\n",
            "Epoch 88/100\n",
            "7484/7484 [==============================] - 11s 1ms/step - loss: 0.0088 - accuracy: 0.9959 - val_loss: 0.0444 - val_accuracy: 0.9913\n",
            "Epoch 89/100\n",
            "7484/7484 [==============================] - 10s 1ms/step - loss: 0.0108 - accuracy: 0.9965 - val_loss: 0.0348 - val_accuracy: 0.9857\n",
            "Epoch 90/100\n",
            "7484/7484 [==============================] - 11s 1ms/step - loss: 0.0109 - accuracy: 0.9957 - val_loss: 0.0244 - val_accuracy: 0.9913\n",
            "Epoch 91/100\n",
            "7484/7484 [==============================] - 10s 1ms/step - loss: 0.0108 - accuracy: 0.9965 - val_loss: 0.0303 - val_accuracy: 0.9894\n",
            "Epoch 92/100\n",
            "7484/7484 [==============================] - 10s 1ms/step - loss: 0.0087 - accuracy: 0.9971 - val_loss: 0.0304 - val_accuracy: 0.9894\n",
            "Epoch 93/100\n",
            "7484/7484 [==============================] - 10s 1ms/step - loss: 0.0057 - accuracy: 0.9979 - val_loss: 0.0368 - val_accuracy: 0.9913\n",
            "Epoch 94/100\n",
            "7484/7484 [==============================] - 11s 1ms/step - loss: 0.0209 - accuracy: 0.9933 - val_loss: 0.0263 - val_accuracy: 0.9919\n",
            "Epoch 95/100\n",
            "7484/7484 [==============================] - 11s 1ms/step - loss: 0.0082 - accuracy: 0.9969 - val_loss: 0.0294 - val_accuracy: 0.9900\n",
            "Epoch 96/100\n",
            "7484/7484 [==============================] - 10s 1ms/step - loss: 0.0083 - accuracy: 0.9972 - val_loss: 0.0663 - val_accuracy: 0.9919\n",
            "Epoch 97/100\n",
            "7484/7484 [==============================] - 11s 1ms/step - loss: 0.0108 - accuracy: 0.9957 - val_loss: 0.0795 - val_accuracy: 0.9894\n",
            "Epoch 98/100\n",
            "7484/7484 [==============================] - 11s 1ms/step - loss: 0.0098 - accuracy: 0.9964 - val_loss: 0.0279 - val_accuracy: 0.9931\n",
            "Epoch 99/100\n",
            "7484/7484 [==============================] - 11s 1ms/step - loss: 0.0082 - accuracy: 0.9972 - val_loss: 0.0300 - val_accuracy: 0.9925\n",
            "Epoch 100/100\n",
            "7484/7484 [==============================] - 11s 1ms/step - loss: 0.0099 - accuracy: 0.9964 - val_loss: 0.0324 - val_accuracy: 0.9944\n"
          ],
          "name": "stdout"
        }
      ]
    },
    {
      "cell_type": "code",
      "metadata": {
        "id": "T_JJro2UXPM8",
        "colab_type": "code",
        "outputId": "3ae3048a-c077-450e-ec15-ef32813fb1dd",
        "colab": {
          "base_uri": "https://localhost:8080/",
          "height": 295
        }
      },
      "source": [
        "plt.plot(hist_2.history['loss'])\n",
        "plt.plot(hist_2.history['val_loss'])\n",
        "plt.title('Model loss')\n",
        "plt.ylabel('Loss')\n",
        "plt.xlabel('Epoch')\n",
        "plt.legend(['Train', 'Val'], loc='upper right')\n",
        "plt.show()"
      ],
      "execution_count": 0,
      "outputs": [
        {
          "output_type": "display_data",
          "data": {
            "image/png": "[encoded data removed]",
            "text/plain": [
              "<Figure size 432x288 with 1 Axes>"
            ]
          },
          "metadata": {
            "tags": [],
            "needs_background": "light"
          }
        }
      ]
    },
    {
      "cell_type": "code",
      "metadata": {
        "id": "SXtjw8YdXeu0",
        "colab_type": "code",
        "colab": {}
      },
      "source": [
        "from keras.layers import Dropout\n",
        "from keras import regularizers\n",
        "\n",
        "model_3 = Sequential([ Dense(1000, activation='relu', kernel_regularizer=regularizers.l2(0.01), input_shape=(12,)), Dropout(0.3),\n",
        "                      Dense(1000, activation='relu', kernel_regularizer=regularizers.l2(0.01)), Dropout(0.3),\n",
        "                      Dense(1000, activation='relu', kernel_regularizer=regularizers.l2(0.01)), Dropout(0.3), \n",
        "                      Dense(1000, activation='relu', kernel_regularizer=regularizers.l2(0.01)), Dropout(0.3), \n",
        "                      Dense(1, activation='sigmoid', kernel_regularizer=regularizers.l2(0.01)),])"
      ],
      "execution_count": 0,
      "outputs": []
    },
    {
      "cell_type": "code",
      "metadata": {
        "id": "GJk3jfzZYcg2",
        "colab_type": "code",
        "colab": {}
      },
      "source": [
        "model_3.compile(optimizer='adam', loss='binary_crossentropy', metrics=['accuracy'])"
      ],
      "execution_count": 0,
      "outputs": []
    },
    {
      "cell_type": "code",
      "metadata": {
        "id": "fnBAk6pdYvi-",
        "colab_type": "code",
        "outputId": "ef570bf6-643e-433e-fe57-35756dc39698",
        "colab": {
          "base_uri": "https://localhost:8080/",
          "height": 1000
        }
      },
      "source": [
        "hist_3 = model_3.fit(X_train, Y_train, batch_size=32, epochs=100, validation_data=(X_val, Y_val))"
      ],
      "execution_count": 0,
      "outputs": [
        {
          "output_type": "stream",
          "text": [
            "Train on 7484 samples, validate on 1604 samples\n",
            "Epoch 1/100\n",
            "7484/7484 [==============================] - 13s 2ms/step - loss: 2.5127 - accuracy: 0.9131 - val_loss: 0.3098 - val_accuracy: 0.9483\n",
            "Epoch 2/100\n",
            "7484/7484 [==============================] - 13s 2ms/step - loss: 0.3144 - accuracy: 0.9360 - val_loss: 0.2876 - val_accuracy: 0.9464\n",
            "Epoch 3/100\n",
            "7484/7484 [==============================] - 13s 2ms/step - loss: 0.3047 - accuracy: 0.9345 - val_loss: 0.2802 - val_accuracy: 0.9526\n",
            "Epoch 4/100\n",
            "7484/7484 [==============================] - 13s 2ms/step - loss: 0.2950 - accuracy: 0.9364 - val_loss: 0.2775 - val_accuracy: 0.9476\n",
            "Epoch 5/100\n",
            "7484/7484 [==============================] - 13s 2ms/step - loss: 0.2964 - accuracy: 0.9381 - val_loss: 0.2662 - val_accuracy: 0.9495\n",
            "Epoch 6/100\n",
            "7484/7484 [==============================] - 13s 2ms/step - loss: 0.2914 - accuracy: 0.9373 - val_loss: 0.2896 - val_accuracy: 0.9370\n",
            "Epoch 7/100\n",
            "7484/7484 [==============================] - 13s 2ms/step - loss: 0.2960 - accuracy: 0.9355 - val_loss: 0.2742 - val_accuracy: 0.9464\n",
            "Epoch 8/100\n",
            "7484/7484 [==============================] - 13s 2ms/step - loss: 0.2886 - accuracy: 0.9403 - val_loss: 0.2930 - val_accuracy: 0.9389\n",
            "Epoch 9/100\n",
            "7484/7484 [==============================] - 13s 2ms/step - loss: 0.2854 - accuracy: 0.9408 - val_loss: 0.2696 - val_accuracy: 0.9489\n",
            "Epoch 10/100\n",
            "7484/7484 [==============================] - 13s 2ms/step - loss: 0.2878 - accuracy: 0.9384 - val_loss: 0.2667 - val_accuracy: 0.9476\n",
            "Epoch 11/100\n",
            "7484/7484 [==============================] - 13s 2ms/step - loss: 0.2903 - accuracy: 0.9395 - val_loss: 0.2683 - val_accuracy: 0.9445\n",
            "Epoch 12/100\n",
            "7484/7484 [==============================] - 13s 2ms/step - loss: 0.2881 - accuracy: 0.9371 - val_loss: 0.2652 - val_accuracy: 0.9564\n",
            "Epoch 13/100\n",
            "7484/7484 [==============================] - 13s 2ms/step - loss: 0.2833 - accuracy: 0.9397 - val_loss: 0.2696 - val_accuracy: 0.9464\n",
            "Epoch 14/100\n",
            "7484/7484 [==============================] - 13s 2ms/step - loss: 0.2849 - accuracy: 0.9388 - val_loss: 0.3069 - val_accuracy: 0.9271\n",
            "Epoch 15/100\n",
            "7484/7484 [==============================] - 13s 2ms/step - loss: 0.2909 - accuracy: 0.9344 - val_loss: 0.2717 - val_accuracy: 0.9401\n",
            "Epoch 16/100\n",
            "7484/7484 [==============================] - 13s 2ms/step - loss: 0.2814 - accuracy: 0.9409 - val_loss: 0.2683 - val_accuracy: 0.9414\n",
            "Epoch 17/100\n",
            "7484/7484 [==============================] - 13s 2ms/step - loss: 0.2844 - accuracy: 0.9389 - val_loss: 0.2791 - val_accuracy: 0.9433\n",
            "Epoch 18/100\n",
            "7484/7484 [==============================] - 13s 2ms/step - loss: 0.2878 - accuracy: 0.9371 - val_loss: 0.2703 - val_accuracy: 0.9433\n",
            "Epoch 19/100\n",
            "7484/7484 [==============================] - 13s 2ms/step - loss: 0.2832 - accuracy: 0.9379 - val_loss: 0.2623 - val_accuracy: 0.9520\n",
            "Epoch 20/100\n",
            "7484/7484 [==============================] - 13s 2ms/step - loss: 0.2826 - accuracy: 0.9404 - val_loss: 0.2624 - val_accuracy: 0.9545\n",
            "Epoch 21/100\n",
            "7484/7484 [==============================] - 13s 2ms/step - loss: 0.2782 - accuracy: 0.9436 - val_loss: 0.2730 - val_accuracy: 0.9370\n",
            "Epoch 22/100\n",
            "7484/7484 [==============================] - 13s 2ms/step - loss: 0.2816 - accuracy: 0.9391 - val_loss: 0.3037 - val_accuracy: 0.9239\n",
            "Epoch 23/100\n",
            "7484/7484 [==============================] - 13s 2ms/step - loss: 0.2847 - accuracy: 0.9375 - val_loss: 0.2631 - val_accuracy: 0.9551\n",
            "Epoch 24/100\n",
            "7484/7484 [==============================] - 13s 2ms/step - loss: 0.2865 - accuracy: 0.9364 - val_loss: 0.2683 - val_accuracy: 0.9470\n",
            "Epoch 25/100\n",
            "7484/7484 [==============================] - 13s 2ms/step - loss: 0.2812 - accuracy: 0.9413 - val_loss: 0.2653 - val_accuracy: 0.9539\n",
            "Epoch 26/100\n",
            "7484/7484 [==============================] - 13s 2ms/step - loss: 0.2835 - accuracy: 0.9368 - val_loss: 0.2637 - val_accuracy: 0.9520\n",
            "Epoch 27/100\n",
            "7484/7484 [==============================] - 13s 2ms/step - loss: 0.2810 - accuracy: 0.9401 - val_loss: 0.2624 - val_accuracy: 0.9514\n",
            "Epoch 28/100\n",
            "7484/7484 [==============================] - 13s 2ms/step - loss: 0.2808 - accuracy: 0.9385 - val_loss: 0.2585 - val_accuracy: 0.9539\n",
            "Epoch 29/100\n",
            "7484/7484 [==============================] - 13s 2ms/step - loss: 0.2804 - accuracy: 0.9388 - val_loss: 0.2634 - val_accuracy: 0.9451\n",
            "Epoch 30/100\n",
            "7484/7484 [==============================] - 13s 2ms/step - loss: 0.2792 - accuracy: 0.9384 - val_loss: 0.2629 - val_accuracy: 0.9458\n",
            "Epoch 31/100\n",
            "7484/7484 [==============================] - 13s 2ms/step - loss: 0.2797 - accuracy: 0.9385 - val_loss: 0.2653 - val_accuracy: 0.9464\n",
            "Epoch 32/100\n",
            "7484/7484 [==============================] - 13s 2ms/step - loss: 0.2806 - accuracy: 0.9345 - val_loss: 0.2670 - val_accuracy: 0.9476\n",
            "Epoch 33/100\n",
            "7484/7484 [==============================] - 13s 2ms/step - loss: 0.2798 - accuracy: 0.9389 - val_loss: 0.2622 - val_accuracy: 0.9489\n",
            "Epoch 34/100\n",
            "7484/7484 [==============================] - 13s 2ms/step - loss: 0.2748 - accuracy: 0.9388 - val_loss: 0.2696 - val_accuracy: 0.9414\n",
            "Epoch 35/100\n",
            "7484/7484 [==============================] - 18s 2ms/step - loss: 0.2781 - accuracy: 0.9401 - val_loss: 0.2654 - val_accuracy: 0.9589\n",
            "Epoch 36/100\n",
            "7484/7484 [==============================] - 13s 2ms/step - loss: 0.2780 - accuracy: 0.9411 - val_loss: 0.2590 - val_accuracy: 0.9545\n",
            "Epoch 37/100\n",
            "7484/7484 [==============================] - 13s 2ms/step - loss: 0.2790 - accuracy: 0.9384 - val_loss: 0.2562 - val_accuracy: 0.9495\n",
            "Epoch 38/100\n",
            "7484/7484 [==============================] - 13s 2ms/step - loss: 0.2779 - accuracy: 0.9377 - val_loss: 0.2569 - val_accuracy: 0.9507\n",
            "Epoch 39/100\n",
            "7484/7484 [==============================] - 13s 2ms/step - loss: 0.2757 - accuracy: 0.9411 - val_loss: 0.2555 - val_accuracy: 0.9520\n",
            "Epoch 40/100\n",
            "7484/7484 [==============================] - 13s 2ms/step - loss: 0.2836 - accuracy: 0.9339 - val_loss: 0.2618 - val_accuracy: 0.9445\n",
            "Epoch 41/100\n",
            "7484/7484 [==============================] - 13s 2ms/step - loss: 0.2820 - accuracy: 0.9364 - val_loss: 0.2557 - val_accuracy: 0.9557\n",
            "Epoch 42/100\n",
            "7484/7484 [==============================] - 13s 2ms/step - loss: 0.2800 - accuracy: 0.9399 - val_loss: 0.2594 - val_accuracy: 0.9576\n",
            "Epoch 43/100\n",
            "7484/7484 [==============================] - 13s 2ms/step - loss: 0.2800 - accuracy: 0.9325 - val_loss: 0.2666 - val_accuracy: 0.9401\n",
            "Epoch 44/100\n",
            "7484/7484 [==============================] - 13s 2ms/step - loss: 0.2779 - accuracy: 0.9412 - val_loss: 0.2852 - val_accuracy: 0.9289\n",
            "Epoch 45/100\n",
            "7484/7484 [==============================] - 13s 2ms/step - loss: 0.2815 - accuracy: 0.9373 - val_loss: 0.2563 - val_accuracy: 0.9539\n",
            "Epoch 46/100\n",
            "7484/7484 [==============================] - 13s 2ms/step - loss: 0.2803 - accuracy: 0.9349 - val_loss: 0.2668 - val_accuracy: 0.9370\n",
            "Epoch 47/100\n",
            "7484/7484 [==============================] - 13s 2ms/step - loss: 0.2800 - accuracy: 0.9343 - val_loss: 0.2530 - val_accuracy: 0.9514\n",
            "Epoch 48/100\n",
            "7484/7484 [==============================] - 13s 2ms/step - loss: 0.2812 - accuracy: 0.9376 - val_loss: 0.2822 - val_accuracy: 0.9302\n",
            "Epoch 49/100\n",
            "7484/7484 [==============================] - 13s 2ms/step - loss: 0.2791 - accuracy: 0.9373 - val_loss: 0.2622 - val_accuracy: 0.9483\n",
            "Epoch 50/100\n",
            "7484/7484 [==============================] - 13s 2ms/step - loss: 0.2782 - accuracy: 0.9351 - val_loss: 0.2551 - val_accuracy: 0.9532\n",
            "Epoch 51/100\n",
            "7484/7484 [==============================] - 13s 2ms/step - loss: 0.2784 - accuracy: 0.9388 - val_loss: 0.2615 - val_accuracy: 0.9507\n",
            "Epoch 52/100\n",
            "7484/7484 [==============================] - 13s 2ms/step - loss: 0.2778 - accuracy: 0.9359 - val_loss: 0.2579 - val_accuracy: 0.9545\n",
            "Epoch 53/100\n",
            "7484/7484 [==============================] - 13s 2ms/step - loss: 0.2776 - accuracy: 0.9367 - val_loss: 0.2637 - val_accuracy: 0.9501\n",
            "Epoch 54/100\n",
            "7484/7484 [==============================] - 13s 2ms/step - loss: 0.2782 - accuracy: 0.9397 - val_loss: 0.2596 - val_accuracy: 0.9476\n",
            "Epoch 55/100\n",
            "7484/7484 [==============================] - 13s 2ms/step - loss: 0.2792 - accuracy: 0.9377 - val_loss: 0.2567 - val_accuracy: 0.9576\n",
            "Epoch 56/100\n",
            "7484/7484 [==============================] - 13s 2ms/step - loss: 0.2882 - accuracy: 0.9321 - val_loss: 0.2558 - val_accuracy: 0.9582\n",
            "Epoch 57/100\n",
            "7484/7484 [==============================] - 13s 2ms/step - loss: 0.2798 - accuracy: 0.9368 - val_loss: 0.2545 - val_accuracy: 0.9539\n",
            "Epoch 58/100\n",
            "7484/7484 [==============================] - 13s 2ms/step - loss: 0.2756 - accuracy: 0.9367 - val_loss: 0.2646 - val_accuracy: 0.9389\n",
            "Epoch 59/100\n",
            "7484/7484 [==============================] - 13s 2ms/step - loss: 0.2792 - accuracy: 0.9352 - val_loss: 0.2574 - val_accuracy: 0.9489\n",
            "Epoch 60/100\n",
            "7484/7484 [==============================] - 13s 2ms/step - loss: 0.2757 - accuracy: 0.9407 - val_loss: 0.2521 - val_accuracy: 0.9564\n",
            "Epoch 61/100\n",
            "7484/7484 [==============================] - 13s 2ms/step - loss: 0.2756 - accuracy: 0.9413 - val_loss: 0.2542 - val_accuracy: 0.9476\n",
            "Epoch 62/100\n",
            "7484/7484 [==============================] - 13s 2ms/step - loss: 0.2817 - accuracy: 0.9355 - val_loss: 0.2752 - val_accuracy: 0.9426\n",
            "Epoch 63/100\n",
            "7484/7484 [==============================] - 13s 2ms/step - loss: 0.2774 - accuracy: 0.9393 - val_loss: 0.2585 - val_accuracy: 0.9557\n",
            "Epoch 64/100\n",
            "7484/7484 [==============================] - 13s 2ms/step - loss: 0.2797 - accuracy: 0.9365 - val_loss: 0.2557 - val_accuracy: 0.9570\n",
            "Epoch 65/100\n",
            "7484/7484 [==============================] - 13s 2ms/step - loss: 0.2755 - accuracy: 0.9365 - val_loss: 0.2611 - val_accuracy: 0.9445\n",
            "Epoch 66/100\n",
            "7484/7484 [==============================] - 13s 2ms/step - loss: 0.2751 - accuracy: 0.9373 - val_loss: 0.2543 - val_accuracy: 0.9520\n",
            "Epoch 67/100\n",
            "7484/7484 [==============================] - 13s 2ms/step - loss: 0.2811 - accuracy: 0.9341 - val_loss: 0.2593 - val_accuracy: 0.9445\n",
            "Epoch 68/100\n",
            "7484/7484 [==============================] - 13s 2ms/step - loss: 0.2775 - accuracy: 0.9385 - val_loss: 0.2571 - val_accuracy: 0.9464\n",
            "Epoch 69/100\n",
            "7484/7484 [==============================] - 13s 2ms/step - loss: 0.2771 - accuracy: 0.9384 - val_loss: 0.2555 - val_accuracy: 0.9514\n",
            "Epoch 70/100\n",
            "7484/7484 [==============================] - 13s 2ms/step - loss: 0.2858 - accuracy: 0.9327 - val_loss: 0.2585 - val_accuracy: 0.9501\n",
            "Epoch 71/100\n",
            "7484/7484 [==============================] - 13s 2ms/step - loss: 0.2793 - accuracy: 0.9387 - val_loss: 0.2601 - val_accuracy: 0.9589\n",
            "Epoch 72/100\n",
            "7484/7484 [==============================] - 13s 2ms/step - loss: 0.2802 - accuracy: 0.9359 - val_loss: 0.2548 - val_accuracy: 0.9532\n",
            "Epoch 73/100\n",
            "7484/7484 [==============================] - 13s 2ms/step - loss: 0.2775 - accuracy: 0.9383 - val_loss: 0.2560 - val_accuracy: 0.9495\n",
            "Epoch 74/100\n",
            "7484/7484 [==============================] - 13s 2ms/step - loss: 0.2765 - accuracy: 0.9387 - val_loss: 0.2639 - val_accuracy: 0.9520\n",
            "Epoch 75/100\n",
            "7484/7484 [==============================] - 13s 2ms/step - loss: 0.2789 - accuracy: 0.9380 - val_loss: 0.2613 - val_accuracy: 0.9483\n",
            "Epoch 76/100\n",
            "7484/7484 [==============================] - 13s 2ms/step - loss: 0.2802 - accuracy: 0.9364 - val_loss: 0.2663 - val_accuracy: 0.9364\n",
            "Epoch 77/100\n",
            "7484/7484 [==============================] - 13s 2ms/step - loss: 0.2764 - accuracy: 0.9372 - val_loss: 0.2580 - val_accuracy: 0.9483\n",
            "Epoch 78/100\n",
            "7484/7484 [==============================] - 13s 2ms/step - loss: 0.2781 - accuracy: 0.9361 - val_loss: 0.2563 - val_accuracy: 0.9557\n",
            "Epoch 79/100\n",
            "7484/7484 [==============================] - 13s 2ms/step - loss: 0.2763 - accuracy: 0.9351 - val_loss: 0.2546 - val_accuracy: 0.9539\n",
            "Epoch 80/100\n",
            "7484/7484 [==============================] - 13s 2ms/step - loss: 0.2802 - accuracy: 0.9348 - val_loss: 0.2652 - val_accuracy: 0.9420\n",
            "Epoch 81/100\n",
            "7484/7484 [==============================] - 14s 2ms/step - loss: 0.2770 - accuracy: 0.9389 - val_loss: 0.2568 - val_accuracy: 0.9526\n",
            "Epoch 82/100\n",
            "7484/7484 [==============================] - 18s 2ms/step - loss: 0.2801 - accuracy: 0.9348 - val_loss: 0.2564 - val_accuracy: 0.9539\n",
            "Epoch 83/100\n",
            "7484/7484 [==============================] - 13s 2ms/step - loss: 0.2801 - accuracy: 0.9364 - val_loss: 0.2536 - val_accuracy: 0.9589\n",
            "Epoch 84/100\n",
            "7484/7484 [==============================] - 13s 2ms/step - loss: 0.2782 - accuracy: 0.9365 - val_loss: 0.2643 - val_accuracy: 0.9564\n",
            "Epoch 85/100\n",
            "7484/7484 [==============================] - 13s 2ms/step - loss: 0.2789 - accuracy: 0.9387 - val_loss: 0.2541 - val_accuracy: 0.9526\n",
            "Epoch 86/100\n",
            "7484/7484 [==============================] - 13s 2ms/step - loss: 0.2749 - accuracy: 0.9380 - val_loss: 0.2581 - val_accuracy: 0.9514\n",
            "Epoch 87/100\n",
            "7484/7484 [==============================] - 13s 2ms/step - loss: 0.2807 - accuracy: 0.9385 - val_loss: 0.2572 - val_accuracy: 0.9545\n",
            "Epoch 88/100\n",
            "7484/7484 [==============================] - 13s 2ms/step - loss: 0.2807 - accuracy: 0.9345 - val_loss: 0.2697 - val_accuracy: 0.9507\n",
            "Epoch 89/100\n",
            "7484/7484 [==============================] - 13s 2ms/step - loss: 0.2794 - accuracy: 0.9351 - val_loss: 0.2721 - val_accuracy: 0.9408\n",
            "Epoch 90/100\n",
            "7484/7484 [==============================] - 13s 2ms/step - loss: 0.2783 - accuracy: 0.9367 - val_loss: 0.2607 - val_accuracy: 0.9483\n",
            "Epoch 91/100\n",
            "7484/7484 [==============================] - 13s 2ms/step - loss: 0.2797 - accuracy: 0.9337 - val_loss: 0.2603 - val_accuracy: 0.9476\n",
            "Epoch 92/100\n",
            "7484/7484 [==============================] - 13s 2ms/step - loss: 0.2752 - accuracy: 0.9393 - val_loss: 0.2565 - val_accuracy: 0.9507\n",
            "Epoch 93/100\n",
            "7484/7484 [==============================] - 13s 2ms/step - loss: 0.2751 - accuracy: 0.9365 - val_loss: 0.2714 - val_accuracy: 0.9464\n",
            "Epoch 94/100\n",
            "7484/7484 [==============================] - 13s 2ms/step - loss: 0.2754 - accuracy: 0.9376 - val_loss: 0.2546 - val_accuracy: 0.9551\n",
            "Epoch 95/100\n",
            "7484/7484 [==============================] - 13s 2ms/step - loss: 0.2771 - accuracy: 0.9363 - val_loss: 0.2825 - val_accuracy: 0.9395\n",
            "Epoch 96/100\n",
            "7484/7484 [==============================] - 13s 2ms/step - loss: 0.2828 - accuracy: 0.9371 - val_loss: 0.2617 - val_accuracy: 0.9439\n",
            "Epoch 97/100\n",
            "7484/7484 [==============================] - 13s 2ms/step - loss: 0.2784 - accuracy: 0.9379 - val_loss: 0.2538 - val_accuracy: 0.9545\n",
            "Epoch 98/100\n",
            "7484/7484 [==============================] - 13s 2ms/step - loss: 0.2778 - accuracy: 0.9361 - val_loss: 0.2648 - val_accuracy: 0.9539\n",
            "Epoch 99/100\n",
            "7484/7484 [==============================] - 13s 2ms/step - loss: 0.2786 - accuracy: 0.9381 - val_loss: 0.2780 - val_accuracy: 0.9420\n",
            "Epoch 100/100\n",
            "7484/7484 [==============================] - 13s 2ms/step - loss: 0.2778 - accuracy: 0.9361 - val_loss: 0.2543 - val_accuracy: 0.9545\n"
          ],
          "name": "stdout"
        }
      ]
    },
    {
      "cell_type": "code",
      "metadata": {
        "id": "wgAntra8ZLJH",
        "colab_type": "code",
        "outputId": "cd0757d0-c8df-4420-fadc-d6681134a8c0",
        "colab": {
          "base_uri": "https://localhost:8080/",
          "height": 295
        }
      },
      "source": [
        "plt.plot(hist_3.history['loss'])\n",
        "plt.plot(hist_3.history['val_loss'])\n",
        "plt.title('Model loss')\n",
        "plt.ylabel('Loss')\n",
        "plt.xlabel('Epoch')\n",
        "plt.legend(['Train', 'Val'], loc='upper right')\n",
        "plt.ylim(top=1.2, bottom=0)\n",
        "plt.show()"
      ],
      "execution_count": 0,
      "outputs": [
        {
          "output_type": "display_data",
          "data": {
            "image/png": "[encoded data removed]",
            "text/plain": [
              "<Figure size 432x288 with 1 Axes>"
            ]
          },
          "metadata": {
            "tags": [],
            "needs_background": "light"
          }
        }
      ]
    },
    {
      "cell_type": "code",
      "metadata": {
        "id": "vsGqMD-GZeLf",
        "colab_type": "code",
        "outputId": "b046ad9d-6ea5-429d-db2c-797b9bd28d36",
        "colab": {
          "base_uri": "https://localhost:8080/",
          "height": 295
        }
      },
      "source": [
        "plt.plot(hist_3.history['accuracy'])\n",
        "plt.plot(hist_3.history['val_accuracy'])\n",
        "plt.title('Model accuracy')\n",
        "plt.ylabel('Accuracy')\n",
        "plt.xlabel('Epoch')\n",
        "plt.legend(['Train', 'Val'], loc='lower right')\n",
        "plt.show()"
      ],
      "execution_count": 0,
      "outputs": [
        {
          "output_type": "display_data",
          "data": {
            "image/png": "[encoded data removed]",
            "text/plain": [
              "<Figure size 432x288 with 1 Axes>"
            ]
          },
          "metadata": {
            "tags": [],
            "needs_background": "light"
          }
        }
      ]
    },
    {
      "cell_type": "markdown",
      "metadata": {
        "id": "0ZBTc0DMkI6Y",
        "colab_type": "text"
      },
      "source": [
        "Building and training Neutron Network by Python (without framework)"
      ]
    },
    {
      "cell_type": "code",
      "metadata": {
        "id": "0Yc_HUxbOinQ",
        "colab_type": "code",
        "colab": {}
      },
      "source": [
        "class Neural_Network(object):\n",
        "  def __init__(self):\n",
        "    #parameters\n",
        "    self.inputSize = 12\n",
        "    self.outputSize = 1\n",
        "    self.hiddenSize = 64\n",
        "\n",
        "    #weights\n",
        "    self.W1 = np.random.randn(self.inputSize, self.hiddenSize) # weight matrix from input to hidden layer 1\n",
        "    self.W2 = np.random.randn(self.hiddenSize, self.hiddenSize) # weight matrix from hidden layer 1 to hidden layer 2\n",
        "    self.W3 = np.random.randn(self.hiddenSize, self.outputSize) # weight matrix from hidden layer 2 to output layer\n",
        "\n",
        "  def forward(self, X): #forward propagation through our network\n",
        "    self.z = np.dot(X, self.W1) # dot product of X (input) and first set of weights\n",
        "    self.z2 = self.reLU(self.z) # activation function\n",
        "\n",
        "    self.z3 = np.dot(self.z2, self.W2) # dot product of hidden layer (z2) and second set of weights\n",
        "    self.z4 = self.reLU(self.z3) # activation function\n",
        "\n",
        "    self.z5 = np.dot(self.z4, self.W3) # dot product of hidden layer (z4) and thrird set of weights\n",
        "    o = self.sigmoid(self.z5) # final activation function\n",
        "    return o\n",
        "\n",
        "  def reLU(self, s): # reLU activation function\n",
        "    return np.maximum(s, 0)\n",
        "\n",
        "  def sigmoid(self, s): # finale sigmoid activation function\n",
        "    return 1/(1+np.exp(-s))\n",
        "\n",
        "  def sigmoidPrime(self, s): # derivative (производная) of sigmoid\n",
        "    return s * (1 - s)\n",
        "\n",
        "  def backward(self, X, Y, o): # backward propgate through the network\n",
        "    self.o_error = Y - o # error in output\n",
        "    self.o_delta = self.o_error*self.sigmoidPrime(o) # applying derivative of sigmoid to error\n",
        "    \n",
        "    self.z2_error = self.o_delta.dot(self.W2.T) # z2 error: how much our hidden layer weights contributed to output error\n",
        "    self.z2_delta = self.z2_error*self.sigmoidPrime(self.z2) # applying derivative of sigmoid to z2 error\n",
        "    \n",
        "    self.W1 += X.T.dot(self.z2_delta) # adjusting first set (input --> hidden) weights\n",
        "    self.W2 += self.z3.T.dot(self.z4_delta) # adjusting second set (hidden 1 --> hidden 2) weights\n",
        "    self.W3 += self.z5.T.dot(self.o_delta) # adjusting third set (hidden 2 --> output) weights\n",
        "\n",
        "  def train(self, X, Y):\n",
        "    o = self.forward(X)\n",
        "    self.backward(X, Y, o)\n",
        "\n",
        "  def saveWeights(self):\n",
        "    np.savetxt(\"w1.txt\", self.W1, fmt=\"%s\")\n",
        "    np.savetxt(\"w2.txt\", self.W2, fmt=\"%s\") \n",
        "    np.savetxt(\"w3.txt\", self.W2, fmt=\"%s\")\n",
        "\n",
        "  def predict(self):\n",
        "    print('Predicted data based on trained weights: ')\n",
        "    print('Input (scaled): \\n' + str(X_test))\n",
        "    print('Output: \\n' + str(self.forward(Y_test)))\n"
      ],
      "execution_count": 0,
      "outputs": []
    },
    {
      "cell_type": "code",
      "metadata": {
        "id": "-lpRIRA6n_hs",
        "colab_type": "code",
        "colab": {
          "base_uri": "https://localhost:8080/",
          "height": 996
        },
        "outputId": "c81c79dd-871c-4e80-fed2-e35a46517ae2"
      },
      "source": [
        "NN = Neural_Network()\n",
        "for i in range(1000):\n",
        "  print('# ' + str(i) + '\\n')\n",
        "  print('Input (scaled): \\n' + str(X))\n",
        "  print('Actual Output: \\n' + str(Y))\n",
        "  print('Predicted Output: \\n' + str(NN.forward(X)))\n",
        "  print('Loss: \\n' + str(np.mean(np.square(Y - NN.forward(X))))) # mean sum squared loss\n",
        "  print('\\n')\n",
        "  \n",
        "NN.train(X, Y)\n",
        "NN.saveWeights()\n",
        "NN.predict()"
      ],
      "execution_count": 39,
      "outputs": [
        {
          "output_type": "stream",
          "text": [
            "# 0\n",
            "\n",
            "Input (scaled): \n",
            "[[    4    70     2 ...  3300   211    42]\n",
            " [    4   320     4 ...  4960  1750    63]\n",
            " [    2    80     1 ...  2800     0    41]\n",
            " ...\n",
            " [    3    70     3 ...  6000   332    78]\n",
            " [    3   120     2 ... 12000   279   155]\n",
            " [    4    80     2 ...  1400   165    22]]\n",
            "Actual Output: \n",
            "[0 0 0 ... 0 0 1]\n",
            "Predicted Output: \n",
            "[[1.]\n",
            " [1.]\n",
            " [1.]\n",
            " ...\n",
            " [1.]\n",
            " [1.]\n",
            " [1.]]\n"
          ],
          "name": "stdout"
        },
        {
          "output_type": "stream",
          "text": [
            "/usr/local/lib/python3.6/dist-packages/ipykernel_launcher.py:28: RuntimeWarning: overflow encountered in exp\n"
          ],
          "name": "stderr"
        },
        {
          "output_type": "stream",
          "text": [
            "Loss: \n",
            "0.5000934229017531\n",
            "\n",
            "\n",
            "# 1\n",
            "\n",
            "Input (scaled): \n",
            "[[    4    70     2 ...  3300   211    42]\n",
            " [    4   320     4 ...  4960  1750    63]\n",
            " [    2    80     1 ...  2800     0    41]\n",
            " ...\n",
            " [    3    70     3 ...  6000   332    78]\n",
            " [    3   120     2 ... 12000   279   155]\n",
            " [    4    80     2 ...  1400   165    22]]\n",
            "Actual Output: \n",
            "[0 0 0 ... 0 0 1]\n",
            "Predicted Output: \n",
            "[[1.]\n",
            " [1.]\n",
            " [1.]\n",
            " ...\n",
            " [1.]\n",
            " [1.]\n",
            " [1.]]\n"
          ],
          "name": "stdout"
        },
        {
          "output_type": "error",
          "ename": "KeyboardInterrupt",
          "evalue": "ignored",
          "traceback": [
            "\u001b[0;31m---------------------------------------------------------------------------\u001b[0m",
            "\u001b[0;31mKeyboardInterrupt\u001b[0m                         Traceback (most recent call last)",
            "\u001b[0;32m<ipython-input-39-b03d80fc8875>\u001b[0m in \u001b[0;36m<module>\u001b[0;34m()\u001b[0m\n\u001b[1;32m      5\u001b[0m   \u001b[0mprint\u001b[0m\u001b[0;34m(\u001b[0m\u001b[0;34m'Actual Output: \\n'\u001b[0m \u001b[0;34m+\u001b[0m \u001b[0mstr\u001b[0m\u001b[0;34m(\u001b[0m\u001b[0mY\u001b[0m\u001b[0;34m)\u001b[0m\u001b[0;34m)\u001b[0m\u001b[0;34m\u001b[0m\u001b[0;34m\u001b[0m\u001b[0m\n\u001b[1;32m      6\u001b[0m   \u001b[0mprint\u001b[0m\u001b[0;34m(\u001b[0m\u001b[0;34m'Predicted Output: \\n'\u001b[0m \u001b[0;34m+\u001b[0m \u001b[0mstr\u001b[0m\u001b[0;34m(\u001b[0m\u001b[0mNN\u001b[0m\u001b[0;34m.\u001b[0m\u001b[0mforward\u001b[0m\u001b[0;34m(\u001b[0m\u001b[0mX\u001b[0m\u001b[0;34m)\u001b[0m\u001b[0;34m)\u001b[0m\u001b[0;34m)\u001b[0m\u001b[0;34m\u001b[0m\u001b[0;34m\u001b[0m\u001b[0m\n\u001b[0;32m----> 7\u001b[0;31m   \u001b[0mprint\u001b[0m\u001b[0;34m(\u001b[0m\u001b[0;34m'Loss: \\n'\u001b[0m \u001b[0;34m+\u001b[0m \u001b[0mstr\u001b[0m\u001b[0;34m(\u001b[0m\u001b[0mnp\u001b[0m\u001b[0;34m.\u001b[0m\u001b[0mmean\u001b[0m\u001b[0;34m(\u001b[0m\u001b[0mnp\u001b[0m\u001b[0;34m.\u001b[0m\u001b[0msquare\u001b[0m\u001b[0;34m(\u001b[0m\u001b[0mY\u001b[0m \u001b[0;34m-\u001b[0m \u001b[0mNN\u001b[0m\u001b[0;34m.\u001b[0m\u001b[0mforward\u001b[0m\u001b[0;34m(\u001b[0m\u001b[0mX\u001b[0m\u001b[0;34m)\u001b[0m\u001b[0;34m)\u001b[0m\u001b[0;34m)\u001b[0m\u001b[0;34m)\u001b[0m\u001b[0;34m)\u001b[0m \u001b[0;31m# mean sum squared loss\u001b[0m\u001b[0;34m\u001b[0m\u001b[0;34m\u001b[0m\u001b[0m\n\u001b[0m\u001b[1;32m      8\u001b[0m   \u001b[0mprint\u001b[0m\u001b[0;34m(\u001b[0m\u001b[0;34m'\\n'\u001b[0m\u001b[0;34m)\u001b[0m\u001b[0;34m\u001b[0m\u001b[0;34m\u001b[0m\u001b[0m\n\u001b[1;32m      9\u001b[0m \u001b[0;34m\u001b[0m\u001b[0m\n",
            "\u001b[0;31mKeyboardInterrupt\u001b[0m: "
          ]
        }
      ]
    }
  ]
}