{
  "nbformat": 4,
  "nbformat_minor": 0,
  "metadata": {
    "colab": {
      "name": "Untitled3.ipynb",
      "provenance": [],
      "collapsed_sections": [],
      "authorship_tag": "ABX9TyPG7s9Weq2z7muLS7x+HejC",
      "include_colab_link": true
    },
    "kernelspec": {
      "name": "python3",
      "display_name": "Python 3"
    }
  },
  "cells": [
    {
      "cell_type": "markdown",
      "metadata": {
        "id": "view-in-github",
        "colab_type": "text"
      },
      "source": [
        "<a href=\"https://colab.research.google.com/github/maslovalyudmila/ds_school_2020/blob/master/Maslova_3d_Task.ipynb\" target=\"_parent\"><img src=\"https://colab.research.google.com/assets/colab-badge.svg\" alt=\"Open In Colab\"/></a>"
      ]
    },
    {
      "cell_type": "code",
      "metadata": {
        "id": "qEg_Yg5tZe5Z",
        "colab_type": "code",
        "colab": {}
      },
      "source": [
        "import numpy as np"
      ],
      "execution_count": 0,
      "outputs": []
    },
    {
      "cell_type": "code",
      "metadata": {
        "id": "6Df2DsWoZhrC",
        "colab_type": "code",
        "colab": {}
      },
      "source": [
        "data = np.array([[0,0],\n",
        "              [0,1],\n",
        "              [1,0],\n",
        "              [1,1]])\n",
        "\n",
        "y = np.array([[1, 0, 0, 1]]).T\n",
        "\n",
        "y_pred = np.array([0, 0, 0, 0]).T"
      ],
      "execution_count": 0,
      "outputs": []
    },
    {
      "cell_type": "code",
      "metadata": {
        "id": "HmOhyQcSbirx",
        "colab_type": "code",
        "colab": {}
      },
      "source": [
        "# f(x) = 1 / (1 + e^(-x))\n",
        "def sigmoid(x):\n",
        "    return 1 / (1 + np.exp(-x))\n",
        "\n",
        "# f'(x) = f(x) * (1 - f(x))\n",
        "def deriv_sigmoid(x):\n",
        "    fx = sigmoid(x)\n",
        "    return fx * (1 - fx)"
      ],
      "execution_count": 0,
      "outputs": []
    },
    {
      "cell_type": "code",
      "metadata": {
        "id": "slpkaCLRobiJ",
        "colab_type": "code",
        "colab": {}
      },
      "source": [
        "def mse_loss(y, y_pred):\n",
        "    return ((y - y_pred) ** 2).mean()"
      ],
      "execution_count": 0,
      "outputs": []
    },
    {
      "cell_type": "code",
      "metadata": {
        "id": "DGC5tiHHxjiX",
        "colab_type": "code",
        "colab": {}
      },
      "source": [
        "class OurNeuralNetwork:\n",
        "    def __init__(self):\n",
        "      # weight\n",
        "      self.w1 = np.random.normal()\n",
        "      self.w2 = np.random.normal()\n",
        "      self.w3 = np.random.normal()\n",
        "      self.w4 = np.random.normal()\n",
        "      self.w5 = np.random.normal()\n",
        "      self.w6 = np.random.normal()\n",
        "      self.w7 = np.random.normal()\n",
        "      self.w8 = np.random.normal()\n",
        "      self.w9 = np.random.normal()\n",
        "\n",
        "      # bios\n",
        "      self.b1 = np.random.normal()\n",
        "      self.b2 = np.random.normal()\n",
        "      self.b3 = np.random.normal()\n",
        "      self.b4 = np.random.normal()\n",
        "\n",
        "    def feedforward(self, x):\n",
        "        h1 = sigmoid(self.w1 * x[0] + self.w2 * x[1] + self.b1)\n",
        "        h2 = sigmoid(self.w3 * x[0] + self.w4 * x[1] + self.b2)\n",
        "        h3 = sigmoid(self.w5 * x[0] + self.w6 * x[1] + self.b3)\n",
        "        o1 = sigmoid(self.w7 * h1 + self.w8 * h2 + self.w9 * h3 + self.b4)\n",
        "        return o1\n",
        "\n",
        "    def train(self, data, y):\n",
        "      learn_rate = 0.1\n",
        "      epochs = 1000 # sum of circles\n",
        "      for epoch in range(epochs):\n",
        "        for x, y_true in zip(data, y):\n",
        "          sum_h1 = self.w1 * x[0] + self.w2 * x[1] + self.b1\n",
        "          h1 = sigmoid(sum_h1)\n",
        "\n",
        "          sum_h2 = self.w3 * x[0] + self.w4 * x[1] + self.b2\n",
        "          h2 = sigmoid(sum_h2)\n",
        "\n",
        "          sum_h3 = self.w5 * x[0] + self.w6 * x[1] + self.b3\n",
        "          h3 = sigmoid(sum_h3)\n",
        "\n",
        "          sum_o1 = self.w7 * h1 + self.w8 * h2 + self.w9 * h3 + self.b4\n",
        "          o1 = sigmoid(sum_o1)\n",
        "          y_pred = o1\n",
        "\n",
        "          d_L_d_ypred = -2 * (y - y_pred)\n",
        "\n",
        "          # neuron o1\n",
        "          d_ypred_d_w7 = h1 * deriv_sigmoid(sum_o1)\n",
        "          d_ypred_d_w8 = h2 * deriv_sigmoid(sum_o1)\n",
        "          d_ypred_d_w9 = h3 * deriv_sigmoid(sum_o1)\n",
        "          d_ypred_d_b4 = deriv_sigmoid(sum_o1)\n",
        "\n",
        "          # h1\n",
        "          d_h1_d_w1 = x[0] * deriv_sigmoid(sum_h1)\n",
        "          d_h1_d_w2 = x[1] * deriv_sigmoid(sum_h1)\n",
        "          d_h1_d_b1 = deriv_sigmoid(sum_h1)\n",
        "\n",
        "          # h2\n",
        "          d_h2_d_w3 = x[0] * deriv_sigmoid(sum_h2)\n",
        "          d_h2_d_w4 = x[1] * deriv_sigmoid(sum_h2)\n",
        "          d_h2_d_b2 = deriv_sigmoid(sum_h2)\n",
        "\n",
        "          # h3\n",
        "          d_h3_d_w5 = x[0] * deriv_sigmoid(sum_h3)\n",
        "          d_h3_d_w6 = x[1] * deriv_sigmoid(sum_h3)\n",
        "          d_h3_d_b3 = deriv_sigmoid(sum_h3)\n",
        "\n",
        "          # the loss after every interation\n",
        "      if epoch % 10 == 0:\n",
        "        y_preds = np.apply_along_axis(self.feedforward, 1, data)\n",
        "        loss = mse_loss(y, y_preds)\n",
        "        print(\"Epoch %d loss: %.3f\" % (epoch, loss))"
      ],
      "execution_count": 0,
      "outputs": []
    },
    {
      "cell_type": "code",
      "metadata": {
        "id": "ZhIDkiKR3CXH",
        "colab_type": "code",
        "colab": {}
      },
      "source": [
        "'''\n",
        "# new weight & bios !!! didn't find d_ypred_d_h1\n",
        "                \n",
        "          # h1\n",
        "          self.w1 -= learn_rate * d_L_d_ypred * d_ypred_d_h1 * d_h1_d_w1\n",
        "          self.w2 -= learn_rate * d_L_d_ypred * d_ypred_d_h1 * d_h1_d_w2\n",
        "          self.b1 -= learn_rate * d_L_d_ypred * d_ypred_d_h1 * d_h1_d_b1\n",
        "\n",
        "          # h2\n",
        "          self.w3 -= learn_rate * d_L_d_ypred * d_ypred_d_h2 * d_h2_d_w3\n",
        "          self.w4 -= learn_rate * d_L_d_ypred * d_ypred_d_h2 * d_h2_d_w4\n",
        "          self.b2 -= learn_rate * d_L_d_ypred * d_ypred_d_h2 * d_h2_d_b2\n",
        "\n",
        "          # h3\n",
        "          self.w5 -= learn_rate * d_L_d_ypred * d_ypred_d_h3 * d_h2_d_w5\n",
        "          self.w6 -= learn_rate * d_L_d_ypred * d_ypred_d_h3 * d_h2_d_w6\n",
        "          self.b3 -= learn_rate * d_L_d_ypred * d_ypred_d_h3 * d_h2_d_b3\n",
        "\n",
        "          # o1\n",
        "          self.w7 -= learn_rate * d_L_d_ypred * d_ypred_d_w7\n",
        "          self.w8 -= learn_rate * d_L_d_ypred * d_ypred_d_w8\n",
        "          self.w9 -= learn_rate * d_L_d_ypred * d_ypred_d_w9\n",
        "          self.b4 -= learn_rate * d_L_d_ypred * d_ypred_d_b4\n",
        "'''"
      ],
      "execution_count": 0,
      "outputs": []
    },
    {
      "cell_type": "code",
      "metadata": {
        "id": "bgCG9C8vp4iV",
        "colab_type": "code",
        "colab": {}
      },
      "source": [
        "# train NN\n",
        "network = OurNeuralNetwork()\n",
        "network.train(data, y)"
      ],
      "execution_count": 0,
      "outputs": []
    }
  ]
}
