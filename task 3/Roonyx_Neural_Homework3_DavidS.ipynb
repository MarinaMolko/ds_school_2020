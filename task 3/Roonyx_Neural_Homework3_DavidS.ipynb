{
  "nbformat": 4,
  "nbformat_minor": 0,
  "metadata": {
    "colab": {
      "name": "Roonyx Neural Homework3 DavidS.ipynb",
      "provenance": [],
      "collapsed_sections": [],
      "authorship_tag": "ABX9TyP4LGwcluk2hZmhJKLxZRa0"
    },
    "kernelspec": {
      "name": "python3",
      "display_name": "Python 3"
    }
  },
  "cells": [
    {
      "cell_type": "code",
      "metadata": {
        "id": "MStBxMqbw6fv",
        "colab_type": "code",
        "colab": {}
      },
      "source": [
        "import numpy as np\n",
        "import scipy as sp\n",
        "from scipy.misc import derivative"
      ],
      "execution_count": 0,
      "outputs": []
    },
    {
      "cell_type": "code",
      "metadata": {
        "id": "jX3beyyatwqs",
        "colab_type": "code",
        "colab": {}
      },
      "source": [
        "sigmoid = lambda x: 1 / (1 + np.exp(-x))\n",
        "mse = lambda y, preds: ((y - preds)**2)"
      ],
      "execution_count": 0,
      "outputs": []
    },
    {
      "cell_type": "code",
      "metadata": {
        "id": "3Wp-jV4UL-kC",
        "colab_type": "code",
        "colab": {}
      },
      "source": [
        "dersigm = lambda x: ((1 - x) * x)"
      ],
      "execution_count": 0,
      "outputs": []
    },
    {
      "cell_type": "code",
      "metadata": {
        "id": "5QdZMV-uH7x9",
        "colab_type": "code",
        "colab": {}
      },
      "source": [
        "class Neuron():\n",
        "    def __init__(self, actfunc=sigmoid, number=0):\n",
        "        self.LN = actfunc\n",
        "        self.w = None\n",
        "        self.inp = None\n",
        "        self.delta = None\n",
        "        self.nout = None\n",
        "        self.nin = []\n",
        "        self.number = number\n",
        "    def forward(self, inp):\n",
        "        self.inp = inp\n",
        "        if type(self.w) == type(None):\n",
        "            self.w = np.random.rand(inp.shape[0])\n",
        "        \n",
        "        self.out = np.dot(self.w, self.inp)\n",
        "\n",
        "        return self.LN(self.out)\n",
        "    def addoutneuron(self, lay):\n",
        "        self.nout = lay\n",
        "    def addinneuron(self, neurons):\n",
        "        self.nin += neurons\n",
        "    def countdelta(self, answer, nextlay, isoutlay=False):\n",
        "        \n",
        "        derivLN = lambda out: (1 - out)*out if self.LN == sigmoid else derivative(self.LN, out)\n",
        "        \n",
        "        if isoutlay:\n",
        "            self.delta = (answer - self.forward(self.backlog())) * derivLN(self.forward(self.backlog())) \n",
        "            #Maybe I need to use self.backlog as argument to deriv\n",
        "        else:\n",
        "            self.delta = derivLN(self.forward(self.backlog())) * sum([neuron.w[self.number] * neuron.delta for neuron in nextlay.neurons])\n",
        "        return self.delta\n",
        "    \n",
        "    def backlog(self):\n",
        "        return self.inp"
      ],
      "execution_count": 0,
      "outputs": []
    },
    {
      "cell_type": "code",
      "metadata": {
        "id": "PIkBc5AwrlBD",
        "colab_type": "code",
        "colab": {}
      },
      "source": [
        "class perceptronlayer():\n",
        "    def __init__(self, n_counts, actfunc=sigmoid):\n",
        "        self.neurons = [Neuron(actfunc=actfunc, number=i) for i in range(n_counts)]\n",
        "        self.size = n_counts\n",
        "    \n",
        "    def output(self):\n",
        "        return np.array([neuron.forward(neuron.inp) for neuron in self.neurons])\n",
        "\n",
        "    def takeinput(self, inp):\n",
        "        for neuron in self.neurons:\n",
        "            neuron.forward(inp)\n",
        "    def takeweights(self):\n",
        "        return np.array([neuron.w for neuron in self.neurons])"
      ],
      "execution_count": 0,
      "outputs": []
    },
    {
      "cell_type": "code",
      "metadata": {
        "id": "xsZWeVX4KAHa",
        "colab_type": "code",
        "colab": {}
      },
      "source": [
        "class Perceptron():\n",
        "    \n",
        "    def __init__(self):\n",
        "        self.lays = []\n",
        "    \n",
        "    def addlay(self, n_counts, actfunc=sigmoid):\n",
        "        self.lays += [perceptronlayer(n_counts, actfunc)]\n",
        "        if len(self.lays) != 1:\n",
        "            for neuron in self.lays[-2].neurons:\n",
        "                neuron.addoutneuron(self.lays[-1])\n",
        "    \n",
        "    def predict1(self, X):\n",
        "        i = 0\n",
        "        for lay in self.lays:\n",
        "            if i == 0:\n",
        "                lay.takeinput(X)\n",
        "                out = lay.output()\n",
        "            else:\n",
        "                lay.takeinput(out)\n",
        "                out = lay.output()\n",
        "            i += 1\n",
        "        return np.exp(out)/sum(np.exp(out))\n",
        "    \n",
        "    def fit1(self, X, y, e=0.07):\n",
        "        self.predict1(X)\n",
        "        for layer in self.lays[::-1]:\n",
        "            if layer == self.lays[-1]:\n",
        "                for neuron in layer.neurons:\n",
        "                    neuron.countdelta(y, None, True)\n",
        "            elif layer == self.lays[0]:\n",
        "                for neuron in range(len(layer.neurons)):\n",
        "                    layer.neurons[neuron].w = layer.neurons[neuron].w.fill(1)\n",
        "            else:\n",
        "                for neuron in layer.neurons:\n",
        "                    neuron.countdelta(None, neuron.nout, False)\n",
        "                    for n in neuron.nout.neurons:\n",
        "                        grad = n.delta * neuron.forward(neuron.backlog())\n",
        "                        #print(n.w[neuron.number])\n",
        "                        n.w[neuron.number] = n.w[neuron.number] + e * grad\n",
        "                        #print(n.w[neuron.number], grad)\n",
        "\n",
        "    def fit(self, X, y, e=0.07, num_epochs=10):\n",
        "        for epoch in range(num_epochs):\n",
        "            w = [neuron.w for neuron in layer.neurons for layer in self.lays]\n",
        "            #print(w)\n",
        "            for i in range(len(y)):\n",
        "                self.fit1(X[i], y[i], e)\n",
        "    def predict(self, X):\n",
        "        return np.array([self.predict1(x) for x in X])"
      ],
      "execution_count": 0,
      "outputs": []
    },
    {
      "cell_type": "code",
      "metadata": {
        "id": "X-h2OrDBKonV",
        "colab_type": "code",
        "colab": {
          "base_uri": "https://localhost:8080/",
          "height": 68
        },
        "outputId": "d1f31a27-d8e0-4fed-ede5-9b96b4aaf1b7"
      },
      "source": [
        "perc = Perceptron()\n",
        "perc.addlay(2)\n",
        "perc.addlay(3)\n",
        "perc.addlay(1)\n",
        "perc.lays"
      ],
      "execution_count": 310,
      "outputs": [
        {
          "output_type": "execute_result",
          "data": {
            "text/plain": [
              "[<__main__.perceptronlayer at 0x7f05027e7198>,\n",
              " <__main__.perceptronlayer at 0x7f05027e7b70>,\n",
              " <__main__.perceptronlayer at 0x7f0503102898>]"
            ]
          },
          "metadata": {
            "tags": []
          },
          "execution_count": 310
        }
      ]
    },
    {
      "cell_type": "code",
      "metadata": {
        "id": "X0yI0iV-iyvv",
        "colab_type": "code",
        "outputId": "43f80c76-3ee1-4c2e-d715-47abf3e7e334",
        "colab": {
          "base_uri": "https://localhost:8080/",
          "height": 1000
        }
      },
      "source": [
        "#generate a random data to predict\n",
        "datatrain = np.random.rand(100, 5)\n",
        "trueanstrain = np.array([int(round(sum(x))**2 > 4) for x in datatrain])\n",
        "datatest = np.random.rand(10, 5)\n",
        "trueanstest = np.array([int(round(sum(x))**2 > 4) for x in datatest])\n",
        "print(datatrain, trueanstrain)"
      ],
      "execution_count": 311,
      "outputs": [
        {
          "output_type": "stream",
          "text": [
            "[[2.22420446e-01 9.35572378e-01 5.94423788e-02 8.43639605e-01\n",
            "  5.02602308e-01]\n",
            " [4.33112128e-01 8.03147561e-01 1.81336535e-01 5.48884603e-03\n",
            "  2.62382997e-01]\n",
            " [3.15715707e-01 3.61254138e-01 6.89305292e-01 3.86164993e-01\n",
            "  2.28720237e-02]\n",
            " [3.81094938e-01 3.96239133e-01 6.06621200e-01 6.31430144e-01\n",
            "  3.31699692e-01]\n",
            " [1.73453519e-01 1.82203314e-01 8.09723655e-01 2.36431374e-01\n",
            "  6.32431273e-01]\n",
            " [8.87990355e-01 6.30595508e-01 8.60197629e-01 6.42436264e-01\n",
            "  1.41475402e-01]\n",
            " [8.22858627e-01 7.89074059e-01 2.76137111e-01 2.35476958e-01\n",
            "  4.46406513e-01]\n",
            " [8.34549987e-01 5.70229638e-01 3.23277181e-01 1.59598716e-01\n",
            "  4.88921531e-01]\n",
            " [1.62283431e-01 6.74721255e-01 2.15313452e-01 6.42093368e-01\n",
            "  8.51884034e-01]\n",
            " [9.29149702e-01 7.17663055e-02 8.16070287e-01 3.16291434e-01\n",
            "  6.31823199e-01]\n",
            " [3.41388351e-01 5.78783892e-01 4.91259261e-01 1.50788485e-01\n",
            "  5.40570970e-01]\n",
            " [3.84569854e-01 3.68893484e-01 6.78902257e-01 5.83657023e-01\n",
            "  5.00510039e-02]\n",
            " [8.02396324e-02 7.54270358e-01 6.22721818e-02 7.32111904e-01\n",
            "  9.80383115e-01]\n",
            " [7.72405660e-01 8.50783702e-02 9.87639538e-01 5.11334692e-01\n",
            "  7.69706822e-01]\n",
            " [1.60714917e-01 4.62790042e-01 2.43617779e-01 8.04741418e-01\n",
            "  1.07845280e-02]\n",
            " [8.27166702e-01 8.65595722e-01 4.07738678e-01 2.03336026e-01\n",
            "  6.64660214e-01]\n",
            " [7.79752714e-01 8.22126989e-01 3.24340304e-01 3.64479461e-01\n",
            "  7.17711174e-01]\n",
            " [8.00618780e-01 6.05385060e-01 8.92427190e-01 2.13764902e-01\n",
            "  4.48753985e-01]\n",
            " [6.88387061e-01 3.72642715e-01 3.40515672e-01 4.27292897e-01\n",
            "  4.51621778e-01]\n",
            " [4.71764004e-01 5.86240904e-01 3.09021418e-01 1.02351397e-01\n",
            "  4.83203294e-01]\n",
            " [9.09461633e-01 1.91145112e-02 7.89700124e-01 7.41202944e-01\n",
            "  8.27159317e-01]\n",
            " [6.53717062e-02 1.39531189e-01 2.22606490e-01 1.76175441e-01\n",
            "  7.80955456e-01]\n",
            " [2.04004491e-01 7.11504332e-01 8.97482386e-01 2.43528404e-01\n",
            "  2.10638168e-01]\n",
            " [4.02469732e-01 1.29375380e-01 8.30877283e-01 7.05623178e-02\n",
            "  8.06643303e-01]\n",
            " [7.85091373e-01 4.19031019e-01 6.92448941e-02 2.22143188e-01\n",
            "  2.18484337e-01]\n",
            " [1.80198159e-01 6.48147469e-01 5.64101693e-01 1.92528749e-01\n",
            "  2.49707752e-01]\n",
            " [4.64973455e-02 6.61178907e-01 1.02611028e-01 7.79064719e-01\n",
            "  1.96769862e-01]\n",
            " [5.81098959e-01 5.94588708e-02 9.41148983e-01 5.09270235e-01\n",
            "  4.50304903e-01]\n",
            " [1.46823532e-01 1.16764423e-01 1.61840602e-02 7.26460460e-01\n",
            "  3.83808149e-01]\n",
            " [8.74449981e-03 4.72664026e-01 8.80436711e-01 6.52582082e-01\n",
            "  7.17965282e-01]\n",
            " [6.58724325e-01 4.97498492e-01 8.99225920e-01 6.76306480e-01\n",
            "  2.82252242e-01]\n",
            " [4.16777272e-01 8.32170365e-01 3.20259236e-01 4.21369702e-01\n",
            "  1.00266895e-03]\n",
            " [2.73648073e-02 6.84203220e-01 2.25402426e-03 5.81932895e-02\n",
            "  8.74315014e-01]\n",
            " [9.86402708e-01 5.37803740e-01 9.22981648e-02 5.90188126e-01\n",
            "  1.76458813e-02]\n",
            " [1.91808592e-01 3.69021447e-01 9.41198294e-01 5.97667190e-01\n",
            "  2.95956243e-01]\n",
            " [1.21380261e-01 5.09641075e-01 4.35790781e-01 2.11111661e-01\n",
            "  4.36321222e-01]\n",
            " [5.65801918e-01 7.13360726e-01 6.32681706e-01 6.96299745e-01\n",
            "  7.73214555e-01]\n",
            " [9.44361956e-03 8.81716882e-01 2.71667764e-02 9.26523812e-01\n",
            "  3.52586218e-01]\n",
            " [5.88942842e-02 9.46417527e-01 9.56535088e-01 4.16459324e-01\n",
            "  3.39468254e-01]\n",
            " [5.64977536e-01 5.66542114e-01 9.68636039e-01 9.90253976e-01\n",
            "  9.08042384e-01]\n",
            " [8.19856891e-01 9.83981698e-01 6.62862612e-01 8.84949173e-04\n",
            "  1.45805666e-01]\n",
            " [6.74875571e-01 3.13248492e-01 8.35884259e-02 7.82922521e-01\n",
            "  4.33039522e-01]\n",
            " [6.61791153e-01 8.66564764e-01 8.70108332e-01 6.10359237e-01\n",
            "  8.96625879e-01]\n",
            " [9.33624911e-01 1.01437088e-01 5.50037645e-01 6.18594797e-01\n",
            "  2.67261019e-01]\n",
            " [9.61862696e-01 9.29720327e-01 9.95387799e-01 7.76401708e-01\n",
            "  9.46055175e-01]\n",
            " [7.90744558e-01 9.76097424e-01 2.08960656e-01 1.77131791e-01\n",
            "  7.72872902e-01]\n",
            " [3.14125429e-01 5.50869986e-01 3.11346230e-02 4.62246920e-01\n",
            "  4.07722724e-01]\n",
            " [5.74354165e-01 1.94548586e-01 3.64398582e-02 9.80849121e-01\n",
            "  6.16587694e-02]\n",
            " [9.28593581e-01 9.29726300e-01 8.52519236e-01 9.83269745e-01\n",
            "  6.89022910e-01]\n",
            " [7.26990343e-01 8.30877082e-01 8.22533877e-01 7.49491064e-01\n",
            "  5.36052470e-01]\n",
            " [4.85344789e-01 9.22723494e-01 3.60550012e-01 3.20260884e-01\n",
            "  1.15445146e-01]\n",
            " [6.08929797e-01 5.59421103e-01 3.16214356e-01 8.12519298e-01\n",
            "  3.30092222e-01]\n",
            " [3.90091600e-02 8.29709196e-01 7.86304508e-01 8.54183791e-01\n",
            "  8.12964571e-01]\n",
            " [2.42436391e-02 1.20427342e-01 4.41239257e-01 3.87946764e-02\n",
            "  4.68763561e-01]\n",
            " [6.40909237e-01 7.05003589e-01 9.61644528e-01 2.17951326e-01\n",
            "  7.57676095e-01]\n",
            " [9.08126626e-03 2.27185318e-01 4.87368174e-01 7.24534531e-01\n",
            "  2.32310476e-01]\n",
            " [7.44337225e-01 3.30878254e-01 3.91133980e-01 4.64828016e-01\n",
            "  7.67191047e-01]\n",
            " [4.25716058e-01 1.11581599e-01 1.43620913e-01 4.43165248e-01\n",
            "  7.16961771e-01]\n",
            " [2.32059398e-01 3.96000260e-01 2.51932795e-01 2.71755661e-01\n",
            "  2.69673020e-01]\n",
            " [3.91694239e-02 2.83673857e-01 5.53848023e-01 4.23923182e-01\n",
            "  9.40558368e-01]\n",
            " [6.56958712e-01 7.08479584e-01 4.74837970e-01 6.50435681e-02\n",
            "  3.04225617e-01]\n",
            " [6.25588404e-02 2.94677973e-01 7.76715460e-01 5.80232329e-01\n",
            "  7.73812409e-01]\n",
            " [2.24147006e-01 7.88093072e-01 1.46034851e-01 8.63612157e-03\n",
            "  8.88247660e-01]\n",
            " [2.77145130e-01 1.31201277e-01 4.82394575e-01 6.51462241e-01\n",
            "  6.09175719e-01]\n",
            " [2.31291189e-01 6.70292564e-01 1.82738474e-01 2.04148019e-01\n",
            "  3.28312494e-01]\n",
            " [1.58274396e-01 1.71297379e-02 4.20486564e-01 6.36702055e-01\n",
            "  4.43659911e-01]\n",
            " [1.70731149e-01 5.35533639e-01 2.94332798e-02 4.95129253e-02\n",
            "  2.08359482e-01]\n",
            " [4.37950546e-02 3.31254773e-03 7.63128250e-01 3.58424792e-01\n",
            "  6.12928115e-02]\n",
            " [3.16898160e-01 3.20342549e-01 6.63331785e-01 8.72294062e-01\n",
            "  3.41687780e-01]\n",
            " [3.71846009e-01 7.97626350e-01 2.29505634e-01 5.54758165e-02\n",
            "  1.39578605e-01]\n",
            " [6.96856782e-01 8.16333071e-02 9.80237828e-01 8.02371452e-02\n",
            "  6.11601257e-01]\n",
            " [9.97444947e-01 6.92913757e-01 4.10796444e-01 7.05137987e-01\n",
            "  5.52738599e-01]\n",
            " [7.02244878e-01 2.85482701e-01 5.64123818e-01 8.00636410e-01\n",
            "  2.16212115e-01]\n",
            " [5.79857925e-01 5.70761905e-01 2.82688941e-01 1.66456308e-01\n",
            "  8.48646242e-02]\n",
            " [6.20388400e-01 9.93854289e-01 3.72267170e-01 2.74044697e-01\n",
            "  7.99852993e-01]\n",
            " [6.69909567e-01 8.44904216e-02 9.35336421e-01 6.87338221e-01\n",
            "  7.89868193e-01]\n",
            " [7.31651891e-01 9.58007481e-01 4.56689463e-01 5.61977676e-01\n",
            "  9.67432036e-02]\n",
            " [2.71725862e-01 3.40445041e-01 2.71706434e-01 2.96749161e-01\n",
            "  7.13615003e-01]\n",
            " [4.84427547e-01 8.96683252e-01 8.00299311e-02 7.37014934e-01\n",
            "  7.64512419e-01]\n",
            " [2.69420624e-01 7.87136212e-01 8.43169166e-01 2.63997932e-01\n",
            "  3.59004023e-01]\n",
            " [9.35962937e-01 3.28062835e-01 3.10163033e-01 5.78574783e-01\n",
            "  4.36135363e-01]\n",
            " [6.63971336e-01 7.80671876e-01 2.20036573e-01 7.80264406e-01\n",
            "  2.23956046e-01]\n",
            " [9.84812221e-01 5.38995593e-01 1.47490482e-02 2.06072081e-01\n",
            "  6.14951762e-01]\n",
            " [4.12548445e-01 3.09029169e-01 8.46207611e-02 2.38562921e-01\n",
            "  9.25647495e-01]\n",
            " [6.34080740e-03 7.55513105e-01 3.90327583e-01 5.98622087e-01\n",
            "  5.70477167e-01]\n",
            " [9.47280179e-01 8.36896881e-01 5.53255872e-01 1.43803607e-01\n",
            "  9.34929261e-03]\n",
            " [4.65881120e-02 9.00402463e-01 5.04060267e-01 2.09284115e-01\n",
            "  5.02702074e-01]\n",
            " [6.60292397e-01 7.02464179e-01 3.87524319e-01 9.01158270e-01\n",
            "  9.68132676e-01]\n",
            " [3.84062162e-02 2.37187637e-01 9.41484158e-01 1.19584178e-01\n",
            "  5.27576113e-01]\n",
            " [9.49730054e-01 2.38520348e-01 4.80732811e-01 4.71685219e-01\n",
            "  7.13589572e-01]\n",
            " [3.74465330e-01 2.98777437e-01 5.80679669e-02 6.38089064e-02\n",
            "  5.06705453e-01]\n",
            " [2.54123253e-01 5.09695562e-01 5.26595297e-01 4.36885644e-01\n",
            "  6.81115827e-01]\n",
            " [1.36779852e-01 5.66527770e-01 1.04064139e-02 9.96650372e-01\n",
            "  2.91705711e-01]\n",
            " [4.20020473e-01 2.18834463e-03 2.27263222e-02 3.78415845e-01\n",
            "  6.59603057e-01]\n",
            " [9.05262849e-02 5.49179021e-01 9.35066336e-01 6.70132768e-01\n",
            "  2.94246898e-01]\n",
            " [8.25500796e-01 5.63271237e-01 8.83318214e-01 5.21498619e-01\n",
            "  8.28573567e-01]\n",
            " [7.74063774e-01 9.08839079e-01 7.33664375e-01 8.47560939e-01\n",
            "  3.67189560e-01]\n",
            " [6.30585785e-02 2.81601957e-02 2.53909082e-01 6.06977027e-01\n",
            "  4.85467368e-01]\n",
            " [7.81581460e-02 9.48405547e-01 5.72095058e-01 6.57170838e-01\n",
            "  9.86588381e-01]\n",
            " [3.77732816e-02 8.11194193e-01 5.26114582e-01 4.91856947e-01\n",
            "  1.48158086e-01]] [1 0 0 0 0 1 1 0 1 1 0 0 1 1 0 1 1 1 0 0 1 0 0 0 0 0 0 1 0 1 1 0 0 0 0 0 1\n",
            " 0 1 1 1 0 1 0 1 1 0 0 1 1 0 1 1 0 1 0 1 0 0 0 0 0 0 0 0 0 0 0 1 0 0 1 1 0\n",
            " 1 1 1 0 1 1 1 1 0 0 0 0 0 1 0 1 0 0 0 0 1 1 1 0 1 0]\n"
          ],
          "name": "stdout"
        }
      ]
    },
    {
      "cell_type": "code",
      "metadata": {
        "id": "2Xgc1ToOtw84",
        "colab_type": "code",
        "colab": {
          "base_uri": "https://localhost:8080/",
          "height": 34
        },
        "outputId": "47d79ce2-b40f-4d22-ac4a-02f1dfa8a5c9"
      },
      "source": [
        "sum(perc.predict(datatest).reshape(10) == trueanstest) / 10"
      ],
      "execution_count": 312,
      "outputs": [
        {
          "output_type": "execute_result",
          "data": {
            "text/plain": [
              "0.7"
            ]
          },
          "metadata": {
            "tags": []
          },
          "execution_count": 312
        }
      ]
    },
    {
      "cell_type": "code",
      "metadata": {
        "id": "4TizSN39BHa8",
        "colab_type": "code",
        "colab": {}
      },
      "source": [
        "perc.fit(datatrain, trueanstrain, 0.7, num_epochs=10)"
      ],
      "execution_count": 0,
      "outputs": []
    },
    {
      "cell_type": "code",
      "metadata": {
        "id": "Hw4ow_Hr_NEe",
        "colab_type": "code",
        "colab": {
          "base_uri": "https://localhost:8080/",
          "height": 34
        },
        "outputId": "1d9ae4e6-6bbc-4c19-875f-2578cb3cf530"
      },
      "source": [
        "sum(perc.predict(datatest).reshape(10) == trueanstest) / 10"
      ],
      "execution_count": 314,
      "outputs": [
        {
          "output_type": "execute_result",
          "data": {
            "text/plain": [
              "0.7"
            ]
          },
          "metadata": {
            "tags": []
          },
          "execution_count": 314
        }
      ]
    }
  ]
}
