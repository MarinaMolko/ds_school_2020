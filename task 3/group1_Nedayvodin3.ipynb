{
 "cells": [
  {
   "cell_type": "code",
   "execution_count": 61,
   "metadata": {},
   "outputs": [],
   "source": [
    "import numpy as np\n",
    "X = np.array([[3,3],[2,1],[10,5], [8,5], [12,6], [2,10], [3,8]])\n",
    "y = np.array([[0, 0, 1, 1, 1, 0, 0]]).T"
   ]
  },
  {
   "cell_type": "code",
   "execution_count": 62,
   "metadata": {},
   "outputs": [],
   "source": [
    "X = X / np.amax(X, axis = 0)\n"
   ]
  },
  {
   "cell_type": "code",
   "execution_count": 63,
   "metadata": {},
   "outputs": [],
   "source": [
    "def sigmoid(x):\n",
    "    return 1/(1+np.exp(-x))\n",
    "\n",
    "def sigmoid_deriv(x):\n",
    "    return sigmoid(x)*(1 - sigmoid(x))"
   ]
  },
  {
   "cell_type": "code",
   "execution_count": 64,
   "metadata": {},
   "outputs": [],
   "source": [
    "#learning rate\n",
    "s = 0.1"
   ]
  },
  {
   "cell_type": "code",
   "execution_count": 65,
   "metadata": {},
   "outputs": [],
   "source": [
    "synapses_hidden = 2 * np.random.random((2,3)) - 1\n",
    "synapses_output = 2 * np.random.random((3,1)) - 1"
   ]
  },
  {
   "cell_type": "code",
   "execution_count": 66,
   "metadata": {},
   "outputs": [],
   "source": [
    "for j in range(10):\n",
    "    l0 = X\n",
    "    l1 = sigmoid(np.dot(l0, synapses_hidden))\n",
    "    l2 = sigmoid(np.dot(l1, synapses_output))\n",
    "    \n",
    "    l2_error = np.multiply(np.log(l2), y) + np.multiply((1 - y), np.log(1 - l2))\n",
    "    l2_delta = l2_error * sigmoid_deriv(l2)\n",
    "    \n",
    "    l1_error = l2_delta.dot(synapses_output.T)\n",
    "    l1_delta = l1_error * sigmoid_deriv(l1)\n",
    "    \n",
    "    synapses_hidden += l0.T.dot(l1_delta) * s\n",
    "    synapses_output += l1.T.dot(l2_delta) * s  \n",
    "   "
   ]
  },
  {
   "cell_type": "code",
   "execution_count": 67,
   "metadata": {},
   "outputs": [
    {
     "name": "stdout",
     "output_type": "stream",
     "text": [
      "[[-0.47075854]\n",
      " [-0.47662074]\n",
      " [-1.05102243]\n",
      " [-1.03101239]\n",
      " [-1.07014837]\n",
      " [-0.48060559]\n",
      " [-0.47266677]]\n"
     ]
    }
   ],
   "source": [
    "print(l2_error)"
   ]
  },
  {
   "cell_type": "code",
   "execution_count": 68,
   "metadata": {},
   "outputs": [],
   "source": [
    "inputs = np.array([[2,6],[12,2],[1,2],[8,5]])\n",
    "out = np.array([[0, 1, 0, 1]]).T"
   ]
  },
  {
   "cell_type": "code",
   "execution_count": 69,
   "metadata": {},
   "outputs": [],
   "source": [
    "l1 = sigmoid(np.dot(inputs, synapses_hidden))\n",
    "l2 = sigmoid(np.dot(l1, synapses_output))\n",
    "l2_error = np.multiply(np.log(l2), out) + np.multiply((1 - out), np.log(1 - l2))"
   ]
  },
  {
   "cell_type": "code",
   "execution_count": 71,
   "metadata": {},
   "outputs": [
    {
     "name": "stdout",
     "output_type": "stream",
     "text": [
      "[[-0.3878655 ]\n",
      " [-1.38907463]\n",
      " [-0.39719507]\n",
      " [-1.38829905]]\n"
     ]
    }
   ],
   "source": [
    "print(l2_error)"
   ]
  },
  {
   "cell_type": "code",
   "execution_count": null,
   "metadata": {},
   "outputs": [],
   "source": []
  },
  {
   "cell_type": "code",
   "execution_count": null,
   "metadata": {},
   "outputs": [],
   "source": []
  }
 ],
 "metadata": {
  "kernelspec": {
   "display_name": "Python 3",
   "language": "python",
   "name": "python3"
  },
  "language_info": {
   "codemirror_mode": {
    "name": "ipython",
    "version": 3
   },
   "file_extension": ".py",
   "mimetype": "text/x-python",
   "name": "python",
   "nbconvert_exporter": "python",
   "pygments_lexer": "ipython3",
   "version": "3.7.6"
  }
 },
 "nbformat": 4,
 "nbformat_minor": 4
}
