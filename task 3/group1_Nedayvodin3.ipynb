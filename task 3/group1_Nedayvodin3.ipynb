{
 "cells": [
  {
   "cell_type": "code",
   "execution_count": 1,
   "metadata": {},
   "outputs": [],
   "source": [
    "import numpy as np\n",
    "X = np.array([[3,3],[2,1],[10,5], [8,5], [12,6], [2,10], [3,8]])\n",
    "y = np.array([[0, 0, 1, 1, 1, 0, 0]]).T"
   ]
  },
  {
   "cell_type": "code",
   "execution_count": 2,
   "metadata": {},
   "outputs": [],
   "source": [
    "X = X / np.amax(X, axis = 0)\n"
   ]
  },
  {
   "cell_type": "code",
   "execution_count": 3,
   "metadata": {},
   "outputs": [],
   "source": [
    "synapses_hidden = 2 * np.random.random((2,3)) - 1\n",
    "synapses_output = 2 * np.random.random((3,1)) - 1"
   ]
  },
  {
   "cell_type": "code",
   "execution_count": 4,
   "metadata": {},
   "outputs": [],
   "source": [
    "for j in range(100000):\n",
    "    l0 = X # Входной слой \n",
    "    l1 = 1 / (1 + np.exp(-(l0.dot(synapses_hidden)))) # скрытый слой \n",
    "    l2 = 1 / (1 + np.exp(-(l1.dot(synapses_output)))) # выходной слой \n",
    "    l2_delta = (y - l2) * (l2 * (1 - l2)) # вычисляем ошибку и используем дельта\n",
    "    l1_delta = l2_delta.dot(synapses_output.T) * (l1 * (1 - l1)) # получаем ошибку на скрытом слое и используем дельта\n",
    "    synapses_output += l1.T.dot(l2_delta) # корректируем веса\n",
    "    synapses_hidden += l0.T.dot(l1_delta) # корректируем веса от входов к скрытым нейронам"
   ]
  },
  {
   "cell_type": "code",
   "execution_count": 5,
   "metadata": {},
   "outputs": [
    {
     "name": "stdout",
     "output_type": "stream",
     "text": [
      "[[3.80382221e-03]\n",
      " [6.41324033e-03]\n",
      " [9.99057158e-01]\n",
      " [9.93223130e-01]\n",
      " [9.99527485e-01]\n",
      " [2.61006486e-11]\n",
      " [2.20348927e-08]]\n"
     ]
    }
   ],
   "source": [
    "print(l2)"
   ]
  },
  {
   "cell_type": "code",
   "execution_count": 6,
   "metadata": {},
   "outputs": [],
   "source": [
    "inputs = np.array([[2,6],[12,2],[1,2],[8,5]])"
   ]
  },
  {
   "cell_type": "code",
   "execution_count": 7,
   "metadata": {},
   "outputs": [],
   "source": [
    "l1 = 1 / (1 + np.exp(-(inputs.dot(synapses_hidden))))\n",
    "l2 = 1 / (1 + np.exp(-(l1.dot(synapses_output))))"
   ]
  },
  {
   "cell_type": "code",
   "execution_count": 8,
   "metadata": {},
   "outputs": [
    {
     "name": "stdout",
     "output_type": "stream",
     "text": [
      "[[1.06496736e-13]\n",
      " [9.99785076e-01]\n",
      " [2.71503834e-04]\n",
      " [9.99785076e-01]]\n"
     ]
    }
   ],
   "source": [
    "print(l2)"
   ]
  },
  {
   "cell_type": "code",
   "execution_count": null,
   "metadata": {},
   "outputs": [],
   "source": []
  }
 ],
 "metadata": {
  "kernelspec": {
   "display_name": "Python 3",
   "language": "python",
   "name": "python3"
  },
  "language_info": {
   "codemirror_mode": {
    "name": "ipython",
    "version": 3
   },
   "file_extension": ".py",
   "mimetype": "text/x-python",
   "name": "python",
   "nbconvert_exporter": "python",
   "pygments_lexer": "ipython3",
   "version": "3.7.6"
  }
 },
 "nbformat": 4,
 "nbformat_minor": 4
}
