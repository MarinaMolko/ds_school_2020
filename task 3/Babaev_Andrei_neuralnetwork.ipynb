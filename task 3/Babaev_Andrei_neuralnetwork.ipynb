{
  "nbformat": 4,
  "nbformat_minor": 0,
  "metadata": {
    "colab": {
      "name": "Babaev_Andrei_neuralnetwork.ipynb",
      "provenance": [],
      "collapsed_sections": [],
      "toc_visible": true,
      "mount_file_id": "1w357-CY4ThTd_gWdA6SAfT3ursMJ7CHe",
      "authorship_tag": "ABX9TyMMf1IRoviY9NaLTale6yiK",
      "include_colab_link": true
    },
    "kernelspec": {
      "name": "python3",
      "display_name": "Python 3"
    }
  },
  "cells": [
    {
      "cell_type": "markdown",
      "metadata": {
        "id": "view-in-github",
        "colab_type": "text"
      },
      "source": [
        "<a href=\"https://colab.research.google.com/github/andBabaev/ds_school_2020/blob/master/task%203/Babaev_Andrei_neuralnetwork.ipynb\" target=\"_parent\"><img src=\"https://colab.research.google.com/assets/colab-badge.svg\" alt=\"Open In Colab\"/></a>"
      ]
    },
    {
      "cell_type": "code",
      "metadata": {
        "id": "Cgv0ShKJooaw",
        "colab_type": "code",
        "colab": {}
      },
      "source": [
        "import numpy as np\n",
        "import pandas as pd\n",
        "\n",
        "from sklearn.datasets import load_iris , make_classification\n",
        "from sklearn.model_selection import train_test_split\n",
        "import matplotlib.pyplot as plt"
      ],
      "execution_count": 0,
      "outputs": []
    },
    {
      "cell_type": "markdown",
      "metadata": {
        "id": "rbfzscPbXxNb",
        "colab_type": "text"
      },
      "source": [
        "# Loss functions and score"
      ]
    },
    {
      "cell_type": "code",
      "metadata": {
        "id": "UvWaMzWU53mv",
        "colab_type": "code",
        "colab": {}
      },
      "source": [
        "def cross_entropy(y_true, probas):\n",
        "    return (-np.sum(y_true*np.log(probas), axis=1)).mean()\n",
        "\n",
        "def rmse(y_true, y_pred):\n",
        "    return np.sqrt((np.power(y_true - y_pred, 2).mean()))\n",
        "\n",
        "def accuracy(y_true, y_pred):\n",
        "    return (y_true==y_pred).mean()"
      ],
      "execution_count": 0,
      "outputs": []
    },
    {
      "cell_type": "markdown",
      "metadata": {
        "id": "2FpVyUCYleDz",
        "colab_type": "text"
      },
      "source": [
        "# Activation functions"
      ]
    },
    {
      "cell_type": "code",
      "metadata": {
        "id": "WDvn-cY3c6qI",
        "colab_type": "code",
        "colab": {}
      },
      "source": [
        "class Sigmoid:\n",
        "    \"\"\"Sigmoid activation function\"\"\"\n",
        "    def __init__(self):\n",
        "        pass\n",
        "\n",
        "    def compute_y(self, x):\n",
        "        '''Return sigmoid(x)\n",
        "\n",
        "        Argument\n",
        "            x - scalar or numpy array'''\n",
        "        return 1/(1+np.exp(-x))\n",
        "\n",
        "    def compute_derivative(self, sig_value):\n",
        "        '''Return derivative of sigmoid\n",
        "        \n",
        "        Argument\n",
        "            sig_value - sigmoid value that can be calculated using the function compute_y(x); scalar or numpy array'''\n",
        "        return sig_value * (1 - sig_value)\n",
        "\n",
        "    def compute_delta_last(self, y_true, y_pred):\n",
        "        '''Return deltas for last layer of neural network which has sigmoid activation function\n",
        "        \n",
        "        Arguments\n",
        "            y_true - Target variables; 2D numpy array\n",
        "            y_pred - Predicted prababilities; 2D numpy array; shape like y_true'''\n",
        "        return -(y_true/y_pred - (1-y_true)/(1-y_pred)) * self.compute_derivative(y_pred)\n",
        "\n",
        "    def compute_delta_nonlast(self, delta, y_pred):\n",
        "        '''Return deltas for non layer of neural network which has sigmoid activation function\n",
        "        \n",
        "        Arguments\n",
        "            delta - the dot product of deltas and weights; 2D numpy array\n",
        "            y_pred - Predicted prababilities; 2D numpy array; shape like y_true'''\n",
        "        return delta * self.compute_derivative(y_pred)\n",
        "\n",
        "    \n",
        "\n",
        "class Softmax:\n",
        "    '''Softmax activation function'''\n",
        "    def __init__(self):\n",
        "        pass\n",
        "        \n",
        "    def compute_y(self, x):\n",
        "        '''Return softmax(x)\n",
        "\n",
        "        Argument\n",
        "            x - numpy array'''\n",
        "        arg = x\n",
        "        return np.exp(arg)/np.sum(np.exp(arg), axis=0)\n",
        "\n",
        "    def compute_delta_last(self, y_true, y_pred):\n",
        "        '''Return deltas for last layer of neural network which has softmax activation function\n",
        "        \n",
        "        Arguments\n",
        "            y_true - Target variables; 2D numpy array\n",
        "            y_pred - Predicted prababilities; 2D numpy array; shape like y_true'''\n",
        "        return y_pred - y_true\n"
      ],
      "execution_count": 0,
      "outputs": []
    },
    {
      "cell_type": "markdown",
      "metadata": {
        "id": "p1XqX7f8l714",
        "colab_type": "text"
      },
      "source": [
        "# Class Layer"
      ]
    },
    {
      "cell_type": "code",
      "metadata": {
        "id": "WvyJm8P0l6PS",
        "colab_type": "code",
        "colab": {}
      },
      "source": [
        "class Layer:\n",
        "    '''\n",
        "    Layer of neural network \n",
        "\n",
        "    Arguments:\n",
        "        n_neurons - number of neurons; scalar\n",
        "        f_activation - activation function for layer; 'softmax' or 'sigmoid'; default 'sigmoid'\n",
        "        input_shape - if first layer input_shape is a scalar else it is None\n",
        "\n",
        "    '''\n",
        "    def __init__(self, n_neurons, f_activation='sigmoid', input_shape=None):\n",
        "        self.n_neurons = n_neurons\n",
        "        self.input_shape = input_shape\n",
        "        self.previous_layer = None\n",
        "\n",
        "        if f_activation=='sigmoid':\n",
        "            self.f_activation = Sigmoid()\n",
        "        elif f_activation == 'softmax':\n",
        "            self.f_activation = Softmax()\n"
      ],
      "execution_count": 0,
      "outputs": []
    },
    {
      "cell_type": "markdown",
      "metadata": {
        "id": "pMnH_-xWEK6P",
        "colab_type": "text"
      },
      "source": [
        "# NeuralNetworkClassifier"
      ]
    },
    {
      "cell_type": "code",
      "metadata": {
        "id": "otndUoNpcBmm",
        "colab_type": "code",
        "colab": {}
      },
      "source": [
        "class NeuralNetworkClassifier:\n",
        "    def __init__(self, layers, random_state=7):\n",
        "        '''Dense neural network for classification task\n",
        "        \n",
        "        Argument\n",
        "            layers - list Layers'''\n",
        "\n",
        "        self.random_state = random_state\n",
        "        self.layers = layers\n",
        "        for i, layer in enumerate(self.layers):\n",
        "            if layer.input_shape is None:\n",
        "                self.layers[i].previous_layer = self.layers[i-1]\n",
        "            else:\n",
        "                #add fake previous_layer for creation matrix of params of first layer\n",
        "                self.layers[i].previous_layer = Layer(layer.input_shape)\n",
        "    \n",
        "    def init_net(self):\n",
        "        '''Initialization of weights'''\n",
        "        np.random.seed(self.random_state)\n",
        "        for i, layer in enumerate(self.layers):\n",
        "            self.layers[i].weights = np.random.normal(size=(self.layers[i].n_neurons, \n",
        "                                                            self.layers[i].previous_layer.n_neurons),)  \n",
        "        np.random.seed(None)\n",
        "    \n",
        "    def predict(self, X):\n",
        "        '''Return probabilities for objects X\n",
        "\n",
        "        Argument\n",
        "            X - 2D numpy array'''\n",
        "        inputs = X.T\n",
        "        for i in range(len(self.layers)):\n",
        "            self.layers[i].outputs = self.layers[i].f_activation.compute_y(self.layers[i].weights.dot(inputs))\n",
        "            inputs = self.layers[i].outputs\n",
        "        return inputs.T\n",
        "\n",
        "    def predict_classes(self, X):\n",
        "        '''Return probabilities for objects X\n",
        "\n",
        "        Argument\n",
        "            X - 2D numpy array'''\n",
        "        probas = self.predict(X)\n",
        "        return np.argmax(probas, axis=1)\n",
        "\n",
        "    def get_classes_by_probas(self, probas):\n",
        "        return np.argmax(probas, axis=1)\n",
        "                \n",
        "    def backprop(self, x, y_true, y_pred):\n",
        "        n_data = y_true.shape[0]\n",
        "        self.layers[0].previous_layer.outputs = x.T\n",
        "        #find delta_w for last layer\n",
        "        self.layers[-1].deltas = self.layers[-1].f_activation.compute_delta_last(y_true, y_pred).T#\n",
        "        self.layers[-1].delta_w = self.layers[-1].deltas.dot(self.layers[-1].previous_layer.outputs.T)/n_data\n",
        "\n",
        "        for_next_delta = self.layers[-1].weights.T.dot(self.layers[-1].deltas)\n",
        "        \n",
        "        #find delta_w for other layers\n",
        "        for i in range(len(self.layers)-2, -1, -1):\n",
        "            self.layers[i].deltas = self.layers[i].f_activation.compute_delta_nonlast(for_next_delta, self.layers[i].outputs)\n",
        "            self.layers[i].delta_w = self.layers[i].deltas.dot(self.layers[i].previous_layer.outputs.T)/n_data\n",
        "\n",
        "            if i:\n",
        "                for_next_delta = self.layers[i].weights.T.dot(self.layers[i].deltas)\n",
        "\n",
        "        #update weights\n",
        "        for i in range(len(self.layers)):\n",
        "            self.layers[i].weights -= self.lr * self.layers[i].delta_w\n",
        "\n",
        "\n",
        "    def dropout_mask(self, shape):\n",
        "        '''Return dropout mask\n",
        "            shape - target shape; 2D array'''\n",
        "        return np.random.binomial(1, 1-self.dropout, size=shape) / 1-self.dropout\n",
        "\n",
        "    def predict_with_dropout(self, X):\n",
        "        '''Return probabilities for objects X. Uses dropout. Only for training phase\n",
        "            X - 2D numpy array'''\n",
        "        m = self.dropout_mask(X.T.shape)\n",
        "        inputs = X.T * m\n",
        "\n",
        "        mask_list = []\n",
        "        mask_list.append(m)\n",
        "        for i in range(len(self.layers)):\n",
        "            self.layers[i].outputs = self.layers[i].f_activation.compute_y(self.layers[i].weights.dot(inputs))\n",
        "            \n",
        "            if i!=len(self.layers)-1:\n",
        "                m = self.dropout_mask(self.layers[i].outputs.shape)\n",
        "                self.layers[i].outputs = self.layers[i].outputs * m\n",
        "                mask_list.append(m)\n",
        "            inputs = self.layers[i].outputs\n",
        "        return inputs.T, mask_list\n",
        "\n",
        "    def backprop_with_dropout(self, x, y_true, y_pred, mask_list):\n",
        "        n_data = y_true.shape[0]\n",
        "        self.layers[0].previous_layer.outputs = x.T*mask_list[0]\n",
        "        #find delta_w for last layer\n",
        "        self.layers[-1].deltas = self.layers[-1].f_activation.compute_delta_last(y_true, y_pred).T\n",
        "        self.layers[-1].delta_w = self.layers[-1].deltas.dot(self.layers[-1].previous_layer.outputs.T)/n_data\n",
        "\n",
        "        for_next_delta = self.layers[-1].weights.T.dot(self.layers[-1].deltas)\n",
        "        #find delta_w for other layers\n",
        "        for i in range(len(self.layers)-2, -1, -1):\n",
        "            for_next_delta = for_next_delta*mask_list[i+1]\n",
        "            self.layers[i].deltas = self.layers[i].f_activation.compute_delta_nonlast(for_next_delta, self.layers[i].outputs)\n",
        "            self.layers[i].delta_w = self.layers[i].deltas.dot(self.layers[i].previous_layer.outputs.T)/n_data\n",
        "\n",
        "            if i:\n",
        "                for_next_delta = self.layers[i].weights.T.dot(self.layers[i].deltas)\n",
        "\n",
        "        #update weights\n",
        "        for i in range(len(self.layers)):\n",
        "            self.layers[i].weights -= self.lr * self.layers[i].delta_w\n",
        "        \n",
        "    def fit(self, X, Y, X_test=None, Y_test=None, n_epochs=1000, lr=0.001, loss='cross_entropy', batch_size=4, dropout=None):\n",
        "        '''Train neural network\n",
        "        \n",
        "        Arguments:\n",
        "            X - train data; 2D numpy array\n",
        "            Y - train labels; 2D numpy array; binary coding\n",
        "            X_test - test data\n",
        "            Y_test - test labels\n",
        "            n_epochs - number of epochs; default 1000\n",
        "            lr = learning rate 0.001\n",
        "            loss - loss function; 'cross_entropy' or 'rmse'; defualt 'cross_entropy'\n",
        "            batch_size - scalar [1..X.shape[0]]; default 4\n",
        "            dropout - scalar; float (0..1); default None'''\n",
        "        if loss == 'cross_entropy':\n",
        "            self.loss = cross_entropy\n",
        "        elif loss == 'rmse':\n",
        "            self.loss = rmse\n",
        "        self.batch_size = batch_size\n",
        "        self.lr = lr\n",
        "        self.init_net()\n",
        "        self.dropout = dropout\n",
        "\n",
        "        self.loss_train_list = []\n",
        "        self.loss_test_list = []\n",
        "        self.train_accuracy_list = []\n",
        "        self.test_accuracy_list = []\n",
        "\n",
        "        n_batch = (int(X.shape[0]/batch_size+0.5))+1\n",
        "        for i in range(n_epochs):\n",
        "            ind = 0\n",
        "            for j in range(1, n_batch):\n",
        "\n",
        "                x = X[ind:batch_size*j]\n",
        "                y = Y[ind:batch_size*j]\n",
        "                ind = batch_size*j\n",
        "\n",
        "                if dropout is None:\n",
        "                    proba = self.predict(x)\n",
        "                    self.backprop(x, y, proba)\n",
        "                else:\n",
        "                    proba, mask_list = self.predict_with_dropout(x)\n",
        "                    self.backprop_with_dropout(x, y, proba, mask_list)\n",
        "\n",
        "            proba = self.predict(X)\n",
        "            acc = accuracy(self.get_classes_by_probas(Y), self.get_classes_by_probas(proba))\n",
        "            self.train_accuracy_list.append(acc)\n",
        "            self.loss_train_list.append(self.loss(Y, proba))\n",
        "\n",
        "            if X_test is not None:\n",
        "                proba = self.predict(X_test)\n",
        "                acc = accuracy(self.get_classes_by_probas(Y_test), self.get_classes_by_probas(proba))\n",
        "                self.test_accuracy_list.append(acc)\n",
        "                self.loss_test_list.append(self.loss(Y_test, proba))\n",
        "            if i % 100 == 0:\n",
        "                if X_test is None:\n",
        "                    print('Epoch %s, Loss: %.4f, Accuracy score: %.4f' % (i, self.loss_train_list[-1], self.train_accuracy_list[-1]) )\n",
        "                else:\n",
        "                    print('Epoch %s, Loss Train/Test: %.4f / %.4f, Accuracy score Train/Test: %.4f / %.4f' % (i, \n",
        "                                                                                                              self.loss_train_list[-1], \n",
        "                                                                                                              self.loss_test_list[-1],\n",
        "                                                                                                              self.train_accuracy_list[-1],\n",
        "                                                                                                              self.test_accuracy_list[-1]))"
      ],
      "execution_count": 0,
      "outputs": []
    },
    {
      "cell_type": "markdown",
      "metadata": {
        "id": "QkRSHS8FEMyn",
        "colab_type": "text"
      },
      "source": [
        "# Multiclass classification"
      ]
    },
    {
      "cell_type": "code",
      "metadata": {
        "id": "B42I9J-6x527",
        "colab_type": "code",
        "outputId": "54594b45-a971-4376-945e-96f267a7bae5",
        "colab": {
          "base_uri": "https://localhost:8080/",
          "height": 51
        }
      },
      "source": [
        "x, y = load_iris(return_X_y=True)\n",
        "n_classes = np.unique(y).shape[0]\n",
        "y_cat = pd.get_dummies(y).values\n",
        "x_train, x_test, y_train, y_test = train_test_split(x, y_cat, test_size=0.3, random_state=42, stratify=y)\n",
        "print('Train shape: ', x_train.shape, '\\nTest shape:', x_test.shape)"
      ],
      "execution_count": 6,
      "outputs": [
        {
          "output_type": "stream",
          "text": [
            "Train shape:  (105, 4) \n",
            "Test shape: (45, 4)\n"
          ],
          "name": "stdout"
        }
      ]
    },
    {
      "cell_type": "code",
      "metadata": {
        "id": "YpWIUVF1s6-q",
        "colab_type": "code",
        "colab": {}
      },
      "source": [
        "nnet = NeuralNetworkClassifier([Layer(8, input_shape=x.shape[1]),\n",
        "                                Layer(n_classes, f_activation='softmax')],\n",
        "                               random_state=1)"
      ],
      "execution_count": 0,
      "outputs": []
    },
    {
      "cell_type": "code",
      "metadata": {
        "id": "M8EvQ3yaIZpz",
        "colab_type": "code",
        "outputId": "fef53f15-5e90-4ea4-826b-4d1aaa419ee0",
        "colab": {
          "base_uri": "https://localhost:8080/",
          "height": 187
        }
      },
      "source": [
        "nnet.fit(x_train, y_train, \n",
        "         x_test, y_test, \n",
        "         lr=0.001, \n",
        "         n_epochs=1000, \n",
        "         batch_size=10)"
      ],
      "execution_count": 8,
      "outputs": [
        {
          "output_type": "stream",
          "text": [
            "Epoch 0, Loss Train/Test: 1.1106 / 1.1119, Accuracy score Train/Test: 0.4667 / 0.4444\n",
            "Epoch 100, Loss Train/Test: 0.8723 / 0.8670, Accuracy score Train/Test: 0.6381 / 0.6444\n",
            "Epoch 200, Loss Train/Test: 0.7633 / 0.7584, Accuracy score Train/Test: 0.6762 / 0.6000\n",
            "Epoch 300, Loss Train/Test: 0.6958 / 0.6914, Accuracy score Train/Test: 0.8095 / 0.7556\n",
            "Epoch 400, Loss Train/Test: 0.6500 / 0.6462, Accuracy score Train/Test: 0.9619 / 0.9556\n",
            "Epoch 500, Loss Train/Test: 0.6163 / 0.6130, Accuracy score Train/Test: 0.9810 / 0.9778\n",
            "Epoch 600, Loss Train/Test: 0.5899 / 0.5870, Accuracy score Train/Test: 0.9810 / 0.9778\n",
            "Epoch 700, Loss Train/Test: 0.5679 / 0.5656, Accuracy score Train/Test: 0.9810 / 0.9556\n",
            "Epoch 800, Loss Train/Test: 0.5490 / 0.5474, Accuracy score Train/Test: 0.9810 / 0.9556\n",
            "Epoch 900, Loss Train/Test: 0.5324 / 0.5314, Accuracy score Train/Test: 0.9810 / 0.9778\n"
          ],
          "name": "stdout"
        }
      ]
    },
    {
      "cell_type": "code",
      "metadata": {
        "id": "MrvAHE2GDchX",
        "colab_type": "code",
        "outputId": "d8d8161e-91ca-4234-ac96-33c47f1a4831",
        "colab": {
          "base_uri": "https://localhost:8080/",
          "height": 332
        }
      },
      "source": [
        "plt.figure(figsize=(20,5))\n",
        "plt.title('Accuracy')\n",
        "plt.plot(nnet.train_accuracy_list, label='train')\n",
        "plt.plot(nnet.test_accuracy_list, label='test')\n",
        "plt.legend();"
      ],
      "execution_count": 9,
      "outputs": [
        {
          "output_type": "display_data",
          "data": {
            "image/png": "[encoded data removed]",
            "text/plain": [
              "<Figure size 1440x360 with 1 Axes>"
            ]
          },
          "metadata": {
            "tags": [],
            "needs_background": "light"
          }
        }
      ]
    },
    {
      "cell_type": "code",
      "metadata": {
        "id": "sf_EbgooPH9H",
        "colab_type": "code",
        "outputId": "3c34a890-bb57-44de-8c96-99931cfc28fe",
        "colab": {
          "base_uri": "https://localhost:8080/",
          "height": 336
        }
      },
      "source": [
        "plt.figure(figsize=(10,5))\n",
        "plt.title('Cross entropy loss')\n",
        "plt.plot(nnet.loss_train_list, label='train')\n",
        "plt.plot(nnet.loss_test_list, label='test')\n",
        "plt.legend();"
      ],
      "execution_count": 10,
      "outputs": [
        {
          "output_type": "display_data",
          "data": {
            "image/png": "[encoded data removed]",
            "text/plain": [
              "<Figure size 720x360 with 1 Axes>"
            ]
          },
          "metadata": {
            "tags": [],
            "needs_background": "light"
          }
        }
      ]
    },
    {
      "cell_type": "markdown",
      "metadata": {
        "id": "A2kg06KwRZ9U",
        "colab_type": "text"
      },
      "source": [
        "# Binary classification"
      ]
    },
    {
      "cell_type": "code",
      "metadata": {
        "id": "qANydEQMRxUk",
        "colab_type": "code",
        "colab": {}
      },
      "source": [
        "x, y = make_classification(n_samples=1000, \n",
        "                           n_features=10, \n",
        "                           n_informative=6,\n",
        "                           n_redundant=2,\n",
        "                           n_clusters_per_class=1,\n",
        "                           n_classes=2,\n",
        "                           random_state=1)"
      ],
      "execution_count": 0,
      "outputs": []
    },
    {
      "cell_type": "code",
      "metadata": {
        "colab_type": "code",
        "outputId": "6834adaf-8cc2-4188-bc59-50b5f42d3f0d",
        "id": "CwXI9dYnStou",
        "colab": {
          "base_uri": "https://localhost:8080/",
          "height": 51
        }
      },
      "source": [
        "n_classes = np.unique(y).shape[0]\n",
        "y_cat = pd.get_dummies(y).values\n",
        "x_train, x_test, y_train, y_test = train_test_split(x, y_cat, test_size=0.3, random_state=42, stratify=y)\n",
        "print('Train shape: ', x_train.shape, '\\nTest shape:', x_test.shape)"
      ],
      "execution_count": 12,
      "outputs": [
        {
          "output_type": "stream",
          "text": [
            "Train shape:  (700, 10) \n",
            "Test shape: (300, 10)\n"
          ],
          "name": "stdout"
        }
      ]
    },
    {
      "cell_type": "code",
      "metadata": {
        "colab_type": "code",
        "id": "xhbmDO3CSto2",
        "colab": {}
      },
      "source": [
        "nnet = NeuralNetworkClassifier([Layer(10, input_shape=x.shape[1]),\n",
        "                                Layer(n_classes)],\n",
        "                               random_state=1)"
      ],
      "execution_count": 0,
      "outputs": []
    },
    {
      "cell_type": "code",
      "metadata": {
        "colab_type": "code",
        "outputId": "03dd1fc3-b00d-4c7a-caa7-5469b131be4b",
        "id": "Qi99YiZ_Sto6",
        "colab": {
          "base_uri": "https://localhost:8080/",
          "height": 527
        }
      },
      "source": [
        "nnet.fit(x_train, y_train, \n",
        "         x_test, y_test, \n",
        "         lr=0.001, \n",
        "         n_epochs=3000, \n",
        "         batch_size=10)"
      ],
      "execution_count": 14,
      "outputs": [
        {
          "output_type": "stream",
          "text": [
            "Epoch 0, Loss Train/Test: 1.0901 / 1.0865, Accuracy score Train/Test: 0.4571 / 0.4567\n",
            "Epoch 100, Loss Train/Test: 0.2517 / 0.2312, Accuracy score Train/Test: 0.9429 / 0.9567\n",
            "Epoch 200, Loss Train/Test: 0.1800 / 0.1627, Accuracy score Train/Test: 0.9571 / 0.9633\n",
            "Epoch 300, Loss Train/Test: 0.1546 / 0.1399, Accuracy score Train/Test: 0.9586 / 0.9633\n",
            "Epoch 400, Loss Train/Test: 0.1416 / 0.1289, Accuracy score Train/Test: 0.9614 / 0.9600\n",
            "Epoch 500, Loss Train/Test: 0.1338 / 0.1223, Accuracy score Train/Test: 0.9629 / 0.9600\n",
            "Epoch 600, Loss Train/Test: 0.1284 / 0.1177, Accuracy score Train/Test: 0.9643 / 0.9600\n",
            "Epoch 700, Loss Train/Test: 0.1243 / 0.1141, Accuracy score Train/Test: 0.9671 / 0.9600\n",
            "Epoch 800, Loss Train/Test: 0.1211 / 0.1111, Accuracy score Train/Test: 0.9671 / 0.9600\n",
            "Epoch 900, Loss Train/Test: 0.1183 / 0.1085, Accuracy score Train/Test: 0.9671 / 0.9600\n",
            "Epoch 1000, Loss Train/Test: 0.1159 / 0.1062, Accuracy score Train/Test: 0.9657 / 0.9600\n",
            "Epoch 1100, Loss Train/Test: 0.1137 / 0.1042, Accuracy score Train/Test: 0.9657 / 0.9600\n",
            "Epoch 1200, Loss Train/Test: 0.1117 / 0.1024, Accuracy score Train/Test: 0.9657 / 0.9600\n",
            "Epoch 1300, Loss Train/Test: 0.1099 / 0.1008, Accuracy score Train/Test: 0.9657 / 0.9633\n",
            "Epoch 1400, Loss Train/Test: 0.1082 / 0.0993, Accuracy score Train/Test: 0.9657 / 0.9633\n",
            "Epoch 1500, Loss Train/Test: 0.1066 / 0.0979, Accuracy score Train/Test: 0.9686 / 0.9633\n",
            "Epoch 1600, Loss Train/Test: 0.1051 / 0.0967, Accuracy score Train/Test: 0.9714 / 0.9700\n",
            "Epoch 1700, Loss Train/Test: 0.1037 / 0.0956, Accuracy score Train/Test: 0.9729 / 0.9767\n",
            "Epoch 1800, Loss Train/Test: 0.1024 / 0.0946, Accuracy score Train/Test: 0.9729 / 0.9767\n",
            "Epoch 1900, Loss Train/Test: 0.1012 / 0.0936, Accuracy score Train/Test: 0.9729 / 0.9767\n",
            "Epoch 2000, Loss Train/Test: 0.1000 / 0.0928, Accuracy score Train/Test: 0.9729 / 0.9767\n",
            "Epoch 2100, Loss Train/Test: 0.0990 / 0.0921, Accuracy score Train/Test: 0.9729 / 0.9767\n",
            "Epoch 2200, Loss Train/Test: 0.0979 / 0.0915, Accuracy score Train/Test: 0.9743 / 0.9767\n",
            "Epoch 2300, Loss Train/Test: 0.0969 / 0.0909, Accuracy score Train/Test: 0.9757 / 0.9767\n",
            "Epoch 2400, Loss Train/Test: 0.0960 / 0.0904, Accuracy score Train/Test: 0.9757 / 0.9767\n",
            "Epoch 2500, Loss Train/Test: 0.0951 / 0.0899, Accuracy score Train/Test: 0.9757 / 0.9767\n",
            "Epoch 2600, Loss Train/Test: 0.0943 / 0.0895, Accuracy score Train/Test: 0.9757 / 0.9767\n",
            "Epoch 2700, Loss Train/Test: 0.0934 / 0.0892, Accuracy score Train/Test: 0.9757 / 0.9767\n",
            "Epoch 2800, Loss Train/Test: 0.0926 / 0.0889, Accuracy score Train/Test: 0.9757 / 0.9767\n",
            "Epoch 2900, Loss Train/Test: 0.0919 / 0.0886, Accuracy score Train/Test: 0.9757 / 0.9767\n"
          ],
          "name": "stdout"
        }
      ]
    },
    {
      "cell_type": "code",
      "metadata": {
        "colab_type": "code",
        "outputId": "2de21c1b-40d7-4fd1-a615-f1190dd381e5",
        "id": "U5_t56LBSto-",
        "colab": {
          "base_uri": "https://localhost:8080/",
          "height": 332
        }
      },
      "source": [
        "plt.figure(figsize=(20,5))\n",
        "plt.title('Accuracy')\n",
        "plt.plot(nnet.train_accuracy_list, label='train')\n",
        "plt.plot(nnet.test_accuracy_list, label='test')\n",
        "plt.legend();"
      ],
      "execution_count": 15,
      "outputs": [
        {
          "output_type": "display_data",
          "data": {
            "image/png": "[encoded data removed]",
            "text/plain": [
              "<Figure size 1440x360 with 1 Axes>"
            ]
          },
          "metadata": {
            "tags": [],
            "needs_background": "light"
          }
        }
      ]
    },
    {
      "cell_type": "code",
      "metadata": {
        "colab_type": "code",
        "outputId": "1c9d9ada-5c77-434e-b63f-3bf5fd8e3817",
        "id": "4f-vRKOTStpC",
        "colab": {
          "base_uri": "https://localhost:8080/",
          "height": 336
        }
      },
      "source": [
        "plt.figure(figsize=(10,5))\n",
        "plt.title('Cross entropy loss')\n",
        "plt.plot(nnet.loss_train_list, label='train')\n",
        "plt.plot(nnet.loss_test_list, label='test')\n",
        "plt.legend();"
      ],
      "execution_count": 16,
      "outputs": [
        {
          "output_type": "display_data",
          "data": {
            "image/png": "[encoded data removed]",
            "text/plain": [
              "<Figure size 720x360 with 1 Axes>"
            ]
          },
          "metadata": {
            "tags": [],
            "needs_background": "light"
          }
        }
      ]
    },
    {
      "cell_type": "markdown",
      "metadata": {
        "id": "e1YivQoBh7A-",
        "colab_type": "text"
      },
      "source": [
        "# TMDB"
      ]
    },
    {
      "cell_type": "code",
      "metadata": {
        "id": "NKHu5Q576DJe",
        "colab_type": "code",
        "colab": {
          "base_uri": "https://localhost:8080/",
          "height": 221
        },
        "outputId": "bcd56a4c-72ab-4e99-dc8c-117241d052a2"
      },
      "source": [
        "!pip install cpi"
      ],
      "execution_count": 17,
      "outputs": [
        {
          "output_type": "stream",
          "text": [
            "Requirement already satisfied: cpi in /usr/local/lib/python3.6/dist-packages (0.1.16)\n",
            "Requirement already satisfied: pandas>=0.23.1 in /usr/local/lib/python3.6/dist-packages (from cpi) (1.0.3)\n",
            "Requirement already satisfied: click>=6.7 in /usr/local/lib/python3.6/dist-packages (from cpi) (7.1.1)\n",
            "Requirement already satisfied: requests>=2.20.0 in /usr/local/lib/python3.6/dist-packages (from cpi) (2.21.0)\n",
            "Requirement already satisfied: python-dateutil>=2.7.3 in /usr/local/lib/python3.6/dist-packages (from cpi) (2.8.1)\n",
            "Requirement already satisfied: numpy>=1.13.3 in /usr/local/lib/python3.6/dist-packages (from pandas>=0.23.1->cpi) (1.18.3)\n",
            "Requirement already satisfied: pytz>=2017.2 in /usr/local/lib/python3.6/dist-packages (from pandas>=0.23.1->cpi) (2018.9)\n",
            "Requirement already satisfied: certifi>=2017.4.17 in /usr/local/lib/python3.6/dist-packages (from requests>=2.20.0->cpi) (2020.4.5.1)\n",
            "Requirement already satisfied: idna<2.9,>=2.5 in /usr/local/lib/python3.6/dist-packages (from requests>=2.20.0->cpi) (2.8)\n",
            "Requirement already satisfied: chardet<3.1.0,>=3.0.2 in /usr/local/lib/python3.6/dist-packages (from requests>=2.20.0->cpi) (3.0.4)\n",
            "Requirement already satisfied: urllib3<1.25,>=1.21.1 in /usr/local/lib/python3.6/dist-packages (from requests>=2.20.0->cpi) (1.24.3)\n",
            "Requirement already satisfied: six>=1.5 in /usr/local/lib/python3.6/dist-packages (from python-dateutil>=2.7.3->cpi) (1.12.0)\n"
          ],
          "name": "stdout"
        }
      ]
    },
    {
      "cell_type": "code",
      "metadata": {
        "id": "2GmoJSt16JJ6",
        "colab_type": "code",
        "colab": {}
      },
      "source": [
        "import warnings\n",
        "warnings.simplefilter('ignore')\n",
        "\n",
        "import json\n",
        "import cpi\n",
        "\n",
        "from sklearn.metrics import classification_report\n",
        "from sklearn.preprocessing import StandardScaler, MinMaxScaler"
      ],
      "execution_count": 0,
      "outputs": []
    },
    {
      "cell_type": "code",
      "metadata": {
        "id": "u7ZUPfAujgd7",
        "colab_type": "code",
        "colab": {}
      },
      "source": [
        "data = pd.read_csv('drive/My Drive/tmdb_5000_movies.csv')"
      ],
      "execution_count": 0,
      "outputs": []
    },
    {
      "cell_type": "code",
      "metadata": {
        "id": "6sFBilZ88Nt6",
        "colab_type": "code",
        "outputId": "064b2f65-2840-4d48-fbaf-96c7a5c3ae18",
        "colab": {
          "base_uri": "https://localhost:8080/",
          "height": 34
        }
      },
      "source": [
        "#delete unstructured data\n",
        "data = data.drop(['tagline', 'overview', 'homepage', 'original_title', 'id', 'status'], axis=1)\n",
        "print(data.shape)\n",
        "data = data[(data['runtime']!=0.0) &\n",
        "            (data['revenue']!=0.0)]"
      ],
      "execution_count": 20,
      "outputs": [
        {
          "output_type": "stream",
          "text": [
            "(4803, 14)\n"
          ],
          "name": "stdout"
        }
      ]
    },
    {
      "cell_type": "code",
      "metadata": {
        "id": "IcL7ZPLkTj_Z",
        "colab_type": "code",
        "outputId": "a5e6df22-cf73-400b-8e5a-736e9286f2f0",
        "colab": {
          "base_uri": "https://localhost:8080/",
          "height": 374
        }
      },
      "source": [
        "data.info()"
      ],
      "execution_count": 21,
      "outputs": [
        {
          "output_type": "stream",
          "text": [
            "<class 'pandas.core.frame.DataFrame'>\n",
            "Int64Index: 3375 entries, 0 to 4798\n",
            "Data columns (total 14 columns):\n",
            " #   Column                Non-Null Count  Dtype  \n",
            "---  ------                --------------  -----  \n",
            " 0   budget                3375 non-null   int64  \n",
            " 1   genres                3375 non-null   object \n",
            " 2   keywords              3375 non-null   object \n",
            " 3   original_language     3375 non-null   object \n",
            " 4   popularity            3375 non-null   float64\n",
            " 5   production_companies  3375 non-null   object \n",
            " 6   production_countries  3375 non-null   object \n",
            " 7   release_date          3375 non-null   object \n",
            " 8   revenue               3375 non-null   int64  \n",
            " 9   runtime               3375 non-null   float64\n",
            " 10  spoken_languages      3375 non-null   object \n",
            " 11  title                 3375 non-null   object \n",
            " 12  vote_average          3375 non-null   float64\n",
            " 13  vote_count            3375 non-null   int64  \n",
            "dtypes: float64(3), int64(3), object(8)\n",
            "memory usage: 395.5+ KB\n"
          ],
          "name": "stdout"
        }
      ]
    },
    {
      "cell_type": "markdown",
      "metadata": {
        "id": "uZZMEnsI7Zz2",
        "colab_type": "text"
      },
      "source": [
        "## Data preparation"
      ]
    },
    {
      "cell_type": "code",
      "metadata": {
        "id": "kl9Oa6Q4E3Jl",
        "colab_type": "code",
        "colab": {}
      },
      "source": [
        "data['release_date'] = pd.to_datetime(data['release_date'])\n",
        "data.sort_values('release_date', inplace=True)\n",
        "data['release_month'] = data['release_date'].dt.month\n",
        "data['release_dayofweek'] = data['release_date'].dt.dayofweek\n",
        "data['release_year'] = data['release_date'].dt.year\n",
        "\n",
        "data['decade'] = data['release_year'].apply(lambda x: str(x)[:-1])\n",
        "\n",
        "def fix_inflation(row):\n",
        "    row['revenue_fix'] = cpi.inflate(row['revenue'], row['release_date'])\n",
        "    row['budget_fix'] = cpi.inflate(row['budget'], row['release_date'])\n",
        "\n",
        "    return row\n",
        "\n",
        "data = data.apply(fix_inflation,axis=1)\n",
        "\n",
        "def get_dict_value(row, feature, target_key='name'):\n",
        "    list_ = json.loads(row[feature])\n",
        "    row[feature+'_1'] = list_[0][target_key] if list_ else None\n",
        "\n",
        "    return row\n",
        "    \n",
        "data = data.apply(get_dict_value, args=('genres',), axis=1)\n",
        "data = data.apply(get_dict_value, args=('production_companies',), axis=1)\n",
        "data = data.apply(get_dict_value, args=('production_countries',), axis=1)\n",
        "\n",
        "clearned_data = data.copy()\n",
        "clearned_data.drop(['genres', 'keywords', 'production_companies', \n",
        "                    'production_countries', 'spoken_languages', \n",
        "                    'release_date', 'popularity', 'vote_count', \n",
        "                    'revenue', 'budget', 'title', 'vote_average'], axis=1, inplace=True\n",
        "                   )\n",
        "\n",
        "clearned_data['genres_1'].fillna('na', inplace=True)\n",
        "clearned_data['production_companies_1'].fillna('na', inplace=True)\n",
        "clearned_data['production_countries_1'].fillna('na', inplace=True)\n",
        "\n",
        "for feature, threshold in zip (['genres_1', 'production_companies_1', 'production_countries_1', 'original_language'], [20, 6, 2000, 3000]):\n",
        "    count_data = clearned_data[feature].value_counts()\n",
        "    values_for_replacing = count_data[count_data < threshold].index\n",
        "    clearned_data[feature] = clearned_data[feature].apply(lambda x: 'Others' if x in values_for_replacing else x)\n",
        "\n",
        "numerical_col = ['budget_fix',\t'runtime']\n",
        "for feature in numerical_col:\n",
        "    clearned_data[feature+'_log'] = np.log(clearned_data[feature]+1)"
      ],
      "execution_count": 0,
      "outputs": []
    },
    {
      "cell_type": "markdown",
      "metadata": {
        "id": "HwMjtWna8R5W",
        "colab_type": "text"
      },
      "source": [
        "## New target variable"
      ]
    },
    {
      "cell_type": "code",
      "metadata": {
        "id": "SpLULqZY7WPW",
        "colab_type": "code",
        "outputId": "fe9f0101-d004-4ac8-c7a8-3f8cd8be2444",
        "colab": {
          "base_uri": "https://localhost:8080/",
          "height": 102
        }
      },
      "source": [
        "qu1 = clearned_data['revenue_fix'].quantile(0.33)\n",
        "qu2 = clearned_data['revenue_fix'].quantile(0.66)\n",
        "print(qu1, qu2)\n",
        "def get_classes(row):\n",
        "    class_ = None\n",
        "    if row['revenue_fix'] < qu1:\n",
        "        row['revenue_class'] = 0\n",
        "    elif qu1 <= row['revenue_fix'] < qu2:\n",
        "        row['revenue_class'] = 1\n",
        "    elif row['revenue_fix'] >= qu2:\n",
        "        row['revenue_class'] = 2\n",
        "    return row\n",
        "\n",
        "clearned_data = clearned_data.apply(get_classes, axis=1)\n",
        "clearned_data['revenue_class'].value_counts(normalize=True)"
      ],
      "execution_count": 23,
      "outputs": [
        {
          "output_type": "stream",
          "text": [
            "39146044.70122607 141064203.59021637\n"
          ],
          "name": "stdout"
        },
        {
          "output_type": "execute_result",
          "data": {
            "text/plain": [
              "2    0.340148\n",
              "0    0.330074\n",
              "1    0.329778\n",
              "Name: revenue_class, dtype: float64"
            ]
          },
          "metadata": {
            "tags": []
          },
          "execution_count": 23
        }
      ]
    },
    {
      "cell_type": "markdown",
      "metadata": {
        "id": "UHZn0uMv8WUh",
        "colab_type": "text"
      },
      "source": [
        "## Neural network"
      ]
    },
    {
      "cell_type": "code",
      "metadata": {
        "id": "-47hM6QtK13v",
        "colab_type": "code",
        "colab": {}
      },
      "source": [
        "X_cat_oh = pd.get_dummies(clearned_data[['genres_1', \n",
        "                                        'production_companies_1', \n",
        "                                        'production_countries_1', \n",
        "                                         'release_dayofweek',\n",
        "                                         'release_month',\n",
        "                                         'decade',\n",
        "                                         ]])\n",
        "X_numeric = clearned_data[['budget_fix_log', 'runtime_log']]\n",
        "\n",
        "y = clearned_data['revenue_class']\n",
        "n_classes = np.unique(y).shape[0]\n",
        "y_cat = pd.get_dummies(y).values"
      ],
      "execution_count": 0,
      "outputs": []
    },
    {
      "cell_type": "markdown",
      "metadata": {
        "id": "FyPon_0FWqFZ",
        "colab_type": "text"
      },
      "source": [
        "shuffle=False because I want to train models to predict revenue_class for modern movies"
      ]
    },
    {
      "cell_type": "code",
      "metadata": {
        "id": "OoogZPFjPQPK",
        "colab_type": "code",
        "outputId": "f9db5948-f77a-46af-f33b-a3a6326b430a",
        "colab": {
          "base_uri": "https://localhost:8080/",
          "height": 68
        }
      },
      "source": [
        "r_state = 42\n",
        "X_cat_oh_train, X_cat_oh_test, y_train, y_test = train_test_split(X_cat_oh, y_cat, \n",
        "                                                                  test_size=0.2, \n",
        "                                                                  shuffle=False, \n",
        "                                                                  #stratify=y,\n",
        "                                                                  random_state=r_state,\n",
        "                                                                  )\n",
        "\n",
        "X_numeric_train, X_numeric_test = train_test_split(X_numeric,\n",
        "                                                    test_size=0.2, \n",
        "                                                    shuffle=False,\n",
        "                                                    #stratify=y,\n",
        "                                                    random_state=r_state,\n",
        "                                                   )\n",
        "\n",
        "scaler = StandardScaler()\n",
        "X_numeric_train_scaled = scaler.fit_transform(X_numeric_train)\n",
        "X_numeric_test_scaled = scaler.transform(X_numeric_test)\n",
        "\n",
        "X_train = np.hstack([X_numeric_train_scaled, X_cat_oh_train, ])\n",
        "X_test = np.hstack([X_numeric_test_scaled, X_cat_oh_test, ])\n",
        "\n",
        "print('\\nTrain data', X_train.shape, '\\nTest data', X_test.shape)"
      ],
      "execution_count": 29,
      "outputs": [
        {
          "output_type": "stream",
          "text": [
            "\n",
            "Train data (2700, 108) \n",
            "Test data (675, 108)\n"
          ],
          "name": "stdout"
        }
      ]
    },
    {
      "cell_type": "markdown",
      "metadata": {
        "id": "w7qOADni9Pu5",
        "colab_type": "text"
      },
      "source": [
        "It's time to take advantage of my perfect neural network"
      ]
    },
    {
      "cell_type": "markdown",
      "metadata": {
        "id": "-mfPwY6ZfdW6",
        "colab_type": "text"
      },
      "source": [
        "### Without dropout"
      ]
    },
    {
      "cell_type": "code",
      "metadata": {
        "colab_type": "code",
        "id": "3xPwqSURfttD",
        "colab": {}
      },
      "source": [
        "nnet = NeuralNetworkClassifier([Layer(60, input_shape=X_train.shape[1]),\n",
        "                                Layer(20),\n",
        "                                Layer(n_classes, f_activation='softmax')],\n",
        "                               random_state=1)"
      ],
      "execution_count": 0,
      "outputs": []
    },
    {
      "cell_type": "code",
      "metadata": {
        "colab_type": "code",
        "outputId": "52c74655-138b-44a1-9c54-2fc4e8e77bd4",
        "id": "a3LIZ_kVfttL",
        "colab": {
          "base_uri": "https://localhost:8080/",
          "height": 306
        }
      },
      "source": [
        "%%time\n",
        "nnet.fit(X_train, y_train, \n",
        "         X_test, y_test, \n",
        "         lr=0.01, \n",
        "         n_epochs=1500, \n",
        "         batch_size=10)"
      ],
      "execution_count": 31,
      "outputs": [
        {
          "output_type": "stream",
          "text": [
            "Epoch 0, Loss Train/Test: 1.1397 / 1.1333, Accuracy score Train/Test: 0.3767 / 0.3852\n",
            "Epoch 100, Loss Train/Test: 0.8942 / 0.8066, Accuracy score Train/Test: 0.5681 / 0.6222\n",
            "Epoch 200, Loss Train/Test: 0.8503 / 0.7941, Accuracy score Train/Test: 0.6037 / 0.6296\n",
            "Epoch 300, Loss Train/Test: 0.8102 / 0.7909, Accuracy score Train/Test: 0.6352 / 0.6311\n",
            "Epoch 400, Loss Train/Test: 0.7723 / 0.7961, Accuracy score Train/Test: 0.6504 / 0.6400\n",
            "Epoch 500, Loss Train/Test: 0.7422 / 0.8070, Accuracy score Train/Test: 0.6600 / 0.6281\n",
            "Epoch 600, Loss Train/Test: 0.7158 / 0.8227, Accuracy score Train/Test: 0.6693 / 0.6178\n",
            "Epoch 700, Loss Train/Test: 0.6894 / 0.8430, Accuracy score Train/Test: 0.6856 / 0.6074\n",
            "Epoch 800, Loss Train/Test: 0.6627 / 0.8690, Accuracy score Train/Test: 0.7022 / 0.6015\n",
            "Epoch 900, Loss Train/Test: 0.6358 / 0.9013, Accuracy score Train/Test: 0.7185 / 0.6030\n",
            "Epoch 1000, Loss Train/Test: 0.6097 / 0.9376, Accuracy score Train/Test: 0.7359 / 0.5970\n",
            "Epoch 1100, Loss Train/Test: 0.5857 / 0.9782, Accuracy score Train/Test: 0.7493 / 0.6015\n",
            "Epoch 1200, Loss Train/Test: 0.5635 / 1.0230, Accuracy score Train/Test: 0.7641 / 0.6015\n",
            "Epoch 1300, Loss Train/Test: 0.5435 / 1.0724, Accuracy score Train/Test: 0.7737 / 0.5956\n",
            "Epoch 1400, Loss Train/Test: 0.5249 / 1.1273, Accuracy score Train/Test: 0.7867 / 0.5941\n",
            "CPU times: user 2min 21s, sys: 1min 34s, total: 3min 55s\n",
            "Wall time: 1min 59s\n"
          ],
          "name": "stdout"
        }
      ]
    },
    {
      "cell_type": "code",
      "metadata": {
        "colab_type": "code",
        "outputId": "6fc5a093-6ec2-4b07-bec0-80cc05a2ff18",
        "id": "cUu1Vn7ifttP",
        "colab": {
          "base_uri": "https://localhost:8080/",
          "height": 332
        }
      },
      "source": [
        "plt.figure(figsize=(20,5))\n",
        "plt.title('Max test accuracy: %.4f epoch: %s' % (np.max((nnet.test_accuracy_list)), np.argmax(nnet.test_accuracy_list)))\n",
        "plt.plot(nnet.train_accuracy_list, label='train')\n",
        "plt.plot(nnet.test_accuracy_list, label='test')\n",
        "plt.legend();"
      ],
      "execution_count": 32,
      "outputs": [
        {
          "output_type": "display_data",
          "data": {
            "image/png": "[encoded data removed]",
            "text/plain": [
              "<Figure size 1440x360 with 1 Axes>"
            ]
          },
          "metadata": {
            "tags": [],
            "needs_background": "light"
          }
        }
      ]
    },
    {
      "cell_type": "code",
      "metadata": {
        "colab_type": "code",
        "outputId": "90465a80-9fb1-4eb3-8914-05d9711b504a",
        "id": "aMmXNa1OfttT",
        "colab": {
          "base_uri": "https://localhost:8080/",
          "height": 336
        }
      },
      "source": [
        "\n",
        "plt.figure(figsize=(10,5))\n",
        "plt.title('Min test cross entropy loss : %.4f epoch: %s' % (np.min((nnet.loss_test_list)), np.argmin(nnet.loss_test_list)))\n",
        "plt.plot(nnet.loss_train_list, label='train')\n",
        "plt.plot(nnet.loss_test_list, label='test')\n",
        "plt.legend();"
      ],
      "execution_count": 33,
      "outputs": [
        {
          "output_type": "display_data",
          "data": {
            "image/png": "[encoded data removed]",
            "text/plain": [
              "<Figure size 720x360 with 1 Axes>"
            ]
          },
          "metadata": {
            "tags": [],
            "needs_background": "light"
          }
        }
      ]
    },
    {
      "cell_type": "markdown",
      "metadata": {
        "id": "56Lz5HRXfvVd",
        "colab_type": "text"
      },
      "source": [
        "### Dropout"
      ]
    },
    {
      "cell_type": "code",
      "metadata": {
        "colab_type": "code",
        "id": "lXq7j__Q-5wj",
        "colab": {}
      },
      "source": [
        "nnet = NeuralNetworkClassifier([Layer(60, input_shape=X_train.shape[1]),\n",
        "                                Layer(20),\n",
        "                                Layer(n_classes, f_activation='softmax')],\n",
        "                               random_state=1)"
      ],
      "execution_count": 0,
      "outputs": []
    },
    {
      "cell_type": "code",
      "metadata": {
        "colab_type": "code",
        "outputId": "91d8c4e1-f368-465b-a0ff-61cfba832d1d",
        "id": "rtdrgJif-5wq",
        "colab": {
          "base_uri": "https://localhost:8080/",
          "height": 476
        }
      },
      "source": [
        "%%time\n",
        "nnet.fit(X_train, y_train, \n",
        "         X_test, y_test, \n",
        "         lr=0.01, \n",
        "         n_epochs=2500, \n",
        "         batch_size=10,\n",
        "         dropout=0.1)"
      ],
      "execution_count": 35,
      "outputs": [
        {
          "output_type": "stream",
          "text": [
            "Epoch 0, Loss Train/Test: 1.1850 / 1.1704, Accuracy score Train/Test: 0.3419 / 0.3481\n",
            "Epoch 100, Loss Train/Test: 0.9221 / 0.8336, Accuracy score Train/Test: 0.5581 / 0.6089\n",
            "Epoch 200, Loss Train/Test: 0.8916 / 0.7944, Accuracy score Train/Test: 0.5730 / 0.6193\n",
            "Epoch 300, Loss Train/Test: 0.8814 / 0.7852, Accuracy score Train/Test: 0.5722 / 0.6252\n",
            "Epoch 400, Loss Train/Test: 0.8609 / 0.7783, Accuracy score Train/Test: 0.5941 / 0.6296\n",
            "Epoch 500, Loss Train/Test: 0.8517 / 0.7724, Accuracy score Train/Test: 0.5956 / 0.6385\n",
            "Epoch 600, Loss Train/Test: 0.8395 / 0.7736, Accuracy score Train/Test: 0.6041 / 0.6370\n",
            "Epoch 700, Loss Train/Test: 0.8379 / 0.7770, Accuracy score Train/Test: 0.6019 / 0.6504\n",
            "Epoch 800, Loss Train/Test: 0.8269 / 0.7744, Accuracy score Train/Test: 0.6122 / 0.6415\n",
            "Epoch 900, Loss Train/Test: 0.8247 / 0.7821, Accuracy score Train/Test: 0.6133 / 0.6459\n",
            "Epoch 1000, Loss Train/Test: 0.8166 / 0.7777, Accuracy score Train/Test: 0.6226 / 0.6370\n",
            "Epoch 1100, Loss Train/Test: 0.8160 / 0.7859, Accuracy score Train/Test: 0.6193 / 0.6341\n",
            "Epoch 1200, Loss Train/Test: 0.8065 / 0.7820, Accuracy score Train/Test: 0.6267 / 0.6326\n",
            "Epoch 1300, Loss Train/Test: 0.8049 / 0.7884, Accuracy score Train/Test: 0.6263 / 0.6341\n",
            "Epoch 1400, Loss Train/Test: 0.7993 / 0.7869, Accuracy score Train/Test: 0.6267 / 0.6459\n",
            "Epoch 1500, Loss Train/Test: 0.7954 / 0.7888, Accuracy score Train/Test: 0.6267 / 0.6444\n",
            "Epoch 1600, Loss Train/Test: 0.7916 / 0.7895, Accuracy score Train/Test: 0.6330 / 0.6444\n",
            "Epoch 1700, Loss Train/Test: 0.7863 / 0.7900, Accuracy score Train/Test: 0.6352 / 0.6415\n",
            "Epoch 1800, Loss Train/Test: 0.7816 / 0.7932, Accuracy score Train/Test: 0.6381 / 0.6430\n",
            "Epoch 1900, Loss Train/Test: 0.7787 / 0.7941, Accuracy score Train/Test: 0.6389 / 0.6459\n",
            "Epoch 2000, Loss Train/Test: 0.7743 / 0.7923, Accuracy score Train/Test: 0.6415 / 0.6415\n",
            "Epoch 2100, Loss Train/Test: 0.7700 / 0.7905, Accuracy score Train/Test: 0.6430 / 0.6459\n",
            "Epoch 2200, Loss Train/Test: 0.7706 / 0.7953, Accuracy score Train/Test: 0.6419 / 0.6459\n",
            "Epoch 2300, Loss Train/Test: 0.7654 / 0.7956, Accuracy score Train/Test: 0.6459 / 0.6474\n",
            "Epoch 2400, Loss Train/Test: 0.7660 / 0.8022, Accuracy score Train/Test: 0.6470 / 0.6444\n",
            "CPU times: user 6min 3s, sys: 4min 5s, total: 10min 9s\n",
            "Wall time: 5min 9s\n"
          ],
          "name": "stdout"
        }
      ]
    },
    {
      "cell_type": "code",
      "metadata": {
        "colab_type": "code",
        "outputId": "b16dde60-b06c-4278-81fd-6ff802d2bca8",
        "id": "MQY3mADT-5wv",
        "colab": {
          "base_uri": "https://localhost:8080/",
          "height": 330
        }
      },
      "source": [
        "plt.figure(figsize=(20,5))\n",
        "plt.title('Max test accuracy: %.4f epoch: %s' % (np.max((nnet.test_accuracy_list)), np.argmax(nnet.test_accuracy_list)))\n",
        "plt.plot(nnet.train_accuracy_list, label='train')\n",
        "plt.plot(nnet.test_accuracy_list, label='test')\n",
        "plt.legend();"
      ],
      "execution_count": 36,
      "outputs": [
        {
          "output_type": "display_data",
          "data": {
            "image/png": "[encoded data removed]",
            "text/plain": [
              "<Figure size 1440x360 with 1 Axes>"
            ]
          },
          "metadata": {
            "tags": [],
            "needs_background": "light"
          }
        }
      ]
    },
    {
      "cell_type": "code",
      "metadata": {
        "colab_type": "code",
        "outputId": "5c3e48f0-d2a8-4fdf-c64e-0ba4f43f5b91",
        "id": "kvV_9B2S-5wz",
        "colab": {
          "base_uri": "https://localhost:8080/",
          "height": 336
        }
      },
      "source": [
        "plt.figure(figsize=(10,5))\n",
        "plt.title('Min test cross entropy loss : %.4f epoch: %s' % (np.min((nnet.loss_test_list)), np.argmin(nnet.loss_test_list)))\n",
        "plt.plot(nnet.loss_train_list, label='train')\n",
        "plt.plot(nnet.loss_test_list, label='test')\n",
        "plt.legend();"
      ],
      "execution_count": 37,
      "outputs": [
        {
          "output_type": "display_data",
          "data": {
            "image/png": "[encoded data removed]",
            "text/plain": [
              "<Figure size 720x360 with 1 Axes>"
            ]
          },
          "metadata": {
            "tags": [],
            "needs_background": "light"
          }
        }
      ]
    },
    {
      "cell_type": "code",
      "metadata": {
        "id": "xRzo0mD21OHu",
        "colab_type": "code",
        "colab": {
          "base_uri": "https://localhost:8080/",
          "height": 187
        },
        "outputId": "d150e403-5b2e-40b7-da0a-b053b1a884f9"
      },
      "source": [
        "pred = nnet.predict_classes(X_test)\n",
        "print(classification_report(nnet.get_classes_by_probas(y_test), pred))"
      ],
      "execution_count": 39,
      "outputs": [
        {
          "output_type": "stream",
          "text": [
            "              precision    recall  f1-score   support\n",
            "\n",
            "           0       0.62      0.82      0.71       220\n",
            "           1       0.52      0.35      0.42       224\n",
            "           2       0.76      0.77      0.76       231\n",
            "\n",
            "    accuracy                           0.65       675\n",
            "   macro avg       0.63      0.65      0.63       675\n",
            "weighted avg       0.63      0.65      0.63       675\n",
            "\n"
          ],
          "name": "stdout"
        }
      ]
    },
    {
      "cell_type": "markdown",
      "metadata": {
        "id": "GSZYk8lVgOAl",
        "colab_type": "text"
      },
      "source": [
        "# References which helped me\n",
        "\n",
        "*  [Softmax, softmax derivative](http://www.adeveloperdiary.com/data-science/deep-learning/neural-network-with-softmax-in-python/)\n",
        "*  [Structure of class NeuralNetwork](https://keras.io/getting-started/sequential-model-guide/)\n",
        "*  [Backprop](https://habr.com/ru/post/313216/)\n",
        "*  [Sigmoid derivative](https://github.com/SkalskiP/ILearnDeepLearning.py/blob/master/01_mysteries_of_neural_networks/03_numpy_neural_net/Numpy%20deep%20neural%20network.ipynb)\n",
        "*  [Dropout](https://wiseodd.github.io/techblog/2016/06/25/dropout/)\n"
      ]
    },
    {
      "cell_type": "code",
      "metadata": {
        "id": "pcQxA7rU0QwH",
        "colab_type": "code",
        "colab": {}
      },
      "source": [
        ""
      ],
      "execution_count": 0,
      "outputs": []
    }
  ]
}