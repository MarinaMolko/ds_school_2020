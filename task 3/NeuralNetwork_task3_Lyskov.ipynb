{
 "cells": [
  {
   "cell_type": "markdown",
   "metadata": {},
   "source": [
    "# Simply neural network"
   ]
  },
  {
   "cell_type": "code",
   "execution_count": 1,
   "metadata": {},
   "outputs": [],
   "source": [
    "import numpy as np"
   ]
  },
  {
   "cell_type": "code",
   "execution_count": 2,
   "metadata": {},
   "outputs": [],
   "source": [
    "def sigmoid(x,deriv=False):\n",
    "    return 1/(1+np.exp(-x))"
   ]
  },
  {
   "cell_type": "code",
   "execution_count": 3,
   "metadata": {},
   "outputs": [],
   "source": [
    "X = np.array([[0,0],\n",
    "            [0,1],\n",
    "            [1,0],\n",
    "            [1,1]])\n",
    "                \n",
    "y = np.array([[0],\n",
    "            [1],\n",
    "            [1],\n",
    "            [0]])\n",
    "\n",
    "np.random.seed(1)"
   ]
  },
  {
   "cell_type": "code",
   "execution_count": 4,
   "metadata": {},
   "outputs": [],
   "source": [
    "# random initialization our weights with mean 0\n",
    "syn0 = 2*np.random.random((2,3)) - 1\n",
    "syn1 = 2*np.random.random((3,1)) - 1"
   ]
  },
  {
   "cell_type": "code",
   "execution_count": 6,
   "metadata": {},
   "outputs": [
    {
     "name": "stdout",
     "output_type": "stream",
     "text": [
      "Error: 0.4992921119953979\n",
      "Error: 0.3447436164112212\n",
      "Error: 0.34310682298692813\n",
      "Error: 0.3425608792450053\n",
      "Error: 0.34235367027112684\n",
      "Error: 0.3422891865175267\n"
     ]
    }
   ],
   "source": [
    "for j in range(60000):\n",
    "\n",
    "    # Forward through layers l0, l1, l2\n",
    "    l0 = X\n",
    "    l1 = sigmoid(np.dot(l0,syn0))\n",
    "    l2 = sigmoid(np.dot(l1,syn1))\n",
    "\n",
    "    # value of missing the target value?\n",
    "    l2_error = y - l2\n",
    "    \n",
    "    if (j % 10000) == 0:\n",
    "        print (\"Error: \" + str(np.mean(np.abs(l2_error))))\n",
    "        \n",
    "    # direction of the target value\n",
    "    l2_delta = l2_error*sigmoid(l2,deriv=True)\n",
    "\n",
    "    # how much did each l1 value contribute to the l2 error (according to the weights)\n",
    "    l1_error = l2_delta.dot(syn1.T)\n",
    "    \n",
    "    # direction of the target l1\n",
    "    l1_delta = l1_error * sigmoid(l1,deriv=True)\n",
    "\n",
    "    syn1 += l1.T.dot(l2_delta)\n",
    "    syn0 += l0.T.dot(l1_delta)"
   ]
  },
  {
   "cell_type": "code",
   "execution_count": null,
   "metadata": {},
   "outputs": [],
   "source": []
  }
 ],
 "metadata": {
  "kernelspec": {
   "display_name": "Python 3",
   "language": "python",
   "name": "python3"
  },
  "language_info": {
   "codemirror_mode": {
    "name": "ipython",
    "version": 3
   },
   "file_extension": ".py",
   "mimetype": "text/x-python",
   "name": "python",
   "nbconvert_exporter": "python",
   "pygments_lexer": "ipython3",
   "version": "3.7.3"
  }
 },
 "nbformat": 4,
 "nbformat_minor": 2
}
