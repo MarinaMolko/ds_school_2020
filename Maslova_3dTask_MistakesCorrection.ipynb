{
  "nbformat": 4,
  "nbformat_minor": 0,
  "metadata": {
    "colab": {
      "name": "Maslova_3dTask_MistakesCorrection.ipynb",
      "provenance": [],
      "collapsed_sections": [],
      "authorship_tag": "ABX9TyOmHE2sOjhVD2lnuMh4CFXW",
      "include_colab_link": true
    },
    "kernelspec": {
      "name": "python3",
      "display_name": "Python 3"
    }
  },
  "cells": [
    {
      "cell_type": "markdown",
      "metadata": {
        "id": "view-in-github",
        "colab_type": "text"
      },
      "source": [
        "<a href=\"https://colab.research.google.com/github/maslovalyudmila/ds_school_2020/blob/master/Maslova_3dTask_MistakesCorrection.ipynb\" target=\"_parent\"><img src=\"https://colab.research.google.com/assets/colab-badge.svg\" alt=\"Open In Colab\"/></a>"
      ]
    },
    {
      "cell_type": "code",
      "metadata": {
        "id": "z922r-ihYGNh",
        "colab_type": "code",
        "colab": {}
      },
      "source": [
        "# import libraries\n",
        "\n",
        "import numpy as np\n",
        "import pandas as pd\n",
        "pd.options.mode.chained_assignment = None  # default='warn'"
      ],
      "execution_count": 0,
      "outputs": []
    },
    {
      "cell_type": "code",
      "metadata": {
        "id": "DdukgBuFYISB",
        "colab_type": "code",
        "colab": {}
      },
      "source": [
        "# import our data\n",
        "\n",
        "df = pd.read_csv('/content/houses_to_rent_v2.csv')"
      ],
      "execution_count": 0,
      "outputs": []
    },
    {
      "cell_type": "markdown",
      "metadata": {
        "id": "G_VAminSeCLs",
        "colab_type": "text"
      },
      "source": [
        "**Preprocessing the data**"
      ]
    },
    {
      "cell_type": "code",
      "metadata": {
        "id": "IMnoArReYSlV",
        "colab_type": "code",
        "colab": {}
      },
      "source": [
        "# create a binary column with target variable 'best demand'\n",
        "\n",
        "df['best demand'] = df['total (R$)']\n",
        "df_1 = df['best demand']\n",
        "df_1.loc[df_1 <= 3580] = 1\n",
        "df_1.loc[df_1 > 3580] = 0"
      ],
      "execution_count": 0,
      "outputs": []
    },
    {
      "cell_type": "code",
      "metadata": {
        "id": "Kb_wPkOQYVyY",
        "colab_type": "code",
        "colab": {}
      },
      "source": [
        "# make categorical features as quantitive\n",
        "\n",
        "from sklearn.preprocessing import LabelEncoder\n",
        "\n",
        "df['animal'] = df['animal'].factorize()[0]\n",
        "df['furniture'] = df['furniture'].factorize()[0]\n",
        "\n",
        "labelencoder = LabelEncoder()\n",
        "df.city = labelencoder.fit_transform(df.city)\n",
        "df.floor = labelencoder.fit_transform(df.floor)"
      ],
      "execution_count": 0,
      "outputs": []
    },
    {
      "cell_type": "code",
      "metadata": {
        "id": "n7E1v6vEYbe8",
        "colab_type": "code",
        "colab": {}
      },
      "source": [
        "# delete hierarchy\n",
        "\n",
        "from sklearn.preprocessing import OneHotEncoder\n",
        "from sklearn.compose import ColumnTransformer\n",
        "\n",
        "transformer = ColumnTransformer(transformers=[('city', OneHotEncoder(), [0,4])])\n",
        "transformer = ColumnTransformer(transformers=[('floor', OneHotEncoder(), [0,34])])"
      ],
      "execution_count": 0,
      "outputs": []
    },
    {
      "cell_type": "code",
      "metadata": {
        "id": "-qK3R8GPYedC",
        "colab_type": "code",
        "outputId": "351467cc-6796-4ff9-e3e0-a3e74a393655",
        "colab": {
          "base_uri": "https://localhost:8080/",
          "height": 221
        }
      },
      "source": [
        "# read first 5 rows of data\n",
        "\n",
        "df.head()"
      ],
      "execution_count": 93,
      "outputs": [
        {
          "output_type": "execute_result",
          "data": {
            "text/html": [
              "<div>\n",
              "<style scoped>\n",
              "    .dataframe tbody tr th:only-of-type {\n",
              "        vertical-align: middle;\n",
              "    }\n",
              "\n",
              "    .dataframe tbody tr th {\n",
              "        vertical-align: top;\n",
              "    }\n",
              "\n",
              "    .dataframe thead th {\n",
              "        text-align: right;\n",
              "    }\n",
              "</style>\n",
              "<table border=\"1\" class=\"dataframe\">\n",
              "  <thead>\n",
              "    <tr style=\"text-align: right;\">\n",
              "      <th></th>\n",
              "      <th>city</th>\n",
              "      <th>area</th>\n",
              "      <th>rooms</th>\n",
              "      <th>bathroom</th>\n",
              "      <th>parking spaces</th>\n",
              "      <th>floor</th>\n",
              "      <th>animal</th>\n",
              "      <th>furniture</th>\n",
              "      <th>hoa (R$)</th>\n",
              "      <th>rent amount (R$)</th>\n",
              "      <th>property tax (R$)</th>\n",
              "      <th>fire insurance (R$)</th>\n",
              "      <th>total (R$)</th>\n",
              "      <th>best demand</th>\n",
              "    </tr>\n",
              "  </thead>\n",
              "  <tbody>\n",
              "    <tr>\n",
              "      <th>0</th>\n",
              "      <td>4</td>\n",
              "      <td>70</td>\n",
              "      <td>2</td>\n",
              "      <td>1</td>\n",
              "      <td>1</td>\n",
              "      <td>32</td>\n",
              "      <td>0</td>\n",
              "      <td>0</td>\n",
              "      <td>2065</td>\n",
              "      <td>3300</td>\n",
              "      <td>211</td>\n",
              "      <td>42</td>\n",
              "      <td>5618</td>\n",
              "      <td>0</td>\n",
              "    </tr>\n",
              "    <tr>\n",
              "      <th>1</th>\n",
              "      <td>4</td>\n",
              "      <td>320</td>\n",
              "      <td>4</td>\n",
              "      <td>4</td>\n",
              "      <td>0</td>\n",
              "      <td>13</td>\n",
              "      <td>0</td>\n",
              "      <td>1</td>\n",
              "      <td>1200</td>\n",
              "      <td>4960</td>\n",
              "      <td>1750</td>\n",
              "      <td>63</td>\n",
              "      <td>7973</td>\n",
              "      <td>0</td>\n",
              "    </tr>\n",
              "    <tr>\n",
              "      <th>2</th>\n",
              "      <td>2</td>\n",
              "      <td>80</td>\n",
              "      <td>1</td>\n",
              "      <td>1</td>\n",
              "      <td>1</td>\n",
              "      <td>31</td>\n",
              "      <td>0</td>\n",
              "      <td>1</td>\n",
              "      <td>1000</td>\n",
              "      <td>2800</td>\n",
              "      <td>0</td>\n",
              "      <td>41</td>\n",
              "      <td>3841</td>\n",
              "      <td>0</td>\n",
              "    </tr>\n",
              "    <tr>\n",
              "      <th>3</th>\n",
              "      <td>2</td>\n",
              "      <td>51</td>\n",
              "      <td>2</td>\n",
              "      <td>1</td>\n",
              "      <td>0</td>\n",
              "      <td>12</td>\n",
              "      <td>0</td>\n",
              "      <td>1</td>\n",
              "      <td>270</td>\n",
              "      <td>1112</td>\n",
              "      <td>22</td>\n",
              "      <td>17</td>\n",
              "      <td>1421</td>\n",
              "      <td>1</td>\n",
              "    </tr>\n",
              "    <tr>\n",
              "      <th>4</th>\n",
              "      <td>4</td>\n",
              "      <td>25</td>\n",
              "      <td>1</td>\n",
              "      <td>1</td>\n",
              "      <td>0</td>\n",
              "      <td>1</td>\n",
              "      <td>1</td>\n",
              "      <td>1</td>\n",
              "      <td>0</td>\n",
              "      <td>800</td>\n",
              "      <td>25</td>\n",
              "      <td>11</td>\n",
              "      <td>836</td>\n",
              "      <td>1</td>\n",
              "    </tr>\n",
              "  </tbody>\n",
              "</table>\n",
              "</div>"
            ],
            "text/plain": [
              "   city  area  rooms  ...  fire insurance (R$)  total (R$)  best demand\n",
              "0     4    70      2  ...                   42        5618            0\n",
              "1     4   320      4  ...                   63        7973            0\n",
              "2     2    80      1  ...                   41        3841            0\n",
              "3     2    51      2  ...                   17        1421            1\n",
              "4     4    25      1  ...                   11         836            1\n",
              "\n",
              "[5 rows x 14 columns]"
            ]
          },
          "metadata": {
            "tags": []
          },
          "execution_count": 93
        }
      ]
    },
    {
      "cell_type": "code",
      "metadata": {
        "id": "jVLQkhJpYjSc",
        "colab_type": "code",
        "colab": {}
      },
      "source": [
        "dataset = df.drop(['total (R$)'], axis=1).values"
      ],
      "execution_count": 0,
      "outputs": []
    },
    {
      "cell_type": "code",
      "metadata": {
        "id": "FhA6pOGFYnDW",
        "colab_type": "code",
        "outputId": "ec18c1f7-c8b6-491d-fea0-8cf25aef85e7",
        "colab": {
          "base_uri": "https://localhost:8080/",
          "height": 136
        }
      },
      "source": [
        "dataset"
      ],
      "execution_count": 96,
      "outputs": [
        {
          "output_type": "execute_result",
          "data": {
            "text/plain": [
              "array([[   4,   70,    2, ...,  211,   42,    0],\n",
              "       [   4,  320,    4, ..., 1750,   63,    0],\n",
              "       [   2,   80,    1, ...,    0,   41,    0],\n",
              "       ...,\n",
              "       [   3,   70,    3, ...,  332,   78,    0],\n",
              "       [   3,  120,    2, ...,  279,  155,    0],\n",
              "       [   4,   80,    2, ...,  165,   22,    1]])"
            ]
          },
          "metadata": {
            "tags": []
          },
          "execution_count": 96
        }
      ]
    },
    {
      "cell_type": "code",
      "metadata": {
        "id": "DhWc8nJKYtAK",
        "colab_type": "code",
        "colab": {}
      },
      "source": [
        "X = dataset[:, 0:12] # first 11 rows \n",
        "Y = dataset[:, 12] # 12th column"
      ],
      "execution_count": 0,
      "outputs": []
    },
    {
      "cell_type": "code",
      "metadata": {
        "id": "K3k205xnYuoh",
        "colab_type": "code",
        "colab": {}
      },
      "source": [
        "from sklearn.preprocessing import StandardScaler\n",
        "\n",
        "standard_scaler = StandardScaler()\n",
        "X_scale = standard_scaler.fit_transform(X)"
      ],
      "execution_count": 0,
      "outputs": []
    },
    {
      "cell_type": "code",
      "metadata": {
        "id": "5ze73NZMY6WR",
        "colab_type": "code",
        "outputId": "9605421e-ac90-4ea8-de81-592a7553ab58",
        "colab": {
          "base_uri": "https://localhost:8080/",
          "height": 238
        }
      },
      "source": [
        "X_scale"
      ],
      "execution_count": 99,
      "outputs": [
        {
          "output_type": "execute_result",
          "data": {
            "text/plain": [
              "array([[ 0.75256677, -0.14752165, -0.432099  , ..., -0.17493534,\n",
              "        -0.05010297, -0.23658936],\n",
              "       [ 0.75256677,  0.31803478,  1.27553453, ...,  0.31209868,\n",
              "         0.44512065,  0.20305577],\n",
              "       [-0.64949698, -0.12889939, -1.28591577, ..., -0.32163234,\n",
              "        -0.11799913, -0.25752484],\n",
              "       ...,\n",
              "       [ 0.05153489, -0.14752165,  0.42171777, ...,  0.61722843,\n",
              "        -0.01116726,  0.51708801],\n",
              "       [ 0.05153489, -0.05441036, -0.432099  , ...,  2.37759236,\n",
              "        -0.02822175,  2.12912015],\n",
              "       [ 0.75256677, -0.12889939, -0.432099  , ..., -0.73238392,\n",
              "        -0.06490498, -0.655299  ]])"
            ]
          },
          "metadata": {
            "tags": []
          },
          "execution_count": 99
        }
      ]
    },
    {
      "cell_type": "code",
      "metadata": {
        "id": "JlQaL6urZG-x",
        "colab_type": "code",
        "colab": {}
      },
      "source": [
        "from sklearn.model_selection import train_test_split\n",
        "\n",
        "X_train, X_test, Y_train, Y_test = train_test_split(X_scale, Y, test_size=0.3)"
      ],
      "execution_count": 0,
      "outputs": []
    },
    {
      "cell_type": "code",
      "metadata": {
        "id": "_Ruo6kSmeVOc",
        "colab_type": "code",
        "colab": {}
      },
      "source": [
        "Y_train = Y_train.reshape(7484, 1)\n",
        "Y_test = Y_test.reshape(3208, 1)"
      ],
      "execution_count": 0,
      "outputs": []
    },
    {
      "cell_type": "markdown",
      "metadata": {
        "id": "21x_Uq9Wd6VP",
        "colab_type": "text"
      },
      "source": [
        "**Building and training the Neutral Network**"
      ]
    },
    {
      "cell_type": "code",
      "metadata": {
        "id": "f8Te7eODMjhL",
        "colab_type": "code",
        "colab": {}
      },
      "source": [
        "# make random weights more certain\n",
        "\n",
        "np.random.seed(1)"
      ],
      "execution_count": 0,
      "outputs": []
    },
    {
      "cell_type": "code",
      "metadata": {
        "id": "tLRzCr3ue5rM",
        "colab_type": "code",
        "colab": {}
      },
      "source": [
        "# define input and output values\n",
        "\n",
        "x = X_train \n",
        "y = Y_train "
      ],
      "execution_count": 0,
      "outputs": []
    },
    {
      "cell_type": "code",
      "metadata": {
        "id": "ZZuD9HkPEcGz",
        "colab_type": "code",
        "colab": {}
      },
      "source": [
        "class Neural_Network(object):\n",
        "  def __init__(self):\n",
        "    self.inputSize = 12\n",
        "    self.outputSize = 1\n",
        "    self.hiddenSize = 64\n",
        "\n",
        "    self.syn0 = np.random.randn(self.inputSize, self.hiddenSize) # (64x12) matrix from input to hidden \n",
        "    self.syn1 = np.random.randn(self.hiddenSize, self.outputSize) # (64x1) matrix from hidden to output \n",
        "\n",
        "  def sigmoid(self, x):\n",
        "    return 1/(1+np.exp(-x))\n",
        "\n",
        "  def deriv(self, x):\n",
        "    return x*(1-x)\n",
        "\n",
        "  def forward(self, x):\n",
        "    self.l0 = x # input \n",
        "    self.l1 = self.sigmoid(np.dot(self.l0, self.syn0)) # hidden \n",
        "    l2 = self.sigmoid(np.dot(self.l1, self.syn1)) # output\n",
        "    return l2\n",
        "\n",
        "  def backward(self, x, y, l2):\n",
        "    self.l2_error = y - l2 # output error\n",
        "    self.l2_delta = self.l2_error * self.deriv(l2)\n",
        "\n",
        "    self.l1_error = self.l2_delta.dot(self.syn1.T) # how much l1's values have an influence on l2's errors\n",
        "    self.l1_delta = self.l1_error * self.deriv(self.l1)\n",
        "    \n",
        "    # update weights\n",
        "    self.syn1 += self.l1.T.dot(self.l2_delta) # input --> hidden weights\n",
        "    self.syn0 += self.l0.T.dot(self.l1_delta) # hidden --> output weights\n",
        "\n",
        "  def train (self, x, y):\n",
        "    for i in range(1000):\n",
        "      l2 = self.forward(x)\n",
        "      self.backward(x, y, l2)\n",
        "    i += 1"
      ],
      "execution_count": 0,
      "outputs": []
    },
    {
      "cell_type": "markdown",
      "metadata": {
        "id": "himc0aNhdDYN",
        "colab_type": "text"
      },
      "source": [
        "**Let's test our Neutral Network**"
      ]
    },
    {
      "cell_type": "code",
      "metadata": {
        "id": "jLWbuaGic-_g",
        "colab_type": "code",
        "colab": {
          "base_uri": "https://localhost:8080/",
          "height": 561
        },
        "outputId": "b0f11950-ea85-415b-cc35-99d75f64b38a"
      },
      "source": [
        "# define testing dataset\n",
        "x = X_test\n",
        "y = Y_test\n",
        "\n",
        "#begin training\n",
        "NN.train(x, y)\n",
        "\n",
        "print('Input: \\n' + str(x)) \n",
        "print('Actual output: \\n' + str(y))\n",
        "print('Predicted output: \\n' + str(NN.forward(x)))\n",
        "print('Loss: \\n' + str(np.mean(np.square(y - NN.forward(x))))) # mean sum squared loss"
      ],
      "execution_count": 120,
      "outputs": [
        {
          "output_type": "stream",
          "text": [
            "Input: \n",
            "[[ 0.05153489 -0.09165488  0.42171777 ... -0.05757775  0.00942683\n",
            "  -0.11097646]\n",
            " [-1.35052886 -0.07303262  0.42171777 ... -0.52700813 -0.08582086\n",
            "  -0.55062159]\n",
            " [ 0.75256677  0.01262976 -0.432099   ...  1.79080439  0.04932789\n",
            "   1.54292664]\n",
            " ...\n",
            " [-2.05156074 -0.09165488 -1.28591577 ... -0.38031114 -0.11799913\n",
            "  -0.38313773]\n",
            " [ 0.75256677 -0.21269955 -1.28591577 ... -0.82040212 -0.10834565\n",
            "  -0.82278286]\n",
            " [ 0.05153489  0.25099466  1.27553453 ...  1.18934671  0.10467452\n",
            "   1.04047507]]\n",
            "Actual output: \n",
            "[[0]\n",
            " [1]\n",
            " [0]\n",
            " ...\n",
            " [1]\n",
            " [1]\n",
            " [0]]\n",
            "Predicted output: \n",
            "[[1.]\n",
            " [1.]\n",
            " [1.]\n",
            " ...\n",
            " [1.]\n",
            " [1.]\n",
            " [1.]]\n",
            "Loss: \n",
            "0.4940773067331663\n"
          ],
          "name": "stdout"
        }
      ]
    }
  ]
}
