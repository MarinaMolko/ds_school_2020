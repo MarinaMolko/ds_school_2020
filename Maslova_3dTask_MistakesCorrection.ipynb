{
  "nbformat": 4,
  "nbformat_minor": 0,
  "metadata": {
    "colab": {
      "name": "Maslova_3dTask_MistakesCorrection.ipynb",
      "provenance": [],
      "collapsed_sections": [],
      "authorship_tag": "ABX9TyMwyhyCWftVSsCUiuBNB5yX",
      "include_colab_link": true
    },
    "kernelspec": {
      "name": "python3",
      "display_name": "Python 3"
    }
  },
  "cells": [
    {
      "cell_type": "markdown",
      "metadata": {
        "id": "view-in-github",
        "colab_type": "text"
      },
      "source": [
        "<a href=\"https://colab.research.google.com/github/maslovalyudmila/ds_school_2020/blob/master/Maslova_3dTask_MistakesCorrection.ipynb\" target=\"_parent\"><img src=\"https://colab.research.google.com/assets/colab-badge.svg\" alt=\"Open In Colab\"/></a>"
      ]
    },
    {
      "cell_type": "code",
      "metadata": {
        "id": "z922r-ihYGNh",
        "colab_type": "code",
        "colab": {}
      },
      "source": [
        "# import libraries\n",
        "\n",
        "import numpy as np\n",
        "import pandas as pd\n",
        "pd.options.mode.chained_assignment = None  # default='warn'"
      ],
      "execution_count": 0,
      "outputs": []
    },
    {
      "cell_type": "code",
      "metadata": {
        "id": "DdukgBuFYISB",
        "colab_type": "code",
        "colab": {}
      },
      "source": [
        "# import our data\n",
        "\n",
        "df = pd.read_csv('/content/houses_to_rent_v2.csv')"
      ],
      "execution_count": 0,
      "outputs": []
    },
    {
      "cell_type": "markdown",
      "metadata": {
        "id": "G_VAminSeCLs",
        "colab_type": "text"
      },
      "source": [
        "**Preprocessing the data**"
      ]
    },
    {
      "cell_type": "code",
      "metadata": {
        "id": "IMnoArReYSlV",
        "colab_type": "code",
        "colab": {}
      },
      "source": [
        "# create a binary column with target variable 'best demand'\n",
        "\n",
        "df['best demand'] = df['total (R$)']\n",
        "df_1 = df['best demand']\n",
        "df_1.loc[df_1 <= 3580] = 1\n",
        "df_1.loc[df_1 > 3580] = 0"
      ],
      "execution_count": 0,
      "outputs": []
    },
    {
      "cell_type": "code",
      "metadata": {
        "id": "Kb_wPkOQYVyY",
        "colab_type": "code",
        "colab": {}
      },
      "source": [
        "# make categorical features as quantitive\n",
        "\n",
        "from sklearn.preprocessing import LabelEncoder\n",
        "\n",
        "df['animal'] = df['animal'].factorize()[0]\n",
        "df['furniture'] = df['furniture'].factorize()[0]\n",
        "\n",
        "labelencoder = LabelEncoder()\n",
        "df.city = labelencoder.fit_transform(df.city)\n",
        "df.floor = labelencoder.fit_transform(df.floor)"
      ],
      "execution_count": 0,
      "outputs": []
    },
    {
      "cell_type": "code",
      "metadata": {
        "id": "n7E1v6vEYbe8",
        "colab_type": "code",
        "colab": {}
      },
      "source": [
        "# delete hierarchy\n",
        "\n",
        "from sklearn.preprocessing import OneHotEncoder\n",
        "from sklearn.compose import ColumnTransformer\n",
        "\n",
        "transformer = ColumnTransformer(transformers=[('city', OneHotEncoder(), [0,4])])\n",
        "transformer = ColumnTransformer(transformers=[('floor', OneHotEncoder(), [0,34])])"
      ],
      "execution_count": 0,
      "outputs": []
    },
    {
      "cell_type": "code",
      "metadata": {
        "id": "-qK3R8GPYedC",
        "colab_type": "code",
        "outputId": "05afa038-e90b-4a97-8f5a-eca8d7e2e055",
        "colab": {
          "base_uri": "https://localhost:8080/",
          "height": 221
        }
      },
      "source": [
        "# read first 5 rows of data\n",
        "\n",
        "df.head()"
      ],
      "execution_count": 0,
      "outputs": [
        {
          "output_type": "execute_result",
          "data": {
            "text/html": [
              "<div>\n",
              "<style scoped>\n",
              "    .dataframe tbody tr th:only-of-type {\n",
              "        vertical-align: middle;\n",
              "    }\n",
              "\n",
              "    .dataframe tbody tr th {\n",
              "        vertical-align: top;\n",
              "    }\n",
              "\n",
              "    .dataframe thead th {\n",
              "        text-align: right;\n",
              "    }\n",
              "</style>\n",
              "<table border=\"1\" class=\"dataframe\">\n",
              "  <thead>\n",
              "    <tr style=\"text-align: right;\">\n",
              "      <th></th>\n",
              "      <th>city</th>\n",
              "      <th>area</th>\n",
              "      <th>rooms</th>\n",
              "      <th>bathroom</th>\n",
              "      <th>parking spaces</th>\n",
              "      <th>floor</th>\n",
              "      <th>animal</th>\n",
              "      <th>furniture</th>\n",
              "      <th>hoa (R$)</th>\n",
              "      <th>rent amount (R$)</th>\n",
              "      <th>property tax (R$)</th>\n",
              "      <th>fire insurance (R$)</th>\n",
              "      <th>total (R$)</th>\n",
              "      <th>best demand</th>\n",
              "    </tr>\n",
              "  </thead>\n",
              "  <tbody>\n",
              "    <tr>\n",
              "      <th>0</th>\n",
              "      <td>4</td>\n",
              "      <td>70</td>\n",
              "      <td>2</td>\n",
              "      <td>1</td>\n",
              "      <td>1</td>\n",
              "      <td>32</td>\n",
              "      <td>0</td>\n",
              "      <td>0</td>\n",
              "      <td>2065</td>\n",
              "      <td>3300</td>\n",
              "      <td>211</td>\n",
              "      <td>42</td>\n",
              "      <td>5618</td>\n",
              "      <td>0</td>\n",
              "    </tr>\n",
              "    <tr>\n",
              "      <th>1</th>\n",
              "      <td>4</td>\n",
              "      <td>320</td>\n",
              "      <td>4</td>\n",
              "      <td>4</td>\n",
              "      <td>0</td>\n",
              "      <td>13</td>\n",
              "      <td>0</td>\n",
              "      <td>1</td>\n",
              "      <td>1200</td>\n",
              "      <td>4960</td>\n",
              "      <td>1750</td>\n",
              "      <td>63</td>\n",
              "      <td>7973</td>\n",
              "      <td>0</td>\n",
              "    </tr>\n",
              "    <tr>\n",
              "      <th>2</th>\n",
              "      <td>2</td>\n",
              "      <td>80</td>\n",
              "      <td>1</td>\n",
              "      <td>1</td>\n",
              "      <td>1</td>\n",
              "      <td>31</td>\n",
              "      <td>0</td>\n",
              "      <td>1</td>\n",
              "      <td>1000</td>\n",
              "      <td>2800</td>\n",
              "      <td>0</td>\n",
              "      <td>41</td>\n",
              "      <td>3841</td>\n",
              "      <td>0</td>\n",
              "    </tr>\n",
              "    <tr>\n",
              "      <th>3</th>\n",
              "      <td>2</td>\n",
              "      <td>51</td>\n",
              "      <td>2</td>\n",
              "      <td>1</td>\n",
              "      <td>0</td>\n",
              "      <td>12</td>\n",
              "      <td>0</td>\n",
              "      <td>1</td>\n",
              "      <td>270</td>\n",
              "      <td>1112</td>\n",
              "      <td>22</td>\n",
              "      <td>17</td>\n",
              "      <td>1421</td>\n",
              "      <td>1</td>\n",
              "    </tr>\n",
              "    <tr>\n",
              "      <th>4</th>\n",
              "      <td>4</td>\n",
              "      <td>25</td>\n",
              "      <td>1</td>\n",
              "      <td>1</td>\n",
              "      <td>0</td>\n",
              "      <td>1</td>\n",
              "      <td>1</td>\n",
              "      <td>1</td>\n",
              "      <td>0</td>\n",
              "      <td>800</td>\n",
              "      <td>25</td>\n",
              "      <td>11</td>\n",
              "      <td>836</td>\n",
              "      <td>1</td>\n",
              "    </tr>\n",
              "  </tbody>\n",
              "</table>\n",
              "</div>"
            ],
            "text/plain": [
              "   city  area  rooms  ...  fire insurance (R$)  total (R$)  best demand\n",
              "0     4    70      2  ...                   42        5618            0\n",
              "1     4   320      4  ...                   63        7973            0\n",
              "2     2    80      1  ...                   41        3841            0\n",
              "3     2    51      2  ...                   17        1421            1\n",
              "4     4    25      1  ...                   11         836            1\n",
              "\n",
              "[5 rows x 14 columns]"
            ]
          },
          "metadata": {
            "tags": []
          },
          "execution_count": 149
        }
      ]
    },
    {
      "cell_type": "code",
      "metadata": {
        "id": "jVLQkhJpYjSc",
        "colab_type": "code",
        "colab": {}
      },
      "source": [
        "dataset = df.drop(['total (R$)'], axis=1).values"
      ],
      "execution_count": 0,
      "outputs": []
    },
    {
      "cell_type": "code",
      "metadata": {
        "id": "FhA6pOGFYnDW",
        "colab_type": "code",
        "outputId": "82032b11-454e-4a13-dcb5-623373bb10ad",
        "colab": {
          "base_uri": "https://localhost:8080/",
          "height": 136
        }
      },
      "source": [
        "dataset"
      ],
      "execution_count": 0,
      "outputs": [
        {
          "output_type": "execute_result",
          "data": {
            "text/plain": [
              "array([[   4,   70,    2, ...,  211,   42,    0],\n",
              "       [   4,  320,    4, ..., 1750,   63,    0],\n",
              "       [   2,   80,    1, ...,    0,   41,    0],\n",
              "       ...,\n",
              "       [   3,   70,    3, ...,  332,   78,    0],\n",
              "       [   3,  120,    2, ...,  279,  155,    0],\n",
              "       [   4,   80,    2, ...,  165,   22,    1]])"
            ]
          },
          "metadata": {
            "tags": []
          },
          "execution_count": 152
        }
      ]
    },
    {
      "cell_type": "code",
      "metadata": {
        "id": "DhWc8nJKYtAK",
        "colab_type": "code",
        "colab": {}
      },
      "source": [
        "X = dataset[:, 0:12] # first 11 rows \n",
        "Y = dataset[:, 12] # 12th column"
      ],
      "execution_count": 0,
      "outputs": []
    },
    {
      "cell_type": "code",
      "metadata": {
        "id": "K3k205xnYuoh",
        "colab_type": "code",
        "colab": {}
      },
      "source": [
        "from sklearn.preprocessing import StandardScaler\n",
        "\n",
        "standard_scaler = StandardScaler()\n",
        "X_scale = standard_scaler.fit_transform(X)"
      ],
      "execution_count": 0,
      "outputs": []
    },
    {
      "cell_type": "code",
      "metadata": {
        "id": "5ze73NZMY6WR",
        "colab_type": "code",
        "outputId": "da41a191-12e4-47dd-d675-29fb51e24537",
        "colab": {
          "base_uri": "https://localhost:8080/",
          "height": 238
        }
      },
      "source": [
        "X_scale"
      ],
      "execution_count": 0,
      "outputs": [
        {
          "output_type": "execute_result",
          "data": {
            "text/plain": [
              "array([[ 0.75256677, -0.14752165, -0.432099  , ..., -0.17493534,\n",
              "        -0.05010297, -0.23658936],\n",
              "       [ 0.75256677,  0.31803478,  1.27553453, ...,  0.31209868,\n",
              "         0.44512065,  0.20305577],\n",
              "       [-0.64949698, -0.12889939, -1.28591577, ..., -0.32163234,\n",
              "        -0.11799913, -0.25752484],\n",
              "       ...,\n",
              "       [ 0.05153489, -0.14752165,  0.42171777, ...,  0.61722843,\n",
              "        -0.01116726,  0.51708801],\n",
              "       [ 0.05153489, -0.05441036, -0.432099  , ...,  2.37759236,\n",
              "        -0.02822175,  2.12912015],\n",
              "       [ 0.75256677, -0.12889939, -0.432099  , ..., -0.73238392,\n",
              "        -0.06490498, -0.655299  ]])"
            ]
          },
          "metadata": {
            "tags": []
          },
          "execution_count": 155
        }
      ]
    },
    {
      "cell_type": "code",
      "metadata": {
        "id": "JlQaL6urZG-x",
        "colab_type": "code",
        "colab": {}
      },
      "source": [
        "from sklearn.model_selection import train_test_split\n",
        "\n",
        "X_train, X_test, Y_train, Y_test = train_test_split(X_scale, Y, test_size=0.3)"
      ],
      "execution_count": 0,
      "outputs": []
    },
    {
      "cell_type": "code",
      "metadata": {
        "id": "_Ruo6kSmeVOc",
        "colab_type": "code",
        "colab": {}
      },
      "source": [
        "Y_train = Y_train.reshape(7484, 1)\n",
        "Y_test = Y_test.reshape(3208, 1)"
      ],
      "execution_count": 0,
      "outputs": []
    },
    {
      "cell_type": "markdown",
      "metadata": {
        "id": "21x_Uq9Wd6VP",
        "colab_type": "text"
      },
      "source": [
        "**Building and training the Neural Network**"
      ]
    },
    {
      "cell_type": "code",
      "metadata": {
        "id": "f8Te7eODMjhL",
        "colab_type": "code",
        "colab": {}
      },
      "source": [
        "# make random weights more certain\n",
        "\n",
        "np.random.seed(1)"
      ],
      "execution_count": 0,
      "outputs": []
    },
    {
      "cell_type": "code",
      "metadata": {
        "id": "iyJ6SuYzpwUt",
        "colab_type": "code",
        "colab": {}
      },
      "source": [
        "from math import log"
      ],
      "execution_count": 0,
      "outputs": []
    },
    {
      "cell_type": "code",
      "metadata": {
        "id": "tLRzCr3ue5rM",
        "colab_type": "code",
        "colab": {}
      },
      "source": [
        "# define input and output values\n",
        "\n",
        "x = X_train \n",
        "y = Y_train "
      ],
      "execution_count": 0,
      "outputs": []
    },
    {
      "cell_type": "code",
      "metadata": {
        "id": "ZZuD9HkPEcGz",
        "colab_type": "code",
        "colab": {}
      },
      "source": [
        "class Neural_Network(object):\n",
        "  def __init__(self):\n",
        "    self.inputSize = 12\n",
        "    self.outputSize = 1\n",
        "    self.hiddenSize = 64\n",
        "\n",
        "    self.syn0 = np.random.randn(self.inputSize, self.hiddenSize) # (64x12) matrix from input to hidden \n",
        "    self.syn1 = np.random.randn(self.hiddenSize, self.outputSize) # (64x1) matrix from hidden to output \n",
        "\n",
        "  def sigmoid(self, x):\n",
        "    return 1/(1+np.exp(-x))\n",
        "\n",
        "  def deriv(self, x):\n",
        "    return x*(1-x)\n",
        "\n",
        "  def forward(self, x):\n",
        "    self.l0 = x # input \n",
        "    self.l1 = self.sigmoid(np.dot(self.l0, self.syn0)) # hidden \n",
        "    l2 = self.sigmoid(np.dot(self.l1, self.syn1)) # output\n",
        "    return l2\n",
        "\n",
        "  def backward(self, x, y, l2):\n",
        "    self.l2_error = y - l2 # output error\n",
        "    self.l2_delta = self.l2_error * self.deriv(l2)\n",
        "\n",
        "    self.l1_error = self.l2_delta.dot(self.syn1.T) # how much l1's values have an influence on l2's errors\n",
        "    self.l1_delta = self.l1_error * self.deriv(self.l1)\n",
        "    \n",
        "    # update weights\n",
        "    self.syn1 += self.l1.T.dot(self.l2_delta) # input --> hidden weights\n",
        "    self.syn0 += self.l0.T.dot(self.l1_delta) # hidden --> output weights\n",
        "\n",
        "  def train(self, x, y):\n",
        "    for i in range(1000):\n",
        "      l2 = self.forward(x)\n",
        "      self.backward(x, y, l2)\n",
        "    i += 1"
      ],
      "execution_count": 0,
      "outputs": []
    },
    {
      "cell_type": "markdown",
      "metadata": {
        "id": "himc0aNhdDYN",
        "colab_type": "text"
      },
      "source": [
        "**Let's train our Neural Network**"
      ]
    },
    {
      "cell_type": "code",
      "metadata": {
        "id": "jLWbuaGic-_g",
        "colab_type": "code",
        "outputId": "aa7f74b3-c54a-46ab-b2d3-99d4f77b335a",
        "colab": {
          "base_uri": "https://localhost:8080/",
          "height": 527
        }
      },
      "source": [
        "NN = Neural_Network()\n",
        "\n",
        "# define testing dataset\n",
        "x = X_test\n",
        "y = Y_test\n",
        "\n",
        "#begin training\n",
        "NN.train(x, y)\n",
        "print('Input: \\n' + str(x)) \n",
        "print('Actual output: \\n' + str(y))\n",
        "print('Predicted output: \\n' + str(NN.forward(x)))"
      ],
      "execution_count": 0,
      "outputs": [
        {
          "output_type": "stream",
          "text": [
            "Input: \n",
            "[[ 0.75256677 -0.13634829 -0.432099   ...  0.10378895 -0.04817228\n",
            "   0.01463643]\n",
            " [ 0.75256677 -0.19407729 -0.432099   ... -0.70304452 -0.10190999\n",
            "  -0.69716997]\n",
            " [ 0.75256677 -0.19966397 -1.28591577 ... -0.26295354 -0.05621685\n",
            "  -0.2993958 ]\n",
            " ...\n",
            " [ 0.75256677  0.19326566  1.27553453 ...  0.05977985 -0.11799913\n",
            "  -0.02723453]\n",
            " [-2.05156074 -0.158695    0.42171777 ... -0.73238392 -0.109311\n",
            "  -0.71810545]\n",
            " [ 0.75256677  0.12808776  0.42171777 ...  1.14533761 -0.0105237\n",
            "   0.95673314]]\n",
            "Actual output: \n",
            "[[0]\n",
            " [1]\n",
            " [0]\n",
            " ...\n",
            " [0]\n",
            " [1]\n",
            " [0]]\n",
            "Predicted output: \n",
            "[[1.]\n",
            " [1.]\n",
            " [1.]\n",
            " ...\n",
            " [1.]\n",
            " [1.]\n",
            " [1.]]\n"
          ],
          "name": "stdout"
        }
      ]
    },
    {
      "cell_type": "code",
      "metadata": {
        "id": "MVivmCGMo32T",
        "colab_type": "code",
        "outputId": "0c811ced-1fb4-4914-8c3a-8289e0c7ba13",
        "colab": {
          "base_uri": "https://localhost:8080/",
          "height": 34
        }
      },
      "source": [
        "from sklearn.metrics import log_loss\n",
        "\n",
        "l2 = NN.forward(x)\n",
        "\n",
        "log_loss(y, l2, eps=1e-15, normalize=True, sample_weight=None, labels=None)"
      ],
      "execution_count": 0,
      "outputs": [
        {
          "output_type": "execute_result",
          "data": {
            "text/plain": [
              "17.398988405119344"
            ]
          },
          "metadata": {
            "tags": []
          },
          "execution_count": 201
        }
      ]
    }
  ]
}
